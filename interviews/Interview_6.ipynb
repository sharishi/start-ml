{
 "cells": [
  {
   "cell_type": "code",
   "execution_count": 1,
   "id": "7c222643",
   "metadata": {
    "ExecuteTime": {
     "end_time": "2024-06-19T16:03:48.456141400Z",
     "start_time": "2024-06-19T16:03:48.236808400Z"
    }
   },
   "outputs": [
    {
     "data": {
      "text/plain": "    Deal_id   Deal_date First_deal_date  Secret_dwarf_info_1  \\\n0  22487461  2015-11-05      2015-08-29                  NaN   \n1  62494261  2016-08-26      2015-12-21                  3.5   \n2  34822849  2016-02-18      2015-11-11                  NaN   \n3  46893387  2016-04-30      2016-03-22                  NaN   \n4  67128275  2016-09-19      2016-07-21                  NaN   \n\n   Secret_dwarf_info_2  Secret_dwarf_info_3 First_default_date  \\\n0                  NaN                  NaN                NaN   \n1                 -2.0                  5.0         2016-07-30   \n2                  NaN                  NaN                NaN   \n3                  NaN                  NaN                NaN   \n4                  NaN                  NaN                NaN   \n\n   Successful_deals_count             Region  Tavern  Hashed_deal_detail_1  \\\n0                     0.0  Tavern_district_3       7                   2.5   \n1                     2.0  Tavern_district_4       7                   2.5   \n2                     0.0  Tavern_district_6       7                   2.5   \n3                     0.0  Tavern_district_2      13                   2.5   \n4                     0.0  Tavern_district_4      39                   2.5   \n\n   Hashed_deal_detail_2  Hashed_deal_detail_3  Hashed_deal_detail_4  \\\n0                    -3                     8                   2.5   \n1                    -3                    14                   3.5   \n2                    -3                     8                   2.5   \n3                    -2                     5                   2.5   \n4                    -3                     7                   2.5   \n\n   Hashed_deal_detail_5  Hashed_deal_detail_6   Age  Gender  Default  \n0                    -3                     5  36.0    Male        0  \n1                    -3                     5  29.0  Female        1  \n2                    -3                     5  56.0  Female        0  \n3                    -3                     5  27.0  Female        0  \n4                    -3                     5  37.0  Female        0  ",
      "text/html": "<div>\n<style scoped>\n    .dataframe tbody tr th:only-of-type {\n        vertical-align: middle;\n    }\n\n    .dataframe tbody tr th {\n        vertical-align: top;\n    }\n\n    .dataframe thead th {\n        text-align: right;\n    }\n</style>\n<table border=\"1\" class=\"dataframe\">\n  <thead>\n    <tr style=\"text-align: right;\">\n      <th></th>\n      <th>Deal_id</th>\n      <th>Deal_date</th>\n      <th>First_deal_date</th>\n      <th>Secret_dwarf_info_1</th>\n      <th>Secret_dwarf_info_2</th>\n      <th>Secret_dwarf_info_3</th>\n      <th>First_default_date</th>\n      <th>Successful_deals_count</th>\n      <th>Region</th>\n      <th>Tavern</th>\n      <th>Hashed_deal_detail_1</th>\n      <th>Hashed_deal_detail_2</th>\n      <th>Hashed_deal_detail_3</th>\n      <th>Hashed_deal_detail_4</th>\n      <th>Hashed_deal_detail_5</th>\n      <th>Hashed_deal_detail_6</th>\n      <th>Age</th>\n      <th>Gender</th>\n      <th>Default</th>\n    </tr>\n  </thead>\n  <tbody>\n    <tr>\n      <th>0</th>\n      <td>22487461</td>\n      <td>2015-11-05</td>\n      <td>2015-08-29</td>\n      <td>NaN</td>\n      <td>NaN</td>\n      <td>NaN</td>\n      <td>NaN</td>\n      <td>0.0</td>\n      <td>Tavern_district_3</td>\n      <td>7</td>\n      <td>2.5</td>\n      <td>-3</td>\n      <td>8</td>\n      <td>2.5</td>\n      <td>-3</td>\n      <td>5</td>\n      <td>36.0</td>\n      <td>Male</td>\n      <td>0</td>\n    </tr>\n    <tr>\n      <th>1</th>\n      <td>62494261</td>\n      <td>2016-08-26</td>\n      <td>2015-12-21</td>\n      <td>3.5</td>\n      <td>-2.0</td>\n      <td>5.0</td>\n      <td>2016-07-30</td>\n      <td>2.0</td>\n      <td>Tavern_district_4</td>\n      <td>7</td>\n      <td>2.5</td>\n      <td>-3</td>\n      <td>14</td>\n      <td>3.5</td>\n      <td>-3</td>\n      <td>5</td>\n      <td>29.0</td>\n      <td>Female</td>\n      <td>1</td>\n    </tr>\n    <tr>\n      <th>2</th>\n      <td>34822849</td>\n      <td>2016-02-18</td>\n      <td>2015-11-11</td>\n      <td>NaN</td>\n      <td>NaN</td>\n      <td>NaN</td>\n      <td>NaN</td>\n      <td>0.0</td>\n      <td>Tavern_district_6</td>\n      <td>7</td>\n      <td>2.5</td>\n      <td>-3</td>\n      <td>8</td>\n      <td>2.5</td>\n      <td>-3</td>\n      <td>5</td>\n      <td>56.0</td>\n      <td>Female</td>\n      <td>0</td>\n    </tr>\n    <tr>\n      <th>3</th>\n      <td>46893387</td>\n      <td>2016-04-30</td>\n      <td>2016-03-22</td>\n      <td>NaN</td>\n      <td>NaN</td>\n      <td>NaN</td>\n      <td>NaN</td>\n      <td>0.0</td>\n      <td>Tavern_district_2</td>\n      <td>13</td>\n      <td>2.5</td>\n      <td>-2</td>\n      <td>5</td>\n      <td>2.5</td>\n      <td>-3</td>\n      <td>5</td>\n      <td>27.0</td>\n      <td>Female</td>\n      <td>0</td>\n    </tr>\n    <tr>\n      <th>4</th>\n      <td>67128275</td>\n      <td>2016-09-19</td>\n      <td>2016-07-21</td>\n      <td>NaN</td>\n      <td>NaN</td>\n      <td>NaN</td>\n      <td>NaN</td>\n      <td>0.0</td>\n      <td>Tavern_district_4</td>\n      <td>39</td>\n      <td>2.5</td>\n      <td>-3</td>\n      <td>7</td>\n      <td>2.5</td>\n      <td>-3</td>\n      <td>5</td>\n      <td>37.0</td>\n      <td>Female</td>\n      <td>0</td>\n    </tr>\n  </tbody>\n</table>\n</div>"
     },
     "execution_count": 1,
     "metadata": {},
     "output_type": "execute_result"
    }
   ],
   "source": [
    "%matplotlib inline\n",
    "\n",
    "import pandas as pd\n",
    "pd.set_option('display.max_columns', None)\n",
    "\n",
    "import numpy as np\n",
    "import re\n",
    "import matplotlib.pyplot as plt\n",
    "import seaborn as sns\n",
    "import datetime\n",
    "\n",
    "\n",
    "from sklearn.feature_extraction.text import CountVectorizer\n",
    "from sklearn.model_selection import train_test_split\n",
    "from sklearn.linear_model import LogisticRegression\n",
    "from sklearn.metrics import accuracy_score\n",
    "import sklearn.metrics\n",
    "from sklearn.metrics import roc_auc_score\n",
    "\n",
    "\n",
    "import warnings\n",
    "warnings.filterwarnings('ignore')\n",
    "\n",
    "### Загрузим тренировочные и тестовые данные\n",
    "\n",
    "df_train = pd.read_csv('train.csv')\n",
    "df_test = pd.read_csv('test.csv')\n",
    "\n",
    "df_train.head()"
   ]
  },
  {
   "cell_type": "markdown",
   "id": "f7604f02",
   "metadata": {},
   "source": [
    "### Подготовка данных"
   ]
  },
  {
   "cell_type": "code",
   "execution_count": 2,
   "id": "fc4c625e",
   "metadata": {
    "ExecuteTime": {
     "end_time": "2024-06-19T16:03:48.459662700Z",
     "start_time": "2024-06-19T16:03:48.452218300Z"
    }
   },
   "outputs": [],
   "source": [
    "### Напишем функцию, заполняющую пропуски в данных\n",
    "\n",
    "def fill_missing_data(data):\n",
    "    \n",
    "### Захэшированную информацию по гномам - средним\n",
    "    for feature in [1, 2, 3]:\n",
    "        col_name = f\"Secret_dwarf_info_{feature}\"\n",
    "        mean_ = data[col_name].mean()\n",
    "        data[col_name] = data[col_name].fillna(mean_)\n",
    "        \n",
    "### Регион - самым популярным  \n",
    "    mode_region_value = data.Region.mode()[0]\n",
    "    data['Region'] = data['Region'].fillna(mode_region_value)\n",
    "    \n",
    "### Первую дату дефолта можно заполнить, например, каким-то\n",
    "### \"выбросом\" (чтобы в признаковом пространстве подальше отделить\n",
    "### объекты с пропуском в этой колонке)\n",
    "    min_date_str = (\n",
    "        data\n",
    "        .First_default_date\n",
    "        .dropna()\n",
    "        .min()\n",
    "    )\n",
    "    \n",
    "    min_date = datetime.datetime.strptime(\n",
    "        min_date_str,\n",
    "        '%Y-%m-%d'\n",
    "    )\n",
    "    \n",
    "    date_for_missing_values = datetime.datetime(2015, 5, 1, 0, 0) - \\\n",
    "                              datetime.timedelta(days=365)\n",
    "    \n",
    "    date_ = str(date_for_missing_values)[:10]\n",
    "    \n",
    "    data['First_default_date'] = (\n",
    "        data['First_default_date']\n",
    "        .fillna(date_)\n",
    "    )\n",
    "    \n",
    "### Количество успешных сделок - нулем\n",
    "    data['Successful_deals_count'] = (\n",
    "        data['Successful_deals_count']\n",
    "        .fillna(0)\n",
    "    )\n",
    "    \n",
    "    return "
   ]
  },
  {
   "cell_type": "code",
   "execution_count": 3,
   "id": "d3b27eed",
   "metadata": {
    "ExecuteTime": {
     "end_time": "2024-06-19T16:03:49.387299Z",
     "start_time": "2024-06-19T16:03:49.373601200Z"
    }
   },
   "outputs": [
    {
     "data": {
      "text/plain": "(0, 0)"
     },
     "execution_count": 3,
     "metadata": {},
     "output_type": "execute_result"
    }
   ],
   "source": [
    "### Применим функцию на тренировочных и тестовых данных\n",
    "\n",
    "fill_missing_data(df_train)\n",
    "fill_missing_data(df_test)\n",
    "\n",
    "### Убедимся, что пропусков в данных нет:\n",
    "\n",
    "df_train.isna().sum().sum(), df_test.isna().sum().sum()"
   ]
  },
  {
   "cell_type": "code",
   "execution_count": 4,
   "id": "7e1e0328",
   "metadata": {
    "ExecuteTime": {
     "end_time": "2024-06-19T16:03:50.089645300Z",
     "start_time": "2024-06-19T16:03:50.079132400Z"
    }
   },
   "outputs": [],
   "source": [
    "### Напишем функцию, генерирующую новые признаки \n",
    "### на основании базовых\n",
    "\n",
    "def create_new_features(data):\n",
    "    \n",
    "    ### Распарсим даты в год-месяц-день   \n",
    "    data[\"First_deal_date\"] = pd.to_datetime(data[\"First_deal_date\"])\n",
    "    data['First_deal_year']= data['First_deal_date'].apply(lambda x: x.year)\n",
    "    data['First_deal_month'] = data['First_deal_date'].apply(lambda x: x.month)\n",
    "    data['First_deal_day'] = data['First_deal_date'].apply(lambda x: x.day)\n",
    "\n",
    "    data[\"Deal_date\"] = pd.to_datetime(data[\"Deal_date\"])\n",
    "    data['Deal_year']= data['Deal_date'].apply(lambda x: x.year)\n",
    "    data['Deal_month'] = data['Deal_date'].apply(lambda x: x.month)\n",
    "    data['Deal_day'] = data['Deal_date'].apply(lambda x: x.day)\n",
    "\n",
    "    data[\"First_default_date\"] = pd.to_datetime(data[\"First_default_date\"])\n",
    "    data['First_default_year']= data['First_default_date'].apply(lambda x: x.year)\n",
    "    data['First_default_month'] = data['First_default_date'].apply(lambda x: x.month)\n",
    "    data['First_default_day'] = data['First_default_date'].apply(lambda x: x.day)\n",
    "    \n",
    "    ### Создадим фичу\n",
    "    ### \"время от первой сделки до первой просрочки\"\n",
    "    ### в днях\n",
    "    \n",
    "    data['Difference'] = (data['First_default_date'] - data['First_deal_date']).dt.days\n",
    "    \n",
    "    ### Дропнем старые колонки с датами\n",
    "    data.drop(\n",
    "        [\n",
    "            'First_deal_date',\n",
    "            'Deal_date',\n",
    "            'First_default_date'\n",
    "        ],\n",
    "        axis=1,\n",
    "        inplace=True\n",
    "    )\n",
    "    \n",
    "    return"
   ]
  },
  {
   "cell_type": "code",
   "execution_count": 5,
   "id": "35077130",
   "metadata": {
    "ExecuteTime": {
     "end_time": "2024-06-19T16:03:50.900792800Z",
     "start_time": "2024-06-19T16:03:50.836491600Z"
    }
   },
   "outputs": [
    {
     "data": {
      "text/plain": "    Deal_id  Secret_dwarf_info_1  Secret_dwarf_info_2  Secret_dwarf_info_3  \\\n0  22487461             3.935514            -2.299065              5.26729   \n1  62494261             3.500000            -2.000000              5.00000   \n2  34822849             3.935514            -2.299065              5.26729   \n3  46893387             3.935514            -2.299065              5.26729   \n4  67128275             3.935514            -2.299065              5.26729   \n\n   Successful_deals_count             Region  Tavern  Hashed_deal_detail_1  \\\n0                     0.0  Tavern_district_3       7                   2.5   \n1                     2.0  Tavern_district_4       7                   2.5   \n2                     0.0  Tavern_district_6       7                   2.5   \n3                     0.0  Tavern_district_2      13                   2.5   \n4                     0.0  Tavern_district_4      39                   2.5   \n\n   Hashed_deal_detail_2  Hashed_deal_detail_3  Hashed_deal_detail_4  \\\n0                    -3                     8                   2.5   \n1                    -3                    14                   3.5   \n2                    -3                     8                   2.5   \n3                    -2                     5                   2.5   \n4                    -3                     7                   2.5   \n\n   Hashed_deal_detail_5  Hashed_deal_detail_6   Age  Gender  Default  \\\n0                    -3                     5  36.0    Male        0   \n1                    -3                     5  29.0  Female        1   \n2                    -3                     5  56.0  Female        0   \n3                    -3                     5  27.0  Female        0   \n4                    -3                     5  37.0  Female        0   \n\n   First_deal_year  First_deal_month  First_deal_day  Deal_year  Deal_month  \\\n0             2015                 8              29       2015          11   \n1             2015                12              21       2016           8   \n2             2015                11              11       2016           2   \n3             2016                 3              22       2016           4   \n4             2016                 7              21       2016           9   \n\n   Deal_day  First_default_year  First_default_month  First_default_day  \\\n0         5                2014                    5                  1   \n1        26                2016                    7                 30   \n2        18                2014                    5                  1   \n3        30                2014                    5                  1   \n4        19                2014                    5                  1   \n\n   Difference  \n0        -485  \n1         222  \n2        -559  \n3        -691  \n4        -812  ",
      "text/html": "<div>\n<style scoped>\n    .dataframe tbody tr th:only-of-type {\n        vertical-align: middle;\n    }\n\n    .dataframe tbody tr th {\n        vertical-align: top;\n    }\n\n    .dataframe thead th {\n        text-align: right;\n    }\n</style>\n<table border=\"1\" class=\"dataframe\">\n  <thead>\n    <tr style=\"text-align: right;\">\n      <th></th>\n      <th>Deal_id</th>\n      <th>Secret_dwarf_info_1</th>\n      <th>Secret_dwarf_info_2</th>\n      <th>Secret_dwarf_info_3</th>\n      <th>Successful_deals_count</th>\n      <th>Region</th>\n      <th>Tavern</th>\n      <th>Hashed_deal_detail_1</th>\n      <th>Hashed_deal_detail_2</th>\n      <th>Hashed_deal_detail_3</th>\n      <th>Hashed_deal_detail_4</th>\n      <th>Hashed_deal_detail_5</th>\n      <th>Hashed_deal_detail_6</th>\n      <th>Age</th>\n      <th>Gender</th>\n      <th>Default</th>\n      <th>First_deal_year</th>\n      <th>First_deal_month</th>\n      <th>First_deal_day</th>\n      <th>Deal_year</th>\n      <th>Deal_month</th>\n      <th>Deal_day</th>\n      <th>First_default_year</th>\n      <th>First_default_month</th>\n      <th>First_default_day</th>\n      <th>Difference</th>\n    </tr>\n  </thead>\n  <tbody>\n    <tr>\n      <th>0</th>\n      <td>22487461</td>\n      <td>3.935514</td>\n      <td>-2.299065</td>\n      <td>5.26729</td>\n      <td>0.0</td>\n      <td>Tavern_district_3</td>\n      <td>7</td>\n      <td>2.5</td>\n      <td>-3</td>\n      <td>8</td>\n      <td>2.5</td>\n      <td>-3</td>\n      <td>5</td>\n      <td>36.0</td>\n      <td>Male</td>\n      <td>0</td>\n      <td>2015</td>\n      <td>8</td>\n      <td>29</td>\n      <td>2015</td>\n      <td>11</td>\n      <td>5</td>\n      <td>2014</td>\n      <td>5</td>\n      <td>1</td>\n      <td>-485</td>\n    </tr>\n    <tr>\n      <th>1</th>\n      <td>62494261</td>\n      <td>3.500000</td>\n      <td>-2.000000</td>\n      <td>5.00000</td>\n      <td>2.0</td>\n      <td>Tavern_district_4</td>\n      <td>7</td>\n      <td>2.5</td>\n      <td>-3</td>\n      <td>14</td>\n      <td>3.5</td>\n      <td>-3</td>\n      <td>5</td>\n      <td>29.0</td>\n      <td>Female</td>\n      <td>1</td>\n      <td>2015</td>\n      <td>12</td>\n      <td>21</td>\n      <td>2016</td>\n      <td>8</td>\n      <td>26</td>\n      <td>2016</td>\n      <td>7</td>\n      <td>30</td>\n      <td>222</td>\n    </tr>\n    <tr>\n      <th>2</th>\n      <td>34822849</td>\n      <td>3.935514</td>\n      <td>-2.299065</td>\n      <td>5.26729</td>\n      <td>0.0</td>\n      <td>Tavern_district_6</td>\n      <td>7</td>\n      <td>2.5</td>\n      <td>-3</td>\n      <td>8</td>\n      <td>2.5</td>\n      <td>-3</td>\n      <td>5</td>\n      <td>56.0</td>\n      <td>Female</td>\n      <td>0</td>\n      <td>2015</td>\n      <td>11</td>\n      <td>11</td>\n      <td>2016</td>\n      <td>2</td>\n      <td>18</td>\n      <td>2014</td>\n      <td>5</td>\n      <td>1</td>\n      <td>-559</td>\n    </tr>\n    <tr>\n      <th>3</th>\n      <td>46893387</td>\n      <td>3.935514</td>\n      <td>-2.299065</td>\n      <td>5.26729</td>\n      <td>0.0</td>\n      <td>Tavern_district_2</td>\n      <td>13</td>\n      <td>2.5</td>\n      <td>-2</td>\n      <td>5</td>\n      <td>2.5</td>\n      <td>-3</td>\n      <td>5</td>\n      <td>27.0</td>\n      <td>Female</td>\n      <td>0</td>\n      <td>2016</td>\n      <td>3</td>\n      <td>22</td>\n      <td>2016</td>\n      <td>4</td>\n      <td>30</td>\n      <td>2014</td>\n      <td>5</td>\n      <td>1</td>\n      <td>-691</td>\n    </tr>\n    <tr>\n      <th>4</th>\n      <td>67128275</td>\n      <td>3.935514</td>\n      <td>-2.299065</td>\n      <td>5.26729</td>\n      <td>0.0</td>\n      <td>Tavern_district_4</td>\n      <td>39</td>\n      <td>2.5</td>\n      <td>-3</td>\n      <td>7</td>\n      <td>2.5</td>\n      <td>-3</td>\n      <td>5</td>\n      <td>37.0</td>\n      <td>Female</td>\n      <td>0</td>\n      <td>2016</td>\n      <td>7</td>\n      <td>21</td>\n      <td>2016</td>\n      <td>9</td>\n      <td>19</td>\n      <td>2014</td>\n      <td>5</td>\n      <td>1</td>\n      <td>-812</td>\n    </tr>\n  </tbody>\n</table>\n</div>"
     },
     "execution_count": 5,
     "metadata": {},
     "output_type": "execute_result"
    }
   ],
   "source": [
    "### Применим функцию, убедимся в том, что\n",
    "### Все трансформировалось ровно так, \n",
    "### как мы и планировали\n",
    "\n",
    "create_new_features(df_train)\n",
    "create_new_features(df_test)\n",
    "\n",
    "df_train.head()"
   ]
  },
  {
   "cell_type": "code",
   "execution_count": 6,
   "id": "1b5831be",
   "metadata": {
    "ExecuteTime": {
     "end_time": "2024-06-19T16:03:51.601617400Z",
     "start_time": "2024-06-19T16:03:51.586432400Z"
    }
   },
   "outputs": [],
   "source": [
    "### Напишем функцию, трансформирующую object\n",
    "### колонки в вещественный/дискретный (числовой) формат\n",
    "### Трансформировать прочие числовые (но категориальные)\n",
    "### фичи не будем, так как планируем строить композиции деревьев\n",
    "### в качестве моделей\n",
    "\n",
    "\n",
    "# Посчитаем средние по тренировочному датасету\n",
    "# т.к. на тесте средние таргетов взять невозможно\n",
    "\n",
    "mean_gender = df_train.groupby('Gender')['Default'].mean()\n",
    "\n",
    "def transform_object_cols(data, means=mean_gender):\n",
    "    \n",
    "    data['Gender'] = data['Gender'].map(mean_gender)\n",
    "    \n",
    "    dummy = pd.get_dummies(data.Region, drop_first=True)    \n",
    "    data.drop('Region', axis=1, inplace=True)\n",
    "    \n",
    "    data[dummy.columns] = dummy\n",
    "    \n",
    "    return"
   ]
  },
  {
   "cell_type": "code",
   "execution_count": 7,
   "id": "14357d26",
   "metadata": {
    "ExecuteTime": {
     "end_time": "2024-06-19T16:03:52.442747100Z",
     "start_time": "2024-06-19T16:03:52.421435600Z"
    }
   },
   "outputs": [
    {
     "data": {
      "text/plain": "    Deal_id  Secret_dwarf_info_1  Secret_dwarf_info_2  Secret_dwarf_info_3  \\\n0  22487461             3.935514            -2.299065              5.26729   \n1  62494261             3.500000            -2.000000              5.00000   \n2  34822849             3.935514            -2.299065              5.26729   \n3  46893387             3.935514            -2.299065              5.26729   \n4  67128275             3.935514            -2.299065              5.26729   \n\n   Successful_deals_count  Tavern  Hashed_deal_detail_1  Hashed_deal_detail_2  \\\n0                     0.0       7                   2.5                    -3   \n1                     2.0       7                   2.5                    -3   \n2                     0.0       7                   2.5                    -3   \n3                     0.0      13                   2.5                    -2   \n4                     0.0      39                   2.5                    -3   \n\n   Hashed_deal_detail_3  Hashed_deal_detail_4  Hashed_deal_detail_5  \\\n0                     8                   2.5                    -3   \n1                    14                   3.5                    -3   \n2                     8                   2.5                    -3   \n3                     5                   2.5                    -3   \n4                     7                   2.5                    -3   \n\n   Hashed_deal_detail_6   Age    Gender  Default  First_deal_year  \\\n0                     5  36.0  0.168565        0             2015   \n1                     5  29.0  0.101502        1             2015   \n2                     5  56.0  0.101502        0             2015   \n3                     5  27.0  0.101502        0             2016   \n4                     5  37.0  0.101502        0             2016   \n\n   First_deal_month  First_deal_day  Deal_year  Deal_month  Deal_day  \\\n0                 8              29       2015          11         5   \n1                12              21       2016           8        26   \n2                11              11       2016           2        18   \n3                 3              22       2016           4        30   \n4                 7              21       2016           9        19   \n\n   First_default_year  First_default_month  First_default_day  Difference  \\\n0                2014                    5                  1        -485   \n1                2016                    7                 30         222   \n2                2014                    5                  1        -559   \n3                2014                    5                  1        -691   \n4                2014                    5                  1        -812   \n\n   Tavern_district_1  Tavern_district_2  Tavern_district_3  Tavern_district_4  \\\n0              False              False               True              False   \n1              False              False              False               True   \n2              False              False              False              False   \n3              False               True              False              False   \n4              False              False              False               True   \n\n   Tavern_district_5  Tavern_district_6  Tavern_district_7  \n0              False              False              False  \n1              False              False              False  \n2              False               True              False  \n3              False              False              False  \n4              False              False              False  ",
      "text/html": "<div>\n<style scoped>\n    .dataframe tbody tr th:only-of-type {\n        vertical-align: middle;\n    }\n\n    .dataframe tbody tr th {\n        vertical-align: top;\n    }\n\n    .dataframe thead th {\n        text-align: right;\n    }\n</style>\n<table border=\"1\" class=\"dataframe\">\n  <thead>\n    <tr style=\"text-align: right;\">\n      <th></th>\n      <th>Deal_id</th>\n      <th>Secret_dwarf_info_1</th>\n      <th>Secret_dwarf_info_2</th>\n      <th>Secret_dwarf_info_3</th>\n      <th>Successful_deals_count</th>\n      <th>Tavern</th>\n      <th>Hashed_deal_detail_1</th>\n      <th>Hashed_deal_detail_2</th>\n      <th>Hashed_deal_detail_3</th>\n      <th>Hashed_deal_detail_4</th>\n      <th>Hashed_deal_detail_5</th>\n      <th>Hashed_deal_detail_6</th>\n      <th>Age</th>\n      <th>Gender</th>\n      <th>Default</th>\n      <th>First_deal_year</th>\n      <th>First_deal_month</th>\n      <th>First_deal_day</th>\n      <th>Deal_year</th>\n      <th>Deal_month</th>\n      <th>Deal_day</th>\n      <th>First_default_year</th>\n      <th>First_default_month</th>\n      <th>First_default_day</th>\n      <th>Difference</th>\n      <th>Tavern_district_1</th>\n      <th>Tavern_district_2</th>\n      <th>Tavern_district_3</th>\n      <th>Tavern_district_4</th>\n      <th>Tavern_district_5</th>\n      <th>Tavern_district_6</th>\n      <th>Tavern_district_7</th>\n    </tr>\n  </thead>\n  <tbody>\n    <tr>\n      <th>0</th>\n      <td>22487461</td>\n      <td>3.935514</td>\n      <td>-2.299065</td>\n      <td>5.26729</td>\n      <td>0.0</td>\n      <td>7</td>\n      <td>2.5</td>\n      <td>-3</td>\n      <td>8</td>\n      <td>2.5</td>\n      <td>-3</td>\n      <td>5</td>\n      <td>36.0</td>\n      <td>0.168565</td>\n      <td>0</td>\n      <td>2015</td>\n      <td>8</td>\n      <td>29</td>\n      <td>2015</td>\n      <td>11</td>\n      <td>5</td>\n      <td>2014</td>\n      <td>5</td>\n      <td>1</td>\n      <td>-485</td>\n      <td>False</td>\n      <td>False</td>\n      <td>True</td>\n      <td>False</td>\n      <td>False</td>\n      <td>False</td>\n      <td>False</td>\n    </tr>\n    <tr>\n      <th>1</th>\n      <td>62494261</td>\n      <td>3.500000</td>\n      <td>-2.000000</td>\n      <td>5.00000</td>\n      <td>2.0</td>\n      <td>7</td>\n      <td>2.5</td>\n      <td>-3</td>\n      <td>14</td>\n      <td>3.5</td>\n      <td>-3</td>\n      <td>5</td>\n      <td>29.0</td>\n      <td>0.101502</td>\n      <td>1</td>\n      <td>2015</td>\n      <td>12</td>\n      <td>21</td>\n      <td>2016</td>\n      <td>8</td>\n      <td>26</td>\n      <td>2016</td>\n      <td>7</td>\n      <td>30</td>\n      <td>222</td>\n      <td>False</td>\n      <td>False</td>\n      <td>False</td>\n      <td>True</td>\n      <td>False</td>\n      <td>False</td>\n      <td>False</td>\n    </tr>\n    <tr>\n      <th>2</th>\n      <td>34822849</td>\n      <td>3.935514</td>\n      <td>-2.299065</td>\n      <td>5.26729</td>\n      <td>0.0</td>\n      <td>7</td>\n      <td>2.5</td>\n      <td>-3</td>\n      <td>8</td>\n      <td>2.5</td>\n      <td>-3</td>\n      <td>5</td>\n      <td>56.0</td>\n      <td>0.101502</td>\n      <td>0</td>\n      <td>2015</td>\n      <td>11</td>\n      <td>11</td>\n      <td>2016</td>\n      <td>2</td>\n      <td>18</td>\n      <td>2014</td>\n      <td>5</td>\n      <td>1</td>\n      <td>-559</td>\n      <td>False</td>\n      <td>False</td>\n      <td>False</td>\n      <td>False</td>\n      <td>False</td>\n      <td>True</td>\n      <td>False</td>\n    </tr>\n    <tr>\n      <th>3</th>\n      <td>46893387</td>\n      <td>3.935514</td>\n      <td>-2.299065</td>\n      <td>5.26729</td>\n      <td>0.0</td>\n      <td>13</td>\n      <td>2.5</td>\n      <td>-2</td>\n      <td>5</td>\n      <td>2.5</td>\n      <td>-3</td>\n      <td>5</td>\n      <td>27.0</td>\n      <td>0.101502</td>\n      <td>0</td>\n      <td>2016</td>\n      <td>3</td>\n      <td>22</td>\n      <td>2016</td>\n      <td>4</td>\n      <td>30</td>\n      <td>2014</td>\n      <td>5</td>\n      <td>1</td>\n      <td>-691</td>\n      <td>False</td>\n      <td>True</td>\n      <td>False</td>\n      <td>False</td>\n      <td>False</td>\n      <td>False</td>\n      <td>False</td>\n    </tr>\n    <tr>\n      <th>4</th>\n      <td>67128275</td>\n      <td>3.935514</td>\n      <td>-2.299065</td>\n      <td>5.26729</td>\n      <td>0.0</td>\n      <td>39</td>\n      <td>2.5</td>\n      <td>-3</td>\n      <td>7</td>\n      <td>2.5</td>\n      <td>-3</td>\n      <td>5</td>\n      <td>37.0</td>\n      <td>0.101502</td>\n      <td>0</td>\n      <td>2016</td>\n      <td>7</td>\n      <td>21</td>\n      <td>2016</td>\n      <td>9</td>\n      <td>19</td>\n      <td>2014</td>\n      <td>5</td>\n      <td>1</td>\n      <td>-812</td>\n      <td>False</td>\n      <td>False</td>\n      <td>False</td>\n      <td>True</td>\n      <td>False</td>\n      <td>False</td>\n      <td>False</td>\n    </tr>\n  </tbody>\n</table>\n</div>"
     },
     "execution_count": 7,
     "metadata": {},
     "output_type": "execute_result"
    }
   ],
   "source": [
    "### Применим функцию, убедимся в том, что\n",
    "### Все трансформировалось ровно так, \n",
    "### как мы и планировали\n",
    "\n",
    "transform_object_cols(df_train)\n",
    "transform_object_cols(df_test)\n",
    "\n",
    "df_train.head()"
   ]
  },
  {
   "cell_type": "markdown",
   "id": "df67c0a0",
   "metadata": {},
   "source": [
    "### Обучение модель"
   ]
  },
  {
   "cell_type": "code",
   "execution_count": 8,
   "id": "8ad3ee92",
   "metadata": {
    "ExecuteTime": {
     "end_time": "2024-06-19T16:03:53.701443600Z",
     "start_time": "2024-06-19T16:03:53.685553500Z"
    }
   },
   "outputs": [],
   "source": [
    "### Разделим таргеты и фичи\n",
    "\n",
    "X_train = df_train.drop(['Default', 'Deal_id'], axis=1)\n",
    "X_test = df_test.drop(['Deal_id'], axis=1)\n",
    "\n",
    "Y_train = df_train['Default']"
   ]
  },
  {
   "cell_type": "code",
   "execution_count": 9,
   "id": "e1c40757",
   "metadata": {
    "ExecuteTime": {
     "end_time": "2024-06-19T16:03:57.279306400Z",
     "start_time": "2024-06-19T16:03:56.753043800Z"
    }
   },
   "outputs": [
    {
     "data": {
      "text/plain": "RandomForestClassifier(random_state=472)",
      "text/html": "<style>#sk-container-id-1 {color: black;}#sk-container-id-1 pre{padding: 0;}#sk-container-id-1 div.sk-toggleable {background-color: white;}#sk-container-id-1 label.sk-toggleable__label {cursor: pointer;display: block;width: 100%;margin-bottom: 0;padding: 0.3em;box-sizing: border-box;text-align: center;}#sk-container-id-1 label.sk-toggleable__label-arrow:before {content: \"▸\";float: left;margin-right: 0.25em;color: #696969;}#sk-container-id-1 label.sk-toggleable__label-arrow:hover:before {color: black;}#sk-container-id-1 div.sk-estimator:hover label.sk-toggleable__label-arrow:before {color: black;}#sk-container-id-1 div.sk-toggleable__content {max-height: 0;max-width: 0;overflow: hidden;text-align: left;background-color: #f0f8ff;}#sk-container-id-1 div.sk-toggleable__content pre {margin: 0.2em;color: black;border-radius: 0.25em;background-color: #f0f8ff;}#sk-container-id-1 input.sk-toggleable__control:checked~div.sk-toggleable__content {max-height: 200px;max-width: 100%;overflow: auto;}#sk-container-id-1 input.sk-toggleable__control:checked~label.sk-toggleable__label-arrow:before {content: \"▾\";}#sk-container-id-1 div.sk-estimator input.sk-toggleable__control:checked~label.sk-toggleable__label {background-color: #d4ebff;}#sk-container-id-1 div.sk-label input.sk-toggleable__control:checked~label.sk-toggleable__label {background-color: #d4ebff;}#sk-container-id-1 input.sk-hidden--visually {border: 0;clip: rect(1px 1px 1px 1px);clip: rect(1px, 1px, 1px, 1px);height: 1px;margin: -1px;overflow: hidden;padding: 0;position: absolute;width: 1px;}#sk-container-id-1 div.sk-estimator {font-family: monospace;background-color: #f0f8ff;border: 1px dotted black;border-radius: 0.25em;box-sizing: border-box;margin-bottom: 0.5em;}#sk-container-id-1 div.sk-estimator:hover {background-color: #d4ebff;}#sk-container-id-1 div.sk-parallel-item::after {content: \"\";width: 100%;border-bottom: 1px solid gray;flex-grow: 1;}#sk-container-id-1 div.sk-label:hover label.sk-toggleable__label {background-color: #d4ebff;}#sk-container-id-1 div.sk-serial::before {content: \"\";position: absolute;border-left: 1px solid gray;box-sizing: border-box;top: 0;bottom: 0;left: 50%;z-index: 0;}#sk-container-id-1 div.sk-serial {display: flex;flex-direction: column;align-items: center;background-color: white;padding-right: 0.2em;padding-left: 0.2em;position: relative;}#sk-container-id-1 div.sk-item {position: relative;z-index: 1;}#sk-container-id-1 div.sk-parallel {display: flex;align-items: stretch;justify-content: center;background-color: white;position: relative;}#sk-container-id-1 div.sk-item::before, #sk-container-id-1 div.sk-parallel-item::before {content: \"\";position: absolute;border-left: 1px solid gray;box-sizing: border-box;top: 0;bottom: 0;left: 50%;z-index: -1;}#sk-container-id-1 div.sk-parallel-item {display: flex;flex-direction: column;z-index: 1;position: relative;background-color: white;}#sk-container-id-1 div.sk-parallel-item:first-child::after {align-self: flex-end;width: 50%;}#sk-container-id-1 div.sk-parallel-item:last-child::after {align-self: flex-start;width: 50%;}#sk-container-id-1 div.sk-parallel-item:only-child::after {width: 0;}#sk-container-id-1 div.sk-dashed-wrapped {border: 1px dashed gray;margin: 0 0.4em 0.5em 0.4em;box-sizing: border-box;padding-bottom: 0.4em;background-color: white;}#sk-container-id-1 div.sk-label label {font-family: monospace;font-weight: bold;display: inline-block;line-height: 1.2em;}#sk-container-id-1 div.sk-label-container {text-align: center;}#sk-container-id-1 div.sk-container {/* jupyter's `normalize.less` sets `[hidden] { display: none; }` but bootstrap.min.css set `[hidden] { display: none !important; }` so we also need the `!important` here to be able to override the default hidden behavior on the sphinx rendered scikit-learn.org. See: https://github.com/scikit-learn/scikit-learn/issues/21755 */display: inline-block !important;position: relative;}#sk-container-id-1 div.sk-text-repr-fallback {display: none;}</style><div id=\"sk-container-id-1\" class=\"sk-top-container\"><div class=\"sk-text-repr-fallback\"><pre>RandomForestClassifier(random_state=472)</pre><b>In a Jupyter environment, please rerun this cell to show the HTML representation or trust the notebook. <br />On GitHub, the HTML representation is unable to render, please try loading this page with nbviewer.org.</b></div><div class=\"sk-container\" hidden><div class=\"sk-item\"><div class=\"sk-estimator sk-toggleable\"><input class=\"sk-toggleable__control sk-hidden--visually\" id=\"sk-estimator-id-1\" type=\"checkbox\" checked><label for=\"sk-estimator-id-1\" class=\"sk-toggleable__label sk-toggleable__label-arrow\">RandomForestClassifier</label><div class=\"sk-toggleable__content\"><pre>RandomForestClassifier(random_state=472)</pre></div></div></div></div></div>"
     },
     "execution_count": 9,
     "metadata": {},
     "output_type": "execute_result"
    }
   ],
   "source": [
    "from sklearn.ensemble import RandomForestClassifier\n",
    "\n",
    "max_test_score = 0\n",
    "\n",
    "model = RandomForestClassifier(\n",
    "    random_state=472\n",
    ")\n",
    "\n",
    "model.fit(X_train, Y_train)"
   ]
  },
  {
   "cell_type": "markdown",
   "id": "d8469716",
   "metadata": {},
   "source": [
    "Даже такой простейшей модели хватает, чтобы побить бейзлайн задачи.\n",
    "RandomState - единственный параметр Случайного Леса, по которому производилась валидация.\n",
    "\n",
    "Можно заметно улучшить результаты, скажем, добавив больше фичей и дополнительно провалидировавшись на остальных гиперпараметрах + моделях."
   ]
  },
  {
   "cell_type": "markdown",
   "id": "25264652",
   "metadata": {},
   "source": [
    "### Загрузка данных в csv нужного формата"
   ]
  },
  {
   "cell_type": "code",
   "execution_count": 10,
   "id": "d650444d",
   "metadata": {
    "ExecuteTime": {
     "end_time": "2024-06-19T16:04:02.004186Z",
     "start_time": "2024-06-19T16:04:01.979379600Z"
    }
   },
   "outputs": [
    {
     "data": {
      "text/plain": "    Deal_id  Prediction\n0  72875713        0.10\n1  75825544        0.09\n2  81809181        0.24\n3  87083256        0.19\n4  84651519        0.29",
      "text/html": "<div>\n<style scoped>\n    .dataframe tbody tr th:only-of-type {\n        vertical-align: middle;\n    }\n\n    .dataframe tbody tr th {\n        vertical-align: top;\n    }\n\n    .dataframe thead th {\n        text-align: right;\n    }\n</style>\n<table border=\"1\" class=\"dataframe\">\n  <thead>\n    <tr style=\"text-align: right;\">\n      <th></th>\n      <th>Deal_id</th>\n      <th>Prediction</th>\n    </tr>\n  </thead>\n  <tbody>\n    <tr>\n      <th>0</th>\n      <td>72875713</td>\n      <td>0.10</td>\n    </tr>\n    <tr>\n      <th>1</th>\n      <td>75825544</td>\n      <td>0.09</td>\n    </tr>\n    <tr>\n      <th>2</th>\n      <td>81809181</td>\n      <td>0.24</td>\n    </tr>\n    <tr>\n      <th>3</th>\n      <td>87083256</td>\n      <td>0.19</td>\n    </tr>\n    <tr>\n      <th>4</th>\n      <td>84651519</td>\n      <td>0.29</td>\n    </tr>\n  </tbody>\n</table>\n</div>"
     },
     "execution_count": 10,
     "metadata": {},
     "output_type": "execute_result"
    }
   ],
   "source": [
    "submission = df_test['Deal_id'].copy().to_frame()\n",
    "submission['Prediction'] = model.predict_proba(X_test)[:, 1]\n",
    "\n",
    "submission.head()"
   ]
  },
  {
   "cell_type": "code",
   "execution_count": 11,
   "id": "6c313fd4",
   "metadata": {
    "ExecuteTime": {
     "end_time": "2024-06-19T16:04:02.918817Z",
     "start_time": "2024-06-19T16:04:02.878836700Z"
    }
   },
   "outputs": [],
   "source": [
    "submission.to_csv('submission.csv', index=False)"
   ]
  },
  {
   "cell_type": "code",
   "execution_count": null,
   "outputs": [],
   "source": [],
   "metadata": {
    "collapsed": false
   },
   "id": "30433aa74ee55c9a"
  }
 ],
 "metadata": {
  "kernelspec": {
   "display_name": "Python 3 (ipykernel)",
   "language": "python",
   "name": "python3"
  },
  "language_info": {
   "codemirror_mode": {
    "name": "ipython",
    "version": 3
   },
   "file_extension": ".py",
   "mimetype": "text/x-python",
   "name": "python",
   "nbconvert_exporter": "python",
   "pygments_lexer": "ipython3",
   "version": "3.7.9"
  }
 },
 "nbformat": 4,
 "nbformat_minor": 5
}
