{
 "cells": [
  {
   "cell_type": "markdown",
   "source": [
    "Задача о передвижении робота"
   ],
   "metadata": {
    "collapsed": false
   },
   "id": "89c3c4382b78240f"
  },
  {
   "cell_type": "code",
   "execution_count": 16,
   "id": "initial_id",
   "metadata": {
    "collapsed": true,
    "ExecuteTime": {
     "end_time": "2024-06-16T10:40:42.774500800Z",
     "start_time": "2024-06-16T10:40:42.765494900Z"
    }
   },
   "outputs": [
    {
     "name": "stdout",
     "output_type": "stream",
     "text": [
      "20\n"
     ]
    }
   ],
   "source": [
    "def solve_try(arr,i,j):\n",
    "    if arr[i][j] == 0:\n",
    "        arr[i][j]=solve(arr, i-1, j) + solve(arr,i,j-1)\n",
    "    return arr[i][j]\n",
    "def run(n):\n",
    "    arr = [[0 for _ in range(n)] for _ in range(n)]\n",
    "    for i in range (n):\n",
    "        arr[0][i]=1\n",
    "        arr[i][0]=1\n",
    "    return solve_try(arr, n-1, n-1)\n",
    "print(run(4))"
   ]
  },
  {
   "cell_type": "code",
   "execution_count": 15,
   "outputs": [
    {
     "name": "stdout",
     "output_type": "stream",
     "text": [
      "20\n"
     ]
    }
   ],
   "source": [
    "def solve(arr, i, j):\n",
    "    # if i < 0 or j < 0:  \n",
    "    #     return 0\n",
    "    if arr[i][j] != 0: \n",
    "        return arr[i][j]\n",
    "    arr[i][j] = solve(arr, i-1, j) + solve(arr, i, j-1)  \n",
    "    return arr[i][j]\n",
    "\n",
    "def run(n):\n",
    "    arr = [[0 for _ in range(n)] for _ in range(n)]\n",
    "    for i in range(n):\n",
    "        arr[0][i] = 1 \n",
    "        arr[i][0] = 1 \n",
    "    return solve(arr, n-1, n-1)\n",
    "\n",
    "print(run(4))\n"
   ],
   "metadata": {
    "collapsed": false,
    "ExecuteTime": {
     "end_time": "2024-06-16T10:40:06.957093200Z",
     "start_time": "2024-06-16T10:40:06.951083900Z"
    }
   },
   "id": "1b16e9105efedf52"
  },
  {
   "cell_type": "markdown",
   "source": [
    "Задача о кузнечике"
   ],
   "metadata": {
    "collapsed": false
   },
   "id": "203c94e6b0dca055"
  },
  {
   "cell_type": "code",
   "execution_count": 4,
   "outputs": [],
   "source": [
    "def cheapest_path(costs):\n",
    "    n = len(costs)+1\n",
    "    dp = [0]*n\n",
    "    dp[0]=0\n",
    "    dp[1]= costs[0]\n",
    "    for i in range(2,n) :\n",
    "        dp[i] = min(dp[i-1], dp[i-2]) + costs[i-1]\n",
    "    return dp[-1]"
   ],
   "metadata": {
    "collapsed": false,
    "ExecuteTime": {
     "end_time": "2024-06-16T09:02:52.094725900Z",
     "start_time": "2024-06-16T09:02:52.090718400Z"
    }
   },
   "id": "fdac212bb58271af"
  },
  {
   "cell_type": "code",
   "execution_count": 5,
   "outputs": [
    {
     "name": "stdout",
     "output_type": "stream",
     "text": [
      "14\n"
     ]
    }
   ],
   "source": [
    "print(cheapest_path([1,4,5,2,3,7,8,1]))"
   ],
   "metadata": {
    "collapsed": false,
    "ExecuteTime": {
     "end_time": "2024-06-16T09:03:10.736748Z",
     "start_time": "2024-06-16T09:03:10.725738800Z"
    }
   },
   "id": "ddb5f8b03f893a31"
  },
  {
   "cell_type": "markdown",
   "source": [
    "Быстрая сортировка"
   ],
   "metadata": {
    "collapsed": false
   },
   "id": "961050835791ade0"
  },
  {
   "cell_type": "code",
   "execution_count": 56,
   "outputs": [],
   "source": [
    "def partition(arr, low, high):\n",
    "    pivot = arr[high]\n",
    "    i = low - 1\n",
    "    for j in range(low, high):\n",
    "        if arr[j] < pivot:\n",
    "            i += 1\n",
    "            arr[i], arr[j] = arr[j], arr[i]\n",
    "    arr[high], arr[i+1] = arr[i+1], arr[high]\n",
    "    return i+1    "
   ],
   "metadata": {
    "collapsed": false,
    "ExecuteTime": {
     "end_time": "2024-06-16T12:01:57.390998900Z",
     "start_time": "2024-06-16T12:01:57.382476700Z"
    }
   },
   "id": "f97dde5a096a111b"
  },
  {
   "cell_type": "code",
   "execution_count": 155,
   "outputs": [],
   "source": [
    "def quick_sort_not_correct(arr, low=0, high=-1):\n",
    "    if high == -1:\n",
    "        high = len(arr) - 1\n",
    "    if len(arr) <= 1:\n",
    "        return arr\n",
    "    p_idx = partition(arr,low, high)\n",
    "    quick_sort_not_correct(arr, low, p_idx-1)\n",
    "    quick_sort_not_correct(arr, p_idx + 1, high)"
   ],
   "metadata": {
    "collapsed": false,
    "ExecuteTime": {
     "end_time": "2024-06-16T19:40:05.843135Z",
     "start_time": "2024-06-16T19:40:05.825131900Z"
    }
   },
   "id": "8a00d56093f06833"
  },
  {
   "cell_type": "code",
   "execution_count": 156,
   "outputs": [
    {
     "ename": "RecursionError",
     "evalue": "maximum recursion depth exceeded in comparison",
     "output_type": "error",
     "traceback": [
      "\u001B[1;31m---------------------------------------------------------------------------\u001B[0m",
      "\u001B[1;31mRecursionError\u001B[0m                            Traceback (most recent call last)",
      "Cell \u001B[1;32mIn[156], line 2\u001B[0m\n\u001B[0;32m      1\u001B[0m arr \u001B[38;5;241m=\u001B[39m [\u001B[38;5;241m0\u001B[39m,\u001B[38;5;241m2\u001B[39m,\u001B[38;5;241m-\u001B[39m\u001B[38;5;241m1\u001B[39m,\u001B[38;5;241m4\u001B[39m,\u001B[38;5;241m11\u001B[39m,\u001B[38;5;241m7\u001B[39m,\u001B[38;5;241m6\u001B[39m]\n\u001B[1;32m----> 2\u001B[0m \u001B[43mquick_sort_not_correct\u001B[49m\u001B[43m(\u001B[49m\u001B[43marr\u001B[49m\u001B[43m)\u001B[49m\n\u001B[0;32m      3\u001B[0m \u001B[38;5;28mprint\u001B[39m(arr)\n",
      "Cell \u001B[1;32mIn[155], line 7\u001B[0m, in \u001B[0;36mquick_sort_not_correct\u001B[1;34m(arr, low, high)\u001B[0m\n\u001B[0;32m      5\u001B[0m     \u001B[38;5;28;01mreturn\u001B[39;00m arr\n\u001B[0;32m      6\u001B[0m p_idx \u001B[38;5;241m=\u001B[39m partition(arr,low, high)\n\u001B[1;32m----> 7\u001B[0m \u001B[43mquick_sort_not_correct\u001B[49m\u001B[43m(\u001B[49m\u001B[43marr\u001B[49m\u001B[43m,\u001B[49m\u001B[43m \u001B[49m\u001B[43mlow\u001B[49m\u001B[43m,\u001B[49m\u001B[43m \u001B[49m\u001B[43mp_idx\u001B[49m\u001B[38;5;241;43m-\u001B[39;49m\u001B[38;5;241;43m1\u001B[39;49m\u001B[43m)\u001B[49m\n\u001B[0;32m      8\u001B[0m quick_sort_not_correct(arr, p_idx \u001B[38;5;241m+\u001B[39m \u001B[38;5;241m1\u001B[39m, high)\n",
      "Cell \u001B[1;32mIn[155], line 7\u001B[0m, in \u001B[0;36mquick_sort_not_correct\u001B[1;34m(arr, low, high)\u001B[0m\n\u001B[0;32m      5\u001B[0m     \u001B[38;5;28;01mreturn\u001B[39;00m arr\n\u001B[0;32m      6\u001B[0m p_idx \u001B[38;5;241m=\u001B[39m partition(arr,low, high)\n\u001B[1;32m----> 7\u001B[0m \u001B[43mquick_sort_not_correct\u001B[49m\u001B[43m(\u001B[49m\u001B[43marr\u001B[49m\u001B[43m,\u001B[49m\u001B[43m \u001B[49m\u001B[43mlow\u001B[49m\u001B[43m,\u001B[49m\u001B[43m \u001B[49m\u001B[43mp_idx\u001B[49m\u001B[38;5;241;43m-\u001B[39;49m\u001B[38;5;241;43m1\u001B[39;49m\u001B[43m)\u001B[49m\n\u001B[0;32m      8\u001B[0m quick_sort_not_correct(arr, p_idx \u001B[38;5;241m+\u001B[39m \u001B[38;5;241m1\u001B[39m, high)\n",
      "    \u001B[1;31m[... skipping similar frames: quick_sort_not_correct at line 7 (2969 times)]\u001B[0m\n",
      "Cell \u001B[1;32mIn[155], line 7\u001B[0m, in \u001B[0;36mquick_sort_not_correct\u001B[1;34m(arr, low, high)\u001B[0m\n\u001B[0;32m      5\u001B[0m     \u001B[38;5;28;01mreturn\u001B[39;00m arr\n\u001B[0;32m      6\u001B[0m p_idx \u001B[38;5;241m=\u001B[39m partition(arr,low, high)\n\u001B[1;32m----> 7\u001B[0m \u001B[43mquick_sort_not_correct\u001B[49m\u001B[43m(\u001B[49m\u001B[43marr\u001B[49m\u001B[43m,\u001B[49m\u001B[43m \u001B[49m\u001B[43mlow\u001B[49m\u001B[43m,\u001B[49m\u001B[43m \u001B[49m\u001B[43mp_idx\u001B[49m\u001B[38;5;241;43m-\u001B[39;49m\u001B[38;5;241;43m1\u001B[39;49m\u001B[43m)\u001B[49m\n\u001B[0;32m      8\u001B[0m quick_sort_not_correct(arr, p_idx \u001B[38;5;241m+\u001B[39m \u001B[38;5;241m1\u001B[39m, high)\n",
      "Cell \u001B[1;32mIn[155], line 6\u001B[0m, in \u001B[0;36mquick_sort_not_correct\u001B[1;34m(arr, low, high)\u001B[0m\n\u001B[0;32m      4\u001B[0m \u001B[38;5;28;01mif\u001B[39;00m \u001B[38;5;28mlen\u001B[39m(arr) \u001B[38;5;241m<\u001B[39m\u001B[38;5;241m=\u001B[39m \u001B[38;5;241m1\u001B[39m:\n\u001B[0;32m      5\u001B[0m     \u001B[38;5;28;01mreturn\u001B[39;00m arr\n\u001B[1;32m----> 6\u001B[0m p_idx \u001B[38;5;241m=\u001B[39m \u001B[43mpartition\u001B[49m\u001B[43m(\u001B[49m\u001B[43marr\u001B[49m\u001B[43m,\u001B[49m\u001B[43mlow\u001B[49m\u001B[43m,\u001B[49m\u001B[43m \u001B[49m\u001B[43mhigh\u001B[49m\u001B[43m)\u001B[49m\n\u001B[0;32m      7\u001B[0m quick_sort_not_correct(arr, low, p_idx\u001B[38;5;241m-\u001B[39m\u001B[38;5;241m1\u001B[39m)\n\u001B[0;32m      8\u001B[0m quick_sort_not_correct(arr, p_idx \u001B[38;5;241m+\u001B[39m \u001B[38;5;241m1\u001B[39m, high)\n",
      "Cell \u001B[1;32mIn[56], line 4\u001B[0m, in \u001B[0;36mpartition\u001B[1;34m(arr, low, high)\u001B[0m\n\u001B[0;32m      2\u001B[0m pivot \u001B[38;5;241m=\u001B[39m arr[high]\n\u001B[0;32m      3\u001B[0m i \u001B[38;5;241m=\u001B[39m low \u001B[38;5;241m-\u001B[39m \u001B[38;5;241m1\u001B[39m\n\u001B[1;32m----> 4\u001B[0m \u001B[38;5;28;01mfor\u001B[39;00m j \u001B[38;5;129;01min\u001B[39;00m \u001B[38;5;28mrange\u001B[39m(low, high):\n\u001B[0;32m      5\u001B[0m     \u001B[38;5;28;01mif\u001B[39;00m arr[j] \u001B[38;5;241m<\u001B[39m pivot:\n\u001B[0;32m      6\u001B[0m         i \u001B[38;5;241m+\u001B[39m\u001B[38;5;241m=\u001B[39m \u001B[38;5;241m1\u001B[39m\n",
      "\u001B[1;31mRecursionError\u001B[0m: maximum recursion depth exceeded in comparison"
     ]
    }
   ],
   "source": [
    "arr = [0,2,-1,4,11,7,6]\n",
    "quick_sort_not_correct(arr)\n",
    "print(arr)"
   ],
   "metadata": {
    "collapsed": false,
    "ExecuteTime": {
     "end_time": "2024-06-16T19:40:11.191070600Z",
     "start_time": "2024-06-16T19:40:06.583847300Z"
    }
   },
   "id": "cc23a62a617a234a"
  },
  {
   "cell_type": "code",
   "execution_count": 59,
   "outputs": [
    {
     "name": "stdout",
     "output_type": "stream",
     "text": [
      "[-1, 0, 2, 4, 6, 7, 11]\n"
     ]
    }
   ],
   "source": [
    "def quick_sort(arr, low=0, high=None):\n",
    "    if high is None:\n",
    "        high = len(arr) - 1\n",
    "    if len(arr) <= 1:\n",
    "        return arr\n",
    "    if low < high:\n",
    "        p_idx = partition(arr, low, high)\n",
    "        quick_sort(arr, low, p_idx - 1)\n",
    "        quick_sort(arr, p_idx + 1, high)\n",
    "\n",
    "arr = [0,2,-1,4,11,7,6]\n",
    "quick_sort(arr)\n",
    "print(arr)"
   ],
   "metadata": {
    "collapsed": false,
    "ExecuteTime": {
     "end_time": "2024-06-16T12:02:15.029132500Z",
     "start_time": "2024-06-16T12:02:15.017123100Z"
    }
   },
   "id": "7b031747ad206263"
  },
  {
   "cell_type": "markdown",
   "source": [
    "> Merge sort\n",
    "Используя функцию слияния двух отсортированных массивов из урока 3, напишите функцию сортировки слиянием merge_sort.\n",
    "\n",
    "Базовая идея алгоритма следующая:\n",
    "\n",
    "Если длина списка равна 0 или 1, вернуть сам список.\n",
    "Если длина списка больше 1, то разбить список пополам, вызвать от каждой части функцию merge_sort, затем слить два отсортированных массива.\n",
    "Напишите функцию merge_sort(arr), которая на вход будет принимать массив, а на выходе выдавать отсортированный массив."
   ],
   "metadata": {
    "collapsed": false
   },
   "id": "4b53dc56f1858257"
  },
  {
   "cell_type": "code",
   "execution_count": 75,
   "outputs": [],
   "source": [
    "def merge(a,b):\n",
    "    new_list = []\n",
    "    point_a, point_b = 0,0\n",
    "    while point_a < len(a) and point_b < len(b):\n",
    "        if a[point_a] < b[point_b]:\n",
    "            new_list.append(a[point_a])\n",
    "            point_a += 1\n",
    "        else:\n",
    "            new_list.append(b[point_b])\n",
    "            point_b += 1\n",
    "    if point_a < len(a):\n",
    "        new_list.extend(a[point_a:])\n",
    "    \n",
    "    if point_b < len(b):\n",
    "        new_list.extend(b[point_b:])\n",
    "\n",
    "    return new_list"
   ],
   "metadata": {
    "collapsed": false,
    "ExecuteTime": {
     "end_time": "2024-06-16T16:30:52.460029800Z",
     "start_time": "2024-06-16T16:30:52.419031300Z"
    }
   },
   "id": "f7fadc81685cd9d5"
  },
  {
   "cell_type": "code",
   "execution_count": 76,
   "outputs": [],
   "source": [
    "def merge_sort(arr):\n",
    "    if len(arr) <= 1:\n",
    "        return arr\n",
    "    mid = len(arr) // 2\n",
    "    left_half = merge_sort(arr[:mid])\n",
    "    right_half = merge_sort(arr[mid:])\n",
    "    return merge(left_half, right_half)\n",
    "    "
   ],
   "metadata": {
    "collapsed": false,
    "ExecuteTime": {
     "end_time": "2024-06-16T16:30:52.786788100Z",
     "start_time": "2024-06-16T16:30:52.755786Z"
    }
   },
   "id": "9f48dee9299a0b9e"
  },
  {
   "cell_type": "code",
   "execution_count": 85,
   "outputs": [],
   "source": [
    "def new_merge_sort(arr):\n",
    "    if len(arr) <= 1:\n",
    "        return arr\n",
    "    return merge(new_merge_sort(arr[:len(arr)//2]), new_merge_sort(arr[len(arr)//2:]))\n"
   ],
   "metadata": {
    "collapsed": false,
    "ExecuteTime": {
     "end_time": "2024-06-16T16:34:22.754680600Z",
     "start_time": "2024-06-16T16:34:22.728684Z"
    }
   },
   "id": "d31b0242a26d92d5"
  },
  {
   "cell_type": "code",
   "execution_count": 86,
   "outputs": [
    {
     "name": "stdout",
     "output_type": "stream",
     "text": [
      "[-1, 0, 2, 4, 6, 7, 11]\n"
     ]
    }
   ],
   "source": [
    "print(new_merge_sort([0,2,-1,4,11,7,6]))"
   ],
   "metadata": {
    "collapsed": false,
    "ExecuteTime": {
     "end_time": "2024-06-16T16:34:23.100849900Z",
     "start_time": "2024-06-16T16:34:23.086848700Z"
    }
   },
   "id": "89fc20341d840eb6"
  },
  {
   "cell_type": "markdown",
   "source": [
    "> Путь наименьшей длины\n",
    "Вам дано поле grid размера m x n, заполненное неотрицательными числами. Найдите путь с левого верхнего угла до правого нижнего, для которого сумма чисел будет минимальна. Двигаться по полю можно только вправо и вниз.\n",
    "\n",
    "Напишите функцию min_path(grid), которая на вход будет получать двумерный массив (список списков) и возвращать одно число — наименьшую сумму.\n"
   ],
   "metadata": {
    "collapsed": false
   },
   "id": "7d073f43a70f6c83"
  },
  {
   "cell_type": "code",
   "execution_count": null,
   "outputs": [],
   "source": [
    "def solve(arr, i, j):\n",
    "    # if i < 0 or j < 0:  \n",
    "    #     return 0\n",
    "    if arr[i][j] != 0:\n",
    "        return arr[i][j]\n",
    "    arr[i][j] = solve(arr, i - 1, j) + solve(arr, i, j - 1)\n",
    "    return arr[i][j]\n",
    "\n",
    "\n",
    "def run(n):\n",
    "    arr = [[0 for _ in range(n)] for _ in range(n)]\n",
    "    for i in range(n):\n",
    "        arr[0][i] = 1\n",
    "        arr[i][0] = 1\n",
    "    return solve(arr, n - 1, n - 1)"
   ],
   "metadata": {
    "collapsed": false
   },
   "id": "e66abcc776232654"
  },
  {
   "cell_type": "code",
   "execution_count": 110,
   "outputs": [],
   "source": [
    "def min_path(grid):\n",
    "    if grid is None or not grid:\n",
    "        return \n",
    "    for i in range(1, len(grid)):\n",
    "        grid[i][0] += grid[i - 1][0]\n",
    "    \n",
    "    for j in range(1, len(grid[0])):\n",
    "        grid[0][j] += grid[0][j - 1]\n",
    "        \n",
    "    for i in range(1,len(grid)):\n",
    "        for j in range(1,len(grid[0])):\n",
    "            grid[i][j] += min(grid[i - 1][j],grid[i][j - 1])\n",
    "    return grid[-1][-1]"
   ],
   "metadata": {
    "collapsed": false,
    "ExecuteTime": {
     "end_time": "2024-06-16T18:45:14.266576900Z",
     "start_time": "2024-06-16T18:45:14.237580800Z"
    }
   },
   "id": "f920b7903b87bc5e"
  },
  {
   "cell_type": "code",
   "execution_count": 111,
   "outputs": [
    {
     "data": {
      "text/plain": "7"
     },
     "execution_count": 111,
     "metadata": {},
     "output_type": "execute_result"
    }
   ],
   "source": [
    "min_path([[1, 3, 1], [1, 5, 1], [4, 2, 1]])"
   ],
   "metadata": {
    "collapsed": false,
    "ExecuteTime": {
     "end_time": "2024-06-16T18:45:14.585565400Z",
     "start_time": "2024-06-16T18:45:14.569547600Z"
    }
   },
   "id": "8ed4e0a9e5c5b46f"
  },
  {
   "cell_type": "markdown",
   "source": [
    "> Игра в камни\n",
    "Вам дан массив из целых чисел stones, содержащий веса камней.\n",
    "\n",
    "Вы играете в игру с камнями. За каждый ход выбираются два самых тяжелых камня, бьются друг об друга и разбиваются. Если веса камней равны, то они оба уничтожаются, в противном случае уничтожается самый легкий из них, а из другого вычитается вес самого легкого. Более формально, пусть x и y соответствуют весам камней и x <= y. Тогда исход удара будет:\n",
    "\n",
    "Оба камня уничтожены, если x == y.\n",
    "Из двух камней останется один камень весом y - x, если x < y.\n",
    "Игра длится до тех пор, пока не останется один или ноль камней.\n",
    "\n",
    "Напишите функцию last_stone(stones), которая принимает на вход массив весов камней и возвращает вес оставшегося в конце игры камня. Если к концу игры не останется камней, функция должна возвращать 0."
   ],
   "metadata": {
    "collapsed": false
   },
   "id": "878a7ca5d9c26b2c"
  },
  {
   "cell_type": "code",
   "execution_count": 148,
   "outputs": [],
   "source": [
    "def heapify(arr, n, i):\n",
    "    largest = i\n",
    "    left = 2 * i + 1\n",
    "    right = 2 * i + 2\n",
    "    if left < n and arr[left] > arr[largest]:\n",
    "        largest = left\n",
    "    if right < n and arr[right] > arr[largest]:\n",
    "        largest = right\n",
    "    if largest != i:\n",
    "        arr[i], arr[largest] = arr[largest], arr[i]\n",
    "        heapify(arr, n, largest)\n",
    "\n",
    "\n",
    "def heap_sort(arr):\n",
    "    # O(N log N)\n",
    "    for i in range(len(arr), -1, -1):\n",
    "        heapify(arr, len(arr), i)\n",
    "\n",
    "    # O(N log N)\n",
    "    for i in range(len(arr) - 1, 0, -1):\n",
    "        arr[0], arr[i] = arr[i], arr[0]\n",
    "        heapify(arr, i, 0)\n",
    "    return arr"
   ],
   "metadata": {
    "collapsed": false,
    "ExecuteTime": {
     "end_time": "2024-06-16T19:19:25.000684600Z",
     "start_time": "2024-06-16T19:19:24.971685400Z"
    }
   },
   "id": "2d8cb1e4d7acaeed"
  },
  {
   "cell_type": "markdown",
   "source": [
    "Один из вариантов решения данной задачи — использовать структуру \"куча\" и функцию  построения `heapify`. \n",
    "\n",
    "Для реализации кучи можем воспользоваться кодом с лекции, а можем взять встроенную в Python реализацию из библиотеки `heapq`.\n",
    "\n",
    "- **И всё-таки, как тут использовать кучу?**\n",
    "    - Построим max-кучу по массиву весов (максимальный элемент при этом уедет наверх, в нулевой индекс).\n",
    "    - Затем в цикле, пока в куче есть хотя бы один элемент и ее максимум не равен 0 (все камни разбиты), будем вытаскивать по два верхних элемента из нее и добавлять обратно их разницу. При добавлении будем восстанавливать свойство кучи, так будем делать для всех `*N*`элементов."
   ],
   "metadata": {
    "collapsed": false
   },
   "id": "a4a7f9f8d73406e6"
  },
  {
   "cell_type": "code",
   "execution_count": 152,
   "outputs": [],
   "source": [
    "import heapq\n",
    "\n",
    "def last_stone(stones):\n",
    "    max_heap = [-stone for stone in stones]\n",
    "    heapq.heapify(max_heap)\n",
    "    \n",
    "    while len(max_heap) > 1 and max_heap[0] != 0: \n",
    "        heaviest1 = -heapq.heappop(max_heap)\n",
    "        heaviest2 = -heapq.heappop(max_heap)\n",
    "        \n",
    "        if heaviest1 != heaviest2:\n",
    "            new_stone = heaviest1 - heaviest2\n",
    "            heapq.heappush(max_heap, -new_stone)\n",
    "\n",
    "    \n",
    "    if max_heap:\n",
    "        return -max_heap[0]\n",
    "    else:\n",
    "        return 0\n"
   ],
   "metadata": {
    "collapsed": false,
    "ExecuteTime": {
     "end_time": "2024-06-16T19:31:32.449040600Z",
     "start_time": "2024-06-16T19:31:32.414016100Z"
    }
   },
   "id": "36dea4ab75aa6e3"
  },
  {
   "cell_type": "code",
   "execution_count": 153,
   "outputs": [
    {
     "name": "stdout",
     "output_type": "stream",
     "text": [
      "Вес оставшегося камня в конце игры: 1\n"
     ]
    }
   ],
   "source": [
    "class MaxHeap:\n",
    "    def __init__(self):\n",
    "        self.heap = []\n",
    "    \n",
    "    def push(self, val):\n",
    "        self.heap.append(val)\n",
    "        self._sift_up(len(self.heap) - 1)\n",
    "    \n",
    "    def pop(self):\n",
    "        if len(self.heap) == 0:\n",
    "            return None\n",
    "        if len(self.heap) == 1:\n",
    "            return self.heap.pop()\n",
    "        \n",
    "        max_val = self.heap[0]\n",
    "        self.heap[0] = self.heap.pop()\n",
    "        self._sift_down(0)\n",
    "        return max_val\n",
    "    \n",
    "    def _sift_up(self, idx):\n",
    "        parent = (idx - 1) // 2\n",
    "        while idx > 0 and self.heap[idx] > self.heap[parent]:\n",
    "            self.heap[idx], self.heap[parent] = self.heap[parent], self.heap[idx]\n",
    "            idx = parent\n",
    "            parent = (idx - 1) // 2\n",
    "    \n",
    "    def _sift_down(self, idx):\n",
    "        left_child = 2 * idx + 1\n",
    "        right_child = 2 * idx + 2\n",
    "        largest = idx\n",
    "        \n",
    "        if left_child < len(self.heap) and self.heap[left_child] > self.heap[largest]:\n",
    "            largest = left_child\n",
    "        \n",
    "        if right_child < len(self.heap) and self.heap[right_child] > self.heap[largest]:\n",
    "            largest = right_child\n",
    "        \n",
    "        if largest != idx:\n",
    "            self.heap[idx], self.heap[largest] = self.heap[largest], self.heap[idx]\n",
    "            self._sift_down(largest)\n",
    "    \n",
    "    def __len__(self):\n",
    "        return len(self.heap)\n",
    "\n",
    "def last_stone(stones):\n",
    "    max_heap = MaxHeap()\n",
    "    \n",
    "    # Заполняем max-кучу начальными значениями\n",
    "    for stone in stones:\n",
    "        max_heap.push(stone)\n",
    "    \n",
    "    while len(max_heap) > 1:\n",
    "        heaviest1 = max_heap.pop()\n",
    "        heaviest2 = max_heap.pop()\n",
    "        \n",
    "        if heaviest1 != heaviest2:\n",
    "            max_heap.push(heaviest1 - heaviest2)\n",
    "    \n",
    "    if len(max_heap) == 0:\n",
    "        return 0\n",
    "    else:\n",
    "        return max_heap.pop()\n",
    "\n",
    "# Пример использования:\n",
    "stones = [2, 7, 4, 1, 8, 1]\n",
    "result = last_stone(stones)\n",
    "print(\"Вес оставшегося камня в конце игры:\", result)\n"
   ],
   "metadata": {
    "collapsed": false,
    "ExecuteTime": {
     "end_time": "2024-06-16T19:33:13.104001900Z",
     "start_time": "2024-06-16T19:33:13.072318600Z"
    }
   },
   "id": "a3b27a284d463ff1"
  },
  {
   "cell_type": "code",
   "execution_count": 154,
   "outputs": [
    {
     "name": "stdout",
     "output_type": "stream",
     "text": [
      "Минимальная разница в весе между группами камней: 1\n"
     ]
    }
   ],
   "source": [
    "def heapify_max(arr):\n",
    "    n = len(arr)\n",
    "    for i in range(n // 2 - 1, -1, -1):\n",
    "        max_heapify(arr, n, i)\n",
    "\n",
    "def max_heapify(arr, n, i):\n",
    "    largest = i\n",
    "    left = 2 * i + 1\n",
    "    right = 2 * i + 2\n",
    "\n",
    "    if left < n and arr[left] > arr[largest]:\n",
    "        largest = left\n",
    "\n",
    "    if right < n and arr[right] > arr[largest]:\n",
    "        largest = right\n",
    "\n",
    "    if largest != i:\n",
    "        arr[i], arr[largest] = arr[largest], arr[i]\n",
    "        max_heapify(arr, n, largest)\n",
    "\n",
    "def min_stone_weight_difference(stones):\n",
    "    if len(stones) < 2:\n",
    "        return 0\n",
    "    \n",
    "    # Строим max-кучу из списка весов камней\n",
    "    heapify_max(stones)\n",
    "    \n",
    "    # Вычисляем минимальную разницу веса между двумя группами\n",
    "    while len(stones) > 1:\n",
    "        max1 = stones[0]  # максимальный элемент\n",
    "        stones[0] = stones[len(stones) - 1]\n",
    "        stones.pop()\n",
    "        max_heapify(stones, 0, len(stones))\n",
    "        \n",
    "        max2 = stones[0]  # следующий максимальный элемент\n",
    "        stones[0] = stones[len(stones) - 1]\n",
    "        stones.pop()\n",
    "        max_heapify(stones, 0, len(stones))\n",
    "        \n",
    "        diff = max1 - max2\n",
    "        if diff > 0:\n",
    "            stones.append(diff)\n",
    "            max_heapify(stones, 0, len(stones))\n",
    "    \n",
    "    # Остаток в куче будет минимальной разницей в весе между группами\n",
    "    return stones[0]\n",
    "\n",
    "# Пример использования:\n",
    "stones = [7, 4, 10, 5, 6]\n",
    "min_difference = min_stone_weight_difference(stones)\n",
    "print(\"Минимальная разница в весе между группами камней:\", min_difference)\n"
   ],
   "metadata": {
    "collapsed": false,
    "ExecuteTime": {
     "end_time": "2024-06-16T19:33:43.660843200Z",
     "start_time": "2024-06-16T19:33:43.618805400Z"
    }
   },
   "id": "ce7328590b2f69da"
  },
  {
   "cell_type": "markdown",
   "source": [
    "В этой задаче мы познакомимся с алгоритмом QuickSelect.\n",
    "\n",
    "Вам дан массив array и число k. Найдите в этом массиве k-ый наибольший элемент, не используя сортировки.\n",
    "\n",
    "Напишите функцию kth_largest(array, k), которая на вход будет принимать массив и число k и будет возвращать k-ый наибольший элемент."
   ],
   "metadata": {
    "collapsed": false
   },
   "id": "fe7375cf767dbd84"
  },
  {
   "cell_type": "code",
   "execution_count": 162,
   "outputs": [],
   "source": [
    "def partition_try(arr, low, high):\n",
    "    pivot = arr[high]\n",
    "    i = low - 1\n",
    "    for j in range(low, high):\n",
    "        if arr[j] >= pivot: \n",
    "            i += 1\n",
    "            arr[i], arr[j] = arr[j], arr[i]\n",
    "    arr[high], arr[i+1] = arr[i+1], arr[high]\n",
    "    return i+1"
   ],
   "metadata": {
    "collapsed": false,
    "ExecuteTime": {
     "end_time": "2024-06-16T19:54:37.363363Z",
     "start_time": "2024-06-16T19:54:37.325348Z"
    }
   },
   "id": "77f31c1d54debea8"
  },
  {
   "cell_type": "code",
   "execution_count": 163,
   "outputs": [
    {
     "name": "stdout",
     "output_type": "stream",
     "text": [
      "2-й наибольший элемент: 5\n"
     ]
    }
   ],
   "source": [
    "def kth_largest(array,k):\n",
    "    if k < 1 or k > len(array):\n",
    "        return \n",
    "    low = 0\n",
    "    high = len(array) - 1\n",
    "    while True:\n",
    "        m = partition_try(array,low,high)\n",
    "        if m + 1 == k:\n",
    "            return array[m]\n",
    "        if m + 1 > k:\n",
    "            high = m - 1\n",
    "        else:\n",
    "            low = m + 1\n",
    "arr = [3, 2, 1, 5, 6, 4]\n",
    "k = 2\n",
    "print(f\"{k}-й наибольший элемент: {kth_largest(arr, k)}\")"
   ],
   "metadata": {
    "collapsed": false,
    "ExecuteTime": {
     "end_time": "2024-06-16T19:54:38.094811800Z",
     "start_time": "2024-06-16T19:54:38.075777500Z"
    }
   },
   "id": "c59378dc16209ed8"
  },
  {
   "cell_type": "code",
   "execution_count": null,
   "outputs": [],
   "source": [],
   "metadata": {
    "collapsed": false
   },
   "id": "4296837d2e1ca54d"
  },
  {
   "cell_type": "code",
   "execution_count": 157,
   "outputs": [
    {
     "name": "stdout",
     "output_type": "stream",
     "text": [
      "K-th smallest element is 6\n"
     ]
    }
   ],
   "source": [
    "# Python3 program of Quick Select \n",
    "\n",
    "# Standard partition process of QuickSort(). \n",
    "# It considers the last element as pivot \n",
    "# and moves all smaller element to left of \n",
    "# it and greater elements to right \n",
    "def partition(arr, l, r): \n",
    "\t\n",
    "\tx = arr[r] \n",
    "\ti = l \n",
    "\tfor j in range(l, r): \n",
    "\t\t\n",
    "\t\tif arr[j] <= x: \n",
    "\t\t\tarr[i], arr[j] = arr[j], arr[i] \n",
    "\t\t\ti += 1\n",
    "\t\t\t\n",
    "\tarr[i], arr[r] = arr[r], arr[i] \n",
    "\treturn i \n",
    "\n",
    "# finds the kth position (of the sorted array) \n",
    "# in a given unsorted array i.e this function \n",
    "# can be used to find both kth largest and \n",
    "# kth smallest element in the array. \n",
    "# ASSUMPTION: all elements in arr[] are distinct \n",
    "def kthSmallest(arr, l, r, k): \n",
    "\n",
    "\t# if k is smaller than number of \n",
    "\t# elements in array \n",
    "\tif (k > 0 and k <= r - l + 1): \n",
    "\n",
    "\t\t# Partition the array around last \n",
    "\t\t# element and get position of pivot \n",
    "\t\t# element in sorted array \n",
    "\t\tindex = partition(arr, l, r) \n",
    "\n",
    "\t\t# if position is same as k \n",
    "\t\tif (index - l == k - 1): \n",
    "\t\t\treturn arr[index] \n",
    "\n",
    "\t\t# If position is more, recur \n",
    "\t\t# for left subarray \n",
    "\t\tif (index - l > k - 1): \n",
    "\t\t\treturn kthSmallest(arr, l, index - 1, k) \n",
    "\n",
    "\t\t# Else recur for right subarray \n",
    "\t\treturn kthSmallest(arr, index + 1, r, \n",
    "\t\t\t\t\t\t\tk - index + l - 1) \n",
    "\tprint(\"Index out of bound\") \n",
    "\n",
    "# Driver Code \n",
    "arr = [ 10, 4, 5, 8, 6, 11, 26 ] \n",
    "n = len(arr) \n",
    "k = 3\n",
    "print(\"K-th smallest element is \", end = \"\") \n",
    "print(kthSmallest(arr, 0, n - 1, k)) \n",
    "\n"
   ],
   "metadata": {
    "collapsed": false,
    "ExecuteTime": {
     "end_time": "2024-06-16T19:43:38.210523100Z",
     "start_time": "2024-06-16T19:43:38.106523600Z"
    }
   },
   "id": "6bc234e753af939a"
  },
  {
   "cell_type": "code",
   "execution_count": null,
   "outputs": [],
   "source": [],
   "metadata": {
    "collapsed": false
   },
   "id": "a9b3b6dc68da3693"
  }
 ],
 "metadata": {
  "kernelspec": {
   "display_name": "Python 3",
   "language": "python",
   "name": "python3"
  },
  "language_info": {
   "codemirror_mode": {
    "name": "ipython",
    "version": 2
   },
   "file_extension": ".py",
   "mimetype": "text/x-python",
   "name": "python",
   "nbconvert_exporter": "python",
   "pygments_lexer": "ipython2",
   "version": "2.7.6"
  }
 },
 "nbformat": 4,
 "nbformat_minor": 5
}
