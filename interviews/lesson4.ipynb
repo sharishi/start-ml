{
 "cells": [
  {
   "cell_type": "code",
   "execution_count": 9,
   "outputs": [],
   "source": [
    "def bfs(lab, start_idx, color):\n",
    "    # (2,5)\n",
    "    stack = [start_idx]\n",
    "    while stack:\n",
    "        curr = stack[0]\n",
    "        stack = stack[1:]\n",
    "        lab[curr[0]][curr[1]] = color\n",
    "        x, y = curr[0], curr[1]\n",
    "        \n",
    "        if x - 1 >= 0 and lab[x - 1][y] == '.':\n",
    "            stack.append((x-1,y))\n",
    "        if x + 1 < len(lab) and lab[x + 1][y] == '.':\n",
    "            stack.append((x+1,y)) \n",
    "        if y - 1 >= 0 and lab[x][y - 1] == '.':\n",
    "            stack.append((x,y - 1))\n",
    "        if y + 1 < len(lab[0]) and lab[x][y+1] == '.':\n",
    "            stack.append((x,y+1)) "
   ],
   "metadata": {
    "collapsed": false,
    "ExecuteTime": {
     "end_time": "2024-06-08T16:34:52.957778300Z",
     "start_time": "2024-06-08T16:34:52.945749600Z"
    }
   },
   "id": "e47d527efc897f5e"
  },
  {
   "cell_type": "code",
   "execution_count": 10,
   "id": "initial_id",
   "metadata": {
    "collapsed": true,
    "ExecuteTime": {
     "end_time": "2024-06-08T16:34:53.328148900Z",
     "start_time": "2024-06-08T16:34:53.319630400Z"
    }
   },
   "outputs": [],
   "source": [
    "#1*****2\n",
    "#111***2\n",
    "#**1*222\n",
    "#***3***\n",
    "#3333**4\n",
    "#33**444\n",
    "\n",
    "def solution(lab):\n",
    "    # {1: [(0,0),(1,0), (1,1), (1,2),(2,2)]}\n",
    "    current_comp = 1\n",
    "    if not lab:\n",
    "        return 0\n",
    "    for i in range(len(lab)):\n",
    "        for j in range(len(lab[0])):\n",
    "            if  lab[i][j] == '.':\n",
    "                bfs(lab, (i,j), current_comp)\n",
    "                current_comp += 1   \n",
    "    for s in lab:\n",
    "        for i in s:\n",
    "            print(i,end=\" \")\n",
    "        print('\\n', end='')\n",
    "    return current_comp - 1"
   ]
  },
  {
   "cell_type": "code",
   "execution_count": 11,
   "outputs": [
    {
     "name": "stdout",
     "output_type": "stream",
     "text": [
      "1 * * 2 \n",
      "1 1 * 2 \n",
      "1 * * * \n",
      "* 3 3 * \n"
     ]
    },
    {
     "data": {
      "text/plain": "3"
     },
     "execution_count": 11,
     "metadata": {},
     "output_type": "execute_result"
    }
   ],
   "source": [
    "lab = [\n",
    "    ['.', '*', '*', '.'],\n",
    "    ['.','.','*', '.'],\n",
    "    ['.','*','*','*'], \n",
    "    ['*','.','.','*']\n",
    "]\n",
    "solution(lab)"
   ],
   "metadata": {
    "collapsed": false,
    "ExecuteTime": {
     "end_time": "2024-06-08T16:34:53.809Z",
     "start_time": "2024-06-08T16:34:53.798869300Z"
    }
   },
   "id": "5d21c62fecd036ff"
  },
  {
   "cell_type": "markdown",
   "source": [
    "Дерево"
   ],
   "metadata": {
    "collapsed": false
   },
   "id": "1f7b3be37d05bc40"
  },
  {
   "cell_type": "code",
   "execution_count": 13,
   "outputs": [],
   "source": [
    "class Node:\n",
    "    def __init__(self, value, left=None, right=None):\n",
    "        self.value = value\n",
    "        self.left = left\n",
    "        self.right = right    "
   ],
   "metadata": {
    "collapsed": false,
    "ExecuteTime": {
     "end_time": "2024-06-08T18:31:38.607175200Z",
     "start_time": "2024-06-08T18:31:38.603175200Z"
    }
   },
   "id": "c087a7c4751661ce"
  },
  {
   "cell_type": "code",
   "execution_count": 14,
   "outputs": [],
   "source": [
    "res = []\n",
    "\n",
    "def inorder(root:Node):\n",
    "    if root is not None:\n",
    "        inorder(root.left)\n",
    "        res.append(root.value)\n",
    "        inorder(root.right)"
   ],
   "metadata": {
    "collapsed": false,
    "ExecuteTime": {
     "end_time": "2024-06-08T18:31:38.974411800Z",
     "start_time": "2024-06-08T18:31:38.960414600Z"
    }
   },
   "id": "5b2006b48c3a2d89"
  },
  {
   "cell_type": "markdown",
   "source": [
    "Восстанавливаем свойство кучи"
   ],
   "metadata": {
    "collapsed": false
   },
   "id": "5a81b70cdcdc1361"
  },
  {
   "cell_type": "code",
   "execution_count": 1,
   "outputs": [],
   "source": [
    "def heapify(arr, n, i):\n",
    "    largest = i\n",
    "    left = 2 * i + 1\n",
    "    right = 2 * i + 2\n",
    "    if left < n and arr[left] > arr[largest]:\n",
    "        largest = left\n",
    "    if right < n and arr[right] > arr[largest]:\n",
    "        largest = right\n",
    "    if largest != i:\n",
    "        arr[i], arr[largest] = arr[largest], arr[i]\n",
    "        heapify(arr, n, largest)\n",
    "\n",
    "\n",
    "def heap_sort(arr):\n",
    "    # O(N log N)\n",
    "    for i in range(len(arr), -1, -1):\n",
    "        heapify(arr, len(arr), i)\n",
    "\n",
    "    # O(N log N)\n",
    "    for i in range(len(arr) - 1, 0, -1):\n",
    "        arr[0], arr[i] = arr[i], arr[0]\n",
    "        heapify(arr, i, 0)\n",
    "    return arr"
   ],
   "metadata": {
    "collapsed": false,
    "ExecuteTime": {
     "end_time": "2024-06-16T19:19:45.641915500Z",
     "start_time": "2024-06-16T19:19:45.636556900Z"
    }
   },
   "id": "91c11f466d2dc303"
  },
  {
   "cell_type": "markdown",
   "source": [
    " Проверить деревья на равенство\n",
    "Вам даны два бинарных дерева head_1, head_2. Необходимо проверить, являются ли эти два дерева одинаковыми: имеют одинаковую структуру и одинаковые элементы на соответствующих узлах."
   ],
   "metadata": {
    "collapsed": false
   },
   "id": "7c3e6a0b01c89336"
  },
  {
   "cell_type": "code",
   "execution_count": 28,
   "outputs": [],
   "source": [
    "class Node:\n",
    "    def __init__(self, val=0, left=None, right=None):\n",
    "        self.val = val\n",
    "        self.left = left\n",
    "        self.right = right"
   ],
   "metadata": {
    "collapsed": false,
    "ExecuteTime": {
     "end_time": "2024-06-08T19:42:47.326686300Z",
     "start_time": "2024-06-08T19:42:47.311683800Z"
    }
   },
   "id": "7393fd4420e962ac"
  },
  {
   "cell_type": "code",
   "execution_count": null,
   "outputs": [],
   "source": [
    "# def are_trees_equal(head_1, head_2):\n",
    "#     if head_1.left != head_2.left and head_1.right != head_2.right:\n",
    "#         return False\n",
    "#     if head_1.val == head_2.val:\n",
    "#         are_trees_equal(head_1.left, head_2.left)\n",
    "#         are_trees_equal(head_1.right, head_2.right)\n",
    "#     return True"
   ],
   "metadata": {
    "collapsed": false
   },
   "id": "722f67de1d25b56"
  },
  {
   "cell_type": "code",
   "execution_count": null,
   "outputs": [],
   "source": [
    "def are_trees_equal(head_1, head_2):\n",
    "    if head_1 is None and head_2 is None:\n",
    "        return True\n",
    "    if head_1 is None or head_2 is None:\n",
    "        return False\n",
    "    if head_1.val != head_2.val:\n",
    "        return False\n",
    "    return are_trees_equal(head_1.left, head_2.left) and are_trees_equal(head_1.right, head_2.right)"
   ],
   "metadata": {
    "collapsed": false
   },
   "id": "692fec7008d5e00d"
  },
  {
   "cell_type": "markdown",
   "source": [
    "> Развернуть дерево\n",
    "Вам дана вершина бинарного дерева head. Необходимо развернуть дерево: поменять местами левого и правого потомка для каждого из потомков."
   ],
   "metadata": {
    "collapsed": false
   },
   "id": "40436d737fabbe6d"
  },
  {
   "cell_type": "markdown",
   "source": [
    "Напишите функцию invert_tree(head), которая на вход будет принимать вершину бинарного дерева, а на выходе будет возвращать вершину развернутого дерева."
   ],
   "metadata": {
    "collapsed": false
   },
   "id": "d457310902c83f25"
  },
  {
   "cell_type": "code",
   "execution_count": 29,
   "outputs": [],
   "source": [
    "def invert_tree(head):\n",
    "    if head is None:\n",
    "        return \n",
    "    head.left, head.right = head.right, head.left\n",
    "    \n",
    "    invert_tree(head.left)\n",
    "    invert_tree(head.right)\n",
    "    \n",
    "    return head"
   ],
   "metadata": {
    "collapsed": false,
    "ExecuteTime": {
     "end_time": "2024-06-08T21:48:16.407090100Z",
     "start_time": "2024-06-08T21:48:16.405572600Z"
    }
   },
   "id": "62923002d5514fa1"
  },
  {
   "cell_type": "markdown",
   "source": [
    "> Окруженные острова\n",
    "Вам дан массив board размера m x n, содержащий 'X' (вода) и 'O' (остров). Ваша задача — затопить все острова, окруженные с четырех сторон водой (т.е. все 'O', окруженные с четырех сторон 'X'). Все буквы X и O английские. Чтобы затопить остров, нужно все его 'O' превратить в 'X'."
   ],
   "metadata": {
    "collapsed": false
   },
   "id": "b07b1389a068f2ba"
  },
  {
   "cell_type": "markdown",
   "source": [
    "Во втором примере затопления не произошло потому, что 'O' в центре соединены с 'O' с краю — и следовательно, не окружены водой.\n",
    "\n",
    "Напишите функцию drown(board), принимающую на вход поле и возвращающее поле после затопления."
   ],
   "metadata": {
    "collapsed": false
   },
   "id": "a5d1da0251b19530"
  },
  {
   "cell_type": "code",
   "execution_count": 34,
   "outputs": [],
   "source": [
    "def drown(board):\n",
    "    for i in range(len(board)):\n",
    "        for j in range(len(board[0])):\n",
    "            if board[i][j] == 'O':\n",
    "                dfs(board, i,j)\n",
    "    return board\n",
    "                "
   ],
   "metadata": {
    "collapsed": false,
    "ExecuteTime": {
     "end_time": "2024-06-10T16:06:18.737599100Z",
     "start_time": "2024-06-10T16:06:18.731087500Z"
    }
   },
   "id": "bc03bbc5be984596"
  },
  {
   "cell_type": "code",
   "execution_count": null,
   "outputs": [],
   "source": [
    "def dfs(board, i, j):\n",
    "    if i < 0 or j < 0 or i >= len(board) or j >= len(board[0]) or board[i][j] != 'O':\n",
    "        return\n",
    "    board[i][j] = 'X'\n",
    "    dfs(board, i-1, j)  \n",
    "    dfs(board, i+1, j)  \n",
    "    dfs(board, i, j-1)  \n",
    "    dfs(board, i, j+1)  "
   ],
   "metadata": {
    "collapsed": false
   },
   "id": "286dad1f5128553"
  },
  {
   "cell_type": "code",
   "execution_count": null,
   "outputs": [],
   "source": [
    "def dfs2(board, i, j):\n",
    "    if i < 0 or j < 0 or i >= len(board) or j >= len(board[0]) or board[i][j] != 'O':\n",
    "        return\n",
    "    board[i][j] = 'T'  \n",
    "    dfs(board, i - 1, j) \n",
    "    dfs(board, i + 1, j) \n",
    "    dfs(board, i, j - 1) \n",
    "    dfs(board, i, j + 1)  \n",
    "\n",
    "\n",
    "def drown2(board):\n",
    "    if not board or not board[0]:\n",
    "        return board\n",
    "\n",
    "    m, n = len(board), len(board[0])\n",
    "\n",
    "    for i in range(m):\n",
    "        if board[i][0] == 'O':\n",
    "            dfs(board, i, 0)\n",
    "        if board[i][n - 1] == 'O':\n",
    "            dfs(board, i, n - 1)\n",
    "    for j in range(n):\n",
    "        if board[0][j] == 'O':\n",
    "            dfs(board, 0, j)\n",
    "        if board[m - 1][j] == 'O':\n",
    "            dfs(board, m - 1, j)\n",
    "\n",
    "    for i in range(m):\n",
    "        for j in range(n):\n",
    "            if board[i][j] == 'O':\n",
    "                board[i][j] = 'X'\n",
    "            elif board[i][j] == 'T':\n",
    "                board[i][j] = 'O'\n",
    "\n",
    "    return board"
   ],
   "metadata": {
    "collapsed": false
   },
   "id": "b67e8717d75fd45"
  },
  {
   "cell_type": "markdown",
   "source": [
    "> K-ый наименьший элемент\n",
    "Вам дан корень head бинарного дерева поиска (BST) и число k. Необходимо найти k-ый (нумерация с единицы) наименьший элемент в этом дереве поиска."
   ],
   "metadata": {
    "collapsed": false
   },
   "id": "984fc8d300a003f"
  },
  {
   "cell_type": "code",
   "execution_count": 38,
   "outputs": [],
   "source": [
    "class Node:\n",
    "    def __init__(self, val=0, left=None, right=None):\n",
    "        self.val = val\n",
    "        self.left = left\n",
    "        self.right = right"
   ],
   "metadata": {
    "collapsed": false,
    "ExecuteTime": {
     "end_time": "2024-06-10T17:04:00.461567300Z",
     "start_time": "2024-06-10T17:04:00.448561600Z"
    }
   },
   "id": "174a1dce619abab6"
  },
  {
   "cell_type": "code",
   "execution_count": 45,
   "outputs": [],
   "source": [
    "res = []\n",
    "def inorder(root:Node):\n",
    "    if root is not None:\n",
    "        inorder(root.left)\n",
    "        res.append(root.value)\n",
    "        inorder(root.right)\n",
    "    return res"
   ],
   "metadata": {
    "collapsed": false,
    "ExecuteTime": {
     "end_time": "2024-06-10T17:08:59.584218300Z",
     "start_time": "2024-06-10T17:08:59.572698Z"
    }
   },
   "id": "3b756f7b95923dd3"
  },
  {
   "cell_type": "code",
   "execution_count": 46,
   "outputs": [],
   "source": [
    "def kth_smallest(head, k):\n",
    "    return inorder(head)[k - 1]\n"
   ],
   "metadata": {
    "collapsed": false,
    "ExecuteTime": {
     "end_time": "2024-06-10T17:08:59.992155400Z",
     "start_time": "2024-06-10T17:08:59.991159900Z"
    }
   },
   "id": "f5183da4f2f30916"
  },
  {
   "cell_type": "code",
   "execution_count": null,
   "outputs": [],
   "source": [],
   "metadata": {
    "collapsed": false
   },
   "id": "79fdb2d4d10e18b8"
  }
 ],
 "metadata": {
  "kernelspec": {
   "display_name": "Python 3",
   "language": "python",
   "name": "python3"
  },
  "language_info": {
   "codemirror_mode": {
    "name": "ipython",
    "version": 2
   },
   "file_extension": ".py",
   "mimetype": "text/x-python",
   "name": "python",
   "nbconvert_exporter": "python",
   "pygments_lexer": "ipython2",
   "version": "2.7.6"
  }
 },
 "nbformat": 4,
 "nbformat_minor": 5
}
