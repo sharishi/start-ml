{
 "cells": [
  {
   "cell_type": "markdown",
   "source": [
    "> Слияние отсортированных массивов\n",
    "Вам дано два отсортированных массива a и b длины N и M соответственно. Напишите функцию merge, которая будет их объединять так, чтобы получившийся массив тоже был отсортирован. Это необходимо сделать за O(N + M).\n",
    "\n",
    "Примеры:\n",
    "\n",
    "a = [1, 3, 5, 8], b = [2, 6, 7, 13] =>[1, 2, 3, 5, 6, 7, 8, 13]\n",
    "\n",
    "a = [-5, 0, 4, 9], b = [1, 1] => [-5, 0, 1, 1, 4, 9]\n",
    "\n",
    "a = [], b = [] => []\n",
    "\n",
    "a = [], b = [1, 2, 3] => [1, 2, 3]"
   ],
   "metadata": {
    "collapsed": false
   },
   "id": "941cb19842a9a2d9"
  },
  {
   "cell_type": "code",
   "execution_count": 12,
   "id": "initial_id",
   "metadata": {
    "collapsed": true,
    "ExecuteTime": {
     "end_time": "2024-06-07T10:07:31.988936500Z",
     "start_time": "2024-06-07T10:07:31.974927500Z"
    }
   },
   "outputs": [],
   "source": [
    "def merge(a,b):\n",
    "    new_list = []\n",
    "    point_a, point_b = 0,0\n",
    "    while point_a < len(a) and point_b < len(b):\n",
    "        if a[point_a] < b[point_b]:\n",
    "            new_list.append(a[point_a])\n",
    "            point_a += 1\n",
    "        else:\n",
    "            new_list.append(b[point_b])\n",
    "            point_b += 1\n",
    "    if point_a < len(a):\n",
    "        new_list.extend(a[point_a:])\n",
    "    \n",
    "    if point_b < len(b):\n",
    "        new_list.extend(b[point_b:])\n",
    "\n",
    "    return print(new_list)"
   ]
  },
  {
   "cell_type": "code",
   "execution_count": 13,
   "outputs": [
    {
     "name": "stdout",
     "output_type": "stream",
     "text": [
      "[]\n"
     ]
    }
   ],
   "source": [
    "merge([], [])"
   ],
   "metadata": {
    "collapsed": false,
    "ExecuteTime": {
     "end_time": "2024-06-07T10:07:32.454372Z",
     "start_time": "2024-06-07T10:07:32.444847600Z"
    }
   },
   "id": "bd0504ba75633240"
  },
  {
   "cell_type": "markdown",
   "source": [
    "Подстрока в строке\n",
    "Вам даны две строки s и t. Верните True, если s есть подстрока строки t и False, если это не так.\n",
    "\n",
    "Подстрокой в этой задаче будем считать строку, полученную из исходной путем удаления некоторых символов без нарушения порядка остальных. Например, \"терма\" есть подстрока строки «Телеграмма», но \"лета\" — нет. Обычно подстроку определяют как подряд идущие символы, но в этой задаче мы опустим это требование.\n",
    "\n",
    "Примеры:\n",
    "\n",
    "s = \"abd\", t = \"aiebkgdle\" даст True\n",
    "\n",
    "s = \"axe\", t = \"abgirx\" даст False\n",
    "\n",
    "Напишите функцию is_subsequence(s, t), в файле и загрузите файл с функцией ниже."
   ],
   "metadata": {
    "collapsed": false
   },
   "id": "6a9c55bcfe284c7f"
  },
  {
   "cell_type": "code",
   "execution_count": 17,
   "outputs": [],
   "source": [
    "def is_subsequence(s, t):\n",
    "    point_s, point_t = 0,0\n",
    "    while point_s < len(s) and point_t < len(t):\n",
    "        if s[point_s] == t[point_t]:\n",
    "            point_s += 1\n",
    "            point_t += 1\n",
    "        else:\n",
    "            point_t += 1\n",
    "    if point_s == len(s):\n",
    "        return True\n",
    "    else:\n",
    "        return False"
   ],
   "metadata": {
    "collapsed": false,
    "ExecuteTime": {
     "end_time": "2024-06-07T10:15:35.854106500Z",
     "start_time": "2024-06-07T10:15:35.843097800Z"
    }
   },
   "id": "19a34bb062a07b47"
  },
  {
   "cell_type": "code",
   "execution_count": 19,
   "outputs": [
    {
     "data": {
      "text/plain": "False"
     },
     "execution_count": 19,
     "metadata": {},
     "output_type": "execute_result"
    }
   ],
   "source": [
    "is_subsequence(\"axe\", \"abgirx\")"
   ],
   "metadata": {
    "collapsed": false,
    "ExecuteTime": {
     "end_time": "2024-06-07T10:15:50.747654800Z",
     "start_time": "2024-06-07T10:15:50.735803900Z"
    }
   },
   "id": "54d2d4993d47290d"
  },
  {
   "cell_type": "markdown",
   "source": [
    "> Главный элемент\n",
    "Вам дан массив nums длины n.\n",
    "\n",
    "Назовем главным элементом тот элемент массива, который встречается больше либо равно n // 2 раз (если не делится нацело, округление вниз).\n",
    "\n",
    "Считая, что в массиве nums гарантировано будет главный элемент, напишите функцию maj_element(nums), которая будет возвращать этот элемент.\n",
    "\n",
    "Примеры: \n",
    "\n",
    "nums = [3, 5, 5, 1] даст 5\n",
    "\n",
    "nums = [0, 1, 1, 1, 0, 0, 0, 0] даст 0"
   ],
   "metadata": {
    "collapsed": false
   },
   "id": "4d8b20795986b7ed"
  },
  {
   "cell_type": "code",
   "execution_count": 1,
   "outputs": [],
   "source": [
    "def maj_element(nums):\n",
    "    if not nums:\n",
    "        return 0\n",
    "    result = dict()\n",
    "    counter = 0\n",
    "    ce = nums[0]\n",
    "    for element in nums:\n",
    "        if element != ce:\n",
    "            result[ce] = max(counter, result.get(ce, 0))\n",
    "            counter = 1\n",
    "            ce = element\n",
    "        else:\n",
    "            counter += 1\n",
    "    result[ce] = max(counter, result.get(ce, 0))\n",
    "    \n",
    "    return max(result, key=result.get)"
   ],
   "metadata": {
    "collapsed": false,
    "ExecuteTime": {
     "end_time": "2024-06-08T12:04:14.071400700Z",
     "start_time": "2024-06-08T12:04:14.064891300Z"
    }
   },
   "id": "dcb282fe56e23059"
  },
  {
   "cell_type": "code",
   "execution_count": 3,
   "outputs": [
    {
     "data": {
      "text/plain": "0"
     },
     "execution_count": 3,
     "metadata": {},
     "output_type": "execute_result"
    }
   ],
   "source": [
    "maj_element([0, 1, 1, 1, 0, 0, 0, 0])"
   ],
   "metadata": {
    "collapsed": false,
    "ExecuteTime": {
     "end_time": "2024-06-08T12:04:31.815070800Z",
     "start_time": "2024-06-08T12:04:31.790554900Z"
    }
   },
   "id": "8547066111a12455"
  },
  {
   "cell_type": "markdown",
   "source": [
    "разворот списка"
   ],
   "metadata": {
    "collapsed": false
   },
   "id": "a81296b538c0d407"
  },
  {
   "cell_type": "code",
   "execution_count": null,
   "outputs": [],
   "source": [
    "from typing import Optional\n",
    "\n",
    "\n",
    "class ListNode:\n",
    "    def __init__(self, val=0, next=None):\n",
    "        self.val = val\n",
    "        self.next = next\n",
    "\n",
    "class Solution:\n",
    "    def reverselist(self, head:Optional[ListNode]) ->  Optional[ListNode]:\n",
    "        if head is None or head.next is None:\n",
    "            return head\n",
    "        prev, curr, tmp = None, head, None\n",
    "        while curr:\n",
    "            tmp = curr.next\n",
    "            curr.next = prev\n",
    "            prev = curr\n",
    "            curr = tmp\n",
    "        return prev"
   ],
   "metadata": {
    "collapsed": false
   },
   "id": "82257c2d208a9127"
  },
  {
   "cell_type": "markdown",
   "source": [
    "Вам дана голова односвязного списка head. Вам необходимо «повернуть» его направо на k позиций.\n",
    "Напишите функцию rotate_right(head, k), которая будет возвращать голову повернутого листа. Вам нельзя создавать новый односвязный список — нужно все изменения делать с существующим (т.е. переставлять связи внутри него).\n",
    "\n",
    "Считайте, что односвязный список задан классом Node (при этом head есть экземпляр данного класса), код которого дан ниже.\n"
   ],
   "metadata": {
    "collapsed": false
   },
   "id": "e8a5435a7b3cd7fb"
  },
  {
   "cell_type": "code",
   "execution_count": 4,
   "outputs": [],
   "source": [
    "class Node:\n",
    "    def __init__(self, value, next=None):\n",
    "        self.value = value\n",
    "        self.next = next"
   ],
   "metadata": {
    "collapsed": false,
    "ExecuteTime": {
     "end_time": "2024-06-08T12:05:40.452017900Z",
     "start_time": "2024-06-08T12:05:40.432011800Z"
    }
   },
   "id": "2551901e3bf6ff84"
  },
  {
   "cell_type": "code",
   "execution_count": 5,
   "outputs": [],
   "source": [
    "def rotate_right(head, k):\n",
    "    if not head or not head.next or k == 0:\n",
    "        return head\n",
    "    \n",
    "    length = 1\n",
    "    p = head\n",
    "    while p.next:\n",
    "        p = p.next\n",
    "        length += 1\n",
    "    \n",
    "    p.next = head\n",
    "    \n",
    "    k = k % length\n",
    "    steps_to_new_head = length - k\n",
    "    \n",
    "    new_tail = head\n",
    "    for _ in range(steps_to_new_head - 1):\n",
    "        new_tail = new_tail.next\n",
    "    \n",
    "    new_head = new_tail.next\n",
    "    new_tail.next = None\n",
    "    \n",
    "    return new_head"
   ],
   "metadata": {
    "collapsed": false,
    "ExecuteTime": {
     "end_time": "2024-06-08T12:22:22.234265200Z",
     "start_time": "2024-06-08T12:22:22.214259300Z"
    }
   },
   "id": "4792780f8770667a"
  },
  {
   "cell_type": "markdown",
   "source": [
    "> Сортировка цветов\n",
    "Вам дан массив nums длины n, каждый элемент которого представляет собой «цвет»: 0 означает красный, 1 означает белый и 2 означает синий.\n",
    "\n",
    "Вам необходимо отсортировать его на месте (т.е. не создавая нового массива) так, чтобы все элементы одного цвета соседствовали друг с другом и шли по порядку «красные, белые, потом синие».\n",
    "\n",
    "Запрещено использовать какую-либо встроенную функцию сортировки.\n",
    "\n",
    "Напишите функцию color_sort(nums), которая будет принимать на вход список чисел и выдавать список чисел, отсортированных в нужном порядке.\n",
    "\n",
    "Примеры:\n",
    "\n",
    "nums = [2, 0, 1, 0, 2] даст [0, 0, 1, 2, 2]\n",
    "\n",
    "nums = [2, 1, 0] даст [0, 1, 2]\n",
    "\n",
    "nums = [2, 1, 1, 0, 0, 2, 2] даст [0, 0, 1, 1, 2, 2, 2]"
   ],
   "metadata": {
    "collapsed": false
   },
   "id": "b8b8ccb388bc8e0a"
  },
  {
   "cell_type": "markdown",
   "source": [
    "2. Идём в цикле, пока белый указатель не дошёл до синего (т.е. `white` <= `blue`). Если видим на элементе под белым указателем 0, то, во-первых, поменяем этот элемент местами с тем, что лежит под красным указателем. Вместе с этим подвинем оба указателя - белый и красный - на 1.\n",
    "3. Если же в элементе под белым указателем окажется 1, то ничего менять местами не нужно, только увеличим белый указатель на 1.\n",
    "4. Если обнаружили 2, то надо будет поменять местами элементы под белым и синим указателями по аналогии с пунктом 2. Только теперь вместо увеличения указателя «красных» будем уменьшать указатель «синих», т.к. он указывает на левую границу, а к «синим» только что гарантированно докинули 2."
   ],
   "metadata": {
    "collapsed": false
   },
   "id": "4b81fd2458b98246"
  },
  {
   "cell_type": "code",
   "execution_count": 20,
   "outputs": [],
   "source": [
    "def color_sort(nums):\n",
    "    red, white, blue = 0,0, len(nums) - 1\n",
    "    while white <= blue:\n",
    "        if nums[white] == 0:\n",
    "            tmp = nums[red]\n",
    "            nums[red] = nums[white]\n",
    "            nums[white] = tmp\n",
    "            red += 1\n",
    "            white += 1\n",
    "        elif nums[white] == 1:\n",
    "            white += 1\n",
    "        else:\n",
    "            tmp = nums[blue]\n",
    "            nums[blue] = nums[white]\n",
    "            nums[white] = tmp\n",
    "            blue -= 1\n",
    "    return nums"
   ],
   "metadata": {
    "collapsed": false,
    "ExecuteTime": {
     "end_time": "2024-06-08T14:13:53.587832Z",
     "start_time": "2024-06-08T14:13:53.582319500Z"
    }
   },
   "id": "49b05c41c2d2a6f"
  },
  {
   "cell_type": "code",
   "execution_count": 21,
   "outputs": [
    {
     "data": {
      "text/plain": "[0, 0, 1, 1, 2, 2, 2]"
     },
     "execution_count": 21,
     "metadata": {},
     "output_type": "execute_result"
    }
   ],
   "source": [
    "color_sort([2, 1, 1, 0, 0, 2, 2])"
   ],
   "metadata": {
    "collapsed": false,
    "ExecuteTime": {
     "end_time": "2024-06-08T14:13:54.190688300Z",
     "start_time": "2024-06-08T14:13:54.184171200Z"
    }
   },
   "id": "159ccee727d1cd40"
  },
  {
   "cell_type": "code",
   "execution_count": null,
   "outputs": [],
   "source": [],
   "metadata": {
    "collapsed": false
   },
   "id": "3846578d5cbb372c"
  }
 ],
 "metadata": {
  "kernelspec": {
   "display_name": "Python 3",
   "language": "python",
   "name": "python3"
  },
  "language_info": {
   "codemirror_mode": {
    "name": "ipython",
    "version": 2
   },
   "file_extension": ".py",
   "mimetype": "text/x-python",
   "name": "python",
   "nbconvert_exporter": "python",
   "pygments_lexer": "ipython2",
   "version": "2.7.6"
  }
 },
 "nbformat": 4,
 "nbformat_minor": 5
}
