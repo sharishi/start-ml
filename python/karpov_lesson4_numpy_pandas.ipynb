{
 "cells": [
  {
   "cell_type": "markdown",
   "source": [
    "Задание 1\n",
    "В ноутбуке создайте несколько ячеек: с markdown-разметкой и с кодом. В markdown-ячейке воспользуйтесь синтаксисом для полужирного текста, курсива и monospace.\n"
   ],
   "metadata": {
    "collapsed": false
   },
   "id": "253ce27e8b2799e2"
  },
  {
   "cell_type": "markdown",
   "source": [
    "Блеща средь полей широких,\n",
    "Вон он льется!.. __Здравствуй, Дон!__\n",
    "От сынов твоих далеких\n",
    "Я привез тебе **поклон**."
   ],
   "metadata": {
    "collapsed": false
   },
   "id": "c1ec7575ebfad28e"
  },
  {
   "cell_type": "code",
   "execution_count": null,
   "outputs": [],
   "source": [
    "for i in range(4):\n",
    "    print(\"Здравствуй, Дон!\")"
   ],
   "metadata": {
    "collapsed": false
   },
   "id": "572459fed95d6407"
  },
  {
   "cell_type": "markdown",
   "source": [
    "Как прославленного брата,\n",
    "Реки знают _тихий Дон_;\n",
    "От Аракса и Евфрата\n",
    "Я привез тебе *поклон*."
   ],
   "metadata": {
    "collapsed": false
   },
   "id": "ee991883bcad5fa4"
  },
  {
   "cell_type": "code",
   "execution_count": 3,
   "outputs": [
    {
     "name": "stdout",
     "output_type": "stream",
     "text": [
      "Я привез тебе поклон!\n",
      "Я привез тебе поклон!\n",
      "Я привез тебе поклон!\n",
      "Я привез тебе поклон!\n",
      "Я привез тебе поклон!\n",
      "Я привез тебе поклон!\n"
     ]
    }
   ],
   "source": [
    "for i in range(3):\n",
    "    print(\"Я привез тебе поклон!\")"
   ],
   "metadata": {
    "collapsed": false,
    "ExecuteTime": {
     "end_time": "2023-11-24T16:41:28.780770300Z",
     "start_time": "2023-11-24T16:41:28.766254100Z"
    }
   },
   "id": "1b0a16585e2b4856"
  },
  {
   "cell_type": "markdown",
   "source": [
    "Отдохнув от злой погони,\n",
    "Чуя родину свою,\n",
    "`Пьют уже донские кони`\n",
    "`Арпачайскую` струю.\n"
   ],
   "metadata": {
    "collapsed": false
   },
   "id": "c9de0f285072e0f7"
  },
  {
   "cell_type": "markdown",
   "source": [
    "for i in range(3):\n",
    "    print(3/0)"
   ],
   "metadata": {
    "collapsed": false
   },
   "id": "9c98eec8ae8bc3cb"
  }
 ],
 "metadata": {
  "kernelspec": {
   "display_name": "Python 3",
   "language": "python",
   "name": "python3"
  },
  "language_info": {
   "codemirror_mode": {
    "name": "ipython",
    "version": 2
   },
   "file_extension": ".py",
   "mimetype": "text/x-python",
   "name": "python",
   "nbconvert_exporter": "python",
   "pygments_lexer": "ipython2",
   "version": "2.7.6"
  }
 },
 "nbformat": 4,
 "nbformat_minor": 5
}
