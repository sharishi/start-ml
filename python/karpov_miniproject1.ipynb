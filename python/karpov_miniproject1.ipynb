{
 "cells": [
  {
   "cell_type": "code",
   "execution_count": 1,
   "outputs": [],
   "source": [
    "import pandas as pd"
   ],
   "metadata": {
    "collapsed": false,
    "ExecuteTime": {
     "end_time": "2023-12-03T13:49:01.949642700Z",
     "start_time": "2023-12-03T13:49:01.652034Z"
    }
   },
   "id": "79630da45cd80bb"
  },
  {
   "cell_type": "code",
   "execution_count": 2,
   "outputs": [],
   "source": [
    "df = pd.read_csv('playstore.csv')"
   ],
   "metadata": {
    "collapsed": false,
    "ExecuteTime": {
     "end_time": "2023-12-03T13:49:02.570741700Z",
     "start_time": "2023-12-03T13:49:02.533119500Z"
    }
   },
   "id": "c4b633d517376e8a"
  },
  {
   "cell_type": "markdown",
   "source": [
    "Сохраните в переменные data_head и data_tail первые и последние 3 строки из датафрейма соответственно."
   ],
   "metadata": {
    "collapsed": false
   },
   "id": "783ab94a14a04c56"
  },
  {
   "cell_type": "code",
   "execution_count": 3,
   "outputs": [],
   "source": [
    "date_head = df.head(3)\n",
    "data_tail = df.tail(3)"
   ],
   "metadata": {
    "collapsed": false,
    "ExecuteTime": {
     "end_time": "2023-12-03T13:49:06.073532Z",
     "start_time": "2023-12-03T13:49:06.070525Z"
    }
   },
   "id": "55e689ce09da2a69"
  },
  {
   "cell_type": "code",
   "execution_count": 4,
   "outputs": [
    {
     "data": {
      "text/plain": "   Unnamed: 0                                                App  \\\n0           0     Photo Editor & Candy Camera & Grid & ScrapBook   \n1           1                                Coloring book moana   \n2           2  U Launcher Lite – FREE Live Cool Themes, Hide ...   \n\n         Category  Rating  Reviews  Size    Installs  Type Price  \\\n0  ART_AND_DESIGN     4.1      159   19M     10,000+  Free     0   \n1  ART_AND_DESIGN     3.9      967   14M    500,000+  Free     0   \n2  ART_AND_DESIGN     4.7    87510  8.7M  5,000,000+  Free     0   \n\n  Content Rating                     Genres      Last Updated Current Ver  \\\n0       Everyone               Art & Design   January 7, 2018       1.0.0   \n1       Everyone  Art & Design;Pretend Play  January 15, 2018       2.0.0   \n2       Everyone               Art & Design    August 1, 2018       1.2.4   \n\n    Android Ver  \n0  4.0.3 and up  \n1  4.0.3 and up  \n2  4.0.3 and up  ",
      "text/html": "<div>\n<style scoped>\n    .dataframe tbody tr th:only-of-type {\n        vertical-align: middle;\n    }\n\n    .dataframe tbody tr th {\n        vertical-align: top;\n    }\n\n    .dataframe thead th {\n        text-align: right;\n    }\n</style>\n<table border=\"1\" class=\"dataframe\">\n  <thead>\n    <tr style=\"text-align: right;\">\n      <th></th>\n      <th>Unnamed: 0</th>\n      <th>App</th>\n      <th>Category</th>\n      <th>Rating</th>\n      <th>Reviews</th>\n      <th>Size</th>\n      <th>Installs</th>\n      <th>Type</th>\n      <th>Price</th>\n      <th>Content Rating</th>\n      <th>Genres</th>\n      <th>Last Updated</th>\n      <th>Current Ver</th>\n      <th>Android Ver</th>\n    </tr>\n  </thead>\n  <tbody>\n    <tr>\n      <th>0</th>\n      <td>0</td>\n      <td>Photo Editor &amp; Candy Camera &amp; Grid &amp; ScrapBook</td>\n      <td>ART_AND_DESIGN</td>\n      <td>4.1</td>\n      <td>159</td>\n      <td>19M</td>\n      <td>10,000+</td>\n      <td>Free</td>\n      <td>0</td>\n      <td>Everyone</td>\n      <td>Art &amp; Design</td>\n      <td>January 7, 2018</td>\n      <td>1.0.0</td>\n      <td>4.0.3 and up</td>\n    </tr>\n    <tr>\n      <th>1</th>\n      <td>1</td>\n      <td>Coloring book moana</td>\n      <td>ART_AND_DESIGN</td>\n      <td>3.9</td>\n      <td>967</td>\n      <td>14M</td>\n      <td>500,000+</td>\n      <td>Free</td>\n      <td>0</td>\n      <td>Everyone</td>\n      <td>Art &amp; Design;Pretend Play</td>\n      <td>January 15, 2018</td>\n      <td>2.0.0</td>\n      <td>4.0.3 and up</td>\n    </tr>\n    <tr>\n      <th>2</th>\n      <td>2</td>\n      <td>U Launcher Lite – FREE Live Cool Themes, Hide ...</td>\n      <td>ART_AND_DESIGN</td>\n      <td>4.7</td>\n      <td>87510</td>\n      <td>8.7M</td>\n      <td>5,000,000+</td>\n      <td>Free</td>\n      <td>0</td>\n      <td>Everyone</td>\n      <td>Art &amp; Design</td>\n      <td>August 1, 2018</td>\n      <td>1.2.4</td>\n      <td>4.0.3 and up</td>\n    </tr>\n  </tbody>\n</table>\n</div>"
     },
     "execution_count": 4,
     "metadata": {},
     "output_type": "execute_result"
    }
   ],
   "source": [
    "date_head"
   ],
   "metadata": {
    "collapsed": false,
    "ExecuteTime": {
     "end_time": "2023-12-03T13:49:06.788372800Z",
     "start_time": "2023-12-03T13:49:06.781839600Z"
    }
   },
   "id": "85ab98a33ec1f556"
  },
  {
   "cell_type": "markdown",
   "source": [
    "Сохраните в переменные n_col и n_row количество столбцов и строк в датафрейме соответственно."
   ],
   "metadata": {
    "collapsed": false
   },
   "id": "b6b1f8bad841875b"
  },
  {
   "cell_type": "code",
   "execution_count": 5,
   "outputs": [],
   "source": [
    "n_row, n_col  = df.shape"
   ],
   "metadata": {
    "collapsed": false,
    "ExecuteTime": {
     "end_time": "2023-12-03T13:49:09.062016200Z",
     "start_time": "2023-12-03T13:49:09.053010300Z"
    }
   },
   "id": "b0bbe3d7a2dc73e4"
  },
  {
   "cell_type": "markdown",
   "source": [
    "Какое количество уникальных приложений есть в наших данных (колонка App)"
   ],
   "metadata": {
    "collapsed": false
   },
   "id": "b35e27eac5db7b17"
  },
  {
   "cell_type": "code",
   "execution_count": 6,
   "outputs": [
    {
     "data": {
      "text/plain": "9659"
     },
     "execution_count": 6,
     "metadata": {},
     "output_type": "execute_result"
    }
   ],
   "source": [
    "df['App'].nunique()"
   ],
   "metadata": {
    "collapsed": false,
    "ExecuteTime": {
     "end_time": "2023-12-03T13:49:10.814640500Z",
     "start_time": "2023-12-03T13:49:10.805095800Z"
    }
   },
   "id": "45a642a882110db0"
  },
  {
   "cell_type": "markdown",
   "source": [
    "Давайте посчитаем число пропущенных значений в колонке с рейтингом приложений. Сохраните в переменную rating_missing количество пропущенных значений в колонке Rating."
   ],
   "metadata": {
    "collapsed": false
   },
   "id": "2ed2ea168f345ac0"
  },
  {
   "cell_type": "code",
   "execution_count": 7,
   "outputs": [],
   "source": [
    "rating_missing  = df['Rating'].isnull().sum()"
   ],
   "metadata": {
    "collapsed": false,
    "ExecuteTime": {
     "end_time": "2023-12-03T13:49:12.302884900Z",
     "start_time": "2023-12-03T13:49:12.295371300Z"
    }
   },
   "id": "544969ec4afcc8d6"
  },
  {
   "cell_type": "markdown",
   "source": [
    "Допустим, мы хотим собрать датафрейм, который будет включать в себя: первые три строки исходного датафрейма, строки 6-8 (включительно), строки 16-19 (включительно) и колонки: App, Size, Genres, Current Ver в соответствующем порядке."
   ],
   "metadata": {
    "collapsed": false
   },
   "id": "f5363180a5e4b723"
  },
  {
   "cell_type": "code",
   "execution_count": 8,
   "outputs": [],
   "source": [
    "playstore = pd.concat([df.loc[0:2], df.loc[5:7], df.loc[15:18]])[['App', 'Size', 'Genres', 'Current Ver']]"
   ],
   "metadata": {
    "collapsed": false,
    "ExecuteTime": {
     "end_time": "2023-12-03T13:49:13.908892900Z",
     "start_time": "2023-12-03T13:49:13.905884100Z"
    }
   },
   "id": "246dc8ca1f26969d"
  },
  {
   "cell_type": "code",
   "execution_count": 9,
   "outputs": [],
   "source": [
    "playstore.to_csv('change_playstore.csv')"
   ],
   "metadata": {
    "collapsed": false,
    "ExecuteTime": {
     "end_time": "2023-12-03T13:49:14.627197600Z",
     "start_time": "2023-12-03T13:49:14.614553Z"
    }
   },
   "id": "1756f87fb5832bdc"
  },
  {
   "cell_type": "code",
   "execution_count": 10,
   "outputs": [
    {
     "data": {
      "text/plain": "                                                  App  Size  \\\n0      Photo Editor & Candy Camera & Grid & ScrapBook   19M   \n1                                 Coloring book moana   14M   \n2   U Launcher Lite – FREE Live Cool Themes, Hide ...  8.7M   \n5                          Paper flowers instructions  5.6M   \n6             Smoke Effect Photo Maker - Smoke Editor   19M   \n7                                    Infinite Painter   29M   \n15                    Learn To Draw Kawaii Characters  2.7M   \n16       Photo Designer - Write your name with shapes  5.5M   \n17                           350 Diy Room Decor Ideas   17M   \n18                      FlipaClip - Cartoon animation   39M   \n\n                       Genres Current Ver  \n0                Art & Design       1.0.0  \n1   Art & Design;Pretend Play       2.0.0  \n2                Art & Design       1.2.4  \n5                Art & Design         1.0  \n6                Art & Design         1.1  \n7                Art & Design    6.1.61.1  \n15               Art & Design         NaN  \n16               Art & Design         3.1  \n17               Art & Design         1.0  \n18               Art & Design       2.2.5  ",
      "text/html": "<div>\n<style scoped>\n    .dataframe tbody tr th:only-of-type {\n        vertical-align: middle;\n    }\n\n    .dataframe tbody tr th {\n        vertical-align: top;\n    }\n\n    .dataframe thead th {\n        text-align: right;\n    }\n</style>\n<table border=\"1\" class=\"dataframe\">\n  <thead>\n    <tr style=\"text-align: right;\">\n      <th></th>\n      <th>App</th>\n      <th>Size</th>\n      <th>Genres</th>\n      <th>Current Ver</th>\n    </tr>\n  </thead>\n  <tbody>\n    <tr>\n      <th>0</th>\n      <td>Photo Editor &amp; Candy Camera &amp; Grid &amp; ScrapBook</td>\n      <td>19M</td>\n      <td>Art &amp; Design</td>\n      <td>1.0.0</td>\n    </tr>\n    <tr>\n      <th>1</th>\n      <td>Coloring book moana</td>\n      <td>14M</td>\n      <td>Art &amp; Design;Pretend Play</td>\n      <td>2.0.0</td>\n    </tr>\n    <tr>\n      <th>2</th>\n      <td>U Launcher Lite – FREE Live Cool Themes, Hide ...</td>\n      <td>8.7M</td>\n      <td>Art &amp; Design</td>\n      <td>1.2.4</td>\n    </tr>\n    <tr>\n      <th>5</th>\n      <td>Paper flowers instructions</td>\n      <td>5.6M</td>\n      <td>Art &amp; Design</td>\n      <td>1.0</td>\n    </tr>\n    <tr>\n      <th>6</th>\n      <td>Smoke Effect Photo Maker - Smoke Editor</td>\n      <td>19M</td>\n      <td>Art &amp; Design</td>\n      <td>1.1</td>\n    </tr>\n    <tr>\n      <th>7</th>\n      <td>Infinite Painter</td>\n      <td>29M</td>\n      <td>Art &amp; Design</td>\n      <td>6.1.61.1</td>\n    </tr>\n    <tr>\n      <th>15</th>\n      <td>Learn To Draw Kawaii Characters</td>\n      <td>2.7M</td>\n      <td>Art &amp; Design</td>\n      <td>NaN</td>\n    </tr>\n    <tr>\n      <th>16</th>\n      <td>Photo Designer - Write your name with shapes</td>\n      <td>5.5M</td>\n      <td>Art &amp; Design</td>\n      <td>3.1</td>\n    </tr>\n    <tr>\n      <th>17</th>\n      <td>350 Diy Room Decor Ideas</td>\n      <td>17M</td>\n      <td>Art &amp; Design</td>\n      <td>1.0</td>\n    </tr>\n    <tr>\n      <th>18</th>\n      <td>FlipaClip - Cartoon animation</td>\n      <td>39M</td>\n      <td>Art &amp; Design</td>\n      <td>2.2.5</td>\n    </tr>\n  </tbody>\n</table>\n</div>"
     },
     "execution_count": 10,
     "metadata": {},
     "output_type": "execute_result"
    }
   ],
   "source": [
    "playstore"
   ],
   "metadata": {
    "collapsed": false,
    "ExecuteTime": {
     "end_time": "2023-12-03T13:49:17.033007900Z",
     "start_time": "2023-12-03T13:49:17.027493900Z"
    }
   },
   "id": "464220212a86735e"
  },
  {
   "cell_type": "markdown",
   "source": [],
   "metadata": {
    "collapsed": false
   },
   "id": "a9b668d7a921ca70"
  },
  {
   "cell_type": "markdown",
   "source": [
    "Для дальнейшего анализа нам необходимо убрать дубликаты приложений (колонка App) и сбросить индекс. Сохраните полученный результат в виде датафрейма в переменную unique_playstore. Датафрейм уже находится в переменной playstore"
   ],
   "metadata": {
    "collapsed": false
   },
   "id": "fa8e3a561d65e0b1"
  },
  {
   "cell_type": "code",
   "execution_count": 11,
   "outputs": [],
   "source": [
    "playstore = df.copy()"
   ],
   "metadata": {
    "collapsed": false,
    "ExecuteTime": {
     "end_time": "2023-12-03T13:49:26.680493100Z",
     "start_time": "2023-12-03T13:49:26.675991100Z"
    }
   },
   "id": "83daf382ca21e0fd"
  },
  {
   "cell_type": "code",
   "execution_count": 12,
   "outputs": [],
   "source": [
    "unique_playstore = playstore.drop_duplicates(subset=['App']).reset_index(drop=True)"
   ],
   "metadata": {
    "collapsed": false,
    "ExecuteTime": {
     "end_time": "2023-12-03T13:49:27.156100Z",
     "start_time": "2023-12-03T13:49:27.146010700Z"
    }
   },
   "id": "3ef397be4904c14b"
  },
  {
   "cell_type": "code",
   "execution_count": 13,
   "outputs": [
    {
     "data": {
      "text/plain": "      Unnamed: 0                                                App  \\\n0              0     Photo Editor & Candy Camera & Grid & ScrapBook   \n1              1                                Coloring book moana   \n2              2  U Launcher Lite – FREE Live Cool Themes, Hide ...   \n3              3                              Sketch - Draw & Paint   \n4              4              Pixel Draw - Number Art Coloring Book   \n...          ...                                                ...   \n9654       10835                                   Sya9a Maroc - FR   \n9655       10836                   Fr. Mike Schmitz Audio Teachings   \n9656       10837                             Parkinson Exercices FR   \n9657       10838                      The SCP Foundation DB fr nn5n   \n9658       10839      iHoroscope - 2018 Daily Horoscope & Astrology   \n\n                 Category  Rating  Reviews                Size     Installs  \\\n0          ART_AND_DESIGN     4.1      159                 19M      10,000+   \n1          ART_AND_DESIGN     3.9      967                 14M     500,000+   \n2          ART_AND_DESIGN     4.7    87510                8.7M   5,000,000+   \n3          ART_AND_DESIGN     4.5   215644                 25M  50,000,000+   \n4          ART_AND_DESIGN     4.3      967                2.8M     100,000+   \n...                   ...     ...      ...                 ...          ...   \n9654               FAMILY     4.5       38                 53M       5,000+   \n9655               FAMILY     5.0        4                3.6M         100+   \n9656              MEDICAL     NaN        3                9.5M       1,000+   \n9657  BOOKS_AND_REFERENCE     4.5      114  Varies with device       1,000+   \n9658            LIFESTYLE     4.5   398307                 19M  10,000,000+   \n\n      Type Price Content Rating                     Genres      Last Updated  \\\n0     Free     0       Everyone               Art & Design   January 7, 2018   \n1     Free     0       Everyone  Art & Design;Pretend Play  January 15, 2018   \n2     Free     0       Everyone               Art & Design    August 1, 2018   \n3     Free     0           Teen               Art & Design      June 8, 2018   \n4     Free     0       Everyone    Art & Design;Creativity     June 20, 2018   \n...    ...   ...            ...                        ...               ...   \n9654  Free     0       Everyone                  Education     July 25, 2017   \n9655  Free     0       Everyone                  Education      July 6, 2018   \n9656  Free     0       Everyone                    Medical  January 20, 2017   \n9657  Free     0     Mature 17+          Books & Reference  January 19, 2015   \n9658  Free     0       Everyone                  Lifestyle     July 25, 2018   \n\n             Current Ver         Android Ver  \n0                  1.0.0        4.0.3 and up  \n1                  2.0.0        4.0.3 and up  \n2                  1.2.4        4.0.3 and up  \n3     Varies with device          4.2 and up  \n4                    1.1          4.4 and up  \n...                  ...                 ...  \n9654                1.48          4.1 and up  \n9655                 1.0          4.1 and up  \n9656                 1.0          2.2 and up  \n9657  Varies with device  Varies with device  \n9658  Varies with device  Varies with device  \n\n[9659 rows x 14 columns]",
      "text/html": "<div>\n<style scoped>\n    .dataframe tbody tr th:only-of-type {\n        vertical-align: middle;\n    }\n\n    .dataframe tbody tr th {\n        vertical-align: top;\n    }\n\n    .dataframe thead th {\n        text-align: right;\n    }\n</style>\n<table border=\"1\" class=\"dataframe\">\n  <thead>\n    <tr style=\"text-align: right;\">\n      <th></th>\n      <th>Unnamed: 0</th>\n      <th>App</th>\n      <th>Category</th>\n      <th>Rating</th>\n      <th>Reviews</th>\n      <th>Size</th>\n      <th>Installs</th>\n      <th>Type</th>\n      <th>Price</th>\n      <th>Content Rating</th>\n      <th>Genres</th>\n      <th>Last Updated</th>\n      <th>Current Ver</th>\n      <th>Android Ver</th>\n    </tr>\n  </thead>\n  <tbody>\n    <tr>\n      <th>0</th>\n      <td>0</td>\n      <td>Photo Editor &amp; Candy Camera &amp; Grid &amp; ScrapBook</td>\n      <td>ART_AND_DESIGN</td>\n      <td>4.1</td>\n      <td>159</td>\n      <td>19M</td>\n      <td>10,000+</td>\n      <td>Free</td>\n      <td>0</td>\n      <td>Everyone</td>\n      <td>Art &amp; Design</td>\n      <td>January 7, 2018</td>\n      <td>1.0.0</td>\n      <td>4.0.3 and up</td>\n    </tr>\n    <tr>\n      <th>1</th>\n      <td>1</td>\n      <td>Coloring book moana</td>\n      <td>ART_AND_DESIGN</td>\n      <td>3.9</td>\n      <td>967</td>\n      <td>14M</td>\n      <td>500,000+</td>\n      <td>Free</td>\n      <td>0</td>\n      <td>Everyone</td>\n      <td>Art &amp; Design;Pretend Play</td>\n      <td>January 15, 2018</td>\n      <td>2.0.0</td>\n      <td>4.0.3 and up</td>\n    </tr>\n    <tr>\n      <th>2</th>\n      <td>2</td>\n      <td>U Launcher Lite – FREE Live Cool Themes, Hide ...</td>\n      <td>ART_AND_DESIGN</td>\n      <td>4.7</td>\n      <td>87510</td>\n      <td>8.7M</td>\n      <td>5,000,000+</td>\n      <td>Free</td>\n      <td>0</td>\n      <td>Everyone</td>\n      <td>Art &amp; Design</td>\n      <td>August 1, 2018</td>\n      <td>1.2.4</td>\n      <td>4.0.3 and up</td>\n    </tr>\n    <tr>\n      <th>3</th>\n      <td>3</td>\n      <td>Sketch - Draw &amp; Paint</td>\n      <td>ART_AND_DESIGN</td>\n      <td>4.5</td>\n      <td>215644</td>\n      <td>25M</td>\n      <td>50,000,000+</td>\n      <td>Free</td>\n      <td>0</td>\n      <td>Teen</td>\n      <td>Art &amp; Design</td>\n      <td>June 8, 2018</td>\n      <td>Varies with device</td>\n      <td>4.2 and up</td>\n    </tr>\n    <tr>\n      <th>4</th>\n      <td>4</td>\n      <td>Pixel Draw - Number Art Coloring Book</td>\n      <td>ART_AND_DESIGN</td>\n      <td>4.3</td>\n      <td>967</td>\n      <td>2.8M</td>\n      <td>100,000+</td>\n      <td>Free</td>\n      <td>0</td>\n      <td>Everyone</td>\n      <td>Art &amp; Design;Creativity</td>\n      <td>June 20, 2018</td>\n      <td>1.1</td>\n      <td>4.4 and up</td>\n    </tr>\n    <tr>\n      <th>...</th>\n      <td>...</td>\n      <td>...</td>\n      <td>...</td>\n      <td>...</td>\n      <td>...</td>\n      <td>...</td>\n      <td>...</td>\n      <td>...</td>\n      <td>...</td>\n      <td>...</td>\n      <td>...</td>\n      <td>...</td>\n      <td>...</td>\n      <td>...</td>\n    </tr>\n    <tr>\n      <th>9654</th>\n      <td>10835</td>\n      <td>Sya9a Maroc - FR</td>\n      <td>FAMILY</td>\n      <td>4.5</td>\n      <td>38</td>\n      <td>53M</td>\n      <td>5,000+</td>\n      <td>Free</td>\n      <td>0</td>\n      <td>Everyone</td>\n      <td>Education</td>\n      <td>July 25, 2017</td>\n      <td>1.48</td>\n      <td>4.1 and up</td>\n    </tr>\n    <tr>\n      <th>9655</th>\n      <td>10836</td>\n      <td>Fr. Mike Schmitz Audio Teachings</td>\n      <td>FAMILY</td>\n      <td>5.0</td>\n      <td>4</td>\n      <td>3.6M</td>\n      <td>100+</td>\n      <td>Free</td>\n      <td>0</td>\n      <td>Everyone</td>\n      <td>Education</td>\n      <td>July 6, 2018</td>\n      <td>1.0</td>\n      <td>4.1 and up</td>\n    </tr>\n    <tr>\n      <th>9656</th>\n      <td>10837</td>\n      <td>Parkinson Exercices FR</td>\n      <td>MEDICAL</td>\n      <td>NaN</td>\n      <td>3</td>\n      <td>9.5M</td>\n      <td>1,000+</td>\n      <td>Free</td>\n      <td>0</td>\n      <td>Everyone</td>\n      <td>Medical</td>\n      <td>January 20, 2017</td>\n      <td>1.0</td>\n      <td>2.2 and up</td>\n    </tr>\n    <tr>\n      <th>9657</th>\n      <td>10838</td>\n      <td>The SCP Foundation DB fr nn5n</td>\n      <td>BOOKS_AND_REFERENCE</td>\n      <td>4.5</td>\n      <td>114</td>\n      <td>Varies with device</td>\n      <td>1,000+</td>\n      <td>Free</td>\n      <td>0</td>\n      <td>Mature 17+</td>\n      <td>Books &amp; Reference</td>\n      <td>January 19, 2015</td>\n      <td>Varies with device</td>\n      <td>Varies with device</td>\n    </tr>\n    <tr>\n      <th>9658</th>\n      <td>10839</td>\n      <td>iHoroscope - 2018 Daily Horoscope &amp; Astrology</td>\n      <td>LIFESTYLE</td>\n      <td>4.5</td>\n      <td>398307</td>\n      <td>19M</td>\n      <td>10,000,000+</td>\n      <td>Free</td>\n      <td>0</td>\n      <td>Everyone</td>\n      <td>Lifestyle</td>\n      <td>July 25, 2018</td>\n      <td>Varies with device</td>\n      <td>Varies with device</td>\n    </tr>\n  </tbody>\n</table>\n<p>9659 rows × 14 columns</p>\n</div>"
     },
     "execution_count": 13,
     "metadata": {},
     "output_type": "execute_result"
    }
   ],
   "source": [
    "unique_playstore"
   ],
   "metadata": {
    "collapsed": false,
    "ExecuteTime": {
     "end_time": "2023-12-03T13:49:28.042115500Z",
     "start_time": "2023-12-03T13:49:28.032534200Z"
    }
   },
   "id": "d659c1f10b014782"
  },
  {
   "cell_type": "markdown",
   "source": [
    "В этом задании названия колонок необходимо привести к стандартному виду — все буквы должны быть нижнего регистра, а пробелы должны быть заменены на нижние подчеркивания. "
   ],
   "metadata": {
    "collapsed": false
   },
   "id": "f2efad84221b4944"
  },
  {
   "cell_type": "code",
   "execution_count": 14,
   "outputs": [
    {
     "data": {
      "text/plain": "Index(['unnamed:_0', 'app', 'category', 'rating', 'reviews', 'size',\n       'installs', 'type', 'price', 'content_rating', 'genres', 'last_updated',\n       'current_ver', 'android_ver'],\n      dtype='object')"
     },
     "execution_count": 14,
     "metadata": {},
     "output_type": "execute_result"
    }
   ],
   "source": [
    "playstore.rename(str.lower, axis='columns').columns.str.replace(' ', '_', regex=True)"
   ],
   "metadata": {
    "collapsed": false,
    "ExecuteTime": {
     "end_time": "2023-12-03T13:49:29.697830400Z",
     "start_time": "2023-12-03T13:49:29.692103700Z"
    }
   },
   "id": "ffc4e487c0ac4ba4"
  },
  {
   "cell_type": "code",
   "execution_count": 15,
   "outputs": [],
   "source": [
    "playstore.columns = playstore.columns.str.lower().str.replace(' ', '_')"
   ],
   "metadata": {
    "collapsed": false,
    "ExecuteTime": {
     "end_time": "2023-12-03T13:49:30.404997700Z",
     "start_time": "2023-12-03T13:49:30.395396500Z"
    }
   },
   "id": "499d267820b783cc"
  },
  {
   "cell_type": "markdown",
   "source": [
    "Давайте посмотрим на долю платных и бесплатных приложений. В качестве ответа введите долю бесплатных приложений. Ответ округлите до сотых, в качестве десятичного разделителя используйте точку.\n",
    "df = playstore.drop_duplicates(subset =[\"app\"]).reset_index(drop=True).dropna(subset=['type']) "
   ],
   "metadata": {
    "collapsed": false
   },
   "id": "f601ea3a8f60b756"
  },
  {
   "cell_type": "code",
   "execution_count": 16,
   "outputs": [],
   "source": [
    "playstore['app'] = playstore['app'].drop_duplicates()"
   ],
   "metadata": {
    "collapsed": false,
    "ExecuteTime": {
     "end_time": "2023-12-03T13:49:31.806987100Z",
     "start_time": "2023-12-03T13:49:31.804103Z"
    }
   },
   "id": "4cecee33b7bb5121"
  },
  {
   "cell_type": "code",
   "execution_count": 17,
   "outputs": [
    {
     "data": {
      "text/plain": "type\nFree    0.93\nPaid    0.07\nName: proportion, dtype: float64"
     },
     "execution_count": 17,
     "metadata": {},
     "output_type": "execute_result"
    }
   ],
   "source": [
    "playstore['type'].value_counts(normalize=True).round(2)"
   ],
   "metadata": {
    "collapsed": false,
    "ExecuteTime": {
     "end_time": "2023-12-03T13:49:32.473012500Z",
     "start_time": "2023-12-03T13:49:32.467493200Z"
    }
   },
   "id": "c08c4b8964100734"
  },
  {
   "cell_type": "markdown",
   "source": [],
   "metadata": {
    "collapsed": false
   },
   "id": "b012cc2ca7ad3905"
  },
  {
   "cell_type": "markdown",
   "source": [
    "Отберите из датафрейма только те приложения, которые относятся к образовательной категории  (EDUCATION) и с количеством отзывов пользователей более 1000. Сохраните новый датафрейм в переменную education_playstore.\n",
    "\n",
    "Данные очищены от дубликатов, названия колонок преобразованы согласно предыдущим заданиям и сохранены в датафрейме playstore.\n",
    "\n",
    "NB! Не забудьте сбросить индекс в полученном датафрейме!"
   ],
   "metadata": {
    "collapsed": false
   },
   "id": "62c745b447446843"
  },
  {
   "cell_type": "code",
   "execution_count": 18,
   "outputs": [
    {
     "data": {
      "text/plain": "       unnamed:_0                                                app  \\\n0               0     Photo Editor & Candy Camera & Grid & ScrapBook   \n1               1                                Coloring book moana   \n2               2  U Launcher Lite – FREE Live Cool Themes, Hide ...   \n3               3                              Sketch - Draw & Paint   \n4               4              Pixel Draw - Number Art Coloring Book   \n...           ...                                                ...   \n10835       10835                                   Sya9a Maroc - FR   \n10836       10836                   Fr. Mike Schmitz Audio Teachings   \n10837       10837                             Parkinson Exercices FR   \n10838       10838                      The SCP Foundation DB fr nn5n   \n10839       10839      iHoroscope - 2018 Daily Horoscope & Astrology   \n\n                  category  rating  reviews                size     installs  \\\n0           ART_AND_DESIGN     4.1      159                 19M      10,000+   \n1           ART_AND_DESIGN     3.9      967                 14M     500,000+   \n2           ART_AND_DESIGN     4.7    87510                8.7M   5,000,000+   \n3           ART_AND_DESIGN     4.5   215644                 25M  50,000,000+   \n4           ART_AND_DESIGN     4.3      967                2.8M     100,000+   \n...                    ...     ...      ...                 ...          ...   \n10835               FAMILY     4.5       38                 53M       5,000+   \n10836               FAMILY     5.0        4                3.6M         100+   \n10837              MEDICAL     NaN        3                9.5M       1,000+   \n10838  BOOKS_AND_REFERENCE     4.5      114  Varies with device       1,000+   \n10839            LIFESTYLE     4.5   398307                 19M  10,000,000+   \n\n       type price content_rating                     genres      last_updated  \\\n0      Free     0       Everyone               Art & Design   January 7, 2018   \n1      Free     0       Everyone  Art & Design;Pretend Play  January 15, 2018   \n2      Free     0       Everyone               Art & Design    August 1, 2018   \n3      Free     0           Teen               Art & Design      June 8, 2018   \n4      Free     0       Everyone    Art & Design;Creativity     June 20, 2018   \n...     ...   ...            ...                        ...               ...   \n10835  Free     0       Everyone                  Education     July 25, 2017   \n10836  Free     0       Everyone                  Education      July 6, 2018   \n10837  Free     0       Everyone                    Medical  January 20, 2017   \n10838  Free     0     Mature 17+          Books & Reference  January 19, 2015   \n10839  Free     0       Everyone                  Lifestyle     July 25, 2018   \n\n              current_ver         android_ver  \n0                   1.0.0        4.0.3 and up  \n1                   2.0.0        4.0.3 and up  \n2                   1.2.4        4.0.3 and up  \n3      Varies with device          4.2 and up  \n4                     1.1          4.4 and up  \n...                   ...                 ...  \n10835                1.48          4.1 and up  \n10836                 1.0          4.1 and up  \n10837                 1.0          2.2 and up  \n10838  Varies with device  Varies with device  \n10839  Varies with device  Varies with device  \n\n[10840 rows x 14 columns]",
      "text/html": "<div>\n<style scoped>\n    .dataframe tbody tr th:only-of-type {\n        vertical-align: middle;\n    }\n\n    .dataframe tbody tr th {\n        vertical-align: top;\n    }\n\n    .dataframe thead th {\n        text-align: right;\n    }\n</style>\n<table border=\"1\" class=\"dataframe\">\n  <thead>\n    <tr style=\"text-align: right;\">\n      <th></th>\n      <th>unnamed:_0</th>\n      <th>app</th>\n      <th>category</th>\n      <th>rating</th>\n      <th>reviews</th>\n      <th>size</th>\n      <th>installs</th>\n      <th>type</th>\n      <th>price</th>\n      <th>content_rating</th>\n      <th>genres</th>\n      <th>last_updated</th>\n      <th>current_ver</th>\n      <th>android_ver</th>\n    </tr>\n  </thead>\n  <tbody>\n    <tr>\n      <th>0</th>\n      <td>0</td>\n      <td>Photo Editor &amp; Candy Camera &amp; Grid &amp; ScrapBook</td>\n      <td>ART_AND_DESIGN</td>\n      <td>4.1</td>\n      <td>159</td>\n      <td>19M</td>\n      <td>10,000+</td>\n      <td>Free</td>\n      <td>0</td>\n      <td>Everyone</td>\n      <td>Art &amp; Design</td>\n      <td>January 7, 2018</td>\n      <td>1.0.0</td>\n      <td>4.0.3 and up</td>\n    </tr>\n    <tr>\n      <th>1</th>\n      <td>1</td>\n      <td>Coloring book moana</td>\n      <td>ART_AND_DESIGN</td>\n      <td>3.9</td>\n      <td>967</td>\n      <td>14M</td>\n      <td>500,000+</td>\n      <td>Free</td>\n      <td>0</td>\n      <td>Everyone</td>\n      <td>Art &amp; Design;Pretend Play</td>\n      <td>January 15, 2018</td>\n      <td>2.0.0</td>\n      <td>4.0.3 and up</td>\n    </tr>\n    <tr>\n      <th>2</th>\n      <td>2</td>\n      <td>U Launcher Lite – FREE Live Cool Themes, Hide ...</td>\n      <td>ART_AND_DESIGN</td>\n      <td>4.7</td>\n      <td>87510</td>\n      <td>8.7M</td>\n      <td>5,000,000+</td>\n      <td>Free</td>\n      <td>0</td>\n      <td>Everyone</td>\n      <td>Art &amp; Design</td>\n      <td>August 1, 2018</td>\n      <td>1.2.4</td>\n      <td>4.0.3 and up</td>\n    </tr>\n    <tr>\n      <th>3</th>\n      <td>3</td>\n      <td>Sketch - Draw &amp; Paint</td>\n      <td>ART_AND_DESIGN</td>\n      <td>4.5</td>\n      <td>215644</td>\n      <td>25M</td>\n      <td>50,000,000+</td>\n      <td>Free</td>\n      <td>0</td>\n      <td>Teen</td>\n      <td>Art &amp; Design</td>\n      <td>June 8, 2018</td>\n      <td>Varies with device</td>\n      <td>4.2 and up</td>\n    </tr>\n    <tr>\n      <th>4</th>\n      <td>4</td>\n      <td>Pixel Draw - Number Art Coloring Book</td>\n      <td>ART_AND_DESIGN</td>\n      <td>4.3</td>\n      <td>967</td>\n      <td>2.8M</td>\n      <td>100,000+</td>\n      <td>Free</td>\n      <td>0</td>\n      <td>Everyone</td>\n      <td>Art &amp; Design;Creativity</td>\n      <td>June 20, 2018</td>\n      <td>1.1</td>\n      <td>4.4 and up</td>\n    </tr>\n    <tr>\n      <th>...</th>\n      <td>...</td>\n      <td>...</td>\n      <td>...</td>\n      <td>...</td>\n      <td>...</td>\n      <td>...</td>\n      <td>...</td>\n      <td>...</td>\n      <td>...</td>\n      <td>...</td>\n      <td>...</td>\n      <td>...</td>\n      <td>...</td>\n      <td>...</td>\n    </tr>\n    <tr>\n      <th>10835</th>\n      <td>10835</td>\n      <td>Sya9a Maroc - FR</td>\n      <td>FAMILY</td>\n      <td>4.5</td>\n      <td>38</td>\n      <td>53M</td>\n      <td>5,000+</td>\n      <td>Free</td>\n      <td>0</td>\n      <td>Everyone</td>\n      <td>Education</td>\n      <td>July 25, 2017</td>\n      <td>1.48</td>\n      <td>4.1 and up</td>\n    </tr>\n    <tr>\n      <th>10836</th>\n      <td>10836</td>\n      <td>Fr. Mike Schmitz Audio Teachings</td>\n      <td>FAMILY</td>\n      <td>5.0</td>\n      <td>4</td>\n      <td>3.6M</td>\n      <td>100+</td>\n      <td>Free</td>\n      <td>0</td>\n      <td>Everyone</td>\n      <td>Education</td>\n      <td>July 6, 2018</td>\n      <td>1.0</td>\n      <td>4.1 and up</td>\n    </tr>\n    <tr>\n      <th>10837</th>\n      <td>10837</td>\n      <td>Parkinson Exercices FR</td>\n      <td>MEDICAL</td>\n      <td>NaN</td>\n      <td>3</td>\n      <td>9.5M</td>\n      <td>1,000+</td>\n      <td>Free</td>\n      <td>0</td>\n      <td>Everyone</td>\n      <td>Medical</td>\n      <td>January 20, 2017</td>\n      <td>1.0</td>\n      <td>2.2 and up</td>\n    </tr>\n    <tr>\n      <th>10838</th>\n      <td>10838</td>\n      <td>The SCP Foundation DB fr nn5n</td>\n      <td>BOOKS_AND_REFERENCE</td>\n      <td>4.5</td>\n      <td>114</td>\n      <td>Varies with device</td>\n      <td>1,000+</td>\n      <td>Free</td>\n      <td>0</td>\n      <td>Mature 17+</td>\n      <td>Books &amp; Reference</td>\n      <td>January 19, 2015</td>\n      <td>Varies with device</td>\n      <td>Varies with device</td>\n    </tr>\n    <tr>\n      <th>10839</th>\n      <td>10839</td>\n      <td>iHoroscope - 2018 Daily Horoscope &amp; Astrology</td>\n      <td>LIFESTYLE</td>\n      <td>4.5</td>\n      <td>398307</td>\n      <td>19M</td>\n      <td>10,000,000+</td>\n      <td>Free</td>\n      <td>0</td>\n      <td>Everyone</td>\n      <td>Lifestyle</td>\n      <td>July 25, 2018</td>\n      <td>Varies with device</td>\n      <td>Varies with device</td>\n    </tr>\n  </tbody>\n</table>\n<p>10840 rows × 14 columns</p>\n</div>"
     },
     "execution_count": 18,
     "metadata": {},
     "output_type": "execute_result"
    }
   ],
   "source": [
    "playstore"
   ],
   "metadata": {
    "collapsed": false,
    "ExecuteTime": {
     "end_time": "2023-12-03T13:49:34.802941700Z",
     "start_time": "2023-12-03T13:49:34.797424500Z"
    }
   },
   "id": "a75745bbcddaffc1"
  },
  {
   "cell_type": "code",
   "execution_count": 19,
   "outputs": [
    {
     "data": {
      "text/plain": "       unnamed:_0                                                app  \\\n0               0     Photo Editor & Candy Camera & Grid & ScrapBook   \n1               1                                Coloring book moana   \n2               2  U Launcher Lite – FREE Live Cool Themes, Hide ...   \n3               3                              Sketch - Draw & Paint   \n4               4              Pixel Draw - Number Art Coloring Book   \n...           ...                                                ...   \n10835       10835                                   Sya9a Maroc - FR   \n10836       10836                   Fr. Mike Schmitz Audio Teachings   \n10837       10837                             Parkinson Exercices FR   \n10838       10838                      The SCP Foundation DB fr nn5n   \n10839       10839      iHoroscope - 2018 Daily Horoscope & Astrology   \n\n                  category  rating  reviews                size     installs  \\\n0           ART_AND_DESIGN     4.1      159                 19M      10,000+   \n1           ART_AND_DESIGN     3.9      967                 14M     500,000+   \n2           ART_AND_DESIGN     4.7    87510                8.7M   5,000,000+   \n3           ART_AND_DESIGN     4.5   215644                 25M  50,000,000+   \n4           ART_AND_DESIGN     4.3      967                2.8M     100,000+   \n...                    ...     ...      ...                 ...          ...   \n10835               FAMILY     4.5       38                 53M       5,000+   \n10836               FAMILY     5.0        4                3.6M         100+   \n10837              MEDICAL     NaN        3                9.5M       1,000+   \n10838  BOOKS_AND_REFERENCE     4.5      114  Varies with device       1,000+   \n10839            LIFESTYLE     4.5   398307                 19M  10,000,000+   \n\n       type price content_rating                     genres      last_updated  \\\n0      Free     0       Everyone               Art & Design   January 7, 2018   \n1      Free     0       Everyone  Art & Design;Pretend Play  January 15, 2018   \n2      Free     0       Everyone               Art & Design    August 1, 2018   \n3      Free     0           Teen               Art & Design      June 8, 2018   \n4      Free     0       Everyone    Art & Design;Creativity     June 20, 2018   \n...     ...   ...            ...                        ...               ...   \n10835  Free     0       Everyone                  Education     July 25, 2017   \n10836  Free     0       Everyone                  Education      July 6, 2018   \n10837  Free     0       Everyone                    Medical  January 20, 2017   \n10838  Free     0     Mature 17+          Books & Reference  January 19, 2015   \n10839  Free     0       Everyone                  Lifestyle     July 25, 2018   \n\n              current_ver         android_ver  \n0                   1.0.0        4.0.3 and up  \n1                   2.0.0        4.0.3 and up  \n2                   1.2.4        4.0.3 and up  \n3      Varies with device          4.2 and up  \n4                     1.1          4.4 and up  \n...                   ...                 ...  \n10835                1.48          4.1 and up  \n10836                 1.0          4.1 and up  \n10837                 1.0          2.2 and up  \n10838  Varies with device  Varies with device  \n10839  Varies with device  Varies with device  \n\n[10840 rows x 14 columns]",
      "text/html": "<div>\n<style scoped>\n    .dataframe tbody tr th:only-of-type {\n        vertical-align: middle;\n    }\n\n    .dataframe tbody tr th {\n        vertical-align: top;\n    }\n\n    .dataframe thead th {\n        text-align: right;\n    }\n</style>\n<table border=\"1\" class=\"dataframe\">\n  <thead>\n    <tr style=\"text-align: right;\">\n      <th></th>\n      <th>unnamed:_0</th>\n      <th>app</th>\n      <th>category</th>\n      <th>rating</th>\n      <th>reviews</th>\n      <th>size</th>\n      <th>installs</th>\n      <th>type</th>\n      <th>price</th>\n      <th>content_rating</th>\n      <th>genres</th>\n      <th>last_updated</th>\n      <th>current_ver</th>\n      <th>android_ver</th>\n    </tr>\n  </thead>\n  <tbody>\n    <tr>\n      <th>0</th>\n      <td>0</td>\n      <td>Photo Editor &amp; Candy Camera &amp; Grid &amp; ScrapBook</td>\n      <td>ART_AND_DESIGN</td>\n      <td>4.1</td>\n      <td>159</td>\n      <td>19M</td>\n      <td>10,000+</td>\n      <td>Free</td>\n      <td>0</td>\n      <td>Everyone</td>\n      <td>Art &amp; Design</td>\n      <td>January 7, 2018</td>\n      <td>1.0.0</td>\n      <td>4.0.3 and up</td>\n    </tr>\n    <tr>\n      <th>1</th>\n      <td>1</td>\n      <td>Coloring book moana</td>\n      <td>ART_AND_DESIGN</td>\n      <td>3.9</td>\n      <td>967</td>\n      <td>14M</td>\n      <td>500,000+</td>\n      <td>Free</td>\n      <td>0</td>\n      <td>Everyone</td>\n      <td>Art &amp; Design;Pretend Play</td>\n      <td>January 15, 2018</td>\n      <td>2.0.0</td>\n      <td>4.0.3 and up</td>\n    </tr>\n    <tr>\n      <th>2</th>\n      <td>2</td>\n      <td>U Launcher Lite – FREE Live Cool Themes, Hide ...</td>\n      <td>ART_AND_DESIGN</td>\n      <td>4.7</td>\n      <td>87510</td>\n      <td>8.7M</td>\n      <td>5,000,000+</td>\n      <td>Free</td>\n      <td>0</td>\n      <td>Everyone</td>\n      <td>Art &amp; Design</td>\n      <td>August 1, 2018</td>\n      <td>1.2.4</td>\n      <td>4.0.3 and up</td>\n    </tr>\n    <tr>\n      <th>3</th>\n      <td>3</td>\n      <td>Sketch - Draw &amp; Paint</td>\n      <td>ART_AND_DESIGN</td>\n      <td>4.5</td>\n      <td>215644</td>\n      <td>25M</td>\n      <td>50,000,000+</td>\n      <td>Free</td>\n      <td>0</td>\n      <td>Teen</td>\n      <td>Art &amp; Design</td>\n      <td>June 8, 2018</td>\n      <td>Varies with device</td>\n      <td>4.2 and up</td>\n    </tr>\n    <tr>\n      <th>4</th>\n      <td>4</td>\n      <td>Pixel Draw - Number Art Coloring Book</td>\n      <td>ART_AND_DESIGN</td>\n      <td>4.3</td>\n      <td>967</td>\n      <td>2.8M</td>\n      <td>100,000+</td>\n      <td>Free</td>\n      <td>0</td>\n      <td>Everyone</td>\n      <td>Art &amp; Design;Creativity</td>\n      <td>June 20, 2018</td>\n      <td>1.1</td>\n      <td>4.4 and up</td>\n    </tr>\n    <tr>\n      <th>...</th>\n      <td>...</td>\n      <td>...</td>\n      <td>...</td>\n      <td>...</td>\n      <td>...</td>\n      <td>...</td>\n      <td>...</td>\n      <td>...</td>\n      <td>...</td>\n      <td>...</td>\n      <td>...</td>\n      <td>...</td>\n      <td>...</td>\n      <td>...</td>\n    </tr>\n    <tr>\n      <th>10835</th>\n      <td>10835</td>\n      <td>Sya9a Maroc - FR</td>\n      <td>FAMILY</td>\n      <td>4.5</td>\n      <td>38</td>\n      <td>53M</td>\n      <td>5,000+</td>\n      <td>Free</td>\n      <td>0</td>\n      <td>Everyone</td>\n      <td>Education</td>\n      <td>July 25, 2017</td>\n      <td>1.48</td>\n      <td>4.1 and up</td>\n    </tr>\n    <tr>\n      <th>10836</th>\n      <td>10836</td>\n      <td>Fr. Mike Schmitz Audio Teachings</td>\n      <td>FAMILY</td>\n      <td>5.0</td>\n      <td>4</td>\n      <td>3.6M</td>\n      <td>100+</td>\n      <td>Free</td>\n      <td>0</td>\n      <td>Everyone</td>\n      <td>Education</td>\n      <td>July 6, 2018</td>\n      <td>1.0</td>\n      <td>4.1 and up</td>\n    </tr>\n    <tr>\n      <th>10837</th>\n      <td>10837</td>\n      <td>Parkinson Exercices FR</td>\n      <td>MEDICAL</td>\n      <td>NaN</td>\n      <td>3</td>\n      <td>9.5M</td>\n      <td>1,000+</td>\n      <td>Free</td>\n      <td>0</td>\n      <td>Everyone</td>\n      <td>Medical</td>\n      <td>January 20, 2017</td>\n      <td>1.0</td>\n      <td>2.2 and up</td>\n    </tr>\n    <tr>\n      <th>10838</th>\n      <td>10838</td>\n      <td>The SCP Foundation DB fr nn5n</td>\n      <td>BOOKS_AND_REFERENCE</td>\n      <td>4.5</td>\n      <td>114</td>\n      <td>Varies with device</td>\n      <td>1,000+</td>\n      <td>Free</td>\n      <td>0</td>\n      <td>Mature 17+</td>\n      <td>Books &amp; Reference</td>\n      <td>January 19, 2015</td>\n      <td>Varies with device</td>\n      <td>Varies with device</td>\n    </tr>\n    <tr>\n      <th>10839</th>\n      <td>10839</td>\n      <td>iHoroscope - 2018 Daily Horoscope &amp; Astrology</td>\n      <td>LIFESTYLE</td>\n      <td>4.5</td>\n      <td>398307</td>\n      <td>19M</td>\n      <td>10,000,000+</td>\n      <td>Free</td>\n      <td>0</td>\n      <td>Everyone</td>\n      <td>Lifestyle</td>\n      <td>July 25, 2018</td>\n      <td>Varies with device</td>\n      <td>Varies with device</td>\n    </tr>\n  </tbody>\n</table>\n<p>10840 rows × 14 columns</p>\n</div>"
     },
     "execution_count": 19,
     "metadata": {},
     "output_type": "execute_result"
    }
   ],
   "source": [
    "playstore.drop_duplicates()"
   ],
   "metadata": {
    "collapsed": false,
    "ExecuteTime": {
     "end_time": "2023-12-03T13:49:35.476672200Z",
     "start_time": "2023-12-03T13:49:35.446319200Z"
    }
   },
   "id": "346804824d488760"
  },
  {
   "cell_type": "code",
   "execution_count": 20,
   "outputs": [],
   "source": [
    "education_playstore = playstore[(playstore['category'] == 'EDUCATION') & (playstore['reviews'] > 1000)].reset_index(drop = True)"
   ],
   "metadata": {
    "collapsed": false,
    "ExecuteTime": {
     "end_time": "2023-12-03T13:49:36.627767100Z",
     "start_time": "2023-12-03T13:49:36.625245500Z"
    }
   },
   "id": "b934b2c18ea9507b"
  },
  {
   "cell_type": "code",
   "execution_count": 21,
   "outputs": [
    {
     "data": {
      "text/plain": "       unnamed:_0                                                app  \\\n0               0     Photo Editor & Candy Camera & Grid & ScrapBook   \n1               1                                Coloring book moana   \n2               2  U Launcher Lite – FREE Live Cool Themes, Hide ...   \n3               3                              Sketch - Draw & Paint   \n4               4              Pixel Draw - Number Art Coloring Book   \n...           ...                                                ...   \n10835       10835                                   Sya9a Maroc - FR   \n10836       10836                   Fr. Mike Schmitz Audio Teachings   \n10837       10837                             Parkinson Exercices FR   \n10838       10838                      The SCP Foundation DB fr nn5n   \n10839       10839      iHoroscope - 2018 Daily Horoscope & Astrology   \n\n                  category  rating  reviews                size     installs  \\\n0           ART_AND_DESIGN     4.1      159                 19M      10,000+   \n1           ART_AND_DESIGN     3.9      967                 14M     500,000+   \n2           ART_AND_DESIGN     4.7    87510                8.7M   5,000,000+   \n3           ART_AND_DESIGN     4.5   215644                 25M  50,000,000+   \n4           ART_AND_DESIGN     4.3      967                2.8M     100,000+   \n...                    ...     ...      ...                 ...          ...   \n10835               FAMILY     4.5       38                 53M       5,000+   \n10836               FAMILY     5.0        4                3.6M         100+   \n10837              MEDICAL     NaN        3                9.5M       1,000+   \n10838  BOOKS_AND_REFERENCE     4.5      114  Varies with device       1,000+   \n10839            LIFESTYLE     4.5   398307                 19M  10,000,000+   \n\n       type price content_rating                     genres      last_updated  \\\n0      Free     0       Everyone               Art & Design   January 7, 2018   \n1      Free     0       Everyone  Art & Design;Pretend Play  January 15, 2018   \n2      Free     0       Everyone               Art & Design    August 1, 2018   \n3      Free     0           Teen               Art & Design      June 8, 2018   \n4      Free     0       Everyone    Art & Design;Creativity     June 20, 2018   \n...     ...   ...            ...                        ...               ...   \n10835  Free     0       Everyone                  Education     July 25, 2017   \n10836  Free     0       Everyone                  Education      July 6, 2018   \n10837  Free     0       Everyone                    Medical  January 20, 2017   \n10838  Free     0     Mature 17+          Books & Reference  January 19, 2015   \n10839  Free     0       Everyone                  Lifestyle     July 25, 2018   \n\n              current_ver         android_ver  \n0                   1.0.0        4.0.3 and up  \n1                   2.0.0        4.0.3 and up  \n2                   1.2.4        4.0.3 and up  \n3      Varies with device          4.2 and up  \n4                     1.1          4.4 and up  \n...                   ...                 ...  \n10835                1.48          4.1 and up  \n10836                 1.0          4.1 and up  \n10837                 1.0          2.2 and up  \n10838  Varies with device  Varies with device  \n10839  Varies with device  Varies with device  \n\n[10840 rows x 14 columns]",
      "text/html": "<div>\n<style scoped>\n    .dataframe tbody tr th:only-of-type {\n        vertical-align: middle;\n    }\n\n    .dataframe tbody tr th {\n        vertical-align: top;\n    }\n\n    .dataframe thead th {\n        text-align: right;\n    }\n</style>\n<table border=\"1\" class=\"dataframe\">\n  <thead>\n    <tr style=\"text-align: right;\">\n      <th></th>\n      <th>unnamed:_0</th>\n      <th>app</th>\n      <th>category</th>\n      <th>rating</th>\n      <th>reviews</th>\n      <th>size</th>\n      <th>installs</th>\n      <th>type</th>\n      <th>price</th>\n      <th>content_rating</th>\n      <th>genres</th>\n      <th>last_updated</th>\n      <th>current_ver</th>\n      <th>android_ver</th>\n    </tr>\n  </thead>\n  <tbody>\n    <tr>\n      <th>0</th>\n      <td>0</td>\n      <td>Photo Editor &amp; Candy Camera &amp; Grid &amp; ScrapBook</td>\n      <td>ART_AND_DESIGN</td>\n      <td>4.1</td>\n      <td>159</td>\n      <td>19M</td>\n      <td>10,000+</td>\n      <td>Free</td>\n      <td>0</td>\n      <td>Everyone</td>\n      <td>Art &amp; Design</td>\n      <td>January 7, 2018</td>\n      <td>1.0.0</td>\n      <td>4.0.3 and up</td>\n    </tr>\n    <tr>\n      <th>1</th>\n      <td>1</td>\n      <td>Coloring book moana</td>\n      <td>ART_AND_DESIGN</td>\n      <td>3.9</td>\n      <td>967</td>\n      <td>14M</td>\n      <td>500,000+</td>\n      <td>Free</td>\n      <td>0</td>\n      <td>Everyone</td>\n      <td>Art &amp; Design;Pretend Play</td>\n      <td>January 15, 2018</td>\n      <td>2.0.0</td>\n      <td>4.0.3 and up</td>\n    </tr>\n    <tr>\n      <th>2</th>\n      <td>2</td>\n      <td>U Launcher Lite – FREE Live Cool Themes, Hide ...</td>\n      <td>ART_AND_DESIGN</td>\n      <td>4.7</td>\n      <td>87510</td>\n      <td>8.7M</td>\n      <td>5,000,000+</td>\n      <td>Free</td>\n      <td>0</td>\n      <td>Everyone</td>\n      <td>Art &amp; Design</td>\n      <td>August 1, 2018</td>\n      <td>1.2.4</td>\n      <td>4.0.3 and up</td>\n    </tr>\n    <tr>\n      <th>3</th>\n      <td>3</td>\n      <td>Sketch - Draw &amp; Paint</td>\n      <td>ART_AND_DESIGN</td>\n      <td>4.5</td>\n      <td>215644</td>\n      <td>25M</td>\n      <td>50,000,000+</td>\n      <td>Free</td>\n      <td>0</td>\n      <td>Teen</td>\n      <td>Art &amp; Design</td>\n      <td>June 8, 2018</td>\n      <td>Varies with device</td>\n      <td>4.2 and up</td>\n    </tr>\n    <tr>\n      <th>4</th>\n      <td>4</td>\n      <td>Pixel Draw - Number Art Coloring Book</td>\n      <td>ART_AND_DESIGN</td>\n      <td>4.3</td>\n      <td>967</td>\n      <td>2.8M</td>\n      <td>100,000+</td>\n      <td>Free</td>\n      <td>0</td>\n      <td>Everyone</td>\n      <td>Art &amp; Design;Creativity</td>\n      <td>June 20, 2018</td>\n      <td>1.1</td>\n      <td>4.4 and up</td>\n    </tr>\n    <tr>\n      <th>...</th>\n      <td>...</td>\n      <td>...</td>\n      <td>...</td>\n      <td>...</td>\n      <td>...</td>\n      <td>...</td>\n      <td>...</td>\n      <td>...</td>\n      <td>...</td>\n      <td>...</td>\n      <td>...</td>\n      <td>...</td>\n      <td>...</td>\n      <td>...</td>\n    </tr>\n    <tr>\n      <th>10835</th>\n      <td>10835</td>\n      <td>Sya9a Maroc - FR</td>\n      <td>FAMILY</td>\n      <td>4.5</td>\n      <td>38</td>\n      <td>53M</td>\n      <td>5,000+</td>\n      <td>Free</td>\n      <td>0</td>\n      <td>Everyone</td>\n      <td>Education</td>\n      <td>July 25, 2017</td>\n      <td>1.48</td>\n      <td>4.1 and up</td>\n    </tr>\n    <tr>\n      <th>10836</th>\n      <td>10836</td>\n      <td>Fr. Mike Schmitz Audio Teachings</td>\n      <td>FAMILY</td>\n      <td>5.0</td>\n      <td>4</td>\n      <td>3.6M</td>\n      <td>100+</td>\n      <td>Free</td>\n      <td>0</td>\n      <td>Everyone</td>\n      <td>Education</td>\n      <td>July 6, 2018</td>\n      <td>1.0</td>\n      <td>4.1 and up</td>\n    </tr>\n    <tr>\n      <th>10837</th>\n      <td>10837</td>\n      <td>Parkinson Exercices FR</td>\n      <td>MEDICAL</td>\n      <td>NaN</td>\n      <td>3</td>\n      <td>9.5M</td>\n      <td>1,000+</td>\n      <td>Free</td>\n      <td>0</td>\n      <td>Everyone</td>\n      <td>Medical</td>\n      <td>January 20, 2017</td>\n      <td>1.0</td>\n      <td>2.2 and up</td>\n    </tr>\n    <tr>\n      <th>10838</th>\n      <td>10838</td>\n      <td>The SCP Foundation DB fr nn5n</td>\n      <td>BOOKS_AND_REFERENCE</td>\n      <td>4.5</td>\n      <td>114</td>\n      <td>Varies with device</td>\n      <td>1,000+</td>\n      <td>Free</td>\n      <td>0</td>\n      <td>Mature 17+</td>\n      <td>Books &amp; Reference</td>\n      <td>January 19, 2015</td>\n      <td>Varies with device</td>\n      <td>Varies with device</td>\n    </tr>\n    <tr>\n      <th>10839</th>\n      <td>10839</td>\n      <td>iHoroscope - 2018 Daily Horoscope &amp; Astrology</td>\n      <td>LIFESTYLE</td>\n      <td>4.5</td>\n      <td>398307</td>\n      <td>19M</td>\n      <td>10,000,000+</td>\n      <td>Free</td>\n      <td>0</td>\n      <td>Everyone</td>\n      <td>Lifestyle</td>\n      <td>July 25, 2018</td>\n      <td>Varies with device</td>\n      <td>Varies with device</td>\n    </tr>\n  </tbody>\n</table>\n<p>10840 rows × 14 columns</p>\n</div>"
     },
     "execution_count": 21,
     "metadata": {},
     "output_type": "execute_result"
    }
   ],
   "source": [
    "playstore"
   ],
   "metadata": {
    "collapsed": false,
    "ExecuteTime": {
     "end_time": "2023-12-03T13:49:37.605358200Z",
     "start_time": "2023-12-03T13:49:37.598840700Z"
    }
   },
   "id": "349d3f3d369e1e69"
  },
  {
   "cell_type": "code",
   "execution_count": 22,
   "outputs": [],
   "source": [
    "playstore['price'] = playstore['price'].replace('[\\$,]', '', regex=True).astype('float')"
   ],
   "metadata": {
    "collapsed": false,
    "ExecuteTime": {
     "end_time": "2023-12-03T13:49:38.483796300Z",
     "start_time": "2023-12-03T13:49:38.469465400Z"
    }
   },
   "id": "86850ae8893a286a"
  },
  {
   "cell_type": "code",
   "execution_count": 23,
   "outputs": [],
   "source": [
    "pivot__table = pd.pivot_table(playstore, index = ['category', 'type'], values=['price', 'rating', 'reviews'],aggfunc=\"mean\")"
   ],
   "metadata": {
    "collapsed": false,
    "ExecuteTime": {
     "end_time": "2023-12-03T13:49:39.114485400Z",
     "start_time": "2023-12-03T13:49:39.099297900Z"
    }
   },
   "id": "ccebc6104ea46b06"
  },
  {
   "cell_type": "code",
   "execution_count": 24,
   "outputs": [
    {
     "data": {
      "text/plain": "                         price    rating        reviews\ncategory          type                                 \nART_AND_DESIGN    Free  0.0000  4.338983   27617.322581\n                  Paid  1.9900  4.733333     722.000000\nAUTO_AND_VEHICLES Free  0.0000  4.184722   14140.280488\n                  Paid  4.4900  4.600000    1387.666667\nBEAUTY            Free  0.0000  4.278571    7476.226415\n...                        ...       ...            ...\nTRAVEL_AND_LOCAL  Paid  4.1625  4.100000    1506.083333\nVIDEO_PLAYERS     Free  0.0000  4.062821  645420.005848\n                  Paid  2.6150  4.100000    3341.750000\nWEATHER           Free  0.0000  4.230882  195517.486486\n                  Paid  4.0525  4.371429   17055.125000\n\n[63 rows x 3 columns]",
      "text/html": "<div>\n<style scoped>\n    .dataframe tbody tr th:only-of-type {\n        vertical-align: middle;\n    }\n\n    .dataframe tbody tr th {\n        vertical-align: top;\n    }\n\n    .dataframe thead th {\n        text-align: right;\n    }\n</style>\n<table border=\"1\" class=\"dataframe\">\n  <thead>\n    <tr style=\"text-align: right;\">\n      <th></th>\n      <th></th>\n      <th>price</th>\n      <th>rating</th>\n      <th>reviews</th>\n    </tr>\n    <tr>\n      <th>category</th>\n      <th>type</th>\n      <th></th>\n      <th></th>\n      <th></th>\n    </tr>\n  </thead>\n  <tbody>\n    <tr>\n      <th rowspan=\"2\" valign=\"top\">ART_AND_DESIGN</th>\n      <th>Free</th>\n      <td>0.0000</td>\n      <td>4.338983</td>\n      <td>27617.322581</td>\n    </tr>\n    <tr>\n      <th>Paid</th>\n      <td>1.9900</td>\n      <td>4.733333</td>\n      <td>722.000000</td>\n    </tr>\n    <tr>\n      <th rowspan=\"2\" valign=\"top\">AUTO_AND_VEHICLES</th>\n      <th>Free</th>\n      <td>0.0000</td>\n      <td>4.184722</td>\n      <td>14140.280488</td>\n    </tr>\n    <tr>\n      <th>Paid</th>\n      <td>4.4900</td>\n      <td>4.600000</td>\n      <td>1387.666667</td>\n    </tr>\n    <tr>\n      <th>BEAUTY</th>\n      <th>Free</th>\n      <td>0.0000</td>\n      <td>4.278571</td>\n      <td>7476.226415</td>\n    </tr>\n    <tr>\n      <th>...</th>\n      <th>...</th>\n      <td>...</td>\n      <td>...</td>\n      <td>...</td>\n    </tr>\n    <tr>\n      <th>TRAVEL_AND_LOCAL</th>\n      <th>Paid</th>\n      <td>4.1625</td>\n      <td>4.100000</td>\n      <td>1506.083333</td>\n    </tr>\n    <tr>\n      <th rowspan=\"2\" valign=\"top\">VIDEO_PLAYERS</th>\n      <th>Free</th>\n      <td>0.0000</td>\n      <td>4.062821</td>\n      <td>645420.005848</td>\n    </tr>\n    <tr>\n      <th>Paid</th>\n      <td>2.6150</td>\n      <td>4.100000</td>\n      <td>3341.750000</td>\n    </tr>\n    <tr>\n      <th rowspan=\"2\" valign=\"top\">WEATHER</th>\n      <th>Free</th>\n      <td>0.0000</td>\n      <td>4.230882</td>\n      <td>195517.486486</td>\n    </tr>\n    <tr>\n      <th>Paid</th>\n      <td>4.0525</td>\n      <td>4.371429</td>\n      <td>17055.125000</td>\n    </tr>\n  </tbody>\n</table>\n<p>63 rows × 3 columns</p>\n</div>"
     },
     "execution_count": 24,
     "metadata": {},
     "output_type": "execute_result"
    }
   ],
   "source": [
    "pivot__table"
   ],
   "metadata": {
    "collapsed": false,
    "ExecuteTime": {
     "end_time": "2023-12-03T13:49:40.040812400Z",
     "start_time": "2023-12-03T13:49:40.024906800Z"
    }
   },
   "id": "d02480af1577276a"
  },
  {
   "cell_type": "code",
   "execution_count": 25,
   "outputs": [],
   "source": [
    "pivot__table.columns = ['mean_price', 'mean_rating', 'mean_reviews']"
   ],
   "metadata": {
    "collapsed": false,
    "ExecuteTime": {
     "end_time": "2023-12-03T13:49:40.859052700Z",
     "start_time": "2023-12-03T13:49:40.853786100Z"
    }
   },
   "id": "3f9534ea5123b27b"
  },
  {
   "cell_type": "code",
   "execution_count": 26,
   "outputs": [
    {
     "data": {
      "text/plain": "                        mean_price  mean_rating   mean_reviews\ncategory          type                                        \nART_AND_DESIGN    Free      0.0000     4.338983   27617.322581\n                  Paid      1.9900     4.733333     722.000000\nAUTO_AND_VEHICLES Free      0.0000     4.184722   14140.280488\n                  Paid      4.4900     4.600000    1387.666667\nBEAUTY            Free      0.0000     4.278571    7476.226415\n...                            ...          ...            ...\nTRAVEL_AND_LOCAL  Paid      4.1625     4.100000    1506.083333\nVIDEO_PLAYERS     Free      0.0000     4.062821  645420.005848\n                  Paid      2.6150     4.100000    3341.750000\nWEATHER           Free      0.0000     4.230882  195517.486486\n                  Paid      4.0525     4.371429   17055.125000\n\n[63 rows x 3 columns]",
      "text/html": "<div>\n<style scoped>\n    .dataframe tbody tr th:only-of-type {\n        vertical-align: middle;\n    }\n\n    .dataframe tbody tr th {\n        vertical-align: top;\n    }\n\n    .dataframe thead th {\n        text-align: right;\n    }\n</style>\n<table border=\"1\" class=\"dataframe\">\n  <thead>\n    <tr style=\"text-align: right;\">\n      <th></th>\n      <th></th>\n      <th>mean_price</th>\n      <th>mean_rating</th>\n      <th>mean_reviews</th>\n    </tr>\n    <tr>\n      <th>category</th>\n      <th>type</th>\n      <th></th>\n      <th></th>\n      <th></th>\n    </tr>\n  </thead>\n  <tbody>\n    <tr>\n      <th rowspan=\"2\" valign=\"top\">ART_AND_DESIGN</th>\n      <th>Free</th>\n      <td>0.0000</td>\n      <td>4.338983</td>\n      <td>27617.322581</td>\n    </tr>\n    <tr>\n      <th>Paid</th>\n      <td>1.9900</td>\n      <td>4.733333</td>\n      <td>722.000000</td>\n    </tr>\n    <tr>\n      <th rowspan=\"2\" valign=\"top\">AUTO_AND_VEHICLES</th>\n      <th>Free</th>\n      <td>0.0000</td>\n      <td>4.184722</td>\n      <td>14140.280488</td>\n    </tr>\n    <tr>\n      <th>Paid</th>\n      <td>4.4900</td>\n      <td>4.600000</td>\n      <td>1387.666667</td>\n    </tr>\n    <tr>\n      <th>BEAUTY</th>\n      <th>Free</th>\n      <td>0.0000</td>\n      <td>4.278571</td>\n      <td>7476.226415</td>\n    </tr>\n    <tr>\n      <th>...</th>\n      <th>...</th>\n      <td>...</td>\n      <td>...</td>\n      <td>...</td>\n    </tr>\n    <tr>\n      <th>TRAVEL_AND_LOCAL</th>\n      <th>Paid</th>\n      <td>4.1625</td>\n      <td>4.100000</td>\n      <td>1506.083333</td>\n    </tr>\n    <tr>\n      <th rowspan=\"2\" valign=\"top\">VIDEO_PLAYERS</th>\n      <th>Free</th>\n      <td>0.0000</td>\n      <td>4.062821</td>\n      <td>645420.005848</td>\n    </tr>\n    <tr>\n      <th>Paid</th>\n      <td>2.6150</td>\n      <td>4.100000</td>\n      <td>3341.750000</td>\n    </tr>\n    <tr>\n      <th rowspan=\"2\" valign=\"top\">WEATHER</th>\n      <th>Free</th>\n      <td>0.0000</td>\n      <td>4.230882</td>\n      <td>195517.486486</td>\n    </tr>\n    <tr>\n      <th>Paid</th>\n      <td>4.0525</td>\n      <td>4.371429</td>\n      <td>17055.125000</td>\n    </tr>\n  </tbody>\n</table>\n<p>63 rows × 3 columns</p>\n</div>"
     },
     "execution_count": 26,
     "metadata": {},
     "output_type": "execute_result"
    }
   ],
   "source": [
    "pivot__table"
   ],
   "metadata": {
    "collapsed": false,
    "ExecuteTime": {
     "end_time": "2023-12-03T13:49:41.657281900Z",
     "start_time": "2023-12-03T13:49:41.643363900Z"
    }
   },
   "id": "e414164463c899a3"
  },
  {
   "cell_type": "code",
   "execution_count": 27,
   "outputs": [],
   "source": [
    "pivot__table = pivot__table.round({'mean_price': 2, 'mean_rating': 1,'mean_reviews': 2})"
   ],
   "metadata": {
    "collapsed": false,
    "ExecuteTime": {
     "end_time": "2023-12-03T13:49:43.572884Z",
     "start_time": "2023-12-03T13:49:43.568878300Z"
    }
   },
   "id": "5469ad715400e352"
  },
  {
   "cell_type": "code",
   "execution_count": 28,
   "outputs": [
    {
     "data": {
      "text/plain": "                        mean_price  mean_rating  mean_reviews\ncategory          type                                       \nART_AND_DESIGN    Free        0.00          4.3      27617.32\n                  Paid        1.99          4.7        722.00\nAUTO_AND_VEHICLES Free        0.00          4.2      14140.28\n                  Paid        4.49          4.6       1387.67\nBEAUTY            Free        0.00          4.3       7476.23\n...                            ...          ...           ...\nTRAVEL_AND_LOCAL  Paid        4.16          4.1       1506.08\nVIDEO_PLAYERS     Free        0.00          4.1     645420.01\n                  Paid        2.62          4.1       3341.75\nWEATHER           Free        0.00          4.2     195517.49\n                  Paid        4.05          4.4      17055.12\n\n[63 rows x 3 columns]",
      "text/html": "<div>\n<style scoped>\n    .dataframe tbody tr th:only-of-type {\n        vertical-align: middle;\n    }\n\n    .dataframe tbody tr th {\n        vertical-align: top;\n    }\n\n    .dataframe thead th {\n        text-align: right;\n    }\n</style>\n<table border=\"1\" class=\"dataframe\">\n  <thead>\n    <tr style=\"text-align: right;\">\n      <th></th>\n      <th></th>\n      <th>mean_price</th>\n      <th>mean_rating</th>\n      <th>mean_reviews</th>\n    </tr>\n    <tr>\n      <th>category</th>\n      <th>type</th>\n      <th></th>\n      <th></th>\n      <th></th>\n    </tr>\n  </thead>\n  <tbody>\n    <tr>\n      <th rowspan=\"2\" valign=\"top\">ART_AND_DESIGN</th>\n      <th>Free</th>\n      <td>0.00</td>\n      <td>4.3</td>\n      <td>27617.32</td>\n    </tr>\n    <tr>\n      <th>Paid</th>\n      <td>1.99</td>\n      <td>4.7</td>\n      <td>722.00</td>\n    </tr>\n    <tr>\n      <th rowspan=\"2\" valign=\"top\">AUTO_AND_VEHICLES</th>\n      <th>Free</th>\n      <td>0.00</td>\n      <td>4.2</td>\n      <td>14140.28</td>\n    </tr>\n    <tr>\n      <th>Paid</th>\n      <td>4.49</td>\n      <td>4.6</td>\n      <td>1387.67</td>\n    </tr>\n    <tr>\n      <th>BEAUTY</th>\n      <th>Free</th>\n      <td>0.00</td>\n      <td>4.3</td>\n      <td>7476.23</td>\n    </tr>\n    <tr>\n      <th>...</th>\n      <th>...</th>\n      <td>...</td>\n      <td>...</td>\n      <td>...</td>\n    </tr>\n    <tr>\n      <th>TRAVEL_AND_LOCAL</th>\n      <th>Paid</th>\n      <td>4.16</td>\n      <td>4.1</td>\n      <td>1506.08</td>\n    </tr>\n    <tr>\n      <th rowspan=\"2\" valign=\"top\">VIDEO_PLAYERS</th>\n      <th>Free</th>\n      <td>0.00</td>\n      <td>4.1</td>\n      <td>645420.01</td>\n    </tr>\n    <tr>\n      <th>Paid</th>\n      <td>2.62</td>\n      <td>4.1</td>\n      <td>3341.75</td>\n    </tr>\n    <tr>\n      <th rowspan=\"2\" valign=\"top\">WEATHER</th>\n      <th>Free</th>\n      <td>0.00</td>\n      <td>4.2</td>\n      <td>195517.49</td>\n    </tr>\n    <tr>\n      <th>Paid</th>\n      <td>4.05</td>\n      <td>4.4</td>\n      <td>17055.12</td>\n    </tr>\n  </tbody>\n</table>\n<p>63 rows × 3 columns</p>\n</div>"
     },
     "execution_count": 28,
     "metadata": {},
     "output_type": "execute_result"
    }
   ],
   "source": [
    "pivot__table"
   ],
   "metadata": {
    "collapsed": false,
    "ExecuteTime": {
     "end_time": "2023-12-03T13:49:44.805509600Z",
     "start_time": "2023-12-03T13:49:44.794996Z"
    }
   },
   "id": "29c66014934fe311"
  },
  {
   "cell_type": "code",
   "execution_count": 29,
   "outputs": [],
   "source": [
    "pivot__table.to_csv('pivot_table.csv', sep = ',')"
   ],
   "metadata": {
    "collapsed": false,
    "ExecuteTime": {
     "end_time": "2023-12-03T13:49:51.014612600Z",
     "start_time": "2023-12-03T13:49:51.000886500Z"
    }
   },
   "id": "1e9fa5f822f4ab4e"
  },
  {
   "cell_type": "code",
   "execution_count": 50,
   "outputs": [],
   "source": [
    "df_1 = pd.read_csv('playstore.csv')"
   ],
   "metadata": {
    "collapsed": false,
    "ExecuteTime": {
     "end_time": "2023-12-03T13:56:13.086673Z",
     "start_time": "2023-12-03T13:56:13.055609800Z"
    }
   },
   "id": "8c6a8a8b048ccf6"
  },
  {
   "cell_type": "code",
   "execution_count": 53,
   "outputs": [],
   "source": [
    "df_1.rename(str.lower, axis='columns', inplace=True)\n",
    "df_1.columns = df_1.columns.str.replace(' ', '_', regex=True)"
   ],
   "metadata": {
    "collapsed": false,
    "ExecuteTime": {
     "end_time": "2023-12-03T13:57:53.807767100Z",
     "start_time": "2023-12-03T13:57:53.784767900Z"
    }
   },
   "id": "5fcd696445ee0f43"
  },
  {
   "cell_type": "code",
   "execution_count": 54,
   "outputs": [],
   "source": [
    "df_1['price'] = df_1['price'].replace('[\\$,]', '', regex=True).astype('float')"
   ],
   "metadata": {
    "collapsed": false,
    "ExecuteTime": {
     "end_time": "2023-12-03T13:58:03.943004800Z",
     "start_time": "2023-12-03T13:58:03.918820100Z"
    }
   },
   "id": "3285f3d7c5467ed1"
  },
  {
   "cell_type": "code",
   "execution_count": 55,
   "outputs": [],
   "source": [
    "df_1 = df_1.drop_duplicates()"
   ],
   "metadata": {
    "collapsed": false,
    "ExecuteTime": {
     "end_time": "2023-12-03T13:58:05.741370800Z",
     "start_time": "2023-12-03T13:58:05.722427400Z"
    }
   },
   "id": "67726eb7018e12f8"
  },
  {
   "cell_type": "code",
   "execution_count": 56,
   "outputs": [
    {
     "data": {
      "text/plain": "       unnamed:_0                                                app  \\\n0               0     Photo Editor & Candy Camera & Grid & ScrapBook   \n1               1                                Coloring book moana   \n2               2  U Launcher Lite – FREE Live Cool Themes, Hide ...   \n3               3                              Sketch - Draw & Paint   \n4               4              Pixel Draw - Number Art Coloring Book   \n...           ...                                                ...   \n10835       10835                                   Sya9a Maroc - FR   \n10836       10836                   Fr. Mike Schmitz Audio Teachings   \n10837       10837                             Parkinson Exercices FR   \n10838       10838                      The SCP Foundation DB fr nn5n   \n10839       10839      iHoroscope - 2018 Daily Horoscope & Astrology   \n\n                  category  rating  reviews                size     installs  \\\n0           ART_AND_DESIGN     4.1      159                 19M      10,000+   \n1           ART_AND_DESIGN     3.9      967                 14M     500,000+   \n2           ART_AND_DESIGN     4.7    87510                8.7M   5,000,000+   \n3           ART_AND_DESIGN     4.5   215644                 25M  50,000,000+   \n4           ART_AND_DESIGN     4.3      967                2.8M     100,000+   \n...                    ...     ...      ...                 ...          ...   \n10835               FAMILY     4.5       38                 53M       5,000+   \n10836               FAMILY     5.0        4                3.6M         100+   \n10837              MEDICAL     NaN        3                9.5M       1,000+   \n10838  BOOKS_AND_REFERENCE     4.5      114  Varies with device       1,000+   \n10839            LIFESTYLE     4.5   398307                 19M  10,000,000+   \n\n       type  price content_rating                     genres  \\\n0      Free    0.0       Everyone               Art & Design   \n1      Free    0.0       Everyone  Art & Design;Pretend Play   \n2      Free    0.0       Everyone               Art & Design   \n3      Free    0.0           Teen               Art & Design   \n4      Free    0.0       Everyone    Art & Design;Creativity   \n...     ...    ...            ...                        ...   \n10835  Free    0.0       Everyone                  Education   \n10836  Free    0.0       Everyone                  Education   \n10837  Free    0.0       Everyone                    Medical   \n10838  Free    0.0     Mature 17+          Books & Reference   \n10839  Free    0.0       Everyone                  Lifestyle   \n\n           last_updated         current_ver         android_ver  \n0       January 7, 2018               1.0.0        4.0.3 and up  \n1      January 15, 2018               2.0.0        4.0.3 and up  \n2        August 1, 2018               1.2.4        4.0.3 and up  \n3          June 8, 2018  Varies with device          4.2 and up  \n4         June 20, 2018                 1.1          4.4 and up  \n...                 ...                 ...                 ...  \n10835     July 25, 2017                1.48          4.1 and up  \n10836      July 6, 2018                 1.0          4.1 and up  \n10837  January 20, 2017                 1.0          2.2 and up  \n10838  January 19, 2015  Varies with device  Varies with device  \n10839     July 25, 2018  Varies with device  Varies with device  \n\n[10840 rows x 14 columns]",
      "text/html": "<div>\n<style scoped>\n    .dataframe tbody tr th:only-of-type {\n        vertical-align: middle;\n    }\n\n    .dataframe tbody tr th {\n        vertical-align: top;\n    }\n\n    .dataframe thead th {\n        text-align: right;\n    }\n</style>\n<table border=\"1\" class=\"dataframe\">\n  <thead>\n    <tr style=\"text-align: right;\">\n      <th></th>\n      <th>unnamed:_0</th>\n      <th>app</th>\n      <th>category</th>\n      <th>rating</th>\n      <th>reviews</th>\n      <th>size</th>\n      <th>installs</th>\n      <th>type</th>\n      <th>price</th>\n      <th>content_rating</th>\n      <th>genres</th>\n      <th>last_updated</th>\n      <th>current_ver</th>\n      <th>android_ver</th>\n    </tr>\n  </thead>\n  <tbody>\n    <tr>\n      <th>0</th>\n      <td>0</td>\n      <td>Photo Editor &amp; Candy Camera &amp; Grid &amp; ScrapBook</td>\n      <td>ART_AND_DESIGN</td>\n      <td>4.1</td>\n      <td>159</td>\n      <td>19M</td>\n      <td>10,000+</td>\n      <td>Free</td>\n      <td>0.0</td>\n      <td>Everyone</td>\n      <td>Art &amp; Design</td>\n      <td>January 7, 2018</td>\n      <td>1.0.0</td>\n      <td>4.0.3 and up</td>\n    </tr>\n    <tr>\n      <th>1</th>\n      <td>1</td>\n      <td>Coloring book moana</td>\n      <td>ART_AND_DESIGN</td>\n      <td>3.9</td>\n      <td>967</td>\n      <td>14M</td>\n      <td>500,000+</td>\n      <td>Free</td>\n      <td>0.0</td>\n      <td>Everyone</td>\n      <td>Art &amp; Design;Pretend Play</td>\n      <td>January 15, 2018</td>\n      <td>2.0.0</td>\n      <td>4.0.3 and up</td>\n    </tr>\n    <tr>\n      <th>2</th>\n      <td>2</td>\n      <td>U Launcher Lite – FREE Live Cool Themes, Hide ...</td>\n      <td>ART_AND_DESIGN</td>\n      <td>4.7</td>\n      <td>87510</td>\n      <td>8.7M</td>\n      <td>5,000,000+</td>\n      <td>Free</td>\n      <td>0.0</td>\n      <td>Everyone</td>\n      <td>Art &amp; Design</td>\n      <td>August 1, 2018</td>\n      <td>1.2.4</td>\n      <td>4.0.3 and up</td>\n    </tr>\n    <tr>\n      <th>3</th>\n      <td>3</td>\n      <td>Sketch - Draw &amp; Paint</td>\n      <td>ART_AND_DESIGN</td>\n      <td>4.5</td>\n      <td>215644</td>\n      <td>25M</td>\n      <td>50,000,000+</td>\n      <td>Free</td>\n      <td>0.0</td>\n      <td>Teen</td>\n      <td>Art &amp; Design</td>\n      <td>June 8, 2018</td>\n      <td>Varies with device</td>\n      <td>4.2 and up</td>\n    </tr>\n    <tr>\n      <th>4</th>\n      <td>4</td>\n      <td>Pixel Draw - Number Art Coloring Book</td>\n      <td>ART_AND_DESIGN</td>\n      <td>4.3</td>\n      <td>967</td>\n      <td>2.8M</td>\n      <td>100,000+</td>\n      <td>Free</td>\n      <td>0.0</td>\n      <td>Everyone</td>\n      <td>Art &amp; Design;Creativity</td>\n      <td>June 20, 2018</td>\n      <td>1.1</td>\n      <td>4.4 and up</td>\n    </tr>\n    <tr>\n      <th>...</th>\n      <td>...</td>\n      <td>...</td>\n      <td>...</td>\n      <td>...</td>\n      <td>...</td>\n      <td>...</td>\n      <td>...</td>\n      <td>...</td>\n      <td>...</td>\n      <td>...</td>\n      <td>...</td>\n      <td>...</td>\n      <td>...</td>\n      <td>...</td>\n    </tr>\n    <tr>\n      <th>10835</th>\n      <td>10835</td>\n      <td>Sya9a Maroc - FR</td>\n      <td>FAMILY</td>\n      <td>4.5</td>\n      <td>38</td>\n      <td>53M</td>\n      <td>5,000+</td>\n      <td>Free</td>\n      <td>0.0</td>\n      <td>Everyone</td>\n      <td>Education</td>\n      <td>July 25, 2017</td>\n      <td>1.48</td>\n      <td>4.1 and up</td>\n    </tr>\n    <tr>\n      <th>10836</th>\n      <td>10836</td>\n      <td>Fr. Mike Schmitz Audio Teachings</td>\n      <td>FAMILY</td>\n      <td>5.0</td>\n      <td>4</td>\n      <td>3.6M</td>\n      <td>100+</td>\n      <td>Free</td>\n      <td>0.0</td>\n      <td>Everyone</td>\n      <td>Education</td>\n      <td>July 6, 2018</td>\n      <td>1.0</td>\n      <td>4.1 and up</td>\n    </tr>\n    <tr>\n      <th>10837</th>\n      <td>10837</td>\n      <td>Parkinson Exercices FR</td>\n      <td>MEDICAL</td>\n      <td>NaN</td>\n      <td>3</td>\n      <td>9.5M</td>\n      <td>1,000+</td>\n      <td>Free</td>\n      <td>0.0</td>\n      <td>Everyone</td>\n      <td>Medical</td>\n      <td>January 20, 2017</td>\n      <td>1.0</td>\n      <td>2.2 and up</td>\n    </tr>\n    <tr>\n      <th>10838</th>\n      <td>10838</td>\n      <td>The SCP Foundation DB fr nn5n</td>\n      <td>BOOKS_AND_REFERENCE</td>\n      <td>4.5</td>\n      <td>114</td>\n      <td>Varies with device</td>\n      <td>1,000+</td>\n      <td>Free</td>\n      <td>0.0</td>\n      <td>Mature 17+</td>\n      <td>Books &amp; Reference</td>\n      <td>January 19, 2015</td>\n      <td>Varies with device</td>\n      <td>Varies with device</td>\n    </tr>\n    <tr>\n      <th>10839</th>\n      <td>10839</td>\n      <td>iHoroscope - 2018 Daily Horoscope &amp; Astrology</td>\n      <td>LIFESTYLE</td>\n      <td>4.5</td>\n      <td>398307</td>\n      <td>19M</td>\n      <td>10,000,000+</td>\n      <td>Free</td>\n      <td>0.0</td>\n      <td>Everyone</td>\n      <td>Lifestyle</td>\n      <td>July 25, 2018</td>\n      <td>Varies with device</td>\n      <td>Varies with device</td>\n    </tr>\n  </tbody>\n</table>\n<p>10840 rows × 14 columns</p>\n</div>"
     },
     "execution_count": 56,
     "metadata": {},
     "output_type": "execute_result"
    }
   ],
   "source": [
    "df_1"
   ],
   "metadata": {
    "collapsed": false,
    "ExecuteTime": {
     "end_time": "2023-12-03T13:58:06.895174500Z",
     "start_time": "2023-12-03T13:58:06.880883200Z"
    }
   },
   "id": "6ad4b01fc16f6414"
  },
  {
   "cell_type": "code",
   "execution_count": 57,
   "outputs": [],
   "source": [
    "df_1['app'].drop_duplicates(inplace=True)"
   ],
   "metadata": {
    "collapsed": false,
    "ExecuteTime": {
     "end_time": "2023-12-03T13:58:11.237345300Z",
     "start_time": "2023-12-03T13:58:11.232111500Z"
    }
   },
   "id": "1a88fbca23712dfb"
  },
  {
   "cell_type": "code",
   "execution_count": 58,
   "outputs": [],
   "source": [
    "pv_table = pd.pivot_table(df_1, index = ['category', 'type'], values=['price', 'rating', 'reviews'],aggfunc=\"mean\")"
   ],
   "metadata": {
    "collapsed": false,
    "ExecuteTime": {
     "end_time": "2023-12-03T13:59:40.586987900Z",
     "start_time": "2023-12-03T13:59:40.563286100Z"
    }
   },
   "id": "37c314079abf62cf"
  },
  {
   "cell_type": "code",
   "execution_count": 59,
   "outputs": [],
   "source": [
    "pv_table.columns = ['mean_price', 'mean_rating', 'mean_reviews']"
   ],
   "metadata": {
    "collapsed": false,
    "ExecuteTime": {
     "end_time": "2023-12-03T14:00:21.642542900Z",
     "start_time": "2023-12-03T14:00:21.621535400Z"
    }
   },
   "id": "ea667be3c305cf9e"
  },
  {
   "cell_type": "code",
   "execution_count": 60,
   "outputs": [],
   "source": [
    "pv_table = pv_table.round({'mean_price': 2, 'mean_rating': 1,'mean_reviews': 2})"
   ],
   "metadata": {
    "collapsed": false,
    "ExecuteTime": {
     "end_time": "2023-12-03T14:00:22.414901100Z",
     "start_time": "2023-12-03T14:00:22.385959200Z"
    }
   },
   "id": "e787feb96ef73422"
  },
  {
   "cell_type": "code",
   "execution_count": 61,
   "outputs": [
    {
     "data": {
      "text/plain": "                        mean_price  mean_rating  mean_reviews\ncategory          type                                       \nART_AND_DESIGN    Free        0.00          4.3      27617.32\n                  Paid        1.99          4.7        722.00\nAUTO_AND_VEHICLES Free        0.00          4.2      14140.28\n                  Paid        4.49          4.6       1387.67\nBEAUTY            Free        0.00          4.3       7476.23\n...                            ...          ...           ...\nTRAVEL_AND_LOCAL  Paid        4.16          4.1       1506.08\nVIDEO_PLAYERS     Free        0.00          4.1     645420.01\n                  Paid        2.62          4.1       3341.75\nWEATHER           Free        0.00          4.2     195517.49\n                  Paid        4.05          4.4      17055.12\n\n[63 rows x 3 columns]",
      "text/html": "<div>\n<style scoped>\n    .dataframe tbody tr th:only-of-type {\n        vertical-align: middle;\n    }\n\n    .dataframe tbody tr th {\n        vertical-align: top;\n    }\n\n    .dataframe thead th {\n        text-align: right;\n    }\n</style>\n<table border=\"1\" class=\"dataframe\">\n  <thead>\n    <tr style=\"text-align: right;\">\n      <th></th>\n      <th></th>\n      <th>mean_price</th>\n      <th>mean_rating</th>\n      <th>mean_reviews</th>\n    </tr>\n    <tr>\n      <th>category</th>\n      <th>type</th>\n      <th></th>\n      <th></th>\n      <th></th>\n    </tr>\n  </thead>\n  <tbody>\n    <tr>\n      <th rowspan=\"2\" valign=\"top\">ART_AND_DESIGN</th>\n      <th>Free</th>\n      <td>0.00</td>\n      <td>4.3</td>\n      <td>27617.32</td>\n    </tr>\n    <tr>\n      <th>Paid</th>\n      <td>1.99</td>\n      <td>4.7</td>\n      <td>722.00</td>\n    </tr>\n    <tr>\n      <th rowspan=\"2\" valign=\"top\">AUTO_AND_VEHICLES</th>\n      <th>Free</th>\n      <td>0.00</td>\n      <td>4.2</td>\n      <td>14140.28</td>\n    </tr>\n    <tr>\n      <th>Paid</th>\n      <td>4.49</td>\n      <td>4.6</td>\n      <td>1387.67</td>\n    </tr>\n    <tr>\n      <th>BEAUTY</th>\n      <th>Free</th>\n      <td>0.00</td>\n      <td>4.3</td>\n      <td>7476.23</td>\n    </tr>\n    <tr>\n      <th>...</th>\n      <th>...</th>\n      <td>...</td>\n      <td>...</td>\n      <td>...</td>\n    </tr>\n    <tr>\n      <th>TRAVEL_AND_LOCAL</th>\n      <th>Paid</th>\n      <td>4.16</td>\n      <td>4.1</td>\n      <td>1506.08</td>\n    </tr>\n    <tr>\n      <th rowspan=\"2\" valign=\"top\">VIDEO_PLAYERS</th>\n      <th>Free</th>\n      <td>0.00</td>\n      <td>4.1</td>\n      <td>645420.01</td>\n    </tr>\n    <tr>\n      <th>Paid</th>\n      <td>2.62</td>\n      <td>4.1</td>\n      <td>3341.75</td>\n    </tr>\n    <tr>\n      <th rowspan=\"2\" valign=\"top\">WEATHER</th>\n      <th>Free</th>\n      <td>0.00</td>\n      <td>4.2</td>\n      <td>195517.49</td>\n    </tr>\n    <tr>\n      <th>Paid</th>\n      <td>4.05</td>\n      <td>4.4</td>\n      <td>17055.12</td>\n    </tr>\n  </tbody>\n</table>\n<p>63 rows × 3 columns</p>\n</div>"
     },
     "execution_count": 61,
     "metadata": {},
     "output_type": "execute_result"
    }
   ],
   "source": [
    "pv_table"
   ],
   "metadata": {
    "collapsed": false,
    "ExecuteTime": {
     "end_time": "2023-12-03T14:00:26.864741100Z",
     "start_time": "2023-12-03T14:00:26.842091100Z"
    }
   },
   "id": "84314e1dde5402f6"
  },
  {
   "cell_type": "code",
   "execution_count": 62,
   "outputs": [],
   "source": [
    "pv_table.to_csv('pv.csv', sep = ',')"
   ],
   "metadata": {
    "collapsed": false,
    "ExecuteTime": {
     "end_time": "2023-12-03T14:01:05.808396700Z",
     "start_time": "2023-12-03T14:01:05.782922100Z"
    }
   },
   "id": "718ddfc52778ada7"
  },
  {
   "cell_type": "code",
   "execution_count": null,
   "outputs": [],
   "source": [],
   "metadata": {
    "collapsed": false
   },
   "id": "7085d04cccf420e4"
  }
 ],
 "metadata": {
  "kernelspec": {
   "display_name": "Python 3",
   "language": "python",
   "name": "python3"
  },
  "language_info": {
   "codemirror_mode": {
    "name": "ipython",
    "version": 2
   },
   "file_extension": ".py",
   "mimetype": "text/x-python",
   "name": "python",
   "nbconvert_exporter": "python",
   "pygments_lexer": "ipython2",
   "version": "2.7.6"
  }
 },
 "nbformat": 4,
 "nbformat_minor": 5
}
