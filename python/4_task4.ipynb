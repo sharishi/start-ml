{
 "cells": [
  {
   "cell_type": "markdown",
   "source": [
    "Задание 4\n",
    "Откройте ноутбук по ссылке. Посмотрите на графики, потом попробуйте их воссоздать. Как добиться того, чтобы при \"Restart Kernel and run all\" получались схожие графики? "
   ],
   "metadata": {
    "collapsed": false
   },
   "id": "a7d65d907c87186e"
  },
  {
   "cell_type": "code",
   "execution_count": 3,
   "id": "101f59c0",
   "metadata": {
    "ExecuteTime": {
     "end_time": "2023-11-24T17:08:21.044167Z",
     "start_time": "2023-11-24T17:08:16.266511100Z"
    }
   },
   "outputs": [
    {
     "data": {
      "text/plain": "<Figure size 640x480 with 1 Axes>",
      "image/png": "[encoded data removed]"
     },
     "metadata": {},
     "output_type": "display_data"
    }
   ],
   "source": [
    "import numpy as np\n",
    "from scipy.stats import ttest_ind, mannwhitneyu\n",
    "\n",
    "res, res1 = [], []\n",
    "for i in range(int(1e4)):\n",
    "    # сгенерируем два массива из нормального распределения\n",
    "    sample_1 = np.random.normal(0.3, 3, size=int(1e3))\n",
    "    sample_2 = np.random.normal(0, 3, size=int(1e3))\n",
    "    # тест на гипотезу: а равны ли мат.ожидания? (0.3 против 0)\n",
    "    stat, p = ttest_ind(sample_1, sample_2)\n",
    "    #stat, p = mannwhitneyu(sample_1, sample_2)\n",
    "    res.append(stat)\n",
    "    res1.append(p)\n",
    "# рисуем графики на p-value (в модуле статистики узнаете, что это такое)\n",
    "_ = plt.hist(res1, bins=100)"
   ]
  },
  {
   "cell_type": "code",
   "execution_count": 2,
   "id": "b46fe7f5",
   "metadata": {
    "ExecuteTime": {
     "end_time": "2023-11-24T17:08:14.307029400Z",
     "start_time": "2023-11-24T17:08:13.349588900Z"
    }
   },
   "outputs": [
    {
     "data": {
      "text/plain": "<Figure size 640x480 with 1 Axes>",
      "image/png": "[encoded data removed]"
     },
     "metadata": {},
     "output_type": "display_data"
    }
   ],
   "source": [
    "import matplotlib.pyplot as plt\n",
    "# рисуем получающуюся статистику\n",
    "_ = plt.hist(res, bins=100)"
   ]
  },
  {
   "cell_type": "markdown",
   "source": [
    "Задание 5\n",
    "Реализуйте скалярное произведение двух векторов размера 1e5 через цикл for в ноутбуке и замерьте скорость выполнения кода с использованием магической команды %%timeit. Используйте для быстрой генерации вектора такой трюк: vec1 = list(range(int(1e5))).\n",
    "\n",
    "Рекомендуем скалярное произведение обернуть в функцию.\n",
    "\n",
    "Сколько секунд отрабатывала ваша функция?"
   ],
   "metadata": {
    "collapsed": false
   },
   "id": "4affedaaf09fa606"
  },
  {
   "cell_type": "code",
   "execution_count": 4,
   "outputs": [],
   "source": [
    "# Генерация вектора vec1\n",
    "vec1 = list(range(int(1e5)))\n",
    "\n",
    "# Генерация второго вектора (для примера, используем обратный порядок значений)\n",
    "vec2 = list(range(int(1e5)-1, -1, -1))\n",
    "\n",
    "# Реализация скалярного произведения через цикл for\n",
    "def scalar_product(vec1, vec2):\n",
    "    result = 0\n",
    "    for i in range(len(vec1)):\n",
    "        result += vec1[i] * vec2[i]\n",
    "    return result"
   ],
   "metadata": {
    "collapsed": false,
    "ExecuteTime": {
     "end_time": "2023-11-24T17:24:38.252745900Z",
     "start_time": "2023-11-24T17:24:38.249225200Z"
    }
   },
   "id": "bc86a14da77ef520"
  },
  {
   "cell_type": "code",
   "execution_count": 8,
   "outputs": [
    {
     "name": "stdout",
     "output_type": "stream",
     "text": [
      "5.13 ms ± 177 µs per loop (mean ± std. dev. of 7 runs, 100 loops each)\n"
     ]
    }
   ],
   "source": [
    "%%timeit\n",
    "result = scalar_product(vec1, vec2)"
   ],
   "metadata": {
    "collapsed": false,
    "ExecuteTime": {
     "end_time": "2023-11-24T17:25:59.765774800Z",
     "start_time": "2023-11-24T17:25:55.555756700Z"
    }
   },
   "id": "1bafd1b9606c8a28"
  },
  {
   "cell_type": "code",
   "execution_count": 6,
   "outputs": [],
   "source": [
    "#correct resolve\n",
    "def sc(vec1, vec2):\n",
    "    if len(vec1) != len(vec2):\n",
    "        raise ValueError(f'length are not equal: {len(vec1)} != {len(vec2)}')\n",
    "    result = 0.\n",
    "    for i in range(len(vec1)):\n",
    "        result += vec1[i] * vec2[i]\n",
    "    return result\n",
    "\n",
    "#Для замера скорости работы воспользуемся магической командой\n",
    "import random\n",
    "size = int(1e8)\n",
    "a = list(range(size))\n",
    "\n",
    "%timeit sc(a, a)\n",
    "\n",
    "## либо\n",
    "#### другая ячейка\n",
    "%%timeit\n",
    "sc(a, a)\n",
    "#### конец другой ячейки"
   ],
   "metadata": {
    "collapsed": false,
    "ExecuteTime": {
     "end_time": "2023-11-24T17:25:46.145327800Z",
     "start_time": "2023-11-24T17:25:46.138807800Z"
    }
   },
   "id": "daef78a8ade33c1b"
  },
  {
   "cell_type": "markdown",
   "source": [
    "Задание 7\n",
    "Теперь подключите библиотеку numpy, оберните списки, созданные на степе 5, в np.array(), затем воспользуйтесь встроенной функцией np.dot() для их скалярного произведения. Замерьте время выполнения кода через %%timeit. Какое оно стало?"
   ],
   "metadata": {
    "collapsed": false
   },
   "id": "5c61188da71d1998"
  },
  {
   "cell_type": "code",
   "execution_count": 1,
   "outputs": [
    {
     "ename": "NameError",
     "evalue": "name 'a' is not defined",
     "output_type": "error",
     "traceback": [
      "\u001B[1;31m---------------------------------------------------------------------------\u001B[0m",
      "\u001B[1;31mNameError\u001B[0m                                 Traceback (most recent call last)",
      "Cell \u001B[1;32mIn[1], line 2\u001B[0m\n\u001B[0;32m      1\u001B[0m \u001B[38;5;28;01mimport\u001B[39;00m \u001B[38;5;21;01mnumpy\u001B[39;00m \u001B[38;5;28;01mas\u001B[39;00m \u001B[38;5;21;01mnp\u001B[39;00m\n\u001B[1;32m----> 2\u001B[0m a \u001B[38;5;241m=\u001B[39m np\u001B[38;5;241m.\u001B[39marray(\u001B[43ma\u001B[49m)\n",
      "\u001B[1;31mNameError\u001B[0m: name 'a' is not defined"
     ]
    }
   ],
   "source": [
    "import numpy as np\n",
    "a = np.array(a)"
   ],
   "metadata": {
    "collapsed": false,
    "ExecuteTime": {
     "end_time": "2024-01-02T18:37:43.541744400Z",
     "start_time": "2024-01-02T18:37:43.235751100Z"
    }
   },
   "id": "5877164c04bd3a9f"
  },
  {
   "cell_type": "markdown",
   "source": [],
   "metadata": {
    "collapsed": false
   },
   "id": "63238c84088d0e39"
  },
  {
   "cell_type": "code",
   "execution_count": 1,
   "outputs": [],
   "source": [
    "%timeit np.dot(a, a)"
   ],
   "metadata": {
    "collapsed": false,
    "ExecuteTime": {
     "end_time": "2024-01-02T18:37:47.351786600Z",
     "start_time": "2024-01-02T18:37:47.334777900Z"
    }
   },
   "id": "e9fad3aa6386fe25"
  },
  {
   "cell_type": "code",
   "execution_count": null,
   "outputs": [],
   "source": [
    "#выведет примерно следующее:\n",
    "\n",
    "#49 µs ± 4.56 µs per loop (mean ± std. dev. of 7 runs, 10000 loops each)"
   ],
   "metadata": {
    "collapsed": false
   },
   "id": "c63ed3f5192ca4"
  }
 ],
 "metadata": {
  "kernelspec": {
   "display_name": "Python 3",
   "language": "python",
   "name": "python3"
  },
  "language_info": {
   "codemirror_mode": {
    "name": "ipython",
    "version": 3
   },
   "file_extension": ".py",
   "mimetype": "text/x-python",
   "name": "python",
   "nbconvert_exporter": "python",
   "pygments_lexer": "ipython3",
   "version": "3.9.5"
  },
  "toc": {
   "base_numbering": 1,
   "nav_menu": {},
   "number_sections": true,
   "sideBar": true,
   "skip_h1_title": false,
   "title_cell": "Table of Contents",
   "title_sidebar": "Contents",
   "toc_cell": false,
   "toc_position": {},
   "toc_section_display": true,
   "toc_window_display": false
  },
  "varInspector": {
   "cols": {
    "lenName": 16,
    "lenType": 16,
    "lenVar": 40
   },
   "kernels_config": {
    "python": {
     "delete_cmd_postfix": "",
     "delete_cmd_prefix": "del ",
     "library": "var_list.py",
     "varRefreshCmd": "print(var_dic_list())"
    },
    "r": {
     "delete_cmd_postfix": ") ",
     "delete_cmd_prefix": "rm(",
     "library": "var_list.r",
     "varRefreshCmd": "cat(var_dic_list()) "
    }
   },
   "types_to_exclude": [
    "module",
    "function",
    "builtin_function_or_method",
    "instance",
    "_Feature"
   ],
   "window_display": false
  }
 },
 "nbformat": 4,
 "nbformat_minor": 5
}
