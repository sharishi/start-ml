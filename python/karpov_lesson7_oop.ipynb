{
 "cells": [
  {
   "cell_type": "markdown",
   "source": [
    "Напишите класс Triangle, который будет иметь 3 поля: a, b, c (стороны треугольника) и n_dots = 3 (количество точек). Поле n_dots объявите на уровне класса, не в конструкторе — чтобы оно было доступно без создания объекта (т.е. работал вызов Triangle.n_dots). Добавьте в класс простой конструктор, принимающий на вход все три стороны и сохраняющий эти стороны в соответсвующие поля класса.\n",
    "\n",
    "Создайте объекты этого класса со следующими названиями: tr_1, tr_2 и любыми значениями длин сторон."
   ],
   "metadata": {
    "collapsed": false
   },
   "id": "b0f731c5c9d50153"
  },
  {
   "cell_type": "code",
   "execution_count": 1,
   "outputs": [],
   "source": [
    "# class Triangle:\n",
    "#     a: int\n",
    "#     b: int\n",
    "#     c: int\n",
    "#     n_dots = 3\n",
    "#     def __init__(self, a, b, c):  \n",
    "#         if a >= b + c or b >= a + c or c >= a + b:\n",
    "#             raise ValueError(\"Triangle inequality does not hold\")\n",
    "#         self.a = a \n",
    "#         self.b = b \n",
    "#         self.c = c \n",
    "# \n",
    "#     \n",
    "#     def area(self):\n",
    "#         p = 0.5*(self.a + self.b + self.c)\n",
    "#         return (p*(p - self.a)*(p - self.b)*(p - self.c))**0.5\n"
   ],
   "metadata": {
    "collapsed": false,
    "ExecuteTime": {
     "end_time": "2023-12-08T15:28:44.766782700Z",
     "start_time": "2023-12-08T15:28:44.588267600Z"
    }
   },
   "id": "17ef9ea4f1d6c0dd"
  },
  {
   "cell_type": "code",
   "execution_count": 2,
   "outputs": [
    {
     "ename": "NameError",
     "evalue": "name 'Triangle' is not defined",
     "output_type": "error",
     "traceback": [
      "\u001B[1;31m---------------------------------------------------------------------------\u001B[0m",
      "\u001B[1;31mNameError\u001B[0m                                 Traceback (most recent call last)",
      "Cell \u001B[1;32mIn[2], line 1\u001B[0m\n\u001B[1;32m----> 1\u001B[0m \u001B[43mTriangle\u001B[49m\u001B[38;5;241m.\u001B[39mn_dots\n",
      "\u001B[1;31mNameError\u001B[0m: name 'Triangle' is not defined"
     ]
    }
   ],
   "source": [
    "Triangle.n_dots"
   ],
   "metadata": {
    "collapsed": false,
    "ExecuteTime": {
     "end_time": "2023-12-08T15:28:44.845228400Z",
     "start_time": "2023-12-08T15:28:44.593783300Z"
    }
   },
   "id": "f43be09eccb3e24f"
  },
  {
   "cell_type": "code",
   "execution_count": null,
   "outputs": [],
   "source": [
    "tr_1 = Triangle(2, 5 ,7)\n",
    "tr_2 = Triangle(3, 4 ,6)"
   ],
   "metadata": {
    "collapsed": false,
    "ExecuteTime": {
     "end_time": "2023-12-08T15:28:44.850228Z",
     "start_time": "2023-12-08T15:28:44.847228600Z"
    }
   },
   "id": "f54063f9fbc9430b"
  },
  {
   "cell_type": "code",
   "execution_count": null,
   "outputs": [],
   "source": [
    "tr_1.c"
   ],
   "metadata": {
    "collapsed": false,
    "ExecuteTime": {
     "start_time": "2023-12-08T15:28:44.849229400Z"
    }
   },
   "id": "fa3ac5e75dc21064"
  },
  {
   "cell_type": "markdown",
   "source": [
    "Возьмите класс Triangle из предыдущего задания и добавьте метод area(), возвращающий площадь треугольника. Напомним, что при известных трех сторонах площадь треугольника можно подсчитать по формуле Герона: S= \n",
    "p(p−a)(p−b)(p−c)\n",
    "​\n",
    " , где p= \n",
    "2\n",
    "1\n",
    "​\n",
    " (a+b+c) — полупериметр. Подумайте, как можно организовать код так, чтобы p считалась один раз.\n",
    "\n",
    "Затем поменяйте конструктор: он должен проверять, что выполнено неравенство треугольника - каждая сторона меньше  суммы двух других. Если это условие не выполнено, выбрасывайте ValueError с текстом \"triangle inequality does not hold\" (передайте эту строку в конструктор ValueError).\n",
    "\n",
    "Наконец, создайте два объекта данного класса с названиями tr_1 и tr_2 , в которых соблюдается неравенство треугольника. Также, сохраните в переменные square_1 и square_2 результаты вызовов методов .area() для объектов tr_1 и tr_2 соответственно."
   ],
   "metadata": {
    "collapsed": false
   },
   "id": "7213d92d6770dbbd"
  },
  {
   "cell_type": "code",
   "execution_count": null,
   "outputs": [],
   "source": [
    "tr_3 = Triangle(6, 5 ,7)\n",
    "tr_4 = Triangle(5, 7 ,9)"
   ],
   "metadata": {
    "collapsed": false,
    "ExecuteTime": {
     "start_time": "2023-12-08T15:28:44.850228Z"
    }
   },
   "id": "d66a8092ca4f76ff"
  },
  {
   "cell_type": "code",
   "execution_count": null,
   "outputs": [],
   "source": [
    "# tr_5 = Triangle(2, 1 ,9)"
   ],
   "metadata": {
    "collapsed": false,
    "ExecuteTime": {
     "end_time": "2023-12-08T15:28:44.852227Z",
     "start_time": "2023-12-08T15:28:44.852227Z"
    }
   },
   "id": "5c5d9db42e3fe166"
  },
  {
   "cell_type": "code",
   "execution_count": null,
   "outputs": [],
   "source": [
    "square_1 = tr_3.area()\n",
    "square_2 = tr_4.area()"
   ],
   "metadata": {
    "collapsed": false,
    "ExecuteTime": {
     "end_time": "2023-12-08T15:28:44.863226900Z",
     "start_time": "2023-12-08T15:28:44.853226400Z"
    }
   },
   "id": "94648c22b218804e"
  },
  {
   "cell_type": "code",
   "execution_count": null,
   "outputs": [],
   "source": [
    "square_1"
   ],
   "metadata": {
    "collapsed": false,
    "ExecuteTime": {
     "start_time": "2023-12-08T15:28:44.854227500Z"
    }
   },
   "id": "4f11e7e08d3ca4c5"
  },
  {
   "cell_type": "markdown",
   "source": [
    "Создайте класс Rectangle (прямоугольник), который будет наследоваться от класса Triangle. Сделайте так, чтобы area(), конструктор и поле n_dots были верными. А именно:\n",
    "\n",
    "Конструктор должен принимать 2 стороны: a, b\n",
    "area() должен считать площадь как произведение смежных сторон: S=ab\n",
    "Неравенство треугольника не нужно проверять.\n",
    "n_dots должен быть объявлен на уровне класса и равняться 4."
   ],
   "metadata": {
    "collapsed": false
   },
   "id": "913705be9c58c3a6"
  },
  {
   "cell_type": "code",
   "execution_count": null,
   "outputs": [],
   "source": [
    "# class Rectangle(Triangle):\n",
    "#     n_dots = 4\n",
    "#     def __init__(self, a, b):\n",
    "#         # Вызываем конструктор родительского класса\n",
    "#         super().__init__(a, b, a + b)\n",
    "#         \n",
    "#         # Для прямоугольника у нас две стороны\n",
    "#         self.a = a\n",
    "#         self.b = b\n",
    "#         \n",
    "#     def area(self):\n",
    "#         return self.a * self.b"
   ],
   "metadata": {
    "collapsed": false,
    "ExecuteTime": {
     "start_time": "2023-12-08T15:28:44.856226200Z"
    }
   },
   "id": "c4ca42fcfe39c9bf"
  },
  {
   "cell_type": "markdown",
   "source": [
    "Но все же хочется использовать наследование, ведь треугольники и прямоугольники имеют общие свойства: \n",
    "\n",
    "Оба характеризуются количеством точек n_dots.\n",
    "Оба имеют метод area().\n",
    "Оба имеют проверки на валидность данных. В случае прямоугольника это было равенство противоположных сторон, которое мы пропустили благодаря трюку: вместо принятия четырех сторон a, b, c, d на вход мы принимали две и далее держали в уме a=c, b=d. В случае треугольника это было неравенство треугольника.\n",
    "Тут нам поможет создание некой \"базовой фигуры\". Это будет сборник общих свойств, который сам по себе не будет представлять никакую фигуру, но послужит хорошим плацдармом для следующих классов.\n",
    "\n",
    "Напишите класс BaseFigure, который имеет поле класса (т.е. на уровне класса) n_dots = None, метод area() \"без реализации\", метод validate() \"без реализации\". Сделайте так, чтобы методы \"без реализации\" выбрасывали исключение NotImplementedError при их вызове и ничего другого не делали. Создайте также конструктор класса, который не принимает дополнительных аргументов и в реализации только лишь вызывает self.validate()."
   ],
   "metadata": {
    "collapsed": false
   },
   "id": "beaef28eae2f2f76"
  },
  {
   "cell_type": "code",
   "execution_count": null,
   "outputs": [],
   "source": [
    "class BaseFigure:\n",
    "    n_dots = None\n",
    "\n",
    "    def __init__(self):\n",
    "        self.validate()\n",
    "\n",
    "    def area(self):\n",
    "        raise NotImplementedError(\"Метод area должен быть реализован в подклассе\")\n",
    "\n",
    "    def validate(self):\n",
    "        raise NotImplementedError(\"Метод validate должен быть реализован в подклассе\")"
   ],
   "metadata": {
    "collapsed": false,
    "ExecuteTime": {
     "start_time": "2023-12-08T15:28:44.857227500Z"
    }
   },
   "id": "7fc33e308e1047b8"
  },
  {
   "cell_type": "markdown",
   "source": [
    "Перепишите классы Triangle, Rectangle так, чтобы они наследовались от BaseFigure. Затем уберите реализацию всех методов и конструкторов в классах-потомках.\n",
    "\n",
    "Есть ли у Triangle, Rectangle методы area, validate? Если есть, то что они возвращают при вызове?"
   ],
   "metadata": {
    "collapsed": false
   },
   "id": "d5753852f5935c05"
  },
  {
   "cell_type": "code",
   "execution_count": null,
   "outputs": [],
   "source": [
    "# class Rectangle(BaseFigure):\n",
    "#     n_dots = 4\n"
   ],
   "metadata": {
    "collapsed": false,
    "ExecuteTime": {
     "start_time": "2023-12-08T15:28:44.859226800Z"
    }
   },
   "id": "946e94f9c2da199d"
  },
  {
   "cell_type": "code",
   "execution_count": null,
   "outputs": [],
   "source": [
    "# class Triangle(BaseFigure):\n",
    "#     a: int\n",
    "#     b: int\n",
    "#     c: int\n",
    "#     n_dots = 3\n",
    "    "
   ],
   "metadata": {
    "collapsed": false,
    "ExecuteTime": {
     "start_time": "2023-12-08T15:28:44.860231Z"
    }
   },
   "id": "7231d1743544003f"
  },
  {
   "cell_type": "code",
   "execution_count": null,
   "outputs": [],
   "source": [
    "# v_1 = Triangle()"
   ],
   "metadata": {
    "collapsed": false,
    "ExecuteTime": {
     "start_time": "2023-12-08T15:28:44.862230500Z"
    }
   },
   "id": "5363ad13cebc3cc9"
  },
  {
   "cell_type": "markdown",
   "source": [
    "Возьмите классы Triangle и Rectangle из прошлого задания.\n",
    "\n",
    "Переопределите метод area в каждом случае.\n",
    "Переопределите конструктор в каждом случае (число аргументов тоже меняется). Не забудьте в конструкторе дочернего класса вызвать конструктор родительского класса!\n",
    "Переопределите метод validate в каждом случае. Метод validate должен принимать только аргумент self и использовать созданные в конструкторе переменные. Для этого вы можете сначала сохранять в конструкторе входные данные в self.переменная, а затем вызывать конструктор суперкласса. Для Triangle данный метод должен проверять неравенство треугольника и выбрасывать ошибку ValueError(\"triangle inequality does not hold\") либо возвращать значения сторон. Для Rectangle данный метод должен возвращать значения сторон.\n",
    "В итоге вы получите два класса, которые построены по схожему шаблону. Этот общий шаблон был задан в классе BaseFigure. Создайте несколько объектов этих классов и попробуйте вызвать у них .area(), .validate(). Если вы пользуетесь IDE, то увидите интерактивные подсказки: она скажет, что такие методы есть и что эти методы перегружают (overload) методы из родительского класса. При этом вызов методов будет работать коррректно.\n",
    "\n",
    "Загрузите в LMS реализацию классов Triangle, Rectangle. Используйте для отступов 4 пробела. ОБРАТИТЕ ВНИМАНИЕ, что реализацию класса BaseFigure загружать не надо."
   ],
   "metadata": {
    "collapsed": false
   },
   "id": "2fd4509e9b85566a"
  },
  {
   "cell_type": "markdown",
   "source": [],
   "metadata": {
    "collapsed": false
   },
   "id": "84188d1bac0cc5a5"
  },
  {
   "cell_type": "code",
   "execution_count": null,
   "outputs": [],
   "source": [
    "class Rectangle(BaseFigure):\n",
    "    n_dots = 4\n",
    "    def __init__(self, a, b):\n",
    "        self.a = a\n",
    "        self.b = b\n",
    "        \n",
    "        super().__init__()\n",
    "\n",
    "    def area(self):\n",
    "        return self.a * self.b\n",
    "    \n",
    "    def validate(self):\n",
    "        return self.a, self.b\n",
    "    "
   ],
   "metadata": {
    "collapsed": false,
    "ExecuteTime": {
     "end_time": "2023-12-08T15:28:44.866228100Z",
     "start_time": "2023-12-08T15:28:44.864225900Z"
    }
   },
   "id": "5b2edabe9caa506f"
  },
  {
   "cell_type": "code",
   "execution_count": null,
   "outputs": [],
   "source": [
    "class Triangle(BaseFigure):\n",
    "    a: int\n",
    "    b: int\n",
    "    c: int\n",
    "    n_dots = 3\n",
    "    def __init__(self, a, b, c):  \n",
    "        \n",
    "        self.a = a \n",
    "        self.b = b \n",
    "        self.c = c \n",
    "        super().__init__()\n",
    "\n",
    "    def area(self):\n",
    "        p = 0.5*(self.a + self.b + self.c)\n",
    "        return (p*(p - self.a)*(p - self.b)*(p - self.c))**0.5\n",
    "    \n",
    "    def validate(self):\n",
    "            if self.a >= self.b + self.c or self.b >= self.a + self.c or self.c >= self.a + self.b:\n",
    "                raise ValueError(\"Triangle inequality does not hold\")\n",
    "            else:\n",
    "                return self.a, self.b, self.c"
   ],
   "metadata": {
    "collapsed": false,
    "ExecuteTime": {
     "start_time": "2023-12-08T15:28:44.865226500Z"
    }
   },
   "id": "4ec8660182ba940e"
  },
  {
   "cell_type": "code",
   "execution_count": null,
   "outputs": [],
   "source": [
    "rec_1 = Rectangle(2, 5)"
   ],
   "metadata": {
    "collapsed": false,
    "ExecuteTime": {
     "end_time": "2023-12-08T15:28:44.867228Z",
     "start_time": "2023-12-08T15:28:44.867228Z"
    }
   },
   "id": "2e58d38a18bea515"
  },
  {
   "cell_type": "code",
   "execution_count": null,
   "outputs": [],
   "source": [
    "rec_1.area()"
   ],
   "metadata": {
    "collapsed": false,
    "ExecuteTime": {
     "start_time": "2023-12-08T15:28:44.868231Z"
    }
   },
   "id": "f8773928e58e8661"
  },
  {
   "cell_type": "code",
   "execution_count": null,
   "outputs": [],
   "source": [
    "tri_1 = Triangle(3, 4, 2) "
   ],
   "metadata": {
    "collapsed": false,
    "ExecuteTime": {
     "start_time": "2023-12-08T15:28:44.870227600Z"
    }
   },
   "id": "ace38e812380a0b"
  },
  {
   "cell_type": "code",
   "execution_count": null,
   "outputs": [],
   "source": [
    "tri_1.area()"
   ],
   "metadata": {
    "collapsed": false,
    "ExecuteTime": {
     "start_time": "2023-12-08T15:28:44.871227400Z"
    }
   },
   "id": "6bc08d5494850968"
  },
  {
   "cell_type": "code",
   "execution_count": null,
   "outputs": [],
   "source": [
    "tri_1.validate()"
   ],
   "metadata": {
    "collapsed": false,
    "ExecuteTime": {
     "start_time": "2023-12-08T15:28:44.872229500Z"
    }
   },
   "id": "70d30c6bfa61b636"
  },
  {
   "cell_type": "code",
   "execution_count": null,
   "outputs": [],
   "source": [
    "tri_1"
   ],
   "metadata": {
    "collapsed": false,
    "ExecuteTime": {
     "start_time": "2023-12-08T15:28:44.873228200Z"
    }
   },
   "id": "e54444b26598e546"
  },
  {
   "cell_type": "markdown",
   "source": [
    "Попробуем собрать совершенно новый класс, используя BaseFigure в качестве шаблона.\n",
    "\n",
    "Напишите класс Circle, в котором в качестве n_dots будет float('inf'), area будет считаться как 3.14 * r^2, а конструктор будет принимать только один аргумент - r. Метод validate не должен принимать никаких аргументов и не должен осуществлять никаких проверок."
   ],
   "metadata": {
    "collapsed": false
   },
   "id": "f48715769f333346"
  },
  {
   "cell_type": "code",
   "execution_count": null,
   "outputs": [],
   "source": [
    "class Circle(BaseFigure):\n",
    "    n_dots = float('inf')\n",
    "    def __init__(self,r):\n",
    "        self.r = r\n",
    "        \n",
    "        super().__init__()\n",
    "        \n",
    "    def area(self):\n",
    "        return 3.14 * self.r**2\n",
    "    \n",
    "    def validate(self):\n",
    "        pass\n",
    "        "
   ],
   "metadata": {
    "collapsed": false,
    "ExecuteTime": {
     "end_time": "2023-12-08T15:28:44.876232300Z",
     "start_time": "2023-12-08T15:28:44.874228400Z"
    }
   },
   "id": "b675173a9b2fe38f"
  },
  {
   "cell_type": "markdown",
   "source": [
    "Напишите класс Vector, который на вход будет принимать список координат (x1 ​,…,xn​). Положите все координаты вектора в список self.coords.\n",
    "Добейтесь того, чтобы объекты класса Vector можно было складывать через оператор + и получать на выходе тоже объект этого же класса."
   ],
   "metadata": {
    "collapsed": false
   },
   "id": "f11410918ba3e0fe"
  },
  {
   "cell_type": "code",
   "execution_count": null,
   "outputs": [],
   "source": [
    "# class Vector:\n",
    "#     def __init__(self, coordinates):\n",
    "#         self.coords = list(coordinates)\n",
    "#         \n",
    "#     # Добавит возможность складывать объекты\n",
    "#     def __add__(self, other):\n",
    "#         if len(self.coords) != len(other.coords):\n",
    "#             raise ValueError(f\"left and right lengths differ: {len(self.coords)} != {len(other.coords)}\")\n",
    "#         summed_coords = [a + b for a, b in zip(self.coords, other.coords)]\n",
    "#         return Vector(summed_coords)"
   ],
   "metadata": {
    "collapsed": false,
    "ExecuteTime": {
     "start_time": "2023-12-08T15:28:44.875227200Z"
    }
   },
   "id": "497d7c582197e784"
  },
  {
   "cell_type": "code",
   "execution_count": null,
   "outputs": [],
   "source": [
    "# coord = Vector([1, 2, 3]) + Vector([2, 3, 4]) # даст Vector([3, 5, 7])"
   ],
   "metadata": {
    "collapsed": false,
    "ExecuteTime": {
     "end_time": "2023-12-08T15:28:44.879227700Z",
     "start_time": "2023-12-08T15:28:44.876232300Z"
    }
   },
   "id": "b3cf6ca61e224f3b"
  },
  {
   "cell_type": "code",
   "execution_count": null,
   "outputs": [],
   "source": [
    "# coord.coords"
   ],
   "metadata": {
    "collapsed": false,
    "ExecuteTime": {
     "start_time": "2023-12-08T15:28:44.877231900Z"
    }
   },
   "id": "ad7852b39bc90fd3"
  },
  {
   "cell_type": "code",
   "execution_count": null,
   "outputs": [],
   "source": [
    "# Vector([1, 2]) + Vector([1, 2, 3])  # нельзя складывать векторы разной длины"
   ],
   "metadata": {
    "collapsed": false,
    "ExecuteTime": {
     "start_time": "2023-12-08T15:28:44.878227500Z"
    }
   },
   "id": "fb6df146692cac33"
  },
  {
   "cell_type": "markdown",
   "source": [
    "Добавьте методу красивый вывод при передаче его в print(...)"
   ],
   "metadata": {
    "collapsed": false
   },
   "id": "7a5df068d614b35b"
  },
  {
   "cell_type": "code",
   "execution_count": null,
   "outputs": [],
   "source": [
    "# class Vector:\n",
    "#     def __init__(self, coordinates):\n",
    "#         self.coords = list(coordinates)\n",
    "#         \n",
    "#     # Добавит возможность складывать объекты\n",
    "#     def __add__(self, other):\n",
    "#         if len(self.coords) != len(other.coords):\n",
    "#             raise ValueError(f\"left and right lengths differ: {len(self.coords)} != {len(other.coords)}\")\n",
    "#         summed_coords = [a + b for a, b in zip(self.coords, other.coords)]\n",
    "#         return Vector(summed_coords)\n",
    "#     \n",
    "#     def __repr__(self):\n",
    "#         return f\"{self.coords}\"\n"
   ],
   "metadata": {
    "collapsed": false,
    "ExecuteTime": {
     "end_time": "2023-12-08T15:28:44.997228900Z",
     "start_time": "2023-12-08T15:28:44.880227100Z"
    }
   },
   "id": "4590c5f5305d0918"
  },
  {
   "cell_type": "code",
   "execution_count": null,
   "outputs": [],
   "source": [
    "# coord = Vector([1, 2, 3]) + Vector([2, 3, 4]) # даст Vector([3, 5, 7])\n"
   ],
   "metadata": {
    "collapsed": false,
    "ExecuteTime": {
     "start_time": "2023-12-08T15:28:44.881227Z"
    }
   },
   "id": "98abeabfe5156a56"
  },
  {
   "cell_type": "code",
   "execution_count": null,
   "outputs": [],
   "source": [
    "# coord"
   ],
   "metadata": {
    "collapsed": false,
    "ExecuteTime": {
     "start_time": "2023-12-08T15:28:44.882229900Z"
    }
   },
   "id": "5fe4ddbd32272a5c"
  },
  {
   "cell_type": "markdown",
   "source": [
    "Продолжаем улучшать вектор. Добавьте в класс возможность умножать вектор на вектор и вектор на число. Не забудьте сохранять координаты вектора в self.coords."
   ],
   "metadata": {
    "collapsed": false
   },
   "id": "74e0cbc683940700"
  },
  {
   "cell_type": "code",
   "execution_count": 12,
   "outputs": [],
   "source": [
    "# class Vector:\n",
    "#     def __init__(self, coordinates):\n",
    "#         self.coords = list(coordinates)\n",
    "#         \n",
    "#     def __add__(self, other):\n",
    "#         if len(self.coords) != len(other.coords):\n",
    "#             raise ValueError(f\"left and right lengths differ: {len(self.coords)} != {len(other.coords)}\")\n",
    "#         summed_coords = [a + b for a, b in zip(self.coords, other.coords)]\n",
    "#         return Vector(summed_coords)\n",
    "#     \n",
    "#     def __mul__(self, other):\n",
    "#           if isinstance(other, Vector):\n",
    "#               if len(self.coords) != len(other.coords):\n",
    "#                   raise ValueError(f\"left and right lengths differ: {len(self.coords)} != {len(other.coords)}\")\n",
    "#               mul_coords = sum([a * b for a, b in zip(self.coords, other.coords)])\n",
    "#               return mul_coords\n",
    "#           elif isinstance(other, (int, float)):\n",
    "#               mul_coords = [a * other for a in self.coords]\n",
    "#               return Vector(mul_coords)\n",
    "#           else:\n",
    "#               raise TypeError(f\"Unsupported type for multiplication: {type(other)}\")\n",
    "# \n",
    "#     \n",
    "#     def __repr__(self):\n",
    "#         return f\"{self.coords}\"\n",
    "#     "
   ],
   "metadata": {
    "collapsed": false,
    "ExecuteTime": {
     "end_time": "2023-12-08T18:07:29.775433200Z",
     "start_time": "2023-12-08T18:07:29.757426500Z"
    }
   },
   "id": "967d185a1dbb03ba"
  },
  {
   "cell_type": "code",
   "execution_count": 15,
   "outputs": [
    {
     "data": {
      "text/plain": "[10, 15, 25, 40]"
     },
     "execution_count": 15,
     "metadata": {},
     "output_type": "execute_result"
    }
   ],
   "source": [
    "# Vector([1, 2, 3]) * Vector([2, 5, -2])  # даст 6\n",
    "# 1 * 2 + 2 * 5 + 3 * (-2) = 6\n",
    "\n",
    "# Vector([1, 2]) * Vector([2, 3, 4])\n",
    "# ValueError: left and right lengths differ: 2 != 3\n",
    "\n",
    "# Vector([2, 3, 5, 8]) * 5  # даст Vector([10, 15, 25, 40])"
   ],
   "metadata": {
    "collapsed": false,
    "ExecuteTime": {
     "end_time": "2023-12-08T18:08:12.422189Z",
     "start_time": "2023-12-08T18:08:12.405674900Z"
    }
   },
   "id": "a0e4d75ce7919fc3"
  },
  {
   "cell_type": "markdown",
   "source": [
    "\n",
    "Добавьте в класс возможности сравнивать два вектора между собой и считать abs (это длина вектора, в Евклидовой метрике).\n",
    "\n",
    "abs(Vector([-12, 5]))  # Должно быть 13\n",
    "\n",
    "Vector([1, 3, 5]) == Vector([1])  # False\n",
    "Vector([1, 3, 5]) == Vector([-1, 3, 5])  # False\n",
    "Vector([1, 3, 5]) == Vector([1, 3, 5])  # True\n",
    "\n",
    "\n",
    "По итогу мы получим вектора, которые можно складывать, умножать, печатать, считать длину и сравнивать на равенство друг с другом."
   ],
   "metadata": {
    "collapsed": false
   },
   "id": "bc5b70dffebe8fa3"
  },
  {
   "cell_type": "code",
   "execution_count": 21,
   "outputs": [],
   "source": [
    "import math"
   ],
   "metadata": {
    "collapsed": false,
    "ExecuteTime": {
     "end_time": "2023-12-08T18:24:10.493664300Z",
     "start_time": "2023-12-08T18:24:10.485657400Z"
    }
   },
   "id": "30ea764747440bbc"
  },
  {
   "cell_type": "code",
   "execution_count": 24,
   "outputs": [],
   "source": [
    "class Vector:\n",
    "    def __init__(self, coordinates):\n",
    "        self.coords = list(coordinates)\n",
    "        \n",
    "    def __add__(self, other):\n",
    "        if len(self.coords) != len(other.coords):\n",
    "            raise ValueError(f\"left and right lengths differ: {len(self.coords)} != {len(other.coords)}\")\n",
    "        summed_coords = [a + b for a, b in zip(self.coords, other.coords)]\n",
    "        return Vector(summed_coords)\n",
    "    \n",
    "    def __mul__(self, other):\n",
    "          if isinstance(other, Vector):\n",
    "              if len(self.coords) != len(other.coords):\n",
    "                  raise ValueError(f\"left and right lengths differ: {len(self.coords)} != {len(other.coords)}\")\n",
    "              mul_coords = sum([a * b for a, b in zip(self.coords, other.coords)])\n",
    "              return mul_coords\n",
    "          elif isinstance(other, (int, float)):\n",
    "              mul_coords = [a * other for a in self.coords]\n",
    "              return Vector(mul_coords)\n",
    "          else:\n",
    "              raise TypeError(f\"Unsupported type for multiplication: {type(other)}\")\n",
    "        \n",
    "    def __eq__(self, other):\n",
    "        if self.coords == other.coords:\n",
    "            return True\n",
    "        else:\n",
    "            return False\n",
    "    \n",
    "    def __abs__(self):\n",
    "        return int(math.sqrt(sum(a**2 for a in self.coords)))\n",
    "\n",
    "    \n",
    "    def __repr__(self):\n",
    "        return f\"{self.coords}\"\n",
    "    "
   ],
   "metadata": {
    "collapsed": false,
    "ExecuteTime": {
     "end_time": "2023-12-08T18:25:30.132096400Z",
     "start_time": "2023-12-08T18:25:30.109086900Z"
    }
   },
   "id": "598b31aa4bf48323"
  },
  {
   "cell_type": "code",
   "execution_count": 29,
   "outputs": [
    {
     "data": {
      "text/plain": "True"
     },
     "execution_count": 29,
     "metadata": {},
     "output_type": "execute_result"
    }
   ],
   "source": [
    "# abs(Vector([-12, 5]))  # Должно быть 13\n",
    "\n",
    "# Vector([1, 3, 5]) == Vector([1])  # False\n",
    "# Vector([1, 3, 5]) == Vector([-1, 3, 5])  # False\n",
    "# Vector([1, 3, 5]) == Vector([1, 3, 5])  # True"
   ],
   "metadata": {
    "collapsed": false,
    "ExecuteTime": {
     "end_time": "2023-12-08T18:26:05.065999200Z",
     "start_time": "2023-12-08T18:26:05.063489200Z"
    }
   },
   "id": "6411b22b9905b7be"
  },
  {
   "cell_type": "markdown",
   "source": [
    "Напишите классы ParsesCookies, ParsesBody, ParsesHeaders по условиям:\n",
    "\n",
    "Класс ParsesCookies имеет метод cookies(), возвращающий все по ключу cookies из словаря self.request.\n",
    "Класс ParsesCookies имеет метод is_authed(), который будет проверять, что в словаре cookies будет ключ auth_key (ни в коем случае не используйте такую авторизацию в реальных проектах).\n",
    "Класс ParsesBody имеет метод body(), возвращающий текст по ключу body в self.request.\n",
    "Класс ParsesHeaders имеет метод headers(), возвращающий все по ключу headers из словаря self.request.\n",
    "Класс ParsesHeaders имеет метод need_json(), который возвращает True, если в headers по ключу \"content-type\" лежит значение \"application/json\", иначе False."
   ],
   "metadata": {
    "collapsed": false
   },
   "id": "1ca4104a595de8eb"
  },
  {
   "cell_type": "code",
   "execution_count": 30,
   "outputs": [],
   "source": [
    "# # будет приходить запрос в виде словаря\n",
    "# request = {\n",
    "#   \"cookies\": {key_1: value_1, key_2: value_2, ...},\n",
    "#   \"body\": \"a long time ago, in a Galaxy far, far away\",\n",
    "#   \"headers\": {\"content-type\": \"application/json\", \"Accept\": \"application/json\"}\n",
    "# }\n",
    "# \n",
    "# # и этот словарь будет передаваться в конструктор класса\n",
    "# handler = Handler(request)\n"
   ],
   "metadata": {
    "collapsed": false,
    "ExecuteTime": {
     "end_time": "2023-12-08T18:59:22.511370800Z",
     "start_time": "2023-12-08T18:59:22.363363500Z"
    }
   },
   "id": "1a775fd7b2bb9ef6"
  },
  {
   "cell_type": "code",
   "execution_count": 61,
   "outputs": [],
   "source": [
    "class Handler:\n",
    "    def __init__(self, request:dict):\n",
    "        self.request = request\n",
    "    "
   ],
   "metadata": {
    "collapsed": false,
    "ExecuteTime": {
     "end_time": "2023-12-08T19:27:15.316378400Z",
     "start_time": "2023-12-08T19:27:15.310372600Z"
    }
   },
   "id": "cbf4111f87799187"
  },
  {
   "cell_type": "code",
   "execution_count": 62,
   "outputs": [],
   "source": [
    "#Класс ParsesCookies имеет метод cookies(), возвращающий все по ключу cookies из словаря self.request.\n",
    "#Класс ParsesCookies имеет метод is_authed(), который будет проверять, что в словаре cookies будет ключ auth_key (ни в коем случае не используйте такую авторизацию в реальных проектах).\n",
    "\n",
    "class ParsesCookies(Handler):\n",
    "    def cookies(self):\n",
    "        return self.request['cookies']\n",
    "    \n",
    "    def is_authed(self):\n",
    "        return 'auth_key' in self.cookies()\n",
    "    \n",
    "    \n",
    "        \n",
    "        "
   ],
   "metadata": {
    "collapsed": false,
    "ExecuteTime": {
     "end_time": "2023-12-08T19:27:15.848605Z",
     "start_time": "2023-12-08T19:27:15.835608100Z"
    }
   },
   "id": "b1fab2fa7410e11f"
  },
  {
   "cell_type": "code",
   "execution_count": 63,
   "outputs": [],
   "source": [
    "#Класс ParsesBody имеет метод body(), возвращающий текст по ключу body в self.request.\n",
    "\n",
    "class ParsesBody(Handler):\n",
    "    def body(self):\n",
    "        return self.request['body']"
   ],
   "metadata": {
    "collapsed": false,
    "ExecuteTime": {
     "end_time": "2023-12-08T19:27:16.389499200Z",
     "start_time": "2023-12-08T19:27:16.377492500Z"
    }
   },
   "id": "db4dd14db6e7f504"
  },
  {
   "cell_type": "code",
   "execution_count": 64,
   "outputs": [],
   "source": [
    "\"\"\"Класс ParsesHeaders имеет метод headers(), возвращающий все по ключу headers из словаря self.request.\n",
    "Класс ParsesHeaders имеет метод need_json(), который возвращает True, если в headers по ключу \"content-type\" лежит значение \"application/json\", иначе False.\"\"\"\n",
    "\n",
    "class ParsesHeaders(Handler):\n",
    "    def headers(self):\n",
    "        return self.request['headers']\n",
    "    def need_json(self):\n",
    "        if self.request['headers'].get('content-type') == \"application/json\":\n",
    "            return True\n",
    "        else:\n",
    "            return False"
   ],
   "metadata": {
    "collapsed": false,
    "ExecuteTime": {
     "end_time": "2023-12-08T19:27:16.852055400Z",
     "start_time": "2023-12-08T19:27:16.838046100Z"
    }
   },
   "id": "773f1620e137ec68"
  },
  {
   "cell_type": "markdown",
   "source": [
    "Используя миксины из прошлого пункта, напишите класс JsonHandler, который будет наследоваться от классов ParsesBody и ParsesHeaders , иметь метод process() и конструктор, принимающий аргумент request и сохраняющий в self.request. В этом задании нужно использовать библиотеку json.\n",
    "\n",
    "Метод process() должен работать следующим образом:\n",
    "\n",
    "Если need_json() дает False, то возвращать None\n",
    "Иначе получать тело через body(), пытаться считать его как json.loads(...) и возвращать число ключей в словаре. Если считать не удалось, то вернуть None.\n",
    "Отправьте реализацию класса JsonHandler в LMS. Классы ParsesBody и ParsesHeaders отправлять не нужно.\n",
    "\n",
    "Обратите внимание, что с помощью миксин функциональность проверки headers и получения body была вынесена за JsonHandler - наш класс сосредоточился именно на обработке."
   ],
   "metadata": {
    "collapsed": false
   },
   "id": "149b1d4e926e064d"
  },
  {
   "cell_type": "code",
   "execution_count": 67,
   "outputs": [],
   "source": [
    "import json"
   ],
   "metadata": {
    "collapsed": false,
    "ExecuteTime": {
     "end_time": "2023-12-08T19:28:20.554774100Z",
     "start_time": "2023-12-08T19:28:20.544765600Z"
    }
   },
   "id": "d4c55f4a853dfd68"
  },
  {
   "cell_type": "code",
   "execution_count": 72,
   "outputs": [],
   "source": [
    "class JsonHandler(ParsesBody,ParsesHeaders):\n",
    "    # def __init__(self, request):\n",
    "    #     super().__init__(request)\n",
    "        \n",
    "    def __init__(self, request):\n",
    "        self.request = request\n",
    "    \n",
    "    def process(self):\n",
    "        if self.need_json():\n",
    "            try:\n",
    "                return len(json.loads(self.body()))\n",
    "            except: \n",
    "                return None\n",
    "        else: \n",
    "            return None\n",
    "    "
   ],
   "metadata": {
    "collapsed": false,
    "ExecuteTime": {
     "end_time": "2023-12-08T19:44:26.821496Z",
     "start_time": "2023-12-08T19:44:26.802487100Z"
    }
   },
   "id": "439f6bad4336afd9"
  },
  {
   "cell_type": "code",
   "execution_count": 71,
   "outputs": [
    {
     "name": "stdout",
     "output_type": "stream",
     "text": [
      "2\n"
     ]
    }
   ],
   "source": [
    "# Пример использования\n",
    "r = {'body': '{\"a\": 123, \"b\": 1234}',\n",
    "     'headers': {'content-type': 'application/json'}\n",
    "    }\n",
    "print(JsonHandler(r).process())"
   ],
   "metadata": {
    "collapsed": false,
    "ExecuteTime": {
     "end_time": "2023-12-08T19:44:17.546194700Z",
     "start_time": "2023-12-08T19:44:17.533183900Z"
    }
   },
   "id": "2f27f7fa7023547b"
  },
  {
   "cell_type": "markdown",
   "source": [
    "Используя миксины из прошлого пункта, напишите класс SecureTextHandler, который будет наследоваться от классов ParsesBody и ParsesCookies , иметь метод process() и конструктор, принимающий один аргумент и сохраняющий его в нужное поле класса.\n",
    "\n",
    "Метод process() должен работать следующим образом:\n",
    "\n",
    "Если is_authed() дает False, то возвращать None.\n",
    "Иначе получать тело через body() и возвращать его длину.\n",
    "Добейтесь работоспособности на примере и реализацию класса SecureTextHandler отправьте в LMS. Классы ParsesBody и ParsesHeaders, ParsesCookie отправлять не нужно."
   ],
   "metadata": {
    "collapsed": false
   },
   "id": "2c5b8cdfc68c6fc6"
  },
  {
   "cell_type": "code",
   "execution_count": 84,
   "outputs": [],
   "source": [
    "class SecureTextHandler(ParsesBody, ParsesCookies):\n",
    "    def __init__(self, request):\n",
    "        self.request = request\n",
    "    \n",
    "    def process(self):\n",
    "        if self.is_authed() is not True:\n",
    "            return None\n",
    "        else:\n",
    "            return len(self.body())\n",
    "\n"
   ],
   "metadata": {
    "collapsed": false,
    "ExecuteTime": {
     "end_time": "2023-12-08T19:54:58.414998200Z",
     "start_time": "2023-12-08T19:54:58.397990100Z"
    }
   },
   "id": "ac378c73d1c6e7c7"
  },
  {
   "cell_type": "code",
   "execution_count": 85,
   "outputs": [
    {
     "name": "stdout",
     "output_type": "stream",
     "text": [
      "None\n"
     ]
    }
   ],
   "source": [
    "# Примеры\n",
    "# r = {'cookies': {'auth_key': '123'},\n",
    "#      'body': 'hello'\n",
    "#     }\n",
    "# print(SecureTextHandler(r).process())\n",
    "# # 5\n",
    "\n",
    "r = {'cookies': {},\n",
    "     'body': 'hello'\n",
    "    }\n",
    "print(SecureTextHandler(r).process())\n",
    "# None"
   ],
   "metadata": {
    "collapsed": false,
    "ExecuteTime": {
     "end_time": "2023-12-08T19:54:58.956253300Z",
     "start_time": "2023-12-08T19:54:58.942738400Z"
    }
   },
   "id": "8a89d664a4a7c98b"
  },
  {
   "cell_type": "code",
   "execution_count": null,
   "outputs": [],
   "source": [],
   "metadata": {
    "collapsed": false
   },
   "id": "f2547b5f316dc7cb"
  }
 ],
 "metadata": {
  "kernelspec": {
   "display_name": "Python 3",
   "language": "python",
   "name": "python3"
  },
  "language_info": {
   "codemirror_mode": {
    "name": "ipython",
    "version": 2
   },
   "file_extension": ".py",
   "mimetype": "text/x-python",
   "name": "python",
   "nbconvert_exporter": "python",
   "pygments_lexer": "ipython2",
   "version": "2.7.6"
  }
 },
 "nbformat": 4,
 "nbformat_minor": 5
}
