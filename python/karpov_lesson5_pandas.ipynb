{
 "cells": [
  {
   "cell_type": "code",
   "execution_count": 1,
   "id": "initial_id",
   "metadata": {
    "collapsed": true,
    "ExecuteTime": {
     "end_time": "2023-11-30T06:07:26.212305300Z",
     "start_time": "2023-11-30T06:07:25.879395700Z"
    }
   },
   "outputs": [],
   "source": [
    "import pandas as pd"
   ]
  },
  {
   "cell_type": "code",
   "execution_count": 2,
   "outputs": [],
   "source": [
    "df = pd.read_csv('data.csv')"
   ],
   "metadata": {
    "collapsed": false,
    "ExecuteTime": {
     "end_time": "2023-11-30T06:07:26.496516600Z",
     "start_time": "2023-11-30T06:07:26.213309100Z"
    }
   },
   "id": "9694dc22740218f6"
  },
  {
   "cell_type": "markdown",
   "source": [
    "Задание 1\n",
    "В качестве первого шага давайте посмотрим на наши данные c помощью метода head()\n",
    "\n",
    "Перечислите первые три значения колонки dateAdded через запятую и пробел в том порядке, в котором они были выведены."
   ],
   "metadata": {
    "collapsed": false
   },
   "id": "a314cd791049bda5"
  },
  {
   "cell_type": "code",
   "execution_count": 3,
   "outputs": [],
   "source": [
    "list_of_df=list(df['dateAdded'].head(3))"
   ],
   "metadata": {
    "collapsed": false,
    "ExecuteTime": {
     "end_time": "2023-11-30T06:07:26.507651200Z",
     "start_time": "2023-11-30T06:07:26.498715400Z"
    }
   },
   "id": "aebd72b65712a9db"
  },
  {
   "cell_type": "code",
   "execution_count": 4,
   "outputs": [],
   "source": [
    "result = ', '.join(list_of_df)"
   ],
   "metadata": {
    "collapsed": false,
    "ExecuteTime": {
     "end_time": "2023-11-30T06:07:26.508649900Z",
     "start_time": "2023-11-30T06:07:26.501687800Z"
    }
   },
   "id": "689a32ed7738988b"
  },
  {
   "cell_type": "code",
   "execution_count": 5,
   "outputs": [
    {
     "data": {
      "text/plain": "'2016-03-02T11:49:34Z, 2016-03-02T11:49:34Z, 2016-10-14T01:58:25Z'"
     },
     "execution_count": 5,
     "metadata": {},
     "output_type": "execute_result"
    }
   ],
   "source": [
    "result"
   ],
   "metadata": {
    "collapsed": false,
    "ExecuteTime": {
     "end_time": "2023-11-30T06:07:26.519900500Z",
     "start_time": "2023-11-30T06:07:26.509649100Z"
    }
   },
   "id": "a2194a48e06dd26"
  },
  {
   "cell_type": "code",
   "execution_count": 6,
   "outputs": [
    {
     "name": "stdout",
     "output_type": "stream",
     "text": [
      "2016-03-02T11:49:34Z, 2016-03-02T11:49:34Z, 2016-10-14T01:58:25Z\n"
     ]
    }
   ],
   "source": [
    "print(', '.join(list(df['dateAdded'].head(3))))"
   ],
   "metadata": {
    "collapsed": false,
    "ExecuteTime": {
     "end_time": "2023-11-30T06:07:26.555769600Z",
     "start_time": "2023-11-30T06:07:26.517897600Z"
    }
   },
   "id": "ae73933fe33d4833"
  },
  {
   "cell_type": "markdown",
   "source": [
    "Задание 2\n",
    "Давайте посмотрим, какой тип имеют колонки city и latitude."
   ],
   "metadata": {
    "collapsed": false
   },
   "id": "f380028bec857359"
  },
  {
   "cell_type": "code",
   "execution_count": 7,
   "outputs": [
    {
     "data": {
      "text/plain": "city         object\nlatitude    float64\ndtype: object"
     },
     "execution_count": 7,
     "metadata": {},
     "output_type": "execute_result"
    }
   ],
   "source": [
    "df[['city', 'latitude']].dtypes"
   ],
   "metadata": {
    "collapsed": false,
    "ExecuteTime": {
     "end_time": "2023-11-30T06:07:26.555769600Z",
     "start_time": "2023-11-30T06:07:26.525824700Z"
    }
   },
   "id": "421af17b31daaaa3"
  },
  {
   "cell_type": "markdown",
   "source": [
    "Задание 5\n",
    "Какие средние значения в тех колонках, которые вывел describe в предыдущем задании?"
   ],
   "metadata": {
    "collapsed": false
   },
   "id": "e6bde348dfadca04"
  },
  {
   "cell_type": "code",
   "execution_count": 8,
   "outputs": [
    {
     "data": {
      "text/plain": "           latitude     longitude\ncount  55636.000000  55636.000000\nmean      36.694846    -98.713309\nstd        4.835124     18.245857\nmin      -31.986438   -159.492690\n25%       33.668355   -117.647150\n50%       36.047195    -96.682320\n75%       40.588380    -82.679930\nmax       61.219460    115.903696",
      "text/html": "<div>\n<style scoped>\n    .dataframe tbody tr th:only-of-type {\n        vertical-align: middle;\n    }\n\n    .dataframe tbody tr th {\n        vertical-align: top;\n    }\n\n    .dataframe thead th {\n        text-align: right;\n    }\n</style>\n<table border=\"1\" class=\"dataframe\">\n  <thead>\n    <tr style=\"text-align: right;\">\n      <th></th>\n      <th>latitude</th>\n      <th>longitude</th>\n    </tr>\n  </thead>\n  <tbody>\n    <tr>\n      <th>count</th>\n      <td>55636.000000</td>\n      <td>55636.000000</td>\n    </tr>\n    <tr>\n      <th>mean</th>\n      <td>36.694846</td>\n      <td>-98.713309</td>\n    </tr>\n    <tr>\n      <th>std</th>\n      <td>4.835124</td>\n      <td>18.245857</td>\n    </tr>\n    <tr>\n      <th>min</th>\n      <td>-31.986438</td>\n      <td>-159.492690</td>\n    </tr>\n    <tr>\n      <th>25%</th>\n      <td>33.668355</td>\n      <td>-117.647150</td>\n    </tr>\n    <tr>\n      <th>50%</th>\n      <td>36.047195</td>\n      <td>-96.682320</td>\n    </tr>\n    <tr>\n      <th>75%</th>\n      <td>40.588380</td>\n      <td>-82.679930</td>\n    </tr>\n    <tr>\n      <th>max</th>\n      <td>61.219460</td>\n      <td>115.903696</td>\n    </tr>\n  </tbody>\n</table>\n</div>"
     },
     "execution_count": 8,
     "metadata": {},
     "output_type": "execute_result"
    }
   ],
   "source": [
    "df.describe()\n"
   ],
   "metadata": {
    "collapsed": false,
    "ExecuteTime": {
     "end_time": "2023-11-30T06:07:26.557767900Z",
     "start_time": "2023-11-30T06:07:26.532530800Z"
    }
   },
   "id": "a98ab086d43fd555"
  },
  {
   "cell_type": "markdown",
   "source": [
    "Задание 6\n",
    "Сейчас в данных присутствуют пропущенные значения. Давайте их удалим.\n",
    "\n",
    "Примените метод dropna.  Сколько осталось записей?"
   ],
   "metadata": {
    "collapsed": false
   },
   "id": "aa41a7ddb429943e"
  },
  {
   "cell_type": "code",
   "execution_count": 9,
   "outputs": [
    {
     "data": {
      "text/plain": "                         id                    address  \\\n72     AVwc_6st_7pvs4fz1Mln             95 Matthews Dr   \n242    AVwc_DjlkufWRAb51GPc         2610 Lyndale Ave S   \n243    AVwc_DjlkufWRAb51GPc         2610 Lyndale Ave S   \n259    AVwc_DW1_7pvs4fz1DBV              119 W Clay St   \n261    AVwc_DW1_7pvs4fz1DBV              119 W Clay St   \n...                     ...                        ...   \n76997  AVz0WZ18FcQ3k02bDO8m     29 Crown Rd.Building B   \n76998  AVz0WZ18FcQ3k02bDO8m     29 Crown Rd.Building B   \n76999  AVz0WZ18FcQ3k02bDO8m     29 Crown Rd.Building B   \n77000  AVz0WZf3-gnIPe8DUW4y  2300 Matlock Rd. Suite 21   \n77014  AVz0WZsS-gnIPe8DUW45  4150 North MacArthur Blvd   \n\n                                              categories                city  \\\n72                                            Restaurant  Hilton Head Island   \n242                                           Restaurant         Minneapolis   \n243                                           Restaurant         Minneapolis   \n259    Bistro,American Restaurant,New American Restau...              Mebane   \n261    Bistro,American Restaurant,New American Restau...              Mebane   \n...                                                  ...                 ...   \n76997                                         Restaurant         Weatherford   \n76998                                         Restaurant         Weatherford   \n76999                                         Restaurant         Weatherford   \n77000                                         Restaurant           Mansfield   \n77014                                         Restaurant              Irving   \n\n                                                cuisines  \\\n72                               Japanese, Thai, Hibachi   \n242              American, Bar / Lounge / Bottle Service   \n243              American, Bar / Lounge / Bottle Service   \n259    American Restaurants,American, Contemporary Am...   \n261    American Restaurants,American, Contemporary Am...   \n...                                                  ...   \n76997                                            Mexican   \n76998                                            Mexican   \n76999                                            Mexican   \n77000                         Mexican, American, Seafood   \n77014                               Steakhouse, American   \n\n                  dateAdded           dateUpdated   latitude  longitude  \\\n72     2015-10-19T20:43:35Z  2016-08-22T11:22:45Z  32.212044 -80.701132   \n242    2016-08-01T19:18:23Z  2016-08-22T11:27:55Z  44.954945 -93.288246   \n243    2016-08-01T19:18:23Z  2016-08-22T11:27:55Z  44.954945 -93.288246   \n259    2016-03-31T02:34:19Z  2017-07-03T17:12:10Z  36.097057 -79.267750   \n261    2016-03-31T02:34:19Z  2017-07-03T17:12:10Z  36.097057 -79.267750   \n...                     ...                   ...        ...        ...   \n76997  2017-06-29T14:55:32Z  2017-06-29T14:55:32Z  32.752010 -97.669332   \n76998  2017-06-29T14:55:32Z  2017-06-29T14:55:32Z  32.752010 -97.669332   \n76999  2017-06-29T14:55:32Z  2017-06-29T14:55:32Z  32.752010 -97.669332   \n77000  2017-06-29T14:55:31Z  2017-06-29T14:55:31Z  32.594093 -97.106282   \n77014  2017-06-29T14:55:32Z  2017-06-29T14:55:32Z  32.862452 -96.959246   \n\n             menus.category menus.currency            menus.dateSeen  \\\n72     Appetizers Sushi Bar            USD      2016-08-20T00:00:00Z   \n242             Main Course            USD      2016-08-20T00:00:00Z   \n243             Main Course            USD      2016-08-20T00:00:00Z   \n259                    Main            USD      2016-04-24T00:00:00Z   \n261                Starters            USD      2016-04-24T00:00:00Z   \n...                     ...            ...                       ...   \n76997                  Main            USD  2017-06-28T17:41:09.905Z   \n76998                  Main            USD  2017-06-28T17:41:09.905Z   \n76999                  Main            USD  2017-06-28T17:41:09.905Z   \n77000     Ensaladas  Salads            USD  2017-06-28T17:33:26.597Z   \n77014                   Air            USD  2017-06-28T17:36:57.862Z   \n\n                                       menus.description  \\\n72     Pepper tuna, pepper white tuna, spicy crab mea...   \n242    Main i pico slaw i radish i cilantro-lime crem...   \n243    Blackened organic tempeh i tempeh chorizo i pi...   \n259    Grilled or blackened with house made tortilla,...   \n261    Slow cooked leg of duck, house made tortilla w...   \n...                                                  ...   \n76997  A new favorite Slowsmoked brisket, served in y...   \n76998  The chefs favorite when he is too busy to sit ...   \n76999  With chili con queso, Spanish rice and refried...   \n77000  Seasoned picadillo beef served with fresh mixe...   \n77014  peppers onions jack cheese flour tortilla sour...   \n\n                        menus.name                                name  \\\n72                       Taco Tara                    Okko Hilton Head   \n242           Blackened Fish Tacos   French Meadow Cafe & Bluestem Bar   \n243         Blackened Tempeh Tacos   French Meadow Cafe & Bluestem Bar   \n259            Shrimp or Mahi Taco               Mebane Downtown Table   \n261              Duck Confit Tacos               Mebane Downtown Table   \n...                            ...                                 ...   \n76997                Brisket Tacos                 Los Vaqueros - West   \n76998         Johnnys Burrito Bowl                 Los Vaqueros - West   \n76999  One Beef or Chicken Burrito                 Los Vaqueros - West   \n77000                Ensalada Taco  El Primo's Mexican Grill & Cantina   \n77014       Beer Can Chicken Tacos          LAW at Four Seasons Dallas   \n\n      province  \n72          SC  \n242         MN  \n243         MN  \n259         NC  \n261         NC  \n...        ...  \n76997       TX  \n76998       TX  \n76999       TX  \n77000       TX  \n77014       TX  \n\n[1925 rows x 16 columns]",
      "text/html": "<div>\n<style scoped>\n    .dataframe tbody tr th:only-of-type {\n        vertical-align: middle;\n    }\n\n    .dataframe tbody tr th {\n        vertical-align: top;\n    }\n\n    .dataframe thead th {\n        text-align: right;\n    }\n</style>\n<table border=\"1\" class=\"dataframe\">\n  <thead>\n    <tr style=\"text-align: right;\">\n      <th></th>\n      <th>id</th>\n      <th>address</th>\n      <th>categories</th>\n      <th>city</th>\n      <th>cuisines</th>\n      <th>dateAdded</th>\n      <th>dateUpdated</th>\n      <th>latitude</th>\n      <th>longitude</th>\n      <th>menus.category</th>\n      <th>menus.currency</th>\n      <th>menus.dateSeen</th>\n      <th>menus.description</th>\n      <th>menus.name</th>\n      <th>name</th>\n      <th>province</th>\n    </tr>\n  </thead>\n  <tbody>\n    <tr>\n      <th>72</th>\n      <td>AVwc_6st_7pvs4fz1Mln</td>\n      <td>95 Matthews Dr</td>\n      <td>Restaurant</td>\n      <td>Hilton Head Island</td>\n      <td>Japanese, Thai, Hibachi</td>\n      <td>2015-10-19T20:43:35Z</td>\n      <td>2016-08-22T11:22:45Z</td>\n      <td>32.212044</td>\n      <td>-80.701132</td>\n      <td>Appetizers Sushi Bar</td>\n      <td>USD</td>\n      <td>2016-08-20T00:00:00Z</td>\n      <td>Pepper tuna, pepper white tuna, spicy crab mea...</td>\n      <td>Taco Tara</td>\n      <td>Okko Hilton Head</td>\n      <td>SC</td>\n    </tr>\n    <tr>\n      <th>242</th>\n      <td>AVwc_DjlkufWRAb51GPc</td>\n      <td>2610 Lyndale Ave S</td>\n      <td>Restaurant</td>\n      <td>Minneapolis</td>\n      <td>American, Bar / Lounge / Bottle Service</td>\n      <td>2016-08-01T19:18:23Z</td>\n      <td>2016-08-22T11:27:55Z</td>\n      <td>44.954945</td>\n      <td>-93.288246</td>\n      <td>Main Course</td>\n      <td>USD</td>\n      <td>2016-08-20T00:00:00Z</td>\n      <td>Main i pico slaw i radish i cilantro-lime crem...</td>\n      <td>Blackened Fish Tacos</td>\n      <td>French Meadow Cafe &amp; Bluestem Bar</td>\n      <td>MN</td>\n    </tr>\n    <tr>\n      <th>243</th>\n      <td>AVwc_DjlkufWRAb51GPc</td>\n      <td>2610 Lyndale Ave S</td>\n      <td>Restaurant</td>\n      <td>Minneapolis</td>\n      <td>American, Bar / Lounge / Bottle Service</td>\n      <td>2016-08-01T19:18:23Z</td>\n      <td>2016-08-22T11:27:55Z</td>\n      <td>44.954945</td>\n      <td>-93.288246</td>\n      <td>Main Course</td>\n      <td>USD</td>\n      <td>2016-08-20T00:00:00Z</td>\n      <td>Blackened organic tempeh i tempeh chorizo i pi...</td>\n      <td>Blackened Tempeh Tacos</td>\n      <td>French Meadow Cafe &amp; Bluestem Bar</td>\n      <td>MN</td>\n    </tr>\n    <tr>\n      <th>259</th>\n      <td>AVwc_DW1_7pvs4fz1DBV</td>\n      <td>119 W Clay St</td>\n      <td>Bistro,American Restaurant,New American Restau...</td>\n      <td>Mebane</td>\n      <td>American Restaurants,American, Contemporary Am...</td>\n      <td>2016-03-31T02:34:19Z</td>\n      <td>2017-07-03T17:12:10Z</td>\n      <td>36.097057</td>\n      <td>-79.267750</td>\n      <td>Main</td>\n      <td>USD</td>\n      <td>2016-04-24T00:00:00Z</td>\n      <td>Grilled or blackened with house made tortilla,...</td>\n      <td>Shrimp or Mahi Taco</td>\n      <td>Mebane Downtown Table</td>\n      <td>NC</td>\n    </tr>\n    <tr>\n      <th>261</th>\n      <td>AVwc_DW1_7pvs4fz1DBV</td>\n      <td>119 W Clay St</td>\n      <td>Bistro,American Restaurant,New American Restau...</td>\n      <td>Mebane</td>\n      <td>American Restaurants,American, Contemporary Am...</td>\n      <td>2016-03-31T02:34:19Z</td>\n      <td>2017-07-03T17:12:10Z</td>\n      <td>36.097057</td>\n      <td>-79.267750</td>\n      <td>Starters</td>\n      <td>USD</td>\n      <td>2016-04-24T00:00:00Z</td>\n      <td>Slow cooked leg of duck, house made tortilla w...</td>\n      <td>Duck Confit Tacos</td>\n      <td>Mebane Downtown Table</td>\n      <td>NC</td>\n    </tr>\n    <tr>\n      <th>...</th>\n      <td>...</td>\n      <td>...</td>\n      <td>...</td>\n      <td>...</td>\n      <td>...</td>\n      <td>...</td>\n      <td>...</td>\n      <td>...</td>\n      <td>...</td>\n      <td>...</td>\n      <td>...</td>\n      <td>...</td>\n      <td>...</td>\n      <td>...</td>\n      <td>...</td>\n      <td>...</td>\n    </tr>\n    <tr>\n      <th>76997</th>\n      <td>AVz0WZ18FcQ3k02bDO8m</td>\n      <td>29 Crown Rd.Building B</td>\n      <td>Restaurant</td>\n      <td>Weatherford</td>\n      <td>Mexican</td>\n      <td>2017-06-29T14:55:32Z</td>\n      <td>2017-06-29T14:55:32Z</td>\n      <td>32.752010</td>\n      <td>-97.669332</td>\n      <td>Main</td>\n      <td>USD</td>\n      <td>2017-06-28T17:41:09.905Z</td>\n      <td>A new favorite Slowsmoked brisket, served in y...</td>\n      <td>Brisket Tacos</td>\n      <td>Los Vaqueros - West</td>\n      <td>TX</td>\n    </tr>\n    <tr>\n      <th>76998</th>\n      <td>AVz0WZ18FcQ3k02bDO8m</td>\n      <td>29 Crown Rd.Building B</td>\n      <td>Restaurant</td>\n      <td>Weatherford</td>\n      <td>Mexican</td>\n      <td>2017-06-29T14:55:32Z</td>\n      <td>2017-06-29T14:55:32Z</td>\n      <td>32.752010</td>\n      <td>-97.669332</td>\n      <td>Main</td>\n      <td>USD</td>\n      <td>2017-06-28T17:41:09.905Z</td>\n      <td>The chefs favorite when he is too busy to sit ...</td>\n      <td>Johnnys Burrito Bowl</td>\n      <td>Los Vaqueros - West</td>\n      <td>TX</td>\n    </tr>\n    <tr>\n      <th>76999</th>\n      <td>AVz0WZ18FcQ3k02bDO8m</td>\n      <td>29 Crown Rd.Building B</td>\n      <td>Restaurant</td>\n      <td>Weatherford</td>\n      <td>Mexican</td>\n      <td>2017-06-29T14:55:32Z</td>\n      <td>2017-06-29T14:55:32Z</td>\n      <td>32.752010</td>\n      <td>-97.669332</td>\n      <td>Main</td>\n      <td>USD</td>\n      <td>2017-06-28T17:41:09.905Z</td>\n      <td>With chili con queso, Spanish rice and refried...</td>\n      <td>One Beef or Chicken Burrito</td>\n      <td>Los Vaqueros - West</td>\n      <td>TX</td>\n    </tr>\n    <tr>\n      <th>77000</th>\n      <td>AVz0WZf3-gnIPe8DUW4y</td>\n      <td>2300 Matlock Rd. Suite 21</td>\n      <td>Restaurant</td>\n      <td>Mansfield</td>\n      <td>Mexican, American, Seafood</td>\n      <td>2017-06-29T14:55:31Z</td>\n      <td>2017-06-29T14:55:31Z</td>\n      <td>32.594093</td>\n      <td>-97.106282</td>\n      <td>Ensaladas  Salads</td>\n      <td>USD</td>\n      <td>2017-06-28T17:33:26.597Z</td>\n      <td>Seasoned picadillo beef served with fresh mixe...</td>\n      <td>Ensalada Taco</td>\n      <td>El Primo's Mexican Grill &amp; Cantina</td>\n      <td>TX</td>\n    </tr>\n    <tr>\n      <th>77014</th>\n      <td>AVz0WZsS-gnIPe8DUW45</td>\n      <td>4150 North MacArthur Blvd</td>\n      <td>Restaurant</td>\n      <td>Irving</td>\n      <td>Steakhouse, American</td>\n      <td>2017-06-29T14:55:32Z</td>\n      <td>2017-06-29T14:55:32Z</td>\n      <td>32.862452</td>\n      <td>-96.959246</td>\n      <td>Air</td>\n      <td>USD</td>\n      <td>2017-06-28T17:36:57.862Z</td>\n      <td>peppers onions jack cheese flour tortilla sour...</td>\n      <td>Beer Can Chicken Tacos</td>\n      <td>LAW at Four Seasons Dallas</td>\n      <td>TX</td>\n    </tr>\n  </tbody>\n</table>\n<p>1925 rows × 16 columns</p>\n</div>"
     },
     "execution_count": 9,
     "metadata": {},
     "output_type": "execute_result"
    }
   ],
   "source": [
    "df.dropna().shape"
   ],
   "metadata": {
    "collapsed": false,
    "ExecuteTime": {
     "end_time": "2023-11-30T06:07:26.621681800Z",
     "start_time": "2023-11-30T06:07:26.548768700Z"
    }
   },
   "id": "30171f89d88353b2"
  },
  {
   "cell_type": "code",
   "execution_count": 10,
   "outputs": [
    {
     "data": {
      "text/plain": "                         id                   address  \\\n0      AVwc__cikufWRAb51QjV         610 Commercial St   \n1      AVwc__cikufWRAb51QjV         610 Commercial St   \n2      AVwc__dF_7pvs4fz1Ncy      9521 Morton Davis Dr   \n3      AVwc__kCByjofQCxkdm-  10550 W I 25 Frontage Rd   \n4      AVwc__WtByjofQCxkdkR             8495 W 3rd St   \n...                     ...                       ...   \n77255  AVzRLlQNLD2H7whiWdH_             3919 24th St.   \n77256  AVzRLlQNLD2H7whiWdH_             3919 24th St.   \n77257  AVzRLlQNLD2H7whiWdH_             3919 24th St.   \n77258  AVzRLlQNLD2H7whiWdH_             3919 24th St.   \n77259  AVzRLlQNLD2H7whiWdH_             3919 24th St.   \n\n                                              categories           city  \\\n0      Restaurant Delivery Service,Restaurants,Pizza,...       Atchison   \n1      Restaurant Delivery Service,Restaurants,Pizza,...       Atchison   \n2           Golf Course, American Restaurant, and Resort      Patterson   \n3                                   Fast Food Restaurant       Longmont   \n4      Mexican Restaurant Mid-City West,Mexican Resta...    Los Angeles   \n...                                                  ...            ...   \n77255                                         Restaurant  San Francisco   \n77256                                         Restaurant  San Francisco   \n77257                                         Restaurant  San Francisco   \n77258                                         Restaurant  San Francisco   \n77259                                         Restaurant  San Francisco   \n\n                          cuisines             dateAdded  \\\n0      Restaurant Delivery Service  2016-03-02T11:49:34Z   \n1      Restaurant Delivery Service  2016-03-02T11:49:34Z   \n2                              NaN  2016-10-14T01:58:25Z   \n3                              NaN  2016-09-09T17:30:34Z   \n4                          Mexican  2016-05-19T11:50:25Z   \n...                            ...                   ...   \n77255                      Mexican  2017-06-22T19:01:33Z   \n77256                      Mexican  2017-06-22T19:01:33Z   \n77257                      Mexican  2017-06-22T19:01:33Z   \n77258                      Mexican  2017-06-22T19:01:33Z   \n77259                      Mexican  2017-06-22T19:01:33Z   \n\n                dateUpdated   latitude   longitude menus.category  \\\n0      2017-02-01T18:04:44Z  39.561570  -95.121020            NaN   \n1      2017-02-01T18:04:44Z  39.561570  -95.121020            NaN   \n2      2016-10-14T01:58:25Z  37.401855 -121.266703            NaN   \n3      2016-10-04T05:15:17Z        NaN         NaN            NaN   \n4      2016-09-11T00:06:37Z  34.080724 -118.389578            NaN   \n...                     ...        ...         ...            ...   \n77255  2017-06-22T19:01:33Z  37.751392 -122.430180            NaN   \n77256  2017-06-22T19:01:33Z  37.751392 -122.430180            NaN   \n77257  2017-06-22T19:01:33Z  37.751392 -122.430180            NaN   \n77258  2017-06-22T19:01:33Z  37.751392 -122.430180            NaN   \n77259  2017-06-22T19:01:33Z  37.751392 -122.430180            NaN   \n\n      menus.currency            menus.dateSeen  \\\n0                NaN      2017-02-01T18:04:44Z   \n1                NaN      2016-03-02T11:49:34Z   \n2                NaN      2016-10-14T01:58:25Z   \n3                NaN      2016-09-09T17:30:34Z   \n4                NaN      2016-05-19T11:50:25Z   \n...              ...                       ...   \n77255            USD  2017-06-22T16:40:06.448Z   \n77256            USD  2017-06-22T16:40:06.448Z   \n77257            USD  2017-06-22T16:40:06.448Z   \n77258            USD  2017-06-22T16:40:06.448Z   \n77259            USD  2017-06-22T16:40:06.448Z   \n\n                                       menus.description  \\\n0                                                    NaN   \n1      Beef, onion, cheddar cheese, lettuce,  refried...   \n2      Beef barbacoa or chicken, spanish rice, pico d...   \n3                                                    NaN   \n4      Wahoo, avocado, cabbage, pico de gallo  and av...   \n...                                                  ...   \n77255  meat, rice, beans, guacamole, sour cream, chee...   \n77256                 melted cheese, rice, beans & salsa   \n77257                                       meat & salsa   \n77258                          meat, rice, beans & salsa   \n77259  stuffed with rice, beans, meat, topped with en...   \n\n                     menus.name                               name  \\\n0                          Taco                    Gambino's Pizza   \n1                          Taco                    Gambino's Pizza   \n2              Smotherd Burrito  Diablo Grande Golf & Country Club   \n3               Sausage Burrito                         Mcdonald's   \n4             Wahoo Tacogrilled           Baja Fresh Mexican Grill   \n...                         ...                                ...   \n77255             Super Burrito                 La Casona Taqueria   \n77256  Steamed Broccoli Burrito                 La Casona Taqueria   \n77257              Regular Taco                 La Casona Taqueria   \n77258           Regular Burrito                 La Casona Taqueria   \n77259            Azteca Burrito                 La Casona Taqueria   \n\n           province  \n0                KS  \n1                KS  \n2           Grayson  \n3             Niwot  \n4      Bicentennial  \n...             ...  \n77255    California  \n77256    California  \n77257    California  \n77258    California  \n77259    California  \n\n[77260 rows x 16 columns]",
      "text/html": "<div>\n<style scoped>\n    .dataframe tbody tr th:only-of-type {\n        vertical-align: middle;\n    }\n\n    .dataframe tbody tr th {\n        vertical-align: top;\n    }\n\n    .dataframe thead th {\n        text-align: right;\n    }\n</style>\n<table border=\"1\" class=\"dataframe\">\n  <thead>\n    <tr style=\"text-align: right;\">\n      <th></th>\n      <th>id</th>\n      <th>address</th>\n      <th>categories</th>\n      <th>city</th>\n      <th>cuisines</th>\n      <th>dateAdded</th>\n      <th>dateUpdated</th>\n      <th>latitude</th>\n      <th>longitude</th>\n      <th>menus.category</th>\n      <th>menus.currency</th>\n      <th>menus.dateSeen</th>\n      <th>menus.description</th>\n      <th>menus.name</th>\n      <th>name</th>\n      <th>province</th>\n    </tr>\n  </thead>\n  <tbody>\n    <tr>\n      <th>0</th>\n      <td>AVwc__cikufWRAb51QjV</td>\n      <td>610 Commercial St</td>\n      <td>Restaurant Delivery Service,Restaurants,Pizza,...</td>\n      <td>Atchison</td>\n      <td>Restaurant Delivery Service</td>\n      <td>2016-03-02T11:49:34Z</td>\n      <td>2017-02-01T18:04:44Z</td>\n      <td>39.561570</td>\n      <td>-95.121020</td>\n      <td>NaN</td>\n      <td>NaN</td>\n      <td>2017-02-01T18:04:44Z</td>\n      <td>NaN</td>\n      <td>Taco</td>\n      <td>Gambino's Pizza</td>\n      <td>KS</td>\n    </tr>\n    <tr>\n      <th>1</th>\n      <td>AVwc__cikufWRAb51QjV</td>\n      <td>610 Commercial St</td>\n      <td>Restaurant Delivery Service,Restaurants,Pizza,...</td>\n      <td>Atchison</td>\n      <td>Restaurant Delivery Service</td>\n      <td>2016-03-02T11:49:34Z</td>\n      <td>2017-02-01T18:04:44Z</td>\n      <td>39.561570</td>\n      <td>-95.121020</td>\n      <td>NaN</td>\n      <td>NaN</td>\n      <td>2016-03-02T11:49:34Z</td>\n      <td>Beef, onion, cheddar cheese, lettuce,  refried...</td>\n      <td>Taco</td>\n      <td>Gambino's Pizza</td>\n      <td>KS</td>\n    </tr>\n    <tr>\n      <th>2</th>\n      <td>AVwc__dF_7pvs4fz1Ncy</td>\n      <td>9521 Morton Davis Dr</td>\n      <td>Golf Course, American Restaurant, and Resort</td>\n      <td>Patterson</td>\n      <td>NaN</td>\n      <td>2016-10-14T01:58:25Z</td>\n      <td>2016-10-14T01:58:25Z</td>\n      <td>37.401855</td>\n      <td>-121.266703</td>\n      <td>NaN</td>\n      <td>NaN</td>\n      <td>2016-10-14T01:58:25Z</td>\n      <td>Beef barbacoa or chicken, spanish rice, pico d...</td>\n      <td>Smotherd Burrito</td>\n      <td>Diablo Grande Golf &amp; Country Club</td>\n      <td>Grayson</td>\n    </tr>\n    <tr>\n      <th>3</th>\n      <td>AVwc__kCByjofQCxkdm-</td>\n      <td>10550 W I 25 Frontage Rd</td>\n      <td>Fast Food Restaurant</td>\n      <td>Longmont</td>\n      <td>NaN</td>\n      <td>2016-09-09T17:30:34Z</td>\n      <td>2016-10-04T05:15:17Z</td>\n      <td>NaN</td>\n      <td>NaN</td>\n      <td>NaN</td>\n      <td>NaN</td>\n      <td>2016-09-09T17:30:34Z</td>\n      <td>NaN</td>\n      <td>Sausage Burrito</td>\n      <td>Mcdonald's</td>\n      <td>Niwot</td>\n    </tr>\n    <tr>\n      <th>4</th>\n      <td>AVwc__WtByjofQCxkdkR</td>\n      <td>8495 W 3rd St</td>\n      <td>Mexican Restaurant Mid-City West,Mexican Resta...</td>\n      <td>Los Angeles</td>\n      <td>Mexican</td>\n      <td>2016-05-19T11:50:25Z</td>\n      <td>2016-09-11T00:06:37Z</td>\n      <td>34.080724</td>\n      <td>-118.389578</td>\n      <td>NaN</td>\n      <td>NaN</td>\n      <td>2016-05-19T11:50:25Z</td>\n      <td>Wahoo, avocado, cabbage, pico de gallo  and av...</td>\n      <td>Wahoo Tacogrilled</td>\n      <td>Baja Fresh Mexican Grill</td>\n      <td>Bicentennial</td>\n    </tr>\n    <tr>\n      <th>...</th>\n      <td>...</td>\n      <td>...</td>\n      <td>...</td>\n      <td>...</td>\n      <td>...</td>\n      <td>...</td>\n      <td>...</td>\n      <td>...</td>\n      <td>...</td>\n      <td>...</td>\n      <td>...</td>\n      <td>...</td>\n      <td>...</td>\n      <td>...</td>\n      <td>...</td>\n      <td>...</td>\n    </tr>\n    <tr>\n      <th>77255</th>\n      <td>AVzRLlQNLD2H7whiWdH_</td>\n      <td>3919 24th St.</td>\n      <td>Restaurant</td>\n      <td>San Francisco</td>\n      <td>Mexican</td>\n      <td>2017-06-22T19:01:33Z</td>\n      <td>2017-06-22T19:01:33Z</td>\n      <td>37.751392</td>\n      <td>-122.430180</td>\n      <td>NaN</td>\n      <td>USD</td>\n      <td>2017-06-22T16:40:06.448Z</td>\n      <td>meat, rice, beans, guacamole, sour cream, chee...</td>\n      <td>Super Burrito</td>\n      <td>La Casona Taqueria</td>\n      <td>California</td>\n    </tr>\n    <tr>\n      <th>77256</th>\n      <td>AVzRLlQNLD2H7whiWdH_</td>\n      <td>3919 24th St.</td>\n      <td>Restaurant</td>\n      <td>San Francisco</td>\n      <td>Mexican</td>\n      <td>2017-06-22T19:01:33Z</td>\n      <td>2017-06-22T19:01:33Z</td>\n      <td>37.751392</td>\n      <td>-122.430180</td>\n      <td>NaN</td>\n      <td>USD</td>\n      <td>2017-06-22T16:40:06.448Z</td>\n      <td>melted cheese, rice, beans &amp; salsa</td>\n      <td>Steamed Broccoli Burrito</td>\n      <td>La Casona Taqueria</td>\n      <td>California</td>\n    </tr>\n    <tr>\n      <th>77257</th>\n      <td>AVzRLlQNLD2H7whiWdH_</td>\n      <td>3919 24th St.</td>\n      <td>Restaurant</td>\n      <td>San Francisco</td>\n      <td>Mexican</td>\n      <td>2017-06-22T19:01:33Z</td>\n      <td>2017-06-22T19:01:33Z</td>\n      <td>37.751392</td>\n      <td>-122.430180</td>\n      <td>NaN</td>\n      <td>USD</td>\n      <td>2017-06-22T16:40:06.448Z</td>\n      <td>meat &amp; salsa</td>\n      <td>Regular Taco</td>\n      <td>La Casona Taqueria</td>\n      <td>California</td>\n    </tr>\n    <tr>\n      <th>77258</th>\n      <td>AVzRLlQNLD2H7whiWdH_</td>\n      <td>3919 24th St.</td>\n      <td>Restaurant</td>\n      <td>San Francisco</td>\n      <td>Mexican</td>\n      <td>2017-06-22T19:01:33Z</td>\n      <td>2017-06-22T19:01:33Z</td>\n      <td>37.751392</td>\n      <td>-122.430180</td>\n      <td>NaN</td>\n      <td>USD</td>\n      <td>2017-06-22T16:40:06.448Z</td>\n      <td>meat, rice, beans &amp; salsa</td>\n      <td>Regular Burrito</td>\n      <td>La Casona Taqueria</td>\n      <td>California</td>\n    </tr>\n    <tr>\n      <th>77259</th>\n      <td>AVzRLlQNLD2H7whiWdH_</td>\n      <td>3919 24th St.</td>\n      <td>Restaurant</td>\n      <td>San Francisco</td>\n      <td>Mexican</td>\n      <td>2017-06-22T19:01:33Z</td>\n      <td>2017-06-22T19:01:33Z</td>\n      <td>37.751392</td>\n      <td>-122.430180</td>\n      <td>NaN</td>\n      <td>USD</td>\n      <td>2017-06-22T16:40:06.448Z</td>\n      <td>stuffed with rice, beans, meat, topped with en...</td>\n      <td>Azteca Burrito</td>\n      <td>La Casona Taqueria</td>\n      <td>California</td>\n    </tr>\n  </tbody>\n</table>\n<p>77260 rows × 16 columns</p>\n</div>"
     },
     "execution_count": 10,
     "metadata": {},
     "output_type": "execute_result"
    }
   ],
   "source": [
    "df"
   ],
   "metadata": {
    "collapsed": false,
    "ExecuteTime": {
     "end_time": "2023-11-30T06:07:26.622863200Z",
     "start_time": "2023-11-30T06:07:26.587686500Z"
    }
   },
   "id": "fd72cbb75f5bd33e"
  },
  {
   "cell_type": "code",
   "execution_count": 11,
   "outputs": [
    {
     "data": {
      "text/plain": "                         id                   address  \\\n0      AVwc__cikufWRAb51QjV         610 Commercial St   \n1      AVwc__cikufWRAb51QjV         610 Commercial St   \n2      AVwc__dF_7pvs4fz1Ncy      9521 Morton Davis Dr   \n3      AVwc__kCByjofQCxkdm-  10550 W I 25 Frontage Rd   \n4      AVwc__WtByjofQCxkdkR             8495 W 3rd St   \n...                     ...                       ...   \n77255  AVzRLlQNLD2H7whiWdH_             3919 24th St.   \n77256  AVzRLlQNLD2H7whiWdH_             3919 24th St.   \n77257  AVzRLlQNLD2H7whiWdH_             3919 24th St.   \n77258  AVzRLlQNLD2H7whiWdH_             3919 24th St.   \n77259  AVzRLlQNLD2H7whiWdH_             3919 24th St.   \n\n                                              categories           city  \\\n0      Restaurant Delivery Service,Restaurants,Pizza,...       Atchison   \n1      Restaurant Delivery Service,Restaurants,Pizza,...       Atchison   \n2           Golf Course, American Restaurant, and Resort      Patterson   \n3                                   Fast Food Restaurant       Longmont   \n4      Mexican Restaurant Mid-City West,Mexican Resta...    Los Angeles   \n...                                                  ...            ...   \n77255                                         Restaurant  San Francisco   \n77256                                         Restaurant  San Francisco   \n77257                                         Restaurant  San Francisco   \n77258                                         Restaurant  San Francisco   \n77259                                         Restaurant  San Francisco   \n\n                          cuisines             dateAdded  \\\n0      Restaurant Delivery Service  2016-03-02T11:49:34Z   \n1      Restaurant Delivery Service  2016-03-02T11:49:34Z   \n2                              NaN  2016-10-14T01:58:25Z   \n3                              NaN  2016-09-09T17:30:34Z   \n4                          Mexican  2016-05-19T11:50:25Z   \n...                            ...                   ...   \n77255                      Mexican  2017-06-22T19:01:33Z   \n77256                      Mexican  2017-06-22T19:01:33Z   \n77257                      Mexican  2017-06-22T19:01:33Z   \n77258                      Mexican  2017-06-22T19:01:33Z   \n77259                      Mexican  2017-06-22T19:01:33Z   \n\n                dateUpdated   latitude   longitude menus.category  \\\n0      2017-02-01T18:04:44Z  39.561570  -95.121020            NaN   \n1      2017-02-01T18:04:44Z  39.561570  -95.121020            NaN   \n2      2016-10-14T01:58:25Z  37.401855 -121.266703            NaN   \n3      2016-10-04T05:15:17Z        NaN         NaN            NaN   \n4      2016-09-11T00:06:37Z  34.080724 -118.389578            NaN   \n...                     ...        ...         ...            ...   \n77255  2017-06-22T19:01:33Z  37.751392 -122.430180            NaN   \n77256  2017-06-22T19:01:33Z  37.751392 -122.430180            NaN   \n77257  2017-06-22T19:01:33Z  37.751392 -122.430180            NaN   \n77258  2017-06-22T19:01:33Z  37.751392 -122.430180            NaN   \n77259  2017-06-22T19:01:33Z  37.751392 -122.430180            NaN   \n\n      menus.currency            menus.dateSeen  \\\n0                NaN      2017-02-01T18:04:44Z   \n1                NaN      2016-03-02T11:49:34Z   \n2                NaN      2016-10-14T01:58:25Z   \n3                NaN      2016-09-09T17:30:34Z   \n4                NaN      2016-05-19T11:50:25Z   \n...              ...                       ...   \n77255            USD  2017-06-22T16:40:06.448Z   \n77256            USD  2017-06-22T16:40:06.448Z   \n77257            USD  2017-06-22T16:40:06.448Z   \n77258            USD  2017-06-22T16:40:06.448Z   \n77259            USD  2017-06-22T16:40:06.448Z   \n\n                                       menus.description  \\\n0                                                    NaN   \n1      Beef, onion, cheddar cheese, lettuce,  refried...   \n2      Beef barbacoa or chicken, spanish rice, pico d...   \n3                                                    NaN   \n4      Wahoo, avocado, cabbage, pico de gallo  and av...   \n...                                                  ...   \n77255  meat, rice, beans, guacamole, sour cream, chee...   \n77256                 melted cheese, rice, beans & salsa   \n77257                                       meat & salsa   \n77258                          meat, rice, beans & salsa   \n77259  stuffed with rice, beans, meat, topped with en...   \n\n                     menus.name                               name  \\\n0                          Taco                    Gambino's Pizza   \n1                          Taco                    Gambino's Pizza   \n2              Smotherd Burrito  Diablo Grande Golf & Country Club   \n3               Sausage Burrito                         Mcdonald's   \n4             Wahoo Tacogrilled           Baja Fresh Mexican Grill   \n...                         ...                                ...   \n77255             Super Burrito                 La Casona Taqueria   \n77256  Steamed Broccoli Burrito                 La Casona Taqueria   \n77257              Regular Taco                 La Casona Taqueria   \n77258           Regular Burrito                 La Casona Taqueria   \n77259            Azteca Burrito                 La Casona Taqueria   \n\n           province  \n0                KS  \n1                KS  \n2           Grayson  \n3             Niwot  \n4      Bicentennial  \n...             ...  \n77255    California  \n77256    California  \n77257    California  \n77258    California  \n77259    California  \n\n[77260 rows x 16 columns]",
      "text/html": "<div>\n<style scoped>\n    .dataframe tbody tr th:only-of-type {\n        vertical-align: middle;\n    }\n\n    .dataframe tbody tr th {\n        vertical-align: top;\n    }\n\n    .dataframe thead th {\n        text-align: right;\n    }\n</style>\n<table border=\"1\" class=\"dataframe\">\n  <thead>\n    <tr style=\"text-align: right;\">\n      <th></th>\n      <th>id</th>\n      <th>address</th>\n      <th>categories</th>\n      <th>city</th>\n      <th>cuisines</th>\n      <th>dateAdded</th>\n      <th>dateUpdated</th>\n      <th>latitude</th>\n      <th>longitude</th>\n      <th>menus.category</th>\n      <th>menus.currency</th>\n      <th>menus.dateSeen</th>\n      <th>menus.description</th>\n      <th>menus.name</th>\n      <th>name</th>\n      <th>province</th>\n    </tr>\n  </thead>\n  <tbody>\n    <tr>\n      <th>0</th>\n      <td>AVwc__cikufWRAb51QjV</td>\n      <td>610 Commercial St</td>\n      <td>Restaurant Delivery Service,Restaurants,Pizza,...</td>\n      <td>Atchison</td>\n      <td>Restaurant Delivery Service</td>\n      <td>2016-03-02T11:49:34Z</td>\n      <td>2017-02-01T18:04:44Z</td>\n      <td>39.561570</td>\n      <td>-95.121020</td>\n      <td>NaN</td>\n      <td>NaN</td>\n      <td>2017-02-01T18:04:44Z</td>\n      <td>NaN</td>\n      <td>Taco</td>\n      <td>Gambino's Pizza</td>\n      <td>KS</td>\n    </tr>\n    <tr>\n      <th>1</th>\n      <td>AVwc__cikufWRAb51QjV</td>\n      <td>610 Commercial St</td>\n      <td>Restaurant Delivery Service,Restaurants,Pizza,...</td>\n      <td>Atchison</td>\n      <td>Restaurant Delivery Service</td>\n      <td>2016-03-02T11:49:34Z</td>\n      <td>2017-02-01T18:04:44Z</td>\n      <td>39.561570</td>\n      <td>-95.121020</td>\n      <td>NaN</td>\n      <td>NaN</td>\n      <td>2016-03-02T11:49:34Z</td>\n      <td>Beef, onion, cheddar cheese, lettuce,  refried...</td>\n      <td>Taco</td>\n      <td>Gambino's Pizza</td>\n      <td>KS</td>\n    </tr>\n    <tr>\n      <th>2</th>\n      <td>AVwc__dF_7pvs4fz1Ncy</td>\n      <td>9521 Morton Davis Dr</td>\n      <td>Golf Course, American Restaurant, and Resort</td>\n      <td>Patterson</td>\n      <td>NaN</td>\n      <td>2016-10-14T01:58:25Z</td>\n      <td>2016-10-14T01:58:25Z</td>\n      <td>37.401855</td>\n      <td>-121.266703</td>\n      <td>NaN</td>\n      <td>NaN</td>\n      <td>2016-10-14T01:58:25Z</td>\n      <td>Beef barbacoa or chicken, spanish rice, pico d...</td>\n      <td>Smotherd Burrito</td>\n      <td>Diablo Grande Golf &amp; Country Club</td>\n      <td>Grayson</td>\n    </tr>\n    <tr>\n      <th>3</th>\n      <td>AVwc__kCByjofQCxkdm-</td>\n      <td>10550 W I 25 Frontage Rd</td>\n      <td>Fast Food Restaurant</td>\n      <td>Longmont</td>\n      <td>NaN</td>\n      <td>2016-09-09T17:30:34Z</td>\n      <td>2016-10-04T05:15:17Z</td>\n      <td>NaN</td>\n      <td>NaN</td>\n      <td>NaN</td>\n      <td>NaN</td>\n      <td>2016-09-09T17:30:34Z</td>\n      <td>NaN</td>\n      <td>Sausage Burrito</td>\n      <td>Mcdonald's</td>\n      <td>Niwot</td>\n    </tr>\n    <tr>\n      <th>4</th>\n      <td>AVwc__WtByjofQCxkdkR</td>\n      <td>8495 W 3rd St</td>\n      <td>Mexican Restaurant Mid-City West,Mexican Resta...</td>\n      <td>Los Angeles</td>\n      <td>Mexican</td>\n      <td>2016-05-19T11:50:25Z</td>\n      <td>2016-09-11T00:06:37Z</td>\n      <td>34.080724</td>\n      <td>-118.389578</td>\n      <td>NaN</td>\n      <td>NaN</td>\n      <td>2016-05-19T11:50:25Z</td>\n      <td>Wahoo, avocado, cabbage, pico de gallo  and av...</td>\n      <td>Wahoo Tacogrilled</td>\n      <td>Baja Fresh Mexican Grill</td>\n      <td>Bicentennial</td>\n    </tr>\n    <tr>\n      <th>...</th>\n      <td>...</td>\n      <td>...</td>\n      <td>...</td>\n      <td>...</td>\n      <td>...</td>\n      <td>...</td>\n      <td>...</td>\n      <td>...</td>\n      <td>...</td>\n      <td>...</td>\n      <td>...</td>\n      <td>...</td>\n      <td>...</td>\n      <td>...</td>\n      <td>...</td>\n      <td>...</td>\n    </tr>\n    <tr>\n      <th>77255</th>\n      <td>AVzRLlQNLD2H7whiWdH_</td>\n      <td>3919 24th St.</td>\n      <td>Restaurant</td>\n      <td>San Francisco</td>\n      <td>Mexican</td>\n      <td>2017-06-22T19:01:33Z</td>\n      <td>2017-06-22T19:01:33Z</td>\n      <td>37.751392</td>\n      <td>-122.430180</td>\n      <td>NaN</td>\n      <td>USD</td>\n      <td>2017-06-22T16:40:06.448Z</td>\n      <td>meat, rice, beans, guacamole, sour cream, chee...</td>\n      <td>Super Burrito</td>\n      <td>La Casona Taqueria</td>\n      <td>California</td>\n    </tr>\n    <tr>\n      <th>77256</th>\n      <td>AVzRLlQNLD2H7whiWdH_</td>\n      <td>3919 24th St.</td>\n      <td>Restaurant</td>\n      <td>San Francisco</td>\n      <td>Mexican</td>\n      <td>2017-06-22T19:01:33Z</td>\n      <td>2017-06-22T19:01:33Z</td>\n      <td>37.751392</td>\n      <td>-122.430180</td>\n      <td>NaN</td>\n      <td>USD</td>\n      <td>2017-06-22T16:40:06.448Z</td>\n      <td>melted cheese, rice, beans &amp; salsa</td>\n      <td>Steamed Broccoli Burrito</td>\n      <td>La Casona Taqueria</td>\n      <td>California</td>\n    </tr>\n    <tr>\n      <th>77257</th>\n      <td>AVzRLlQNLD2H7whiWdH_</td>\n      <td>3919 24th St.</td>\n      <td>Restaurant</td>\n      <td>San Francisco</td>\n      <td>Mexican</td>\n      <td>2017-06-22T19:01:33Z</td>\n      <td>2017-06-22T19:01:33Z</td>\n      <td>37.751392</td>\n      <td>-122.430180</td>\n      <td>NaN</td>\n      <td>USD</td>\n      <td>2017-06-22T16:40:06.448Z</td>\n      <td>meat &amp; salsa</td>\n      <td>Regular Taco</td>\n      <td>La Casona Taqueria</td>\n      <td>California</td>\n    </tr>\n    <tr>\n      <th>77258</th>\n      <td>AVzRLlQNLD2H7whiWdH_</td>\n      <td>3919 24th St.</td>\n      <td>Restaurant</td>\n      <td>San Francisco</td>\n      <td>Mexican</td>\n      <td>2017-06-22T19:01:33Z</td>\n      <td>2017-06-22T19:01:33Z</td>\n      <td>37.751392</td>\n      <td>-122.430180</td>\n      <td>NaN</td>\n      <td>USD</td>\n      <td>2017-06-22T16:40:06.448Z</td>\n      <td>meat, rice, beans &amp; salsa</td>\n      <td>Regular Burrito</td>\n      <td>La Casona Taqueria</td>\n      <td>California</td>\n    </tr>\n    <tr>\n      <th>77259</th>\n      <td>AVzRLlQNLD2H7whiWdH_</td>\n      <td>3919 24th St.</td>\n      <td>Restaurant</td>\n      <td>San Francisco</td>\n      <td>Mexican</td>\n      <td>2017-06-22T19:01:33Z</td>\n      <td>2017-06-22T19:01:33Z</td>\n      <td>37.751392</td>\n      <td>-122.430180</td>\n      <td>NaN</td>\n      <td>USD</td>\n      <td>2017-06-22T16:40:06.448Z</td>\n      <td>stuffed with rice, beans, meat, topped with en...</td>\n      <td>Azteca Burrito</td>\n      <td>La Casona Taqueria</td>\n      <td>California</td>\n    </tr>\n  </tbody>\n</table>\n<p>77260 rows × 16 columns</p>\n</div>"
     },
     "execution_count": 11,
     "metadata": {},
     "output_type": "execute_result"
    }
   ],
   "source": [
    "df"
   ],
   "metadata": {
    "collapsed": false,
    "ExecuteTime": {
     "end_time": "2023-11-30T06:07:26.704191700Z",
     "start_time": "2023-11-30T06:07:26.601520Z"
    }
   },
   "id": "a50990f6fc2ed881"
  },
  {
   "cell_type": "markdown",
   "source": [
    "Задание 7\n",
    "Отберите заведения, которые находятся в городе Калифорния ('California'), штат Миссури.  Укажите индексы, под которыми полученные заведения расположены в датафрейме, через запятую и пробел в порядке возрастания. "
   ],
   "metadata": {
    "collapsed": false
   },
   "id": "38c288c02fd7af13"
  },
  {
   "cell_type": "code",
   "execution_count": 12,
   "outputs": [
    {
     "data": {
      "text/plain": "Index([40483, 52930, 52931, 52932, 52933, 52934, 52935, 52936, 52937, 52938,\n       52939, 65070],\n      dtype='int64')"
     },
     "execution_count": 12,
     "metadata": {},
     "output_type": "execute_result"
    }
   ],
   "source": [
    "df[df['city'] == 'California'].index"
   ],
   "metadata": {
    "collapsed": false,
    "ExecuteTime": {
     "end_time": "2023-11-30T06:07:26.707190300Z",
     "start_time": "2023-11-30T06:07:26.616683400Z"
    }
   },
   "id": "84cb46738124cf40"
  },
  {
   "cell_type": "markdown",
   "source": [
    "Задание 8\n",
    "Отберите заведения Taco Bell в городе Калифорния ('California'), штат Миссури.\n",
    "\n",
    "Укажите индексы этих заведений через запятую и пробел в порядке возрастания."
   ],
   "metadata": {
    "collapsed": false
   },
   "id": "a7ea55cf3e67129a"
  },
  {
   "cell_type": "code",
   "execution_count": 13,
   "outputs": [
    {
     "data": {
      "text/plain": "Index([52930, 52931, 52932, 52933, 52934, 52935, 52936, 52937, 52938, 52939], dtype='int64')"
     },
     "execution_count": 13,
     "metadata": {},
     "output_type": "execute_result"
    }
   ],
   "source": [
    "df[( df['city'] == 'California')&(df['name'] == 'Taco Bell')].index"
   ],
   "metadata": {
    "collapsed": false,
    "ExecuteTime": {
     "end_time": "2023-11-30T06:07:26.707190300Z",
     "start_time": "2023-11-30T06:07:26.626377500Z"
    }
   },
   "id": "8cda6253e9541ab2"
  },
  {
   "cell_type": "code",
   "execution_count": 14,
   "outputs": [],
   "source": [
    "result = df[( df['city'] == 'California')|(df['name'] == 'Taco Bell') & ((~(df['name'] == \n",
    "                                                                           'Volcano Taco'))) & (~(df['name'] == \n",
    "                                                                           'Fresco Soft Taco'))]"
   ],
   "metadata": {
    "collapsed": false,
    "ExecuteTime": {
     "end_time": "2023-11-30T06:07:26.760191500Z",
     "start_time": "2023-11-30T06:07:26.651077600Z"
    }
   },
   "id": "91c63af73ee53e75"
  },
  {
   "cell_type": "code",
   "execution_count": 15,
   "outputs": [
    {
     "data": {
      "text/plain": "                         id              address  \\\n130    AVwc_9yCByjofQCxkdRX      322 S. Broadway   \n131    AVwc_9yCByjofQCxkdRX      322 S. Broadway   \n132    AVwc_9yCByjofQCxkdRX      322 S. Broadway   \n133    AVwc_9yCByjofQCxkdRX      322 S. Broadway   \n134    AVwc_9yCByjofQCxkdRX      322 S. Broadway   \n...                     ...                  ...   \n75798  AVweTxkOkufWRAb5BzP7  11315 Causeway Blvd   \n75799  AVweTxkOkufWRAb5BzP7  11315 Causeway Blvd   \n75800  AVweTxkOkufWRAb5BzP7  11315 Causeway Blvd   \n75801  AVweTxkOkufWRAb5BzP7  11315 Causeway Blvd   \n76872  AVweZKG8kufWRAb5ChGQ     6224 Bluffton Rd   \n\n                                              categories        city  \\\n130    Fast Food,Restaurants,Mexican,Breakfast,Vegeta...       Salem   \n131    Fast Food,Restaurants,Mexican,Breakfast,Vegeta...       Salem   \n132    Fast Food,Restaurants,Mexican,Breakfast,Vegeta...       Salem   \n133    Fast Food,Restaurants,Mexican,Breakfast,Vegeta...       Salem   \n134    Fast Food,Restaurants,Mexican,Breakfast,Vegeta...       Salem   \n...                                                  ...         ...   \n75798  Fast Food Restaurant,Mexican Restaurant,Fast F...     Brandon   \n75799  Fast Food Restaurant,Mexican Restaurant,Fast F...     Brandon   \n75800  Fast Food Restaurant,Mexican Restaurant,Fast F...     Brandon   \n75801  Fast Food Restaurant,Mexican Restaurant,Fast F...     Brandon   \n76872            Fast Food Restaurant,Mexican Restaurant  Fort Wayne   \n\n                    cuisines             dateAdded           dateUpdated  \\\n130                  Mexican  2016-03-28T06:01:51Z  2017-06-27T10:01:48Z   \n131                  Mexican  2016-03-28T06:01:51Z  2017-06-27T10:01:48Z   \n132                  Mexican  2016-03-28T06:01:51Z  2017-06-27T10:01:48Z   \n133                  Mexican  2016-03-28T06:01:51Z  2017-06-27T10:01:48Z   \n134                  Mexican  2016-03-28T06:01:51Z  2017-06-27T10:01:48Z   \n...                      ...                   ...                   ...   \n75798  Fast Food Restaurants  2016-03-30T04:15:38Z  2017-07-03T14:00:59Z   \n75799  Fast Food Restaurants  2016-03-30T04:15:38Z  2017-07-03T14:00:59Z   \n75800  Fast Food Restaurants  2016-03-30T04:15:38Z  2017-07-03T14:00:59Z   \n75801  Fast Food Restaurants  2016-03-30T04:15:38Z  2017-07-03T14:00:59Z   \n76872                    NaN  2015-10-19T23:50:22Z  2016-09-12T19:57:50Z   \n\n        latitude  longitude menus.category menus.currency  \\\n130    42.755023 -71.209440            NaN            NaN   \n131    42.755023 -71.209440            NaN            NaN   \n132    42.755023 -71.209440            NaN            NaN   \n133    42.755023 -71.209440            NaN            NaN   \n134    42.755023 -71.209440            NaN            NaN   \n...          ...        ...            ...            ...   \n75798  27.922768 -82.321643            NaN            NaN   \n75799  27.922768 -82.321643            NaN            NaN   \n75800  27.922768 -82.321643            NaN            NaN   \n75801  27.922768 -82.321643            NaN            NaN   \n76872        NaN        NaN            NaN            NaN   \n\n                                  menus.dateSeen  \\\n130    2016-03-28T06:01:51Z,2016-06-06T16:15:44Z   \n131    2016-03-28T06:01:51Z,2016-06-06T16:15:44Z   \n132    2016-03-28T06:01:51Z,2016-06-06T16:15:44Z   \n133    2016-03-28T06:01:51Z,2016-06-06T16:15:44Z   \n134    2016-03-28T06:01:51Z,2016-06-06T16:15:44Z   \n...                                          ...   \n75798                       2016-03-30T04:15:38Z   \n75799                       2016-03-30T04:15:38Z   \n75800                       2016-03-30T04:15:38Z   \n75801                       2016-03-30T04:15:38Z   \n76872                       2015-10-19T23:50:22Z   \n\n                                       menus.description  \\\n130                                                  NaN   \n131                                                  NaN   \n132                                                  NaN   \n133                                                  NaN   \n134                                                  NaN   \n...                                                  ...   \n75798                                                NaN   \n75799                                                NaN   \n75800                                                NaN   \n75801  A warm, soft, flour tortilla wrapped around he...   \n76872                                                NaN   \n\n                    menus.name       name   province  \n130               Volcano Taco  Taco Bell         NH  \n131            Volcano Burrito  Taco Bell         NH  \n132               Taco 12 Pack  Taco Bell         NH  \n133    Grilled Steak Soft Taco  Taco Bell         NH  \n134           Fresco Soft Taco  Taco Bell         NH  \n...                        ...        ...        ...  \n75798          Chicken Burrito  Taco Bell         FL  \n75799          Cantina Burrito  Taco Bell         FL  \n75800       Black Bean Burrito  Taco Bell         FL  \n75801             Bean Burrito  Taco Bell         FL  \n76872           Baja Fish Taco  Taco Bell  Waynedale  \n\n[2953 rows x 16 columns]",
      "text/html": "<div>\n<style scoped>\n    .dataframe tbody tr th:only-of-type {\n        vertical-align: middle;\n    }\n\n    .dataframe tbody tr th {\n        vertical-align: top;\n    }\n\n    .dataframe thead th {\n        text-align: right;\n    }\n</style>\n<table border=\"1\" class=\"dataframe\">\n  <thead>\n    <tr style=\"text-align: right;\">\n      <th></th>\n      <th>id</th>\n      <th>address</th>\n      <th>categories</th>\n      <th>city</th>\n      <th>cuisines</th>\n      <th>dateAdded</th>\n      <th>dateUpdated</th>\n      <th>latitude</th>\n      <th>longitude</th>\n      <th>menus.category</th>\n      <th>menus.currency</th>\n      <th>menus.dateSeen</th>\n      <th>menus.description</th>\n      <th>menus.name</th>\n      <th>name</th>\n      <th>province</th>\n    </tr>\n  </thead>\n  <tbody>\n    <tr>\n      <th>130</th>\n      <td>AVwc_9yCByjofQCxkdRX</td>\n      <td>322 S. Broadway</td>\n      <td>Fast Food,Restaurants,Mexican,Breakfast,Vegeta...</td>\n      <td>Salem</td>\n      <td>Mexican</td>\n      <td>2016-03-28T06:01:51Z</td>\n      <td>2017-06-27T10:01:48Z</td>\n      <td>42.755023</td>\n      <td>-71.209440</td>\n      <td>NaN</td>\n      <td>NaN</td>\n      <td>2016-03-28T06:01:51Z,2016-06-06T16:15:44Z</td>\n      <td>NaN</td>\n      <td>Volcano Taco</td>\n      <td>Taco Bell</td>\n      <td>NH</td>\n    </tr>\n    <tr>\n      <th>131</th>\n      <td>AVwc_9yCByjofQCxkdRX</td>\n      <td>322 S. Broadway</td>\n      <td>Fast Food,Restaurants,Mexican,Breakfast,Vegeta...</td>\n      <td>Salem</td>\n      <td>Mexican</td>\n      <td>2016-03-28T06:01:51Z</td>\n      <td>2017-06-27T10:01:48Z</td>\n      <td>42.755023</td>\n      <td>-71.209440</td>\n      <td>NaN</td>\n      <td>NaN</td>\n      <td>2016-03-28T06:01:51Z,2016-06-06T16:15:44Z</td>\n      <td>NaN</td>\n      <td>Volcano Burrito</td>\n      <td>Taco Bell</td>\n      <td>NH</td>\n    </tr>\n    <tr>\n      <th>132</th>\n      <td>AVwc_9yCByjofQCxkdRX</td>\n      <td>322 S. Broadway</td>\n      <td>Fast Food,Restaurants,Mexican,Breakfast,Vegeta...</td>\n      <td>Salem</td>\n      <td>Mexican</td>\n      <td>2016-03-28T06:01:51Z</td>\n      <td>2017-06-27T10:01:48Z</td>\n      <td>42.755023</td>\n      <td>-71.209440</td>\n      <td>NaN</td>\n      <td>NaN</td>\n      <td>2016-03-28T06:01:51Z,2016-06-06T16:15:44Z</td>\n      <td>NaN</td>\n      <td>Taco 12 Pack</td>\n      <td>Taco Bell</td>\n      <td>NH</td>\n    </tr>\n    <tr>\n      <th>133</th>\n      <td>AVwc_9yCByjofQCxkdRX</td>\n      <td>322 S. Broadway</td>\n      <td>Fast Food,Restaurants,Mexican,Breakfast,Vegeta...</td>\n      <td>Salem</td>\n      <td>Mexican</td>\n      <td>2016-03-28T06:01:51Z</td>\n      <td>2017-06-27T10:01:48Z</td>\n      <td>42.755023</td>\n      <td>-71.209440</td>\n      <td>NaN</td>\n      <td>NaN</td>\n      <td>2016-03-28T06:01:51Z,2016-06-06T16:15:44Z</td>\n      <td>NaN</td>\n      <td>Grilled Steak Soft Taco</td>\n      <td>Taco Bell</td>\n      <td>NH</td>\n    </tr>\n    <tr>\n      <th>134</th>\n      <td>AVwc_9yCByjofQCxkdRX</td>\n      <td>322 S. Broadway</td>\n      <td>Fast Food,Restaurants,Mexican,Breakfast,Vegeta...</td>\n      <td>Salem</td>\n      <td>Mexican</td>\n      <td>2016-03-28T06:01:51Z</td>\n      <td>2017-06-27T10:01:48Z</td>\n      <td>42.755023</td>\n      <td>-71.209440</td>\n      <td>NaN</td>\n      <td>NaN</td>\n      <td>2016-03-28T06:01:51Z,2016-06-06T16:15:44Z</td>\n      <td>NaN</td>\n      <td>Fresco Soft Taco</td>\n      <td>Taco Bell</td>\n      <td>NH</td>\n    </tr>\n    <tr>\n      <th>...</th>\n      <td>...</td>\n      <td>...</td>\n      <td>...</td>\n      <td>...</td>\n      <td>...</td>\n      <td>...</td>\n      <td>...</td>\n      <td>...</td>\n      <td>...</td>\n      <td>...</td>\n      <td>...</td>\n      <td>...</td>\n      <td>...</td>\n      <td>...</td>\n      <td>...</td>\n      <td>...</td>\n    </tr>\n    <tr>\n      <th>75798</th>\n      <td>AVweTxkOkufWRAb5BzP7</td>\n      <td>11315 Causeway Blvd</td>\n      <td>Fast Food Restaurant,Mexican Restaurant,Fast F...</td>\n      <td>Brandon</td>\n      <td>Fast Food Restaurants</td>\n      <td>2016-03-30T04:15:38Z</td>\n      <td>2017-07-03T14:00:59Z</td>\n      <td>27.922768</td>\n      <td>-82.321643</td>\n      <td>NaN</td>\n      <td>NaN</td>\n      <td>2016-03-30T04:15:38Z</td>\n      <td>NaN</td>\n      <td>Chicken Burrito</td>\n      <td>Taco Bell</td>\n      <td>FL</td>\n    </tr>\n    <tr>\n      <th>75799</th>\n      <td>AVweTxkOkufWRAb5BzP7</td>\n      <td>11315 Causeway Blvd</td>\n      <td>Fast Food Restaurant,Mexican Restaurant,Fast F...</td>\n      <td>Brandon</td>\n      <td>Fast Food Restaurants</td>\n      <td>2016-03-30T04:15:38Z</td>\n      <td>2017-07-03T14:00:59Z</td>\n      <td>27.922768</td>\n      <td>-82.321643</td>\n      <td>NaN</td>\n      <td>NaN</td>\n      <td>2016-03-30T04:15:38Z</td>\n      <td>NaN</td>\n      <td>Cantina Burrito</td>\n      <td>Taco Bell</td>\n      <td>FL</td>\n    </tr>\n    <tr>\n      <th>75800</th>\n      <td>AVweTxkOkufWRAb5BzP7</td>\n      <td>11315 Causeway Blvd</td>\n      <td>Fast Food Restaurant,Mexican Restaurant,Fast F...</td>\n      <td>Brandon</td>\n      <td>Fast Food Restaurants</td>\n      <td>2016-03-30T04:15:38Z</td>\n      <td>2017-07-03T14:00:59Z</td>\n      <td>27.922768</td>\n      <td>-82.321643</td>\n      <td>NaN</td>\n      <td>NaN</td>\n      <td>2016-03-30T04:15:38Z</td>\n      <td>NaN</td>\n      <td>Black Bean Burrito</td>\n      <td>Taco Bell</td>\n      <td>FL</td>\n    </tr>\n    <tr>\n      <th>75801</th>\n      <td>AVweTxkOkufWRAb5BzP7</td>\n      <td>11315 Causeway Blvd</td>\n      <td>Fast Food Restaurant,Mexican Restaurant,Fast F...</td>\n      <td>Brandon</td>\n      <td>Fast Food Restaurants</td>\n      <td>2016-03-30T04:15:38Z</td>\n      <td>2017-07-03T14:00:59Z</td>\n      <td>27.922768</td>\n      <td>-82.321643</td>\n      <td>NaN</td>\n      <td>NaN</td>\n      <td>2016-03-30T04:15:38Z</td>\n      <td>A warm, soft, flour tortilla wrapped around he...</td>\n      <td>Bean Burrito</td>\n      <td>Taco Bell</td>\n      <td>FL</td>\n    </tr>\n    <tr>\n      <th>76872</th>\n      <td>AVweZKG8kufWRAb5ChGQ</td>\n      <td>6224 Bluffton Rd</td>\n      <td>Fast Food Restaurant,Mexican Restaurant</td>\n      <td>Fort Wayne</td>\n      <td>NaN</td>\n      <td>2015-10-19T23:50:22Z</td>\n      <td>2016-09-12T19:57:50Z</td>\n      <td>NaN</td>\n      <td>NaN</td>\n      <td>NaN</td>\n      <td>NaN</td>\n      <td>2015-10-19T23:50:22Z</td>\n      <td>NaN</td>\n      <td>Baja Fish Taco</td>\n      <td>Taco Bell</td>\n      <td>Waynedale</td>\n    </tr>\n  </tbody>\n</table>\n<p>2953 rows × 16 columns</p>\n</div>"
     },
     "execution_count": 15,
     "metadata": {},
     "output_type": "execute_result"
    }
   ],
   "source": [
    "result"
   ],
   "metadata": {
    "collapsed": false,
    "ExecuteTime": {
     "end_time": "2023-11-30T06:07:26.761190200Z",
     "start_time": "2023-11-30T06:07:26.657626600Z"
    }
   },
   "id": "8d9ca35eaec9e862"
  },
  {
   "cell_type": "markdown",
   "source": [
    "Задание 9\n",
    "Давайте найдем заведения Taco Bell или заведения, которые находятся в городе Нью-Йорк. При этом обязательно, чтобы в названии меню не было Volcano Taco и Fresco Soft Taco (именно таких значений колонки). Данные нужно сохранить в датафрейм result.\n",
    "\n",
    "Данные загружены в переменную data. "
   ],
   "metadata": {
    "collapsed": false
   },
   "id": "44657e5bdca7392c"
  },
  {
   "cell_type": "code",
   "execution_count": 16,
   "outputs": [],
   "source": [
    "import pandas as pd\n",
    "df = pd.read_csv('data.csv')\n",
    "result = df[(( df['city'] == 'New York')|(df['name'] == 'Taco Bell')) & (~df['name'].isin(['Volcano Taco', 'Fresco Soft Taco']))]"
   ],
   "metadata": {
    "collapsed": false,
    "ExecuteTime": {
     "end_time": "2023-11-30T06:07:27.039547100Z",
     "start_time": "2023-11-30T06:07:26.674200800Z"
    }
   },
   "id": "5fa6f1877e72bcab"
  },
  {
   "cell_type": "code",
   "execution_count": 17,
   "outputs": [
    {
     "data": {
      "text/plain": "                         id          address  \\\n130    AVwc_9yCByjofQCxkdRX  322 S. Broadway   \n131    AVwc_9yCByjofQCxkdRX  322 S. Broadway   \n132    AVwc_9yCByjofQCxkdRX  322 S. Broadway   \n133    AVwc_9yCByjofQCxkdRX  322 S. Broadway   \n134    AVwc_9yCByjofQCxkdRX  322 S. Broadway   \n...                     ...              ...   \n76904  AVweZN9nByjofQCxxz4o    754 Ninth Ave   \n76905  AVweZN9nByjofQCxxz4o    754 Ninth Ave   \n76906  AVweZN9nByjofQCxxz4o    754 Ninth Ave   \n76907  AVweZN9nByjofQCxxz4o    754 Ninth Ave   \n76908  AVweZN9nByjofQCxxz4o    754 Ninth Ave   \n\n                                              categories      city  \\\n130    Fast Food,Restaurants,Mexican,Breakfast,Vegeta...     Salem   \n131    Fast Food,Restaurants,Mexican,Breakfast,Vegeta...     Salem   \n132    Fast Food,Restaurants,Mexican,Breakfast,Vegeta...     Salem   \n133    Fast Food,Restaurants,Mexican,Breakfast,Vegeta...     Salem   \n134    Fast Food,Restaurants,Mexican,Breakfast,Vegeta...     Salem   \n...                                                  ...       ...   \n76904                                         Restaurant  New York   \n76905                                         Restaurant  New York   \n76906                                         Restaurant  New York   \n76907                                         Restaurant  New York   \n76908                                         Restaurant  New York   \n\n                                     cuisines             dateAdded  \\\n130                                   Mexican  2016-03-28T06:01:51Z   \n131                                   Mexican  2016-03-28T06:01:51Z   \n132                                   Mexican  2016-03-28T06:01:51Z   \n133                                   Mexican  2016-03-28T06:01:51Z   \n134                                   Mexican  2016-03-28T06:01:51Z   \n...                                       ...                   ...   \n76904  Mexican, American, Traditional Mexican  2015-10-19T20:44:15Z   \n76905  Mexican, American, Traditional Mexican  2015-10-19T20:44:15Z   \n76906  Mexican, American, Traditional Mexican  2015-10-19T20:44:15Z   \n76907  Mexican, American, Traditional Mexican  2015-10-19T20:44:15Z   \n76908  Mexican, American, Traditional Mexican  2015-10-19T20:44:15Z   \n\n                dateUpdated   latitude  longitude menus.category  \\\n130    2017-06-27T10:01:48Z  42.755023 -71.209440            NaN   \n131    2017-06-27T10:01:48Z  42.755023 -71.209440            NaN   \n132    2017-06-27T10:01:48Z  42.755023 -71.209440            NaN   \n133    2017-06-27T10:01:48Z  42.755023 -71.209440            NaN   \n134    2017-06-27T10:01:48Z  42.755023 -71.209440            NaN   \n...                     ...        ...        ...            ...   \n76904  2016-08-22T11:24:07Z  40.763858 -73.988327          Tacos   \n76905  2016-08-22T11:24:07Z  40.763858 -73.988327   Huevos, Etc.   \n76906  2016-08-22T11:24:07Z  40.763858 -73.988327        Botanas   \n76907  2016-08-22T11:24:07Z  40.763858 -73.988327        Botanas   \n76908  2016-08-22T11:24:07Z  40.763858 -73.988327           Main   \n\n      menus.currency                             menus.dateSeen  \\\n130              NaN  2016-03-28T06:01:51Z,2016-06-06T16:15:44Z   \n131              NaN  2016-03-28T06:01:51Z,2016-06-06T16:15:44Z   \n132              NaN  2016-03-28T06:01:51Z,2016-06-06T16:15:44Z   \n133              NaN  2016-03-28T06:01:51Z,2016-06-06T16:15:44Z   \n134              NaN  2016-03-28T06:01:51Z,2016-06-06T16:15:44Z   \n...              ...                                        ...   \n76904            USD                       2016-08-21T00:00:00Z   \n76905            USD                       2016-08-07T00:00:00Z   \n76906            USD                       2016-08-07T00:00:00Z   \n76907            USD                       2016-08-07T00:00:00Z   \n76908            NaN                       2016-08-21T00:00:00Z   \n\n                 menus.description                      menus.name  \\\n130                            NaN                    Volcano Taco   \n131                            NaN                 Volcano Burrito   \n132                            NaN                    Taco 12 Pack   \n133                            NaN         Grilled Steak Soft Taco   \n134                            NaN                Fresco Soft Taco   \n...                            ...                             ...   \n76904                          NaN                   Trio of Tacos   \n76905                          NaN                  Brunch Burrito   \n76906                          NaN    Grilled Chicken Mini Burrito   \n76907  with pumpkin seed guacamole  Grilled Vegetable Mini Burrito   \n76908                          NaN                        Burritos   \n\n                 name province  \n130         Taco Bell       NH  \n131         Taco Bell       NH  \n132         Taco Bell       NH  \n133         Taco Bell       NH  \n134         Taco Bell       NH  \n...               ...      ...  \n76904  Hell's Kitchen      Nyc  \n76905  Hell's Kitchen      Nyc  \n76906  Hell's Kitchen      Nyc  \n76907  Hell's Kitchen      Nyc  \n76908  Hell's Kitchen      Nyc  \n\n[4036 rows x 16 columns]",
      "text/html": "<div>\n<style scoped>\n    .dataframe tbody tr th:only-of-type {\n        vertical-align: middle;\n    }\n\n    .dataframe tbody tr th {\n        vertical-align: top;\n    }\n\n    .dataframe thead th {\n        text-align: right;\n    }\n</style>\n<table border=\"1\" class=\"dataframe\">\n  <thead>\n    <tr style=\"text-align: right;\">\n      <th></th>\n      <th>id</th>\n      <th>address</th>\n      <th>categories</th>\n      <th>city</th>\n      <th>cuisines</th>\n      <th>dateAdded</th>\n      <th>dateUpdated</th>\n      <th>latitude</th>\n      <th>longitude</th>\n      <th>menus.category</th>\n      <th>menus.currency</th>\n      <th>menus.dateSeen</th>\n      <th>menus.description</th>\n      <th>menus.name</th>\n      <th>name</th>\n      <th>province</th>\n    </tr>\n  </thead>\n  <tbody>\n    <tr>\n      <th>130</th>\n      <td>AVwc_9yCByjofQCxkdRX</td>\n      <td>322 S. Broadway</td>\n      <td>Fast Food,Restaurants,Mexican,Breakfast,Vegeta...</td>\n      <td>Salem</td>\n      <td>Mexican</td>\n      <td>2016-03-28T06:01:51Z</td>\n      <td>2017-06-27T10:01:48Z</td>\n      <td>42.755023</td>\n      <td>-71.209440</td>\n      <td>NaN</td>\n      <td>NaN</td>\n      <td>2016-03-28T06:01:51Z,2016-06-06T16:15:44Z</td>\n      <td>NaN</td>\n      <td>Volcano Taco</td>\n      <td>Taco Bell</td>\n      <td>NH</td>\n    </tr>\n    <tr>\n      <th>131</th>\n      <td>AVwc_9yCByjofQCxkdRX</td>\n      <td>322 S. Broadway</td>\n      <td>Fast Food,Restaurants,Mexican,Breakfast,Vegeta...</td>\n      <td>Salem</td>\n      <td>Mexican</td>\n      <td>2016-03-28T06:01:51Z</td>\n      <td>2017-06-27T10:01:48Z</td>\n      <td>42.755023</td>\n      <td>-71.209440</td>\n      <td>NaN</td>\n      <td>NaN</td>\n      <td>2016-03-28T06:01:51Z,2016-06-06T16:15:44Z</td>\n      <td>NaN</td>\n      <td>Volcano Burrito</td>\n      <td>Taco Bell</td>\n      <td>NH</td>\n    </tr>\n    <tr>\n      <th>132</th>\n      <td>AVwc_9yCByjofQCxkdRX</td>\n      <td>322 S. Broadway</td>\n      <td>Fast Food,Restaurants,Mexican,Breakfast,Vegeta...</td>\n      <td>Salem</td>\n      <td>Mexican</td>\n      <td>2016-03-28T06:01:51Z</td>\n      <td>2017-06-27T10:01:48Z</td>\n      <td>42.755023</td>\n      <td>-71.209440</td>\n      <td>NaN</td>\n      <td>NaN</td>\n      <td>2016-03-28T06:01:51Z,2016-06-06T16:15:44Z</td>\n      <td>NaN</td>\n      <td>Taco 12 Pack</td>\n      <td>Taco Bell</td>\n      <td>NH</td>\n    </tr>\n    <tr>\n      <th>133</th>\n      <td>AVwc_9yCByjofQCxkdRX</td>\n      <td>322 S. Broadway</td>\n      <td>Fast Food,Restaurants,Mexican,Breakfast,Vegeta...</td>\n      <td>Salem</td>\n      <td>Mexican</td>\n      <td>2016-03-28T06:01:51Z</td>\n      <td>2017-06-27T10:01:48Z</td>\n      <td>42.755023</td>\n      <td>-71.209440</td>\n      <td>NaN</td>\n      <td>NaN</td>\n      <td>2016-03-28T06:01:51Z,2016-06-06T16:15:44Z</td>\n      <td>NaN</td>\n      <td>Grilled Steak Soft Taco</td>\n      <td>Taco Bell</td>\n      <td>NH</td>\n    </tr>\n    <tr>\n      <th>134</th>\n      <td>AVwc_9yCByjofQCxkdRX</td>\n      <td>322 S. Broadway</td>\n      <td>Fast Food,Restaurants,Mexican,Breakfast,Vegeta...</td>\n      <td>Salem</td>\n      <td>Mexican</td>\n      <td>2016-03-28T06:01:51Z</td>\n      <td>2017-06-27T10:01:48Z</td>\n      <td>42.755023</td>\n      <td>-71.209440</td>\n      <td>NaN</td>\n      <td>NaN</td>\n      <td>2016-03-28T06:01:51Z,2016-06-06T16:15:44Z</td>\n      <td>NaN</td>\n      <td>Fresco Soft Taco</td>\n      <td>Taco Bell</td>\n      <td>NH</td>\n    </tr>\n    <tr>\n      <th>...</th>\n      <td>...</td>\n      <td>...</td>\n      <td>...</td>\n      <td>...</td>\n      <td>...</td>\n      <td>...</td>\n      <td>...</td>\n      <td>...</td>\n      <td>...</td>\n      <td>...</td>\n      <td>...</td>\n      <td>...</td>\n      <td>...</td>\n      <td>...</td>\n      <td>...</td>\n      <td>...</td>\n    </tr>\n    <tr>\n      <th>76904</th>\n      <td>AVweZN9nByjofQCxxz4o</td>\n      <td>754 Ninth Ave</td>\n      <td>Restaurant</td>\n      <td>New York</td>\n      <td>Mexican, American, Traditional Mexican</td>\n      <td>2015-10-19T20:44:15Z</td>\n      <td>2016-08-22T11:24:07Z</td>\n      <td>40.763858</td>\n      <td>-73.988327</td>\n      <td>Tacos</td>\n      <td>USD</td>\n      <td>2016-08-21T00:00:00Z</td>\n      <td>NaN</td>\n      <td>Trio of Tacos</td>\n      <td>Hell's Kitchen</td>\n      <td>Nyc</td>\n    </tr>\n    <tr>\n      <th>76905</th>\n      <td>AVweZN9nByjofQCxxz4o</td>\n      <td>754 Ninth Ave</td>\n      <td>Restaurant</td>\n      <td>New York</td>\n      <td>Mexican, American, Traditional Mexican</td>\n      <td>2015-10-19T20:44:15Z</td>\n      <td>2016-08-22T11:24:07Z</td>\n      <td>40.763858</td>\n      <td>-73.988327</td>\n      <td>Huevos, Etc.</td>\n      <td>USD</td>\n      <td>2016-08-07T00:00:00Z</td>\n      <td>NaN</td>\n      <td>Brunch Burrito</td>\n      <td>Hell's Kitchen</td>\n      <td>Nyc</td>\n    </tr>\n    <tr>\n      <th>76906</th>\n      <td>AVweZN9nByjofQCxxz4o</td>\n      <td>754 Ninth Ave</td>\n      <td>Restaurant</td>\n      <td>New York</td>\n      <td>Mexican, American, Traditional Mexican</td>\n      <td>2015-10-19T20:44:15Z</td>\n      <td>2016-08-22T11:24:07Z</td>\n      <td>40.763858</td>\n      <td>-73.988327</td>\n      <td>Botanas</td>\n      <td>USD</td>\n      <td>2016-08-07T00:00:00Z</td>\n      <td>NaN</td>\n      <td>Grilled Chicken Mini Burrito</td>\n      <td>Hell's Kitchen</td>\n      <td>Nyc</td>\n    </tr>\n    <tr>\n      <th>76907</th>\n      <td>AVweZN9nByjofQCxxz4o</td>\n      <td>754 Ninth Ave</td>\n      <td>Restaurant</td>\n      <td>New York</td>\n      <td>Mexican, American, Traditional Mexican</td>\n      <td>2015-10-19T20:44:15Z</td>\n      <td>2016-08-22T11:24:07Z</td>\n      <td>40.763858</td>\n      <td>-73.988327</td>\n      <td>Botanas</td>\n      <td>USD</td>\n      <td>2016-08-07T00:00:00Z</td>\n      <td>with pumpkin seed guacamole</td>\n      <td>Grilled Vegetable Mini Burrito</td>\n      <td>Hell's Kitchen</td>\n      <td>Nyc</td>\n    </tr>\n    <tr>\n      <th>76908</th>\n      <td>AVweZN9nByjofQCxxz4o</td>\n      <td>754 Ninth Ave</td>\n      <td>Restaurant</td>\n      <td>New York</td>\n      <td>Mexican, American, Traditional Mexican</td>\n      <td>2015-10-19T20:44:15Z</td>\n      <td>2016-08-22T11:24:07Z</td>\n      <td>40.763858</td>\n      <td>-73.988327</td>\n      <td>Main</td>\n      <td>NaN</td>\n      <td>2016-08-21T00:00:00Z</td>\n      <td>NaN</td>\n      <td>Burritos</td>\n      <td>Hell's Kitchen</td>\n      <td>Nyc</td>\n    </tr>\n  </tbody>\n</table>\n<p>4036 rows × 16 columns</p>\n</div>"
     },
     "execution_count": 17,
     "metadata": {},
     "output_type": "execute_result"
    }
   ],
   "source": [
    "result"
   ],
   "metadata": {
    "collapsed": false,
    "ExecuteTime": {
     "end_time": "2023-11-30T06:07:27.063509600Z",
     "start_time": "2023-11-30T06:07:27.036552700Z"
    }
   },
   "id": "7ac1cf8a3e04c3d5"
  },
  {
   "cell_type": "code",
   "execution_count": 18,
   "outputs": [
    {
     "data": {
      "text/plain": "                         id         address                     categories  \\\n1995   AVwc15AmByjofQCxix8i    44 W 44th St                     Restaurant   \n1996   AVwc15AmByjofQCxix8i    44 W 44th St                     Restaurant   \n1997   AVwc15AmByjofQCxix8i    44 W 44th St                     Restaurant   \n1998   AVwc15AmByjofQCxix8i    44 W 44th St                     Restaurant   \n2345   AVwc1KkMIN2L1WUfpXqQ  234 E 116th St  Mexican Restaurant,Taco Place   \n...                     ...             ...                            ...   \n76904  AVweZN9nByjofQCxxz4o   754 Ninth Ave                     Restaurant   \n76905  AVweZN9nByjofQCxxz4o   754 Ninth Ave                     Restaurant   \n76906  AVweZN9nByjofQCxxz4o   754 Ninth Ave                     Restaurant   \n76907  AVweZN9nByjofQCxxz4o   754 Ninth Ave                     Restaurant   \n76908  AVweZN9nByjofQCxxz4o   754 Ninth Ave                     Restaurant   \n\n           city                                cuisines             dateAdded  \\\n1995   New York                                American  2016-08-02T19:33:58Z   \n1996   New York                                American  2016-08-02T19:33:58Z   \n1997   New York                                American  2016-08-02T19:33:58Z   \n1998   New York                                American  2016-08-02T19:33:58Z   \n2345   New York                                     NaN  2016-10-20T07:09:03Z   \n...         ...                                     ...                   ...   \n76904  New York  Mexican, American, Traditional Mexican  2015-10-19T20:44:15Z   \n76905  New York  Mexican, American, Traditional Mexican  2015-10-19T20:44:15Z   \n76906  New York  Mexican, American, Traditional Mexican  2015-10-19T20:44:15Z   \n76907  New York  Mexican, American, Traditional Mexican  2015-10-19T20:44:15Z   \n76908  New York  Mexican, American, Traditional Mexican  2015-10-19T20:44:15Z   \n\n                dateUpdated   latitude  longitude       menus.category  \\\n1995   2016-08-26T08:38:39Z  40.755355 -73.981334           A La Carte   \n1996   2016-08-26T08:38:39Z  40.755355 -73.981334  Stationary Platters   \n1997   2016-08-26T08:38:39Z  40.755355 -73.981334  Stationary Platters   \n1998   2016-08-26T08:38:39Z  40.755355 -73.981334  Stationary Platters   \n2345   2016-10-20T07:09:03Z  40.797279 -73.938542                  NaN   \n...                     ...        ...        ...                  ...   \n76904  2016-08-22T11:24:07Z  40.763858 -73.988327                Tacos   \n76905  2016-08-22T11:24:07Z  40.763858 -73.988327         Huevos, Etc.   \n76906  2016-08-22T11:24:07Z  40.763858 -73.988327              Botanas   \n76907  2016-08-22T11:24:07Z  40.763858 -73.988327              Botanas   \n76908  2016-08-22T11:24:07Z  40.763858 -73.988327                 Main   \n\n      menus.currency        menus.dateSeen  \\\n1995             USD  2016-04-24T00:00:00Z   \n1996             NaN  2016-08-23T00:00:00Z   \n1997             NaN  2016-08-23T00:00:00Z   \n1998             NaN  2016-08-23T00:00:00Z   \n2345             USD  2016-10-20T07:09:03Z   \n...              ...                   ...   \n76904            USD  2016-08-21T00:00:00Z   \n76905            USD  2016-08-07T00:00:00Z   \n76906            USD  2016-08-07T00:00:00Z   \n76907            USD  2016-08-07T00:00:00Z   \n76908            NaN  2016-08-21T00:00:00Z   \n\n                                       menus.description  \\\n1995   scrambled eggs, mashed avocado, jack cheese, s...   \n1996                   Sweet and sour cabbage, guacamole   \n1997                     Pickled red onion, pea tendrils   \n1998                               Cucumber-mango relish   \n2345                                                 NaN   \n...                                                  ...   \n76904                                                NaN   \n76905                                                NaN   \n76906                                                NaN   \n76907                        with pumpkin seed guacamole   \n76908                                                NaN   \n\n                               menus.name            name province  \n1995   Lobster and Crab Breakfast Burrito      Forty Four      Nyc  \n1996                Grilled Chicken Tacos      Forty Four      Nyc  \n1997              Braised Short Rib Tacos      Forty Four      Nyc  \n1998                       Ahi Tuna Tacos      Forty Four      Nyc  \n2345                   Burrito (any Meat)        Taco Mix      Nyc  \n...                                   ...             ...      ...  \n76904                       Trio of Tacos  Hell's Kitchen      Nyc  \n76905                      Brunch Burrito  Hell's Kitchen      Nyc  \n76906        Grilled Chicken Mini Burrito  Hell's Kitchen      Nyc  \n76907      Grilled Vegetable Mini Burrito  Hell's Kitchen      Nyc  \n76908                            Burritos  Hell's Kitchen      Nyc  \n\n[1085 rows x 16 columns]",
      "text/html": "<div>\n<style scoped>\n    .dataframe tbody tr th:only-of-type {\n        vertical-align: middle;\n    }\n\n    .dataframe tbody tr th {\n        vertical-align: top;\n    }\n\n    .dataframe thead th {\n        text-align: right;\n    }\n</style>\n<table border=\"1\" class=\"dataframe\">\n  <thead>\n    <tr style=\"text-align: right;\">\n      <th></th>\n      <th>id</th>\n      <th>address</th>\n      <th>categories</th>\n      <th>city</th>\n      <th>cuisines</th>\n      <th>dateAdded</th>\n      <th>dateUpdated</th>\n      <th>latitude</th>\n      <th>longitude</th>\n      <th>menus.category</th>\n      <th>menus.currency</th>\n      <th>menus.dateSeen</th>\n      <th>menus.description</th>\n      <th>menus.name</th>\n      <th>name</th>\n      <th>province</th>\n    </tr>\n  </thead>\n  <tbody>\n    <tr>\n      <th>1995</th>\n      <td>AVwc15AmByjofQCxix8i</td>\n      <td>44 W 44th St</td>\n      <td>Restaurant</td>\n      <td>New York</td>\n      <td>American</td>\n      <td>2016-08-02T19:33:58Z</td>\n      <td>2016-08-26T08:38:39Z</td>\n      <td>40.755355</td>\n      <td>-73.981334</td>\n      <td>A La Carte</td>\n      <td>USD</td>\n      <td>2016-04-24T00:00:00Z</td>\n      <td>scrambled eggs, mashed avocado, jack cheese, s...</td>\n      <td>Lobster and Crab Breakfast Burrito</td>\n      <td>Forty Four</td>\n      <td>Nyc</td>\n    </tr>\n    <tr>\n      <th>1996</th>\n      <td>AVwc15AmByjofQCxix8i</td>\n      <td>44 W 44th St</td>\n      <td>Restaurant</td>\n      <td>New York</td>\n      <td>American</td>\n      <td>2016-08-02T19:33:58Z</td>\n      <td>2016-08-26T08:38:39Z</td>\n      <td>40.755355</td>\n      <td>-73.981334</td>\n      <td>Stationary Platters</td>\n      <td>NaN</td>\n      <td>2016-08-23T00:00:00Z</td>\n      <td>Sweet and sour cabbage, guacamole</td>\n      <td>Grilled Chicken Tacos</td>\n      <td>Forty Four</td>\n      <td>Nyc</td>\n    </tr>\n    <tr>\n      <th>1997</th>\n      <td>AVwc15AmByjofQCxix8i</td>\n      <td>44 W 44th St</td>\n      <td>Restaurant</td>\n      <td>New York</td>\n      <td>American</td>\n      <td>2016-08-02T19:33:58Z</td>\n      <td>2016-08-26T08:38:39Z</td>\n      <td>40.755355</td>\n      <td>-73.981334</td>\n      <td>Stationary Platters</td>\n      <td>NaN</td>\n      <td>2016-08-23T00:00:00Z</td>\n      <td>Pickled red onion, pea tendrils</td>\n      <td>Braised Short Rib Tacos</td>\n      <td>Forty Four</td>\n      <td>Nyc</td>\n    </tr>\n    <tr>\n      <th>1998</th>\n      <td>AVwc15AmByjofQCxix8i</td>\n      <td>44 W 44th St</td>\n      <td>Restaurant</td>\n      <td>New York</td>\n      <td>American</td>\n      <td>2016-08-02T19:33:58Z</td>\n      <td>2016-08-26T08:38:39Z</td>\n      <td>40.755355</td>\n      <td>-73.981334</td>\n      <td>Stationary Platters</td>\n      <td>NaN</td>\n      <td>2016-08-23T00:00:00Z</td>\n      <td>Cucumber-mango relish</td>\n      <td>Ahi Tuna Tacos</td>\n      <td>Forty Four</td>\n      <td>Nyc</td>\n    </tr>\n    <tr>\n      <th>2345</th>\n      <td>AVwc1KkMIN2L1WUfpXqQ</td>\n      <td>234 E 116th St</td>\n      <td>Mexican Restaurant,Taco Place</td>\n      <td>New York</td>\n      <td>NaN</td>\n      <td>2016-10-20T07:09:03Z</td>\n      <td>2016-10-20T07:09:03Z</td>\n      <td>40.797279</td>\n      <td>-73.938542</td>\n      <td>NaN</td>\n      <td>USD</td>\n      <td>2016-10-20T07:09:03Z</td>\n      <td>NaN</td>\n      <td>Burrito (any Meat)</td>\n      <td>Taco Mix</td>\n      <td>Nyc</td>\n    </tr>\n    <tr>\n      <th>...</th>\n      <td>...</td>\n      <td>...</td>\n      <td>...</td>\n      <td>...</td>\n      <td>...</td>\n      <td>...</td>\n      <td>...</td>\n      <td>...</td>\n      <td>...</td>\n      <td>...</td>\n      <td>...</td>\n      <td>...</td>\n      <td>...</td>\n      <td>...</td>\n      <td>...</td>\n      <td>...</td>\n    </tr>\n    <tr>\n      <th>76904</th>\n      <td>AVweZN9nByjofQCxxz4o</td>\n      <td>754 Ninth Ave</td>\n      <td>Restaurant</td>\n      <td>New York</td>\n      <td>Mexican, American, Traditional Mexican</td>\n      <td>2015-10-19T20:44:15Z</td>\n      <td>2016-08-22T11:24:07Z</td>\n      <td>40.763858</td>\n      <td>-73.988327</td>\n      <td>Tacos</td>\n      <td>USD</td>\n      <td>2016-08-21T00:00:00Z</td>\n      <td>NaN</td>\n      <td>Trio of Tacos</td>\n      <td>Hell's Kitchen</td>\n      <td>Nyc</td>\n    </tr>\n    <tr>\n      <th>76905</th>\n      <td>AVweZN9nByjofQCxxz4o</td>\n      <td>754 Ninth Ave</td>\n      <td>Restaurant</td>\n      <td>New York</td>\n      <td>Mexican, American, Traditional Mexican</td>\n      <td>2015-10-19T20:44:15Z</td>\n      <td>2016-08-22T11:24:07Z</td>\n      <td>40.763858</td>\n      <td>-73.988327</td>\n      <td>Huevos, Etc.</td>\n      <td>USD</td>\n      <td>2016-08-07T00:00:00Z</td>\n      <td>NaN</td>\n      <td>Brunch Burrito</td>\n      <td>Hell's Kitchen</td>\n      <td>Nyc</td>\n    </tr>\n    <tr>\n      <th>76906</th>\n      <td>AVweZN9nByjofQCxxz4o</td>\n      <td>754 Ninth Ave</td>\n      <td>Restaurant</td>\n      <td>New York</td>\n      <td>Mexican, American, Traditional Mexican</td>\n      <td>2015-10-19T20:44:15Z</td>\n      <td>2016-08-22T11:24:07Z</td>\n      <td>40.763858</td>\n      <td>-73.988327</td>\n      <td>Botanas</td>\n      <td>USD</td>\n      <td>2016-08-07T00:00:00Z</td>\n      <td>NaN</td>\n      <td>Grilled Chicken Mini Burrito</td>\n      <td>Hell's Kitchen</td>\n      <td>Nyc</td>\n    </tr>\n    <tr>\n      <th>76907</th>\n      <td>AVweZN9nByjofQCxxz4o</td>\n      <td>754 Ninth Ave</td>\n      <td>Restaurant</td>\n      <td>New York</td>\n      <td>Mexican, American, Traditional Mexican</td>\n      <td>2015-10-19T20:44:15Z</td>\n      <td>2016-08-22T11:24:07Z</td>\n      <td>40.763858</td>\n      <td>-73.988327</td>\n      <td>Botanas</td>\n      <td>USD</td>\n      <td>2016-08-07T00:00:00Z</td>\n      <td>with pumpkin seed guacamole</td>\n      <td>Grilled Vegetable Mini Burrito</td>\n      <td>Hell's Kitchen</td>\n      <td>Nyc</td>\n    </tr>\n    <tr>\n      <th>76908</th>\n      <td>AVweZN9nByjofQCxxz4o</td>\n      <td>754 Ninth Ave</td>\n      <td>Restaurant</td>\n      <td>New York</td>\n      <td>Mexican, American, Traditional Mexican</td>\n      <td>2015-10-19T20:44:15Z</td>\n      <td>2016-08-22T11:24:07Z</td>\n      <td>40.763858</td>\n      <td>-73.988327</td>\n      <td>Main</td>\n      <td>NaN</td>\n      <td>2016-08-21T00:00:00Z</td>\n      <td>NaN</td>\n      <td>Burritos</td>\n      <td>Hell's Kitchen</td>\n      <td>Nyc</td>\n    </tr>\n  </tbody>\n</table>\n<p>1085 rows × 16 columns</p>\n</div>"
     },
     "execution_count": 18,
     "metadata": {},
     "output_type": "execute_result"
    }
   ],
   "source": [
    "df[df['city'] == 'New York']"
   ],
   "metadata": {
    "collapsed": false,
    "ExecuteTime": {
     "end_time": "2023-11-30T06:07:27.086499600Z",
     "start_time": "2023-11-30T06:07:27.049509400Z"
    }
   },
   "id": "1444ec4ee9105217"
  },
  {
   "cell_type": "markdown",
   "source": [
    "Задание 10\n",
    "Давайте отберем заведения, где значение валюты, в которой принимают оплату, не пропущено.\n",
    "\n",
    "Нужно сохранить данные в результирующий датафрейм result."
   ],
   "metadata": {
    "collapsed": false
   },
   "id": "daa843eb89f491df"
  },
  {
   "cell_type": "code",
   "execution_count": 19,
   "outputs": [
    {
     "data": {
      "text/plain": "                         id           address  \\\n15     AVwc_1y6kufWRAb51O6w   906 Park Ave SW   \n16     AVwc_1y6kufWRAb51O6w   906 Park Ave SW   \n17     AVwc_1y6kufWRAb51O6w   906 Park Ave SW   \n18     AVwc_2OQ_7pvs4fz1L5H  100 W Higgins Rd   \n19     AVwc_2OQ_7pvs4fz1L5H  100 W Higgins Rd   \n...                     ...               ...   \n77255  AVzRLlQNLD2H7whiWdH_     3919 24th St.   \n77256  AVzRLlQNLD2H7whiWdH_     3919 24th St.   \n77257  AVzRLlQNLD2H7whiWdH_     3919 24th St.   \n77258  AVzRLlQNLD2H7whiWdH_     3919 24th St.   \n77259  AVzRLlQNLD2H7whiWdH_     3919 24th St.   \n\n                                 categories           city  \\\n15     Coffee Shop,Restaurants,Coffeehouses    Albuquerque   \n16     Coffee Shop,Restaurants,Coffeehouses    Albuquerque   \n17     Coffee Shop,Restaurants,Coffeehouses    Albuquerque   \n18                               Restaurant     Barrington   \n19                               Restaurant     Barrington   \n...                                     ...            ...   \n77255                            Restaurant  San Francisco   \n77256                            Restaurant  San Francisco   \n77257                            Restaurant  San Francisco   \n77258                            Restaurant  San Francisco   \n77259                            Restaurant  San Francisco   \n\n                      cuisines             dateAdded           dateUpdated  \\\n15                Coffee Shops  2016-06-05T20:15:56Z  2017-07-06T13:28:29Z   \n16                Coffee Shops  2016-06-05T20:15:56Z  2017-07-06T13:28:29Z   \n17                Coffee Shops  2016-06-05T20:15:56Z  2017-07-06T13:28:29Z   \n18     Mexican, Latin American  2016-07-26T17:39:41Z  2016-08-26T05:25:56Z   \n19     Mexican, Latin American  2016-07-26T17:39:41Z  2016-08-26T05:25:56Z   \n...                        ...                   ...                   ...   \n77255                  Mexican  2017-06-22T19:01:33Z  2017-06-22T19:01:33Z   \n77256                  Mexican  2017-06-22T19:01:33Z  2017-06-22T19:01:33Z   \n77257                  Mexican  2017-06-22T19:01:33Z  2017-06-22T19:01:33Z   \n77258                  Mexican  2017-06-22T19:01:33Z  2017-06-22T19:01:33Z   \n77259                  Mexican  2017-06-22T19:01:33Z  2017-06-22T19:01:33Z   \n\n        latitude   longitude menus.category menus.currency  \\\n15     35.085320 -106.657616            NaN            USD   \n16     35.085320 -106.657616            NaN            USD   \n17     35.085320 -106.657616            NaN            USD   \n18     42.074974  -88.189151            NaN            USD   \n19     42.074974  -88.189151            NaN            USD   \n...          ...         ...            ...            ...   \n77255  37.751392 -122.430180            NaN            USD   \n77256  37.751392 -122.430180            NaN            USD   \n77257  37.751392 -122.430180            NaN            USD   \n77258  37.751392 -122.430180            NaN            USD   \n77259  37.751392 -122.430180            NaN            USD   \n\n                                  menus.dateSeen  \\\n15     2016-06-05T20:15:56Z,2016-10-20T07:09:38Z   \n16     2016-06-05T20:15:56Z,2016-10-20T07:09:38Z   \n17     2016-06-05T20:15:56Z,2016-10-20T07:09:38Z   \n18                          2016-08-22T00:00:00Z   \n19                          2016-08-22T00:00:00Z   \n...                                          ...   \n77255                   2017-06-22T16:40:06.448Z   \n77256                   2017-06-22T16:40:06.448Z   \n77257                   2017-06-22T16:40:06.448Z   \n77258                   2017-06-22T16:40:06.448Z   \n77259                   2017-06-22T16:40:06.448Z   \n\n                                       menus.description  \\\n15     Potatoes, onion, peppers, mushroom, avocado, b...   \n16     Grilled tofu, potatoes and your choice of chil...   \n17                                                   NaN   \n18                                                   NaN   \n19     lettuce, chihuahua cheese, black beans, mexica...   \n...                                                  ...   \n77255  meat, rice, beans, guacamole, sour cream, chee...   \n77256                 melted cheese, rice, beans & salsa   \n77257                                       meat & salsa   \n77258                          meat, rice, beans & salsa   \n77259  stuffed with rice, beans, meat, topped with en...   \n\n                     menus.name                                     name  \\\n15         Mondo Veggie Burrito                               Java Joe's   \n16                 Tofu Burrito                               Java Joe's   \n17           Black Bean Burrito                               Java Joe's   \n18             Burrito De Rajas  Mago Grill & Cantina - South Barrington   \n19                         Taco  Mago Grill & Cantina - South Barrington   \n...                         ...                                      ...   \n77255             Super Burrito                       La Casona Taqueria   \n77256  Steamed Broccoli Burrito                       La Casona Taqueria   \n77257              Regular Taco                       La Casona Taqueria   \n77258           Regular Burrito                       La Casona Taqueria   \n77259            Azteca Burrito                       La Casona Taqueria   \n\n            province  \n15                NM  \n16                NM  \n17                NM  \n18     Fox Rv Vly Gn  \n19     Fox Rv Vly Gn  \n...              ...  \n77255     California  \n77256     California  \n77257     California  \n77258     California  \n77259     California  \n\n[40511 rows x 16 columns]",
      "text/html": "<div>\n<style scoped>\n    .dataframe tbody tr th:only-of-type {\n        vertical-align: middle;\n    }\n\n    .dataframe tbody tr th {\n        vertical-align: top;\n    }\n\n    .dataframe thead th {\n        text-align: right;\n    }\n</style>\n<table border=\"1\" class=\"dataframe\">\n  <thead>\n    <tr style=\"text-align: right;\">\n      <th></th>\n      <th>id</th>\n      <th>address</th>\n      <th>categories</th>\n      <th>city</th>\n      <th>cuisines</th>\n      <th>dateAdded</th>\n      <th>dateUpdated</th>\n      <th>latitude</th>\n      <th>longitude</th>\n      <th>menus.category</th>\n      <th>menus.currency</th>\n      <th>menus.dateSeen</th>\n      <th>menus.description</th>\n      <th>menus.name</th>\n      <th>name</th>\n      <th>province</th>\n    </tr>\n  </thead>\n  <tbody>\n    <tr>\n      <th>15</th>\n      <td>AVwc_1y6kufWRAb51O6w</td>\n      <td>906 Park Ave SW</td>\n      <td>Coffee Shop,Restaurants,Coffeehouses</td>\n      <td>Albuquerque</td>\n      <td>Coffee Shops</td>\n      <td>2016-06-05T20:15:56Z</td>\n      <td>2017-07-06T13:28:29Z</td>\n      <td>35.085320</td>\n      <td>-106.657616</td>\n      <td>NaN</td>\n      <td>USD</td>\n      <td>2016-06-05T20:15:56Z,2016-10-20T07:09:38Z</td>\n      <td>Potatoes, onion, peppers, mushroom, avocado, b...</td>\n      <td>Mondo Veggie Burrito</td>\n      <td>Java Joe's</td>\n      <td>NM</td>\n    </tr>\n    <tr>\n      <th>16</th>\n      <td>AVwc_1y6kufWRAb51O6w</td>\n      <td>906 Park Ave SW</td>\n      <td>Coffee Shop,Restaurants,Coffeehouses</td>\n      <td>Albuquerque</td>\n      <td>Coffee Shops</td>\n      <td>2016-06-05T20:15:56Z</td>\n      <td>2017-07-06T13:28:29Z</td>\n      <td>35.085320</td>\n      <td>-106.657616</td>\n      <td>NaN</td>\n      <td>USD</td>\n      <td>2016-06-05T20:15:56Z,2016-10-20T07:09:38Z</td>\n      <td>Grilled tofu, potatoes and your choice of chil...</td>\n      <td>Tofu Burrito</td>\n      <td>Java Joe's</td>\n      <td>NM</td>\n    </tr>\n    <tr>\n      <th>17</th>\n      <td>AVwc_1y6kufWRAb51O6w</td>\n      <td>906 Park Ave SW</td>\n      <td>Coffee Shop,Restaurants,Coffeehouses</td>\n      <td>Albuquerque</td>\n      <td>Coffee Shops</td>\n      <td>2016-06-05T20:15:56Z</td>\n      <td>2017-07-06T13:28:29Z</td>\n      <td>35.085320</td>\n      <td>-106.657616</td>\n      <td>NaN</td>\n      <td>USD</td>\n      <td>2016-06-05T20:15:56Z,2016-10-20T07:09:38Z</td>\n      <td>NaN</td>\n      <td>Black Bean Burrito</td>\n      <td>Java Joe's</td>\n      <td>NM</td>\n    </tr>\n    <tr>\n      <th>18</th>\n      <td>AVwc_2OQ_7pvs4fz1L5H</td>\n      <td>100 W Higgins Rd</td>\n      <td>Restaurant</td>\n      <td>Barrington</td>\n      <td>Mexican, Latin American</td>\n      <td>2016-07-26T17:39:41Z</td>\n      <td>2016-08-26T05:25:56Z</td>\n      <td>42.074974</td>\n      <td>-88.189151</td>\n      <td>NaN</td>\n      <td>USD</td>\n      <td>2016-08-22T00:00:00Z</td>\n      <td>NaN</td>\n      <td>Burrito De Rajas</td>\n      <td>Mago Grill &amp; Cantina - South Barrington</td>\n      <td>Fox Rv Vly Gn</td>\n    </tr>\n    <tr>\n      <th>19</th>\n      <td>AVwc_2OQ_7pvs4fz1L5H</td>\n      <td>100 W Higgins Rd</td>\n      <td>Restaurant</td>\n      <td>Barrington</td>\n      <td>Mexican, Latin American</td>\n      <td>2016-07-26T17:39:41Z</td>\n      <td>2016-08-26T05:25:56Z</td>\n      <td>42.074974</td>\n      <td>-88.189151</td>\n      <td>NaN</td>\n      <td>USD</td>\n      <td>2016-08-22T00:00:00Z</td>\n      <td>lettuce, chihuahua cheese, black beans, mexica...</td>\n      <td>Taco</td>\n      <td>Mago Grill &amp; Cantina - South Barrington</td>\n      <td>Fox Rv Vly Gn</td>\n    </tr>\n    <tr>\n      <th>...</th>\n      <td>...</td>\n      <td>...</td>\n      <td>...</td>\n      <td>...</td>\n      <td>...</td>\n      <td>...</td>\n      <td>...</td>\n      <td>...</td>\n      <td>...</td>\n      <td>...</td>\n      <td>...</td>\n      <td>...</td>\n      <td>...</td>\n      <td>...</td>\n      <td>...</td>\n      <td>...</td>\n    </tr>\n    <tr>\n      <th>77255</th>\n      <td>AVzRLlQNLD2H7whiWdH_</td>\n      <td>3919 24th St.</td>\n      <td>Restaurant</td>\n      <td>San Francisco</td>\n      <td>Mexican</td>\n      <td>2017-06-22T19:01:33Z</td>\n      <td>2017-06-22T19:01:33Z</td>\n      <td>37.751392</td>\n      <td>-122.430180</td>\n      <td>NaN</td>\n      <td>USD</td>\n      <td>2017-06-22T16:40:06.448Z</td>\n      <td>meat, rice, beans, guacamole, sour cream, chee...</td>\n      <td>Super Burrito</td>\n      <td>La Casona Taqueria</td>\n      <td>California</td>\n    </tr>\n    <tr>\n      <th>77256</th>\n      <td>AVzRLlQNLD2H7whiWdH_</td>\n      <td>3919 24th St.</td>\n      <td>Restaurant</td>\n      <td>San Francisco</td>\n      <td>Mexican</td>\n      <td>2017-06-22T19:01:33Z</td>\n      <td>2017-06-22T19:01:33Z</td>\n      <td>37.751392</td>\n      <td>-122.430180</td>\n      <td>NaN</td>\n      <td>USD</td>\n      <td>2017-06-22T16:40:06.448Z</td>\n      <td>melted cheese, rice, beans &amp; salsa</td>\n      <td>Steamed Broccoli Burrito</td>\n      <td>La Casona Taqueria</td>\n      <td>California</td>\n    </tr>\n    <tr>\n      <th>77257</th>\n      <td>AVzRLlQNLD2H7whiWdH_</td>\n      <td>3919 24th St.</td>\n      <td>Restaurant</td>\n      <td>San Francisco</td>\n      <td>Mexican</td>\n      <td>2017-06-22T19:01:33Z</td>\n      <td>2017-06-22T19:01:33Z</td>\n      <td>37.751392</td>\n      <td>-122.430180</td>\n      <td>NaN</td>\n      <td>USD</td>\n      <td>2017-06-22T16:40:06.448Z</td>\n      <td>meat &amp; salsa</td>\n      <td>Regular Taco</td>\n      <td>La Casona Taqueria</td>\n      <td>California</td>\n    </tr>\n    <tr>\n      <th>77258</th>\n      <td>AVzRLlQNLD2H7whiWdH_</td>\n      <td>3919 24th St.</td>\n      <td>Restaurant</td>\n      <td>San Francisco</td>\n      <td>Mexican</td>\n      <td>2017-06-22T19:01:33Z</td>\n      <td>2017-06-22T19:01:33Z</td>\n      <td>37.751392</td>\n      <td>-122.430180</td>\n      <td>NaN</td>\n      <td>USD</td>\n      <td>2017-06-22T16:40:06.448Z</td>\n      <td>meat, rice, beans &amp; salsa</td>\n      <td>Regular Burrito</td>\n      <td>La Casona Taqueria</td>\n      <td>California</td>\n    </tr>\n    <tr>\n      <th>77259</th>\n      <td>AVzRLlQNLD2H7whiWdH_</td>\n      <td>3919 24th St.</td>\n      <td>Restaurant</td>\n      <td>San Francisco</td>\n      <td>Mexican</td>\n      <td>2017-06-22T19:01:33Z</td>\n      <td>2017-06-22T19:01:33Z</td>\n      <td>37.751392</td>\n      <td>-122.430180</td>\n      <td>NaN</td>\n      <td>USD</td>\n      <td>2017-06-22T16:40:06.448Z</td>\n      <td>stuffed with rice, beans, meat, topped with en...</td>\n      <td>Azteca Burrito</td>\n      <td>La Casona Taqueria</td>\n      <td>California</td>\n    </tr>\n  </tbody>\n</table>\n<p>40511 rows × 16 columns</p>\n</div>"
     },
     "execution_count": 19,
     "metadata": {},
     "output_type": "execute_result"
    }
   ],
   "source": [
    "df[~(df['menus.currency'].isna())]"
   ],
   "metadata": {
    "collapsed": false,
    "ExecuteTime": {
     "end_time": "2023-11-30T06:07:27.158383400Z",
     "start_time": "2023-11-30T06:07:27.066507Z"
    }
   },
   "id": "b22cd11b1e7f11d2"
  },
  {
   "cell_type": "code",
   "execution_count": 20,
   "outputs": [
    {
     "data": {
      "text/plain": "0        Restaurant Delivery Service,Restaurants,Pizza,...\n1        Restaurant Delivery Service,Restaurants,Pizza,...\n2             Golf Course, American Restaurant, and Resort\n3                                     Fast Food Restaurant\n4        Mexican Restaurant Mid-City West,Mexican Resta...\n                               ...                        \n77255                                           Restaurant\n77256                                           Restaurant\n77257                                           Restaurant\n77258                                           Restaurant\n77259                                           Restaurant\nName: categories, Length: 77260, dtype: object"
     },
     "execution_count": 20,
     "metadata": {},
     "output_type": "execute_result"
    }
   ],
   "source": [
    "df['categories']"
   ],
   "metadata": {
    "collapsed": false,
    "ExecuteTime": {
     "end_time": "2023-11-30T06:07:27.159383300Z",
     "start_time": "2023-11-30T06:07:27.095415Z"
    }
   },
   "id": "2ba2842ffd4490d1"
  },
  {
   "cell_type": "code",
   "execution_count": 21,
   "outputs": [
    {
     "data": {
      "text/plain": "                                              categories\n0      Restaurant Delivery Service,Restaurants,Pizza,...\n1      Restaurant Delivery Service,Restaurants,Pizza,...\n2           Golf Course, American Restaurant, and Resort\n3                                   Fast Food Restaurant\n4      Mexican Restaurant Mid-City West,Mexican Resta...\n...                                                  ...\n77255                                         Restaurant\n77256                                         Restaurant\n77257                                         Restaurant\n77258                                         Restaurant\n77259                                         Restaurant\n\n[77260 rows x 1 columns]",
      "text/html": "<div>\n<style scoped>\n    .dataframe tbody tr th:only-of-type {\n        vertical-align: middle;\n    }\n\n    .dataframe tbody tr th {\n        vertical-align: top;\n    }\n\n    .dataframe thead th {\n        text-align: right;\n    }\n</style>\n<table border=\"1\" class=\"dataframe\">\n  <thead>\n    <tr style=\"text-align: right;\">\n      <th></th>\n      <th>categories</th>\n    </tr>\n  </thead>\n  <tbody>\n    <tr>\n      <th>0</th>\n      <td>Restaurant Delivery Service,Restaurants,Pizza,...</td>\n    </tr>\n    <tr>\n      <th>1</th>\n      <td>Restaurant Delivery Service,Restaurants,Pizza,...</td>\n    </tr>\n    <tr>\n      <th>2</th>\n      <td>Golf Course, American Restaurant, and Resort</td>\n    </tr>\n    <tr>\n      <th>3</th>\n      <td>Fast Food Restaurant</td>\n    </tr>\n    <tr>\n      <th>4</th>\n      <td>Mexican Restaurant Mid-City West,Mexican Resta...</td>\n    </tr>\n    <tr>\n      <th>...</th>\n      <td>...</td>\n    </tr>\n    <tr>\n      <th>77255</th>\n      <td>Restaurant</td>\n    </tr>\n    <tr>\n      <th>77256</th>\n      <td>Restaurant</td>\n    </tr>\n    <tr>\n      <th>77257</th>\n      <td>Restaurant</td>\n    </tr>\n    <tr>\n      <th>77258</th>\n      <td>Restaurant</td>\n    </tr>\n    <tr>\n      <th>77259</th>\n      <td>Restaurant</td>\n    </tr>\n  </tbody>\n</table>\n<p>77260 rows × 1 columns</p>\n</div>"
     },
     "execution_count": 21,
     "metadata": {},
     "output_type": "execute_result"
    }
   ],
   "source": [
    "df[['categories']]"
   ],
   "metadata": {
    "collapsed": false,
    "ExecuteTime": {
     "end_time": "2023-11-30T06:07:27.196382600Z",
     "start_time": "2023-11-30T06:07:27.098934200Z"
    }
   },
   "id": "8ca96f406c01659"
  },
  {
   "cell_type": "code",
   "execution_count": 22,
   "outputs": [
    {
     "ename": "KeyError",
     "evalue": "('categories', 'city')",
     "output_type": "error",
     "traceback": [
      "\u001B[1;31m---------------------------------------------------------------------------\u001B[0m",
      "\u001B[1;31mKeyError\u001B[0m                                  Traceback (most recent call last)",
      "File \u001B[1;32m~\\AppData\\Roaming\\Python\\Python311\\site-packages\\pandas\\core\\indexes\\base.py:3790\u001B[0m, in \u001B[0;36mIndex.get_loc\u001B[1;34m(self, key)\u001B[0m\n\u001B[0;32m   3789\u001B[0m \u001B[38;5;28;01mtry\u001B[39;00m:\n\u001B[1;32m-> 3790\u001B[0m     \u001B[38;5;28;01mreturn\u001B[39;00m \u001B[38;5;28;43mself\u001B[39;49m\u001B[38;5;241;43m.\u001B[39;49m\u001B[43m_engine\u001B[49m\u001B[38;5;241;43m.\u001B[39;49m\u001B[43mget_loc\u001B[49m\u001B[43m(\u001B[49m\u001B[43mcasted_key\u001B[49m\u001B[43m)\u001B[49m\n\u001B[0;32m   3791\u001B[0m \u001B[38;5;28;01mexcept\u001B[39;00m \u001B[38;5;167;01mKeyError\u001B[39;00m \u001B[38;5;28;01mas\u001B[39;00m err:\n",
      "File \u001B[1;32mindex.pyx:152\u001B[0m, in \u001B[0;36mpandas._libs.index.IndexEngine.get_loc\u001B[1;34m()\u001B[0m\n",
      "File \u001B[1;32mindex.pyx:181\u001B[0m, in \u001B[0;36mpandas._libs.index.IndexEngine.get_loc\u001B[1;34m()\u001B[0m\n",
      "File \u001B[1;32mpandas\\_libs\\hashtable_class_helper.pxi:7080\u001B[0m, in \u001B[0;36mpandas._libs.hashtable.PyObjectHashTable.get_item\u001B[1;34m()\u001B[0m\n",
      "File \u001B[1;32mpandas\\_libs\\hashtable_class_helper.pxi:7088\u001B[0m, in \u001B[0;36mpandas._libs.hashtable.PyObjectHashTable.get_item\u001B[1;34m()\u001B[0m\n",
      "\u001B[1;31mKeyError\u001B[0m: ('categories', 'city')",
      "\nThe above exception was the direct cause of the following exception:\n",
      "\u001B[1;31mKeyError\u001B[0m                                  Traceback (most recent call last)",
      "Cell \u001B[1;32mIn[22], line 1\u001B[0m\n\u001B[1;32m----> 1\u001B[0m \u001B[43mdf\u001B[49m\u001B[43m[\u001B[49m\u001B[38;5;124;43m'\u001B[39;49m\u001B[38;5;124;43mcategories\u001B[39;49m\u001B[38;5;124;43m'\u001B[39;49m\u001B[43m,\u001B[49m\u001B[43m \u001B[49m\u001B[38;5;124;43m'\u001B[39;49m\u001B[38;5;124;43mcity\u001B[39;49m\u001B[38;5;124;43m'\u001B[39;49m\u001B[43m]\u001B[49m\n",
      "File \u001B[1;32m~\\AppData\\Roaming\\Python\\Python311\\site-packages\\pandas\\core\\frame.py:3893\u001B[0m, in \u001B[0;36mDataFrame.__getitem__\u001B[1;34m(self, key)\u001B[0m\n\u001B[0;32m   3891\u001B[0m \u001B[38;5;28;01mif\u001B[39;00m \u001B[38;5;28mself\u001B[39m\u001B[38;5;241m.\u001B[39mcolumns\u001B[38;5;241m.\u001B[39mnlevels \u001B[38;5;241m>\u001B[39m \u001B[38;5;241m1\u001B[39m:\n\u001B[0;32m   3892\u001B[0m     \u001B[38;5;28;01mreturn\u001B[39;00m \u001B[38;5;28mself\u001B[39m\u001B[38;5;241m.\u001B[39m_getitem_multilevel(key)\n\u001B[1;32m-> 3893\u001B[0m indexer \u001B[38;5;241m=\u001B[39m \u001B[38;5;28;43mself\u001B[39;49m\u001B[38;5;241;43m.\u001B[39;49m\u001B[43mcolumns\u001B[49m\u001B[38;5;241;43m.\u001B[39;49m\u001B[43mget_loc\u001B[49m\u001B[43m(\u001B[49m\u001B[43mkey\u001B[49m\u001B[43m)\u001B[49m\n\u001B[0;32m   3894\u001B[0m \u001B[38;5;28;01mif\u001B[39;00m is_integer(indexer):\n\u001B[0;32m   3895\u001B[0m     indexer \u001B[38;5;241m=\u001B[39m [indexer]\n",
      "File \u001B[1;32m~\\AppData\\Roaming\\Python\\Python311\\site-packages\\pandas\\core\\indexes\\base.py:3797\u001B[0m, in \u001B[0;36mIndex.get_loc\u001B[1;34m(self, key)\u001B[0m\n\u001B[0;32m   3792\u001B[0m     \u001B[38;5;28;01mif\u001B[39;00m \u001B[38;5;28misinstance\u001B[39m(casted_key, \u001B[38;5;28mslice\u001B[39m) \u001B[38;5;129;01mor\u001B[39;00m (\n\u001B[0;32m   3793\u001B[0m         \u001B[38;5;28misinstance\u001B[39m(casted_key, abc\u001B[38;5;241m.\u001B[39mIterable)\n\u001B[0;32m   3794\u001B[0m         \u001B[38;5;129;01mand\u001B[39;00m \u001B[38;5;28many\u001B[39m(\u001B[38;5;28misinstance\u001B[39m(x, \u001B[38;5;28mslice\u001B[39m) \u001B[38;5;28;01mfor\u001B[39;00m x \u001B[38;5;129;01min\u001B[39;00m casted_key)\n\u001B[0;32m   3795\u001B[0m     ):\n\u001B[0;32m   3796\u001B[0m         \u001B[38;5;28;01mraise\u001B[39;00m InvalidIndexError(key)\n\u001B[1;32m-> 3797\u001B[0m     \u001B[38;5;28;01mraise\u001B[39;00m \u001B[38;5;167;01mKeyError\u001B[39;00m(key) \u001B[38;5;28;01mfrom\u001B[39;00m \u001B[38;5;21;01merr\u001B[39;00m\n\u001B[0;32m   3798\u001B[0m \u001B[38;5;28;01mexcept\u001B[39;00m \u001B[38;5;167;01mTypeError\u001B[39;00m:\n\u001B[0;32m   3799\u001B[0m     \u001B[38;5;66;03m# If we have a listlike key, _check_indexing_error will raise\u001B[39;00m\n\u001B[0;32m   3800\u001B[0m     \u001B[38;5;66;03m#  InvalidIndexError. Otherwise we fall through and re-raise\u001B[39;00m\n\u001B[0;32m   3801\u001B[0m     \u001B[38;5;66;03m#  the TypeError.\u001B[39;00m\n\u001B[0;32m   3802\u001B[0m     \u001B[38;5;28mself\u001B[39m\u001B[38;5;241m.\u001B[39m_check_indexing_error(key)\n",
      "\u001B[1;31mKeyError\u001B[0m: ('categories', 'city')"
     ]
    }
   ],
   "source": [
    "#df['categories', 'city']"
   ],
   "metadata": {
    "collapsed": false,
    "ExecuteTime": {
     "end_time": "2023-11-30T06:07:27.921397100Z",
     "start_time": "2023-11-30T06:07:27.108383Z"
    }
   },
   "id": "99a3fa1905815512"
  },
  {
   "cell_type": "code",
   "execution_count": null,
   "outputs": [],
   "source": [
    "#df[['categories', 'city']]"
   ],
   "metadata": {
    "collapsed": false,
    "ExecuteTime": {
     "end_time": "2023-11-30T06:07:27.931396100Z",
     "start_time": "2023-11-30T06:07:27.922397700Z"
    }
   },
   "id": "2133b4f44241a18b"
  },
  {
   "cell_type": "markdown",
   "source": [
    "Задание 12\n",
    "Напишите через запятую и пробел 5 городов с наибольшим количеством записей (в порядке убывания количества записей)."
   ],
   "metadata": {
    "collapsed": false
   },
   "id": "bdbe56b3363fa2eb"
  },
  {
   "cell_type": "code",
   "execution_count": 24,
   "outputs": [
    {
     "data": {
      "text/plain": "city\nSan Diego            1924\nLos Angeles          1603\nChicago              1186\nSan Francisco        1120\nNew York             1085\n                     ... \nCorfu                   1\nSharon Hill             1\nLawrence Township       1\nSelinsgrove             1\nSanta Clarita           1\nName: count, Length: 3601, dtype: int64"
     },
     "execution_count": 24,
     "metadata": {},
     "output_type": "execute_result"
    }
   ],
   "source": [
    "df['city'].value_counts()"
   ],
   "metadata": {
    "collapsed": false,
    "ExecuteTime": {
     "end_time": "2023-11-30T06:08:29.463128200Z",
     "start_time": "2023-11-30T06:08:29.442919600Z"
    }
   },
   "id": "fc441a3ddf78fda4"
  },
  {
   "cell_type": "code",
   "execution_count": 23,
   "outputs": [
    {
     "data": {
      "text/plain": "                         id                   address  \\\n0      AVwc__cikufWRAb51QjV         610 Commercial St   \n1      AVwc__cikufWRAb51QjV         610 Commercial St   \n2      AVwc__dF_7pvs4fz1Ncy      9521 Morton Davis Dr   \n3      AVwc__kCByjofQCxkdm-  10550 W I 25 Frontage Rd   \n4      AVwc__WtByjofQCxkdkR             8495 W 3rd St   \n...                     ...                       ...   \n77255  AVzRLlQNLD2H7whiWdH_             3919 24th St.   \n77256  AVzRLlQNLD2H7whiWdH_             3919 24th St.   \n77257  AVzRLlQNLD2H7whiWdH_             3919 24th St.   \n77258  AVzRLlQNLD2H7whiWdH_             3919 24th St.   \n77259  AVzRLlQNLD2H7whiWdH_             3919 24th St.   \n\n                                              categories           city  \\\n0      Restaurant Delivery Service,Restaurants,Pizza,...       Atchison   \n1      Restaurant Delivery Service,Restaurants,Pizza,...       Atchison   \n2           Golf Course, American Restaurant, and Resort      Patterson   \n3                                   Fast Food Restaurant       Longmont   \n4      Mexican Restaurant Mid-City West,Mexican Resta...    Los Angeles   \n...                                                  ...            ...   \n77255                                         Restaurant  San Francisco   \n77256                                         Restaurant  San Francisco   \n77257                                         Restaurant  San Francisco   \n77258                                         Restaurant  San Francisco   \n77259                                         Restaurant  San Francisco   \n\n                          cuisines             dateAdded  \\\n0      Restaurant Delivery Service  2016-03-02T11:49:34Z   \n1      Restaurant Delivery Service  2016-03-02T11:49:34Z   \n2                              NaN  2016-10-14T01:58:25Z   \n3                              NaN  2016-09-09T17:30:34Z   \n4                          Mexican  2016-05-19T11:50:25Z   \n...                            ...                   ...   \n77255                      Mexican  2017-06-22T19:01:33Z   \n77256                      Mexican  2017-06-22T19:01:33Z   \n77257                      Mexican  2017-06-22T19:01:33Z   \n77258                      Mexican  2017-06-22T19:01:33Z   \n77259                      Mexican  2017-06-22T19:01:33Z   \n\n                dateUpdated   latitude   longitude menus.category  \\\n0      2017-02-01T18:04:44Z  39.561570  -95.121020            NaN   \n1      2017-02-01T18:04:44Z  39.561570  -95.121020            NaN   \n2      2016-10-14T01:58:25Z  37.401855 -121.266703            NaN   \n3      2016-10-04T05:15:17Z        NaN         NaN            NaN   \n4      2016-09-11T00:06:37Z  34.080724 -118.389578            NaN   \n...                     ...        ...         ...            ...   \n77255  2017-06-22T19:01:33Z  37.751392 -122.430180            NaN   \n77256  2017-06-22T19:01:33Z  37.751392 -122.430180            NaN   \n77257  2017-06-22T19:01:33Z  37.751392 -122.430180            NaN   \n77258  2017-06-22T19:01:33Z  37.751392 -122.430180            NaN   \n77259  2017-06-22T19:01:33Z  37.751392 -122.430180            NaN   \n\n      menus.currency            menus.dateSeen  \\\n0                NaN      2017-02-01T18:04:44Z   \n1                NaN      2016-03-02T11:49:34Z   \n2                NaN      2016-10-14T01:58:25Z   \n3                NaN      2016-09-09T17:30:34Z   \n4                NaN      2016-05-19T11:50:25Z   \n...              ...                       ...   \n77255            USD  2017-06-22T16:40:06.448Z   \n77256            USD  2017-06-22T16:40:06.448Z   \n77257            USD  2017-06-22T16:40:06.448Z   \n77258            USD  2017-06-22T16:40:06.448Z   \n77259            USD  2017-06-22T16:40:06.448Z   \n\n                                       menus.description  \\\n0                                                    NaN   \n1      Beef, onion, cheddar cheese, lettuce,  refried...   \n2      Beef barbacoa or chicken, spanish rice, pico d...   \n3                                                    NaN   \n4      Wahoo, avocado, cabbage, pico de gallo  and av...   \n...                                                  ...   \n77255  meat, rice, beans, guacamole, sour cream, chee...   \n77256                 melted cheese, rice, beans & salsa   \n77257                                       meat & salsa   \n77258                          meat, rice, beans & salsa   \n77259  stuffed with rice, beans, meat, topped with en...   \n\n                     menus.name                               name  \\\n0                          Taco                    Gambino's Pizza   \n1                          Taco                    Gambino's Pizza   \n2              Smotherd Burrito  Diablo Grande Golf & Country Club   \n3               Sausage Burrito                         Mcdonald's   \n4             Wahoo Tacogrilled           Baja Fresh Mexican Grill   \n...                         ...                                ...   \n77255             Super Burrito                 La Casona Taqueria   \n77256  Steamed Broccoli Burrito                 La Casona Taqueria   \n77257              Regular Taco                 La Casona Taqueria   \n77258           Regular Burrito                 La Casona Taqueria   \n77259            Azteca Burrito                 La Casona Taqueria   \n\n           province  \n0                KS  \n1                KS  \n2           Grayson  \n3             Niwot  \n4      Bicentennial  \n...             ...  \n77255    California  \n77256    California  \n77257    California  \n77258    California  \n77259    California  \n\n[77260 rows x 16 columns]",
      "text/html": "<div>\n<style scoped>\n    .dataframe tbody tr th:only-of-type {\n        vertical-align: middle;\n    }\n\n    .dataframe tbody tr th {\n        vertical-align: top;\n    }\n\n    .dataframe thead th {\n        text-align: right;\n    }\n</style>\n<table border=\"1\" class=\"dataframe\">\n  <thead>\n    <tr style=\"text-align: right;\">\n      <th></th>\n      <th>id</th>\n      <th>address</th>\n      <th>categories</th>\n      <th>city</th>\n      <th>cuisines</th>\n      <th>dateAdded</th>\n      <th>dateUpdated</th>\n      <th>latitude</th>\n      <th>longitude</th>\n      <th>menus.category</th>\n      <th>menus.currency</th>\n      <th>menus.dateSeen</th>\n      <th>menus.description</th>\n      <th>menus.name</th>\n      <th>name</th>\n      <th>province</th>\n    </tr>\n  </thead>\n  <tbody>\n    <tr>\n      <th>0</th>\n      <td>AVwc__cikufWRAb51QjV</td>\n      <td>610 Commercial St</td>\n      <td>Restaurant Delivery Service,Restaurants,Pizza,...</td>\n      <td>Atchison</td>\n      <td>Restaurant Delivery Service</td>\n      <td>2016-03-02T11:49:34Z</td>\n      <td>2017-02-01T18:04:44Z</td>\n      <td>39.561570</td>\n      <td>-95.121020</td>\n      <td>NaN</td>\n      <td>NaN</td>\n      <td>2017-02-01T18:04:44Z</td>\n      <td>NaN</td>\n      <td>Taco</td>\n      <td>Gambino's Pizza</td>\n      <td>KS</td>\n    </tr>\n    <tr>\n      <th>1</th>\n      <td>AVwc__cikufWRAb51QjV</td>\n      <td>610 Commercial St</td>\n      <td>Restaurant Delivery Service,Restaurants,Pizza,...</td>\n      <td>Atchison</td>\n      <td>Restaurant Delivery Service</td>\n      <td>2016-03-02T11:49:34Z</td>\n      <td>2017-02-01T18:04:44Z</td>\n      <td>39.561570</td>\n      <td>-95.121020</td>\n      <td>NaN</td>\n      <td>NaN</td>\n      <td>2016-03-02T11:49:34Z</td>\n      <td>Beef, onion, cheddar cheese, lettuce,  refried...</td>\n      <td>Taco</td>\n      <td>Gambino's Pizza</td>\n      <td>KS</td>\n    </tr>\n    <tr>\n      <th>2</th>\n      <td>AVwc__dF_7pvs4fz1Ncy</td>\n      <td>9521 Morton Davis Dr</td>\n      <td>Golf Course, American Restaurant, and Resort</td>\n      <td>Patterson</td>\n      <td>NaN</td>\n      <td>2016-10-14T01:58:25Z</td>\n      <td>2016-10-14T01:58:25Z</td>\n      <td>37.401855</td>\n      <td>-121.266703</td>\n      <td>NaN</td>\n      <td>NaN</td>\n      <td>2016-10-14T01:58:25Z</td>\n      <td>Beef barbacoa or chicken, spanish rice, pico d...</td>\n      <td>Smotherd Burrito</td>\n      <td>Diablo Grande Golf &amp; Country Club</td>\n      <td>Grayson</td>\n    </tr>\n    <tr>\n      <th>3</th>\n      <td>AVwc__kCByjofQCxkdm-</td>\n      <td>10550 W I 25 Frontage Rd</td>\n      <td>Fast Food Restaurant</td>\n      <td>Longmont</td>\n      <td>NaN</td>\n      <td>2016-09-09T17:30:34Z</td>\n      <td>2016-10-04T05:15:17Z</td>\n      <td>NaN</td>\n      <td>NaN</td>\n      <td>NaN</td>\n      <td>NaN</td>\n      <td>2016-09-09T17:30:34Z</td>\n      <td>NaN</td>\n      <td>Sausage Burrito</td>\n      <td>Mcdonald's</td>\n      <td>Niwot</td>\n    </tr>\n    <tr>\n      <th>4</th>\n      <td>AVwc__WtByjofQCxkdkR</td>\n      <td>8495 W 3rd St</td>\n      <td>Mexican Restaurant Mid-City West,Mexican Resta...</td>\n      <td>Los Angeles</td>\n      <td>Mexican</td>\n      <td>2016-05-19T11:50:25Z</td>\n      <td>2016-09-11T00:06:37Z</td>\n      <td>34.080724</td>\n      <td>-118.389578</td>\n      <td>NaN</td>\n      <td>NaN</td>\n      <td>2016-05-19T11:50:25Z</td>\n      <td>Wahoo, avocado, cabbage, pico de gallo  and av...</td>\n      <td>Wahoo Tacogrilled</td>\n      <td>Baja Fresh Mexican Grill</td>\n      <td>Bicentennial</td>\n    </tr>\n    <tr>\n      <th>...</th>\n      <td>...</td>\n      <td>...</td>\n      <td>...</td>\n      <td>...</td>\n      <td>...</td>\n      <td>...</td>\n      <td>...</td>\n      <td>...</td>\n      <td>...</td>\n      <td>...</td>\n      <td>...</td>\n      <td>...</td>\n      <td>...</td>\n      <td>...</td>\n      <td>...</td>\n      <td>...</td>\n    </tr>\n    <tr>\n      <th>77255</th>\n      <td>AVzRLlQNLD2H7whiWdH_</td>\n      <td>3919 24th St.</td>\n      <td>Restaurant</td>\n      <td>San Francisco</td>\n      <td>Mexican</td>\n      <td>2017-06-22T19:01:33Z</td>\n      <td>2017-06-22T19:01:33Z</td>\n      <td>37.751392</td>\n      <td>-122.430180</td>\n      <td>NaN</td>\n      <td>USD</td>\n      <td>2017-06-22T16:40:06.448Z</td>\n      <td>meat, rice, beans, guacamole, sour cream, chee...</td>\n      <td>Super Burrito</td>\n      <td>La Casona Taqueria</td>\n      <td>California</td>\n    </tr>\n    <tr>\n      <th>77256</th>\n      <td>AVzRLlQNLD2H7whiWdH_</td>\n      <td>3919 24th St.</td>\n      <td>Restaurant</td>\n      <td>San Francisco</td>\n      <td>Mexican</td>\n      <td>2017-06-22T19:01:33Z</td>\n      <td>2017-06-22T19:01:33Z</td>\n      <td>37.751392</td>\n      <td>-122.430180</td>\n      <td>NaN</td>\n      <td>USD</td>\n      <td>2017-06-22T16:40:06.448Z</td>\n      <td>melted cheese, rice, beans &amp; salsa</td>\n      <td>Steamed Broccoli Burrito</td>\n      <td>La Casona Taqueria</td>\n      <td>California</td>\n    </tr>\n    <tr>\n      <th>77257</th>\n      <td>AVzRLlQNLD2H7whiWdH_</td>\n      <td>3919 24th St.</td>\n      <td>Restaurant</td>\n      <td>San Francisco</td>\n      <td>Mexican</td>\n      <td>2017-06-22T19:01:33Z</td>\n      <td>2017-06-22T19:01:33Z</td>\n      <td>37.751392</td>\n      <td>-122.430180</td>\n      <td>NaN</td>\n      <td>USD</td>\n      <td>2017-06-22T16:40:06.448Z</td>\n      <td>meat &amp; salsa</td>\n      <td>Regular Taco</td>\n      <td>La Casona Taqueria</td>\n      <td>California</td>\n    </tr>\n    <tr>\n      <th>77258</th>\n      <td>AVzRLlQNLD2H7whiWdH_</td>\n      <td>3919 24th St.</td>\n      <td>Restaurant</td>\n      <td>San Francisco</td>\n      <td>Mexican</td>\n      <td>2017-06-22T19:01:33Z</td>\n      <td>2017-06-22T19:01:33Z</td>\n      <td>37.751392</td>\n      <td>-122.430180</td>\n      <td>NaN</td>\n      <td>USD</td>\n      <td>2017-06-22T16:40:06.448Z</td>\n      <td>meat, rice, beans &amp; salsa</td>\n      <td>Regular Burrito</td>\n      <td>La Casona Taqueria</td>\n      <td>California</td>\n    </tr>\n    <tr>\n      <th>77259</th>\n      <td>AVzRLlQNLD2H7whiWdH_</td>\n      <td>3919 24th St.</td>\n      <td>Restaurant</td>\n      <td>San Francisco</td>\n      <td>Mexican</td>\n      <td>2017-06-22T19:01:33Z</td>\n      <td>2017-06-22T19:01:33Z</td>\n      <td>37.751392</td>\n      <td>-122.430180</td>\n      <td>NaN</td>\n      <td>USD</td>\n      <td>2017-06-22T16:40:06.448Z</td>\n      <td>stuffed with rice, beans, meat, topped with en...</td>\n      <td>Azteca Burrito</td>\n      <td>La Casona Taqueria</td>\n      <td>California</td>\n    </tr>\n  </tbody>\n</table>\n<p>77260 rows × 16 columns</p>\n</div>"
     },
     "execution_count": 23,
     "metadata": {},
     "output_type": "execute_result"
    }
   ],
   "source": [
    "df"
   ],
   "metadata": {
    "collapsed": false,
    "ExecuteTime": {
     "end_time": "2023-11-30T06:07:39.348576900Z",
     "start_time": "2023-11-30T06:07:39.330130800Z"
    }
   },
   "id": "a4517413a0c43511"
  },
  {
   "cell_type": "markdown",
   "source": [
    "Задание 13\n",
    "Посчитайте, сколько ресторанов Taco Bell находится в каждом городе. Отберите 5 городов, в которых ресторан встречается чаще всего. Количество ресторанов для этих городов с их названиями сохраните в виде объекта pd.Series в переменную result."
   ],
   "metadata": {
    "collapsed": false
   },
   "id": "3d7e6216c501a358"
  },
  {
   "cell_type": "code",
   "execution_count": 30,
   "outputs": [
    {
     "data": {
      "text/plain": "city\nIndianapolis        84\nColumbus            63\nCharleston          63\nTampa               62\nSouth Lake Tahoe    42\nName: count, dtype: int64"
     },
     "execution_count": 30,
     "metadata": {},
     "output_type": "execute_result"
    }
   ],
   "source": [
    "df[df['name'] == 'Taco Bell']['city'].value_counts()[:5]"
   ],
   "metadata": {
    "collapsed": false,
    "ExecuteTime": {
     "end_time": "2023-11-30T06:16:12.972914800Z",
     "start_time": "2023-11-30T06:16:12.951290100Z"
    }
   },
   "id": "92263c8324f88973"
  },
  {
   "cell_type": "code",
   "execution_count": 34,
   "outputs": [
    {
     "data": {
      "text/plain": "name       city        \nTaco Bell  Indianapolis    84\n           Columbus        63\n           Charleston      63\n           Tampa           62\n           Fresno          42\nName: count, dtype: int64"
     },
     "execution_count": 34,
     "metadata": {},
     "output_type": "execute_result"
    }
   ],
   "source": [
    "df[df['name'] == 'Taco Bell'].groupby('name')['city'].value_counts()[:5]\n"
   ],
   "metadata": {
    "collapsed": false,
    "ExecuteTime": {
     "end_time": "2023-11-30T06:21:43.301045800Z",
     "start_time": "2023-11-30T06:21:43.284157400Z"
    }
   },
   "id": "2b69d6abba40005e"
  },
  {
   "cell_type": "code",
   "execution_count": 35,
   "outputs": [
    {
     "data": {
      "text/plain": "city\nIndianapolis    84\nCharleston      63\nColumbus        63\nTampa           62\nYukon           42\nName: count, dtype: int64"
     },
     "execution_count": 35,
     "metadata": {},
     "output_type": "execute_result"
    }
   ],
   "source": [
    "df.groupby('name')['city'].value_counts().loc['Taco Bell'][:5]\n"
   ],
   "metadata": {
    "collapsed": false,
    "ExecuteTime": {
     "end_time": "2023-11-30T06:23:58.254737800Z",
     "start_time": "2023-11-30T06:23:58.224205600Z"
    }
   },
   "id": "d344fbaf489c6f43"
  },
  {
   "cell_type": "code",
   "execution_count": 81,
   "outputs": [],
   "source": [
    "from datetime import datetime\n",
    "df_1 = df.copy()\n",
    "df_1['dateAdded'] = pd.to_datetime(df_1['dateAdded'])\n",
    "df_1['dateUpdated'] = pd.to_datetime(df_1['dateUpdated'])"
   ],
   "metadata": {
    "collapsed": false,
    "ExecuteTime": {
     "end_time": "2023-11-30T11:57:22.111022300Z",
     "start_time": "2023-11-30T11:57:21.962233400Z"
    }
   },
   "id": "d09b7763ac172c24"
  },
  {
   "cell_type": "code",
   "execution_count": 39,
   "outputs": [
    {
     "data": {
      "text/plain": "                         id                   address  \\\n0      AVwc__cikufWRAb51QjV         610 Commercial St   \n1      AVwc__cikufWRAb51QjV         610 Commercial St   \n2      AVwc__dF_7pvs4fz1Ncy      9521 Morton Davis Dr   \n3      AVwc__kCByjofQCxkdm-  10550 W I 25 Frontage Rd   \n4      AVwc__WtByjofQCxkdkR             8495 W 3rd St   \n...                     ...                       ...   \n77255  AVzRLlQNLD2H7whiWdH_             3919 24th St.   \n77256  AVzRLlQNLD2H7whiWdH_             3919 24th St.   \n77257  AVzRLlQNLD2H7whiWdH_             3919 24th St.   \n77258  AVzRLlQNLD2H7whiWdH_             3919 24th St.   \n77259  AVzRLlQNLD2H7whiWdH_             3919 24th St.   \n\n                                              categories           city  \\\n0      Restaurant Delivery Service,Restaurants,Pizza,...       Atchison   \n1      Restaurant Delivery Service,Restaurants,Pizza,...       Atchison   \n2           Golf Course, American Restaurant, and Resort      Patterson   \n3                                   Fast Food Restaurant       Longmont   \n4      Mexican Restaurant Mid-City West,Mexican Resta...    Los Angeles   \n...                                                  ...            ...   \n77255                                         Restaurant  San Francisco   \n77256                                         Restaurant  San Francisco   \n77257                                         Restaurant  San Francisco   \n77258                                         Restaurant  San Francisco   \n77259                                         Restaurant  San Francisco   \n\n                          cuisines                 dateAdded  \\\n0      Restaurant Delivery Service 2016-03-02 11:49:34+00:00   \n1      Restaurant Delivery Service 2016-03-02 11:49:34+00:00   \n2                              NaN 2016-10-14 01:58:25+00:00   \n3                              NaN 2016-09-09 17:30:34+00:00   \n4                          Mexican 2016-05-19 11:50:25+00:00   \n...                            ...                       ...   \n77255                      Mexican 2017-06-22 19:01:33+00:00   \n77256                      Mexican 2017-06-22 19:01:33+00:00   \n77257                      Mexican 2017-06-22 19:01:33+00:00   \n77258                      Mexican 2017-06-22 19:01:33+00:00   \n77259                      Mexican 2017-06-22 19:01:33+00:00   \n\n                dateUpdated   latitude   longitude menus.category  \\\n0      2017-02-01T18:04:44Z  39.561570  -95.121020            NaN   \n1      2017-02-01T18:04:44Z  39.561570  -95.121020            NaN   \n2      2016-10-14T01:58:25Z  37.401855 -121.266703            NaN   \n3      2016-10-04T05:15:17Z        NaN         NaN            NaN   \n4      2016-09-11T00:06:37Z  34.080724 -118.389578            NaN   \n...                     ...        ...         ...            ...   \n77255  2017-06-22T19:01:33Z  37.751392 -122.430180            NaN   \n77256  2017-06-22T19:01:33Z  37.751392 -122.430180            NaN   \n77257  2017-06-22T19:01:33Z  37.751392 -122.430180            NaN   \n77258  2017-06-22T19:01:33Z  37.751392 -122.430180            NaN   \n77259  2017-06-22T19:01:33Z  37.751392 -122.430180            NaN   \n\n      menus.currency            menus.dateSeen  \\\n0                NaN      2017-02-01T18:04:44Z   \n1                NaN      2016-03-02T11:49:34Z   \n2                NaN      2016-10-14T01:58:25Z   \n3                NaN      2016-09-09T17:30:34Z   \n4                NaN      2016-05-19T11:50:25Z   \n...              ...                       ...   \n77255            USD  2017-06-22T16:40:06.448Z   \n77256            USD  2017-06-22T16:40:06.448Z   \n77257            USD  2017-06-22T16:40:06.448Z   \n77258            USD  2017-06-22T16:40:06.448Z   \n77259            USD  2017-06-22T16:40:06.448Z   \n\n                                       menus.description  \\\n0                                                    NaN   \n1      Beef, onion, cheddar cheese, lettuce,  refried...   \n2      Beef barbacoa or chicken, spanish rice, pico d...   \n3                                                    NaN   \n4      Wahoo, avocado, cabbage, pico de gallo  and av...   \n...                                                  ...   \n77255  meat, rice, beans, guacamole, sour cream, chee...   \n77256                 melted cheese, rice, beans & salsa   \n77257                                       meat & salsa   \n77258                          meat, rice, beans & salsa   \n77259  stuffed with rice, beans, meat, topped with en...   \n\n                     menus.name                               name  \\\n0                          Taco                    Gambino's Pizza   \n1                          Taco                    Gambino's Pizza   \n2              Smotherd Burrito  Diablo Grande Golf & Country Club   \n3               Sausage Burrito                         Mcdonald's   \n4             Wahoo Tacogrilled           Baja Fresh Mexican Grill   \n...                         ...                                ...   \n77255             Super Burrito                 La Casona Taqueria   \n77256  Steamed Broccoli Burrito                 La Casona Taqueria   \n77257              Regular Taco                 La Casona Taqueria   \n77258           Regular Burrito                 La Casona Taqueria   \n77259            Azteca Burrito                 La Casona Taqueria   \n\n           province  \n0                KS  \n1                KS  \n2           Grayson  \n3             Niwot  \n4      Bicentennial  \n...             ...  \n77255    California  \n77256    California  \n77257    California  \n77258    California  \n77259    California  \n\n[77260 rows x 16 columns]",
      "text/html": "<div>\n<style scoped>\n    .dataframe tbody tr th:only-of-type {\n        vertical-align: middle;\n    }\n\n    .dataframe tbody tr th {\n        vertical-align: top;\n    }\n\n    .dataframe thead th {\n        text-align: right;\n    }\n</style>\n<table border=\"1\" class=\"dataframe\">\n  <thead>\n    <tr style=\"text-align: right;\">\n      <th></th>\n      <th>id</th>\n      <th>address</th>\n      <th>categories</th>\n      <th>city</th>\n      <th>cuisines</th>\n      <th>dateAdded</th>\n      <th>dateUpdated</th>\n      <th>latitude</th>\n      <th>longitude</th>\n      <th>menus.category</th>\n      <th>menus.currency</th>\n      <th>menus.dateSeen</th>\n      <th>menus.description</th>\n      <th>menus.name</th>\n      <th>name</th>\n      <th>province</th>\n    </tr>\n  </thead>\n  <tbody>\n    <tr>\n      <th>0</th>\n      <td>AVwc__cikufWRAb51QjV</td>\n      <td>610 Commercial St</td>\n      <td>Restaurant Delivery Service,Restaurants,Pizza,...</td>\n      <td>Atchison</td>\n      <td>Restaurant Delivery Service</td>\n      <td>2016-03-02 11:49:34+00:00</td>\n      <td>2017-02-01T18:04:44Z</td>\n      <td>39.561570</td>\n      <td>-95.121020</td>\n      <td>NaN</td>\n      <td>NaN</td>\n      <td>2017-02-01T18:04:44Z</td>\n      <td>NaN</td>\n      <td>Taco</td>\n      <td>Gambino's Pizza</td>\n      <td>KS</td>\n    </tr>\n    <tr>\n      <th>1</th>\n      <td>AVwc__cikufWRAb51QjV</td>\n      <td>610 Commercial St</td>\n      <td>Restaurant Delivery Service,Restaurants,Pizza,...</td>\n      <td>Atchison</td>\n      <td>Restaurant Delivery Service</td>\n      <td>2016-03-02 11:49:34+00:00</td>\n      <td>2017-02-01T18:04:44Z</td>\n      <td>39.561570</td>\n      <td>-95.121020</td>\n      <td>NaN</td>\n      <td>NaN</td>\n      <td>2016-03-02T11:49:34Z</td>\n      <td>Beef, onion, cheddar cheese, lettuce,  refried...</td>\n      <td>Taco</td>\n      <td>Gambino's Pizza</td>\n      <td>KS</td>\n    </tr>\n    <tr>\n      <th>2</th>\n      <td>AVwc__dF_7pvs4fz1Ncy</td>\n      <td>9521 Morton Davis Dr</td>\n      <td>Golf Course, American Restaurant, and Resort</td>\n      <td>Patterson</td>\n      <td>NaN</td>\n      <td>2016-10-14 01:58:25+00:00</td>\n      <td>2016-10-14T01:58:25Z</td>\n      <td>37.401855</td>\n      <td>-121.266703</td>\n      <td>NaN</td>\n      <td>NaN</td>\n      <td>2016-10-14T01:58:25Z</td>\n      <td>Beef barbacoa or chicken, spanish rice, pico d...</td>\n      <td>Smotherd Burrito</td>\n      <td>Diablo Grande Golf &amp; Country Club</td>\n      <td>Grayson</td>\n    </tr>\n    <tr>\n      <th>3</th>\n      <td>AVwc__kCByjofQCxkdm-</td>\n      <td>10550 W I 25 Frontage Rd</td>\n      <td>Fast Food Restaurant</td>\n      <td>Longmont</td>\n      <td>NaN</td>\n      <td>2016-09-09 17:30:34+00:00</td>\n      <td>2016-10-04T05:15:17Z</td>\n      <td>NaN</td>\n      <td>NaN</td>\n      <td>NaN</td>\n      <td>NaN</td>\n      <td>2016-09-09T17:30:34Z</td>\n      <td>NaN</td>\n      <td>Sausage Burrito</td>\n      <td>Mcdonald's</td>\n      <td>Niwot</td>\n    </tr>\n    <tr>\n      <th>4</th>\n      <td>AVwc__WtByjofQCxkdkR</td>\n      <td>8495 W 3rd St</td>\n      <td>Mexican Restaurant Mid-City West,Mexican Resta...</td>\n      <td>Los Angeles</td>\n      <td>Mexican</td>\n      <td>2016-05-19 11:50:25+00:00</td>\n      <td>2016-09-11T00:06:37Z</td>\n      <td>34.080724</td>\n      <td>-118.389578</td>\n      <td>NaN</td>\n      <td>NaN</td>\n      <td>2016-05-19T11:50:25Z</td>\n      <td>Wahoo, avocado, cabbage, pico de gallo  and av...</td>\n      <td>Wahoo Tacogrilled</td>\n      <td>Baja Fresh Mexican Grill</td>\n      <td>Bicentennial</td>\n    </tr>\n    <tr>\n      <th>...</th>\n      <td>...</td>\n      <td>...</td>\n      <td>...</td>\n      <td>...</td>\n      <td>...</td>\n      <td>...</td>\n      <td>...</td>\n      <td>...</td>\n      <td>...</td>\n      <td>...</td>\n      <td>...</td>\n      <td>...</td>\n      <td>...</td>\n      <td>...</td>\n      <td>...</td>\n      <td>...</td>\n    </tr>\n    <tr>\n      <th>77255</th>\n      <td>AVzRLlQNLD2H7whiWdH_</td>\n      <td>3919 24th St.</td>\n      <td>Restaurant</td>\n      <td>San Francisco</td>\n      <td>Mexican</td>\n      <td>2017-06-22 19:01:33+00:00</td>\n      <td>2017-06-22T19:01:33Z</td>\n      <td>37.751392</td>\n      <td>-122.430180</td>\n      <td>NaN</td>\n      <td>USD</td>\n      <td>2017-06-22T16:40:06.448Z</td>\n      <td>meat, rice, beans, guacamole, sour cream, chee...</td>\n      <td>Super Burrito</td>\n      <td>La Casona Taqueria</td>\n      <td>California</td>\n    </tr>\n    <tr>\n      <th>77256</th>\n      <td>AVzRLlQNLD2H7whiWdH_</td>\n      <td>3919 24th St.</td>\n      <td>Restaurant</td>\n      <td>San Francisco</td>\n      <td>Mexican</td>\n      <td>2017-06-22 19:01:33+00:00</td>\n      <td>2017-06-22T19:01:33Z</td>\n      <td>37.751392</td>\n      <td>-122.430180</td>\n      <td>NaN</td>\n      <td>USD</td>\n      <td>2017-06-22T16:40:06.448Z</td>\n      <td>melted cheese, rice, beans &amp; salsa</td>\n      <td>Steamed Broccoli Burrito</td>\n      <td>La Casona Taqueria</td>\n      <td>California</td>\n    </tr>\n    <tr>\n      <th>77257</th>\n      <td>AVzRLlQNLD2H7whiWdH_</td>\n      <td>3919 24th St.</td>\n      <td>Restaurant</td>\n      <td>San Francisco</td>\n      <td>Mexican</td>\n      <td>2017-06-22 19:01:33+00:00</td>\n      <td>2017-06-22T19:01:33Z</td>\n      <td>37.751392</td>\n      <td>-122.430180</td>\n      <td>NaN</td>\n      <td>USD</td>\n      <td>2017-06-22T16:40:06.448Z</td>\n      <td>meat &amp; salsa</td>\n      <td>Regular Taco</td>\n      <td>La Casona Taqueria</td>\n      <td>California</td>\n    </tr>\n    <tr>\n      <th>77258</th>\n      <td>AVzRLlQNLD2H7whiWdH_</td>\n      <td>3919 24th St.</td>\n      <td>Restaurant</td>\n      <td>San Francisco</td>\n      <td>Mexican</td>\n      <td>2017-06-22 19:01:33+00:00</td>\n      <td>2017-06-22T19:01:33Z</td>\n      <td>37.751392</td>\n      <td>-122.430180</td>\n      <td>NaN</td>\n      <td>USD</td>\n      <td>2017-06-22T16:40:06.448Z</td>\n      <td>meat, rice, beans &amp; salsa</td>\n      <td>Regular Burrito</td>\n      <td>La Casona Taqueria</td>\n      <td>California</td>\n    </tr>\n    <tr>\n      <th>77259</th>\n      <td>AVzRLlQNLD2H7whiWdH_</td>\n      <td>3919 24th St.</td>\n      <td>Restaurant</td>\n      <td>San Francisco</td>\n      <td>Mexican</td>\n      <td>2017-06-22 19:01:33+00:00</td>\n      <td>2017-06-22T19:01:33Z</td>\n      <td>37.751392</td>\n      <td>-122.430180</td>\n      <td>NaN</td>\n      <td>USD</td>\n      <td>2017-06-22T16:40:06.448Z</td>\n      <td>stuffed with rice, beans, meat, topped with en...</td>\n      <td>Azteca Burrito</td>\n      <td>La Casona Taqueria</td>\n      <td>California</td>\n    </tr>\n  </tbody>\n</table>\n<p>77260 rows × 16 columns</p>\n</div>"
     },
     "execution_count": 39,
     "metadata": {},
     "output_type": "execute_result"
    }
   ],
   "source": [
    "df_1"
   ],
   "metadata": {
    "collapsed": false,
    "ExecuteTime": {
     "end_time": "2023-11-30T10:59:58.998442600Z",
     "start_time": "2023-11-30T10:59:58.973169100Z"
    }
   },
   "id": "dd11eef7c0944a1a"
  },
  {
   "cell_type": "code",
   "execution_count": null,
   "outputs": [],
   "source": [],
   "metadata": {
    "collapsed": false
   },
   "id": "192b991cbbd0a5db"
  },
  {
   "cell_type": "markdown",
   "source": [
    "Задание 14\n",
    "В качестве ответа отправьте индексы первых пяти записей, соответствующих ресторанам, открытым в октябре (ресторан может повторяться). Ответ запишите через запятую и пробел в порядке возрастания."
   ],
   "metadata": {
    "collapsed": false
   },
   "id": "a548b981d03d0b41"
  },
  {
   "cell_type": "code",
   "execution_count": 46,
   "outputs": [
    {
     "data": {
      "text/plain": "                         id               address  \\\n2      AVwc__dF_7pvs4fz1Ncy  9521 Morton Davis Dr   \n21     AVwc_3Kp_7pvs4fz1MDQ       116 Pleasant St   \n22     AVwc_3Kp_7pvs4fz1MDQ       116 Pleasant St   \n23     AVwc_3Kp_7pvs4fz1MDQ       116 Pleasant St   \n24     AVwc_3Kp_7pvs4fz1MDQ       116 Pleasant St   \n...                     ...                   ...   \n76927  AVweZtCQByjofQCxx3uK           11688 Us 23   \n76946  AVweZZ31IN2L1WUf4jVT            2521 Bagby   \n76947  AVweZZ31IN2L1WUf4jVT            2521 Bagby   \n76948  AVweZ-ZKIN2L1WUf4n9V         110 W Hubbard   \n76949  AVweZ-ZKIN2L1WUf4n9V         110 W Hubbard   \n\n                                              categories         city  \\\n2           Golf Course, American Restaurant, and Resort    Patterson   \n21     Restaurant,Seafood Restaurants,Take Out Restau...  Easthampton   \n22     Restaurant,Seafood Restaurants,Take Out Restau...  Easthampton   \n23     Restaurant,Seafood Restaurants,Take Out Restau...  Easthampton   \n24     Restaurant,Seafood Restaurants,Take Out Restau...  Easthampton   \n...                                                  ...          ...   \n76927                               Fast Food Restaurant      Waverly   \n76946                                         Restaurant      Houston   \n76947                                         Restaurant      Houston   \n76948                                         Restaurant      Chicago   \n76949                                         Restaurant      Chicago   \n\n                                                cuisines  \\\n2                                                    NaN   \n21                          American,Seafood Restaurants   \n22                          American,Seafood Restaurants   \n23                          American,Seafood Restaurants   \n24                          American,Seafood Restaurants   \n...                                                  ...   \n76927                                                NaN   \n76946  Continental, Contemporary European, Global, In...   \n76947  Continental, Contemporary European, Global, In...   \n76948  Contemporary European, Bar / Lounge / Bottle S...   \n76949  Contemporary European, Bar / Lounge / Bottle S...   \n\n                      dateAdded           dateUpdated   latitude   longitude  \\\n2     2016-10-14 01:58:25+00:00  2016-10-14T01:58:25Z  37.401855 -121.266703   \n21    2015-10-26 23:10:06+00:00  2016-09-19T17:41:29Z  42.273525  -72.663124   \n22    2015-10-26 23:10:06+00:00  2016-09-19T17:41:29Z  42.273525  -72.663124   \n23    2015-10-26 23:10:06+00:00  2016-09-19T17:41:29Z  42.273525  -72.663124   \n24    2015-10-26 23:10:06+00:00  2016-09-19T17:41:29Z  42.273525  -72.663124   \n...                         ...                   ...        ...         ...   \n76927 2015-10-22 19:23:28+00:00  2016-08-09T10:11:49Z  39.119935  -82.993279   \n76946 2015-10-19 20:42:46+00:00  2016-08-22T11:26:45Z  29.748747  -95.379022   \n76947 2015-10-19 20:42:46+00:00  2016-08-22T11:26:45Z  29.748747  -95.379022   \n76948 2015-10-19 20:37:03+00:00  2016-08-09T02:40:48Z  41.890262  -87.631646   \n76949 2015-10-19 20:37:03+00:00  2016-08-09T02:40:48Z  41.890262  -87.631646   \n\n           menus.category menus.currency        menus.dateSeen  \\\n2                     NaN            NaN  2016-10-14T01:58:25Z   \n21                    NaN            USD  2016-09-19T17:41:29Z   \n22                    NaN            USD  2016-09-19T17:41:29Z   \n23                    NaN            USD  2016-09-19T17:41:29Z   \n24                    NaN            USD  2016-09-19T17:41:29Z   \n...                   ...            ...                   ...   \n76927                 NaN            NaN  2015-10-22T19:23:28Z   \n76946  Specialty Bar Menu            USD  2016-04-24T00:00:00Z   \n76947  Specialty Bar Menu            USD  2016-08-20T00:00:00Z   \n76948           Beginners            USD  2016-08-07T00:00:00Z   \n76949        Lunch Plates            USD  2016-04-24T00:00:00Z   \n\n                                       menus.description  \\\n2      Beef barbacoa or chicken, spanish rice, pico d...   \n21     Crispy house-smoked pork belly, hoisin sauce, ...   \n22     Black beans, corn and black bean salsa, guacam...   \n23             Black beans, jasmine rice and peanut slaw   \n24     Black beans, cheddar, salsa, rice, sour cream,...   \n...                                                  ...   \n76927                                                NaN   \n76946                                                NaN   \n76947                                                NaN   \n76948  Corn tortilla, avocado, sesame, soy sauce, mar...   \n76949                                                NaN   \n\n                               menus.name                               name  \\\n2                        Smotherd Burrito  Diablo Grande Golf & Country Club   \n21                Korean Pork Belly Tacos                       Riff's Joint   \n22                Speedy Gonzalez Burrito                       Riff's Joint   \n23                      Thai Dyed Burrito                       Riff's Joint   \n24                        Burrito Supreme                       Riff's Joint   \n...                                   ...                                ...   \n76927                     Sausage Burrito                          Mcdonalds   \n76946            Ahi Tuna Crispy Taco (2)                          Charivari   \n76947  Pork Shank (schweinehaxe) Taco (2)                          Charivari   \n76948                  Tuna Tartare Tacos                        Hubbard Inn   \n76949                   Tuna Tartare Taco                        Hubbard Inn   \n\n          province  \n2          Grayson  \n21     Westhampton  \n22     Westhampton  \n23     Westhampton  \n24     Westhampton  \n...            ...  \n76927           OH  \n76946           TX  \n76947           TX  \n76948           IL  \n76949           IL  \n\n[19542 rows x 16 columns]",
      "text/html": "<div>\n<style scoped>\n    .dataframe tbody tr th:only-of-type {\n        vertical-align: middle;\n    }\n\n    .dataframe tbody tr th {\n        vertical-align: top;\n    }\n\n    .dataframe thead th {\n        text-align: right;\n    }\n</style>\n<table border=\"1\" class=\"dataframe\">\n  <thead>\n    <tr style=\"text-align: right;\">\n      <th></th>\n      <th>id</th>\n      <th>address</th>\n      <th>categories</th>\n      <th>city</th>\n      <th>cuisines</th>\n      <th>dateAdded</th>\n      <th>dateUpdated</th>\n      <th>latitude</th>\n      <th>longitude</th>\n      <th>menus.category</th>\n      <th>menus.currency</th>\n      <th>menus.dateSeen</th>\n      <th>menus.description</th>\n      <th>menus.name</th>\n      <th>name</th>\n      <th>province</th>\n    </tr>\n  </thead>\n  <tbody>\n    <tr>\n      <th>2</th>\n      <td>AVwc__dF_7pvs4fz1Ncy</td>\n      <td>9521 Morton Davis Dr</td>\n      <td>Golf Course, American Restaurant, and Resort</td>\n      <td>Patterson</td>\n      <td>NaN</td>\n      <td>2016-10-14 01:58:25+00:00</td>\n      <td>2016-10-14T01:58:25Z</td>\n      <td>37.401855</td>\n      <td>-121.266703</td>\n      <td>NaN</td>\n      <td>NaN</td>\n      <td>2016-10-14T01:58:25Z</td>\n      <td>Beef barbacoa or chicken, spanish rice, pico d...</td>\n      <td>Smotherd Burrito</td>\n      <td>Diablo Grande Golf &amp; Country Club</td>\n      <td>Grayson</td>\n    </tr>\n    <tr>\n      <th>21</th>\n      <td>AVwc_3Kp_7pvs4fz1MDQ</td>\n      <td>116 Pleasant St</td>\n      <td>Restaurant,Seafood Restaurants,Take Out Restau...</td>\n      <td>Easthampton</td>\n      <td>American,Seafood Restaurants</td>\n      <td>2015-10-26 23:10:06+00:00</td>\n      <td>2016-09-19T17:41:29Z</td>\n      <td>42.273525</td>\n      <td>-72.663124</td>\n      <td>NaN</td>\n      <td>USD</td>\n      <td>2016-09-19T17:41:29Z</td>\n      <td>Crispy house-smoked pork belly, hoisin sauce, ...</td>\n      <td>Korean Pork Belly Tacos</td>\n      <td>Riff's Joint</td>\n      <td>Westhampton</td>\n    </tr>\n    <tr>\n      <th>22</th>\n      <td>AVwc_3Kp_7pvs4fz1MDQ</td>\n      <td>116 Pleasant St</td>\n      <td>Restaurant,Seafood Restaurants,Take Out Restau...</td>\n      <td>Easthampton</td>\n      <td>American,Seafood Restaurants</td>\n      <td>2015-10-26 23:10:06+00:00</td>\n      <td>2016-09-19T17:41:29Z</td>\n      <td>42.273525</td>\n      <td>-72.663124</td>\n      <td>NaN</td>\n      <td>USD</td>\n      <td>2016-09-19T17:41:29Z</td>\n      <td>Black beans, corn and black bean salsa, guacam...</td>\n      <td>Speedy Gonzalez Burrito</td>\n      <td>Riff's Joint</td>\n      <td>Westhampton</td>\n    </tr>\n    <tr>\n      <th>23</th>\n      <td>AVwc_3Kp_7pvs4fz1MDQ</td>\n      <td>116 Pleasant St</td>\n      <td>Restaurant,Seafood Restaurants,Take Out Restau...</td>\n      <td>Easthampton</td>\n      <td>American,Seafood Restaurants</td>\n      <td>2015-10-26 23:10:06+00:00</td>\n      <td>2016-09-19T17:41:29Z</td>\n      <td>42.273525</td>\n      <td>-72.663124</td>\n      <td>NaN</td>\n      <td>USD</td>\n      <td>2016-09-19T17:41:29Z</td>\n      <td>Black beans, jasmine rice and peanut slaw</td>\n      <td>Thai Dyed Burrito</td>\n      <td>Riff's Joint</td>\n      <td>Westhampton</td>\n    </tr>\n    <tr>\n      <th>24</th>\n      <td>AVwc_3Kp_7pvs4fz1MDQ</td>\n      <td>116 Pleasant St</td>\n      <td>Restaurant,Seafood Restaurants,Take Out Restau...</td>\n      <td>Easthampton</td>\n      <td>American,Seafood Restaurants</td>\n      <td>2015-10-26 23:10:06+00:00</td>\n      <td>2016-09-19T17:41:29Z</td>\n      <td>42.273525</td>\n      <td>-72.663124</td>\n      <td>NaN</td>\n      <td>USD</td>\n      <td>2016-09-19T17:41:29Z</td>\n      <td>Black beans, cheddar, salsa, rice, sour cream,...</td>\n      <td>Burrito Supreme</td>\n      <td>Riff's Joint</td>\n      <td>Westhampton</td>\n    </tr>\n    <tr>\n      <th>...</th>\n      <td>...</td>\n      <td>...</td>\n      <td>...</td>\n      <td>...</td>\n      <td>...</td>\n      <td>...</td>\n      <td>...</td>\n      <td>...</td>\n      <td>...</td>\n      <td>...</td>\n      <td>...</td>\n      <td>...</td>\n      <td>...</td>\n      <td>...</td>\n      <td>...</td>\n      <td>...</td>\n    </tr>\n    <tr>\n      <th>76927</th>\n      <td>AVweZtCQByjofQCxx3uK</td>\n      <td>11688 Us 23</td>\n      <td>Fast Food Restaurant</td>\n      <td>Waverly</td>\n      <td>NaN</td>\n      <td>2015-10-22 19:23:28+00:00</td>\n      <td>2016-08-09T10:11:49Z</td>\n      <td>39.119935</td>\n      <td>-82.993279</td>\n      <td>NaN</td>\n      <td>NaN</td>\n      <td>2015-10-22T19:23:28Z</td>\n      <td>NaN</td>\n      <td>Sausage Burrito</td>\n      <td>Mcdonalds</td>\n      <td>OH</td>\n    </tr>\n    <tr>\n      <th>76946</th>\n      <td>AVweZZ31IN2L1WUf4jVT</td>\n      <td>2521 Bagby</td>\n      <td>Restaurant</td>\n      <td>Houston</td>\n      <td>Continental, Contemporary European, Global, In...</td>\n      <td>2015-10-19 20:42:46+00:00</td>\n      <td>2016-08-22T11:26:45Z</td>\n      <td>29.748747</td>\n      <td>-95.379022</td>\n      <td>Specialty Bar Menu</td>\n      <td>USD</td>\n      <td>2016-04-24T00:00:00Z</td>\n      <td>NaN</td>\n      <td>Ahi Tuna Crispy Taco (2)</td>\n      <td>Charivari</td>\n      <td>TX</td>\n    </tr>\n    <tr>\n      <th>76947</th>\n      <td>AVweZZ31IN2L1WUf4jVT</td>\n      <td>2521 Bagby</td>\n      <td>Restaurant</td>\n      <td>Houston</td>\n      <td>Continental, Contemporary European, Global, In...</td>\n      <td>2015-10-19 20:42:46+00:00</td>\n      <td>2016-08-22T11:26:45Z</td>\n      <td>29.748747</td>\n      <td>-95.379022</td>\n      <td>Specialty Bar Menu</td>\n      <td>USD</td>\n      <td>2016-08-20T00:00:00Z</td>\n      <td>NaN</td>\n      <td>Pork Shank (schweinehaxe) Taco (2)</td>\n      <td>Charivari</td>\n      <td>TX</td>\n    </tr>\n    <tr>\n      <th>76948</th>\n      <td>AVweZ-ZKIN2L1WUf4n9V</td>\n      <td>110 W Hubbard</td>\n      <td>Restaurant</td>\n      <td>Chicago</td>\n      <td>Contemporary European, Bar / Lounge / Bottle S...</td>\n      <td>2015-10-19 20:37:03+00:00</td>\n      <td>2016-08-09T02:40:48Z</td>\n      <td>41.890262</td>\n      <td>-87.631646</td>\n      <td>Beginners</td>\n      <td>USD</td>\n      <td>2016-08-07T00:00:00Z</td>\n      <td>Corn tortilla, avocado, sesame, soy sauce, mar...</td>\n      <td>Tuna Tartare Tacos</td>\n      <td>Hubbard Inn</td>\n      <td>IL</td>\n    </tr>\n    <tr>\n      <th>76949</th>\n      <td>AVweZ-ZKIN2L1WUf4n9V</td>\n      <td>110 W Hubbard</td>\n      <td>Restaurant</td>\n      <td>Chicago</td>\n      <td>Contemporary European, Bar / Lounge / Bottle S...</td>\n      <td>2015-10-19 20:37:03+00:00</td>\n      <td>2016-08-09T02:40:48Z</td>\n      <td>41.890262</td>\n      <td>-87.631646</td>\n      <td>Lunch Plates</td>\n      <td>USD</td>\n      <td>2016-04-24T00:00:00Z</td>\n      <td>NaN</td>\n      <td>Tuna Tartare Taco</td>\n      <td>Hubbard Inn</td>\n      <td>IL</td>\n    </tr>\n  </tbody>\n</table>\n<p>19542 rows × 16 columns</p>\n</div>"
     },
     "execution_count": 46,
     "metadata": {},
     "output_type": "execute_result"
    }
   ],
   "source": [
    "df_1[df_1['dateAdded'].dt.month == 10]"
   ],
   "metadata": {
    "collapsed": false,
    "ExecuteTime": {
     "end_time": "2023-11-30T11:03:14.525716700Z",
     "start_time": "2023-11-30T11:03:14.503302900Z"
    }
   },
   "id": "aceb795e5e66e3e7"
  },
  {
   "cell_type": "markdown",
   "source": [],
   "metadata": {
    "collapsed": false
   },
   "id": "c57fd66c17f6c66d"
  },
  {
   "cell_type": "code",
   "execution_count": 53,
   "outputs": [],
   "source": [
    "# Можно использовать .dt.month, чтобы сгруппировать по месяцам\n",
    "dateAdded = df_1.groupby(df_1['dateAdded'].dt.month)\n",
    "result = df_1.groupby(df_1['dateAdded'].dt.month).nunique()"
   ],
   "metadata": {
    "collapsed": false,
    "ExecuteTime": {
     "end_time": "2023-11-30T11:12:53.308488100Z",
     "start_time": "2023-11-30T11:12:53.109491900Z"
    }
   },
   "id": "873c536e5ccf896b"
  },
  {
   "cell_type": "code",
   "execution_count": 52,
   "outputs": [
    {
     "data": {
      "text/plain": "             id  address  categories  city  cuisines  dateAdded  dateUpdated  \\\ndateAdded                                                                      \n1           308      308         249   208        98        306          308   \n2           257      257         237   170        93        256          257   \n3          4970     4949        2401  1344       383       4285         4742   \n4          3224     3204        1538  1553       374       3041         3150   \n5          1141     1127         721   679       200       1121         1134   \n6          1356     1350         636   710       187       1281         1324   \n7           645      641         310   442       184        628          641   \n8           479      475         104   272       255        442          462   \n9           554      554         354   320        86        543          539   \n10         4716     4697        2491  1850       487       4331         4595   \n11         1550     1547        1036   853       206       1494         1526   \n12          239      239         172   195        49        237          235   \n\n           latitude  longitude  menus.category  menus.currency  \\\ndateAdded                                                        \n1               282        282              33               1   \n2               229        229              26               1   \n3              3335       3333             122               1   \n4              2292       2292             202               2   \n5               848        848              56               1   \n6              1151       1151              73               1   \n7               620        620             161               1   \n8               472        472             309               1   \n9               404        404              41               1   \n10             3615       3616             334               1   \n11             1284       1283              69               1   \n12              215        215               8               1   \n\n           menus.dateSeen  menus.description  menus.name  name  province  \ndateAdded                                                                 \n1                     324                374         593   228        84  \n2                     266                326         589   224        82  \n3                    4948               4389        5755  2835        99  \n4                    3243               2791        3646  1858       207  \n5                    1196               1254        1751   860       303  \n6                    1457               1465        1911   790       311  \n7                     534                748        1057   464       201  \n8                     131                740         898   454       159  \n9                     568                525        1004   381       121  \n10                   4799               4760        5958  2910       487  \n11                   1598               1356        1862   842       188  \n12                    246                242         488   155        85  ",
      "text/html": "<div>\n<style scoped>\n    .dataframe tbody tr th:only-of-type {\n        vertical-align: middle;\n    }\n\n    .dataframe tbody tr th {\n        vertical-align: top;\n    }\n\n    .dataframe thead th {\n        text-align: right;\n    }\n</style>\n<table border=\"1\" class=\"dataframe\">\n  <thead>\n    <tr style=\"text-align: right;\">\n      <th></th>\n      <th>id</th>\n      <th>address</th>\n      <th>categories</th>\n      <th>city</th>\n      <th>cuisines</th>\n      <th>dateAdded</th>\n      <th>dateUpdated</th>\n      <th>latitude</th>\n      <th>longitude</th>\n      <th>menus.category</th>\n      <th>menus.currency</th>\n      <th>menus.dateSeen</th>\n      <th>menus.description</th>\n      <th>menus.name</th>\n      <th>name</th>\n      <th>province</th>\n    </tr>\n    <tr>\n      <th>dateAdded</th>\n      <th></th>\n      <th></th>\n      <th></th>\n      <th></th>\n      <th></th>\n      <th></th>\n      <th></th>\n      <th></th>\n      <th></th>\n      <th></th>\n      <th></th>\n      <th></th>\n      <th></th>\n      <th></th>\n      <th></th>\n      <th></th>\n    </tr>\n  </thead>\n  <tbody>\n    <tr>\n      <th>1</th>\n      <td>308</td>\n      <td>308</td>\n      <td>249</td>\n      <td>208</td>\n      <td>98</td>\n      <td>306</td>\n      <td>308</td>\n      <td>282</td>\n      <td>282</td>\n      <td>33</td>\n      <td>1</td>\n      <td>324</td>\n      <td>374</td>\n      <td>593</td>\n      <td>228</td>\n      <td>84</td>\n    </tr>\n    <tr>\n      <th>2</th>\n      <td>257</td>\n      <td>257</td>\n      <td>237</td>\n      <td>170</td>\n      <td>93</td>\n      <td>256</td>\n      <td>257</td>\n      <td>229</td>\n      <td>229</td>\n      <td>26</td>\n      <td>1</td>\n      <td>266</td>\n      <td>326</td>\n      <td>589</td>\n      <td>224</td>\n      <td>82</td>\n    </tr>\n    <tr>\n      <th>3</th>\n      <td>4970</td>\n      <td>4949</td>\n      <td>2401</td>\n      <td>1344</td>\n      <td>383</td>\n      <td>4285</td>\n      <td>4742</td>\n      <td>3335</td>\n      <td>3333</td>\n      <td>122</td>\n      <td>1</td>\n      <td>4948</td>\n      <td>4389</td>\n      <td>5755</td>\n      <td>2835</td>\n      <td>99</td>\n    </tr>\n    <tr>\n      <th>4</th>\n      <td>3224</td>\n      <td>3204</td>\n      <td>1538</td>\n      <td>1553</td>\n      <td>374</td>\n      <td>3041</td>\n      <td>3150</td>\n      <td>2292</td>\n      <td>2292</td>\n      <td>202</td>\n      <td>2</td>\n      <td>3243</td>\n      <td>2791</td>\n      <td>3646</td>\n      <td>1858</td>\n      <td>207</td>\n    </tr>\n    <tr>\n      <th>5</th>\n      <td>1141</td>\n      <td>1127</td>\n      <td>721</td>\n      <td>679</td>\n      <td>200</td>\n      <td>1121</td>\n      <td>1134</td>\n      <td>848</td>\n      <td>848</td>\n      <td>56</td>\n      <td>1</td>\n      <td>1196</td>\n      <td>1254</td>\n      <td>1751</td>\n      <td>860</td>\n      <td>303</td>\n    </tr>\n    <tr>\n      <th>6</th>\n      <td>1356</td>\n      <td>1350</td>\n      <td>636</td>\n      <td>710</td>\n      <td>187</td>\n      <td>1281</td>\n      <td>1324</td>\n      <td>1151</td>\n      <td>1151</td>\n      <td>73</td>\n      <td>1</td>\n      <td>1457</td>\n      <td>1465</td>\n      <td>1911</td>\n      <td>790</td>\n      <td>311</td>\n    </tr>\n    <tr>\n      <th>7</th>\n      <td>645</td>\n      <td>641</td>\n      <td>310</td>\n      <td>442</td>\n      <td>184</td>\n      <td>628</td>\n      <td>641</td>\n      <td>620</td>\n      <td>620</td>\n      <td>161</td>\n      <td>1</td>\n      <td>534</td>\n      <td>748</td>\n      <td>1057</td>\n      <td>464</td>\n      <td>201</td>\n    </tr>\n    <tr>\n      <th>8</th>\n      <td>479</td>\n      <td>475</td>\n      <td>104</td>\n      <td>272</td>\n      <td>255</td>\n      <td>442</td>\n      <td>462</td>\n      <td>472</td>\n      <td>472</td>\n      <td>309</td>\n      <td>1</td>\n      <td>131</td>\n      <td>740</td>\n      <td>898</td>\n      <td>454</td>\n      <td>159</td>\n    </tr>\n    <tr>\n      <th>9</th>\n      <td>554</td>\n      <td>554</td>\n      <td>354</td>\n      <td>320</td>\n      <td>86</td>\n      <td>543</td>\n      <td>539</td>\n      <td>404</td>\n      <td>404</td>\n      <td>41</td>\n      <td>1</td>\n      <td>568</td>\n      <td>525</td>\n      <td>1004</td>\n      <td>381</td>\n      <td>121</td>\n    </tr>\n    <tr>\n      <th>10</th>\n      <td>4716</td>\n      <td>4697</td>\n      <td>2491</td>\n      <td>1850</td>\n      <td>487</td>\n      <td>4331</td>\n      <td>4595</td>\n      <td>3615</td>\n      <td>3616</td>\n      <td>334</td>\n      <td>1</td>\n      <td>4799</td>\n      <td>4760</td>\n      <td>5958</td>\n      <td>2910</td>\n      <td>487</td>\n    </tr>\n    <tr>\n      <th>11</th>\n      <td>1550</td>\n      <td>1547</td>\n      <td>1036</td>\n      <td>853</td>\n      <td>206</td>\n      <td>1494</td>\n      <td>1526</td>\n      <td>1284</td>\n      <td>1283</td>\n      <td>69</td>\n      <td>1</td>\n      <td>1598</td>\n      <td>1356</td>\n      <td>1862</td>\n      <td>842</td>\n      <td>188</td>\n    </tr>\n    <tr>\n      <th>12</th>\n      <td>239</td>\n      <td>239</td>\n      <td>172</td>\n      <td>195</td>\n      <td>49</td>\n      <td>237</td>\n      <td>235</td>\n      <td>215</td>\n      <td>215</td>\n      <td>8</td>\n      <td>1</td>\n      <td>246</td>\n      <td>242</td>\n      <td>488</td>\n      <td>155</td>\n      <td>85</td>\n    </tr>\n  </tbody>\n</table>\n</div>"
     },
     "execution_count": 52,
     "metadata": {},
     "output_type": "execute_result"
    }
   ],
   "source": [
    "result"
   ],
   "metadata": {
    "collapsed": false,
    "ExecuteTime": {
     "end_time": "2023-11-30T11:11:40.536774500Z",
     "start_time": "2023-11-30T11:11:40.528257500Z"
    }
   },
   "id": "245cefaf4590db90"
  },
  {
   "cell_type": "markdown",
   "source": [],
   "metadata": {
    "collapsed": false
   },
   "id": "cf4ca2f45fe040d9"
  },
  {
   "cell_type": "code",
   "execution_count": 65,
   "outputs": [],
   "source": [
    "result = df_1.groupby(df_1['dateAdded'].dt.month)['dateAdded'].nunique()\n"
   ],
   "metadata": {
    "collapsed": false,
    "ExecuteTime": {
     "end_time": "2023-11-30T11:19:31.308230600Z",
     "start_time": "2023-11-30T11:19:31.280238100Z"
    }
   },
   "id": "955210b493327408"
  },
  {
   "cell_type": "code",
   "execution_count": 66,
   "outputs": [
    {
     "data": {
      "text/plain": "dateAdded\n1      306\n2      256\n3     4285\n4     3041\n5     1121\n6     1281\n7      628\n8      442\n9      543\n10    4331\n11    1494\n12     237\nName: dateAdded, dtype: int64"
     },
     "execution_count": 66,
     "metadata": {},
     "output_type": "execute_result"
    }
   ],
   "source": [
    "result"
   ],
   "metadata": {
    "collapsed": false,
    "ExecuteTime": {
     "end_time": "2023-11-30T11:19:33.339157100Z",
     "start_time": "2023-11-30T11:19:33.330643200Z"
    }
   },
   "id": "4baee0fa98380bd8"
  },
  {
   "cell_type": "markdown",
   "source": [],
   "metadata": {
    "collapsed": false
   },
   "id": "484693b24a22b974"
  },
  {
   "cell_type": "markdown",
   "source": [
    "Задание 15\n",
    "Сделайте группировку по месяцу открытия ресторана (переменная dateAdded). Сколько ресторанов было открыто в каждом месяце? Рассчитайте по количеству уникальных id ресторанов в каждом месяце. Значения dateAdded должны при этом быть индексами. Результирующий датафрейм сохраните в result\n"
   ],
   "metadata": {
    "collapsed": false
   },
   "id": "edddfaea4808974f"
  },
  {
   "cell_type": "code",
   "execution_count": 76,
   "outputs": [],
   "source": [
    "dateAdd = df_1.groupby(df_1['dateAdded'].dt.month)\n",
    "result = dateAdd['id'].nunique().to_frame()"
   ],
   "metadata": {
    "collapsed": false,
    "ExecuteTime": {
     "end_time": "2023-11-30T11:26:49.645615100Z",
     "start_time": "2023-11-30T11:26:49.628684800Z"
    }
   },
   "id": "f9df4d125efc50eb"
  },
  {
   "cell_type": "code",
   "execution_count": 77,
   "outputs": [
    {
     "data": {
      "text/plain": "             id\ndateAdded      \n1           308\n2           257\n3          4970\n4          3224\n5          1141\n6          1356\n7           645\n8           479\n9           554\n10         4716\n11         1550\n12          239",
      "text/html": "<div>\n<style scoped>\n    .dataframe tbody tr th:only-of-type {\n        vertical-align: middle;\n    }\n\n    .dataframe tbody tr th {\n        vertical-align: top;\n    }\n\n    .dataframe thead th {\n        text-align: right;\n    }\n</style>\n<table border=\"1\" class=\"dataframe\">\n  <thead>\n    <tr style=\"text-align: right;\">\n      <th></th>\n      <th>id</th>\n    </tr>\n    <tr>\n      <th>dateAdded</th>\n      <th></th>\n    </tr>\n  </thead>\n  <tbody>\n    <tr>\n      <th>1</th>\n      <td>308</td>\n    </tr>\n    <tr>\n      <th>2</th>\n      <td>257</td>\n    </tr>\n    <tr>\n      <th>3</th>\n      <td>4970</td>\n    </tr>\n    <tr>\n      <th>4</th>\n      <td>3224</td>\n    </tr>\n    <tr>\n      <th>5</th>\n      <td>1141</td>\n    </tr>\n    <tr>\n      <th>6</th>\n      <td>1356</td>\n    </tr>\n    <tr>\n      <th>7</th>\n      <td>645</td>\n    </tr>\n    <tr>\n      <th>8</th>\n      <td>479</td>\n    </tr>\n    <tr>\n      <th>9</th>\n      <td>554</td>\n    </tr>\n    <tr>\n      <th>10</th>\n      <td>4716</td>\n    </tr>\n    <tr>\n      <th>11</th>\n      <td>1550</td>\n    </tr>\n    <tr>\n      <th>12</th>\n      <td>239</td>\n    </tr>\n  </tbody>\n</table>\n</div>"
     },
     "execution_count": 77,
     "metadata": {},
     "output_type": "execute_result"
    }
   ],
   "source": [
    "result"
   ],
   "metadata": {
    "collapsed": false,
    "ExecuteTime": {
     "end_time": "2023-11-30T11:26:50.952615200Z",
     "start_time": "2023-11-30T11:26:50.944102300Z"
    }
   },
   "id": "a6408c8e7cfad2db"
  },
  {
   "cell_type": "code",
   "execution_count": 74,
   "outputs": [
    {
     "name": "stdout",
     "output_type": "stream",
     "text": [
      "              restaurants_opened\n",
      "month_opened                    \n",
      "2014-01                       73\n",
      "2014-02                       33\n",
      "2014-06                        1\n",
      "2014-08                        1\n",
      "2014-09                        3\n",
      "2014-10                       48\n",
      "2014-11                        3\n",
      "2015-01                       14\n",
      "2015-02                       42\n",
      "2015-03                        2\n",
      "2015-04                       16\n",
      "2015-05                       15\n",
      "2015-06                       59\n",
      "2015-07                      175\n",
      "2015-08                       21\n",
      "2015-09                      495\n",
      "2015-10                     4443\n",
      "2015-11                     1476\n",
      "2015-12                      190\n",
      "2016-01                      157\n",
      "2016-02                      120\n",
      "2016-03                     4922\n",
      "2016-04                     3137\n",
      "2016-05                     1126\n",
      "2016-06                     1212\n",
      "2016-07                      470\n",
      "2016-08                      457\n",
      "2016-09                       56\n",
      "2016-10                      225\n",
      "2016-11                       71\n",
      "2016-12                       49\n",
      "2017-01                       64\n",
      "2017-02                       62\n",
      "2017-03                       46\n",
      "2017-04                       71\n",
      "2017-06                       84\n"
     ]
    },
    {
     "name": "stderr",
     "output_type": "stream",
     "text": [
      "C:\\Temp\\ipykernel_12816\\2512645445.py:2: UserWarning: Converting to PeriodArray/Index representation will drop timezone information.\n",
      "  df_1['month_opened'] = df_1['dateAdded'].dt.to_period('M')\n"
     ]
    }
   ],
   "source": [
    "#correct resolve\n",
    "result = data.groupby(data['dateAdded'].dt.month).agg({'id': 'nunique'})"
   ],
   "metadata": {
    "collapsed": false,
    "ExecuteTime": {
     "end_time": "2023-11-30T11:24:46.818352600Z",
     "start_time": "2023-11-30T11:24:46.790764400Z"
    }
   },
   "id": "a6d4428d69ea727f"
  },
  {
   "cell_type": "markdown",
   "source": [
    "Задание 16\n",
    "В этом задании нужно добавить столбец update_deltaс количеством целых дней, полученных от разницы между dateUpdated и dateAdded.\n",
    "\n",
    "Потом для каждого города найдите (в указанном порядке):\n",
    "\n",
    "- среднее по переменной update_delta\n",
    "\n",
    "- широту самой северной закусочной (чем севернее расположена закусочная, тем больше будет значение широты)\n",
    "\n",
    " Названия городов не должны быть индексами. Сохраните результирующий датафрейм в переменную result.  Также сохраните в переменную zep_mean среднее значение update_delta по городу Zephyrhills."
   ],
   "metadata": {
    "collapsed": false
   },
   "id": "5043651e2d1ef92a"
  },
  {
   "cell_type": "code",
   "execution_count": 140,
   "outputs": [],
   "source": [
    "df_1['update_delta'] = (df_1['dateUpdated'] - df_1['dateAdded']).dt.days"
   ],
   "metadata": {
    "collapsed": false,
    "ExecuteTime": {
     "end_time": "2023-11-30T21:15:54.067481600Z",
     "start_time": "2023-11-30T21:15:54.038209600Z"
    }
   },
   "id": "9acf426590732aa9"
  },
  {
   "cell_type": "code",
   "execution_count": 141,
   "outputs": [
    {
     "data": {
      "text/plain": "count    77260.000000\nmean       326.224566\nstd        219.429051\nmin          0.000000\n25%        149.000000\n50%        364.000000\n75%        466.000000\nmax       1276.000000\nName: update_delta, dtype: float64"
     },
     "execution_count": 141,
     "metadata": {},
     "output_type": "execute_result"
    }
   ],
   "source": [
    "df_1['update_delta'].describe()"
   ],
   "metadata": {
    "collapsed": false,
    "ExecuteTime": {
     "end_time": "2023-11-30T21:15:57.150027500Z",
     "start_time": "2023-11-30T21:15:57.137726200Z"
    }
   },
   "id": "35f94c71f2a853f"
  },
  {
   "cell_type": "code",
   "execution_count": 142,
   "outputs": [
    {
     "data": {
      "text/plain": "364.0"
     },
     "execution_count": 142,
     "metadata": {},
     "output_type": "execute_result"
    }
   ],
   "source": [
    "df_1['update_delta'].median()"
   ],
   "metadata": {
    "collapsed": false,
    "ExecuteTime": {
     "end_time": "2023-11-30T21:16:04.094741Z",
     "start_time": "2023-11-30T21:16:04.056639100Z"
    }
   },
   "id": "1d3e1a8346de12f2"
  },
  {
   "cell_type": "code",
   "execution_count": 114,
   "outputs": [
    {
     "data": {
      "text/plain": "              city  update_delta\n0        Abbeville    -12.000000\n1         Aberdeen     -1.625000\n2          Abilene     19.136364\n3         Abingdon      1.000000\n4         Abington      1.000000\n...            ...           ...\n3596       Zebulon      0.000000\n3597   Zephyr Cove      1.500000\n3598   Zephyrhills     11.347826\n3599  Zieglerville     18.000000\n3600    Zionsville      0.500000\n\n[3601 rows x 2 columns]",
      "text/html": "<div>\n<style scoped>\n    .dataframe tbody tr th:only-of-type {\n        vertical-align: middle;\n    }\n\n    .dataframe tbody tr th {\n        vertical-align: top;\n    }\n\n    .dataframe thead th {\n        text-align: right;\n    }\n</style>\n<table border=\"1\" class=\"dataframe\">\n  <thead>\n    <tr style=\"text-align: right;\">\n      <th></th>\n      <th>city</th>\n      <th>update_delta</th>\n    </tr>\n  </thead>\n  <tbody>\n    <tr>\n      <th>0</th>\n      <td>Abbeville</td>\n      <td>-12.000000</td>\n    </tr>\n    <tr>\n      <th>1</th>\n      <td>Aberdeen</td>\n      <td>-1.625000</td>\n    </tr>\n    <tr>\n      <th>2</th>\n      <td>Abilene</td>\n      <td>19.136364</td>\n    </tr>\n    <tr>\n      <th>3</th>\n      <td>Abingdon</td>\n      <td>1.000000</td>\n    </tr>\n    <tr>\n      <th>4</th>\n      <td>Abington</td>\n      <td>1.000000</td>\n    </tr>\n    <tr>\n      <th>...</th>\n      <td>...</td>\n      <td>...</td>\n    </tr>\n    <tr>\n      <th>3596</th>\n      <td>Zebulon</td>\n      <td>0.000000</td>\n    </tr>\n    <tr>\n      <th>3597</th>\n      <td>Zephyr Cove</td>\n      <td>1.500000</td>\n    </tr>\n    <tr>\n      <th>3598</th>\n      <td>Zephyrhills</td>\n      <td>11.347826</td>\n    </tr>\n    <tr>\n      <th>3599</th>\n      <td>Zieglerville</td>\n      <td>18.000000</td>\n    </tr>\n    <tr>\n      <th>3600</th>\n      <td>Zionsville</td>\n      <td>0.500000</td>\n    </tr>\n  </tbody>\n</table>\n<p>3601 rows × 2 columns</p>\n</div>"
     },
     "execution_count": 114,
     "metadata": {},
     "output_type": "execute_result"
    }
   ],
   "source": [
    "df_1.groupby(df_1['city'], as_index=False).agg({'update_delta': 'mean'})"
   ],
   "metadata": {
    "collapsed": false,
    "ExecuteTime": {
     "end_time": "2023-11-30T12:58:35.917791100Z",
     "start_time": "2023-11-30T12:58:35.889634400Z"
    }
   },
   "id": "1646a125fcd99df7"
  },
  {
   "cell_type": "code",
   "execution_count": 94,
   "outputs": [
    {
     "data": {
      "text/plain": "                         id                   address  \\\n0      AVwc__cikufWRAb51QjV         610 Commercial St   \n1      AVwc__cikufWRAb51QjV         610 Commercial St   \n2      AVwc__dF_7pvs4fz1Ncy      9521 Morton Davis Dr   \n3      AVwc__kCByjofQCxkdm-  10550 W I 25 Frontage Rd   \n4      AVwc__WtByjofQCxkdkR             8495 W 3rd St   \n...                     ...                       ...   \n77255  AVzRLlQNLD2H7whiWdH_             3919 24th St.   \n77256  AVzRLlQNLD2H7whiWdH_             3919 24th St.   \n77257  AVzRLlQNLD2H7whiWdH_             3919 24th St.   \n77258  AVzRLlQNLD2H7whiWdH_             3919 24th St.   \n77259  AVzRLlQNLD2H7whiWdH_             3919 24th St.   \n\n                                              categories           city  \\\n0      Restaurant Delivery Service,Restaurants,Pizza,...       Atchison   \n1      Restaurant Delivery Service,Restaurants,Pizza,...       Atchison   \n2           Golf Course, American Restaurant, and Resort      Patterson   \n3                                   Fast Food Restaurant       Longmont   \n4      Mexican Restaurant Mid-City West,Mexican Resta...    Los Angeles   \n...                                                  ...            ...   \n77255                                         Restaurant  San Francisco   \n77256                                         Restaurant  San Francisco   \n77257                                         Restaurant  San Francisco   \n77258                                         Restaurant  San Francisco   \n77259                                         Restaurant  San Francisco   \n\n                          cuisines                 dateAdded  \\\n0      Restaurant Delivery Service 2016-03-02 11:49:34+00:00   \n1      Restaurant Delivery Service 2016-03-02 11:49:34+00:00   \n2                              NaN 2016-10-14 01:58:25+00:00   \n3                              NaN 2016-09-09 17:30:34+00:00   \n4                          Mexican 2016-05-19 11:50:25+00:00   \n...                            ...                       ...   \n77255                      Mexican 2017-06-22 19:01:33+00:00   \n77256                      Mexican 2017-06-22 19:01:33+00:00   \n77257                      Mexican 2017-06-22 19:01:33+00:00   \n77258                      Mexican 2017-06-22 19:01:33+00:00   \n77259                      Mexican 2017-06-22 19:01:33+00:00   \n\n                    dateUpdated   latitude   longitude menus.category  \\\n0     2017-02-01 18:04:44+00:00  39.561570  -95.121020            NaN   \n1     2017-02-01 18:04:44+00:00  39.561570  -95.121020            NaN   \n2     2016-10-14 01:58:25+00:00  37.401855 -121.266703            NaN   \n3     2016-10-04 05:15:17+00:00        NaN         NaN            NaN   \n4     2016-09-11 00:06:37+00:00  34.080724 -118.389578            NaN   \n...                         ...        ...         ...            ...   \n77255 2017-06-22 19:01:33+00:00  37.751392 -122.430180            NaN   \n77256 2017-06-22 19:01:33+00:00  37.751392 -122.430180            NaN   \n77257 2017-06-22 19:01:33+00:00  37.751392 -122.430180            NaN   \n77258 2017-06-22 19:01:33+00:00  37.751392 -122.430180            NaN   \n77259 2017-06-22 19:01:33+00:00  37.751392 -122.430180            NaN   \n\n      menus.currency            menus.dateSeen  \\\n0                NaN      2017-02-01T18:04:44Z   \n1                NaN      2016-03-02T11:49:34Z   \n2                NaN      2016-10-14T01:58:25Z   \n3                NaN      2016-09-09T17:30:34Z   \n4                NaN      2016-05-19T11:50:25Z   \n...              ...                       ...   \n77255            USD  2017-06-22T16:40:06.448Z   \n77256            USD  2017-06-22T16:40:06.448Z   \n77257            USD  2017-06-22T16:40:06.448Z   \n77258            USD  2017-06-22T16:40:06.448Z   \n77259            USD  2017-06-22T16:40:06.448Z   \n\n                                       menus.description  \\\n0                                                    NaN   \n1      Beef, onion, cheddar cheese, lettuce,  refried...   \n2      Beef barbacoa or chicken, spanish rice, pico d...   \n3                                                    NaN   \n4      Wahoo, avocado, cabbage, pico de gallo  and av...   \n...                                                  ...   \n77255  meat, rice, beans, guacamole, sour cream, chee...   \n77256                 melted cheese, rice, beans & salsa   \n77257                                       meat & salsa   \n77258                          meat, rice, beans & salsa   \n77259  stuffed with rice, beans, meat, topped with en...   \n\n                     menus.name                               name  \\\n0                          Taco                    Gambino's Pizza   \n1                          Taco                    Gambino's Pizza   \n2              Smotherd Burrito  Diablo Grande Golf & Country Club   \n3               Sausage Burrito                         Mcdonald's   \n4             Wahoo Tacogrilled           Baja Fresh Mexican Grill   \n...                         ...                                ...   \n77255             Super Burrito                 La Casona Taqueria   \n77256  Steamed Broccoli Burrito                 La Casona Taqueria   \n77257              Regular Taco                 La Casona Taqueria   \n77258           Regular Burrito                 La Casona Taqueria   \n77259            Azteca Burrito                 La Casona Taqueria   \n\n           province  update_delta  \n0                KS             1  \n1                KS             1  \n2           Grayson             0  \n3             Niwot             5  \n4      Bicentennial             8  \n...             ...           ...  \n77255    California             0  \n77256    California             0  \n77257    California             0  \n77258    California             0  \n77259    California             0  \n\n[77260 rows x 17 columns]",
      "text/html": "<div>\n<style scoped>\n    .dataframe tbody tr th:only-of-type {\n        vertical-align: middle;\n    }\n\n    .dataframe tbody tr th {\n        vertical-align: top;\n    }\n\n    .dataframe thead th {\n        text-align: right;\n    }\n</style>\n<table border=\"1\" class=\"dataframe\">\n  <thead>\n    <tr style=\"text-align: right;\">\n      <th></th>\n      <th>id</th>\n      <th>address</th>\n      <th>categories</th>\n      <th>city</th>\n      <th>cuisines</th>\n      <th>dateAdded</th>\n      <th>dateUpdated</th>\n      <th>latitude</th>\n      <th>longitude</th>\n      <th>menus.category</th>\n      <th>menus.currency</th>\n      <th>menus.dateSeen</th>\n      <th>menus.description</th>\n      <th>menus.name</th>\n      <th>name</th>\n      <th>province</th>\n      <th>update_delta</th>\n    </tr>\n  </thead>\n  <tbody>\n    <tr>\n      <th>0</th>\n      <td>AVwc__cikufWRAb51QjV</td>\n      <td>610 Commercial St</td>\n      <td>Restaurant Delivery Service,Restaurants,Pizza,...</td>\n      <td>Atchison</td>\n      <td>Restaurant Delivery Service</td>\n      <td>2016-03-02 11:49:34+00:00</td>\n      <td>2017-02-01 18:04:44+00:00</td>\n      <td>39.561570</td>\n      <td>-95.121020</td>\n      <td>NaN</td>\n      <td>NaN</td>\n      <td>2017-02-01T18:04:44Z</td>\n      <td>NaN</td>\n      <td>Taco</td>\n      <td>Gambino's Pizza</td>\n      <td>KS</td>\n      <td>1</td>\n    </tr>\n    <tr>\n      <th>1</th>\n      <td>AVwc__cikufWRAb51QjV</td>\n      <td>610 Commercial St</td>\n      <td>Restaurant Delivery Service,Restaurants,Pizza,...</td>\n      <td>Atchison</td>\n      <td>Restaurant Delivery Service</td>\n      <td>2016-03-02 11:49:34+00:00</td>\n      <td>2017-02-01 18:04:44+00:00</td>\n      <td>39.561570</td>\n      <td>-95.121020</td>\n      <td>NaN</td>\n      <td>NaN</td>\n      <td>2016-03-02T11:49:34Z</td>\n      <td>Beef, onion, cheddar cheese, lettuce,  refried...</td>\n      <td>Taco</td>\n      <td>Gambino's Pizza</td>\n      <td>KS</td>\n      <td>1</td>\n    </tr>\n    <tr>\n      <th>2</th>\n      <td>AVwc__dF_7pvs4fz1Ncy</td>\n      <td>9521 Morton Davis Dr</td>\n      <td>Golf Course, American Restaurant, and Resort</td>\n      <td>Patterson</td>\n      <td>NaN</td>\n      <td>2016-10-14 01:58:25+00:00</td>\n      <td>2016-10-14 01:58:25+00:00</td>\n      <td>37.401855</td>\n      <td>-121.266703</td>\n      <td>NaN</td>\n      <td>NaN</td>\n      <td>2016-10-14T01:58:25Z</td>\n      <td>Beef barbacoa or chicken, spanish rice, pico d...</td>\n      <td>Smotherd Burrito</td>\n      <td>Diablo Grande Golf &amp; Country Club</td>\n      <td>Grayson</td>\n      <td>0</td>\n    </tr>\n    <tr>\n      <th>3</th>\n      <td>AVwc__kCByjofQCxkdm-</td>\n      <td>10550 W I 25 Frontage Rd</td>\n      <td>Fast Food Restaurant</td>\n      <td>Longmont</td>\n      <td>NaN</td>\n      <td>2016-09-09 17:30:34+00:00</td>\n      <td>2016-10-04 05:15:17+00:00</td>\n      <td>NaN</td>\n      <td>NaN</td>\n      <td>NaN</td>\n      <td>NaN</td>\n      <td>2016-09-09T17:30:34Z</td>\n      <td>NaN</td>\n      <td>Sausage Burrito</td>\n      <td>Mcdonald's</td>\n      <td>Niwot</td>\n      <td>5</td>\n    </tr>\n    <tr>\n      <th>4</th>\n      <td>AVwc__WtByjofQCxkdkR</td>\n      <td>8495 W 3rd St</td>\n      <td>Mexican Restaurant Mid-City West,Mexican Resta...</td>\n      <td>Los Angeles</td>\n      <td>Mexican</td>\n      <td>2016-05-19 11:50:25+00:00</td>\n      <td>2016-09-11 00:06:37+00:00</td>\n      <td>34.080724</td>\n      <td>-118.389578</td>\n      <td>NaN</td>\n      <td>NaN</td>\n      <td>2016-05-19T11:50:25Z</td>\n      <td>Wahoo, avocado, cabbage, pico de gallo  and av...</td>\n      <td>Wahoo Tacogrilled</td>\n      <td>Baja Fresh Mexican Grill</td>\n      <td>Bicentennial</td>\n      <td>8</td>\n    </tr>\n    <tr>\n      <th>...</th>\n      <td>...</td>\n      <td>...</td>\n      <td>...</td>\n      <td>...</td>\n      <td>...</td>\n      <td>...</td>\n      <td>...</td>\n      <td>...</td>\n      <td>...</td>\n      <td>...</td>\n      <td>...</td>\n      <td>...</td>\n      <td>...</td>\n      <td>...</td>\n      <td>...</td>\n      <td>...</td>\n      <td>...</td>\n    </tr>\n    <tr>\n      <th>77255</th>\n      <td>AVzRLlQNLD2H7whiWdH_</td>\n      <td>3919 24th St.</td>\n      <td>Restaurant</td>\n      <td>San Francisco</td>\n      <td>Mexican</td>\n      <td>2017-06-22 19:01:33+00:00</td>\n      <td>2017-06-22 19:01:33+00:00</td>\n      <td>37.751392</td>\n      <td>-122.430180</td>\n      <td>NaN</td>\n      <td>USD</td>\n      <td>2017-06-22T16:40:06.448Z</td>\n      <td>meat, rice, beans, guacamole, sour cream, chee...</td>\n      <td>Super Burrito</td>\n      <td>La Casona Taqueria</td>\n      <td>California</td>\n      <td>0</td>\n    </tr>\n    <tr>\n      <th>77256</th>\n      <td>AVzRLlQNLD2H7whiWdH_</td>\n      <td>3919 24th St.</td>\n      <td>Restaurant</td>\n      <td>San Francisco</td>\n      <td>Mexican</td>\n      <td>2017-06-22 19:01:33+00:00</td>\n      <td>2017-06-22 19:01:33+00:00</td>\n      <td>37.751392</td>\n      <td>-122.430180</td>\n      <td>NaN</td>\n      <td>USD</td>\n      <td>2017-06-22T16:40:06.448Z</td>\n      <td>melted cheese, rice, beans &amp; salsa</td>\n      <td>Steamed Broccoli Burrito</td>\n      <td>La Casona Taqueria</td>\n      <td>California</td>\n      <td>0</td>\n    </tr>\n    <tr>\n      <th>77257</th>\n      <td>AVzRLlQNLD2H7whiWdH_</td>\n      <td>3919 24th St.</td>\n      <td>Restaurant</td>\n      <td>San Francisco</td>\n      <td>Mexican</td>\n      <td>2017-06-22 19:01:33+00:00</td>\n      <td>2017-06-22 19:01:33+00:00</td>\n      <td>37.751392</td>\n      <td>-122.430180</td>\n      <td>NaN</td>\n      <td>USD</td>\n      <td>2017-06-22T16:40:06.448Z</td>\n      <td>meat &amp; salsa</td>\n      <td>Regular Taco</td>\n      <td>La Casona Taqueria</td>\n      <td>California</td>\n      <td>0</td>\n    </tr>\n    <tr>\n      <th>77258</th>\n      <td>AVzRLlQNLD2H7whiWdH_</td>\n      <td>3919 24th St.</td>\n      <td>Restaurant</td>\n      <td>San Francisco</td>\n      <td>Mexican</td>\n      <td>2017-06-22 19:01:33+00:00</td>\n      <td>2017-06-22 19:01:33+00:00</td>\n      <td>37.751392</td>\n      <td>-122.430180</td>\n      <td>NaN</td>\n      <td>USD</td>\n      <td>2017-06-22T16:40:06.448Z</td>\n      <td>meat, rice, beans &amp; salsa</td>\n      <td>Regular Burrito</td>\n      <td>La Casona Taqueria</td>\n      <td>California</td>\n      <td>0</td>\n    </tr>\n    <tr>\n      <th>77259</th>\n      <td>AVzRLlQNLD2H7whiWdH_</td>\n      <td>3919 24th St.</td>\n      <td>Restaurant</td>\n      <td>San Francisco</td>\n      <td>Mexican</td>\n      <td>2017-06-22 19:01:33+00:00</td>\n      <td>2017-06-22 19:01:33+00:00</td>\n      <td>37.751392</td>\n      <td>-122.430180</td>\n      <td>NaN</td>\n      <td>USD</td>\n      <td>2017-06-22T16:40:06.448Z</td>\n      <td>stuffed with rice, beans, meat, topped with en...</td>\n      <td>Azteca Burrito</td>\n      <td>La Casona Taqueria</td>\n      <td>California</td>\n      <td>0</td>\n    </tr>\n  </tbody>\n</table>\n<p>77260 rows × 17 columns</p>\n</div>"
     },
     "execution_count": 94,
     "metadata": {},
     "output_type": "execute_result"
    }
   ],
   "source": [
    "df_1"
   ],
   "metadata": {
    "collapsed": false,
    "ExecuteTime": {
     "end_time": "2023-11-30T12:35:03.207392900Z",
     "start_time": "2023-11-30T12:35:03.163556100Z"
    }
   },
   "id": "171efa9580792cea"
  },
  {
   "cell_type": "code",
   "execution_count": 119,
   "outputs": [],
   "source": [
    "df_1.groupby('city', as_index=False).agg({'latitude': 'max'})"
   ],
   "metadata": {
    "collapsed": false,
    "ExecuteTime": {
     "end_time": "2023-11-30T20:26:19.015602500Z",
     "start_time": "2023-11-30T20:26:18.999616700Z"
    }
   },
   "id": "6212085519d918f7"
  },
  {
   "cell_type": "code",
   "execution_count": 120,
   "outputs": [],
   "source": [
    "zep_mean = df_1[df_1['city'] == 'Zephyrhills']['update_delta'].mean()"
   ],
   "metadata": {
    "collapsed": false,
    "ExecuteTime": {
     "end_time": "2023-11-30T20:26:21.128679100Z",
     "start_time": "2023-11-30T20:26:21.123163300Z"
    }
   },
   "id": "b9a14439f601371f"
  },
  {
   "cell_type": "code",
   "execution_count": 121,
   "outputs": [
    {
     "data": {
      "text/plain": "11.347826086956522"
     },
     "execution_count": 121,
     "metadata": {},
     "output_type": "execute_result"
    }
   ],
   "source": [
    "zep_mean"
   ],
   "metadata": {
    "collapsed": false,
    "ExecuteTime": {
     "end_time": "2023-11-30T20:26:21.789418100Z",
     "start_time": "2023-11-30T20:26:21.785893900Z"
    }
   },
   "id": "4ddd0523829d9c10"
  },
  {
   "cell_type": "code",
   "execution_count": null,
   "outputs": [],
   "source": [
    "#correct resolve\n",
    "data['update_delta'] = (data['dateUpdated'] - data['dateAdded']).dt.days\n",
    "result = data.groupby('city', as_index=False).agg({'update_delta': 'mean', 'latitude': 'max'})\n",
    "# через .loc можно писать в одних [] сразу и условие, и желаемые колонки\n",
    "# вот так: .loc[условие, колонки]\n",
    "zep_mean = data.loc[data['city'] == 'Zephyrhills', 'update_delta'].mean()"
   ],
   "metadata": {
    "collapsed": false
   },
   "id": "3e789468ba39168c"
  },
  {
   "cell_type": "code",
   "execution_count": 122,
   "outputs": [
    {
     "data": {
      "text/plain": "              city   latitude\n0        Abbeville  29.982108\n1         Aberdeen  46.975110\n2          Abilene  32.453090\n3         Abingdon  36.712800\n4         Abington  40.124851\n...            ...        ...\n3596       Zebulon  33.102090\n3597   Zephyr Cove  38.984947\n3598   Zephyrhills  28.271183\n3599  Zieglerville  40.291611\n3600    Zionsville  39.954970\n\n[3601 rows x 2 columns]",
      "text/html": "<div>\n<style scoped>\n    .dataframe tbody tr th:only-of-type {\n        vertical-align: middle;\n    }\n\n    .dataframe tbody tr th {\n        vertical-align: top;\n    }\n\n    .dataframe thead th {\n        text-align: right;\n    }\n</style>\n<table border=\"1\" class=\"dataframe\">\n  <thead>\n    <tr style=\"text-align: right;\">\n      <th></th>\n      <th>city</th>\n      <th>latitude</th>\n    </tr>\n  </thead>\n  <tbody>\n    <tr>\n      <th>0</th>\n      <td>Abbeville</td>\n      <td>29.982108</td>\n    </tr>\n    <tr>\n      <th>1</th>\n      <td>Aberdeen</td>\n      <td>46.975110</td>\n    </tr>\n    <tr>\n      <th>2</th>\n      <td>Abilene</td>\n      <td>32.453090</td>\n    </tr>\n    <tr>\n      <th>3</th>\n      <td>Abingdon</td>\n      <td>36.712800</td>\n    </tr>\n    <tr>\n      <th>4</th>\n      <td>Abington</td>\n      <td>40.124851</td>\n    </tr>\n    <tr>\n      <th>...</th>\n      <td>...</td>\n      <td>...</td>\n    </tr>\n    <tr>\n      <th>3596</th>\n      <td>Zebulon</td>\n      <td>33.102090</td>\n    </tr>\n    <tr>\n      <th>3597</th>\n      <td>Zephyr Cove</td>\n      <td>38.984947</td>\n    </tr>\n    <tr>\n      <th>3598</th>\n      <td>Zephyrhills</td>\n      <td>28.271183</td>\n    </tr>\n    <tr>\n      <th>3599</th>\n      <td>Zieglerville</td>\n      <td>40.291611</td>\n    </tr>\n    <tr>\n      <th>3600</th>\n      <td>Zionsville</td>\n      <td>39.954970</td>\n    </tr>\n  </tbody>\n</table>\n<p>3601 rows × 2 columns</p>\n</div>"
     },
     "execution_count": 122,
     "metadata": {},
     "output_type": "execute_result"
    }
   ],
   "source": [
    "result"
   ],
   "metadata": {
    "collapsed": false,
    "ExecuteTime": {
     "end_time": "2023-11-30T20:26:25.361379500Z",
     "start_time": "2023-11-30T20:26:25.332745200Z"
    }
   },
   "id": "80c37ec39270d52a"
  },
  {
   "cell_type": "code",
   "execution_count": 123,
   "outputs": [],
   "source": [
    "result = df_1"
   ],
   "metadata": {
    "collapsed": false,
    "ExecuteTime": {
     "end_time": "2023-11-30T20:26:50.731783400Z",
     "start_time": "2023-11-30T20:26:50.700775700Z"
    }
   },
   "id": "1edc51c7fb7767a1"
  },
  {
   "cell_type": "code",
   "execution_count": 124,
   "outputs": [
    {
     "data": {
      "text/plain": "                         id                   address  \\\n0      AVwc__cikufWRAb51QjV         610 Commercial St   \n1      AVwc__cikufWRAb51QjV         610 Commercial St   \n2      AVwc__dF_7pvs4fz1Ncy      9521 Morton Davis Dr   \n3      AVwc__kCByjofQCxkdm-  10550 W I 25 Frontage Rd   \n4      AVwc__WtByjofQCxkdkR             8495 W 3rd St   \n...                     ...                       ...   \n77255  AVzRLlQNLD2H7whiWdH_             3919 24th St.   \n77256  AVzRLlQNLD2H7whiWdH_             3919 24th St.   \n77257  AVzRLlQNLD2H7whiWdH_             3919 24th St.   \n77258  AVzRLlQNLD2H7whiWdH_             3919 24th St.   \n77259  AVzRLlQNLD2H7whiWdH_             3919 24th St.   \n\n                                              categories           city  \\\n0      Restaurant Delivery Service,Restaurants,Pizza,...       Atchison   \n1      Restaurant Delivery Service,Restaurants,Pizza,...       Atchison   \n2           Golf Course, American Restaurant, and Resort      Patterson   \n3                                   Fast Food Restaurant       Longmont   \n4      Mexican Restaurant Mid-City West,Mexican Resta...    Los Angeles   \n...                                                  ...            ...   \n77255                                         Restaurant  San Francisco   \n77256                                         Restaurant  San Francisco   \n77257                                         Restaurant  San Francisco   \n77258                                         Restaurant  San Francisco   \n77259                                         Restaurant  San Francisco   \n\n                          cuisines                 dateAdded  \\\n0      Restaurant Delivery Service 2016-03-02 11:49:34+00:00   \n1      Restaurant Delivery Service 2016-03-02 11:49:34+00:00   \n2                              NaN 2016-10-14 01:58:25+00:00   \n3                              NaN 2016-09-09 17:30:34+00:00   \n4                          Mexican 2016-05-19 11:50:25+00:00   \n...                            ...                       ...   \n77255                      Mexican 2017-06-22 19:01:33+00:00   \n77256                      Mexican 2017-06-22 19:01:33+00:00   \n77257                      Mexican 2017-06-22 19:01:33+00:00   \n77258                      Mexican 2017-06-22 19:01:33+00:00   \n77259                      Mexican 2017-06-22 19:01:33+00:00   \n\n                    dateUpdated   latitude   longitude menus.category  \\\n0     2017-02-01 18:04:44+00:00  39.561570  -95.121020            NaN   \n1     2017-02-01 18:04:44+00:00  39.561570  -95.121020            NaN   \n2     2016-10-14 01:58:25+00:00  37.401855 -121.266703            NaN   \n3     2016-10-04 05:15:17+00:00        NaN         NaN            NaN   \n4     2016-09-11 00:06:37+00:00  34.080724 -118.389578            NaN   \n...                         ...        ...         ...            ...   \n77255 2017-06-22 19:01:33+00:00  37.751392 -122.430180            NaN   \n77256 2017-06-22 19:01:33+00:00  37.751392 -122.430180            NaN   \n77257 2017-06-22 19:01:33+00:00  37.751392 -122.430180            NaN   \n77258 2017-06-22 19:01:33+00:00  37.751392 -122.430180            NaN   \n77259 2017-06-22 19:01:33+00:00  37.751392 -122.430180            NaN   \n\n      menus.currency            menus.dateSeen  \\\n0                NaN      2017-02-01T18:04:44Z   \n1                NaN      2016-03-02T11:49:34Z   \n2                NaN      2016-10-14T01:58:25Z   \n3                NaN      2016-09-09T17:30:34Z   \n4                NaN      2016-05-19T11:50:25Z   \n...              ...                       ...   \n77255            USD  2017-06-22T16:40:06.448Z   \n77256            USD  2017-06-22T16:40:06.448Z   \n77257            USD  2017-06-22T16:40:06.448Z   \n77258            USD  2017-06-22T16:40:06.448Z   \n77259            USD  2017-06-22T16:40:06.448Z   \n\n                                       menus.description  \\\n0                                                    NaN   \n1      Beef, onion, cheddar cheese, lettuce,  refried...   \n2      Beef barbacoa or chicken, spanish rice, pico d...   \n3                                                    NaN   \n4      Wahoo, avocado, cabbage, pico de gallo  and av...   \n...                                                  ...   \n77255  meat, rice, beans, guacamole, sour cream, chee...   \n77256                 melted cheese, rice, beans & salsa   \n77257                                       meat & salsa   \n77258                          meat, rice, beans & salsa   \n77259  stuffed with rice, beans, meat, topped with en...   \n\n                     menus.name                               name  \\\n0                          Taco                    Gambino's Pizza   \n1                          Taco                    Gambino's Pizza   \n2              Smotherd Burrito  Diablo Grande Golf & Country Club   \n3               Sausage Burrito                         Mcdonald's   \n4             Wahoo Tacogrilled           Baja Fresh Mexican Grill   \n...                         ...                                ...   \n77255             Super Burrito                 La Casona Taqueria   \n77256  Steamed Broccoli Burrito                 La Casona Taqueria   \n77257              Regular Taco                 La Casona Taqueria   \n77258           Regular Burrito                 La Casona Taqueria   \n77259            Azteca Burrito                 La Casona Taqueria   \n\n           province  update_delta  \n0                KS             1  \n1                KS             1  \n2           Grayson             0  \n3             Niwot             5  \n4      Bicentennial             8  \n...             ...           ...  \n77255    California             0  \n77256    California             0  \n77257    California             0  \n77258    California             0  \n77259    California             0  \n\n[77260 rows x 17 columns]",
      "text/html": "<div>\n<style scoped>\n    .dataframe tbody tr th:only-of-type {\n        vertical-align: middle;\n    }\n\n    .dataframe tbody tr th {\n        vertical-align: top;\n    }\n\n    .dataframe thead th {\n        text-align: right;\n    }\n</style>\n<table border=\"1\" class=\"dataframe\">\n  <thead>\n    <tr style=\"text-align: right;\">\n      <th></th>\n      <th>id</th>\n      <th>address</th>\n      <th>categories</th>\n      <th>city</th>\n      <th>cuisines</th>\n      <th>dateAdded</th>\n      <th>dateUpdated</th>\n      <th>latitude</th>\n      <th>longitude</th>\n      <th>menus.category</th>\n      <th>menus.currency</th>\n      <th>menus.dateSeen</th>\n      <th>menus.description</th>\n      <th>menus.name</th>\n      <th>name</th>\n      <th>province</th>\n      <th>update_delta</th>\n    </tr>\n  </thead>\n  <tbody>\n    <tr>\n      <th>0</th>\n      <td>AVwc__cikufWRAb51QjV</td>\n      <td>610 Commercial St</td>\n      <td>Restaurant Delivery Service,Restaurants,Pizza,...</td>\n      <td>Atchison</td>\n      <td>Restaurant Delivery Service</td>\n      <td>2016-03-02 11:49:34+00:00</td>\n      <td>2017-02-01 18:04:44+00:00</td>\n      <td>39.561570</td>\n      <td>-95.121020</td>\n      <td>NaN</td>\n      <td>NaN</td>\n      <td>2017-02-01T18:04:44Z</td>\n      <td>NaN</td>\n      <td>Taco</td>\n      <td>Gambino's Pizza</td>\n      <td>KS</td>\n      <td>1</td>\n    </tr>\n    <tr>\n      <th>1</th>\n      <td>AVwc__cikufWRAb51QjV</td>\n      <td>610 Commercial St</td>\n      <td>Restaurant Delivery Service,Restaurants,Pizza,...</td>\n      <td>Atchison</td>\n      <td>Restaurant Delivery Service</td>\n      <td>2016-03-02 11:49:34+00:00</td>\n      <td>2017-02-01 18:04:44+00:00</td>\n      <td>39.561570</td>\n      <td>-95.121020</td>\n      <td>NaN</td>\n      <td>NaN</td>\n      <td>2016-03-02T11:49:34Z</td>\n      <td>Beef, onion, cheddar cheese, lettuce,  refried...</td>\n      <td>Taco</td>\n      <td>Gambino's Pizza</td>\n      <td>KS</td>\n      <td>1</td>\n    </tr>\n    <tr>\n      <th>2</th>\n      <td>AVwc__dF_7pvs4fz1Ncy</td>\n      <td>9521 Morton Davis Dr</td>\n      <td>Golf Course, American Restaurant, and Resort</td>\n      <td>Patterson</td>\n      <td>NaN</td>\n      <td>2016-10-14 01:58:25+00:00</td>\n      <td>2016-10-14 01:58:25+00:00</td>\n      <td>37.401855</td>\n      <td>-121.266703</td>\n      <td>NaN</td>\n      <td>NaN</td>\n      <td>2016-10-14T01:58:25Z</td>\n      <td>Beef barbacoa or chicken, spanish rice, pico d...</td>\n      <td>Smotherd Burrito</td>\n      <td>Diablo Grande Golf &amp; Country Club</td>\n      <td>Grayson</td>\n      <td>0</td>\n    </tr>\n    <tr>\n      <th>3</th>\n      <td>AVwc__kCByjofQCxkdm-</td>\n      <td>10550 W I 25 Frontage Rd</td>\n      <td>Fast Food Restaurant</td>\n      <td>Longmont</td>\n      <td>NaN</td>\n      <td>2016-09-09 17:30:34+00:00</td>\n      <td>2016-10-04 05:15:17+00:00</td>\n      <td>NaN</td>\n      <td>NaN</td>\n      <td>NaN</td>\n      <td>NaN</td>\n      <td>2016-09-09T17:30:34Z</td>\n      <td>NaN</td>\n      <td>Sausage Burrito</td>\n      <td>Mcdonald's</td>\n      <td>Niwot</td>\n      <td>5</td>\n    </tr>\n    <tr>\n      <th>4</th>\n      <td>AVwc__WtByjofQCxkdkR</td>\n      <td>8495 W 3rd St</td>\n      <td>Mexican Restaurant Mid-City West,Mexican Resta...</td>\n      <td>Los Angeles</td>\n      <td>Mexican</td>\n      <td>2016-05-19 11:50:25+00:00</td>\n      <td>2016-09-11 00:06:37+00:00</td>\n      <td>34.080724</td>\n      <td>-118.389578</td>\n      <td>NaN</td>\n      <td>NaN</td>\n      <td>2016-05-19T11:50:25Z</td>\n      <td>Wahoo, avocado, cabbage, pico de gallo  and av...</td>\n      <td>Wahoo Tacogrilled</td>\n      <td>Baja Fresh Mexican Grill</td>\n      <td>Bicentennial</td>\n      <td>8</td>\n    </tr>\n    <tr>\n      <th>...</th>\n      <td>...</td>\n      <td>...</td>\n      <td>...</td>\n      <td>...</td>\n      <td>...</td>\n      <td>...</td>\n      <td>...</td>\n      <td>...</td>\n      <td>...</td>\n      <td>...</td>\n      <td>...</td>\n      <td>...</td>\n      <td>...</td>\n      <td>...</td>\n      <td>...</td>\n      <td>...</td>\n      <td>...</td>\n    </tr>\n    <tr>\n      <th>77255</th>\n      <td>AVzRLlQNLD2H7whiWdH_</td>\n      <td>3919 24th St.</td>\n      <td>Restaurant</td>\n      <td>San Francisco</td>\n      <td>Mexican</td>\n      <td>2017-06-22 19:01:33+00:00</td>\n      <td>2017-06-22 19:01:33+00:00</td>\n      <td>37.751392</td>\n      <td>-122.430180</td>\n      <td>NaN</td>\n      <td>USD</td>\n      <td>2017-06-22T16:40:06.448Z</td>\n      <td>meat, rice, beans, guacamole, sour cream, chee...</td>\n      <td>Super Burrito</td>\n      <td>La Casona Taqueria</td>\n      <td>California</td>\n      <td>0</td>\n    </tr>\n    <tr>\n      <th>77256</th>\n      <td>AVzRLlQNLD2H7whiWdH_</td>\n      <td>3919 24th St.</td>\n      <td>Restaurant</td>\n      <td>San Francisco</td>\n      <td>Mexican</td>\n      <td>2017-06-22 19:01:33+00:00</td>\n      <td>2017-06-22 19:01:33+00:00</td>\n      <td>37.751392</td>\n      <td>-122.430180</td>\n      <td>NaN</td>\n      <td>USD</td>\n      <td>2017-06-22T16:40:06.448Z</td>\n      <td>melted cheese, rice, beans &amp; salsa</td>\n      <td>Steamed Broccoli Burrito</td>\n      <td>La Casona Taqueria</td>\n      <td>California</td>\n      <td>0</td>\n    </tr>\n    <tr>\n      <th>77257</th>\n      <td>AVzRLlQNLD2H7whiWdH_</td>\n      <td>3919 24th St.</td>\n      <td>Restaurant</td>\n      <td>San Francisco</td>\n      <td>Mexican</td>\n      <td>2017-06-22 19:01:33+00:00</td>\n      <td>2017-06-22 19:01:33+00:00</td>\n      <td>37.751392</td>\n      <td>-122.430180</td>\n      <td>NaN</td>\n      <td>USD</td>\n      <td>2017-06-22T16:40:06.448Z</td>\n      <td>meat &amp; salsa</td>\n      <td>Regular Taco</td>\n      <td>La Casona Taqueria</td>\n      <td>California</td>\n      <td>0</td>\n    </tr>\n    <tr>\n      <th>77258</th>\n      <td>AVzRLlQNLD2H7whiWdH_</td>\n      <td>3919 24th St.</td>\n      <td>Restaurant</td>\n      <td>San Francisco</td>\n      <td>Mexican</td>\n      <td>2017-06-22 19:01:33+00:00</td>\n      <td>2017-06-22 19:01:33+00:00</td>\n      <td>37.751392</td>\n      <td>-122.430180</td>\n      <td>NaN</td>\n      <td>USD</td>\n      <td>2017-06-22T16:40:06.448Z</td>\n      <td>meat, rice, beans &amp; salsa</td>\n      <td>Regular Burrito</td>\n      <td>La Casona Taqueria</td>\n      <td>California</td>\n      <td>0</td>\n    </tr>\n    <tr>\n      <th>77259</th>\n      <td>AVzRLlQNLD2H7whiWdH_</td>\n      <td>3919 24th St.</td>\n      <td>Restaurant</td>\n      <td>San Francisco</td>\n      <td>Mexican</td>\n      <td>2017-06-22 19:01:33+00:00</td>\n      <td>2017-06-22 19:01:33+00:00</td>\n      <td>37.751392</td>\n      <td>-122.430180</td>\n      <td>NaN</td>\n      <td>USD</td>\n      <td>2017-06-22T16:40:06.448Z</td>\n      <td>stuffed with rice, beans, meat, topped with en...</td>\n      <td>Azteca Burrito</td>\n      <td>La Casona Taqueria</td>\n      <td>California</td>\n      <td>0</td>\n    </tr>\n  </tbody>\n</table>\n<p>77260 rows × 17 columns</p>\n</div>"
     },
     "execution_count": 124,
     "metadata": {},
     "output_type": "execute_result"
    }
   ],
   "source": [
    "result"
   ],
   "metadata": {
    "collapsed": false,
    "ExecuteTime": {
     "end_time": "2023-11-30T20:26:55.193954600Z",
     "start_time": "2023-11-30T20:26:55.156145700Z"
    }
   },
   "id": "9b07b0366c5a3999"
  },
  {
   "cell_type": "markdown",
   "source": [
    "Задание 17\n",
    "Отберите рестораны, у которых в колонке categories упоминается Pizza\n",
    "\n",
    "Укажите индекс 3-го элемента, полученного после фильтрации"
   ],
   "metadata": {
    "collapsed": false
   },
   "id": "8d01f8293b5097a2"
  },
  {
   "cell_type": "code",
   "execution_count": 128,
   "outputs": [
    {
     "data": {
      "text/plain": "                         id                     address  \\\n0      AVwc__cikufWRAb51QjV           610 Commercial St   \n1      AVwc__cikufWRAb51QjV           610 Commercial St   \n66     AVwc_59U_7pvs4fz1Md3            3250 Kennedy Cir   \n67     AVwc_59U_7pvs4fz1Md3            3250 Kennedy Cir   \n158    AVwc_AmZkufWRAb51FxA               133 Howard St   \n...                     ...                         ...   \n76256  AVweVOBFByjofQCxxRnN          3000 N Dinuba Blvd   \n76291  AVweVXD4ByjofQCxxS7L            35 N Farview Ave   \n76507  AVweWyOEkufWRAb5CNJU  1516 E Historic Highway 66   \n76669  AVweXxalByjofQCxxnWC        1895 Washington Blvd   \n76709  AVweYFH-ByjofQCxxqHG              620 Water St S   \n\n                                              categories        city  \\\n0      Restaurant Delivery Service,Restaurants,Pizza,...    Atchison   \n1      Restaurant Delivery Service,Restaurants,Pizza,...    Atchison   \n66     Pizza,Take Out Restaurants,Caterers,Restaurant...     Dubuque   \n67     Pizza,Take Out Restaurants,Caterers,Restaurant...     Dubuque   \n158                                    Pizza,Restaurants   Braintree   \n...                                                  ...         ...   \n76256  Latin American Restaurants,Take Out Restaurant...     Visalia   \n76291                     Italian Restaurant,Pizza Place     Paramus   \n76507  Take Out Restaurants,Restaurants,Italian Resta...      Gallup   \n76669                Bars,Restaurants,Bar & Grills,Pizza       Ogden   \n76709  Bars,Pizza,Italian Restaurants,Family Style Re...  Northfield   \n\n                                 cuisines                 dateAdded  \\\n0             Restaurant Delivery Service 2016-03-02 11:49:34+00:00   \n1             Restaurant Delivery Service 2016-03-02 11:49:34+00:00   \n66                                  Pizza 2016-03-29 04:45:06+00:00   \n67                                  Pizza 2016-03-29 04:45:06+00:00   \n158                                 Pizza 2016-09-19 17:43:53+00:00   \n...                                   ...                       ...   \n76256  Latin American Restaurants,Mexican 2016-07-06 20:48:02+00:00   \n76291                                 NaN 2016-03-15 19:34:54+00:00   \n76507                Take Out Restaurants 2017-01-12 18:46:56+00:00   \n76669                                Bars 2016-12-25 18:11:56+00:00   \n76709                                Bars 2016-04-03 12:15:30+00:00   \n\n                    dateUpdated   latitude  longitude menus.category  \\\n0     2017-02-01 18:04:44+00:00  39.561570  -95.12102            NaN   \n1     2017-02-01 18:04:44+00:00  39.561570  -95.12102            NaN   \n66    2016-05-05 12:40:51+00:00  42.505264  -90.72141            NaN   \n67    2016-05-05 12:40:51+00:00  42.505264  -90.72141            NaN   \n158   2016-09-19 17:43:53+00:00  42.233826  -70.98024            NaN   \n...                         ...        ...        ...            ...   \n76256 2016-11-18 15:46:04+00:00  36.351383 -119.29696            NaN   \n76291 2016-05-06 20:35:40+00:00        NaN        NaN            NaN   \n76507 2017-01-12 18:46:56+00:00  35.530148 -108.71973            NaN   \n76669 2016-12-25 18:11:56+00:00  41.233300 -111.97047            NaN   \n76709 2016-04-03 12:15:30+00:00  44.453735  -93.16171            NaN   \n\n      menus.currency                             menus.dateSeen  \\\n0                NaN                       2017-02-01T18:04:44Z   \n1                NaN                       2016-03-02T11:49:34Z   \n66               NaN  2016-05-05T12:40:51Z,2016-03-29T04:45:06Z   \n67               NaN  2016-05-05T12:40:51Z,2016-03-29T04:45:06Z   \n158              USD                       2016-09-19T17:43:53Z   \n...              ...                                        ...   \n76256            USD                       2016-07-06T20:48:02Z   \n76291            USD                       2016-03-15T19:34:54Z   \n76507            NaN                       2017-01-12T18:46:56Z   \n76669            USD                       2016-12-25T18:11:56Z   \n76709            NaN                       2016-04-03T12:15:30Z   \n\n                                       menus.description  \\\n0                                                    NaN   \n1      Beef, onion, cheddar cheese, lettuce,  refried...   \n66                                                   NaN   \n67                                                   NaN   \n158    Large salsa, pizza cheese, hamburger, hot pepp...   \n...                                                  ...   \n76256  Roasted pork, cabbage, cilantro, onion, beans,...   \n76291                                                NaN   \n76507  Beef, Whole Beans, Cheddar Cheese, Onion, Lett...   \n76669  Our famous chili verde, string potatoes, three...   \n76709  Mild Tomato chili sauce, chipotle beef topped ...   \n\n                                   menus.name                        name  \\\n0                                        Taco             Gambino's Pizza   \n1                                        Taco             Gambino's Pizza   \n66                               Taco Supreme         Falbo Bros Pizzeria   \n67                                       Taco         Falbo Bros Pizzeria   \n158                              Mexican Taco  New England House of Pizza   \n...                                       ...                         ...   \n76256                        Tacos De Adobado      Figaro's Mexican Grill   \n76291                                    Taco      La Bella Roma Pizzeria   \n76507                             Navajo Taco            Big Cheese Pizza   \n76669           Chili Verde Breakfast Burrito     Slackwater Pub Pizzeria   \n76709  Taco - A South of The Boarder Favorite          Carbone's Pizzeria   \n\n                        province  update_delta  \n0                             KS             1  \n1                             KS             1  \n66                            IA            24  \n67                            IA            24  \n158                Braintree Hld             0  \n...                          ...           ...  \n76256                         CA           -12  \n76291                         NJ             9  \n76507                   Pinedale             0  \n76669  Marriott-slaterville City             0  \n76709                         MN             0  \n\n[1538 rows x 17 columns]",
      "text/html": "<div>\n<style scoped>\n    .dataframe tbody tr th:only-of-type {\n        vertical-align: middle;\n    }\n\n    .dataframe tbody tr th {\n        vertical-align: top;\n    }\n\n    .dataframe thead th {\n        text-align: right;\n    }\n</style>\n<table border=\"1\" class=\"dataframe\">\n  <thead>\n    <tr style=\"text-align: right;\">\n      <th></th>\n      <th>id</th>\n      <th>address</th>\n      <th>categories</th>\n      <th>city</th>\n      <th>cuisines</th>\n      <th>dateAdded</th>\n      <th>dateUpdated</th>\n      <th>latitude</th>\n      <th>longitude</th>\n      <th>menus.category</th>\n      <th>menus.currency</th>\n      <th>menus.dateSeen</th>\n      <th>menus.description</th>\n      <th>menus.name</th>\n      <th>name</th>\n      <th>province</th>\n      <th>update_delta</th>\n    </tr>\n  </thead>\n  <tbody>\n    <tr>\n      <th>0</th>\n      <td>AVwc__cikufWRAb51QjV</td>\n      <td>610 Commercial St</td>\n      <td>Restaurant Delivery Service,Restaurants,Pizza,...</td>\n      <td>Atchison</td>\n      <td>Restaurant Delivery Service</td>\n      <td>2016-03-02 11:49:34+00:00</td>\n      <td>2017-02-01 18:04:44+00:00</td>\n      <td>39.561570</td>\n      <td>-95.12102</td>\n      <td>NaN</td>\n      <td>NaN</td>\n      <td>2017-02-01T18:04:44Z</td>\n      <td>NaN</td>\n      <td>Taco</td>\n      <td>Gambino's Pizza</td>\n      <td>KS</td>\n      <td>1</td>\n    </tr>\n    <tr>\n      <th>1</th>\n      <td>AVwc__cikufWRAb51QjV</td>\n      <td>610 Commercial St</td>\n      <td>Restaurant Delivery Service,Restaurants,Pizza,...</td>\n      <td>Atchison</td>\n      <td>Restaurant Delivery Service</td>\n      <td>2016-03-02 11:49:34+00:00</td>\n      <td>2017-02-01 18:04:44+00:00</td>\n      <td>39.561570</td>\n      <td>-95.12102</td>\n      <td>NaN</td>\n      <td>NaN</td>\n      <td>2016-03-02T11:49:34Z</td>\n      <td>Beef, onion, cheddar cheese, lettuce,  refried...</td>\n      <td>Taco</td>\n      <td>Gambino's Pizza</td>\n      <td>KS</td>\n      <td>1</td>\n    </tr>\n    <tr>\n      <th>66</th>\n      <td>AVwc_59U_7pvs4fz1Md3</td>\n      <td>3250 Kennedy Cir</td>\n      <td>Pizza,Take Out Restaurants,Caterers,Restaurant...</td>\n      <td>Dubuque</td>\n      <td>Pizza</td>\n      <td>2016-03-29 04:45:06+00:00</td>\n      <td>2016-05-05 12:40:51+00:00</td>\n      <td>42.505264</td>\n      <td>-90.72141</td>\n      <td>NaN</td>\n      <td>NaN</td>\n      <td>2016-05-05T12:40:51Z,2016-03-29T04:45:06Z</td>\n      <td>NaN</td>\n      <td>Taco Supreme</td>\n      <td>Falbo Bros Pizzeria</td>\n      <td>IA</td>\n      <td>24</td>\n    </tr>\n    <tr>\n      <th>67</th>\n      <td>AVwc_59U_7pvs4fz1Md3</td>\n      <td>3250 Kennedy Cir</td>\n      <td>Pizza,Take Out Restaurants,Caterers,Restaurant...</td>\n      <td>Dubuque</td>\n      <td>Pizza</td>\n      <td>2016-03-29 04:45:06+00:00</td>\n      <td>2016-05-05 12:40:51+00:00</td>\n      <td>42.505264</td>\n      <td>-90.72141</td>\n      <td>NaN</td>\n      <td>NaN</td>\n      <td>2016-05-05T12:40:51Z,2016-03-29T04:45:06Z</td>\n      <td>NaN</td>\n      <td>Taco</td>\n      <td>Falbo Bros Pizzeria</td>\n      <td>IA</td>\n      <td>24</td>\n    </tr>\n    <tr>\n      <th>158</th>\n      <td>AVwc_AmZkufWRAb51FxA</td>\n      <td>133 Howard St</td>\n      <td>Pizza,Restaurants</td>\n      <td>Braintree</td>\n      <td>Pizza</td>\n      <td>2016-09-19 17:43:53+00:00</td>\n      <td>2016-09-19 17:43:53+00:00</td>\n      <td>42.233826</td>\n      <td>-70.98024</td>\n      <td>NaN</td>\n      <td>USD</td>\n      <td>2016-09-19T17:43:53Z</td>\n      <td>Large salsa, pizza cheese, hamburger, hot pepp...</td>\n      <td>Mexican Taco</td>\n      <td>New England House of Pizza</td>\n      <td>Braintree Hld</td>\n      <td>0</td>\n    </tr>\n    <tr>\n      <th>...</th>\n      <td>...</td>\n      <td>...</td>\n      <td>...</td>\n      <td>...</td>\n      <td>...</td>\n      <td>...</td>\n      <td>...</td>\n      <td>...</td>\n      <td>...</td>\n      <td>...</td>\n      <td>...</td>\n      <td>...</td>\n      <td>...</td>\n      <td>...</td>\n      <td>...</td>\n      <td>...</td>\n      <td>...</td>\n    </tr>\n    <tr>\n      <th>76256</th>\n      <td>AVweVOBFByjofQCxxRnN</td>\n      <td>3000 N Dinuba Blvd</td>\n      <td>Latin American Restaurants,Take Out Restaurant...</td>\n      <td>Visalia</td>\n      <td>Latin American Restaurants,Mexican</td>\n      <td>2016-07-06 20:48:02+00:00</td>\n      <td>2016-11-18 15:46:04+00:00</td>\n      <td>36.351383</td>\n      <td>-119.29696</td>\n      <td>NaN</td>\n      <td>USD</td>\n      <td>2016-07-06T20:48:02Z</td>\n      <td>Roasted pork, cabbage, cilantro, onion, beans,...</td>\n      <td>Tacos De Adobado</td>\n      <td>Figaro's Mexican Grill</td>\n      <td>CA</td>\n      <td>-12</td>\n    </tr>\n    <tr>\n      <th>76291</th>\n      <td>AVweVXD4ByjofQCxxS7L</td>\n      <td>35 N Farview Ave</td>\n      <td>Italian Restaurant,Pizza Place</td>\n      <td>Paramus</td>\n      <td>NaN</td>\n      <td>2016-03-15 19:34:54+00:00</td>\n      <td>2016-05-06 20:35:40+00:00</td>\n      <td>NaN</td>\n      <td>NaN</td>\n      <td>NaN</td>\n      <td>USD</td>\n      <td>2016-03-15T19:34:54Z</td>\n      <td>NaN</td>\n      <td>Taco</td>\n      <td>La Bella Roma Pizzeria</td>\n      <td>NJ</td>\n      <td>9</td>\n    </tr>\n    <tr>\n      <th>76507</th>\n      <td>AVweWyOEkufWRAb5CNJU</td>\n      <td>1516 E Historic Highway 66</td>\n      <td>Take Out Restaurants,Restaurants,Italian Resta...</td>\n      <td>Gallup</td>\n      <td>Take Out Restaurants</td>\n      <td>2017-01-12 18:46:56+00:00</td>\n      <td>2017-01-12 18:46:56+00:00</td>\n      <td>35.530148</td>\n      <td>-108.71973</td>\n      <td>NaN</td>\n      <td>NaN</td>\n      <td>2017-01-12T18:46:56Z</td>\n      <td>Beef, Whole Beans, Cheddar Cheese, Onion, Lett...</td>\n      <td>Navajo Taco</td>\n      <td>Big Cheese Pizza</td>\n      <td>Pinedale</td>\n      <td>0</td>\n    </tr>\n    <tr>\n      <th>76669</th>\n      <td>AVweXxalByjofQCxxnWC</td>\n      <td>1895 Washington Blvd</td>\n      <td>Bars,Restaurants,Bar &amp; Grills,Pizza</td>\n      <td>Ogden</td>\n      <td>Bars</td>\n      <td>2016-12-25 18:11:56+00:00</td>\n      <td>2016-12-25 18:11:56+00:00</td>\n      <td>41.233300</td>\n      <td>-111.97047</td>\n      <td>NaN</td>\n      <td>USD</td>\n      <td>2016-12-25T18:11:56Z</td>\n      <td>Our famous chili verde, string potatoes, three...</td>\n      <td>Chili Verde Breakfast Burrito</td>\n      <td>Slackwater Pub Pizzeria</td>\n      <td>Marriott-slaterville City</td>\n      <td>0</td>\n    </tr>\n    <tr>\n      <th>76709</th>\n      <td>AVweYFH-ByjofQCxxqHG</td>\n      <td>620 Water St S</td>\n      <td>Bars,Pizza,Italian Restaurants,Family Style Re...</td>\n      <td>Northfield</td>\n      <td>Bars</td>\n      <td>2016-04-03 12:15:30+00:00</td>\n      <td>2016-04-03 12:15:30+00:00</td>\n      <td>44.453735</td>\n      <td>-93.16171</td>\n      <td>NaN</td>\n      <td>NaN</td>\n      <td>2016-04-03T12:15:30Z</td>\n      <td>Mild Tomato chili sauce, chipotle beef topped ...</td>\n      <td>Taco - A South of The Boarder Favorite</td>\n      <td>Carbone's Pizzeria</td>\n      <td>MN</td>\n      <td>0</td>\n    </tr>\n  </tbody>\n</table>\n<p>1538 rows × 17 columns</p>\n</div>"
     },
     "execution_count": 128,
     "metadata": {},
     "output_type": "execute_result"
    }
   ],
   "source": [
    "df_1[df_1['categories'].str.contains('Pizza')]"
   ],
   "metadata": {
    "collapsed": false,
    "ExecuteTime": {
     "end_time": "2023-11-30T20:47:11.563376300Z",
     "start_time": "2023-11-30T20:47:11.482407900Z"
    }
   },
   "id": "f52a4daf72ea8cd"
  },
  {
   "cell_type": "markdown",
   "source": [
    "Задание 18\n",
    "В этом задании снова нужно добавить столбец update_delta, куда будет записана разница в днях между dateUpdated и dateAdded.  Посчитайте среднее и медиану получившейся колонки.\n",
    "\n",
    "Перечислите значения через пробел (сначала среднее, затем медиану), округлив до 2 знаков. \n",
    "\n",
    "NB! Оба значения должны быть введены с десятичным разделителем в виде точки."
   ],
   "metadata": {
    "collapsed": false
   },
   "id": "4207c5cf9583ae0b"
  },
  {
   "cell_type": "code",
   "execution_count": 139,
   "outputs": [
    {
     "name": "stdout",
     "output_type": "stream",
     "text": [
      "Среднее значение update_delta: 326.22\n",
      "Медиана update_delta: 364.0\n"
     ]
    }
   ],
   "source": [
    "df_1['update_delta'] = (df_1['dateUpdated'] - df_1['dateAdded']).dt.days\n",
    "\n",
    "# Расчет среднего и медианы для столбца 'update_delta'\n",
    "mean_update_delta = round(df_1['update_delta'].mean(), 2)\n",
    "median_update_delta = round(df_1['update_delta'].median(), 2)\n",
    "\n",
    "# Вывод результатов\n",
    "print(f\"Среднее значение update_delta: {mean_update_delta}\")\n",
    "print(f\"Медиана update_delta: {median_update_delta}\")"
   ],
   "metadata": {
    "collapsed": false,
    "ExecuteTime": {
     "end_time": "2023-11-30T21:14:53.837590100Z",
     "start_time": "2023-11-30T21:14:53.806707Z"
    }
   },
   "id": "a2efd5053c449db6"
  },
  {
   "cell_type": "code",
   "execution_count": 143,
   "outputs": [
    {
     "data": {
      "text/plain": "                         id                   address  \\\n0      AVwc__cikufWRAb51QjV         610 Commercial St   \n1      AVwc__cikufWRAb51QjV         610 Commercial St   \n2      AVwc__dF_7pvs4fz1Ncy      9521 Morton Davis Dr   \n3      AVwc__kCByjofQCxkdm-  10550 W I 25 Frontage Rd   \n4      AVwc__WtByjofQCxkdkR             8495 W 3rd St   \n...                     ...                       ...   \n77255  AVzRLlQNLD2H7whiWdH_             3919 24th St.   \n77256  AVzRLlQNLD2H7whiWdH_             3919 24th St.   \n77257  AVzRLlQNLD2H7whiWdH_             3919 24th St.   \n77258  AVzRLlQNLD2H7whiWdH_             3919 24th St.   \n77259  AVzRLlQNLD2H7whiWdH_             3919 24th St.   \n\n                                              categories           city  \\\n0      Restaurant Delivery Service,Restaurants,Pizza,...       Atchison   \n1      Restaurant Delivery Service,Restaurants,Pizza,...       Atchison   \n2           Golf Course, American Restaurant, and Resort      Patterson   \n3                                   Fast Food Restaurant       Longmont   \n4      Mexican Restaurant Mid-City West,Mexican Resta...    Los Angeles   \n...                                                  ...            ...   \n77255                                         Restaurant  San Francisco   \n77256                                         Restaurant  San Francisco   \n77257                                         Restaurant  San Francisco   \n77258                                         Restaurant  San Francisco   \n77259                                         Restaurant  San Francisco   \n\n                          cuisines                 dateAdded  \\\n0      Restaurant Delivery Service 2016-03-02 11:49:34+00:00   \n1      Restaurant Delivery Service 2016-03-02 11:49:34+00:00   \n2                              NaN 2016-10-14 01:58:25+00:00   \n3                              NaN 2016-09-09 17:30:34+00:00   \n4                          Mexican 2016-05-19 11:50:25+00:00   \n...                            ...                       ...   \n77255                      Mexican 2017-06-22 19:01:33+00:00   \n77256                      Mexican 2017-06-22 19:01:33+00:00   \n77257                      Mexican 2017-06-22 19:01:33+00:00   \n77258                      Mexican 2017-06-22 19:01:33+00:00   \n77259                      Mexican 2017-06-22 19:01:33+00:00   \n\n                    dateUpdated   latitude   longitude menus.category  \\\n0     2017-02-01 18:04:44+00:00  39.561570  -95.121020            NaN   \n1     2017-02-01 18:04:44+00:00  39.561570  -95.121020            NaN   \n2     2016-10-14 01:58:25+00:00  37.401855 -121.266703            NaN   \n3     2016-10-04 05:15:17+00:00        NaN         NaN            NaN   \n4     2016-09-11 00:06:37+00:00  34.080724 -118.389578            NaN   \n...                         ...        ...         ...            ...   \n77255 2017-06-22 19:01:33+00:00  37.751392 -122.430180            NaN   \n77256 2017-06-22 19:01:33+00:00  37.751392 -122.430180            NaN   \n77257 2017-06-22 19:01:33+00:00  37.751392 -122.430180            NaN   \n77258 2017-06-22 19:01:33+00:00  37.751392 -122.430180            NaN   \n77259 2017-06-22 19:01:33+00:00  37.751392 -122.430180            NaN   \n\n      menus.currency            menus.dateSeen  \\\n0                NaN      2017-02-01T18:04:44Z   \n1                NaN      2016-03-02T11:49:34Z   \n2                NaN      2016-10-14T01:58:25Z   \n3                NaN      2016-09-09T17:30:34Z   \n4                NaN      2016-05-19T11:50:25Z   \n...              ...                       ...   \n77255            USD  2017-06-22T16:40:06.448Z   \n77256            USD  2017-06-22T16:40:06.448Z   \n77257            USD  2017-06-22T16:40:06.448Z   \n77258            USD  2017-06-22T16:40:06.448Z   \n77259            USD  2017-06-22T16:40:06.448Z   \n\n                                       menus.description  \\\n0                                                    NaN   \n1      Beef, onion, cheddar cheese, lettuce,  refried...   \n2      Beef barbacoa or chicken, spanish rice, pico d...   \n3                                                    NaN   \n4      Wahoo, avocado, cabbage, pico de gallo  and av...   \n...                                                  ...   \n77255  meat, rice, beans, guacamole, sour cream, chee...   \n77256                 melted cheese, rice, beans & salsa   \n77257                                       meat & salsa   \n77258                          meat, rice, beans & salsa   \n77259  stuffed with rice, beans, meat, topped with en...   \n\n                     menus.name                               name  \\\n0                          Taco                    Gambino's Pizza   \n1                          Taco                    Gambino's Pizza   \n2              Smotherd Burrito  Diablo Grande Golf & Country Club   \n3               Sausage Burrito                         Mcdonald's   \n4             Wahoo Tacogrilled           Baja Fresh Mexican Grill   \n...                         ...                                ...   \n77255             Super Burrito                 La Casona Taqueria   \n77256  Steamed Broccoli Burrito                 La Casona Taqueria   \n77257              Regular Taco                 La Casona Taqueria   \n77258           Regular Burrito                 La Casona Taqueria   \n77259            Azteca Burrito                 La Casona Taqueria   \n\n           province  update_delta  \n0                KS           336  \n1                KS           336  \n2           Grayson             0  \n3             Niwot            24  \n4      Bicentennial           114  \n...             ...           ...  \n77255    California             0  \n77256    California             0  \n77257    California             0  \n77258    California             0  \n77259    California             0  \n\n[77260 rows x 17 columns]",
      "text/html": "<div>\n<style scoped>\n    .dataframe tbody tr th:only-of-type {\n        vertical-align: middle;\n    }\n\n    .dataframe tbody tr th {\n        vertical-align: top;\n    }\n\n    .dataframe thead th {\n        text-align: right;\n    }\n</style>\n<table border=\"1\" class=\"dataframe\">\n  <thead>\n    <tr style=\"text-align: right;\">\n      <th></th>\n      <th>id</th>\n      <th>address</th>\n      <th>categories</th>\n      <th>city</th>\n      <th>cuisines</th>\n      <th>dateAdded</th>\n      <th>dateUpdated</th>\n      <th>latitude</th>\n      <th>longitude</th>\n      <th>menus.category</th>\n      <th>menus.currency</th>\n      <th>menus.dateSeen</th>\n      <th>menus.description</th>\n      <th>menus.name</th>\n      <th>name</th>\n      <th>province</th>\n      <th>update_delta</th>\n    </tr>\n  </thead>\n  <tbody>\n    <tr>\n      <th>0</th>\n      <td>AVwc__cikufWRAb51QjV</td>\n      <td>610 Commercial St</td>\n      <td>Restaurant Delivery Service,Restaurants,Pizza,...</td>\n      <td>Atchison</td>\n      <td>Restaurant Delivery Service</td>\n      <td>2016-03-02 11:49:34+00:00</td>\n      <td>2017-02-01 18:04:44+00:00</td>\n      <td>39.561570</td>\n      <td>-95.121020</td>\n      <td>NaN</td>\n      <td>NaN</td>\n      <td>2017-02-01T18:04:44Z</td>\n      <td>NaN</td>\n      <td>Taco</td>\n      <td>Gambino's Pizza</td>\n      <td>KS</td>\n      <td>336</td>\n    </tr>\n    <tr>\n      <th>1</th>\n      <td>AVwc__cikufWRAb51QjV</td>\n      <td>610 Commercial St</td>\n      <td>Restaurant Delivery Service,Restaurants,Pizza,...</td>\n      <td>Atchison</td>\n      <td>Restaurant Delivery Service</td>\n      <td>2016-03-02 11:49:34+00:00</td>\n      <td>2017-02-01 18:04:44+00:00</td>\n      <td>39.561570</td>\n      <td>-95.121020</td>\n      <td>NaN</td>\n      <td>NaN</td>\n      <td>2016-03-02T11:49:34Z</td>\n      <td>Beef, onion, cheddar cheese, lettuce,  refried...</td>\n      <td>Taco</td>\n      <td>Gambino's Pizza</td>\n      <td>KS</td>\n      <td>336</td>\n    </tr>\n    <tr>\n      <th>2</th>\n      <td>AVwc__dF_7pvs4fz1Ncy</td>\n      <td>9521 Morton Davis Dr</td>\n      <td>Golf Course, American Restaurant, and Resort</td>\n      <td>Patterson</td>\n      <td>NaN</td>\n      <td>2016-10-14 01:58:25+00:00</td>\n      <td>2016-10-14 01:58:25+00:00</td>\n      <td>37.401855</td>\n      <td>-121.266703</td>\n      <td>NaN</td>\n      <td>NaN</td>\n      <td>2016-10-14T01:58:25Z</td>\n      <td>Beef barbacoa or chicken, spanish rice, pico d...</td>\n      <td>Smotherd Burrito</td>\n      <td>Diablo Grande Golf &amp; Country Club</td>\n      <td>Grayson</td>\n      <td>0</td>\n    </tr>\n    <tr>\n      <th>3</th>\n      <td>AVwc__kCByjofQCxkdm-</td>\n      <td>10550 W I 25 Frontage Rd</td>\n      <td>Fast Food Restaurant</td>\n      <td>Longmont</td>\n      <td>NaN</td>\n      <td>2016-09-09 17:30:34+00:00</td>\n      <td>2016-10-04 05:15:17+00:00</td>\n      <td>NaN</td>\n      <td>NaN</td>\n      <td>NaN</td>\n      <td>NaN</td>\n      <td>2016-09-09T17:30:34Z</td>\n      <td>NaN</td>\n      <td>Sausage Burrito</td>\n      <td>Mcdonald's</td>\n      <td>Niwot</td>\n      <td>24</td>\n    </tr>\n    <tr>\n      <th>4</th>\n      <td>AVwc__WtByjofQCxkdkR</td>\n      <td>8495 W 3rd St</td>\n      <td>Mexican Restaurant Mid-City West,Mexican Resta...</td>\n      <td>Los Angeles</td>\n      <td>Mexican</td>\n      <td>2016-05-19 11:50:25+00:00</td>\n      <td>2016-09-11 00:06:37+00:00</td>\n      <td>34.080724</td>\n      <td>-118.389578</td>\n      <td>NaN</td>\n      <td>NaN</td>\n      <td>2016-05-19T11:50:25Z</td>\n      <td>Wahoo, avocado, cabbage, pico de gallo  and av...</td>\n      <td>Wahoo Tacogrilled</td>\n      <td>Baja Fresh Mexican Grill</td>\n      <td>Bicentennial</td>\n      <td>114</td>\n    </tr>\n    <tr>\n      <th>...</th>\n      <td>...</td>\n      <td>...</td>\n      <td>...</td>\n      <td>...</td>\n      <td>...</td>\n      <td>...</td>\n      <td>...</td>\n      <td>...</td>\n      <td>...</td>\n      <td>...</td>\n      <td>...</td>\n      <td>...</td>\n      <td>...</td>\n      <td>...</td>\n      <td>...</td>\n      <td>...</td>\n      <td>...</td>\n    </tr>\n    <tr>\n      <th>77255</th>\n      <td>AVzRLlQNLD2H7whiWdH_</td>\n      <td>3919 24th St.</td>\n      <td>Restaurant</td>\n      <td>San Francisco</td>\n      <td>Mexican</td>\n      <td>2017-06-22 19:01:33+00:00</td>\n      <td>2017-06-22 19:01:33+00:00</td>\n      <td>37.751392</td>\n      <td>-122.430180</td>\n      <td>NaN</td>\n      <td>USD</td>\n      <td>2017-06-22T16:40:06.448Z</td>\n      <td>meat, rice, beans, guacamole, sour cream, chee...</td>\n      <td>Super Burrito</td>\n      <td>La Casona Taqueria</td>\n      <td>California</td>\n      <td>0</td>\n    </tr>\n    <tr>\n      <th>77256</th>\n      <td>AVzRLlQNLD2H7whiWdH_</td>\n      <td>3919 24th St.</td>\n      <td>Restaurant</td>\n      <td>San Francisco</td>\n      <td>Mexican</td>\n      <td>2017-06-22 19:01:33+00:00</td>\n      <td>2017-06-22 19:01:33+00:00</td>\n      <td>37.751392</td>\n      <td>-122.430180</td>\n      <td>NaN</td>\n      <td>USD</td>\n      <td>2017-06-22T16:40:06.448Z</td>\n      <td>melted cheese, rice, beans &amp; salsa</td>\n      <td>Steamed Broccoli Burrito</td>\n      <td>La Casona Taqueria</td>\n      <td>California</td>\n      <td>0</td>\n    </tr>\n    <tr>\n      <th>77257</th>\n      <td>AVzRLlQNLD2H7whiWdH_</td>\n      <td>3919 24th St.</td>\n      <td>Restaurant</td>\n      <td>San Francisco</td>\n      <td>Mexican</td>\n      <td>2017-06-22 19:01:33+00:00</td>\n      <td>2017-06-22 19:01:33+00:00</td>\n      <td>37.751392</td>\n      <td>-122.430180</td>\n      <td>NaN</td>\n      <td>USD</td>\n      <td>2017-06-22T16:40:06.448Z</td>\n      <td>meat &amp; salsa</td>\n      <td>Regular Taco</td>\n      <td>La Casona Taqueria</td>\n      <td>California</td>\n      <td>0</td>\n    </tr>\n    <tr>\n      <th>77258</th>\n      <td>AVzRLlQNLD2H7whiWdH_</td>\n      <td>3919 24th St.</td>\n      <td>Restaurant</td>\n      <td>San Francisco</td>\n      <td>Mexican</td>\n      <td>2017-06-22 19:01:33+00:00</td>\n      <td>2017-06-22 19:01:33+00:00</td>\n      <td>37.751392</td>\n      <td>-122.430180</td>\n      <td>NaN</td>\n      <td>USD</td>\n      <td>2017-06-22T16:40:06.448Z</td>\n      <td>meat, rice, beans &amp; salsa</td>\n      <td>Regular Burrito</td>\n      <td>La Casona Taqueria</td>\n      <td>California</td>\n      <td>0</td>\n    </tr>\n    <tr>\n      <th>77259</th>\n      <td>AVzRLlQNLD2H7whiWdH_</td>\n      <td>3919 24th St.</td>\n      <td>Restaurant</td>\n      <td>San Francisco</td>\n      <td>Mexican</td>\n      <td>2017-06-22 19:01:33+00:00</td>\n      <td>2017-06-22 19:01:33+00:00</td>\n      <td>37.751392</td>\n      <td>-122.430180</td>\n      <td>NaN</td>\n      <td>USD</td>\n      <td>2017-06-22T16:40:06.448Z</td>\n      <td>stuffed with rice, beans, meat, topped with en...</td>\n      <td>Azteca Burrito</td>\n      <td>La Casona Taqueria</td>\n      <td>California</td>\n      <td>0</td>\n    </tr>\n  </tbody>\n</table>\n<p>77260 rows × 17 columns</p>\n</div>"
     },
     "execution_count": 143,
     "metadata": {},
     "output_type": "execute_result"
    }
   ],
   "source": [
    "df_1"
   ],
   "metadata": {
    "collapsed": false,
    "ExecuteTime": {
     "end_time": "2023-12-01T19:29:45.872936800Z",
     "start_time": "2023-12-01T19:29:45.817963400Z"
    }
   },
   "id": "ea3936152a25262d"
  },
  {
   "cell_type": "code",
   "execution_count": 156,
   "outputs": [],
   "source": [
    "series_split = df_1['categories'].str.split(';')"
   ],
   "metadata": {
    "collapsed": false,
    "ExecuteTime": {
     "end_time": "2023-12-01T19:38:51.415321800Z",
     "start_time": "2023-12-01T19:38:51.414322Z"
    }
   },
   "id": "cdccb8416ed8c9a4"
  },
  {
   "cell_type": "code",
   "execution_count": 157,
   "outputs": [
    {
     "data": {
      "text/plain": "0        [Restaurant Delivery Service,Restaurants,Pizza...\n1        [Restaurant Delivery Service,Restaurants,Pizza...\n2           [Golf Course, American Restaurant, and Resort]\n3                                   [Fast Food Restaurant]\n4        [Mexican Restaurant Mid-City West,Mexican Rest...\n                               ...                        \n77255                                         [Restaurant]\n77256                                         [Restaurant]\n77257                                         [Restaurant]\n77258                                         [Restaurant]\n77259                                         [Restaurant]\nName: categories, Length: 77260, dtype: object"
     },
     "execution_count": 157,
     "metadata": {},
     "output_type": "execute_result"
    }
   ],
   "source": [
    "series_split"
   ],
   "metadata": {
    "collapsed": false,
    "ExecuteTime": {
     "end_time": "2023-12-01T19:38:56.199399Z",
     "start_time": "2023-12-01T19:38:56.177385600Z"
    }
   },
   "id": "b9b09db95b47bba6"
  },
  {
   "cell_type": "code",
   "execution_count": 153,
   "outputs": [],
   "source": [
    "import numpy as np"
   ],
   "metadata": {
    "collapsed": false,
    "ExecuteTime": {
     "end_time": "2023-12-01T19:37:13.904521700Z",
     "start_time": "2023-12-01T19:37:13.858906100Z"
    }
   },
   "id": "af1eb719621c9f5d"
  },
  {
   "cell_type": "code",
   "execution_count": 158,
   "outputs": [
    {
     "ename": "TypeError",
     "evalue": "Series.apply() missing 1 required positional argument: 'func'",
     "output_type": "error",
     "traceback": [
      "\u001B[1;31m---------------------------------------------------------------------------\u001B[0m",
      "\u001B[1;31mTypeError\u001B[0m                                 Traceback (most recent call last)",
      "Cell \u001B[1;32mIn[158], line 1\u001B[0m\n\u001B[1;32m----> 1\u001B[0m series_apply \u001B[38;5;241m=\u001B[39m \u001B[43mseries_split\u001B[49m\u001B[38;5;241;43m.\u001B[39;49m\u001B[43mapply\u001B[49m\u001B[43m(\u001B[49m\u001B[43m)\u001B[49m\n",
      "\u001B[1;31mTypeError\u001B[0m: Series.apply() missing 1 required positional argument: 'func'"
     ]
    }
   ],
   "source": [
    "series_apply = series_split.apply()"
   ],
   "metadata": {
    "collapsed": false,
    "ExecuteTime": {
     "end_time": "2023-12-01T19:43:16.324808Z",
     "start_time": "2023-12-01T19:43:16.251483500Z"
    }
   },
   "id": "c4d128df1bea1a56"
  },
  {
   "cell_type": "markdown",
   "source": [
    "Задание 19\n",
    "В этом задании нужно отобрать записи, у которых более 20 категорий, далее их нужно сгруппировать по провинциям и подсчитать минимальную longitude в каждой. Округлите значения longitude до 3-х знаков после запятой.\n",
    "\n",
    "Далее сохраните результирующий датафрейм в файл в формате csv с сепаратором ;. Сам датафрейм должен содержать две колонки: province и longitude"
   ],
   "metadata": {
    "collapsed": false
   },
   "id": "39ddaeef52b5ee22"
  },
  {
   "cell_type": "code",
   "execution_count": 189,
   "outputs": [],
   "source": [
    "df_1 = df[df['categories'].str.split(',').apply(len) > 20]"
   ],
   "metadata": {
    "collapsed": false,
    "ExecuteTime": {
     "end_time": "2023-12-01T20:05:38.115133Z",
     "start_time": "2023-12-01T20:05:38.101381900Z"
    }
   },
   "id": "3da86a4d042cfd14"
  },
  {
   "cell_type": "code",
   "execution_count": 183,
   "outputs": [
    {
     "data": {
      "text/plain": "                         id                       address  \\\n1750   AVwc0uTykufWRAb5zaLW                3111 Highway 6   \n1751   AVwc0uTykufWRAb5zaLW                3111 Highway 6   \n3685   AVwc2xERByjofQCxi7pv                 1600 Cedar St   \n8946   AVwc8Wr8IN2L1WUfqle8              2510 Navajo Blvd   \n9430   AVwc9KdR_7pvs4fz0vNv                  1706 G St NW   \n11144  AVwcfQPsIN2L1WUflfnB            1025 N Fillmore St   \n13174  AVwchA_g_7pvs4fzv7X1             1207 W Patrick St   \n18020  AVwcla11_7pvs4fzwulK                227 Hanover St   \n18021  AVwcla11_7pvs4fzwulK                227 Hanover St   \n18558  AVwclMRD_7pvs4fzwsCD                2463 Demere Rd   \n18559  AVwclMRD_7pvs4fzwsCD                2463 Demere Rd   \n24317  AVwcqhxkIN2L1WUfnhZf           5425 Russell Ave NW   \n25612  AVwcrlTPByjofQCxhAql  18750 Herndon / Oak Grove Rd   \n26603  AVwcsKhekufWRAb5x-QF            2331 Calvert St NW   \n26604  AVwcsKhekufWRAb5x-QF            2331 Calvert St NW   \n35857  AVwd24tTIN2L1WUfz09M               514 E Wilson St   \n35858  AVwd24tTIN2L1WUfz09M               514 E Wilson St   \n39127  AVwdAFNN_7pvs4fz1Oe8               550 Marina Pkwy   \n39128  AVwdAFNN_7pvs4fz1Oe8               550 Marina Pkwy   \n39129  AVwdAFNN_7pvs4fz1Oe8               550 Marina Pkwy   \n39130  AVwdAFNN_7pvs4fz1Oe8               550 Marina Pkwy   \n39131  AVwdAFNN_7pvs4fz1Oe8               550 Marina Pkwy   \n54198  AVwdlqiakufWRAb57XVI                  495 Beach St   \n55119  AVwdMJ8QIN2L1WUftJ5k        8865 Santa Monica Blvd   \n55120  AVwdMJ8QIN2L1WUftJ5k        8865 Santa Monica Blvd   \n55121  AVwdMJ8QIN2L1WUftJ5k        8865 Santa Monica Blvd   \n55122  AVwdMJ8QIN2L1WUftJ5k        8865 Santa Monica Blvd   \n55123  AVwdMJ8QIN2L1WUftJ5k        8865 Santa Monica Blvd   \n55124  AVwdMJ8QIN2L1WUftJ5k        8865 Santa Monica Blvd   \n55125  AVwdMJ8QIN2L1WUftJ5k        8865 Santa Monica Blvd   \n69934  AVweCHAFByjofQCxur2G                1700 Ocean Ave   \n69935  AVweCHAFByjofQCxur2G                1700 Ocean Ave   \n70095  AVwecqJUByjofQCxyS7W      5507 Connecticut Ave N W   \n71963  AVwegw9LIN2L1WUf5n-Y                   458 7th Ave   \n\n                                              categories                 city  \\\n1750   Italian Restaurant,Pizza Place,Italian Restaur...            Hitchcock   \n1751   Italian Restaurant,Pizza Place,Italian Restaur...            Hitchcock   \n3685   Take Out Restaurants,Sandwich Place,Restaurant...               Elmira   \n8946   Traditional American,Restaurants,Breakfast,Din...             Holbrook   \n9430   Restaurants,Delis And Delicatessens,Eclectic /...           Washington   \n11144  Gastropub,New American Restaurant,Gastropub an...            Arlington   \n13174  American Restaurant,Diner,Breakfast Spot,Ameri...            Frederick   \n18020  Caf,American Restaurant,Caf and American Resta...               Boston   \n18021  Caf,American Restaurant,Caf and American Resta...               Boston   \n18558  American Restaurants,Bars,Delicatessens,Take O...  Saint Simons Island   \n18559  American Restaurants,Bars,Delicatessens,Take O...  Saint Simons Island   \n24317  Breakfast Spot,American Restaurant,Restaurants...              Seattle   \n25612  American Restaurants,Hamburgers & Hot Dogs,Bre...            Oak Grove   \n26603  Breakfast Spot,Coffee Shop,Diner,Restaurants,C...           Washington   \n26604  Breakfast Spot,Coffee Shop,Diner,Restaurants,C...           Washington   \n35857  German Restaurant,Bar,Beer Garden,Bars & Clubs...              Madison   \n35858  German Restaurant,Bar,Beer Garden,Bars & Clubs...              Madison   \n39127  American Restaurant,Seafood Restaurant,Burger ...          Chula Vista   \n39128  American Restaurant,Seafood Restaurant,Burger ...          Chula Vista   \n39129  American Restaurant,Seafood Restaurant,Burger ...          Chula Vista   \n39130  American Restaurant,Seafood Restaurant,Burger ...          Chula Vista   \n39131  American Restaurant,Seafood Restaurant,Burger ...          Chula Vista   \n54198  Traditional American,Restaurants,Breakfast,Din...        San Francisco   \n55119  Mexican Restaurant,Gay Bar,Restaurant,Happy Ho...       West Hollywood   \n55120  Mexican Restaurant,Gay Bar,Restaurant,Happy Ho...       West Hollywood   \n55121  Mexican Restaurant,Gay Bar,Restaurant,Happy Ho...       West Hollywood   \n55122  Mexican Restaurant,Gay Bar,Restaurant,Happy Ho...       West Hollywood   \n55123  Mexican Restaurant,Gay Bar,Restaurant,Happy Ho...       West Hollywood   \n55124  Mexican Restaurant,Gay Bar,Restaurant,Happy Ho...       West Hollywood   \n55125  Mexican Restaurant,Gay Bar,Restaurant,Happy Ho...       West Hollywood   \n69934  New American Restaurant,Sushi Restaurant,Firep...         Santa Monica   \n69935  New American Restaurant,Sushi Restaurant,Firep...         Santa Monica   \n70095  Washington Washington,Venues,Restaurant,Washin...           Washington   \n71963  New York City,Restaurant,Midtown-south-chelsea...             New York   \n\n                                                cuisines  \\\n1750                          American Restaurants,Pizza   \n1751                          American Restaurants,Pizza   \n3685                   Fast Food Restaurants,Restaurants   \n8946                                American Restaurants   \n9430                                             Italian   \n11144                       Continental Restaurants,Bars   \n13174                                             Yogurt   \n18020                               American Restaurants   \n18021                               American Restaurants   \n18558                       American Restaurants,Mexican   \n18559                       American Restaurants,Mexican   \n24317                                        Restaurants   \n25612                               American Restaurants   \n26603  Traditional American,Burgers,American (Traditi...   \n26604  Traditional American,Burgers,American (Traditi...   \n35857                            Continental Restaurants   \n35858                            Continental Restaurants   \n39127                      American,American Restaurants   \n39128                      American,American Restaurants   \n39129                      American,American Restaurants   \n39130                      American,American Restaurants   \n39131                      American,American Restaurants   \n54198                               American Restaurants   \n55119                                            Mexican   \n55120                                            Mexican   \n55121                                            Mexican   \n55122                                            Mexican   \n55123                                            Mexican   \n55124                                            Mexican   \n55125                                            Mexican   \n69934                                            Seafood   \n69935                                            Seafood   \n70095                                     American (New)   \n71963                                  Delis, Sandwiches   \n\n                  dateAdded           dateUpdated   latitude   longitude  \\\n1750   2015-10-23T02:24:58Z  2016-05-03T09:11:07Z  29.330672  -94.939345   \n1751   2015-10-23T02:24:58Z  2016-05-03T09:11:07Z  29.330672  -94.939345   \n3685   2016-06-20T21:25:00Z  2016-10-13T13:48:57Z  42.057421  -76.793573   \n8946   2015-10-23T01:59:13Z  2017-06-26T10:08:08Z  34.933164 -110.136168   \n9430   2015-09-28T23:10:05Z  2017-06-28T03:30:13Z  38.898239  -77.040153   \n11144  2016-04-03T12:15:35Z  2017-07-06T04:44:07Z  38.884975  -77.092562   \n13174  2016-03-28T05:53:22Z  2017-07-03T19:30:12Z  39.419152  -77.452987   \n18020  2016-06-08T16:30:24Z  2017-07-06T20:55:24Z  42.362970  -71.055180   \n18021  2016-06-08T16:30:24Z  2017-07-06T20:55:24Z  42.362970  -71.055180   \n18558  2016-04-03T12:17:33Z  2017-03-03T22:08:21Z  31.161146  -81.394050   \n18559  2016-04-03T12:17:33Z  2017-03-03T22:08:21Z  31.161146  -81.394050   \n24317  2016-03-22T03:46:11Z  2017-07-06T19:11:36Z  47.668319 -122.383123   \n25612  2015-10-23T03:15:49Z  2016-12-13T12:13:38Z  36.697415  -87.454722   \n26603  2014-02-07T05:22:00Z  2017-07-06T18:09:08Z  38.923527  -77.051750   \n26604  2014-02-07T05:22:00Z  2017-07-06T18:09:08Z  38.923527  -77.051750   \n35857  2015-05-22T23:16:17Z  2017-07-03T14:30:33Z  43.076156  -89.376639   \n35858  2015-05-22T23:16:17Z  2017-07-03T14:30:33Z  43.076156  -89.376639   \n39127  2015-10-23T03:08:07Z  2017-07-06T03:56:08Z  32.625628 -117.101095   \n39128  2015-10-23T03:08:07Z  2017-07-06T03:56:08Z  32.625628 -117.101095   \n39129  2015-10-23T03:08:07Z  2017-07-06T03:56:08Z  32.625628 -117.101095   \n39130  2015-10-23T03:08:07Z  2017-07-06T03:56:08Z  32.625628 -117.101095   \n39131  2015-10-23T03:08:07Z  2017-07-06T03:56:08Z  32.625628 -117.101095   \n54198  2015-11-02T17:15:06Z  2017-07-01T14:06:19Z  37.807087 -122.417190   \n55119  2016-03-22T03:41:14Z  2017-07-06T19:21:02Z  34.085178 -118.383771   \n55120  2016-03-22T03:41:14Z  2017-07-06T19:21:02Z  34.085178 -118.383771   \n55121  2016-03-22T03:41:14Z  2017-07-06T19:21:02Z  34.085178 -118.383771   \n55122  2016-03-22T03:41:14Z  2017-07-06T19:21:02Z  34.085178 -118.383771   \n55123  2016-03-22T03:41:14Z  2017-07-06T19:21:02Z  34.085178 -118.383771   \n55124  2016-03-22T03:41:14Z  2017-07-06T19:21:02Z  34.085178 -118.383771   \n55125  2016-03-22T03:41:14Z  2017-07-06T19:21:02Z  34.085178 -118.383771   \n69934  2016-05-19T11:27:50Z  2017-07-06T02:48:40Z  34.009119 -118.493038   \n69935  2016-05-19T11:27:50Z  2017-07-06T02:48:40Z  34.009119 -118.493038   \n70095  2015-09-28T22:48:15Z  2015-09-28T22:48:15Z  38.963289  -77.074610   \n71963  2015-09-28T04:21:30Z  2015-09-28T04:21:30Z  40.751600  -73.990491   \n\n      menus.category menus.currency  \\\n1750             NaN            USD   \n1751             NaN            USD   \n3685             NaN            NaN   \n8946             NaN            NaN   \n9430        burritos            NaN   \n11144            NaN            USD   \n13174            NaN            NaN   \n18020            NaN            USD   \n18021            NaN            USD   \n18558            NaN            NaN   \n18559            NaN            NaN   \n24317            NaN            USD   \n25612            NaN            NaN   \n26603            NaN            USD   \n26604            NaN            NaN   \n35857            NaN            NaN   \n35858            NaN            NaN   \n39127            NaN            USD   \n39128            NaN            USD   \n39129            NaN            NaN   \n39130            NaN            NaN   \n39131            NaN            NaN   \n54198            NaN            NaN   \n55119            NaN            USD   \n55120            NaN            USD   \n55121            NaN            USD   \n55122            NaN            USD   \n55123            NaN            USD   \n55124            NaN            USD   \n55125            NaN            USD   \n69934            NaN            USD   \n69935            NaN            USD   \n70095            NaN            NaN   \n71963            NaN            USD   \n\n                                  menus.dateSeen  \\\n1750                        2016-03-29T04:55:31Z   \n1751                        2016-03-29T04:55:31Z   \n3685                        2016-06-20T21:25:00Z   \n8946                        2015-10-23T01:59:13Z   \n9430                        2015-09-28T23:10:05Z   \n11144  2016-05-21T02:02:02Z,2016-06-08T16:21:31Z   \n13174                       2016-03-28T05:53:22Z   \n18020                       2016-06-08T16:30:24Z   \n18021                       2016-06-08T16:30:24Z   \n18558                       2016-06-07T20:48:00Z   \n18559                       2016-06-07T20:48:00Z   \n24317                       2017-04-20T19:09:05Z   \n25612  2015-10-23T03:15:49Z,2016-03-31T02:40:41Z   \n26603  2015-11-08T06:06:52Z,2016-03-22T04:20:23Z   \n26604                       2015-11-08T06:06:52Z   \n35857                       2016-03-31T01:29:50Z   \n35858                       2016-03-31T01:29:50Z   \n39127                       2016-05-19T09:05:15Z   \n39128                       2016-05-19T09:05:15Z   \n39129                       2016-05-19T09:05:15Z   \n39130                       2016-05-19T09:05:15Z   \n39131                       2016-05-19T09:05:15Z   \n54198                       2016-03-22T04:14:48Z   \n55119                       2016-03-22T03:41:14Z   \n55120                       2016-03-22T03:41:14Z   \n55121                       2016-03-22T03:41:14Z   \n55122                       2016-03-22T03:41:14Z   \n55123                       2016-03-22T03:41:14Z   \n55124                       2016-03-22T03:41:14Z   \n55125                       2016-03-22T03:41:14Z   \n69934  2016-05-19T11:27:50Z,2017-03-28T20:14:28Z   \n69935  2016-05-19T11:27:50Z,2017-03-28T20:14:28Z   \n70095                       2015-09-28T22:48:15Z   \n71963                       2015-09-28T04:21:30Z   \n\n                                       menus.description  \\\n1750   Fish or shrimp with asian sauce, served with b...   \n1751                                         Asian sauce   \n3685                                                 NaN   \n8946                                                 NaN   \n9430   flour tortilla, rice, sauteed peppers and onio...   \n11144                                                NaN   \n13174                                                NaN   \n18020  Fried or Grilled with Lettuce, Avocado and Blu...   \n18021  Scrambled egg, sausage, home fries, pico de ga...   \n18558  Two flour tortillas stuffed with your choice o...   \n18559  Our flour tortilla stuffed with grilled chicke...   \n24317                                                NaN   \n25612  Crispy bacon, avocado, two scrambled eggs, our...   \n26603                                                NaN   \n26604  Scrambled eggs with chorizo, hashbrowns, scall...   \n35857                                                NaN   \n35858  Shredded tender chicken breast seasoned with s...   \n39127                                                NaN   \n39128                                                NaN   \n39129                                                NaN   \n39130                                                NaN   \n39131                                                NaN   \n54198                                                NaN   \n55119  Three steak and shrimp tacos with guacamole, p...   \n55120  Three tacos with pineapple salsa, guacamole, c...   \n55121  Chicken, steak, or sauteed veggies, Spanish ri...   \n55122  Three chicken, steak or sauteed veggie tacos t...   \n55123                                                NaN   \n55124  Filled with Spanish rice, black beans and thre...   \n55125                                                NaN   \n69934  Scrambled eggs, chorizo, potatoes, chile, ched...   \n69935  Warm Corn Tortillas, Cabbage, Chipotle Remoula...   \n70095  a large flour tortilla filled with scrambled e...   \n71963                                                NaN   \n\n                              menus.name                  name      province  \n1750                               Tacos          Bayou Bistro            TX  \n1751                 Taco Fish or Shrimp          Bayou Bistro            TX  \n3685                     Sausage Burrito           Mc Donald's            NY  \n8946               Bacon Avocado Burrito               Denny's            AZ  \n9430                      Fajita Burrito         G Street Food            DC  \n11144           Crispy Pig Taco, Avocado      Green Pig Bistro            VA  \n13174              Bacon Avocado Burrito               Denny's            MD  \n18020              Buffalo Chicken Tacos      Cobblestone Cafe            MA  \n18021                  Breakfast Burrito      Cobblestone Cafe            MA  \n18558                              Tacos     Locos Grill & Pub  St Simons Is  \n18559                      Locos Burrito     Locos Grill & Pub  St Simons Is  \n24317   Ballard Barrio Breakfast Burrito               Hi-Life            WA  \n25612              Bacon Avocado Burrito               Denny's            KY  \n26603                  Open City Burrito             Open City            DC  \n26604                         Oc Burrito             Open City            DC  \n35857                     Veggie Burrito            Essen Haus            WI  \n35858                    Chicken Burrito            Essen Haus            WI  \n39127                       Taco Tuesday  Galley At The Marina            CA  \n39128                 Tacos Fish or Beef  Galley At The Marina            CA  \n39129               Mahi Mahi Fish Tacos  Galley At The Marina            CA  \n39130                  Breakfast Burrito  Galley At The Marina            CA  \n39131       Baja Fish or Mahi Mahi Tacos  Galley At The Marina            CA  \n54198              Bacon Avocado Burrito               Denny's            CA  \n55119                Surf and Turf Tacos        Fiesta Cantina            CA  \n55120  Baja Grilled Fish or Shrimp Tacos        Fiesta Cantina            CA  \n55121                     Fiesta Burrito        Fiesta Cantina            CA  \n55122                      Cantina Tacos        Fiesta Cantina            CA  \n55123                   Cantina Burritos        Fiesta Cantina            CA  \n55124                     Barrio Burrito        Fiesta Cantina            CA  \n55125             Baja Breakfast Burrito        Fiesta Cantina            CA  \n69934                  Breakfast Burrito        Ocean and Vine            CA  \n69935        Pacific Flounder Fish Tacos        Ocean and Vine            CA  \n70095                   Burrito Mananero         La Lomita Dos            DC  \n71963              B7. Breakfast Burrito     Al's Delicatessen         G P O  ",
      "text/html": "<div>\n<style scoped>\n    .dataframe tbody tr th:only-of-type {\n        vertical-align: middle;\n    }\n\n    .dataframe tbody tr th {\n        vertical-align: top;\n    }\n\n    .dataframe thead th {\n        text-align: right;\n    }\n</style>\n<table border=\"1\" class=\"dataframe\">\n  <thead>\n    <tr style=\"text-align: right;\">\n      <th></th>\n      <th>id</th>\n      <th>address</th>\n      <th>categories</th>\n      <th>city</th>\n      <th>cuisines</th>\n      <th>dateAdded</th>\n      <th>dateUpdated</th>\n      <th>latitude</th>\n      <th>longitude</th>\n      <th>menus.category</th>\n      <th>menus.currency</th>\n      <th>menus.dateSeen</th>\n      <th>menus.description</th>\n      <th>menus.name</th>\n      <th>name</th>\n      <th>province</th>\n    </tr>\n  </thead>\n  <tbody>\n    <tr>\n      <th>1750</th>\n      <td>AVwc0uTykufWRAb5zaLW</td>\n      <td>3111 Highway 6</td>\n      <td>Italian Restaurant,Pizza Place,Italian Restaur...</td>\n      <td>Hitchcock</td>\n      <td>American Restaurants,Pizza</td>\n      <td>2015-10-23T02:24:58Z</td>\n      <td>2016-05-03T09:11:07Z</td>\n      <td>29.330672</td>\n      <td>-94.939345</td>\n      <td>NaN</td>\n      <td>USD</td>\n      <td>2016-03-29T04:55:31Z</td>\n      <td>Fish or shrimp with asian sauce, served with b...</td>\n      <td>Tacos</td>\n      <td>Bayou Bistro</td>\n      <td>TX</td>\n    </tr>\n    <tr>\n      <th>1751</th>\n      <td>AVwc0uTykufWRAb5zaLW</td>\n      <td>3111 Highway 6</td>\n      <td>Italian Restaurant,Pizza Place,Italian Restaur...</td>\n      <td>Hitchcock</td>\n      <td>American Restaurants,Pizza</td>\n      <td>2015-10-23T02:24:58Z</td>\n      <td>2016-05-03T09:11:07Z</td>\n      <td>29.330672</td>\n      <td>-94.939345</td>\n      <td>NaN</td>\n      <td>USD</td>\n      <td>2016-03-29T04:55:31Z</td>\n      <td>Asian sauce</td>\n      <td>Taco Fish or Shrimp</td>\n      <td>Bayou Bistro</td>\n      <td>TX</td>\n    </tr>\n    <tr>\n      <th>3685</th>\n      <td>AVwc2xERByjofQCxi7pv</td>\n      <td>1600 Cedar St</td>\n      <td>Take Out Restaurants,Sandwich Place,Restaurant...</td>\n      <td>Elmira</td>\n      <td>Fast Food Restaurants,Restaurants</td>\n      <td>2016-06-20T21:25:00Z</td>\n      <td>2016-10-13T13:48:57Z</td>\n      <td>42.057421</td>\n      <td>-76.793573</td>\n      <td>NaN</td>\n      <td>NaN</td>\n      <td>2016-06-20T21:25:00Z</td>\n      <td>NaN</td>\n      <td>Sausage Burrito</td>\n      <td>Mc Donald's</td>\n      <td>NY</td>\n    </tr>\n    <tr>\n      <th>8946</th>\n      <td>AVwc8Wr8IN2L1WUfqle8</td>\n      <td>2510 Navajo Blvd</td>\n      <td>Traditional American,Restaurants,Breakfast,Din...</td>\n      <td>Holbrook</td>\n      <td>American Restaurants</td>\n      <td>2015-10-23T01:59:13Z</td>\n      <td>2017-06-26T10:08:08Z</td>\n      <td>34.933164</td>\n      <td>-110.136168</td>\n      <td>NaN</td>\n      <td>NaN</td>\n      <td>2015-10-23T01:59:13Z</td>\n      <td>NaN</td>\n      <td>Bacon Avocado Burrito</td>\n      <td>Denny's</td>\n      <td>AZ</td>\n    </tr>\n    <tr>\n      <th>9430</th>\n      <td>AVwc9KdR_7pvs4fz0vNv</td>\n      <td>1706 G St NW</td>\n      <td>Restaurants,Delis And Delicatessens,Eclectic /...</td>\n      <td>Washington</td>\n      <td>Italian</td>\n      <td>2015-09-28T23:10:05Z</td>\n      <td>2017-06-28T03:30:13Z</td>\n      <td>38.898239</td>\n      <td>-77.040153</td>\n      <td>burritos</td>\n      <td>NaN</td>\n      <td>2015-09-28T23:10:05Z</td>\n      <td>flour tortilla, rice, sauteed peppers and onio...</td>\n      <td>Fajita Burrito</td>\n      <td>G Street Food</td>\n      <td>DC</td>\n    </tr>\n    <tr>\n      <th>11144</th>\n      <td>AVwcfQPsIN2L1WUflfnB</td>\n      <td>1025 N Fillmore St</td>\n      <td>Gastropub,New American Restaurant,Gastropub an...</td>\n      <td>Arlington</td>\n      <td>Continental Restaurants,Bars</td>\n      <td>2016-04-03T12:15:35Z</td>\n      <td>2017-07-06T04:44:07Z</td>\n      <td>38.884975</td>\n      <td>-77.092562</td>\n      <td>NaN</td>\n      <td>USD</td>\n      <td>2016-05-21T02:02:02Z,2016-06-08T16:21:31Z</td>\n      <td>NaN</td>\n      <td>Crispy Pig Taco, Avocado</td>\n      <td>Green Pig Bistro</td>\n      <td>VA</td>\n    </tr>\n    <tr>\n      <th>13174</th>\n      <td>AVwchA_g_7pvs4fzv7X1</td>\n      <td>1207 W Patrick St</td>\n      <td>American Restaurant,Diner,Breakfast Spot,Ameri...</td>\n      <td>Frederick</td>\n      <td>Yogurt</td>\n      <td>2016-03-28T05:53:22Z</td>\n      <td>2017-07-03T19:30:12Z</td>\n      <td>39.419152</td>\n      <td>-77.452987</td>\n      <td>NaN</td>\n      <td>NaN</td>\n      <td>2016-03-28T05:53:22Z</td>\n      <td>NaN</td>\n      <td>Bacon Avocado Burrito</td>\n      <td>Denny's</td>\n      <td>MD</td>\n    </tr>\n    <tr>\n      <th>18020</th>\n      <td>AVwcla11_7pvs4fzwulK</td>\n      <td>227 Hanover St</td>\n      <td>Caf,American Restaurant,Caf and American Resta...</td>\n      <td>Boston</td>\n      <td>American Restaurants</td>\n      <td>2016-06-08T16:30:24Z</td>\n      <td>2017-07-06T20:55:24Z</td>\n      <td>42.362970</td>\n      <td>-71.055180</td>\n      <td>NaN</td>\n      <td>USD</td>\n      <td>2016-06-08T16:30:24Z</td>\n      <td>Fried or Grilled with Lettuce, Avocado and Blu...</td>\n      <td>Buffalo Chicken Tacos</td>\n      <td>Cobblestone Cafe</td>\n      <td>MA</td>\n    </tr>\n    <tr>\n      <th>18021</th>\n      <td>AVwcla11_7pvs4fzwulK</td>\n      <td>227 Hanover St</td>\n      <td>Caf,American Restaurant,Caf and American Resta...</td>\n      <td>Boston</td>\n      <td>American Restaurants</td>\n      <td>2016-06-08T16:30:24Z</td>\n      <td>2017-07-06T20:55:24Z</td>\n      <td>42.362970</td>\n      <td>-71.055180</td>\n      <td>NaN</td>\n      <td>USD</td>\n      <td>2016-06-08T16:30:24Z</td>\n      <td>Scrambled egg, sausage, home fries, pico de ga...</td>\n      <td>Breakfast Burrito</td>\n      <td>Cobblestone Cafe</td>\n      <td>MA</td>\n    </tr>\n    <tr>\n      <th>18558</th>\n      <td>AVwclMRD_7pvs4fzwsCD</td>\n      <td>2463 Demere Rd</td>\n      <td>American Restaurants,Bars,Delicatessens,Take O...</td>\n      <td>Saint Simons Island</td>\n      <td>American Restaurants,Mexican</td>\n      <td>2016-04-03T12:17:33Z</td>\n      <td>2017-03-03T22:08:21Z</td>\n      <td>31.161146</td>\n      <td>-81.394050</td>\n      <td>NaN</td>\n      <td>NaN</td>\n      <td>2016-06-07T20:48:00Z</td>\n      <td>Two flour tortillas stuffed with your choice o...</td>\n      <td>Tacos</td>\n      <td>Locos Grill &amp; Pub</td>\n      <td>St Simons Is</td>\n    </tr>\n    <tr>\n      <th>18559</th>\n      <td>AVwclMRD_7pvs4fzwsCD</td>\n      <td>2463 Demere Rd</td>\n      <td>American Restaurants,Bars,Delicatessens,Take O...</td>\n      <td>Saint Simons Island</td>\n      <td>American Restaurants,Mexican</td>\n      <td>2016-04-03T12:17:33Z</td>\n      <td>2017-03-03T22:08:21Z</td>\n      <td>31.161146</td>\n      <td>-81.394050</td>\n      <td>NaN</td>\n      <td>NaN</td>\n      <td>2016-06-07T20:48:00Z</td>\n      <td>Our flour tortilla stuffed with grilled chicke...</td>\n      <td>Locos Burrito</td>\n      <td>Locos Grill &amp; Pub</td>\n      <td>St Simons Is</td>\n    </tr>\n    <tr>\n      <th>24317</th>\n      <td>AVwcqhxkIN2L1WUfnhZf</td>\n      <td>5425 Russell Ave NW</td>\n      <td>Breakfast Spot,American Restaurant,Restaurants...</td>\n      <td>Seattle</td>\n      <td>Restaurants</td>\n      <td>2016-03-22T03:46:11Z</td>\n      <td>2017-07-06T19:11:36Z</td>\n      <td>47.668319</td>\n      <td>-122.383123</td>\n      <td>NaN</td>\n      <td>USD</td>\n      <td>2017-04-20T19:09:05Z</td>\n      <td>NaN</td>\n      <td>Ballard Barrio Breakfast Burrito</td>\n      <td>Hi-Life</td>\n      <td>WA</td>\n    </tr>\n    <tr>\n      <th>25612</th>\n      <td>AVwcrlTPByjofQCxhAql</td>\n      <td>18750 Herndon / Oak Grove Rd</td>\n      <td>American Restaurants,Hamburgers &amp; Hot Dogs,Bre...</td>\n      <td>Oak Grove</td>\n      <td>American Restaurants</td>\n      <td>2015-10-23T03:15:49Z</td>\n      <td>2016-12-13T12:13:38Z</td>\n      <td>36.697415</td>\n      <td>-87.454722</td>\n      <td>NaN</td>\n      <td>NaN</td>\n      <td>2015-10-23T03:15:49Z,2016-03-31T02:40:41Z</td>\n      <td>Crispy bacon, avocado, two scrambled eggs, our...</td>\n      <td>Bacon Avocado Burrito</td>\n      <td>Denny's</td>\n      <td>KY</td>\n    </tr>\n    <tr>\n      <th>26603</th>\n      <td>AVwcsKhekufWRAb5x-QF</td>\n      <td>2331 Calvert St NW</td>\n      <td>Breakfast Spot,Coffee Shop,Diner,Restaurants,C...</td>\n      <td>Washington</td>\n      <td>Traditional American,Burgers,American (Traditi...</td>\n      <td>2014-02-07T05:22:00Z</td>\n      <td>2017-07-06T18:09:08Z</td>\n      <td>38.923527</td>\n      <td>-77.051750</td>\n      <td>NaN</td>\n      <td>USD</td>\n      <td>2015-11-08T06:06:52Z,2016-03-22T04:20:23Z</td>\n      <td>NaN</td>\n      <td>Open City Burrito</td>\n      <td>Open City</td>\n      <td>DC</td>\n    </tr>\n    <tr>\n      <th>26604</th>\n      <td>AVwcsKhekufWRAb5x-QF</td>\n      <td>2331 Calvert St NW</td>\n      <td>Breakfast Spot,Coffee Shop,Diner,Restaurants,C...</td>\n      <td>Washington</td>\n      <td>Traditional American,Burgers,American (Traditi...</td>\n      <td>2014-02-07T05:22:00Z</td>\n      <td>2017-07-06T18:09:08Z</td>\n      <td>38.923527</td>\n      <td>-77.051750</td>\n      <td>NaN</td>\n      <td>NaN</td>\n      <td>2015-11-08T06:06:52Z</td>\n      <td>Scrambled eggs with chorizo, hashbrowns, scall...</td>\n      <td>Oc Burrito</td>\n      <td>Open City</td>\n      <td>DC</td>\n    </tr>\n    <tr>\n      <th>35857</th>\n      <td>AVwd24tTIN2L1WUfz09M</td>\n      <td>514 E Wilson St</td>\n      <td>German Restaurant,Bar,Beer Garden,Bars &amp; Clubs...</td>\n      <td>Madison</td>\n      <td>Continental Restaurants</td>\n      <td>2015-05-22T23:16:17Z</td>\n      <td>2017-07-03T14:30:33Z</td>\n      <td>43.076156</td>\n      <td>-89.376639</td>\n      <td>NaN</td>\n      <td>NaN</td>\n      <td>2016-03-31T01:29:50Z</td>\n      <td>NaN</td>\n      <td>Veggie Burrito</td>\n      <td>Essen Haus</td>\n      <td>WI</td>\n    </tr>\n    <tr>\n      <th>35858</th>\n      <td>AVwd24tTIN2L1WUfz09M</td>\n      <td>514 E Wilson St</td>\n      <td>German Restaurant,Bar,Beer Garden,Bars &amp; Clubs...</td>\n      <td>Madison</td>\n      <td>Continental Restaurants</td>\n      <td>2015-05-22T23:16:17Z</td>\n      <td>2017-07-03T14:30:33Z</td>\n      <td>43.076156</td>\n      <td>-89.376639</td>\n      <td>NaN</td>\n      <td>NaN</td>\n      <td>2016-03-31T01:29:50Z</td>\n      <td>Shredded tender chicken breast seasoned with s...</td>\n      <td>Chicken Burrito</td>\n      <td>Essen Haus</td>\n      <td>WI</td>\n    </tr>\n    <tr>\n      <th>39127</th>\n      <td>AVwdAFNN_7pvs4fz1Oe8</td>\n      <td>550 Marina Pkwy</td>\n      <td>American Restaurant,Seafood Restaurant,Burger ...</td>\n      <td>Chula Vista</td>\n      <td>American,American Restaurants</td>\n      <td>2015-10-23T03:08:07Z</td>\n      <td>2017-07-06T03:56:08Z</td>\n      <td>32.625628</td>\n      <td>-117.101095</td>\n      <td>NaN</td>\n      <td>USD</td>\n      <td>2016-05-19T09:05:15Z</td>\n      <td>NaN</td>\n      <td>Taco Tuesday</td>\n      <td>Galley At The Marina</td>\n      <td>CA</td>\n    </tr>\n    <tr>\n      <th>39128</th>\n      <td>AVwdAFNN_7pvs4fz1Oe8</td>\n      <td>550 Marina Pkwy</td>\n      <td>American Restaurant,Seafood Restaurant,Burger ...</td>\n      <td>Chula Vista</td>\n      <td>American,American Restaurants</td>\n      <td>2015-10-23T03:08:07Z</td>\n      <td>2017-07-06T03:56:08Z</td>\n      <td>32.625628</td>\n      <td>-117.101095</td>\n      <td>NaN</td>\n      <td>USD</td>\n      <td>2016-05-19T09:05:15Z</td>\n      <td>NaN</td>\n      <td>Tacos Fish or Beef</td>\n      <td>Galley At The Marina</td>\n      <td>CA</td>\n    </tr>\n    <tr>\n      <th>39129</th>\n      <td>AVwdAFNN_7pvs4fz1Oe8</td>\n      <td>550 Marina Pkwy</td>\n      <td>American Restaurant,Seafood Restaurant,Burger ...</td>\n      <td>Chula Vista</td>\n      <td>American,American Restaurants</td>\n      <td>2015-10-23T03:08:07Z</td>\n      <td>2017-07-06T03:56:08Z</td>\n      <td>32.625628</td>\n      <td>-117.101095</td>\n      <td>NaN</td>\n      <td>NaN</td>\n      <td>2016-05-19T09:05:15Z</td>\n      <td>NaN</td>\n      <td>Mahi Mahi Fish Tacos</td>\n      <td>Galley At The Marina</td>\n      <td>CA</td>\n    </tr>\n    <tr>\n      <th>39130</th>\n      <td>AVwdAFNN_7pvs4fz1Oe8</td>\n      <td>550 Marina Pkwy</td>\n      <td>American Restaurant,Seafood Restaurant,Burger ...</td>\n      <td>Chula Vista</td>\n      <td>American,American Restaurants</td>\n      <td>2015-10-23T03:08:07Z</td>\n      <td>2017-07-06T03:56:08Z</td>\n      <td>32.625628</td>\n      <td>-117.101095</td>\n      <td>NaN</td>\n      <td>NaN</td>\n      <td>2016-05-19T09:05:15Z</td>\n      <td>NaN</td>\n      <td>Breakfast Burrito</td>\n      <td>Galley At The Marina</td>\n      <td>CA</td>\n    </tr>\n    <tr>\n      <th>39131</th>\n      <td>AVwdAFNN_7pvs4fz1Oe8</td>\n      <td>550 Marina Pkwy</td>\n      <td>American Restaurant,Seafood Restaurant,Burger ...</td>\n      <td>Chula Vista</td>\n      <td>American,American Restaurants</td>\n      <td>2015-10-23T03:08:07Z</td>\n      <td>2017-07-06T03:56:08Z</td>\n      <td>32.625628</td>\n      <td>-117.101095</td>\n      <td>NaN</td>\n      <td>NaN</td>\n      <td>2016-05-19T09:05:15Z</td>\n      <td>NaN</td>\n      <td>Baja Fish or Mahi Mahi Tacos</td>\n      <td>Galley At The Marina</td>\n      <td>CA</td>\n    </tr>\n    <tr>\n      <th>54198</th>\n      <td>AVwdlqiakufWRAb57XVI</td>\n      <td>495 Beach St</td>\n      <td>Traditional American,Restaurants,Breakfast,Din...</td>\n      <td>San Francisco</td>\n      <td>American Restaurants</td>\n      <td>2015-11-02T17:15:06Z</td>\n      <td>2017-07-01T14:06:19Z</td>\n      <td>37.807087</td>\n      <td>-122.417190</td>\n      <td>NaN</td>\n      <td>NaN</td>\n      <td>2016-03-22T04:14:48Z</td>\n      <td>NaN</td>\n      <td>Bacon Avocado Burrito</td>\n      <td>Denny's</td>\n      <td>CA</td>\n    </tr>\n    <tr>\n      <th>55119</th>\n      <td>AVwdMJ8QIN2L1WUftJ5k</td>\n      <td>8865 Santa Monica Blvd</td>\n      <td>Mexican Restaurant,Gay Bar,Restaurant,Happy Ho...</td>\n      <td>West Hollywood</td>\n      <td>Mexican</td>\n      <td>2016-03-22T03:41:14Z</td>\n      <td>2017-07-06T19:21:02Z</td>\n      <td>34.085178</td>\n      <td>-118.383771</td>\n      <td>NaN</td>\n      <td>USD</td>\n      <td>2016-03-22T03:41:14Z</td>\n      <td>Three steak and shrimp tacos with guacamole, p...</td>\n      <td>Surf and Turf Tacos</td>\n      <td>Fiesta Cantina</td>\n      <td>CA</td>\n    </tr>\n    <tr>\n      <th>55120</th>\n      <td>AVwdMJ8QIN2L1WUftJ5k</td>\n      <td>8865 Santa Monica Blvd</td>\n      <td>Mexican Restaurant,Gay Bar,Restaurant,Happy Ho...</td>\n      <td>West Hollywood</td>\n      <td>Mexican</td>\n      <td>2016-03-22T03:41:14Z</td>\n      <td>2017-07-06T19:21:02Z</td>\n      <td>34.085178</td>\n      <td>-118.383771</td>\n      <td>NaN</td>\n      <td>USD</td>\n      <td>2016-03-22T03:41:14Z</td>\n      <td>Three tacos with pineapple salsa, guacamole, c...</td>\n      <td>Baja Grilled Fish or Shrimp Tacos</td>\n      <td>Fiesta Cantina</td>\n      <td>CA</td>\n    </tr>\n    <tr>\n      <th>55121</th>\n      <td>AVwdMJ8QIN2L1WUftJ5k</td>\n      <td>8865 Santa Monica Blvd</td>\n      <td>Mexican Restaurant,Gay Bar,Restaurant,Happy Ho...</td>\n      <td>West Hollywood</td>\n      <td>Mexican</td>\n      <td>2016-03-22T03:41:14Z</td>\n      <td>2017-07-06T19:21:02Z</td>\n      <td>34.085178</td>\n      <td>-118.383771</td>\n      <td>NaN</td>\n      <td>USD</td>\n      <td>2016-03-22T03:41:14Z</td>\n      <td>Chicken, steak, or sauteed veggies, Spanish ri...</td>\n      <td>Fiesta Burrito</td>\n      <td>Fiesta Cantina</td>\n      <td>CA</td>\n    </tr>\n    <tr>\n      <th>55122</th>\n      <td>AVwdMJ8QIN2L1WUftJ5k</td>\n      <td>8865 Santa Monica Blvd</td>\n      <td>Mexican Restaurant,Gay Bar,Restaurant,Happy Ho...</td>\n      <td>West Hollywood</td>\n      <td>Mexican</td>\n      <td>2016-03-22T03:41:14Z</td>\n      <td>2017-07-06T19:21:02Z</td>\n      <td>34.085178</td>\n      <td>-118.383771</td>\n      <td>NaN</td>\n      <td>USD</td>\n      <td>2016-03-22T03:41:14Z</td>\n      <td>Three chicken, steak or sauteed veggie tacos t...</td>\n      <td>Cantina Tacos</td>\n      <td>Fiesta Cantina</td>\n      <td>CA</td>\n    </tr>\n    <tr>\n      <th>55123</th>\n      <td>AVwdMJ8QIN2L1WUftJ5k</td>\n      <td>8865 Santa Monica Blvd</td>\n      <td>Mexican Restaurant,Gay Bar,Restaurant,Happy Ho...</td>\n      <td>West Hollywood</td>\n      <td>Mexican</td>\n      <td>2016-03-22T03:41:14Z</td>\n      <td>2017-07-06T19:21:02Z</td>\n      <td>34.085178</td>\n      <td>-118.383771</td>\n      <td>NaN</td>\n      <td>USD</td>\n      <td>2016-03-22T03:41:14Z</td>\n      <td>NaN</td>\n      <td>Cantina Burritos</td>\n      <td>Fiesta Cantina</td>\n      <td>CA</td>\n    </tr>\n    <tr>\n      <th>55124</th>\n      <td>AVwdMJ8QIN2L1WUftJ5k</td>\n      <td>8865 Santa Monica Blvd</td>\n      <td>Mexican Restaurant,Gay Bar,Restaurant,Happy Ho...</td>\n      <td>West Hollywood</td>\n      <td>Mexican</td>\n      <td>2016-03-22T03:41:14Z</td>\n      <td>2017-07-06T19:21:02Z</td>\n      <td>34.085178</td>\n      <td>-118.383771</td>\n      <td>NaN</td>\n      <td>USD</td>\n      <td>2016-03-22T03:41:14Z</td>\n      <td>Filled with Spanish rice, black beans and thre...</td>\n      <td>Barrio Burrito</td>\n      <td>Fiesta Cantina</td>\n      <td>CA</td>\n    </tr>\n    <tr>\n      <th>55125</th>\n      <td>AVwdMJ8QIN2L1WUftJ5k</td>\n      <td>8865 Santa Monica Blvd</td>\n      <td>Mexican Restaurant,Gay Bar,Restaurant,Happy Ho...</td>\n      <td>West Hollywood</td>\n      <td>Mexican</td>\n      <td>2016-03-22T03:41:14Z</td>\n      <td>2017-07-06T19:21:02Z</td>\n      <td>34.085178</td>\n      <td>-118.383771</td>\n      <td>NaN</td>\n      <td>USD</td>\n      <td>2016-03-22T03:41:14Z</td>\n      <td>NaN</td>\n      <td>Baja Breakfast Burrito</td>\n      <td>Fiesta Cantina</td>\n      <td>CA</td>\n    </tr>\n    <tr>\n      <th>69934</th>\n      <td>AVweCHAFByjofQCxur2G</td>\n      <td>1700 Ocean Ave</td>\n      <td>New American Restaurant,Sushi Restaurant,Firep...</td>\n      <td>Santa Monica</td>\n      <td>Seafood</td>\n      <td>2016-05-19T11:27:50Z</td>\n      <td>2017-07-06T02:48:40Z</td>\n      <td>34.009119</td>\n      <td>-118.493038</td>\n      <td>NaN</td>\n      <td>USD</td>\n      <td>2016-05-19T11:27:50Z,2017-03-28T20:14:28Z</td>\n      <td>Scrambled eggs, chorizo, potatoes, chile, ched...</td>\n      <td>Breakfast Burrito</td>\n      <td>Ocean and Vine</td>\n      <td>CA</td>\n    </tr>\n    <tr>\n      <th>69935</th>\n      <td>AVweCHAFByjofQCxur2G</td>\n      <td>1700 Ocean Ave</td>\n      <td>New American Restaurant,Sushi Restaurant,Firep...</td>\n      <td>Santa Monica</td>\n      <td>Seafood</td>\n      <td>2016-05-19T11:27:50Z</td>\n      <td>2017-07-06T02:48:40Z</td>\n      <td>34.009119</td>\n      <td>-118.493038</td>\n      <td>NaN</td>\n      <td>USD</td>\n      <td>2016-05-19T11:27:50Z,2017-03-28T20:14:28Z</td>\n      <td>Warm Corn Tortillas, Cabbage, Chipotle Remoula...</td>\n      <td>Pacific Flounder Fish Tacos</td>\n      <td>Ocean and Vine</td>\n      <td>CA</td>\n    </tr>\n    <tr>\n      <th>70095</th>\n      <td>AVwecqJUByjofQCxyS7W</td>\n      <td>5507 Connecticut Ave N W</td>\n      <td>Washington Washington,Venues,Restaurant,Washin...</td>\n      <td>Washington</td>\n      <td>American (New)</td>\n      <td>2015-09-28T22:48:15Z</td>\n      <td>2015-09-28T22:48:15Z</td>\n      <td>38.963289</td>\n      <td>-77.074610</td>\n      <td>NaN</td>\n      <td>NaN</td>\n      <td>2015-09-28T22:48:15Z</td>\n      <td>a large flour tortilla filled with scrambled e...</td>\n      <td>Burrito Mananero</td>\n      <td>La Lomita Dos</td>\n      <td>DC</td>\n    </tr>\n    <tr>\n      <th>71963</th>\n      <td>AVwegw9LIN2L1WUf5n-Y</td>\n      <td>458 7th Ave</td>\n      <td>New York City,Restaurant,Midtown-south-chelsea...</td>\n      <td>New York</td>\n      <td>Delis, Sandwiches</td>\n      <td>2015-09-28T04:21:30Z</td>\n      <td>2015-09-28T04:21:30Z</td>\n      <td>40.751600</td>\n      <td>-73.990491</td>\n      <td>NaN</td>\n      <td>USD</td>\n      <td>2015-09-28T04:21:30Z</td>\n      <td>NaN</td>\n      <td>B7. Breakfast Burrito</td>\n      <td>Al's Delicatessen</td>\n      <td>G P O</td>\n    </tr>\n  </tbody>\n</table>\n</div>"
     },
     "execution_count": 183,
     "metadata": {},
     "output_type": "execute_result"
    }
   ],
   "source": [
    "df_1"
   ],
   "metadata": {
    "collapsed": false,
    "ExecuteTime": {
     "end_time": "2023-12-01T20:02:40.099441400Z",
     "start_time": "2023-12-01T20:02:40.080144800Z"
    }
   },
   "id": "45d37175ee441fdb"
  },
  {
   "cell_type": "code",
   "execution_count": 190,
   "outputs": [],
   "source": [
    "result = df_1.groupby('province').agg({'longitude': 'min'})"
   ],
   "metadata": {
    "collapsed": false,
    "ExecuteTime": {
     "end_time": "2023-12-01T20:05:40.018199900Z",
     "start_time": "2023-12-01T20:05:39.994184400Z"
    }
   },
   "id": "11b1bf7e9524c8d"
  },
  {
   "cell_type": "code",
   "execution_count": 185,
   "outputs": [
    {
     "data": {
      "text/plain": "               longitude\nprovince                \nAZ           -110.136168\nCA           -118.239676\nDC            -77.054566\nG P O         -73.990491\nKY            -87.454722\nMA            -71.055180\nMD            -77.452987\nNY            -76.793573\nSt Simons Is  -81.394050\nTX            -94.939345\nVA            -77.092562\nWA           -122.383123\nWI            -89.376639",
      "text/html": "<div>\n<style scoped>\n    .dataframe tbody tr th:only-of-type {\n        vertical-align: middle;\n    }\n\n    .dataframe tbody tr th {\n        vertical-align: top;\n    }\n\n    .dataframe thead th {\n        text-align: right;\n    }\n</style>\n<table border=\"1\" class=\"dataframe\">\n  <thead>\n    <tr style=\"text-align: right;\">\n      <th></th>\n      <th>longitude</th>\n    </tr>\n    <tr>\n      <th>province</th>\n      <th></th>\n    </tr>\n  </thead>\n  <tbody>\n    <tr>\n      <th>AZ</th>\n      <td>-110.136168</td>\n    </tr>\n    <tr>\n      <th>CA</th>\n      <td>-118.239676</td>\n    </tr>\n    <tr>\n      <th>DC</th>\n      <td>-77.054566</td>\n    </tr>\n    <tr>\n      <th>G P O</th>\n      <td>-73.990491</td>\n    </tr>\n    <tr>\n      <th>KY</th>\n      <td>-87.454722</td>\n    </tr>\n    <tr>\n      <th>MA</th>\n      <td>-71.055180</td>\n    </tr>\n    <tr>\n      <th>MD</th>\n      <td>-77.452987</td>\n    </tr>\n    <tr>\n      <th>NY</th>\n      <td>-76.793573</td>\n    </tr>\n    <tr>\n      <th>St Simons Is</th>\n      <td>-81.394050</td>\n    </tr>\n    <tr>\n      <th>TX</th>\n      <td>-94.939345</td>\n    </tr>\n    <tr>\n      <th>VA</th>\n      <td>-77.092562</td>\n    </tr>\n    <tr>\n      <th>WA</th>\n      <td>-122.383123</td>\n    </tr>\n    <tr>\n      <th>WI</th>\n      <td>-89.376639</td>\n    </tr>\n  </tbody>\n</table>\n</div>"
     },
     "execution_count": 185,
     "metadata": {},
     "output_type": "execute_result"
    }
   ],
   "source": [
    "result"
   ],
   "metadata": {
    "collapsed": false,
    "ExecuteTime": {
     "end_time": "2023-12-01T20:03:20.630600400Z",
     "start_time": "2023-12-01T20:03:20.606073600Z"
    }
   },
   "id": "37017d93b3d7b105"
  },
  {
   "cell_type": "code",
   "execution_count": 191,
   "outputs": [],
   "source": [
    "result['longitude'] = result['longitude'].round(3)"
   ],
   "metadata": {
    "collapsed": false,
    "ExecuteTime": {
     "end_time": "2023-12-01T20:05:42.579244900Z",
     "start_time": "2023-12-01T20:05:42.558222Z"
    }
   },
   "id": "8b4af52279da6968"
  },
  {
   "cell_type": "code",
   "execution_count": 192,
   "outputs": [],
   "source": [
    "result.to_csv('playstore_change.csv', ';')"
   ],
   "metadata": {
    "collapsed": false,
    "ExecuteTime": {
     "end_time": "2023-12-01T20:05:54.818202100Z",
     "start_time": "2023-12-01T20:05:54.810456Z"
    }
   },
   "id": "5f4218f8637ea8c4"
  },
  {
   "cell_type": "code",
   "execution_count": null,
   "outputs": [],
   "source": [
    "#correct resolve \n",
    "tmp = data[data['categories'].str.split(',').str.len() > 20].groupby('province')['longitude'].min().round(3)\n",
    "tmp.to_csv('hw_7.csv', sep=';')"
   ],
   "metadata": {
    "collapsed": false,
    "is_executing": true
   },
   "id": "c002f5c7afca3d4b"
  },
  {
   "cell_type": "code",
   "execution_count": null,
   "outputs": [],
   "source": [],
   "metadata": {
    "collapsed": false
   },
   "id": "d6e98dc95abe8ae7"
  }
 ],
 "metadata": {
  "kernelspec": {
   "display_name": "Python 3",
   "language": "python",
   "name": "python3"
  },
  "language_info": {
   "codemirror_mode": {
    "name": "ipython",
    "version": 2
   },
   "file_extension": ".py",
   "mimetype": "text/x-python",
   "name": "python",
   "nbconvert_exporter": "python",
   "pygments_lexer": "ipython2",
   "version": "2.7.6"
  }
 },
 "nbformat": 4,
 "nbformat_minor": 5
}
