{
 "cells": [
  {
   "cell_type": "code",
   "execution_count": 1,
   "id": "1cca2d70",
   "metadata": {
    "ExecuteTime": {
     "end_time": "2023-11-24T17:43:12.841494300Z",
     "start_time": "2023-11-24T17:43:12.838743900Z"
    }
   },
   "outputs": [],
   "source": [
    "def gcd(a, b):\n",
    "    if a < b:\n",
    "        b, a = a, b\n",
    "    while b != 0:\n",
    "        a, b = a % b, b\n",
    "    print(a)"
   ]
  },
  {
   "cell_type": "code",
   "execution_count": 2,
   "id": "7c40cabd",
   "metadata": {
    "ExecuteTime": {
     "end_time": "2023-11-24T17:48:05.188109600Z",
     "start_time": "2023-11-24T17:43:13.587451100Z"
    }
   },
   "outputs": [
    {
     "ename": "KeyboardInterrupt",
     "evalue": "",
     "output_type": "error",
     "traceback": [
      "\u001B[1;31m---------------------------------------------------------------------------\u001B[0m",
      "\u001B[1;31mKeyboardInterrupt\u001B[0m                         Traceback (most recent call last)",
      "Cell \u001B[1;32mIn[2], line 1\u001B[0m\n\u001B[1;32m----> 1\u001B[0m \u001B[43mgcd\u001B[49m\u001B[43m(\u001B[49m\u001B[38;5;241;43m5\u001B[39;49m\u001B[43m,\u001B[49m\u001B[43m \u001B[49m\u001B[38;5;241;43m10\u001B[39;49m\u001B[43m)\u001B[49m\n",
      "Cell \u001B[1;32mIn[1], line 4\u001B[0m, in \u001B[0;36mgcd\u001B[1;34m(a, b)\u001B[0m\n\u001B[0;32m      2\u001B[0m \u001B[38;5;28;01mif\u001B[39;00m a \u001B[38;5;241m<\u001B[39m b:\n\u001B[0;32m      3\u001B[0m     b, a \u001B[38;5;241m=\u001B[39m a, b\n\u001B[1;32m----> 4\u001B[0m \u001B[38;5;28;01mwhile\u001B[39;00m b \u001B[38;5;241m!=\u001B[39m \u001B[38;5;241m0\u001B[39m:\n\u001B[0;32m      5\u001B[0m     a, b \u001B[38;5;241m=\u001B[39m a \u001B[38;5;241m%\u001B[39m b, b\n\u001B[0;32m      6\u001B[0m \u001B[38;5;28mprint\u001B[39m(a)\n",
      "\u001B[1;31mKeyboardInterrupt\u001B[0m: "
     ]
    }
   ],
   "source": [
    "gcd(5, 10)"
   ]
  },
  {
   "cell_type": "code",
   "execution_count": null,
   "id": "049b7f60",
   "metadata": {
    "ExecuteTime": {
     "end_time": "2022-02-02T19:46:51.037347Z",
     "start_time": "2022-02-02T19:46:51.034432Z"
    }
   },
   "outputs": [],
   "source": [
    "print('success')"
   ]
  },
  {
   "cell_type": "code",
   "execution_count": null,
   "outputs": [],
   "source": [
    "#correct resolve\n",
    "def gcd(a, b):\n",
    "    if a < b:\n",
    "        b, a = a, b\n",
    "    while b != 0:\n",
    "        b, a = a % b, b\n",
    "    print(a)"
   ],
   "metadata": {
    "collapsed": false
   },
   "id": "a3e853ab1f84f502"
  }
 ],
 "metadata": {
  "kernelspec": {
   "display_name": "Python 3 (ipykernel)",
   "language": "python",
   "name": "python3"
  },
  "language_info": {
   "codemirror_mode": {
    "name": "ipython",
    "version": 3
   },
   "file_extension": ".py",
   "mimetype": "text/x-python",
   "name": "python",
   "nbconvert_exporter": "python",
   "pygments_lexer": "ipython3",
   "version": "3.9.7"
  },
  "toc": {
   "base_numbering": 1,
   "nav_menu": {},
   "number_sections": true,
   "sideBar": true,
   "skip_h1_title": false,
   "title_cell": "Table of Contents",
   "title_sidebar": "Contents",
   "toc_cell": false,
   "toc_position": {},
   "toc_section_display": true,
   "toc_window_display": false
  },
  "varInspector": {
   "cols": {
    "lenName": 16,
    "lenType": 16,
    "lenVar": 40
   },
   "kernels_config": {
    "python": {
     "delete_cmd_postfix": "",
     "delete_cmd_prefix": "del ",
     "library": "var_list.py",
     "varRefreshCmd": "print(var_dic_list())"
    },
    "r": {
     "delete_cmd_postfix": ") ",
     "delete_cmd_prefix": "rm(",
     "library": "var_list.r",
     "varRefreshCmd": "cat(var_dic_list()) "
    }
   },
   "types_to_exclude": [
    "module",
    "function",
    "builtin_function_or_method",
    "instance",
    "_Feature"
   ],
   "window_display": false
  }
 },
 "nbformat": 4,
 "nbformat_minor": 5
}
