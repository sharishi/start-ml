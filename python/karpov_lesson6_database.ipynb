{
 "cells": [
  {
   "cell_type": "markdown",
   "source": [],
   "metadata": {
    "collapsed": false
   },
   "id": "d3a6ef2df766d401"
  },
  {
   "cell_type": "code",
   "execution_count": 1,
   "outputs": [],
   "source": [
    "import pandas as pd\n",
    "import psycopg2"
   ],
   "metadata": {
    "collapsed": false,
    "ExecuteTime": {
     "end_time": "2023-12-05T21:07:25.877209300Z",
     "start_time": "2023-12-05T21:07:25.552198Z"
    }
   },
   "id": "ef7ad903d090afe9"
  },
  {
   "cell_type": "code",
   "execution_count": 2,
   "outputs": [],
   "source": [
    "connection = psycopg2.connect(              \n",
    "    database=\"startml\",\n",
    "    user=\"robot-startml-ro\",\n",
    "    password=\"pheiph0hahj1Vaif\",\n",
    "    host=\"postgres.lab.karpov.courses\",\n",
    "    port=6432\n",
    ")\n",
    "cursor = connection.cursor()      \n"
   ],
   "metadata": {
    "collapsed": false,
    "ExecuteTime": {
     "end_time": "2023-12-05T21:07:26.057241200Z",
     "start_time": "2023-12-05T21:07:25.879209200Z"
    }
   },
   "id": "4809e49dd6567876"
  },
  {
   "cell_type": "markdown",
   "source": [
    "Отберите уникальные значения тем (topic) в таблице постов (post).\n"
   ],
   "metadata": {
    "collapsed": false
   },
   "id": "5b69b8923c95a2f"
  },
  {
   "cell_type": "markdown",
   "source": [
    "Сделайте запрос на все колонки из таблицы user\n",
    "SELECT * FROM \"user\""
   ],
   "metadata": {
    "collapsed": false
   },
   "id": "99e6797d94ba8586"
  },
  {
   "cell_type": "code",
   "execution_count": 3,
   "outputs": [],
   "source": [
    "cursor.execute(\"\"\"                   \n",
    "SELECT DISTINCT(topic) FROM \"post\"\n",
    "\"\"\")"
   ],
   "metadata": {
    "collapsed": false,
    "ExecuteTime": {
     "end_time": "2023-12-05T21:07:26.153525800Z",
     "start_time": "2023-12-05T21:07:26.058244100Z"
    }
   },
   "id": "cbea95b1bcfaeb9b"
  },
  {
   "cell_type": "markdown",
   "source": [
    "Отберите пользователей старше 30 с устройством на iOS. Каков ID и город записи с минимальным ID (он идет первым в таблице)? Запишите значения через пробел."
   ],
   "metadata": {
    "collapsed": false
   },
   "id": "c8f248eb62ba1a21"
  },
  {
   "cell_type": "code",
   "execution_count": 4,
   "outputs": [
    {
     "data": {
      "text/plain": "[(True, False),\n (True, False),\n (False, False),\n (False, True),\n (True, False),\n (True, False),\n (False, False),\n (False, True),\n (False, False),\n (False, False),\n (True, False),\n (False, True),\n (True, True),\n (False, True),\n (False, False),\n (False, True),\n (True, False),\n (False, True),\n (False, True),\n (True, False),\n (True, False),\n (False, False),\n (True, True),\n (False, False),\n (True, True),\n (True, False),\n (True, True),\n (False, False),\n (False, True),\n (False, True),\n (True, False),\n (False, False),\n (False, True),\n (True, False),\n (False, False),\n (False, False),\n (True, False),\n (False, False),\n (False, False),\n (False, True),\n (False, False),\n (False, False),\n (True, False),\n (True, True),\n (True, False),\n (False, True),\n (False, False),\n (True, True),\n (False, False),\n (True, False),\n (False, True),\n (False, True),\n (False, True),\n (False, False),\n (True, False),\n (True, True),\n (True, True),\n (False, False),\n (True, True),\n (False, False),\n (False, False),\n (False, True),\n (False, False),\n (False, False),\n (False, True),\n (False, False),\n (True, False),\n (True, True),\n (False, True),\n (True, True),\n (False, False),\n (True, False),\n (False, False),\n (False, True),\n (False, False),\n (False, False),\n (True, True),\n (False, False),\n (False, True),\n (False, False),\n (True, False),\n (True, True),\n (False, False),\n (False, True),\n (True, False),\n (False, True),\n (False, True),\n (True, False),\n (False, True),\n (True, False),\n (False, False),\n (False, False),\n (False, False),\n (False, True),\n (False, True),\n (False, True),\n (False, True),\n (False, False),\n (True, False),\n (True, False),\n (False, False),\n (False, False),\n (False, False),\n (True, False),\n (True, False),\n (False, False),\n (False, False),\n (False, True),\n (False, True),\n (False, False),\n (False, True),\n (False, False),\n (False, True),\n (True, False),\n (False, True),\n (True, True),\n (False, False),\n (False, False),\n (True, True),\n (True, False),\n (False, False),\n (False, False),\n (True, False),\n (False, False),\n (True, False),\n (True, True),\n (False, False),\n (False, True),\n (False, True),\n (False, True),\n (True, True),\n (False, False),\n (False, False),\n (False, False),\n (False, False),\n (True, False),\n (False, True),\n (True, False),\n (True, True),\n (False, False),\n (False, False),\n (True, False),\n (False, False),\n (False, False),\n (False, False),\n (False, False),\n (True, False),\n (False, False),\n (False, True),\n (False, True),\n (False, False),\n (False, False),\n (False, True),\n (False, True),\n (False, False),\n (False, False),\n (False, True),\n (True, False),\n (False, False),\n (False, True),\n (True, False),\n (False, True),\n (True, False),\n (False, False),\n (True, True),\n (False, True),\n (False, False),\n (False, False),\n (False, False),\n (False, True),\n (True, True),\n (False, True),\n (False, False),\n (False, False),\n (False, False),\n (False, False),\n (False, False),\n (True, False),\n (False, True),\n (False, False),\n (False, False),\n (False, False),\n (True, True),\n (False, False),\n (False, True),\n (True, False),\n (True, False),\n (False, False),\n (False, False),\n (False, True),\n (False, False),\n (False, False),\n (False, True),\n (False, True),\n (False, False),\n (True, False),\n (False, False),\n (True, False),\n (False, False),\n (False, False),\n (True, False),\n (False, True),\n (False, True),\n (False, False),\n (True, True),\n (True, False),\n (False, False),\n (False, False),\n (False, False),\n (False, False),\n (False, False),\n (False, False),\n (False, False),\n (False, False),\n (False, False),\n (False, True),\n (False, False),\n (False, True),\n (True, False),\n (False, False),\n (True, False),\n (False, False),\n (False, False),\n (True, False),\n (False, True),\n (False, True),\n (False, True),\n (False, False),\n (False, True),\n (False, False),\n (False, True),\n (False, True),\n (False, False),\n (False, False),\n (False, False),\n (False, False),\n (False, False),\n (False, False),\n (True, False),\n (True, False),\n (False, True),\n (False, False),\n (False, True),\n (True, False),\n (True, True),\n (False, False),\n (False, False),\n (False, True),\n (False, False),\n (False, False),\n (True, False),\n (False, False),\n (False, False),\n (False, True),\n (False, True),\n (False, True),\n (True, True),\n (False, False),\n (False, False),\n (False, False),\n (False, False),\n (False, True),\n (False, True),\n (False, True),\n (False, True),\n (False, False),\n (True, False),\n (False, False),\n (True, False),\n (True, False),\n (False, False),\n (False, False),\n (True, False),\n (False, False),\n (False, False),\n (True, False),\n (False, False),\n (True, True),\n (False, False),\n (True, False),\n (True, True),\n (True, False),\n (False, False),\n (False, True),\n (False, False),\n (False, True),\n (False, False),\n (True, False),\n (False, True),\n (True, False),\n (True, False),\n (False, True),\n (True, False),\n (False, True),\n (True, False),\n (False, True),\n (True, False),\n (False, False),\n (True, True),\n (False, False),\n (False, False),\n (False, True),\n (False, True),\n (True, True),\n (True, False),\n (False, True),\n (True, False),\n (True, False),\n (False, True),\n (True, True),\n (False, False),\n (False, False),\n (False, False),\n (False, True),\n (True, True),\n (True, True),\n (False, True),\n (False, True),\n (False, False),\n (False, False),\n (True, True),\n (False, False),\n (False, False),\n (False, False),\n (False, False),\n (False, False),\n (False, False),\n (False, False),\n (False, True),\n (True, True),\n (False, False),\n (False, False),\n (True, False),\n (False, False),\n (False, False),\n (True, False),\n (False, True),\n (False, False),\n (False, False),\n (False, False),\n (True, False),\n (False, False),\n (False, True),\n (False, True),\n (False, True),\n (False, True),\n (False, False),\n (True, True),\n (False, True),\n (False, True),\n (False, False),\n (True, False),\n (False, True),\n (False, False),\n (True, False),\n (False, False),\n (False, False),\n (True, True),\n (False, False),\n (False, False),\n (False, False),\n (True, True),\n (False, False),\n (True, False),\n (False, False),\n (False, True),\n (True, True),\n (False, False),\n (True, False),\n (True, False),\n (True, False),\n (False, False),\n (True, True),\n (False, False),\n (False, False),\n (True, False),\n (False, True),\n (False, False),\n (False, True),\n (False, False),\n (False, True),\n (False, False),\n (False, False),\n (False, False),\n (False, False),\n (False, True),\n (False, False),\n (False, False),\n (True, False),\n (True, False),\n (False, False),\n (False, True),\n (False, True),\n (False, False),\n (True, False),\n (False, False),\n (True, False),\n (True, True),\n (False, False),\n (True, True),\n (True, True),\n (True, True),\n (False, False),\n (False, False),\n (True, True),\n (False, True),\n (False, False),\n (True, False),\n (True, True),\n (False, False),\n (False, True),\n (False, False),\n (True, False),\n (False, False),\n (True, True),\n (False, False),\n (True, True),\n (True, False),\n (True, False),\n (True, False),\n (False, False),\n (False, True),\n (True, False),\n (True, True),\n (False, True),\n (False, False),\n (False, False),\n (False, True),\n (False, False),\n (True, True),\n (False, True),\n (False, True),\n (False, True),\n (True, False),\n (False, False),\n (False, False),\n (False, False),\n (False, True),\n (False, True),\n (False, False),\n (True, False),\n (True, True),\n (False, False),\n (False, True),\n (True, False),\n (False, True),\n (True, False),\n (False, True),\n (False, False),\n (False, False),\n (False, False),\n (False, False),\n (False, True),\n (True, False),\n (True, False),\n (False, False),\n (False, False),\n (False, True),\n (False, False),\n (False, False),\n (False, False),\n (False, False),\n (False, False),\n (False, False),\n (False, False),\n (False, True),\n (True, False),\n (False, False),\n (False, False),\n (False, False),\n (False, True),\n (False, True),\n (False, False),\n (False, False),\n (True, False),\n (False, False),\n (False, False),\n (False, False),\n (True, False),\n (False, False),\n (False, True),\n (False, False),\n (True, False),\n (False, False),\n (False, True),\n (True, False),\n (True, True),\n (False, True),\n (True, False),\n (False, True),\n (False, False),\n (True, True),\n (False, False),\n (False, False),\n (True, True),\n (False, False),\n (True, True),\n (False, False),\n (False, False),\n (False, False),\n (False, True),\n (False, False),\n (False, True),\n (False, False),\n (False, False),\n (True, False),\n (True, False),\n (False, False),\n (False, False),\n (False, False),\n (False, False),\n (True, False),\n (False, True),\n (False, True),\n (False, False),\n (False, True),\n (False, False),\n (True, True),\n (False, False),\n (False, True),\n (False, False),\n (False, False),\n (False, False),\n (False, False),\n (True, False),\n (False, True),\n (True, False),\n (False, True),\n (False, True),\n (True, True),\n (True, False),\n (False, False),\n (False, False),\n (False, True),\n (False, True),\n (False, False),\n (False, True),\n (False, False),\n (False, True),\n (False, False),\n (False, True),\n (True, True),\n (False, False),\n (False, False),\n (False, True),\n (False, True),\n (True, False),\n (False, False),\n (False, False),\n (False, False),\n (False, False),\n (False, True),\n (True, False),\n (False, False),\n (True, False),\n (False, False),\n (False, False),\n (False, True),\n (True, False),\n (True, True),\n (False, False),\n (False, False),\n (False, True),\n (True, False),\n (True, False),\n (True, False),\n (False, True),\n (True, False),\n (False, False),\n (True, False),\n (True, False),\n (False, False),\n (True, False),\n (False, False),\n (True, False),\n (False, False),\n (False, False),\n (False, True),\n (False, False),\n (False, False),\n (False, True),\n (False, False),\n (False, False),\n (True, True),\n (False, False),\n (False, False),\n (False, False),\n (False, False),\n (True, True),\n (False, True),\n (False, True),\n (False, False),\n (False, False),\n (False, True),\n (False, True),\n (True, True),\n (False, False),\n (False, True),\n (False, False),\n (False, False),\n (False, False),\n (True, False),\n (False, False),\n (True, True),\n (False, False),\n (False, False),\n (False, False),\n (False, True),\n (False, True),\n (False, False),\n (False, True),\n (True, False),\n (False, False),\n (False, True),\n (False, True),\n (False, False),\n (False, False),\n (True, False),\n (False, False),\n (True, False),\n (True, False),\n (False, False),\n (True, True),\n (False, False),\n (False, False),\n (False, False),\n (False, False),\n (False, False),\n (False, True),\n (False, False),\n (False, False),\n (True, False),\n (True, False),\n (False, True),\n (False, False),\n (False, False),\n (False, False),\n (True, True),\n (True, False),\n (True, False),\n (False, False),\n (True, False),\n (True, False),\n (False, False),\n (True, False),\n (True, False),\n (False, True),\n (True, True),\n (True, True),\n (False, False),\n (False, True),\n (False, False),\n (False, True),\n (False, False),\n (True, False),\n (False, True),\n (True, True),\n (False, False),\n (True, True),\n (True, True),\n (False, False),\n (True, True),\n (False, True),\n (True, True),\n (False, False),\n (True, False),\n (True, True),\n (False, True),\n (False, False),\n (False, False),\n (False, False),\n (False, True),\n (False, False),\n (True, False),\n (False, True),\n (False, False),\n (False, False),\n (True, False),\n (True, False),\n (False, False),\n (True, False),\n (False, True),\n (False, True),\n (True, False),\n (True, True),\n (False, False),\n (True, False),\n (False, False),\n (True, False),\n (False, False),\n (False, True),\n (False, False),\n (True, False),\n (False, True),\n (True, False),\n (True, False),\n (False, False),\n (False, False),\n (False, True),\n (False, False),\n (True, True),\n (False, True),\n (True, True),\n (False, False),\n (False, True),\n (False, False),\n (True, False),\n (False, False),\n (False, False),\n (False, False),\n (False, False),\n (True, False),\n (False, True),\n (False, False),\n (False, True),\n (False, False),\n (False, True),\n (False, False),\n (False, False),\n (False, False),\n (False, False),\n (True, False),\n (False, False),\n (True, True),\n (True, False),\n (False, False),\n (True, False),\n (False, False),\n (False, False),\n (True, False),\n (True, True),\n (True, False),\n (True, False),\n (True, False),\n (False, False),\n (False, False),\n (True, True),\n (False, True),\n (False, True),\n (False, False),\n (False, True),\n (True, True),\n (True, True),\n (False, False),\n (False, True),\n (False, False),\n (False, False),\n (True, True),\n (False, True),\n (False, False),\n (False, True),\n (False, False),\n (False, False),\n (True, False),\n (False, False),\n (False, True),\n (False, True),\n (False, True),\n (False, True),\n (True, True),\n (False, True),\n (True, True),\n (True, True),\n (False, False),\n (True, False),\n (False, False),\n (False, False),\n (True, False),\n (False, False),\n (False, False),\n (True, False),\n (False, False),\n (False, False),\n (True, False),\n (True, False),\n (False, False),\n (False, False),\n (False, False),\n (False, False),\n (False, False),\n (False, False),\n (False, True),\n (False, False),\n (False, False),\n (False, True),\n (False, False),\n (False, True),\n (False, False),\n (False, True),\n (False, False),\n (False, False),\n (False, False),\n (True, False),\n (False, False),\n (False, False),\n (False, False),\n (True, False),\n (False, False),\n (False, False),\n (False, True),\n (True, False),\n (False, False),\n (False, True),\n (False, False),\n (False, False),\n (False, False),\n (True, True),\n (True, False),\n (False, True),\n (False, False),\n (False, False),\n (False, True),\n (True, True),\n (True, True),\n (True, False),\n (False, True),\n (True, True),\n (False, True),\n (True, True),\n (True, True),\n (True, False),\n (False, True),\n (True, True),\n (True, False),\n (True, False),\n (True, False),\n (True, True),\n (True, False),\n (False, False),\n (False, False),\n (True, False),\n (True, True),\n (False, False),\n (True, False),\n (True, True),\n (False, False),\n (True, False),\n (False, False),\n (False, False),\n (False, True),\n (False, False),\n (False, True),\n (False, False),\n (False, True),\n (False, False),\n (True, False),\n (True, True),\n (False, False),\n (False, False),\n (False, True),\n (False, True),\n (False, True),\n (False, True),\n (True, True),\n (False, True),\n (True, True),\n (False, True),\n (False, False),\n (False, True),\n (False, True),\n (False, True),\n (True, False),\n (False, False),\n (False, False),\n (False, False),\n (False, True),\n (True, False),\n (True, False),\n (False, False),\n (False, True),\n (False, False),\n (False, True),\n (False, True),\n (True, False),\n (True, False),\n (True, True),\n (False, True),\n (False, False),\n (False, True),\n (True, False),\n (False, True),\n (True, False),\n (True, False),\n (False, True),\n (False, False),\n (False, False),\n (True, True),\n (False, True),\n (False, False),\n (False, False),\n (False, True),\n (True, False),\n (False, False),\n (False, False),\n (False, True),\n (True, False),\n (True, False),\n (True, False),\n (False, False),\n (True, False),\n (False, False),\n (False, False),\n (False, True),\n (False, False),\n (True, False),\n (False, False),\n (False, False),\n (False, False),\n (False, True),\n (False, False),\n (False, False),\n (False, False),\n (False, False),\n (True, True),\n (False, True),\n (False, False),\n (True, True),\n (False, True),\n (False, False),\n (False, True),\n (True, False),\n (False, True),\n (False, False),\n (False, True),\n (False, False),\n (False, True),\n (True, False),\n (True, False),\n (False, False),\n (False, False),\n (True, True),\n (False, False),\n (False, True),\n (True, False),\n (False, True),\n (False, True),\n (False, True),\n (False, False),\n (False, False),\n (True, False),\n (True, True),\n (False, True),\n (False, False),\n (False, False),\n (False, False),\n (False, False),\n (False, False),\n (False, False),\n (True, True),\n (False, False),\n (False, True),\n (True, False),\n (False, False),\n (False, True),\n (True, False),\n (False, True),\n (False, False),\n (False, False),\n (True, True),\n (False, False),\n (False, True),\n (False, False),\n (False, False),\n (False, False),\n (False, False),\n (False, False),\n (False, False),\n (False, False),\n (False, False),\n (True, False),\n (False, True),\n (False, True),\n (False, False),\n (False, True),\n (False, True),\n (False, True),\n (False, False),\n (False, True),\n (False, False),\n (False, False),\n (False, True),\n (False, True),\n (False, False),\n (True, False),\n (True, False),\n (False, False),\n (True, False),\n (True, False),\n (True, True),\n (False, True),\n (False, False),\n (False, True),\n (True, True),\n (True, False),\n (False, True),\n (False, False),\n (False, False),\n (False, False),\n (False, True),\n (False, True),\n ...]"
     },
     "execution_count": 4,
     "metadata": {},
     "output_type": "execute_result"
    }
   ],
   "source": [
    "cursor.execute(\"\"\"                   \n",
    "SELECT age > 30, os = 'iOS'  FROM \"user\"\n",
    "\"\"\")\n",
    "results = cursor.fetchall()       # Получаем результаты (fetchall() - \"получить всё\")\n",
    "results"
   ],
   "metadata": {
    "collapsed": false,
    "ExecuteTime": {
     "end_time": "2023-12-05T21:07:27.942516800Z",
     "start_time": "2023-12-05T21:07:26.154524700Z"
    }
   },
   "id": "eb1d246f0a55d89b"
  },
  {
   "cell_type": "code",
   "execution_count": 5,
   "outputs": [
    {
     "data": {
      "text/plain": "           id  gender  age     country           city  exp_group   os   source\n0         212       1   47      Russia        Podolsk          0  iOS      ads\n1         222       0   45      Russia      Ulyanovsk          0  iOS      ads\n2         224       1   32      Russia  Yekaterinburg          2  iOS      ads\n3         226       1   31      Russia         Moscow          4  iOS      ads\n4         243       1   38  Kazakhstan      Ekibastuz          1  iOS      ads\n...       ...     ...  ...         ...            ...        ...  ...      ...\n17665  168517       1   49      Russia         Urzhum          4  iOS  organic\n17666  168525       1   39     Ukraine      Pavlohrad          1  iOS  organic\n17667  168536       0   31      Russia     Michurinsk          1  iOS  organic\n17668  168540       0   38      Russia          Tukan          0  iOS  organic\n17669  168551       0   38      Russia         Moscow          3  iOS  organic\n\n[17670 rows x 8 columns]",
      "text/html": "<div>\n<style scoped>\n    .dataframe tbody tr th:only-of-type {\n        vertical-align: middle;\n    }\n\n    .dataframe tbody tr th {\n        vertical-align: top;\n    }\n\n    .dataframe thead th {\n        text-align: right;\n    }\n</style>\n<table border=\"1\" class=\"dataframe\">\n  <thead>\n    <tr style=\"text-align: right;\">\n      <th></th>\n      <th>id</th>\n      <th>gender</th>\n      <th>age</th>\n      <th>country</th>\n      <th>city</th>\n      <th>exp_group</th>\n      <th>os</th>\n      <th>source</th>\n    </tr>\n  </thead>\n  <tbody>\n    <tr>\n      <th>0</th>\n      <td>212</td>\n      <td>1</td>\n      <td>47</td>\n      <td>Russia</td>\n      <td>Podolsk</td>\n      <td>0</td>\n      <td>iOS</td>\n      <td>ads</td>\n    </tr>\n    <tr>\n      <th>1</th>\n      <td>222</td>\n      <td>0</td>\n      <td>45</td>\n      <td>Russia</td>\n      <td>Ulyanovsk</td>\n      <td>0</td>\n      <td>iOS</td>\n      <td>ads</td>\n    </tr>\n    <tr>\n      <th>2</th>\n      <td>224</td>\n      <td>1</td>\n      <td>32</td>\n      <td>Russia</td>\n      <td>Yekaterinburg</td>\n      <td>2</td>\n      <td>iOS</td>\n      <td>ads</td>\n    </tr>\n    <tr>\n      <th>3</th>\n      <td>226</td>\n      <td>1</td>\n      <td>31</td>\n      <td>Russia</td>\n      <td>Moscow</td>\n      <td>4</td>\n      <td>iOS</td>\n      <td>ads</td>\n    </tr>\n    <tr>\n      <th>4</th>\n      <td>243</td>\n      <td>1</td>\n      <td>38</td>\n      <td>Kazakhstan</td>\n      <td>Ekibastuz</td>\n      <td>1</td>\n      <td>iOS</td>\n      <td>ads</td>\n    </tr>\n    <tr>\n      <th>...</th>\n      <td>...</td>\n      <td>...</td>\n      <td>...</td>\n      <td>...</td>\n      <td>...</td>\n      <td>...</td>\n      <td>...</td>\n      <td>...</td>\n    </tr>\n    <tr>\n      <th>17665</th>\n      <td>168517</td>\n      <td>1</td>\n      <td>49</td>\n      <td>Russia</td>\n      <td>Urzhum</td>\n      <td>4</td>\n      <td>iOS</td>\n      <td>organic</td>\n    </tr>\n    <tr>\n      <th>17666</th>\n      <td>168525</td>\n      <td>1</td>\n      <td>39</td>\n      <td>Ukraine</td>\n      <td>Pavlohrad</td>\n      <td>1</td>\n      <td>iOS</td>\n      <td>organic</td>\n    </tr>\n    <tr>\n      <th>17667</th>\n      <td>168536</td>\n      <td>0</td>\n      <td>31</td>\n      <td>Russia</td>\n      <td>Michurinsk</td>\n      <td>1</td>\n      <td>iOS</td>\n      <td>organic</td>\n    </tr>\n    <tr>\n      <th>17668</th>\n      <td>168540</td>\n      <td>0</td>\n      <td>38</td>\n      <td>Russia</td>\n      <td>Tukan</td>\n      <td>0</td>\n      <td>iOS</td>\n      <td>organic</td>\n    </tr>\n    <tr>\n      <th>17669</th>\n      <td>168551</td>\n      <td>0</td>\n      <td>38</td>\n      <td>Russia</td>\n      <td>Moscow</td>\n      <td>3</td>\n      <td>iOS</td>\n      <td>organic</td>\n    </tr>\n  </tbody>\n</table>\n<p>17670 rows × 8 columns</p>\n</div>"
     },
     "execution_count": 5,
     "metadata": {},
     "output_type": "execute_result"
    }
   ],
   "source": [
    "df = pd.read_sql(\n",
    "    \"\"\"\n",
    "SELECT *\n",
    "FROM \"user\"\n",
    "WHERE age > 30 AND os = 'iOS';\n",
    " \"\"\",\n",
    "    con=\"postgresql://robot-startml-ro:pheiph0hahj1Vaif@\"\n",
    "        \"postgres.lab.karpov.courses:6432/startml\"\n",
    ")\n",
    "\n",
    "df"
   ],
   "metadata": {
    "collapsed": false,
    "ExecuteTime": {
     "end_time": "2023-12-05T21:07:30.196422400Z",
     "start_time": "2023-12-05T21:07:27.941516600Z"
    }
   },
   "id": "35e3b7903797a388"
  },
  {
   "cell_type": "markdown",
   "source": [
    "Отберите пользователей, которые не из России и при этом либо их экспериментальная группа не 0 и не 3 или их город – Минск."
   ],
   "metadata": {
    "collapsed": false
   },
   "id": "e5c3f31c9dc08610"
  },
  {
   "cell_type": "code",
   "execution_count": 6,
   "outputs": [
    {
     "data": {
      "text/plain": "           id  gender  age     country       city  exp_group       os   source\n0         211       1   22     Belarus      Minsk          0      iOS      ads\n1         213       1   22     Ukraine  Kamianske          2      iOS      ads\n2         216       0   38     Ukraine       Lviv          1  Android      ads\n3         218       1   25     Belarus      Minsk          2      iOS      ads\n4         228       0   17  Azerbaijan       Baku          2      iOS      ads\n...       ...     ...  ...         ...        ...        ...      ...      ...\n12471  168477       1   20      Turkey     Ankara          4  Android  organic\n12472  168524       1   17      Turkey     Ereğli          2  Android  organic\n12473  168525       1   39     Ukraine  Pavlohrad          1      iOS  organic\n12474  168527       1   20     Ukraine       Sumy          2      iOS  organic\n12475  168544       1   18     Ukraine      Odesa          1      iOS  organic\n\n[12476 rows x 8 columns]",
      "text/html": "<div>\n<style scoped>\n    .dataframe tbody tr th:only-of-type {\n        vertical-align: middle;\n    }\n\n    .dataframe tbody tr th {\n        vertical-align: top;\n    }\n\n    .dataframe thead th {\n        text-align: right;\n    }\n</style>\n<table border=\"1\" class=\"dataframe\">\n  <thead>\n    <tr style=\"text-align: right;\">\n      <th></th>\n      <th>id</th>\n      <th>gender</th>\n      <th>age</th>\n      <th>country</th>\n      <th>city</th>\n      <th>exp_group</th>\n      <th>os</th>\n      <th>source</th>\n    </tr>\n  </thead>\n  <tbody>\n    <tr>\n      <th>0</th>\n      <td>211</td>\n      <td>1</td>\n      <td>22</td>\n      <td>Belarus</td>\n      <td>Minsk</td>\n      <td>0</td>\n      <td>iOS</td>\n      <td>ads</td>\n    </tr>\n    <tr>\n      <th>1</th>\n      <td>213</td>\n      <td>1</td>\n      <td>22</td>\n      <td>Ukraine</td>\n      <td>Kamianske</td>\n      <td>2</td>\n      <td>iOS</td>\n      <td>ads</td>\n    </tr>\n    <tr>\n      <th>2</th>\n      <td>216</td>\n      <td>0</td>\n      <td>38</td>\n      <td>Ukraine</td>\n      <td>Lviv</td>\n      <td>1</td>\n      <td>Android</td>\n      <td>ads</td>\n    </tr>\n    <tr>\n      <th>3</th>\n      <td>218</td>\n      <td>1</td>\n      <td>25</td>\n      <td>Belarus</td>\n      <td>Minsk</td>\n      <td>2</td>\n      <td>iOS</td>\n      <td>ads</td>\n    </tr>\n    <tr>\n      <th>4</th>\n      <td>228</td>\n      <td>0</td>\n      <td>17</td>\n      <td>Azerbaijan</td>\n      <td>Baku</td>\n      <td>2</td>\n      <td>iOS</td>\n      <td>ads</td>\n    </tr>\n    <tr>\n      <th>...</th>\n      <td>...</td>\n      <td>...</td>\n      <td>...</td>\n      <td>...</td>\n      <td>...</td>\n      <td>...</td>\n      <td>...</td>\n      <td>...</td>\n    </tr>\n    <tr>\n      <th>12471</th>\n      <td>168477</td>\n      <td>1</td>\n      <td>20</td>\n      <td>Turkey</td>\n      <td>Ankara</td>\n      <td>4</td>\n      <td>Android</td>\n      <td>organic</td>\n    </tr>\n    <tr>\n      <th>12472</th>\n      <td>168524</td>\n      <td>1</td>\n      <td>17</td>\n      <td>Turkey</td>\n      <td>Ereğli</td>\n      <td>2</td>\n      <td>Android</td>\n      <td>organic</td>\n    </tr>\n    <tr>\n      <th>12473</th>\n      <td>168525</td>\n      <td>1</td>\n      <td>39</td>\n      <td>Ukraine</td>\n      <td>Pavlohrad</td>\n      <td>1</td>\n      <td>iOS</td>\n      <td>organic</td>\n    </tr>\n    <tr>\n      <th>12474</th>\n      <td>168527</td>\n      <td>1</td>\n      <td>20</td>\n      <td>Ukraine</td>\n      <td>Sumy</td>\n      <td>2</td>\n      <td>iOS</td>\n      <td>organic</td>\n    </tr>\n    <tr>\n      <th>12475</th>\n      <td>168544</td>\n      <td>1</td>\n      <td>18</td>\n      <td>Ukraine</td>\n      <td>Odesa</td>\n      <td>1</td>\n      <td>iOS</td>\n      <td>organic</td>\n    </tr>\n  </tbody>\n</table>\n<p>12476 rows × 8 columns</p>\n</div>"
     },
     "execution_count": 6,
     "metadata": {},
     "output_type": "execute_result"
    }
   ],
   "source": [
    "df = pd.read_sql(\n",
    "    \"\"\"\n",
    "SELECT *\n",
    "FROM \"user\"\n",
    "WHERE country != 'Russia' AND (exp_group NOT IN (0, 3) OR city = 'Minsk');\n",
    "\n",
    "\n",
    " \"\"\",\n",
    "    con=\"postgresql://robot-startml-ro:pheiph0hahj1Vaif@\"\n",
    "        \"postgres.lab.karpov.courses:6432/startml\"\n",
    ")\n",
    "\n",
    "df"
   ],
   "metadata": {
    "collapsed": false,
    "ExecuteTime": {
     "end_time": "2023-12-05T21:07:34.834879100Z",
     "start_time": "2023-12-05T21:07:30.197424300Z"
    }
   },
   "id": "3e01a84e7593f20c"
  },
  {
   "cell_type": "markdown",
   "source": [
    "Подсчитайте средний возраст пользователей в разрезе страны. В ответ напишите средний возраст пользователей из Кипра. Ответ округлите до двух знаков после точки"
   ],
   "metadata": {
    "collapsed": false
   },
   "id": "3e2de5c199d8f121"
  },
  {
   "cell_type": "code",
   "execution_count": 7,
   "outputs": [
    {
     "data": {
      "text/plain": "    round      country\n0   26.78   Azerbaijan\n1   27.28      Belarus\n2   28.07       Cyprus\n3   28.15      Estonia\n4   27.13      Finland\n5   27.22   Kazakhstan\n6   27.22       Latvia\n7   27.19       Russia\n8   27.95  Switzerland\n9   27.45       Turkey\n10  27.26      Ukraine",
      "text/html": "<div>\n<style scoped>\n    .dataframe tbody tr th:only-of-type {\n        vertical-align: middle;\n    }\n\n    .dataframe tbody tr th {\n        vertical-align: top;\n    }\n\n    .dataframe thead th {\n        text-align: right;\n    }\n</style>\n<table border=\"1\" class=\"dataframe\">\n  <thead>\n    <tr style=\"text-align: right;\">\n      <th></th>\n      <th>round</th>\n      <th>country</th>\n    </tr>\n  </thead>\n  <tbody>\n    <tr>\n      <th>0</th>\n      <td>26.78</td>\n      <td>Azerbaijan</td>\n    </tr>\n    <tr>\n      <th>1</th>\n      <td>27.28</td>\n      <td>Belarus</td>\n    </tr>\n    <tr>\n      <th>2</th>\n      <td>28.07</td>\n      <td>Cyprus</td>\n    </tr>\n    <tr>\n      <th>3</th>\n      <td>28.15</td>\n      <td>Estonia</td>\n    </tr>\n    <tr>\n      <th>4</th>\n      <td>27.13</td>\n      <td>Finland</td>\n    </tr>\n    <tr>\n      <th>5</th>\n      <td>27.22</td>\n      <td>Kazakhstan</td>\n    </tr>\n    <tr>\n      <th>6</th>\n      <td>27.22</td>\n      <td>Latvia</td>\n    </tr>\n    <tr>\n      <th>7</th>\n      <td>27.19</td>\n      <td>Russia</td>\n    </tr>\n    <tr>\n      <th>8</th>\n      <td>27.95</td>\n      <td>Switzerland</td>\n    </tr>\n    <tr>\n      <th>9</th>\n      <td>27.45</td>\n      <td>Turkey</td>\n    </tr>\n    <tr>\n      <th>10</th>\n      <td>27.26</td>\n      <td>Ukraine</td>\n    </tr>\n  </tbody>\n</table>\n</div>"
     },
     "execution_count": 7,
     "metadata": {},
     "output_type": "execute_result"
    }
   ],
   "source": [
    "df = pd.read_sql(\n",
    "    \"\"\"\n",
    "SELECT ROUND(AVG(age),2), country\n",
    "FROM \"user\"\n",
    "GROUP BY country;\n",
    "\n",
    "\n",
    " \"\"\",\n",
    "    con=\"postgresql://robot-startml-ro:pheiph0hahj1Vaif@\"\n",
    "        \"postgres.lab.karpov.courses:6432/startml\"\n",
    ")\n",
    "\n",
    "df\n"
   ],
   "metadata": {
    "collapsed": false,
    "ExecuteTime": {
     "end_time": "2023-12-05T21:07:35.769848200Z",
     "start_time": "2023-12-05T21:07:34.835871300Z"
    }
   },
   "id": "78c5458490cc5e04"
  },
  {
   "cell_type": "markdown",
   "source": [
    "Сгруппируйте пользователей сначала по экспериментальной группе, а затем по операционной системе. В каждой группе подсчитайте количество пользователей, максимальный и минимальный возраст.\n",
    "\n",
    "Сохраните результаты в файл CSV с колонками в следующем порядке: exp_group, os, total_users, max_age, min_age (обратите внимание на название последних трех колонок!), используя запятую в качестве сепаратора, и отправьте файл в LMS."
   ],
   "metadata": {
    "collapsed": false
   },
   "id": "db755b594485a3e0"
  },
  {
   "cell_type": "code",
   "execution_count": 8,
   "outputs": [],
   "source": [
    "df = pd.read_sql(\n",
    "    \"\"\"\n",
    "SELECT exp_group, os, COUNT(*) AS total_users, MAX(age) AS max_age, MIN(age) AS min_age\n",
    "FROM \"user\"\n",
    "GROUP BY exp_group, os;\n",
    "\n",
    "\n",
    " \"\"\",\n",
    "    con=\"postgresql://robot-startml-ro:pheiph0hahj1Vaif@\"\n",
    "        \"postgres.lab.karpov.courses:6432/startml\"\n",
    ")\n",
    "\n",
    "df_reset = df.reset_index()\n",
    "\n",
    "df.to_csv('save.csv', index=False, sep= ',')"
   ],
   "metadata": {
    "collapsed": false,
    "ExecuteTime": {
     "end_time": "2023-12-05T21:07:36.705839500Z",
     "start_time": "2023-12-05T21:07:35.770850500Z"
    }
   },
   "id": "9e9f3c25913481"
  },
  {
   "cell_type": "code",
   "execution_count": 9,
   "outputs": [
    {
     "data": {
      "text/plain": "   exp_group       os  total_users  max_age  min_age\n0          0  Android        21234       95       14\n1          0      iOS        11489       79       14\n2          1  Android        21232       92       14\n3          1      iOS        11406       87       14\n4          2  Android        21102       78       14\n5          2      iOS        11512       74       14\n6          3  Android        21319       84       14\n7          3      iOS        11449       85       14\n8          4  Android        21085       84       14\n9          4      iOS        11377       78       14",
      "text/html": "<div>\n<style scoped>\n    .dataframe tbody tr th:only-of-type {\n        vertical-align: middle;\n    }\n\n    .dataframe tbody tr th {\n        vertical-align: top;\n    }\n\n    .dataframe thead th {\n        text-align: right;\n    }\n</style>\n<table border=\"1\" class=\"dataframe\">\n  <thead>\n    <tr style=\"text-align: right;\">\n      <th></th>\n      <th>exp_group</th>\n      <th>os</th>\n      <th>total_users</th>\n      <th>max_age</th>\n      <th>min_age</th>\n    </tr>\n  </thead>\n  <tbody>\n    <tr>\n      <th>0</th>\n      <td>0</td>\n      <td>Android</td>\n      <td>21234</td>\n      <td>95</td>\n      <td>14</td>\n    </tr>\n    <tr>\n      <th>1</th>\n      <td>0</td>\n      <td>iOS</td>\n      <td>11489</td>\n      <td>79</td>\n      <td>14</td>\n    </tr>\n    <tr>\n      <th>2</th>\n      <td>1</td>\n      <td>Android</td>\n      <td>21232</td>\n      <td>92</td>\n      <td>14</td>\n    </tr>\n    <tr>\n      <th>3</th>\n      <td>1</td>\n      <td>iOS</td>\n      <td>11406</td>\n      <td>87</td>\n      <td>14</td>\n    </tr>\n    <tr>\n      <th>4</th>\n      <td>2</td>\n      <td>Android</td>\n      <td>21102</td>\n      <td>78</td>\n      <td>14</td>\n    </tr>\n    <tr>\n      <th>5</th>\n      <td>2</td>\n      <td>iOS</td>\n      <td>11512</td>\n      <td>74</td>\n      <td>14</td>\n    </tr>\n    <tr>\n      <th>6</th>\n      <td>3</td>\n      <td>Android</td>\n      <td>21319</td>\n      <td>84</td>\n      <td>14</td>\n    </tr>\n    <tr>\n      <th>7</th>\n      <td>3</td>\n      <td>iOS</td>\n      <td>11449</td>\n      <td>85</td>\n      <td>14</td>\n    </tr>\n    <tr>\n      <th>8</th>\n      <td>4</td>\n      <td>Android</td>\n      <td>21085</td>\n      <td>84</td>\n      <td>14</td>\n    </tr>\n    <tr>\n      <th>9</th>\n      <td>4</td>\n      <td>iOS</td>\n      <td>11377</td>\n      <td>78</td>\n      <td>14</td>\n    </tr>\n  </tbody>\n</table>\n</div>"
     },
     "execution_count": 9,
     "metadata": {},
     "output_type": "execute_result"
    }
   ],
   "source": [
    "df"
   ],
   "metadata": {
    "collapsed": false,
    "ExecuteTime": {
     "end_time": "2023-12-05T21:07:36.712927200Z",
     "start_time": "2023-12-05T21:07:36.708835200Z"
    }
   },
   "id": "27da38b562ea81aa"
  },
  {
   "cell_type": "markdown",
   "source": [
    "В каждой категории постов определите длину самого длинного текста, используя таблицу post. В ответ отправьте тему, у которой длина самого большого поста больше 25 000."
   ],
   "metadata": {
    "collapsed": false
   },
   "id": "959a477c75c58bd3"
  },
  {
   "cell_type": "code",
   "execution_count": 10,
   "outputs": [
    {
     "data": {
      "text/plain": "      topic  max_text_length\n0  politics            25392",
      "text/html": "<div>\n<style scoped>\n    .dataframe tbody tr th:only-of-type {\n        vertical-align: middle;\n    }\n\n    .dataframe tbody tr th {\n        vertical-align: top;\n    }\n\n    .dataframe thead th {\n        text-align: right;\n    }\n</style>\n<table border=\"1\" class=\"dataframe\">\n  <thead>\n    <tr style=\"text-align: right;\">\n      <th></th>\n      <th>topic</th>\n      <th>max_text_length</th>\n    </tr>\n  </thead>\n  <tbody>\n    <tr>\n      <th>0</th>\n      <td>politics</td>\n      <td>25392</td>\n    </tr>\n  </tbody>\n</table>\n</div>"
     },
     "execution_count": 10,
     "metadata": {},
     "output_type": "execute_result"
    }
   ],
   "source": [
    "df = pd.read_sql(\n",
    "    \"\"\"\n",
    "SELECT topic, MAX(LENGTH(text)) AS max_text_length\n",
    "FROM \"post\"\n",
    "GROUP BY topic\n",
    "HAVING MAX(LENGTH(text)) > 25000;\n",
    "\n",
    "\n",
    "\n",
    "\n",
    " \"\"\",\n",
    "    con=\"postgresql://robot-startml-ro:pheiph0hahj1Vaif@\"\n",
    "        \"postgres.lab.karpov.courses:6432/startml\"\n",
    ")\n",
    "\n",
    "df"
   ],
   "metadata": {
    "collapsed": false,
    "ExecuteTime": {
     "end_time": "2023-12-05T21:07:37.569876100Z",
     "start_time": "2023-12-05T21:07:36.712927200Z"
    }
   },
   "id": "b85b495267ec5823"
  },
  {
   "cell_type": "markdown",
   "source": [
    "Найдите страну с наименьшим числом пользователей среди стран, у которых общее число пользователей больше 1000. Введите ее название на английском.\n",
    "SELECT country, MIN(*) \n",
    "FROM \"user\"\n",
    "GROUP BY country\n",
    "HAVING COUNT(*) > 1000;"
   ],
   "metadata": {
    "collapsed": false
   },
   "id": "8172e2694841a00c"
  },
  {
   "cell_type": "code",
   "execution_count": 11,
   "outputs": [
    {
     "data": {
      "text/plain": "      country\n0  Azerbaijan",
      "text/html": "<div>\n<style scoped>\n    .dataframe tbody tr th:only-of-type {\n        vertical-align: middle;\n    }\n\n    .dataframe tbody tr th {\n        vertical-align: top;\n    }\n\n    .dataframe thead th {\n        text-align: right;\n    }\n</style>\n<table border=\"1\" class=\"dataframe\">\n  <thead>\n    <tr style=\"text-align: right;\">\n      <th></th>\n      <th>country</th>\n    </tr>\n  </thead>\n  <tbody>\n    <tr>\n      <th>0</th>\n      <td>Azerbaijan</td>\n    </tr>\n  </tbody>\n</table>\n</div>"
     },
     "execution_count": 11,
     "metadata": {},
     "output_type": "execute_result"
    }
   ],
   "source": [
    "df = pd.read_sql(\n",
    "    \"\"\"\n",
    "SELECT country\n",
    "FROM \"user\"\n",
    "GROUP BY country\n",
    "HAVING COUNT(*) > 1000\n",
    "ORDER BY COUNT(*) ASC\n",
    "LIMIT 1;\n",
    " \"\"\",\n",
    "    con=\"postgresql://robot-startml-ro:pheiph0hahj1Vaif@\"\n",
    "        \"postgres.lab.karpov.courses:6432/startml\"\n",
    ")\n",
    "\n",
    "df"
   ],
   "metadata": {
    "collapsed": false,
    "ExecuteTime": {
     "end_time": "2023-12-05T21:07:38.463373900Z",
     "start_time": "2023-12-05T21:07:37.571875900Z"
    }
   },
   "id": "4d271b953b7dd59b"
  },
  {
   "cell_type": "markdown",
   "source": [
    "Количество пользователей внутри каждой группы, доступной в стране, для каждой страны"
   ],
   "metadata": {
    "collapsed": false
   },
   "id": "c7b3ac6f5d60ccdc"
  },
  {
   "cell_type": "code",
   "execution_count": 12,
   "outputs": [
    {
     "data": {
      "text/plain": "        country  exp_group  count\n0    Azerbaijan          0    341\n1    Azerbaijan          1    271\n2    Azerbaijan          2    327\n3    Azerbaijan          3    308\n4    Azerbaijan          4    295\n5       Belarus          0    671\n6       Belarus          1    658\n7       Belarus          2    644\n8       Belarus          3    641\n9       Belarus          4    679\n10       Cyprus          0     25\n11       Cyprus          1     34\n12       Cyprus          2     33\n13       Cyprus          3     43\n14       Cyprus          4     35\n15      Estonia          0     45\n16      Estonia          1     40\n17      Estonia          2     35\n18      Estonia          3     36\n19      Estonia          4     22\n20      Finland          0    319\n21      Finland          1    326\n22      Finland          2    333\n23      Finland          3    298\n24      Finland          4    323\n25   Kazakhstan          0    630\n26   Kazakhstan          1    653\n27   Kazakhstan          2    601\n28   Kazakhstan          3    650\n29   Kazakhstan          4    638\n30       Latvia          0     39\n31       Latvia          1     30\n32       Latvia          2     34\n33       Latvia          3     37\n34       Latvia          4     35\n35       Russia          0  28681\n36       Russia          1  28619\n37       Russia          2  28627\n38       Russia          3  28711\n39       Russia          4  28397\n40  Switzerland          0     35\n41  Switzerland          1     27\n42  Switzerland          2     34\n43  Switzerland          3     34\n44  Switzerland          4     32\n45       Turkey          0    328\n46       Turkey          1    316\n47       Turkey          2    314\n48       Turkey          3    333\n49       Turkey          4    315\n50      Ukraine          0   1609\n51      Ukraine          1   1664\n52      Ukraine          2   1632\n53      Ukraine          3   1677\n54      Ukraine          4   1691",
      "text/html": "<div>\n<style scoped>\n    .dataframe tbody tr th:only-of-type {\n        vertical-align: middle;\n    }\n\n    .dataframe tbody tr th {\n        vertical-align: top;\n    }\n\n    .dataframe thead th {\n        text-align: right;\n    }\n</style>\n<table border=\"1\" class=\"dataframe\">\n  <thead>\n    <tr style=\"text-align: right;\">\n      <th></th>\n      <th>country</th>\n      <th>exp_group</th>\n      <th>count</th>\n    </tr>\n  </thead>\n  <tbody>\n    <tr>\n      <th>0</th>\n      <td>Azerbaijan</td>\n      <td>0</td>\n      <td>341</td>\n    </tr>\n    <tr>\n      <th>1</th>\n      <td>Azerbaijan</td>\n      <td>1</td>\n      <td>271</td>\n    </tr>\n    <tr>\n      <th>2</th>\n      <td>Azerbaijan</td>\n      <td>2</td>\n      <td>327</td>\n    </tr>\n    <tr>\n      <th>3</th>\n      <td>Azerbaijan</td>\n      <td>3</td>\n      <td>308</td>\n    </tr>\n    <tr>\n      <th>4</th>\n      <td>Azerbaijan</td>\n      <td>4</td>\n      <td>295</td>\n    </tr>\n    <tr>\n      <th>5</th>\n      <td>Belarus</td>\n      <td>0</td>\n      <td>671</td>\n    </tr>\n    <tr>\n      <th>6</th>\n      <td>Belarus</td>\n      <td>1</td>\n      <td>658</td>\n    </tr>\n    <tr>\n      <th>7</th>\n      <td>Belarus</td>\n      <td>2</td>\n      <td>644</td>\n    </tr>\n    <tr>\n      <th>8</th>\n      <td>Belarus</td>\n      <td>3</td>\n      <td>641</td>\n    </tr>\n    <tr>\n      <th>9</th>\n      <td>Belarus</td>\n      <td>4</td>\n      <td>679</td>\n    </tr>\n    <tr>\n      <th>10</th>\n      <td>Cyprus</td>\n      <td>0</td>\n      <td>25</td>\n    </tr>\n    <tr>\n      <th>11</th>\n      <td>Cyprus</td>\n      <td>1</td>\n      <td>34</td>\n    </tr>\n    <tr>\n      <th>12</th>\n      <td>Cyprus</td>\n      <td>2</td>\n      <td>33</td>\n    </tr>\n    <tr>\n      <th>13</th>\n      <td>Cyprus</td>\n      <td>3</td>\n      <td>43</td>\n    </tr>\n    <tr>\n      <th>14</th>\n      <td>Cyprus</td>\n      <td>4</td>\n      <td>35</td>\n    </tr>\n    <tr>\n      <th>15</th>\n      <td>Estonia</td>\n      <td>0</td>\n      <td>45</td>\n    </tr>\n    <tr>\n      <th>16</th>\n      <td>Estonia</td>\n      <td>1</td>\n      <td>40</td>\n    </tr>\n    <tr>\n      <th>17</th>\n      <td>Estonia</td>\n      <td>2</td>\n      <td>35</td>\n    </tr>\n    <tr>\n      <th>18</th>\n      <td>Estonia</td>\n      <td>3</td>\n      <td>36</td>\n    </tr>\n    <tr>\n      <th>19</th>\n      <td>Estonia</td>\n      <td>4</td>\n      <td>22</td>\n    </tr>\n    <tr>\n      <th>20</th>\n      <td>Finland</td>\n      <td>0</td>\n      <td>319</td>\n    </tr>\n    <tr>\n      <th>21</th>\n      <td>Finland</td>\n      <td>1</td>\n      <td>326</td>\n    </tr>\n    <tr>\n      <th>22</th>\n      <td>Finland</td>\n      <td>2</td>\n      <td>333</td>\n    </tr>\n    <tr>\n      <th>23</th>\n      <td>Finland</td>\n      <td>3</td>\n      <td>298</td>\n    </tr>\n    <tr>\n      <th>24</th>\n      <td>Finland</td>\n      <td>4</td>\n      <td>323</td>\n    </tr>\n    <tr>\n      <th>25</th>\n      <td>Kazakhstan</td>\n      <td>0</td>\n      <td>630</td>\n    </tr>\n    <tr>\n      <th>26</th>\n      <td>Kazakhstan</td>\n      <td>1</td>\n      <td>653</td>\n    </tr>\n    <tr>\n      <th>27</th>\n      <td>Kazakhstan</td>\n      <td>2</td>\n      <td>601</td>\n    </tr>\n    <tr>\n      <th>28</th>\n      <td>Kazakhstan</td>\n      <td>3</td>\n      <td>650</td>\n    </tr>\n    <tr>\n      <th>29</th>\n      <td>Kazakhstan</td>\n      <td>4</td>\n      <td>638</td>\n    </tr>\n    <tr>\n      <th>30</th>\n      <td>Latvia</td>\n      <td>0</td>\n      <td>39</td>\n    </tr>\n    <tr>\n      <th>31</th>\n      <td>Latvia</td>\n      <td>1</td>\n      <td>30</td>\n    </tr>\n    <tr>\n      <th>32</th>\n      <td>Latvia</td>\n      <td>2</td>\n      <td>34</td>\n    </tr>\n    <tr>\n      <th>33</th>\n      <td>Latvia</td>\n      <td>3</td>\n      <td>37</td>\n    </tr>\n    <tr>\n      <th>34</th>\n      <td>Latvia</td>\n      <td>4</td>\n      <td>35</td>\n    </tr>\n    <tr>\n      <th>35</th>\n      <td>Russia</td>\n      <td>0</td>\n      <td>28681</td>\n    </tr>\n    <tr>\n      <th>36</th>\n      <td>Russia</td>\n      <td>1</td>\n      <td>28619</td>\n    </tr>\n    <tr>\n      <th>37</th>\n      <td>Russia</td>\n      <td>2</td>\n      <td>28627</td>\n    </tr>\n    <tr>\n      <th>38</th>\n      <td>Russia</td>\n      <td>3</td>\n      <td>28711</td>\n    </tr>\n    <tr>\n      <th>39</th>\n      <td>Russia</td>\n      <td>4</td>\n      <td>28397</td>\n    </tr>\n    <tr>\n      <th>40</th>\n      <td>Switzerland</td>\n      <td>0</td>\n      <td>35</td>\n    </tr>\n    <tr>\n      <th>41</th>\n      <td>Switzerland</td>\n      <td>1</td>\n      <td>27</td>\n    </tr>\n    <tr>\n      <th>42</th>\n      <td>Switzerland</td>\n      <td>2</td>\n      <td>34</td>\n    </tr>\n    <tr>\n      <th>43</th>\n      <td>Switzerland</td>\n      <td>3</td>\n      <td>34</td>\n    </tr>\n    <tr>\n      <th>44</th>\n      <td>Switzerland</td>\n      <td>4</td>\n      <td>32</td>\n    </tr>\n    <tr>\n      <th>45</th>\n      <td>Turkey</td>\n      <td>0</td>\n      <td>328</td>\n    </tr>\n    <tr>\n      <th>46</th>\n      <td>Turkey</td>\n      <td>1</td>\n      <td>316</td>\n    </tr>\n    <tr>\n      <th>47</th>\n      <td>Turkey</td>\n      <td>2</td>\n      <td>314</td>\n    </tr>\n    <tr>\n      <th>48</th>\n      <td>Turkey</td>\n      <td>3</td>\n      <td>333</td>\n    </tr>\n    <tr>\n      <th>49</th>\n      <td>Turkey</td>\n      <td>4</td>\n      <td>315</td>\n    </tr>\n    <tr>\n      <th>50</th>\n      <td>Ukraine</td>\n      <td>0</td>\n      <td>1609</td>\n    </tr>\n    <tr>\n      <th>51</th>\n      <td>Ukraine</td>\n      <td>1</td>\n      <td>1664</td>\n    </tr>\n    <tr>\n      <th>52</th>\n      <td>Ukraine</td>\n      <td>2</td>\n      <td>1632</td>\n    </tr>\n    <tr>\n      <th>53</th>\n      <td>Ukraine</td>\n      <td>3</td>\n      <td>1677</td>\n    </tr>\n    <tr>\n      <th>54</th>\n      <td>Ukraine</td>\n      <td>4</td>\n      <td>1691</td>\n    </tr>\n  </tbody>\n</table>\n</div>"
     },
     "execution_count": 12,
     "metadata": {},
     "output_type": "execute_result"
    }
   ],
   "source": [
    "df = pd.read_sql(\n",
    "    \"\"\"\n",
    "SELECT country, exp_group, COUNT(id)\n",
    "FROM \"user\"\n",
    "GROUP BY country, exp_group;\n",
    " \"\"\",\n",
    "    con=\"postgresql://robot-startml-ro:pheiph0hahj1Vaif@\"\n",
    "        \"postgres.lab.karpov.courses:6432/startml\"\n",
    ")\n",
    "\n",
    "df"
   ],
   "metadata": {
    "collapsed": false,
    "ExecuteTime": {
     "end_time": "2023-12-05T21:07:39.366383400Z",
     "start_time": "2023-12-05T21:07:38.463373900Z"
    }
   },
   "id": "7f0c0a5ce9e5463"
  },
  {
   "cell_type": "markdown",
   "source": [
    "Отберите для пользователей из Москвы экспериментальные группы, в которых средний возраст больше 27.2. Напишите через пробел число пользователей в этих группах."
   ],
   "metadata": {
    "collapsed": false
   },
   "id": "e7b9af16bc12c6c"
  },
  {
   "cell_type": "code",
   "execution_count": 13,
   "outputs": [
    {
     "data": {
      "text/plain": "   count\n0   4414\n1   4378",
      "text/html": "<div>\n<style scoped>\n    .dataframe tbody tr th:only-of-type {\n        vertical-align: middle;\n    }\n\n    .dataframe tbody tr th {\n        vertical-align: top;\n    }\n\n    .dataframe thead th {\n        text-align: right;\n    }\n</style>\n<table border=\"1\" class=\"dataframe\">\n  <thead>\n    <tr style=\"text-align: right;\">\n      <th></th>\n      <th>count</th>\n    </tr>\n  </thead>\n  <tbody>\n    <tr>\n      <th>0</th>\n      <td>4414</td>\n    </tr>\n    <tr>\n      <th>1</th>\n      <td>4378</td>\n    </tr>\n  </tbody>\n</table>\n</div>"
     },
     "execution_count": 13,
     "metadata": {},
     "output_type": "execute_result"
    }
   ],
   "source": [
    "df = pd.read_sql(\n",
    "    \"\"\"\n",
    "SELECT COUNT(*)\n",
    "FROM \"user\"\n",
    "WHERE city = 'Moscow'\n",
    "GROUP BY exp_group\n",
    "HAVING AVG(age) > 27.2;\n",
    " \"\"\",\n",
    "    con=\"postgresql://robot-startml-ro:pheiph0hahj1Vaif@\"\n",
    "        \"postgres.lab.karpov.courses:6432/startml\"\n",
    ")\n",
    "\n",
    "df"
   ],
   "metadata": {
    "collapsed": false,
    "ExecuteTime": {
     "end_time": "2023-12-05T21:07:40.194236600Z",
     "start_time": "2023-12-05T21:07:39.366383400Z"
    }
   },
   "id": "19d663f56d9f7bb8"
  },
  {
   "cell_type": "markdown",
   "source": [
    "Сейчас мы будем работать с другой таблицей под названием post. Найдите в таблице post 3 темы с наибольшим количеством постов. Напишите через пробел названия этих тем."
   ],
   "metadata": {
    "collapsed": false
   },
   "id": "7fe90317fc0ea253"
  },
  {
   "cell_type": "code",
   "execution_count": 14,
   "outputs": [
    {
     "data": {
      "text/plain": "   topic\n0  movie\n1  covid\n2  sport",
      "text/html": "<div>\n<style scoped>\n    .dataframe tbody tr th:only-of-type {\n        vertical-align: middle;\n    }\n\n    .dataframe tbody tr th {\n        vertical-align: top;\n    }\n\n    .dataframe thead th {\n        text-align: right;\n    }\n</style>\n<table border=\"1\" class=\"dataframe\">\n  <thead>\n    <tr style=\"text-align: right;\">\n      <th></th>\n      <th>topic</th>\n    </tr>\n  </thead>\n  <tbody>\n    <tr>\n      <th>0</th>\n      <td>movie</td>\n    </tr>\n    <tr>\n      <th>1</th>\n      <td>covid</td>\n    </tr>\n    <tr>\n      <th>2</th>\n      <td>sport</td>\n    </tr>\n  </tbody>\n</table>\n</div>"
     },
     "execution_count": 14,
     "metadata": {},
     "output_type": "execute_result"
    }
   ],
   "source": [
    "df = pd.read_sql(\n",
    "    \"\"\"\n",
    "SELECT topic\n",
    "FROM \"post\"\n",
    "GROUP BY topic\n",
    "ORDER BY COUNT(*) DESC\n",
    "LIMIT 3;\n",
    " \"\"\",\n",
    "    con=\"postgresql://robot-startml-ro:pheiph0hahj1Vaif@\"\n",
    "        \"postgres.lab.karpov.courses:6432/startml\"\n",
    ")\n",
    "\n",
    "df"
   ],
   "metadata": {
    "collapsed": false,
    "ExecuteTime": {
     "end_time": "2023-12-05T21:07:40.957999900Z",
     "start_time": "2023-12-05T21:07:40.192236Z"
    }
   },
   "id": "abe9907216d12f2e"
  },
  {
   "cell_type": "markdown",
   "source": [
    "Отберите пользователей из Воронежа (Voronezh) и отсортируйте их по возрасту в убывающем порядке. Для равных возрастов отсортируйте по возрастанию экспериментальной группы.\n",
    "\n",
    "Напишите ID второго в порядке выдачи пользователя."
   ],
   "metadata": {
    "collapsed": false
   },
   "id": "a75b07ddd79a129f"
  },
  {
   "cell_type": "code",
   "execution_count": 15,
   "outputs": [
    {
     "data": {
      "text/plain": "          id  gender  age country      city  exp_group       os   source\n0      89990       0   71  Russia  Voronezh          0  Android      ads\n1       2441       1   71  Russia  Voronezh          3  Android      ads\n2      14184       1   66  Russia  Voronezh          3  Android      ads\n3      35093       0   65  Russia  Voronezh          0  Android      ads\n4      77284       0   64  Russia  Voronezh          4  Android      ads\n...      ...     ...  ...     ...       ...        ...      ...      ...\n1369  151841       1   14  Russia  Voronezh          4  Android  organic\n1370  116446       0   14  Russia  Voronezh          4      iOS  organic\n1371   18278       0   14  Russia  Voronezh          4  Android      ads\n1372  110611       1   14  Russia  Voronezh          4  Android  organic\n1373   29604       0   14  Russia  Voronezh          4  Android      ads\n\n[1374 rows x 8 columns]",
      "text/html": "<div>\n<style scoped>\n    .dataframe tbody tr th:only-of-type {\n        vertical-align: middle;\n    }\n\n    .dataframe tbody tr th {\n        vertical-align: top;\n    }\n\n    .dataframe thead th {\n        text-align: right;\n    }\n</style>\n<table border=\"1\" class=\"dataframe\">\n  <thead>\n    <tr style=\"text-align: right;\">\n      <th></th>\n      <th>id</th>\n      <th>gender</th>\n      <th>age</th>\n      <th>country</th>\n      <th>city</th>\n      <th>exp_group</th>\n      <th>os</th>\n      <th>source</th>\n    </tr>\n  </thead>\n  <tbody>\n    <tr>\n      <th>0</th>\n      <td>89990</td>\n      <td>0</td>\n      <td>71</td>\n      <td>Russia</td>\n      <td>Voronezh</td>\n      <td>0</td>\n      <td>Android</td>\n      <td>ads</td>\n    </tr>\n    <tr>\n      <th>1</th>\n      <td>2441</td>\n      <td>1</td>\n      <td>71</td>\n      <td>Russia</td>\n      <td>Voronezh</td>\n      <td>3</td>\n      <td>Android</td>\n      <td>ads</td>\n    </tr>\n    <tr>\n      <th>2</th>\n      <td>14184</td>\n      <td>1</td>\n      <td>66</td>\n      <td>Russia</td>\n      <td>Voronezh</td>\n      <td>3</td>\n      <td>Android</td>\n      <td>ads</td>\n    </tr>\n    <tr>\n      <th>3</th>\n      <td>35093</td>\n      <td>0</td>\n      <td>65</td>\n      <td>Russia</td>\n      <td>Voronezh</td>\n      <td>0</td>\n      <td>Android</td>\n      <td>ads</td>\n    </tr>\n    <tr>\n      <th>4</th>\n      <td>77284</td>\n      <td>0</td>\n      <td>64</td>\n      <td>Russia</td>\n      <td>Voronezh</td>\n      <td>4</td>\n      <td>Android</td>\n      <td>ads</td>\n    </tr>\n    <tr>\n      <th>...</th>\n      <td>...</td>\n      <td>...</td>\n      <td>...</td>\n      <td>...</td>\n      <td>...</td>\n      <td>...</td>\n      <td>...</td>\n      <td>...</td>\n    </tr>\n    <tr>\n      <th>1369</th>\n      <td>151841</td>\n      <td>1</td>\n      <td>14</td>\n      <td>Russia</td>\n      <td>Voronezh</td>\n      <td>4</td>\n      <td>Android</td>\n      <td>organic</td>\n    </tr>\n    <tr>\n      <th>1370</th>\n      <td>116446</td>\n      <td>0</td>\n      <td>14</td>\n      <td>Russia</td>\n      <td>Voronezh</td>\n      <td>4</td>\n      <td>iOS</td>\n      <td>organic</td>\n    </tr>\n    <tr>\n      <th>1371</th>\n      <td>18278</td>\n      <td>0</td>\n      <td>14</td>\n      <td>Russia</td>\n      <td>Voronezh</td>\n      <td>4</td>\n      <td>Android</td>\n      <td>ads</td>\n    </tr>\n    <tr>\n      <th>1372</th>\n      <td>110611</td>\n      <td>1</td>\n      <td>14</td>\n      <td>Russia</td>\n      <td>Voronezh</td>\n      <td>4</td>\n      <td>Android</td>\n      <td>organic</td>\n    </tr>\n    <tr>\n      <th>1373</th>\n      <td>29604</td>\n      <td>0</td>\n      <td>14</td>\n      <td>Russia</td>\n      <td>Voronezh</td>\n      <td>4</td>\n      <td>Android</td>\n      <td>ads</td>\n    </tr>\n  </tbody>\n</table>\n<p>1374 rows × 8 columns</p>\n</div>"
     },
     "execution_count": 15,
     "metadata": {},
     "output_type": "execute_result"
    }
   ],
   "source": [
    "df = pd.read_sql(\n",
    "    \"\"\"\n",
    "SELECT *\n",
    "FROM \"user\"\n",
    "WHERE city = 'Voronezh'\n",
    "ORDER BY age DESC, exp_group ASC;\n",
    " \"\"\",\n",
    "    con=\"postgresql://robot-startml-ro:pheiph0hahj1Vaif@\"\n",
    "        \"postgres.lab.karpov.courses:6432/startml\"\n",
    ")\n",
    "\n",
    "df"
   ],
   "metadata": {
    "collapsed": false,
    "ExecuteTime": {
     "end_time": "2023-12-05T21:07:42.037749800Z",
     "start_time": "2023-12-05T21:07:40.956996700Z"
    }
   },
   "id": "d2a1207edd0e8d5a"
  },
  {
   "cell_type": "markdown",
   "source": [
    "Отберите post_id, time, age и os пользователя для всех лайков пользователей из Омска. Отсортируйте результаты по убыванию времени действия и загрузите в LMS первые 100 значений в формате CSV (сепаратор \"запятая\", колонки с теми же названиями, что и в задании)."
   ],
   "metadata": {
    "collapsed": false
   },
   "id": "58a7e976557e2170"
  },
  {
   "cell_type": "code",
   "execution_count": 21,
   "outputs": [],
   "source": [
    "df = pd.read_sql(\n",
    "    \"\"\"\n",
    "SELECT f.post_id, f.time, u.age, u.os\n",
    "FROM \"user\" u\n",
    "JOIN \"feed_action\" f ON f.user_id = u.id\n",
    "WHERE u.city = 'Omsk' AND f.action = 'like'\n",
    "ORDER BY f.time DESC\n",
    "LIMIT 100;\n",
    " \"\"\",\n",
    "    con=\"postgresql://robot-startml-ro:pheiph0hahj1Vaif@\"\n",
    "        \"postgres.lab.karpov.courses:6432/startml\"\n",
    ")\n",
    "\n",
    "df.to_csv('omsk1.csv', index=False, sep = ',')"
   ],
   "metadata": {
    "collapsed": false,
    "ExecuteTime": {
     "end_time": "2023-12-05T21:40:10.300299600Z",
     "start_time": "2023-12-05T21:39:52.554726100Z"
    }
   },
   "id": "7450be033df8b150"
  },
  {
   "cell_type": "markdown",
   "source": [
    "Найдите город, пользователи которого в возрасте 36 лет 2021-12-01 числа просмотрели запись на тему covid меньше всего раз относительно других городов. Введите его название на английском."
   ],
   "metadata": {
    "collapsed": false
   },
   "id": "b657cc271fad5a96"
  },
  {
   "cell_type": "code",
   "execution_count": 35,
   "outputs": [
    {
     "data": {
      "text/plain": "     city  view_count\n0  Dubove          16",
      "text/html": "<div>\n<style scoped>\n    .dataframe tbody tr th:only-of-type {\n        vertical-align: middle;\n    }\n\n    .dataframe tbody tr th {\n        vertical-align: top;\n    }\n\n    .dataframe thead th {\n        text-align: right;\n    }\n</style>\n<table border=\"1\" class=\"dataframe\">\n  <thead>\n    <tr style=\"text-align: right;\">\n      <th></th>\n      <th>city</th>\n      <th>view_count</th>\n    </tr>\n  </thead>\n  <tbody>\n    <tr>\n      <th>0</th>\n      <td>Dubove</td>\n      <td>16</td>\n    </tr>\n  </tbody>\n</table>\n</div>"
     },
     "execution_count": 35,
     "metadata": {},
     "output_type": "execute_result"
    }
   ],
   "source": [
    "df = pd.read_sql(\n",
    "    \"\"\"\n",
    "SELECT u.city, COUNT(*) AS view_count\n",
    "FROM \"user\" u\n",
    "JOIN \"feed_action\" f ON f.user_id = u.id\n",
    "JOIN \"post\" p ON p.id = u.id\n",
    "WHERE u.age = 36 AND f.time::date = '2021-12-01' AND p.topic = 'covid'\n",
    "GROUP BY u.city\n",
    "ORDER BY view_count ASC\n",
    "LIMIT 1;\n",
    " \"\"\",\n",
    "    con=\"postgresql://robot-startml-ro:pheiph0hahj1Vaif@\"\n",
    "        \"postgres.lab.karpov.courses:6432/startml\"\n",
    ")\n",
    "\n",
    "df"
   ],
   "metadata": {
    "collapsed": false,
    "ExecuteTime": {
     "end_time": "2023-12-06T08:46:19.766564600Z",
     "start_time": "2023-12-06T08:46:18.620690700Z"
    }
   },
   "id": "65e314978f742fda"
  },
  {
   "cell_type": "code",
   "execution_count": 39,
   "outputs": [
    {
     "data": {
      "text/plain": "                 city  count\n0         Arkhangelsk      5\n1          Apsheronsk      8\n2            Fryazino      8\n3               Varna      9\n4          Karmaskaly      9\n..                ...    ...\n163  Nizhniy Novgorod    126\n164          Belgorod    150\n165       Novosibirsk    171\n166  Saint Petersburg    230\n167            Moscow   1617\n\n[168 rows x 2 columns]",
      "text/html": "<div>\n<style scoped>\n    .dataframe tbody tr th:only-of-type {\n        vertical-align: middle;\n    }\n\n    .dataframe tbody tr th {\n        vertical-align: top;\n    }\n\n    .dataframe thead th {\n        text-align: right;\n    }\n</style>\n<table border=\"1\" class=\"dataframe\">\n  <thead>\n    <tr style=\"text-align: right;\">\n      <th></th>\n      <th>city</th>\n      <th>count</th>\n    </tr>\n  </thead>\n  <tbody>\n    <tr>\n      <th>0</th>\n      <td>Arkhangelsk</td>\n      <td>5</td>\n    </tr>\n    <tr>\n      <th>1</th>\n      <td>Apsheronsk</td>\n      <td>8</td>\n    </tr>\n    <tr>\n      <th>2</th>\n      <td>Fryazino</td>\n      <td>8</td>\n    </tr>\n    <tr>\n      <th>3</th>\n      <td>Varna</td>\n      <td>9</td>\n    </tr>\n    <tr>\n      <th>4</th>\n      <td>Karmaskaly</td>\n      <td>9</td>\n    </tr>\n    <tr>\n      <th>...</th>\n      <td>...</td>\n      <td>...</td>\n    </tr>\n    <tr>\n      <th>163</th>\n      <td>Nizhniy Novgorod</td>\n      <td>126</td>\n    </tr>\n    <tr>\n      <th>164</th>\n      <td>Belgorod</td>\n      <td>150</td>\n    </tr>\n    <tr>\n      <th>165</th>\n      <td>Novosibirsk</td>\n      <td>171</td>\n    </tr>\n    <tr>\n      <th>166</th>\n      <td>Saint Petersburg</td>\n      <td>230</td>\n    </tr>\n    <tr>\n      <th>167</th>\n      <td>Moscow</td>\n      <td>1617</td>\n    </tr>\n  </tbody>\n</table>\n<p>168 rows × 2 columns</p>\n</div>"
     },
     "execution_count": 39,
     "metadata": {},
     "output_type": "execute_result"
    }
   ],
   "source": [
    "df = pd.read_sql(\n",
    "    \"\"\"\n",
    "SELECT u.city, COUNT(f.action) \n",
    "FROM \"user\" u\n",
    "JOIN \"feed_action\" f ON f.user_id = u.id\n",
    "JOIN \"post\" p ON f.post_id = p.id\n",
    "WHERE u.age = 36 AND f.time::date = '2021-12-01' AND p.topic = 'covid' AND f.action = 'view'\n",
    "GROUP BY u.city\n",
    "ORDER BY count ASC\n",
    " \"\"\",\n",
    "    con=\"postgresql://robot-startml-ro:pheiph0hahj1Vaif@\"\n",
    "        \"postgres.lab.karpov.courses:6432/startml\"\n",
    ")\n",
    "\n",
    "df"
   ],
   "metadata": {
    "collapsed": false,
    "ExecuteTime": {
     "end_time": "2023-12-06T08:50:05.025408400Z",
     "start_time": "2023-12-06T08:49:56.165475600Z"
    }
   },
   "id": "8eb54aa69e4f13c2"
  },
  {
   "cell_type": "markdown",
   "source": [
    "Напишите SQL запрос, используя который вы получите:\n",
    "- топ N постов по лайкам,\n",
    "- количество пролайкавших пользователей,\n",
    "- время последнего лайка.\n",
    "\n",
    "В качестве ответа напишите через пробел первые 3 ID постов из этого топа."
   ],
   "metadata": {
    "collapsed": false
   },
   "id": "b83ce362c39aa52a"
  },
  {
   "cell_type": "code",
   "execution_count": 48,
   "outputs": [
    {
     "data": {
      "text/plain": "   post_id max_action  count_num            lat_time\n0     4866       like      31714 2022-01-01 13:57:43\n1     5127       like      29637 2022-01-05 13:52:17\n2     6448       like      27939 2022-01-22 05:50:39\n3     6498       like      27729 2022-01-22 21:45:11\n4     6513       like      27686 2022-01-22 19:59:52\n5     3192       like      26507 2021-12-06 19:57:50\n6     6314       like      26478 2022-01-20 07:46:21\n7     6864       like      24156 2022-01-26 23:52:48\n8     5413       like      23441 2022-01-07 09:57:07\n9     5165       like      22596 2022-01-04 17:43:12",
      "text/html": "<div>\n<style scoped>\n    .dataframe tbody tr th:only-of-type {\n        vertical-align: middle;\n    }\n\n    .dataframe tbody tr th {\n        vertical-align: top;\n    }\n\n    .dataframe thead th {\n        text-align: right;\n    }\n</style>\n<table border=\"1\" class=\"dataframe\">\n  <thead>\n    <tr style=\"text-align: right;\">\n      <th></th>\n      <th>post_id</th>\n      <th>max_action</th>\n      <th>count_num</th>\n      <th>lat_time</th>\n    </tr>\n  </thead>\n  <tbody>\n    <tr>\n      <th>0</th>\n      <td>4866</td>\n      <td>like</td>\n      <td>31714</td>\n      <td>2022-01-01 13:57:43</td>\n    </tr>\n    <tr>\n      <th>1</th>\n      <td>5127</td>\n      <td>like</td>\n      <td>29637</td>\n      <td>2022-01-05 13:52:17</td>\n    </tr>\n    <tr>\n      <th>2</th>\n      <td>6448</td>\n      <td>like</td>\n      <td>27939</td>\n      <td>2022-01-22 05:50:39</td>\n    </tr>\n    <tr>\n      <th>3</th>\n      <td>6498</td>\n      <td>like</td>\n      <td>27729</td>\n      <td>2022-01-22 21:45:11</td>\n    </tr>\n    <tr>\n      <th>4</th>\n      <td>6513</td>\n      <td>like</td>\n      <td>27686</td>\n      <td>2022-01-22 19:59:52</td>\n    </tr>\n    <tr>\n      <th>5</th>\n      <td>3192</td>\n      <td>like</td>\n      <td>26507</td>\n      <td>2021-12-06 19:57:50</td>\n    </tr>\n    <tr>\n      <th>6</th>\n      <td>6314</td>\n      <td>like</td>\n      <td>26478</td>\n      <td>2022-01-20 07:46:21</td>\n    </tr>\n    <tr>\n      <th>7</th>\n      <td>6864</td>\n      <td>like</td>\n      <td>24156</td>\n      <td>2022-01-26 23:52:48</td>\n    </tr>\n    <tr>\n      <th>8</th>\n      <td>5413</td>\n      <td>like</td>\n      <td>23441</td>\n      <td>2022-01-07 09:57:07</td>\n    </tr>\n    <tr>\n      <th>9</th>\n      <td>5165</td>\n      <td>like</td>\n      <td>22596</td>\n      <td>2022-01-04 17:43:12</td>\n    </tr>\n  </tbody>\n</table>\n</div>"
     },
     "execution_count": 48,
     "metadata": {},
     "output_type": "execute_result"
    }
   ],
   "source": [
    "df = pd.read_sql(\n",
    "    \"\"\"\n",
    "SELECT post_id, MAX(f.action) as max_action, COUNT(f.user_id) as count_num, MAX(f.time) as lat_time\n",
    "FROM \"feed_action\" f\n",
    "JOIN \"user\" u ON f.user_id = u.id\n",
    "JOIN \"post\" p ON f.post_id = p.id\n",
    "WHERE f.action = 'like'\n",
    "GROUP BY post_id\n",
    "ORDER BY count_num DESC\n",
    "LIMIT 10;\n",
    " \"\"\",\n",
    "    con=\"postgresql://robot-startml-ro:pheiph0hahj1Vaif@\"\n",
    "        \"postgres.lab.karpov.courses:6432/startml\"\n",
    ")\n",
    "\n",
    "df"
   ],
   "metadata": {
    "collapsed": false,
    "ExecuteTime": {
     "end_time": "2023-12-06T09:04:33.590268400Z",
     "start_time": "2023-12-06T09:04:21.330298600Z"
    }
   },
   "id": "7e418b7993efd36d"
  },
  {
   "cell_type": "code",
   "execution_count": 50,
   "outputs": [
    {
     "data": {
      "text/plain": "   post_id max_action  count_num           last_time\n0     4866       like      31714 2022-01-01 13:57:43\n1     5127       like      29637 2022-01-05 13:52:17\n2     6448       like      27939 2022-01-22 05:50:39\n3     6498       like      27729 2022-01-22 21:45:11\n4     6513       like      27686 2022-01-22 19:59:52\n5     6314       like      26478 2022-01-20 07:46:21\n6     3192       like      26251 2021-12-06 19:57:50\n7     6864       like      24156 2022-01-26 23:52:48\n8     5413       like      23441 2022-01-07 09:57:07\n9     5165       like      22596 2022-01-04 17:43:12",
      "text/html": "<div>\n<style scoped>\n    .dataframe tbody tr th:only-of-type {\n        vertical-align: middle;\n    }\n\n    .dataframe tbody tr th {\n        vertical-align: top;\n    }\n\n    .dataframe thead th {\n        text-align: right;\n    }\n</style>\n<table border=\"1\" class=\"dataframe\">\n  <thead>\n    <tr style=\"text-align: right;\">\n      <th></th>\n      <th>post_id</th>\n      <th>max_action</th>\n      <th>count_num</th>\n      <th>last_time</th>\n    </tr>\n  </thead>\n  <tbody>\n    <tr>\n      <th>0</th>\n      <td>4866</td>\n      <td>like</td>\n      <td>31714</td>\n      <td>2022-01-01 13:57:43</td>\n    </tr>\n    <tr>\n      <th>1</th>\n      <td>5127</td>\n      <td>like</td>\n      <td>29637</td>\n      <td>2022-01-05 13:52:17</td>\n    </tr>\n    <tr>\n      <th>2</th>\n      <td>6448</td>\n      <td>like</td>\n      <td>27939</td>\n      <td>2022-01-22 05:50:39</td>\n    </tr>\n    <tr>\n      <th>3</th>\n      <td>6498</td>\n      <td>like</td>\n      <td>27729</td>\n      <td>2022-01-22 21:45:11</td>\n    </tr>\n    <tr>\n      <th>4</th>\n      <td>6513</td>\n      <td>like</td>\n      <td>27686</td>\n      <td>2022-01-22 19:59:52</td>\n    </tr>\n    <tr>\n      <th>5</th>\n      <td>6314</td>\n      <td>like</td>\n      <td>26478</td>\n      <td>2022-01-20 07:46:21</td>\n    </tr>\n    <tr>\n      <th>6</th>\n      <td>3192</td>\n      <td>like</td>\n      <td>26251</td>\n      <td>2021-12-06 19:57:50</td>\n    </tr>\n    <tr>\n      <th>7</th>\n      <td>6864</td>\n      <td>like</td>\n      <td>24156</td>\n      <td>2022-01-26 23:52:48</td>\n    </tr>\n    <tr>\n      <th>8</th>\n      <td>5413</td>\n      <td>like</td>\n      <td>23441</td>\n      <td>2022-01-07 09:57:07</td>\n    </tr>\n    <tr>\n      <th>9</th>\n      <td>5165</td>\n      <td>like</td>\n      <td>22596</td>\n      <td>2022-01-04 17:43:12</td>\n    </tr>\n  </tbody>\n</table>\n</div>"
     },
     "execution_count": 50,
     "metadata": {},
     "output_type": "execute_result"
    }
   ],
   "source": [
    "df = pd.read_sql(\n",
    "    \"\"\"\n",
    "SELECT f.post_id, MAX(f.action) as max_action, COUNT(DISTINCT f.user_id) as count_num, MAX(f.time) as last_time\n",
    "FROM \"feed_action\" f\n",
    "JOIN \"user\" u ON f.user_id = u.id\n",
    "JOIN \"post\" p ON f.post_id = p.id\n",
    "WHERE f.action = 'like'\n",
    "GROUP BY f.post_id\n",
    "ORDER BY count_num DESC\n",
    "LIMIT 10;\n",
    "\n",
    " \"\"\",\n",
    "    con=\"postgresql://robot-startml-ro:pheiph0hahj1Vaif@\"\n",
    "        \"postgres.lab.karpov.courses:6432/startml\"\n",
    ")\n",
    "\n",
    "df"
   ],
   "metadata": {
    "collapsed": false,
    "ExecuteTime": {
     "end_time": "2023-12-06T09:09:45.476827700Z",
     "start_time": "2023-12-06T09:09:22.569486600Z"
    }
   },
   "id": "42b838ef98976a61"
  },
  {
   "cell_type": "code",
   "execution_count": null,
   "outputs": [],
   "source": [],
   "metadata": {
    "collapsed": false
   },
   "id": "cb577420b74ed68a"
  }
 ],
 "metadata": {
  "kernelspec": {
   "display_name": "Python 3",
   "language": "python",
   "name": "python3"
  },
  "language_info": {
   "codemirror_mode": {
    "name": "ipython",
    "version": 2
   },
   "file_extension": ".py",
   "mimetype": "text/x-python",
   "name": "python",
   "nbconvert_exporter": "python",
   "pygments_lexer": "ipython2",
   "version": "2.7.6"
  }
 },
 "nbformat": 4,
 "nbformat_minor": 5
}
