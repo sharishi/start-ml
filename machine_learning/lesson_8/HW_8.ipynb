{
 "cells": [
  {
   "cell_type": "markdown",
   "metadata": {},
   "source": [
    "### В данной домашней работе Вам предстоит отработать следующие 2 навыка: работа с пропущенными значениями и анализ выбросов."
   ],
   "id": "de1bffba8266eb0c"
  },
  {
   "cell_type": "code",
   "execution_count": 1,
   "metadata": {
    "ExecuteTime": {
     "end_time": "2024-01-29T15:00:11.618867900Z",
     "start_time": "2024-01-29T15:00:07.629829Z"
    }
   },
   "outputs": [],
   "source": [
    "import numpy as np\n",
    "import pandas as pd\n",
    "\n",
    "data = pd.read_csv('processed_data_with_new_features.csv', index_col='id')"
   ],
   "id": "e065453dbf14adb2"
  },
  {
   "cell_type": "code",
   "execution_count": 2,
   "metadata": {
    "ExecuteTime": {
     "end_time": "2024-01-29T15:00:11.638844Z",
     "start_time": "2024-01-29T15:00:11.620870400Z"
    }
   },
   "outputs": [
    {
     "data": {
      "text/plain": "           vendor_id  passenger_count  store_and_fwd_flag  distance_km  \\\nid                                                                       \nid2875421          1       930.399753                   0     1.500479   \nid2377394          0       930.399753                   0     1.807119   \nid3858529          1              NaN                   0     6.392080   \nid3504673          1              NaN                   0     1.487155   \nid2181028          1       930.399753                   0     1.189925   \n\n           log_trip_duration  anomaly  traffic_jam  day_of_week_1  \\\nid                                                                  \nid2875421           6.122493        0            0              0   \nid2377394           6.498282        0            0              0   \nid3858529           7.661527        0            1              1   \nid3504673           6.063785        0            0              0   \nid2181028           6.077642        0            0              0   \n\n           day_of_week_2  day_of_week_3  ...  hour_19  hour_20  hour_21  \\\nid                                       ...                              \nid2875421              0              0  ...        0        0        0   \nid2377394              0              0  ...        0        0        0   \nid3858529              0              0  ...        0        0        0   \nid3504673              1              0  ...        1        0        0   \nid2181028              0              0  ...        0        0        0   \n\n           hour_22  hour_23  month_2  month_3  month_4  month_5  month_6  \nid                                                                        \nid2875421        0        0        0        1        0        0        0  \nid2377394        0        0        0        0        0        0        1  \nid3858529        0        0        0        0        0        0        0  \nid3504673        0        0        0        0        1        0        0  \nid2181028        0        0        0        1        0        0        0  \n\n[5 rows x 41 columns]",
      "text/html": "<div>\n<style scoped>\n    .dataframe tbody tr th:only-of-type {\n        vertical-align: middle;\n    }\n\n    .dataframe tbody tr th {\n        vertical-align: top;\n    }\n\n    .dataframe thead th {\n        text-align: right;\n    }\n</style>\n<table border=\"1\" class=\"dataframe\">\n  <thead>\n    <tr style=\"text-align: right;\">\n      <th></th>\n      <th>vendor_id</th>\n      <th>passenger_count</th>\n      <th>store_and_fwd_flag</th>\n      <th>distance_km</th>\n      <th>log_trip_duration</th>\n      <th>anomaly</th>\n      <th>traffic_jam</th>\n      <th>day_of_week_1</th>\n      <th>day_of_week_2</th>\n      <th>day_of_week_3</th>\n      <th>...</th>\n      <th>hour_19</th>\n      <th>hour_20</th>\n      <th>hour_21</th>\n      <th>hour_22</th>\n      <th>hour_23</th>\n      <th>month_2</th>\n      <th>month_3</th>\n      <th>month_4</th>\n      <th>month_5</th>\n      <th>month_6</th>\n    </tr>\n    <tr>\n      <th>id</th>\n      <th></th>\n      <th></th>\n      <th></th>\n      <th></th>\n      <th></th>\n      <th></th>\n      <th></th>\n      <th></th>\n      <th></th>\n      <th></th>\n      <th></th>\n      <th></th>\n      <th></th>\n      <th></th>\n      <th></th>\n      <th></th>\n      <th></th>\n      <th></th>\n      <th></th>\n      <th></th>\n      <th></th>\n    </tr>\n  </thead>\n  <tbody>\n    <tr>\n      <th>id2875421</th>\n      <td>1</td>\n      <td>930.399753</td>\n      <td>0</td>\n      <td>1.500479</td>\n      <td>6.122493</td>\n      <td>0</td>\n      <td>0</td>\n      <td>0</td>\n      <td>0</td>\n      <td>0</td>\n      <td>...</td>\n      <td>0</td>\n      <td>0</td>\n      <td>0</td>\n      <td>0</td>\n      <td>0</td>\n      <td>0</td>\n      <td>1</td>\n      <td>0</td>\n      <td>0</td>\n      <td>0</td>\n    </tr>\n    <tr>\n      <th>id2377394</th>\n      <td>0</td>\n      <td>930.399753</td>\n      <td>0</td>\n      <td>1.807119</td>\n      <td>6.498282</td>\n      <td>0</td>\n      <td>0</td>\n      <td>0</td>\n      <td>0</td>\n      <td>0</td>\n      <td>...</td>\n      <td>0</td>\n      <td>0</td>\n      <td>0</td>\n      <td>0</td>\n      <td>0</td>\n      <td>0</td>\n      <td>0</td>\n      <td>0</td>\n      <td>0</td>\n      <td>1</td>\n    </tr>\n    <tr>\n      <th>id3858529</th>\n      <td>1</td>\n      <td>NaN</td>\n      <td>0</td>\n      <td>6.392080</td>\n      <td>7.661527</td>\n      <td>0</td>\n      <td>1</td>\n      <td>1</td>\n      <td>0</td>\n      <td>0</td>\n      <td>...</td>\n      <td>0</td>\n      <td>0</td>\n      <td>0</td>\n      <td>0</td>\n      <td>0</td>\n      <td>0</td>\n      <td>0</td>\n      <td>0</td>\n      <td>0</td>\n      <td>0</td>\n    </tr>\n    <tr>\n      <th>id3504673</th>\n      <td>1</td>\n      <td>NaN</td>\n      <td>0</td>\n      <td>1.487155</td>\n      <td>6.063785</td>\n      <td>0</td>\n      <td>0</td>\n      <td>0</td>\n      <td>1</td>\n      <td>0</td>\n      <td>...</td>\n      <td>1</td>\n      <td>0</td>\n      <td>0</td>\n      <td>0</td>\n      <td>0</td>\n      <td>0</td>\n      <td>0</td>\n      <td>1</td>\n      <td>0</td>\n      <td>0</td>\n    </tr>\n    <tr>\n      <th>id2181028</th>\n      <td>1</td>\n      <td>930.399753</td>\n      <td>0</td>\n      <td>1.189925</td>\n      <td>6.077642</td>\n      <td>0</td>\n      <td>0</td>\n      <td>0</td>\n      <td>0</td>\n      <td>0</td>\n      <td>...</td>\n      <td>0</td>\n      <td>0</td>\n      <td>0</td>\n      <td>0</td>\n      <td>0</td>\n      <td>0</td>\n      <td>1</td>\n      <td>0</td>\n      <td>0</td>\n      <td>0</td>\n    </tr>\n  </tbody>\n</table>\n<p>5 rows × 41 columns</p>\n</div>"
     },
     "execution_count": 2,
     "metadata": {},
     "output_type": "execute_result"
    }
   ],
   "source": [
    "data.head()"
   ],
   "id": "9295a4b44a77be99"
  },
  {
   "cell_type": "markdown",
   "metadata": {},
   "source": [
    "Никудышный гном случайно пролил кофе на папку с данными и кодом. К несчастью, из-за этого они с братьями потеряли кучу информации в столбиках **passenger_count** и **distance_km**."
   ],
   "id": "a17faf2a6c500250"
  },
  {
   "cell_type": "code",
   "execution_count": 3,
   "metadata": {
    "ExecuteTime": {
     "end_time": "2024-01-29T15:00:11.791380800Z",
     "start_time": "2024-01-29T15:00:11.639845Z"
    }
   },
   "outputs": [
    {
     "data": {
      "text/plain": "vendor_id                  0\npassenger_count       145864\nstore_and_fwd_flag         0\ndistance_km           145864\nlog_trip_duration          0\nanomaly                    0\ntraffic_jam                0\nday_of_week_1              0\nday_of_week_2              0\nday_of_week_3              0\nday_of_week_4              0\nday_of_week_5              0\nday_of_week_6              0\nhour_1                     0\nhour_2                     0\nhour_3                     0\nhour_4                     0\nhour_5                     0\nhour_6                     0\nhour_7                     0\nhour_8                     0\nhour_9                     0\nhour_10                    0\nhour_11                    0\nhour_12                    0\nhour_13                    0\nhour_14                    0\nhour_15                    0\nhour_16                    0\nhour_17                    0\nhour_18                    0\nhour_19                    0\nhour_20                    0\nhour_21                    0\nhour_22                    0\nhour_23                    0\nmonth_2                    0\nmonth_3                    0\nmonth_4                    0\nmonth_5                    0\nmonth_6                    0\ndtype: int64"
     },
     "execution_count": 3,
     "metadata": {},
     "output_type": "execute_result"
    }
   ],
   "source": [
    "### Выведите количество пропусков в данных колонках\n",
    "### На всякий случай, проверьте целостность данных в остальных\n",
    "data.isna().sum()\n",
    "### Your code is here"
   ],
   "id": "9ad1a7557f9b0b8b"
  },
  {
   "cell_type": "markdown",
   "metadata": {},
   "source": [
    "Начнем с **passenger_count**. Вообще говоря, изначально это была категориальная колонка, к которой мы применили технику OneHotEncoder. Чтобы избавиться от пропусков в данных, конечно, можно просто убрать все объекты, в которых есть пропуски, но тогда мы потеряем ценную информацию. \n",
    "\n",
    "Воспользуйтесь относительно простым приемом из лекции: в указанной колонке заполните пропуски самым *популярным* значением среди неотсутствующих."
   ],
   "id": "e2e376cace4d1251"
  },
  {
   "cell_type": "code",
   "execution_count": 4,
   "metadata": {
    "ExecuteTime": {
     "end_time": "2024-01-29T15:00:11.792381100Z",
     "start_time": "2024-01-29T15:00:11.723630300Z"
    }
   },
   "outputs": [],
   "source": [
    "### Your code is here\n",
    "instead_num = data['passenger_count'].value_counts().index[0]\n",
    "data['passenger_count'] = data['passenger_count'].fillna(instead_num)"
   ],
   "id": "2e20042a7b326b9a"
  },
  {
   "cell_type": "code",
   "execution_count": 5,
   "outputs": [
    {
     "data": {
      "text/plain": "930.4"
     },
     "execution_count": 5,
     "metadata": {},
     "output_type": "execute_result"
    }
   ],
   "source": [
    "round(instead_num,2)"
   ],
   "metadata": {
    "collapsed": false,
    "ExecuteTime": {
     "end_time": "2024-01-29T15:00:11.792381100Z",
     "start_time": "2024-01-29T15:00:11.749072800Z"
    }
   },
   "id": "b180093c7df66e88"
  },
  {
   "cell_type": "code",
   "execution_count": 6,
   "outputs": [
    {
     "data": {
      "text/plain": "vendor_id                  0\npassenger_count            0\nstore_and_fwd_flag         0\ndistance_km           145864\nlog_trip_duration          0\nanomaly                    0\ntraffic_jam                0\nday_of_week_1              0\nday_of_week_2              0\nday_of_week_3              0\nday_of_week_4              0\nday_of_week_5              0\nday_of_week_6              0\nhour_1                     0\nhour_2                     0\nhour_3                     0\nhour_4                     0\nhour_5                     0\nhour_6                     0\nhour_7                     0\nhour_8                     0\nhour_9                     0\nhour_10                    0\nhour_11                    0\nhour_12                    0\nhour_13                    0\nhour_14                    0\nhour_15                    0\nhour_16                    0\nhour_17                    0\nhour_18                    0\nhour_19                    0\nhour_20                    0\nhour_21                    0\nhour_22                    0\nhour_23                    0\nmonth_2                    0\nmonth_3                    0\nmonth_4                    0\nmonth_5                    0\nmonth_6                    0\ndtype: int64"
     },
     "execution_count": 6,
     "metadata": {},
     "output_type": "execute_result"
    }
   ],
   "source": [
    "data.isna().sum()"
   ],
   "metadata": {
    "collapsed": false,
    "ExecuteTime": {
     "end_time": "2024-01-29T15:00:11.916715500Z",
     "start_time": "2024-01-29T15:00:11.757386500Z"
    }
   },
   "id": "e6a66f6426ad713c"
  },
  {
   "cell_type": "markdown",
   "metadata": {},
   "source": [
    "С колонкой **distance_km** поступим более интересным способом!\n",
    "\n",
    "Чтобы заполнить пропуск в данной колонке для того или иного объекта, можно находить наиболее похожий на него объект и подглядывать в его значение **distance_km**. Для того, чтобы понять, насколько объекты похожи друг на друга, необходимо использовать Евклидово расстояние между этими самыми объектами в пространстве всех признаков!\n",
    "\n",
    "С учетом количества объектов в нашем датасете и признаков, посчитать попарные расстояния будет мега-сложно. Поэтому давайте называть объекты похожими, если они принадлежат одной категории, составленной из следующих колонок:\n",
    "\n",
    "1. vendor_id\n",
    "2. store_and_fwd_flag\n",
    "3. traffic_jam\n",
    "4. month_2\n",
    "5. month_3\n",
    "6. month_4\n",
    "7. month_5\n",
    "8. month_6\n",
    "\n",
    "Внутри каждой группы найдите среднее значение признака **distance_km** и заполните NaN'ы в объектах с пропуском в соответствии с тем, к какой категории относится данный объект. Похожее упражнение мы делали на практике в занятии!\n",
    "\n",
    "**Hint**: достаточно просто взять group by по указанным выше категориальным колонкам и верно вставить полученный результат в исходную табличку.\n",
    "\n",
    "P.S. Колонки выбраны случайным образом. Можно было взять и другую комбинацию."
   ],
   "id": "42a7155a729f485b"
  },
  {
   "cell_type": "code",
   "execution_count": 7,
   "metadata": {
    "ExecuteTime": {
     "end_time": "2024-01-29T15:00:12.075107500Z",
     "start_time": "2024-01-29T15:00:11.833717800Z"
    }
   },
   "outputs": [],
   "source": [
    "### Your code is here\n",
    "import pandas as pd\n",
    "\n",
    "categorical_columns = ['vendor_id', 'store_and_fwd_flag', 'traffic_jam', 'month_2', 'month_3', 'month_4', 'month_5', 'month_6']\n",
    "grouped_means = data.groupby(categorical_columns)['distance_km'].transform('mean')\n",
    "data['distance_km'] = data['distance_km'].fillna(grouped_means)"
   ],
   "id": "1ec33fda58eb5cdc"
  },
  {
   "cell_type": "code",
   "execution_count": 8,
   "outputs": [
    {
     "data": {
      "text/plain": "           vendor_id  passenger_count  store_and_fwd_flag  distance_km  \\\nid                                                                       \nid2875421          1       930.399753                   0     1.500479   \nid2377394          0       930.399753                   0     1.807119   \nid3858529          1       930.399753                   0     6.392080   \nid3504673          1       930.399753                   0     1.487155   \nid2181028          1       930.399753                   0     1.189925   \n...              ...              ...                 ...          ...   \nid2376096          1       930.399753                   0     1.226296   \nid1049543          0       930.399753                   0     6.056935   \nid2304944          1       930.399753                   0     7.832952   \nid2714485          0       930.399753                   0     1.093786   \nid1209952          0       930.399753                   0     1.135453   \n\n           log_trip_duration  anomaly  traffic_jam  day_of_week_1  \\\nid                                                                  \nid2875421           6.122493        0            0              0   \nid2377394           6.498282        0            0              0   \nid3858529           7.661527        0            1              1   \nid3504673           6.063785        0            0              0   \nid2181028           6.077642        0            0              0   \n...                      ...      ...          ...            ...   \nid2376096           6.658011        0            0              0   \nid1049543           6.486161        0            0              0   \nid2304944           6.639876        0            0              0   \nid2714485           5.924256        0            0              1   \nid1209952           5.293305        0            0              1   \n\n           day_of_week_2  day_of_week_3  ...  hour_19  hour_20  hour_21  \\\nid                                       ...                              \nid2875421              0              0  ...        0        0        0   \nid2377394              0              0  ...        0        0        0   \nid3858529              0              0  ...        0        0        0   \nid3504673              1              0  ...        1        0        0   \nid2181028              0              0  ...        0        0        0   \n...                  ...            ...  ...      ...      ...      ...   \nid2376096              0              0  ...        0        0        0   \nid1049543              0              0  ...        0        0        0   \nid2304944              0              0  ...        0        0        0   \nid2714485              0              0  ...        0        0        0   \nid1209952              0              0  ...        0        0        0   \n\n           hour_22  hour_23  month_2  month_3  month_4  month_5  month_6  \nid                                                                        \nid2875421        0        0        0        1        0        0        0  \nid2377394        0        0        0        0        0        0        1  \nid3858529        0        0        0        0        0        0        0  \nid3504673        0        0        0        0        1        0        0  \nid2181028        0        0        0        1        0        0        0  \n...            ...      ...      ...      ...      ...      ...      ...  \nid2376096        0        0        0        0        1        0        0  \nid1049543        0        0        0        0        0        0        0  \nid2304944        0        0        0        0        1        0        0  \nid2714485        0        0        0        0        0        0        0  \nid1209952        0        0        0        0        1        0        0  \n\n[1458644 rows x 41 columns]",
      "text/html": "<div>\n<style scoped>\n    .dataframe tbody tr th:only-of-type {\n        vertical-align: middle;\n    }\n\n    .dataframe tbody tr th {\n        vertical-align: top;\n    }\n\n    .dataframe thead th {\n        text-align: right;\n    }\n</style>\n<table border=\"1\" class=\"dataframe\">\n  <thead>\n    <tr style=\"text-align: right;\">\n      <th></th>\n      <th>vendor_id</th>\n      <th>passenger_count</th>\n      <th>store_and_fwd_flag</th>\n      <th>distance_km</th>\n      <th>log_trip_duration</th>\n      <th>anomaly</th>\n      <th>traffic_jam</th>\n      <th>day_of_week_1</th>\n      <th>day_of_week_2</th>\n      <th>day_of_week_3</th>\n      <th>...</th>\n      <th>hour_19</th>\n      <th>hour_20</th>\n      <th>hour_21</th>\n      <th>hour_22</th>\n      <th>hour_23</th>\n      <th>month_2</th>\n      <th>month_3</th>\n      <th>month_4</th>\n      <th>month_5</th>\n      <th>month_6</th>\n    </tr>\n    <tr>\n      <th>id</th>\n      <th></th>\n      <th></th>\n      <th></th>\n      <th></th>\n      <th></th>\n      <th></th>\n      <th></th>\n      <th></th>\n      <th></th>\n      <th></th>\n      <th></th>\n      <th></th>\n      <th></th>\n      <th></th>\n      <th></th>\n      <th></th>\n      <th></th>\n      <th></th>\n      <th></th>\n      <th></th>\n      <th></th>\n    </tr>\n  </thead>\n  <tbody>\n    <tr>\n      <th>id2875421</th>\n      <td>1</td>\n      <td>930.399753</td>\n      <td>0</td>\n      <td>1.500479</td>\n      <td>6.122493</td>\n      <td>0</td>\n      <td>0</td>\n      <td>0</td>\n      <td>0</td>\n      <td>0</td>\n      <td>...</td>\n      <td>0</td>\n      <td>0</td>\n      <td>0</td>\n      <td>0</td>\n      <td>0</td>\n      <td>0</td>\n      <td>1</td>\n      <td>0</td>\n      <td>0</td>\n      <td>0</td>\n    </tr>\n    <tr>\n      <th>id2377394</th>\n      <td>0</td>\n      <td>930.399753</td>\n      <td>0</td>\n      <td>1.807119</td>\n      <td>6.498282</td>\n      <td>0</td>\n      <td>0</td>\n      <td>0</td>\n      <td>0</td>\n      <td>0</td>\n      <td>...</td>\n      <td>0</td>\n      <td>0</td>\n      <td>0</td>\n      <td>0</td>\n      <td>0</td>\n      <td>0</td>\n      <td>0</td>\n      <td>0</td>\n      <td>0</td>\n      <td>1</td>\n    </tr>\n    <tr>\n      <th>id3858529</th>\n      <td>1</td>\n      <td>930.399753</td>\n      <td>0</td>\n      <td>6.392080</td>\n      <td>7.661527</td>\n      <td>0</td>\n      <td>1</td>\n      <td>1</td>\n      <td>0</td>\n      <td>0</td>\n      <td>...</td>\n      <td>0</td>\n      <td>0</td>\n      <td>0</td>\n      <td>0</td>\n      <td>0</td>\n      <td>0</td>\n      <td>0</td>\n      <td>0</td>\n      <td>0</td>\n      <td>0</td>\n    </tr>\n    <tr>\n      <th>id3504673</th>\n      <td>1</td>\n      <td>930.399753</td>\n      <td>0</td>\n      <td>1.487155</td>\n      <td>6.063785</td>\n      <td>0</td>\n      <td>0</td>\n      <td>0</td>\n      <td>1</td>\n      <td>0</td>\n      <td>...</td>\n      <td>1</td>\n      <td>0</td>\n      <td>0</td>\n      <td>0</td>\n      <td>0</td>\n      <td>0</td>\n      <td>0</td>\n      <td>1</td>\n      <td>0</td>\n      <td>0</td>\n    </tr>\n    <tr>\n      <th>id2181028</th>\n      <td>1</td>\n      <td>930.399753</td>\n      <td>0</td>\n      <td>1.189925</td>\n      <td>6.077642</td>\n      <td>0</td>\n      <td>0</td>\n      <td>0</td>\n      <td>0</td>\n      <td>0</td>\n      <td>...</td>\n      <td>0</td>\n      <td>0</td>\n      <td>0</td>\n      <td>0</td>\n      <td>0</td>\n      <td>0</td>\n      <td>1</td>\n      <td>0</td>\n      <td>0</td>\n      <td>0</td>\n    </tr>\n    <tr>\n      <th>...</th>\n      <td>...</td>\n      <td>...</td>\n      <td>...</td>\n      <td>...</td>\n      <td>...</td>\n      <td>...</td>\n      <td>...</td>\n      <td>...</td>\n      <td>...</td>\n      <td>...</td>\n      <td>...</td>\n      <td>...</td>\n      <td>...</td>\n      <td>...</td>\n      <td>...</td>\n      <td>...</td>\n      <td>...</td>\n      <td>...</td>\n      <td>...</td>\n      <td>...</td>\n      <td>...</td>\n    </tr>\n    <tr>\n      <th>id2376096</th>\n      <td>1</td>\n      <td>930.399753</td>\n      <td>0</td>\n      <td>1.226296</td>\n      <td>6.658011</td>\n      <td>0</td>\n      <td>0</td>\n      <td>0</td>\n      <td>0</td>\n      <td>0</td>\n      <td>...</td>\n      <td>0</td>\n      <td>0</td>\n      <td>0</td>\n      <td>0</td>\n      <td>0</td>\n      <td>0</td>\n      <td>0</td>\n      <td>1</td>\n      <td>0</td>\n      <td>0</td>\n    </tr>\n    <tr>\n      <th>id1049543</th>\n      <td>0</td>\n      <td>930.399753</td>\n      <td>0</td>\n      <td>6.056935</td>\n      <td>6.486161</td>\n      <td>0</td>\n      <td>0</td>\n      <td>0</td>\n      <td>0</td>\n      <td>0</td>\n      <td>...</td>\n      <td>0</td>\n      <td>0</td>\n      <td>0</td>\n      <td>0</td>\n      <td>0</td>\n      <td>0</td>\n      <td>0</td>\n      <td>0</td>\n      <td>0</td>\n      <td>0</td>\n    </tr>\n    <tr>\n      <th>id2304944</th>\n      <td>1</td>\n      <td>930.399753</td>\n      <td>0</td>\n      <td>7.832952</td>\n      <td>6.639876</td>\n      <td>0</td>\n      <td>0</td>\n      <td>0</td>\n      <td>0</td>\n      <td>0</td>\n      <td>...</td>\n      <td>0</td>\n      <td>0</td>\n      <td>0</td>\n      <td>0</td>\n      <td>0</td>\n      <td>0</td>\n      <td>0</td>\n      <td>1</td>\n      <td>0</td>\n      <td>0</td>\n    </tr>\n    <tr>\n      <th>id2714485</th>\n      <td>0</td>\n      <td>930.399753</td>\n      <td>0</td>\n      <td>1.093786</td>\n      <td>5.924256</td>\n      <td>0</td>\n      <td>0</td>\n      <td>1</td>\n      <td>0</td>\n      <td>0</td>\n      <td>...</td>\n      <td>0</td>\n      <td>0</td>\n      <td>0</td>\n      <td>0</td>\n      <td>0</td>\n      <td>0</td>\n      <td>0</td>\n      <td>0</td>\n      <td>0</td>\n      <td>0</td>\n    </tr>\n    <tr>\n      <th>id1209952</th>\n      <td>0</td>\n      <td>930.399753</td>\n      <td>0</td>\n      <td>1.135453</td>\n      <td>5.293305</td>\n      <td>0</td>\n      <td>0</td>\n      <td>1</td>\n      <td>0</td>\n      <td>0</td>\n      <td>...</td>\n      <td>0</td>\n      <td>0</td>\n      <td>0</td>\n      <td>0</td>\n      <td>0</td>\n      <td>0</td>\n      <td>0</td>\n      <td>1</td>\n      <td>0</td>\n      <td>0</td>\n    </tr>\n  </tbody>\n</table>\n<p>1458644 rows × 41 columns</p>\n</div>"
     },
     "execution_count": 8,
     "metadata": {},
     "output_type": "execute_result"
    }
   ],
   "source": [
    "data"
   ],
   "metadata": {
    "collapsed": false,
    "ExecuteTime": {
     "end_time": "2024-01-29T15:00:12.690433100Z",
     "start_time": "2024-01-29T15:00:12.078108900Z"
    }
   },
   "id": "98d51967e93e2c5f"
  },
  {
   "cell_type": "code",
   "execution_count": 9,
   "outputs": [
    {
     "data": {
      "text/plain": "vendor_id             0\npassenger_count       0\nstore_and_fwd_flag    0\ndistance_km           0\nlog_trip_duration     0\nanomaly               0\ntraffic_jam           0\nday_of_week_1         0\nday_of_week_2         0\nday_of_week_3         0\nday_of_week_4         0\nday_of_week_5         0\nday_of_week_6         0\nhour_1                0\nhour_2                0\nhour_3                0\nhour_4                0\nhour_5                0\nhour_6                0\nhour_7                0\nhour_8                0\nhour_9                0\nhour_10               0\nhour_11               0\nhour_12               0\nhour_13               0\nhour_14               0\nhour_15               0\nhour_16               0\nhour_17               0\nhour_18               0\nhour_19               0\nhour_20               0\nhour_21               0\nhour_22               0\nhour_23               0\nmonth_2               0\nmonth_3               0\nmonth_4               0\nmonth_5               0\nmonth_6               0\ndtype: int64"
     },
     "execution_count": 9,
     "metadata": {},
     "output_type": "execute_result"
    }
   ],
   "source": [
    "data.isna().sum()"
   ],
   "metadata": {
    "collapsed": false,
    "ExecuteTime": {
     "end_time": "2024-01-29T15:00:12.855732Z",
     "start_time": "2024-01-29T15:00:12.690433100Z"
    }
   },
   "id": "e06022df2e6ceb18"
  },
  {
   "cell_type": "code",
   "execution_count": 10,
   "outputs": [],
   "source": [
    "data.head(20).to_csv('output.csv', sep=';', index=False)"
   ],
   "metadata": {
    "collapsed": false,
    "ExecuteTime": {
     "end_time": "2024-01-29T15:00:12.855732Z",
     "start_time": "2024-01-29T15:00:12.764621200Z"
    }
   },
   "id": "5b448388ad7e665b"
  },
  {
   "cell_type": "code",
   "execution_count": 11,
   "metadata": {
    "ExecuteTime": {
     "end_time": "2024-01-29T15:00:12.855732Z",
     "start_time": "2024-01-29T15:00:12.773718500Z"
    }
   },
   "outputs": [],
   "source": [
    "### Убедимся, что пропусков не осталось\n",
    "\n",
    "### Your code is here\n"
   ],
   "id": "e0f9bcfe12b21610"
  },
  {
   "cell_type": "markdown",
   "metadata": {},
   "source": [
    "### Теперь наши данные чисты! Замерьте качество модели на Кросс-Валидации"
   ],
   "id": "7af443388c32fd1a"
  },
  {
   "cell_type": "code",
   "execution_count": 12,
   "metadata": {
    "ExecuteTime": {
     "end_time": "2024-01-29T15:00:23.294467100Z",
     "start_time": "2024-01-29T15:00:12.777728800Z"
    }
   },
   "outputs": [
    {
     "name": "stdout",
     "output_type": "stream",
     "text": [
      "[0.45104813 0.44555323 0.40741744 0.41963126]\n",
      "MSLE на Кросс-валидации: 0.431\n"
     ]
    }
   ],
   "source": [
    "from sklearn.model_selection import KFold,cross_val_score\n",
    "\n",
    "selector = KFold(n_splits=4, shuffle=True, random_state=33)\n",
    "\n",
    "from sklearn.model_selection import cross_validate\n",
    "from sklearn.linear_model import LinearRegression\n",
    "\n",
    "### Your code is here\n",
    "x = data.drop('log_trip_duration', axis=1)\n",
    "y = data['log_trip_duration']\n",
    "\n",
    "model = LinearRegression()\n",
    "\n",
    "# Use cross_val_score to perform cross-validation\n",
    "cross_val_errors = -cross_val_score(model, x, y, cv=selector, scoring='neg_mean_squared_error')\n",
    "print(cross_val_errors)\n",
    "# Calculate mean of the cross-validation errors\n",
    "cross_val_error = np.mean(cross_val_errors)\n",
    "\n",
    "print(f\"MSLE на Кросс-валидации: {round(cross_val_error, 3)}\")"
   ],
   "id": "f716469384219f7c"
  },
  {
   "cell_type": "markdown",
   "metadata": {},
   "source": [
    "### Проведем анализ выбросов! Нарисуйте ящик с усами и гистограмму для таргетной переменной."
   ],
   "id": "8cfa4fc3939d9005"
  },
  {
   "cell_type": "code",
   "execution_count": 13,
   "outputs": [
    {
     "data": {
      "text/plain": "id\nid2875421    6.122493\nid2377394    6.498282\nid3858529    7.661527\nid3504673    6.063785\nid2181028    6.077642\n               ...   \nid2376096    6.658011\nid1049543    6.486161\nid2304944    6.639876\nid2714485    5.924256\nid1209952    5.293305\nName: log_trip_duration, Length: 1458644, dtype: float64"
     },
     "execution_count": 13,
     "metadata": {},
     "output_type": "execute_result"
    }
   ],
   "source": [
    "data['log_trip_duration']"
   ],
   "metadata": {
    "collapsed": false,
    "ExecuteTime": {
     "end_time": "2024-01-29T15:00:23.307545700Z",
     "start_time": "2024-01-29T15:00:23.297907600Z"
    }
   },
   "id": "a211d9de58b6f8bc"
  },
  {
   "cell_type": "code",
   "execution_count": 14,
   "outputs": [
    {
     "data": {
      "text/plain": "array([6.12249281, 6.49828215, 7.66152708, ..., 6.63987583, 5.9242558 ,\n       5.29330482])"
     },
     "execution_count": 14,
     "metadata": {},
     "output_type": "execute_result"
    }
   ],
   "source": [
    "data['log_trip_duration'].values"
   ],
   "metadata": {
    "collapsed": false,
    "ExecuteTime": {
     "end_time": "2024-01-29T15:00:23.309548800Z",
     "start_time": "2024-01-29T15:00:23.303432400Z"
    }
   },
   "id": "6093f4df4e2c3f86"
  },
  {
   "cell_type": "code",
   "execution_count": 15,
   "metadata": {
    "ExecuteTime": {
     "end_time": "2024-01-29T15:00:23.940391700Z",
     "start_time": "2024-01-29T15:00:23.309548800Z"
    }
   },
   "outputs": [
    {
     "data": {
      "text/plain": "{'whiskers': [<matplotlib.lines.Line2D at 0x1d908276e10>,\n  <matplotlib.lines.Line2D at 0x1d908277b10>],\n 'caps': [<matplotlib.lines.Line2D at 0x1d9082807d0>,\n  <matplotlib.lines.Line2D at 0x1d908281390>],\n 'boxes': [<matplotlib.lines.Line2D at 0x1d9082762d0>],\n 'medians': [<matplotlib.lines.Line2D at 0x1d908281e50>],\n 'fliers': [<matplotlib.lines.Line2D at 0x1d908282990>],\n 'means': []}"
     },
     "execution_count": 15,
     "metadata": {},
     "output_type": "execute_result"
    },
    {
     "data": {
      "text/plain": "<Figure size 1000x1600 with 1 Axes>",
      "image/png": "[encoded data removed]"
     },
     "metadata": {},
     "output_type": "display_data"
    }
   ],
   "source": [
    "import matplotlib.pyplot as plt\n",
    "\n",
    "### Your code is here\n",
    "fig = plt.figure()\n",
    "\n",
    "fig.set_size_inches((10, 16))\n",
    "\n",
    "plt.boxplot(data['log_trip_duration'].values)"
   ],
   "id": "3f2bbdb938647913"
  },
  {
   "cell_type": "markdown",
   "metadata": {},
   "source": [
    "Есть ли, на ваш взгляд, в данных выбросы?\n",
    "\n",
    "Кажется, что да!\n",
    "\n",
    "Давайте почистим их, удалив те объекты, таргеты которых находятся вне промежутка\n",
    "\n",
    "(топ 99,5% значение;   топ 0,5% значение)"
   ],
   "id": "bf48fcee4e344a5c"
  },
  {
   "cell_type": "code",
   "execution_count": 16,
   "metadata": {
    "ExecuteTime": {
     "end_time": "2024-01-29T15:00:24.077268600Z",
     "start_time": "2024-01-29T15:00:23.942397600Z"
    }
   },
   "outputs": [
    {
     "name": "stdout",
     "output_type": "stream",
     "text": [
      "8.32845106681936\n",
      "3.9318256327243257\n"
     ]
    }
   ],
   "source": [
    "### Your code is here\n",
    "q_high = data['log_trip_duration'].quantile(0.995)\n",
    "print(q_high)\n",
    "q_low = data['log_trip_duration'].quantile(0.005)\n",
    "print(q_low)\n",
    "\n",
    "tentacle_length = q_high - q_low"
   ],
   "id": "6566bdddd42b4bc"
  },
  {
   "cell_type": "markdown",
   "metadata": {},
   "source": [
    "Снова замерьте качество на кросс-валидации, используя старый selector"
   ],
   "id": "c7844be20d04ff8b"
  },
  {
   "cell_type": "code",
   "execution_count": 17,
   "outputs": [
    {
     "data": {
      "text/plain": "           vendor_id  passenger_count  store_and_fwd_flag  distance_km  \\\nid                                                                       \nid2875421          1       930.399753                   0     1.500479   \nid2377394          0       930.399753                   0     1.807119   \nid3858529          1       930.399753                   0     6.392080   \nid3504673          1       930.399753                   0     1.487155   \nid2181028          1       930.399753                   0     1.189925   \n\n           log_trip_duration  anomaly  traffic_jam  day_of_week_1  \\\nid                                                                  \nid2875421           6.122493        0            0              0   \nid2377394           6.498282        0            0              0   \nid3858529           7.661527        0            1              1   \nid3504673           6.063785        0            0              0   \nid2181028           6.077642        0            0              0   \n\n           day_of_week_2  day_of_week_3  ...  hour_19  hour_20  hour_21  \\\nid                                       ...                              \nid2875421              0              0  ...        0        0        0   \nid2377394              0              0  ...        0        0        0   \nid3858529              0              0  ...        0        0        0   \nid3504673              1              0  ...        1        0        0   \nid2181028              0              0  ...        0        0        0   \n\n           hour_22  hour_23  month_2  month_3  month_4  month_5  month_6  \nid                                                                        \nid2875421        0        0        0        1        0        0        0  \nid2377394        0        0        0        0        0        0        1  \nid3858529        0        0        0        0        0        0        0  \nid3504673        0        0        0        0        1        0        0  \nid2181028        0        0        0        1        0        0        0  \n\n[5 rows x 41 columns]",
      "text/html": "<div>\n<style scoped>\n    .dataframe tbody tr th:only-of-type {\n        vertical-align: middle;\n    }\n\n    .dataframe tbody tr th {\n        vertical-align: top;\n    }\n\n    .dataframe thead th {\n        text-align: right;\n    }\n</style>\n<table border=\"1\" class=\"dataframe\">\n  <thead>\n    <tr style=\"text-align: right;\">\n      <th></th>\n      <th>vendor_id</th>\n      <th>passenger_count</th>\n      <th>store_and_fwd_flag</th>\n      <th>distance_km</th>\n      <th>log_trip_duration</th>\n      <th>anomaly</th>\n      <th>traffic_jam</th>\n      <th>day_of_week_1</th>\n      <th>day_of_week_2</th>\n      <th>day_of_week_3</th>\n      <th>...</th>\n      <th>hour_19</th>\n      <th>hour_20</th>\n      <th>hour_21</th>\n      <th>hour_22</th>\n      <th>hour_23</th>\n      <th>month_2</th>\n      <th>month_3</th>\n      <th>month_4</th>\n      <th>month_5</th>\n      <th>month_6</th>\n    </tr>\n    <tr>\n      <th>id</th>\n      <th></th>\n      <th></th>\n      <th></th>\n      <th></th>\n      <th></th>\n      <th></th>\n      <th></th>\n      <th></th>\n      <th></th>\n      <th></th>\n      <th></th>\n      <th></th>\n      <th></th>\n      <th></th>\n      <th></th>\n      <th></th>\n      <th></th>\n      <th></th>\n      <th></th>\n      <th></th>\n      <th></th>\n    </tr>\n  </thead>\n  <tbody>\n    <tr>\n      <th>id2875421</th>\n      <td>1</td>\n      <td>930.399753</td>\n      <td>0</td>\n      <td>1.500479</td>\n      <td>6.122493</td>\n      <td>0</td>\n      <td>0</td>\n      <td>0</td>\n      <td>0</td>\n      <td>0</td>\n      <td>...</td>\n      <td>0</td>\n      <td>0</td>\n      <td>0</td>\n      <td>0</td>\n      <td>0</td>\n      <td>0</td>\n      <td>1</td>\n      <td>0</td>\n      <td>0</td>\n      <td>0</td>\n    </tr>\n    <tr>\n      <th>id2377394</th>\n      <td>0</td>\n      <td>930.399753</td>\n      <td>0</td>\n      <td>1.807119</td>\n      <td>6.498282</td>\n      <td>0</td>\n      <td>0</td>\n      <td>0</td>\n      <td>0</td>\n      <td>0</td>\n      <td>...</td>\n      <td>0</td>\n      <td>0</td>\n      <td>0</td>\n      <td>0</td>\n      <td>0</td>\n      <td>0</td>\n      <td>0</td>\n      <td>0</td>\n      <td>0</td>\n      <td>1</td>\n    </tr>\n    <tr>\n      <th>id3858529</th>\n      <td>1</td>\n      <td>930.399753</td>\n      <td>0</td>\n      <td>6.392080</td>\n      <td>7.661527</td>\n      <td>0</td>\n      <td>1</td>\n      <td>1</td>\n      <td>0</td>\n      <td>0</td>\n      <td>...</td>\n      <td>0</td>\n      <td>0</td>\n      <td>0</td>\n      <td>0</td>\n      <td>0</td>\n      <td>0</td>\n      <td>0</td>\n      <td>0</td>\n      <td>0</td>\n      <td>0</td>\n    </tr>\n    <tr>\n      <th>id3504673</th>\n      <td>1</td>\n      <td>930.399753</td>\n      <td>0</td>\n      <td>1.487155</td>\n      <td>6.063785</td>\n      <td>0</td>\n      <td>0</td>\n      <td>0</td>\n      <td>1</td>\n      <td>0</td>\n      <td>...</td>\n      <td>1</td>\n      <td>0</td>\n      <td>0</td>\n      <td>0</td>\n      <td>0</td>\n      <td>0</td>\n      <td>0</td>\n      <td>1</td>\n      <td>0</td>\n      <td>0</td>\n    </tr>\n    <tr>\n      <th>id2181028</th>\n      <td>1</td>\n      <td>930.399753</td>\n      <td>0</td>\n      <td>1.189925</td>\n      <td>6.077642</td>\n      <td>0</td>\n      <td>0</td>\n      <td>0</td>\n      <td>0</td>\n      <td>0</td>\n      <td>...</td>\n      <td>0</td>\n      <td>0</td>\n      <td>0</td>\n      <td>0</td>\n      <td>0</td>\n      <td>0</td>\n      <td>1</td>\n      <td>0</td>\n      <td>0</td>\n      <td>0</td>\n    </tr>\n  </tbody>\n</table>\n<p>5 rows × 41 columns</p>\n</div>"
     },
     "execution_count": 17,
     "metadata": {},
     "output_type": "execute_result"
    }
   ],
   "source": [
    "data.head(5)"
   ],
   "metadata": {
    "collapsed": false,
    "ExecuteTime": {
     "end_time": "2024-01-29T15:00:24.078267500Z",
     "start_time": "2024-01-29T15:00:23.983126600Z"
    }
   },
   "id": "7ec4759584362a72"
  },
  {
   "cell_type": "code",
   "execution_count": 18,
   "metadata": {
    "ExecuteTime": {
     "end_time": "2024-01-29T15:00:24.078267500Z",
     "start_time": "2024-01-29T15:00:23.997298900Z"
    }
   },
   "outputs": [],
   "source": [
    "### Your code is here\n",
    "upper_tentacle = q_high + 1.5 * tentacle_length\n",
    "lower_tentacle = q_low - 1.5 * tentacle_length"
   ],
   "id": "ac9e37bc7a94b99b"
  },
  {
   "cell_type": "code",
   "execution_count": 19,
   "outputs": [
    {
     "name": "stdout",
     "output_type": "stream",
     "text": [
      "14.923389217961912\n",
      "-2.663112518418225\n"
     ]
    }
   ],
   "source": [
    "print(upper_tentacle)\n",
    "print(lower_tentacle)"
   ],
   "metadata": {
    "collapsed": false,
    "ExecuteTime": {
     "end_time": "2024-01-29T15:00:24.078267500Z",
     "start_time": "2024-01-29T15:00:24.000307900Z"
    }
   },
   "id": "e7b5a343018babba"
  },
  {
   "cell_type": "code",
   "execution_count": 20,
   "outputs": [
    {
     "data": {
      "text/plain": "           vendor_id  passenger_count  store_and_fwd_flag  distance_km  \\\nid                                                                       \nid2875421          1       930.399753                   0     1.500479   \nid2377394          0       930.399753                   0     1.807119   \nid3858529          1       930.399753                   0     6.392080   \nid3504673          1       930.399753                   0     1.487155   \nid2181028          1       930.399753                   0     1.189925   \n...              ...              ...                 ...          ...   \nid2376096          1       930.399753                   0     1.226296   \nid1049543          0       930.399753                   0     6.056935   \nid2304944          1       930.399753                   0     7.832952   \nid2714485          0       930.399753                   0     1.093786   \nid1209952          0       930.399753                   0     1.135453   \n\n           log_trip_duration  anomaly  traffic_jam  day_of_week_1  \\\nid                                                                  \nid2875421           6.122493        0            0              0   \nid2377394           6.498282        0            0              0   \nid3858529           7.661527        0            1              1   \nid3504673           6.063785        0            0              0   \nid2181028           6.077642        0            0              0   \n...                      ...      ...          ...            ...   \nid2376096           6.658011        0            0              0   \nid1049543           6.486161        0            0              0   \nid2304944           6.639876        0            0              0   \nid2714485           5.924256        0            0              1   \nid1209952           5.293305        0            0              1   \n\n           day_of_week_2  day_of_week_3  ...  hour_19  hour_20  hour_21  \\\nid                                       ...                              \nid2875421              0              0  ...        0        0        0   \nid2377394              0              0  ...        0        0        0   \nid3858529              0              0  ...        0        0        0   \nid3504673              1              0  ...        1        0        0   \nid2181028              0              0  ...        0        0        0   \n...                  ...            ...  ...      ...      ...      ...   \nid2376096              0              0  ...        0        0        0   \nid1049543              0              0  ...        0        0        0   \nid2304944              0              0  ...        0        0        0   \nid2714485              0              0  ...        0        0        0   \nid1209952              0              0  ...        0        0        0   \n\n           hour_22  hour_23  month_2  month_3  month_4  month_5  month_6  \nid                                                                        \nid2875421        0        0        0        1        0        0        0  \nid2377394        0        0        0        0        0        0        1  \nid3858529        0        0        0        0        0        0        0  \nid3504673        0        0        0        0        1        0        0  \nid2181028        0        0        0        1        0        0        0  \n...            ...      ...      ...      ...      ...      ...      ...  \nid2376096        0        0        0        0        1        0        0  \nid1049543        0        0        0        0        0        0        0  \nid2304944        0        0        0        0        1        0        0  \nid2714485        0        0        0        0        0        0        0  \nid1209952        0        0        0        0        1        0        0  \n\n[1458644 rows x 41 columns]",
      "text/html": "<div>\n<style scoped>\n    .dataframe tbody tr th:only-of-type {\n        vertical-align: middle;\n    }\n\n    .dataframe tbody tr th {\n        vertical-align: top;\n    }\n\n    .dataframe thead th {\n        text-align: right;\n    }\n</style>\n<table border=\"1\" class=\"dataframe\">\n  <thead>\n    <tr style=\"text-align: right;\">\n      <th></th>\n      <th>vendor_id</th>\n      <th>passenger_count</th>\n      <th>store_and_fwd_flag</th>\n      <th>distance_km</th>\n      <th>log_trip_duration</th>\n      <th>anomaly</th>\n      <th>traffic_jam</th>\n      <th>day_of_week_1</th>\n      <th>day_of_week_2</th>\n      <th>day_of_week_3</th>\n      <th>...</th>\n      <th>hour_19</th>\n      <th>hour_20</th>\n      <th>hour_21</th>\n      <th>hour_22</th>\n      <th>hour_23</th>\n      <th>month_2</th>\n      <th>month_3</th>\n      <th>month_4</th>\n      <th>month_5</th>\n      <th>month_6</th>\n    </tr>\n    <tr>\n      <th>id</th>\n      <th></th>\n      <th></th>\n      <th></th>\n      <th></th>\n      <th></th>\n      <th></th>\n      <th></th>\n      <th></th>\n      <th></th>\n      <th></th>\n      <th></th>\n      <th></th>\n      <th></th>\n      <th></th>\n      <th></th>\n      <th></th>\n      <th></th>\n      <th></th>\n      <th></th>\n      <th></th>\n      <th></th>\n    </tr>\n  </thead>\n  <tbody>\n    <tr>\n      <th>id2875421</th>\n      <td>1</td>\n      <td>930.399753</td>\n      <td>0</td>\n      <td>1.500479</td>\n      <td>6.122493</td>\n      <td>0</td>\n      <td>0</td>\n      <td>0</td>\n      <td>0</td>\n      <td>0</td>\n      <td>...</td>\n      <td>0</td>\n      <td>0</td>\n      <td>0</td>\n      <td>0</td>\n      <td>0</td>\n      <td>0</td>\n      <td>1</td>\n      <td>0</td>\n      <td>0</td>\n      <td>0</td>\n    </tr>\n    <tr>\n      <th>id2377394</th>\n      <td>0</td>\n      <td>930.399753</td>\n      <td>0</td>\n      <td>1.807119</td>\n      <td>6.498282</td>\n      <td>0</td>\n      <td>0</td>\n      <td>0</td>\n      <td>0</td>\n      <td>0</td>\n      <td>...</td>\n      <td>0</td>\n      <td>0</td>\n      <td>0</td>\n      <td>0</td>\n      <td>0</td>\n      <td>0</td>\n      <td>0</td>\n      <td>0</td>\n      <td>0</td>\n      <td>1</td>\n    </tr>\n    <tr>\n      <th>id3858529</th>\n      <td>1</td>\n      <td>930.399753</td>\n      <td>0</td>\n      <td>6.392080</td>\n      <td>7.661527</td>\n      <td>0</td>\n      <td>1</td>\n      <td>1</td>\n      <td>0</td>\n      <td>0</td>\n      <td>...</td>\n      <td>0</td>\n      <td>0</td>\n      <td>0</td>\n      <td>0</td>\n      <td>0</td>\n      <td>0</td>\n      <td>0</td>\n      <td>0</td>\n      <td>0</td>\n      <td>0</td>\n    </tr>\n    <tr>\n      <th>id3504673</th>\n      <td>1</td>\n      <td>930.399753</td>\n      <td>0</td>\n      <td>1.487155</td>\n      <td>6.063785</td>\n      <td>0</td>\n      <td>0</td>\n      <td>0</td>\n      <td>1</td>\n      <td>0</td>\n      <td>...</td>\n      <td>1</td>\n      <td>0</td>\n      <td>0</td>\n      <td>0</td>\n      <td>0</td>\n      <td>0</td>\n      <td>0</td>\n      <td>1</td>\n      <td>0</td>\n      <td>0</td>\n    </tr>\n    <tr>\n      <th>id2181028</th>\n      <td>1</td>\n      <td>930.399753</td>\n      <td>0</td>\n      <td>1.189925</td>\n      <td>6.077642</td>\n      <td>0</td>\n      <td>0</td>\n      <td>0</td>\n      <td>0</td>\n      <td>0</td>\n      <td>...</td>\n      <td>0</td>\n      <td>0</td>\n      <td>0</td>\n      <td>0</td>\n      <td>0</td>\n      <td>0</td>\n      <td>1</td>\n      <td>0</td>\n      <td>0</td>\n      <td>0</td>\n    </tr>\n    <tr>\n      <th>...</th>\n      <td>...</td>\n      <td>...</td>\n      <td>...</td>\n      <td>...</td>\n      <td>...</td>\n      <td>...</td>\n      <td>...</td>\n      <td>...</td>\n      <td>...</td>\n      <td>...</td>\n      <td>...</td>\n      <td>...</td>\n      <td>...</td>\n      <td>...</td>\n      <td>...</td>\n      <td>...</td>\n      <td>...</td>\n      <td>...</td>\n      <td>...</td>\n      <td>...</td>\n      <td>...</td>\n    </tr>\n    <tr>\n      <th>id2376096</th>\n      <td>1</td>\n      <td>930.399753</td>\n      <td>0</td>\n      <td>1.226296</td>\n      <td>6.658011</td>\n      <td>0</td>\n      <td>0</td>\n      <td>0</td>\n      <td>0</td>\n      <td>0</td>\n      <td>...</td>\n      <td>0</td>\n      <td>0</td>\n      <td>0</td>\n      <td>0</td>\n      <td>0</td>\n      <td>0</td>\n      <td>0</td>\n      <td>1</td>\n      <td>0</td>\n      <td>0</td>\n    </tr>\n    <tr>\n      <th>id1049543</th>\n      <td>0</td>\n      <td>930.399753</td>\n      <td>0</td>\n      <td>6.056935</td>\n      <td>6.486161</td>\n      <td>0</td>\n      <td>0</td>\n      <td>0</td>\n      <td>0</td>\n      <td>0</td>\n      <td>...</td>\n      <td>0</td>\n      <td>0</td>\n      <td>0</td>\n      <td>0</td>\n      <td>0</td>\n      <td>0</td>\n      <td>0</td>\n      <td>0</td>\n      <td>0</td>\n      <td>0</td>\n    </tr>\n    <tr>\n      <th>id2304944</th>\n      <td>1</td>\n      <td>930.399753</td>\n      <td>0</td>\n      <td>7.832952</td>\n      <td>6.639876</td>\n      <td>0</td>\n      <td>0</td>\n      <td>0</td>\n      <td>0</td>\n      <td>0</td>\n      <td>...</td>\n      <td>0</td>\n      <td>0</td>\n      <td>0</td>\n      <td>0</td>\n      <td>0</td>\n      <td>0</td>\n      <td>0</td>\n      <td>1</td>\n      <td>0</td>\n      <td>0</td>\n    </tr>\n    <tr>\n      <th>id2714485</th>\n      <td>0</td>\n      <td>930.399753</td>\n      <td>0</td>\n      <td>1.093786</td>\n      <td>5.924256</td>\n      <td>0</td>\n      <td>0</td>\n      <td>1</td>\n      <td>0</td>\n      <td>0</td>\n      <td>...</td>\n      <td>0</td>\n      <td>0</td>\n      <td>0</td>\n      <td>0</td>\n      <td>0</td>\n      <td>0</td>\n      <td>0</td>\n      <td>0</td>\n      <td>0</td>\n      <td>0</td>\n    </tr>\n    <tr>\n      <th>id1209952</th>\n      <td>0</td>\n      <td>930.399753</td>\n      <td>0</td>\n      <td>1.135453</td>\n      <td>5.293305</td>\n      <td>0</td>\n      <td>0</td>\n      <td>1</td>\n      <td>0</td>\n      <td>0</td>\n      <td>...</td>\n      <td>0</td>\n      <td>0</td>\n      <td>0</td>\n      <td>0</td>\n      <td>0</td>\n      <td>0</td>\n      <td>0</td>\n      <td>1</td>\n      <td>0</td>\n      <td>0</td>\n    </tr>\n  </tbody>\n</table>\n<p>1458644 rows × 41 columns</p>\n</div>"
     },
     "execution_count": 20,
     "metadata": {},
     "output_type": "execute_result"
    }
   ],
   "source": [
    "data"
   ],
   "metadata": {
    "collapsed": false,
    "ExecuteTime": {
     "end_time": "2024-01-29T15:00:24.575147800Z",
     "start_time": "2024-01-29T15:00:24.005271300Z"
    }
   },
   "id": "f78b95ae12f95324"
  },
  {
   "cell_type": "code",
   "execution_count": 21,
   "metadata": {
    "ExecuteTime": {
     "end_time": "2024-01-29T15:00:25.467159800Z",
     "start_time": "2024-01-29T15:00:24.578153700Z"
    }
   },
   "outputs": [
    {
     "data": {
      "text/plain": "           vendor_id  passenger_count  store_and_fwd_flag  distance_km  \\\nid                                                                       \nid2875421          1       930.399753                   0     1.500479   \nid2377394          0       930.399753                   0     1.807119   \nid3858529          1       930.399753                   0     6.392080   \nid3504673          1       930.399753                   0     1.487155   \nid2181028          1       930.399753                   0     1.189925   \n...              ...              ...                 ...          ...   \nid2376096          1       930.399753                   0     1.226296   \nid1049543          0       930.399753                   0     6.056935   \nid2304944          1       930.399753                   0     7.832952   \nid2714485          0       930.399753                   0     1.093786   \nid1209952          0       930.399753                   0     1.135453   \n\n           log_trip_duration  anomaly  traffic_jam  day_of_week_1  \\\nid                                                                  \nid2875421           6.122493        0            0              0   \nid2377394           6.498282        0            0              0   \nid3858529           7.661527        0            1              1   \nid3504673           6.063785        0            0              0   \nid2181028           6.077642        0            0              0   \n...                      ...      ...          ...            ...   \nid2376096           6.658011        0            0              0   \nid1049543           6.486161        0            0              0   \nid2304944           6.639876        0            0              0   \nid2714485           5.924256        0            0              1   \nid1209952           5.293305        0            0              1   \n\n           day_of_week_2  day_of_week_3  ...  hour_19  hour_20  hour_21  \\\nid                                       ...                              \nid2875421              0              0  ...        0        0        0   \nid2377394              0              0  ...        0        0        0   \nid3858529              0              0  ...        0        0        0   \nid3504673              1              0  ...        1        0        0   \nid2181028              0              0  ...        0        0        0   \n...                  ...            ...  ...      ...      ...      ...   \nid2376096              0              0  ...        0        0        0   \nid1049543              0              0  ...        0        0        0   \nid2304944              0              0  ...        0        0        0   \nid2714485              0              0  ...        0        0        0   \nid1209952              0              0  ...        0        0        0   \n\n           hour_22  hour_23  month_2  month_3  month_4  month_5  month_6  \nid                                                                        \nid2875421        0        0        0        1        0        0        0  \nid2377394        0        0        0        0        0        0        1  \nid3858529        0        0        0        0        0        0        0  \nid3504673        0        0        0        0        1        0        0  \nid2181028        0        0        0        1        0        0        0  \n...            ...      ...      ...      ...      ...      ...      ...  \nid2376096        0        0        0        0        1        0        0  \nid1049543        0        0        0        0        0        0        0  \nid2304944        0        0        0        0        1        0        0  \nid2714485        0        0        0        0        0        0        0  \nid1209952        0        0        0        0        1        0        0  \n\n[1458643 rows x 41 columns]",
      "text/html": "<div>\n<style scoped>\n    .dataframe tbody tr th:only-of-type {\n        vertical-align: middle;\n    }\n\n    .dataframe tbody tr th {\n        vertical-align: top;\n    }\n\n    .dataframe thead th {\n        text-align: right;\n    }\n</style>\n<table border=\"1\" class=\"dataframe\">\n  <thead>\n    <tr style=\"text-align: right;\">\n      <th></th>\n      <th>vendor_id</th>\n      <th>passenger_count</th>\n      <th>store_and_fwd_flag</th>\n      <th>distance_km</th>\n      <th>log_trip_duration</th>\n      <th>anomaly</th>\n      <th>traffic_jam</th>\n      <th>day_of_week_1</th>\n      <th>day_of_week_2</th>\n      <th>day_of_week_3</th>\n      <th>...</th>\n      <th>hour_19</th>\n      <th>hour_20</th>\n      <th>hour_21</th>\n      <th>hour_22</th>\n      <th>hour_23</th>\n      <th>month_2</th>\n      <th>month_3</th>\n      <th>month_4</th>\n      <th>month_5</th>\n      <th>month_6</th>\n    </tr>\n    <tr>\n      <th>id</th>\n      <th></th>\n      <th></th>\n      <th></th>\n      <th></th>\n      <th></th>\n      <th></th>\n      <th></th>\n      <th></th>\n      <th></th>\n      <th></th>\n      <th></th>\n      <th></th>\n      <th></th>\n      <th></th>\n      <th></th>\n      <th></th>\n      <th></th>\n      <th></th>\n      <th></th>\n      <th></th>\n      <th></th>\n    </tr>\n  </thead>\n  <tbody>\n    <tr>\n      <th>id2875421</th>\n      <td>1</td>\n      <td>930.399753</td>\n      <td>0</td>\n      <td>1.500479</td>\n      <td>6.122493</td>\n      <td>0</td>\n      <td>0</td>\n      <td>0</td>\n      <td>0</td>\n      <td>0</td>\n      <td>...</td>\n      <td>0</td>\n      <td>0</td>\n      <td>0</td>\n      <td>0</td>\n      <td>0</td>\n      <td>0</td>\n      <td>1</td>\n      <td>0</td>\n      <td>0</td>\n      <td>0</td>\n    </tr>\n    <tr>\n      <th>id2377394</th>\n      <td>0</td>\n      <td>930.399753</td>\n      <td>0</td>\n      <td>1.807119</td>\n      <td>6.498282</td>\n      <td>0</td>\n      <td>0</td>\n      <td>0</td>\n      <td>0</td>\n      <td>0</td>\n      <td>...</td>\n      <td>0</td>\n      <td>0</td>\n      <td>0</td>\n      <td>0</td>\n      <td>0</td>\n      <td>0</td>\n      <td>0</td>\n      <td>0</td>\n      <td>0</td>\n      <td>1</td>\n    </tr>\n    <tr>\n      <th>id3858529</th>\n      <td>1</td>\n      <td>930.399753</td>\n      <td>0</td>\n      <td>6.392080</td>\n      <td>7.661527</td>\n      <td>0</td>\n      <td>1</td>\n      <td>1</td>\n      <td>0</td>\n      <td>0</td>\n      <td>...</td>\n      <td>0</td>\n      <td>0</td>\n      <td>0</td>\n      <td>0</td>\n      <td>0</td>\n      <td>0</td>\n      <td>0</td>\n      <td>0</td>\n      <td>0</td>\n      <td>0</td>\n    </tr>\n    <tr>\n      <th>id3504673</th>\n      <td>1</td>\n      <td>930.399753</td>\n      <td>0</td>\n      <td>1.487155</td>\n      <td>6.063785</td>\n      <td>0</td>\n      <td>0</td>\n      <td>0</td>\n      <td>1</td>\n      <td>0</td>\n      <td>...</td>\n      <td>1</td>\n      <td>0</td>\n      <td>0</td>\n      <td>0</td>\n      <td>0</td>\n      <td>0</td>\n      <td>0</td>\n      <td>1</td>\n      <td>0</td>\n      <td>0</td>\n    </tr>\n    <tr>\n      <th>id2181028</th>\n      <td>1</td>\n      <td>930.399753</td>\n      <td>0</td>\n      <td>1.189925</td>\n      <td>6.077642</td>\n      <td>0</td>\n      <td>0</td>\n      <td>0</td>\n      <td>0</td>\n      <td>0</td>\n      <td>...</td>\n      <td>0</td>\n      <td>0</td>\n      <td>0</td>\n      <td>0</td>\n      <td>0</td>\n      <td>0</td>\n      <td>1</td>\n      <td>0</td>\n      <td>0</td>\n      <td>0</td>\n    </tr>\n    <tr>\n      <th>...</th>\n      <td>...</td>\n      <td>...</td>\n      <td>...</td>\n      <td>...</td>\n      <td>...</td>\n      <td>...</td>\n      <td>...</td>\n      <td>...</td>\n      <td>...</td>\n      <td>...</td>\n      <td>...</td>\n      <td>...</td>\n      <td>...</td>\n      <td>...</td>\n      <td>...</td>\n      <td>...</td>\n      <td>...</td>\n      <td>...</td>\n      <td>...</td>\n      <td>...</td>\n      <td>...</td>\n    </tr>\n    <tr>\n      <th>id2376096</th>\n      <td>1</td>\n      <td>930.399753</td>\n      <td>0</td>\n      <td>1.226296</td>\n      <td>6.658011</td>\n      <td>0</td>\n      <td>0</td>\n      <td>0</td>\n      <td>0</td>\n      <td>0</td>\n      <td>...</td>\n      <td>0</td>\n      <td>0</td>\n      <td>0</td>\n      <td>0</td>\n      <td>0</td>\n      <td>0</td>\n      <td>0</td>\n      <td>1</td>\n      <td>0</td>\n      <td>0</td>\n    </tr>\n    <tr>\n      <th>id1049543</th>\n      <td>0</td>\n      <td>930.399753</td>\n      <td>0</td>\n      <td>6.056935</td>\n      <td>6.486161</td>\n      <td>0</td>\n      <td>0</td>\n      <td>0</td>\n      <td>0</td>\n      <td>0</td>\n      <td>...</td>\n      <td>0</td>\n      <td>0</td>\n      <td>0</td>\n      <td>0</td>\n      <td>0</td>\n      <td>0</td>\n      <td>0</td>\n      <td>0</td>\n      <td>0</td>\n      <td>0</td>\n    </tr>\n    <tr>\n      <th>id2304944</th>\n      <td>1</td>\n      <td>930.399753</td>\n      <td>0</td>\n      <td>7.832952</td>\n      <td>6.639876</td>\n      <td>0</td>\n      <td>0</td>\n      <td>0</td>\n      <td>0</td>\n      <td>0</td>\n      <td>...</td>\n      <td>0</td>\n      <td>0</td>\n      <td>0</td>\n      <td>0</td>\n      <td>0</td>\n      <td>0</td>\n      <td>0</td>\n      <td>1</td>\n      <td>0</td>\n      <td>0</td>\n    </tr>\n    <tr>\n      <th>id2714485</th>\n      <td>0</td>\n      <td>930.399753</td>\n      <td>0</td>\n      <td>1.093786</td>\n      <td>5.924256</td>\n      <td>0</td>\n      <td>0</td>\n      <td>1</td>\n      <td>0</td>\n      <td>0</td>\n      <td>...</td>\n      <td>0</td>\n      <td>0</td>\n      <td>0</td>\n      <td>0</td>\n      <td>0</td>\n      <td>0</td>\n      <td>0</td>\n      <td>0</td>\n      <td>0</td>\n      <td>0</td>\n    </tr>\n    <tr>\n      <th>id1209952</th>\n      <td>0</td>\n      <td>930.399753</td>\n      <td>0</td>\n      <td>1.135453</td>\n      <td>5.293305</td>\n      <td>0</td>\n      <td>0</td>\n      <td>1</td>\n      <td>0</td>\n      <td>0</td>\n      <td>...</td>\n      <td>0</td>\n      <td>0</td>\n      <td>0</td>\n      <td>0</td>\n      <td>0</td>\n      <td>0</td>\n      <td>0</td>\n      <td>1</td>\n      <td>0</td>\n      <td>0</td>\n    </tr>\n  </tbody>\n</table>\n<p>1458643 rows × 41 columns</p>\n</div>"
     },
     "execution_count": 21,
     "metadata": {},
     "output_type": "execute_result"
    }
   ],
   "source": [
    "data[(upper_tentacle > data['log_trip_duration']) & (data['log_trip_duration'] > lower_tentacle)]"
   ],
   "id": "ceee670167a16600"
  },
  {
   "cell_type": "code",
   "execution_count": 22,
   "outputs": [],
   "source": [
    "# import matplotlib.pyplot as plt\n",
    "# \n",
    "# ### Your code is here\n",
    "# fig = plt.figure()\n",
    "# \n",
    "# fig.set_size_inches((10, 16))\n",
    "# \n",
    "# plt.boxplot(data[(upper_tentacle > data['log_trip_duration']) & (data['log_trip_duration'] > lower_tentacle)].values)"
   ],
   "metadata": {
    "collapsed": false,
    "ExecuteTime": {
     "end_time": "2024-01-29T15:00:25.483162600Z",
     "start_time": "2024-01-29T15:00:25.468162500Z"
    }
   },
   "id": "40ba38ac51d5cb85"
  },
  {
   "cell_type": "code",
   "execution_count": 28,
   "outputs": [
    {
     "name": "stdout",
     "output_type": "stream",
     "text": [
      "Before drop: 1444013\n"
     ]
    },
    {
     "ename": "KeyError",
     "evalue": "\"['vendor_id', 'passenger_count', 'store_and_fwd_flag', 'distance_km', 'log_trip_duration', 'anomaly', 'traffic_jam', 'day_of_week_1', 'day_of_week_2', 'day_of_week_3', 'day_of_week_4', 'day_of_week_5', 'day_of_week_6', 'hour_1', 'hour_2', 'hour_3', 'hour_4', 'hour_5', 'hour_6', 'hour_7', 'hour_8', 'hour_9', 'hour_10', 'hour_11', 'hour_12', 'hour_13', 'hour_14', 'hour_15', 'hour_16', 'hour_17', 'hour_18', 'hour_19', 'hour_20', 'hour_21', 'hour_22', 'hour_23', 'month_2', 'month_3', 'month_4', 'month_5', 'month_6'] not found in axis\"",
     "output_type": "error",
     "traceback": [
      "\u001B[1;31m---------------------------------------------------------------------------\u001B[0m",
      "\u001B[1;31mKeyError\u001B[0m                                  Traceback (most recent call last)",
      "Cell \u001B[1;32mIn[28], line 3\u001B[0m\n\u001B[0;32m      1\u001B[0m filtered_data \u001B[38;5;241m=\u001B[39m data[(data[\u001B[38;5;124m'\u001B[39m\u001B[38;5;124mlog_trip_duration\u001B[39m\u001B[38;5;124m'\u001B[39m] \u001B[38;5;241m<\u001B[39m lower_tentacle) \u001B[38;5;241m|\u001B[39m (data[\u001B[38;5;124m'\u001B[39m\u001B[38;5;124mlog_trip_duration\u001B[39m\u001B[38;5;124m'\u001B[39m] \u001B[38;5;241m>\u001B[39m upper_tentacle)]\n\u001B[0;32m      2\u001B[0m \u001B[38;5;28mprint\u001B[39m(\u001B[38;5;124m\"\u001B[39m\u001B[38;5;124mBefore drop:\u001B[39m\u001B[38;5;124m\"\u001B[39m, \u001B[38;5;28mlen\u001B[39m(data))\n\u001B[1;32m----> 3\u001B[0m data\u001B[38;5;241m.\u001B[39mdrop(filtered_data, inplace\u001B[38;5;241m=\u001B[39m\u001B[38;5;28;01mTrue\u001B[39;00m)\n\u001B[0;32m      4\u001B[0m \u001B[38;5;28mprint\u001B[39m(\u001B[38;5;124m\"\u001B[39m\u001B[38;5;124mAfter drop:\u001B[39m\u001B[38;5;124m\"\u001B[39m, \u001B[38;5;28mlen\u001B[39m(data))\n",
      "File \u001B[1;32m~\\AppData\\Roaming\\Python\\Python311\\site-packages\\pandas\\core\\frame.py:5344\u001B[0m, in \u001B[0;36mDataFrame.drop\u001B[1;34m(self, labels, axis, index, columns, level, inplace, errors)\u001B[0m\n\u001B[0;32m   5196\u001B[0m \u001B[38;5;28;01mdef\u001B[39;00m \u001B[38;5;21mdrop\u001B[39m(\n\u001B[0;32m   5197\u001B[0m     \u001B[38;5;28mself\u001B[39m,\n\u001B[0;32m   5198\u001B[0m     labels: IndexLabel \u001B[38;5;241m|\u001B[39m \u001B[38;5;28;01mNone\u001B[39;00m \u001B[38;5;241m=\u001B[39m \u001B[38;5;28;01mNone\u001B[39;00m,\n\u001B[1;32m   (...)\u001B[0m\n\u001B[0;32m   5205\u001B[0m     errors: IgnoreRaise \u001B[38;5;241m=\u001B[39m \u001B[38;5;124m\"\u001B[39m\u001B[38;5;124mraise\u001B[39m\u001B[38;5;124m\"\u001B[39m,\n\u001B[0;32m   5206\u001B[0m ) \u001B[38;5;241m-\u001B[39m\u001B[38;5;241m>\u001B[39m DataFrame \u001B[38;5;241m|\u001B[39m \u001B[38;5;28;01mNone\u001B[39;00m:\n\u001B[0;32m   5207\u001B[0m \u001B[38;5;250m    \u001B[39m\u001B[38;5;124;03m\"\"\"\u001B[39;00m\n\u001B[0;32m   5208\u001B[0m \u001B[38;5;124;03m    Drop specified labels from rows or columns.\u001B[39;00m\n\u001B[0;32m   5209\u001B[0m \n\u001B[1;32m   (...)\u001B[0m\n\u001B[0;32m   5342\u001B[0m \u001B[38;5;124;03m            weight  1.0     0.8\u001B[39;00m\n\u001B[0;32m   5343\u001B[0m \u001B[38;5;124;03m    \"\"\"\u001B[39;00m\n\u001B[1;32m-> 5344\u001B[0m     \u001B[38;5;28;01mreturn\u001B[39;00m \u001B[38;5;28msuper\u001B[39m()\u001B[38;5;241m.\u001B[39mdrop(\n\u001B[0;32m   5345\u001B[0m         labels\u001B[38;5;241m=\u001B[39mlabels,\n\u001B[0;32m   5346\u001B[0m         axis\u001B[38;5;241m=\u001B[39maxis,\n\u001B[0;32m   5347\u001B[0m         index\u001B[38;5;241m=\u001B[39mindex,\n\u001B[0;32m   5348\u001B[0m         columns\u001B[38;5;241m=\u001B[39mcolumns,\n\u001B[0;32m   5349\u001B[0m         level\u001B[38;5;241m=\u001B[39mlevel,\n\u001B[0;32m   5350\u001B[0m         inplace\u001B[38;5;241m=\u001B[39minplace,\n\u001B[0;32m   5351\u001B[0m         errors\u001B[38;5;241m=\u001B[39merrors,\n\u001B[0;32m   5352\u001B[0m     )\n",
      "File \u001B[1;32m~\\AppData\\Roaming\\Python\\Python311\\site-packages\\pandas\\core\\generic.py:4711\u001B[0m, in \u001B[0;36mNDFrame.drop\u001B[1;34m(self, labels, axis, index, columns, level, inplace, errors)\u001B[0m\n\u001B[0;32m   4709\u001B[0m \u001B[38;5;28;01mfor\u001B[39;00m axis, labels \u001B[38;5;129;01min\u001B[39;00m axes\u001B[38;5;241m.\u001B[39mitems():\n\u001B[0;32m   4710\u001B[0m     \u001B[38;5;28;01mif\u001B[39;00m labels \u001B[38;5;129;01mis\u001B[39;00m \u001B[38;5;129;01mnot\u001B[39;00m \u001B[38;5;28;01mNone\u001B[39;00m:\n\u001B[1;32m-> 4711\u001B[0m         obj \u001B[38;5;241m=\u001B[39m obj\u001B[38;5;241m.\u001B[39m_drop_axis(labels, axis, level\u001B[38;5;241m=\u001B[39mlevel, errors\u001B[38;5;241m=\u001B[39merrors)\n\u001B[0;32m   4713\u001B[0m \u001B[38;5;28;01mif\u001B[39;00m inplace:\n\u001B[0;32m   4714\u001B[0m     \u001B[38;5;28mself\u001B[39m\u001B[38;5;241m.\u001B[39m_update_inplace(obj)\n",
      "File \u001B[1;32m~\\AppData\\Roaming\\Python\\Python311\\site-packages\\pandas\\core\\generic.py:4753\u001B[0m, in \u001B[0;36mNDFrame._drop_axis\u001B[1;34m(self, labels, axis, level, errors, only_slice)\u001B[0m\n\u001B[0;32m   4751\u001B[0m         new_axis \u001B[38;5;241m=\u001B[39m axis\u001B[38;5;241m.\u001B[39mdrop(labels, level\u001B[38;5;241m=\u001B[39mlevel, errors\u001B[38;5;241m=\u001B[39merrors)\n\u001B[0;32m   4752\u001B[0m     \u001B[38;5;28;01melse\u001B[39;00m:\n\u001B[1;32m-> 4753\u001B[0m         new_axis \u001B[38;5;241m=\u001B[39m axis\u001B[38;5;241m.\u001B[39mdrop(labels, errors\u001B[38;5;241m=\u001B[39merrors)\n\u001B[0;32m   4754\u001B[0m     indexer \u001B[38;5;241m=\u001B[39m axis\u001B[38;5;241m.\u001B[39mget_indexer(new_axis)\n\u001B[0;32m   4756\u001B[0m \u001B[38;5;66;03m# Case for non-unique axis\u001B[39;00m\n\u001B[0;32m   4757\u001B[0m \u001B[38;5;28;01melse\u001B[39;00m:\n",
      "File \u001B[1;32m~\\AppData\\Roaming\\Python\\Python311\\site-packages\\pandas\\core\\indexes\\base.py:6992\u001B[0m, in \u001B[0;36mIndex.drop\u001B[1;34m(self, labels, errors)\u001B[0m\n\u001B[0;32m   6990\u001B[0m \u001B[38;5;28;01mif\u001B[39;00m mask\u001B[38;5;241m.\u001B[39many():\n\u001B[0;32m   6991\u001B[0m     \u001B[38;5;28;01mif\u001B[39;00m errors \u001B[38;5;241m!=\u001B[39m \u001B[38;5;124m\"\u001B[39m\u001B[38;5;124mignore\u001B[39m\u001B[38;5;124m\"\u001B[39m:\n\u001B[1;32m-> 6992\u001B[0m         \u001B[38;5;28;01mraise\u001B[39;00m \u001B[38;5;167;01mKeyError\u001B[39;00m(\u001B[38;5;124mf\u001B[39m\u001B[38;5;124m\"\u001B[39m\u001B[38;5;132;01m{\u001B[39;00mlabels[mask]\u001B[38;5;241m.\u001B[39mtolist()\u001B[38;5;132;01m}\u001B[39;00m\u001B[38;5;124m not found in axis\u001B[39m\u001B[38;5;124m\"\u001B[39m)\n\u001B[0;32m   6993\u001B[0m     indexer \u001B[38;5;241m=\u001B[39m indexer[\u001B[38;5;241m~\u001B[39mmask]\n\u001B[0;32m   6994\u001B[0m \u001B[38;5;28;01mreturn\u001B[39;00m \u001B[38;5;28mself\u001B[39m\u001B[38;5;241m.\u001B[39mdelete(indexer)\n",
      "\u001B[1;31mKeyError\u001B[0m: \"['vendor_id', 'passenger_count', 'store_and_fwd_flag', 'distance_km', 'log_trip_duration', 'anomaly', 'traffic_jam', 'day_of_week_1', 'day_of_week_2', 'day_of_week_3', 'day_of_week_4', 'day_of_week_5', 'day_of_week_6', 'hour_1', 'hour_2', 'hour_3', 'hour_4', 'hour_5', 'hour_6', 'hour_7', 'hour_8', 'hour_9', 'hour_10', 'hour_11', 'hour_12', 'hour_13', 'hour_14', 'hour_15', 'hour_16', 'hour_17', 'hour_18', 'hour_19', 'hour_20', 'hour_21', 'hour_22', 'hour_23', 'month_2', 'month_3', 'month_4', 'month_5', 'month_6'] not found in axis\""
     ]
    }
   ],
   "source": [
    "filtered_data = data[(data['log_trip_duration'] < lower_tentacle) | (data['log_trip_duration'] > upper_tentacle)]\n",
    "print(\"Before drop:\", len(data))\n",
    "data.drop(filtered_data.index, inplace=True)\n",
    "print(\"After drop:\", len(data))"
   ],
   "metadata": {
    "collapsed": false,
    "ExecuteTime": {
     "end_time": "2024-01-29T15:02:19.110517500Z",
     "start_time": "2024-01-29T15:02:16.228279900Z"
    }
   },
   "id": "4f1a02f0d18ba3c9"
  },
  {
   "cell_type": "code",
   "execution_count": 24,
   "outputs": [
    {
     "data": {
      "text/plain": "           vendor_id  passenger_count  store_and_fwd_flag  distance_km  \\\nid                                                                       \nid2875421          1       930.399753                   0     1.500479   \nid2377394          0       930.399753                   0     1.807119   \nid3858529          1       930.399753                   0     6.392080   \nid3504673          1       930.399753                   0     1.487155   \nid2181028          1       930.399753                   0     1.189925   \n...              ...              ...                 ...          ...   \nid2376096          1       930.399753                   0     1.226296   \nid1049543          0       930.399753                   0     6.056935   \nid2304944          1       930.399753                   0     7.832952   \nid2714485          0       930.399753                   0     1.093786   \nid1209952          0       930.399753                   0     1.135453   \n\n           log_trip_duration  anomaly  traffic_jam  day_of_week_1  \\\nid                                                                  \nid2875421           6.122493        0            0              0   \nid2377394           6.498282        0            0              0   \nid3858529           7.661527        0            1              1   \nid3504673           6.063785        0            0              0   \nid2181028           6.077642        0            0              0   \n...                      ...      ...          ...            ...   \nid2376096           6.658011        0            0              0   \nid1049543           6.486161        0            0              0   \nid2304944           6.639876        0            0              0   \nid2714485           5.924256        0            0              1   \nid1209952           5.293305        0            0              1   \n\n           day_of_week_2  day_of_week_3  ...  hour_19  hour_20  hour_21  \\\nid                                       ...                              \nid2875421              0              0  ...        0        0        0   \nid2377394              0              0  ...        0        0        0   \nid3858529              0              0  ...        0        0        0   \nid3504673              1              0  ...        1        0        0   \nid2181028              0              0  ...        0        0        0   \n...                  ...            ...  ...      ...      ...      ...   \nid2376096              0              0  ...        0        0        0   \nid1049543              0              0  ...        0        0        0   \nid2304944              0              0  ...        0        0        0   \nid2714485              0              0  ...        0        0        0   \nid1209952              0              0  ...        0        0        0   \n\n           hour_22  hour_23  month_2  month_3  month_4  month_5  month_6  \nid                                                                        \nid2875421        0        0        0        1        0        0        0  \nid2377394        0        0        0        0        0        0        1  \nid3858529        0        0        0        0        0        0        0  \nid3504673        0        0        0        0        1        0        0  \nid2181028        0        0        0        1        0        0        0  \n...            ...      ...      ...      ...      ...      ...      ...  \nid2376096        0        0        0        0        1        0        0  \nid1049543        0        0        0        0        0        0        0  \nid2304944        0        0        0        0        1        0        0  \nid2714485        0        0        0        0        0        0        0  \nid1209952        0        0        0        0        1        0        0  \n\n[1458643 rows x 41 columns]",
      "text/html": "<div>\n<style scoped>\n    .dataframe tbody tr th:only-of-type {\n        vertical-align: middle;\n    }\n\n    .dataframe tbody tr th {\n        vertical-align: top;\n    }\n\n    .dataframe thead th {\n        text-align: right;\n    }\n</style>\n<table border=\"1\" class=\"dataframe\">\n  <thead>\n    <tr style=\"text-align: right;\">\n      <th></th>\n      <th>vendor_id</th>\n      <th>passenger_count</th>\n      <th>store_and_fwd_flag</th>\n      <th>distance_km</th>\n      <th>log_trip_duration</th>\n      <th>anomaly</th>\n      <th>traffic_jam</th>\n      <th>day_of_week_1</th>\n      <th>day_of_week_2</th>\n      <th>day_of_week_3</th>\n      <th>...</th>\n      <th>hour_19</th>\n      <th>hour_20</th>\n      <th>hour_21</th>\n      <th>hour_22</th>\n      <th>hour_23</th>\n      <th>month_2</th>\n      <th>month_3</th>\n      <th>month_4</th>\n      <th>month_5</th>\n      <th>month_6</th>\n    </tr>\n    <tr>\n      <th>id</th>\n      <th></th>\n      <th></th>\n      <th></th>\n      <th></th>\n      <th></th>\n      <th></th>\n      <th></th>\n      <th></th>\n      <th></th>\n      <th></th>\n      <th></th>\n      <th></th>\n      <th></th>\n      <th></th>\n      <th></th>\n      <th></th>\n      <th></th>\n      <th></th>\n      <th></th>\n      <th></th>\n      <th></th>\n    </tr>\n  </thead>\n  <tbody>\n    <tr>\n      <th>id2875421</th>\n      <td>1</td>\n      <td>930.399753</td>\n      <td>0</td>\n      <td>1.500479</td>\n      <td>6.122493</td>\n      <td>0</td>\n      <td>0</td>\n      <td>0</td>\n      <td>0</td>\n      <td>0</td>\n      <td>...</td>\n      <td>0</td>\n      <td>0</td>\n      <td>0</td>\n      <td>0</td>\n      <td>0</td>\n      <td>0</td>\n      <td>1</td>\n      <td>0</td>\n      <td>0</td>\n      <td>0</td>\n    </tr>\n    <tr>\n      <th>id2377394</th>\n      <td>0</td>\n      <td>930.399753</td>\n      <td>0</td>\n      <td>1.807119</td>\n      <td>6.498282</td>\n      <td>0</td>\n      <td>0</td>\n      <td>0</td>\n      <td>0</td>\n      <td>0</td>\n      <td>...</td>\n      <td>0</td>\n      <td>0</td>\n      <td>0</td>\n      <td>0</td>\n      <td>0</td>\n      <td>0</td>\n      <td>0</td>\n      <td>0</td>\n      <td>0</td>\n      <td>1</td>\n    </tr>\n    <tr>\n      <th>id3858529</th>\n      <td>1</td>\n      <td>930.399753</td>\n      <td>0</td>\n      <td>6.392080</td>\n      <td>7.661527</td>\n      <td>0</td>\n      <td>1</td>\n      <td>1</td>\n      <td>0</td>\n      <td>0</td>\n      <td>...</td>\n      <td>0</td>\n      <td>0</td>\n      <td>0</td>\n      <td>0</td>\n      <td>0</td>\n      <td>0</td>\n      <td>0</td>\n      <td>0</td>\n      <td>0</td>\n      <td>0</td>\n    </tr>\n    <tr>\n      <th>id3504673</th>\n      <td>1</td>\n      <td>930.399753</td>\n      <td>0</td>\n      <td>1.487155</td>\n      <td>6.063785</td>\n      <td>0</td>\n      <td>0</td>\n      <td>0</td>\n      <td>1</td>\n      <td>0</td>\n      <td>...</td>\n      <td>1</td>\n      <td>0</td>\n      <td>0</td>\n      <td>0</td>\n      <td>0</td>\n      <td>0</td>\n      <td>0</td>\n      <td>1</td>\n      <td>0</td>\n      <td>0</td>\n    </tr>\n    <tr>\n      <th>id2181028</th>\n      <td>1</td>\n      <td>930.399753</td>\n      <td>0</td>\n      <td>1.189925</td>\n      <td>6.077642</td>\n      <td>0</td>\n      <td>0</td>\n      <td>0</td>\n      <td>0</td>\n      <td>0</td>\n      <td>...</td>\n      <td>0</td>\n      <td>0</td>\n      <td>0</td>\n      <td>0</td>\n      <td>0</td>\n      <td>0</td>\n      <td>1</td>\n      <td>0</td>\n      <td>0</td>\n      <td>0</td>\n    </tr>\n    <tr>\n      <th>...</th>\n      <td>...</td>\n      <td>...</td>\n      <td>...</td>\n      <td>...</td>\n      <td>...</td>\n      <td>...</td>\n      <td>...</td>\n      <td>...</td>\n      <td>...</td>\n      <td>...</td>\n      <td>...</td>\n      <td>...</td>\n      <td>...</td>\n      <td>...</td>\n      <td>...</td>\n      <td>...</td>\n      <td>...</td>\n      <td>...</td>\n      <td>...</td>\n      <td>...</td>\n      <td>...</td>\n    </tr>\n    <tr>\n      <th>id2376096</th>\n      <td>1</td>\n      <td>930.399753</td>\n      <td>0</td>\n      <td>1.226296</td>\n      <td>6.658011</td>\n      <td>0</td>\n      <td>0</td>\n      <td>0</td>\n      <td>0</td>\n      <td>0</td>\n      <td>...</td>\n      <td>0</td>\n      <td>0</td>\n      <td>0</td>\n      <td>0</td>\n      <td>0</td>\n      <td>0</td>\n      <td>0</td>\n      <td>1</td>\n      <td>0</td>\n      <td>0</td>\n    </tr>\n    <tr>\n      <th>id1049543</th>\n      <td>0</td>\n      <td>930.399753</td>\n      <td>0</td>\n      <td>6.056935</td>\n      <td>6.486161</td>\n      <td>0</td>\n      <td>0</td>\n      <td>0</td>\n      <td>0</td>\n      <td>0</td>\n      <td>...</td>\n      <td>0</td>\n      <td>0</td>\n      <td>0</td>\n      <td>0</td>\n      <td>0</td>\n      <td>0</td>\n      <td>0</td>\n      <td>0</td>\n      <td>0</td>\n      <td>0</td>\n    </tr>\n    <tr>\n      <th>id2304944</th>\n      <td>1</td>\n      <td>930.399753</td>\n      <td>0</td>\n      <td>7.832952</td>\n      <td>6.639876</td>\n      <td>0</td>\n      <td>0</td>\n      <td>0</td>\n      <td>0</td>\n      <td>0</td>\n      <td>...</td>\n      <td>0</td>\n      <td>0</td>\n      <td>0</td>\n      <td>0</td>\n      <td>0</td>\n      <td>0</td>\n      <td>0</td>\n      <td>1</td>\n      <td>0</td>\n      <td>0</td>\n    </tr>\n    <tr>\n      <th>id2714485</th>\n      <td>0</td>\n      <td>930.399753</td>\n      <td>0</td>\n      <td>1.093786</td>\n      <td>5.924256</td>\n      <td>0</td>\n      <td>0</td>\n      <td>1</td>\n      <td>0</td>\n      <td>0</td>\n      <td>...</td>\n      <td>0</td>\n      <td>0</td>\n      <td>0</td>\n      <td>0</td>\n      <td>0</td>\n      <td>0</td>\n      <td>0</td>\n      <td>0</td>\n      <td>0</td>\n      <td>0</td>\n    </tr>\n    <tr>\n      <th>id1209952</th>\n      <td>0</td>\n      <td>930.399753</td>\n      <td>0</td>\n      <td>1.135453</td>\n      <td>5.293305</td>\n      <td>0</td>\n      <td>0</td>\n      <td>1</td>\n      <td>0</td>\n      <td>0</td>\n      <td>...</td>\n      <td>0</td>\n      <td>0</td>\n      <td>0</td>\n      <td>0</td>\n      <td>0</td>\n      <td>0</td>\n      <td>0</td>\n      <td>1</td>\n      <td>0</td>\n      <td>0</td>\n    </tr>\n  </tbody>\n</table>\n<p>1458643 rows × 41 columns</p>\n</div>"
     },
     "execution_count": 24,
     "metadata": {},
     "output_type": "execute_result"
    }
   ],
   "source": [
    "data"
   ],
   "metadata": {
    "collapsed": false,
    "ExecuteTime": {
     "end_time": "2024-01-29T15:00:26.616338800Z",
     "start_time": "2024-01-29T15:00:26.035822200Z"
    }
   },
   "id": "e11dfd2c1539dc19"
  },
  {
   "cell_type": "code",
   "execution_count": 25,
   "outputs": [
    {
     "name": "stdout",
     "output_type": "stream",
     "text": [
      "Before drop: 1458643\n",
      "After drop: 1444013\n"
     ]
    }
   ],
   "source": [
    "# Calculate quantiles to set boundaries\n",
    "lower_quantile = data['log_trip_duration'].quantile(0.005)\n",
    "upper_quantile = data['log_trip_duration'].quantile(0.995)\n",
    "\n",
    "# Create a mask for values within the quantile range\n",
    "mask = (data['log_trip_duration'] > lower_quantile) & (data['log_trip_duration'] < upper_quantile)\n",
    "\n",
    "# Apply the mask to filter the DataFrame\n",
    "filtered_data = data[mask]\n",
    "\n",
    "# Display information about the DataFrame before and after the drop\n",
    "print(\"Before drop:\", len(data))\n",
    "print(\"After drop:\", len(filtered_data))\n",
    "\n",
    "# If you want to modify the original DataFrame in-place, you can use the following:\n",
    "data.drop(data[~mask].index, inplace=True)"
   ],
   "metadata": {
    "collapsed": false,
    "ExecuteTime": {
     "end_time": "2024-01-29T15:00:27.821366Z",
     "start_time": "2024-01-29T15:00:26.617337100Z"
    }
   },
   "id": "65761dfef8303b28"
  },
  {
   "cell_type": "code",
   "execution_count": 26,
   "outputs": [
    {
     "data": {
      "text/plain": "           vendor_id  passenger_count  store_and_fwd_flag  distance_km  \\\nid                                                                       \nid2875421          1       930.399753                   0     1.500479   \nid2377394          0       930.399753                   0     1.807119   \nid3858529          1       930.399753                   0     6.392080   \nid3504673          1       930.399753                   0     1.487155   \nid2181028          1       930.399753                   0     1.189925   \n...              ...              ...                 ...          ...   \nid2376096          1       930.399753                   0     1.226296   \nid1049543          0       930.399753                   0     6.056935   \nid2304944          1       930.399753                   0     7.832952   \nid2714485          0       930.399753                   0     1.093786   \nid1209952          0       930.399753                   0     1.135453   \n\n           log_trip_duration  anomaly  traffic_jam  day_of_week_1  \\\nid                                                                  \nid2875421           6.122493        0            0              0   \nid2377394           6.498282        0            0              0   \nid3858529           7.661527        0            1              1   \nid3504673           6.063785        0            0              0   \nid2181028           6.077642        0            0              0   \n...                      ...      ...          ...            ...   \nid2376096           6.658011        0            0              0   \nid1049543           6.486161        0            0              0   \nid2304944           6.639876        0            0              0   \nid2714485           5.924256        0            0              1   \nid1209952           5.293305        0            0              1   \n\n           day_of_week_2  day_of_week_3  ...  hour_19  hour_20  hour_21  \\\nid                                       ...                              \nid2875421              0              0  ...        0        0        0   \nid2377394              0              0  ...        0        0        0   \nid3858529              0              0  ...        0        0        0   \nid3504673              1              0  ...        1        0        0   \nid2181028              0              0  ...        0        0        0   \n...                  ...            ...  ...      ...      ...      ...   \nid2376096              0              0  ...        0        0        0   \nid1049543              0              0  ...        0        0        0   \nid2304944              0              0  ...        0        0        0   \nid2714485              0              0  ...        0        0        0   \nid1209952              0              0  ...        0        0        0   \n\n           hour_22  hour_23  month_2  month_3  month_4  month_5  month_6  \nid                                                                        \nid2875421        0        0        0        1        0        0        0  \nid2377394        0        0        0        0        0        0        1  \nid3858529        0        0        0        0        0        0        0  \nid3504673        0        0        0        0        1        0        0  \nid2181028        0        0        0        1        0        0        0  \n...            ...      ...      ...      ...      ...      ...      ...  \nid2376096        0        0        0        0        1        0        0  \nid1049543        0        0        0        0        0        0        0  \nid2304944        0        0        0        0        1        0        0  \nid2714485        0        0        0        0        0        0        0  \nid1209952        0        0        0        0        1        0        0  \n\n[1444013 rows x 41 columns]",
      "text/html": "<div>\n<style scoped>\n    .dataframe tbody tr th:only-of-type {\n        vertical-align: middle;\n    }\n\n    .dataframe tbody tr th {\n        vertical-align: top;\n    }\n\n    .dataframe thead th {\n        text-align: right;\n    }\n</style>\n<table border=\"1\" class=\"dataframe\">\n  <thead>\n    <tr style=\"text-align: right;\">\n      <th></th>\n      <th>vendor_id</th>\n      <th>passenger_count</th>\n      <th>store_and_fwd_flag</th>\n      <th>distance_km</th>\n      <th>log_trip_duration</th>\n      <th>anomaly</th>\n      <th>traffic_jam</th>\n      <th>day_of_week_1</th>\n      <th>day_of_week_2</th>\n      <th>day_of_week_3</th>\n      <th>...</th>\n      <th>hour_19</th>\n      <th>hour_20</th>\n      <th>hour_21</th>\n      <th>hour_22</th>\n      <th>hour_23</th>\n      <th>month_2</th>\n      <th>month_3</th>\n      <th>month_4</th>\n      <th>month_5</th>\n      <th>month_6</th>\n    </tr>\n    <tr>\n      <th>id</th>\n      <th></th>\n      <th></th>\n      <th></th>\n      <th></th>\n      <th></th>\n      <th></th>\n      <th></th>\n      <th></th>\n      <th></th>\n      <th></th>\n      <th></th>\n      <th></th>\n      <th></th>\n      <th></th>\n      <th></th>\n      <th></th>\n      <th></th>\n      <th></th>\n      <th></th>\n      <th></th>\n      <th></th>\n    </tr>\n  </thead>\n  <tbody>\n    <tr>\n      <th>id2875421</th>\n      <td>1</td>\n      <td>930.399753</td>\n      <td>0</td>\n      <td>1.500479</td>\n      <td>6.122493</td>\n      <td>0</td>\n      <td>0</td>\n      <td>0</td>\n      <td>0</td>\n      <td>0</td>\n      <td>...</td>\n      <td>0</td>\n      <td>0</td>\n      <td>0</td>\n      <td>0</td>\n      <td>0</td>\n      <td>0</td>\n      <td>1</td>\n      <td>0</td>\n      <td>0</td>\n      <td>0</td>\n    </tr>\n    <tr>\n      <th>id2377394</th>\n      <td>0</td>\n      <td>930.399753</td>\n      <td>0</td>\n      <td>1.807119</td>\n      <td>6.498282</td>\n      <td>0</td>\n      <td>0</td>\n      <td>0</td>\n      <td>0</td>\n      <td>0</td>\n      <td>...</td>\n      <td>0</td>\n      <td>0</td>\n      <td>0</td>\n      <td>0</td>\n      <td>0</td>\n      <td>0</td>\n      <td>0</td>\n      <td>0</td>\n      <td>0</td>\n      <td>1</td>\n    </tr>\n    <tr>\n      <th>id3858529</th>\n      <td>1</td>\n      <td>930.399753</td>\n      <td>0</td>\n      <td>6.392080</td>\n      <td>7.661527</td>\n      <td>0</td>\n      <td>1</td>\n      <td>1</td>\n      <td>0</td>\n      <td>0</td>\n      <td>...</td>\n      <td>0</td>\n      <td>0</td>\n      <td>0</td>\n      <td>0</td>\n      <td>0</td>\n      <td>0</td>\n      <td>0</td>\n      <td>0</td>\n      <td>0</td>\n      <td>0</td>\n    </tr>\n    <tr>\n      <th>id3504673</th>\n      <td>1</td>\n      <td>930.399753</td>\n      <td>0</td>\n      <td>1.487155</td>\n      <td>6.063785</td>\n      <td>0</td>\n      <td>0</td>\n      <td>0</td>\n      <td>1</td>\n      <td>0</td>\n      <td>...</td>\n      <td>1</td>\n      <td>0</td>\n      <td>0</td>\n      <td>0</td>\n      <td>0</td>\n      <td>0</td>\n      <td>0</td>\n      <td>1</td>\n      <td>0</td>\n      <td>0</td>\n    </tr>\n    <tr>\n      <th>id2181028</th>\n      <td>1</td>\n      <td>930.399753</td>\n      <td>0</td>\n      <td>1.189925</td>\n      <td>6.077642</td>\n      <td>0</td>\n      <td>0</td>\n      <td>0</td>\n      <td>0</td>\n      <td>0</td>\n      <td>...</td>\n      <td>0</td>\n      <td>0</td>\n      <td>0</td>\n      <td>0</td>\n      <td>0</td>\n      <td>0</td>\n      <td>1</td>\n      <td>0</td>\n      <td>0</td>\n      <td>0</td>\n    </tr>\n    <tr>\n      <th>...</th>\n      <td>...</td>\n      <td>...</td>\n      <td>...</td>\n      <td>...</td>\n      <td>...</td>\n      <td>...</td>\n      <td>...</td>\n      <td>...</td>\n      <td>...</td>\n      <td>...</td>\n      <td>...</td>\n      <td>...</td>\n      <td>...</td>\n      <td>...</td>\n      <td>...</td>\n      <td>...</td>\n      <td>...</td>\n      <td>...</td>\n      <td>...</td>\n      <td>...</td>\n      <td>...</td>\n    </tr>\n    <tr>\n      <th>id2376096</th>\n      <td>1</td>\n      <td>930.399753</td>\n      <td>0</td>\n      <td>1.226296</td>\n      <td>6.658011</td>\n      <td>0</td>\n      <td>0</td>\n      <td>0</td>\n      <td>0</td>\n      <td>0</td>\n      <td>...</td>\n      <td>0</td>\n      <td>0</td>\n      <td>0</td>\n      <td>0</td>\n      <td>0</td>\n      <td>0</td>\n      <td>0</td>\n      <td>1</td>\n      <td>0</td>\n      <td>0</td>\n    </tr>\n    <tr>\n      <th>id1049543</th>\n      <td>0</td>\n      <td>930.399753</td>\n      <td>0</td>\n      <td>6.056935</td>\n      <td>6.486161</td>\n      <td>0</td>\n      <td>0</td>\n      <td>0</td>\n      <td>0</td>\n      <td>0</td>\n      <td>...</td>\n      <td>0</td>\n      <td>0</td>\n      <td>0</td>\n      <td>0</td>\n      <td>0</td>\n      <td>0</td>\n      <td>0</td>\n      <td>0</td>\n      <td>0</td>\n      <td>0</td>\n    </tr>\n    <tr>\n      <th>id2304944</th>\n      <td>1</td>\n      <td>930.399753</td>\n      <td>0</td>\n      <td>7.832952</td>\n      <td>6.639876</td>\n      <td>0</td>\n      <td>0</td>\n      <td>0</td>\n      <td>0</td>\n      <td>0</td>\n      <td>...</td>\n      <td>0</td>\n      <td>0</td>\n      <td>0</td>\n      <td>0</td>\n      <td>0</td>\n      <td>0</td>\n      <td>0</td>\n      <td>1</td>\n      <td>0</td>\n      <td>0</td>\n    </tr>\n    <tr>\n      <th>id2714485</th>\n      <td>0</td>\n      <td>930.399753</td>\n      <td>0</td>\n      <td>1.093786</td>\n      <td>5.924256</td>\n      <td>0</td>\n      <td>0</td>\n      <td>1</td>\n      <td>0</td>\n      <td>0</td>\n      <td>...</td>\n      <td>0</td>\n      <td>0</td>\n      <td>0</td>\n      <td>0</td>\n      <td>0</td>\n      <td>0</td>\n      <td>0</td>\n      <td>0</td>\n      <td>0</td>\n      <td>0</td>\n    </tr>\n    <tr>\n      <th>id1209952</th>\n      <td>0</td>\n      <td>930.399753</td>\n      <td>0</td>\n      <td>1.135453</td>\n      <td>5.293305</td>\n      <td>0</td>\n      <td>0</td>\n      <td>1</td>\n      <td>0</td>\n      <td>0</td>\n      <td>...</td>\n      <td>0</td>\n      <td>0</td>\n      <td>0</td>\n      <td>0</td>\n      <td>0</td>\n      <td>0</td>\n      <td>0</td>\n      <td>1</td>\n      <td>0</td>\n      <td>0</td>\n    </tr>\n  </tbody>\n</table>\n<p>1444013 rows × 41 columns</p>\n</div>"
     },
     "execution_count": 26,
     "metadata": {},
     "output_type": "execute_result"
    }
   ],
   "source": [
    "data"
   ],
   "metadata": {
    "collapsed": false,
    "ExecuteTime": {
     "end_time": "2024-01-29T15:00:28.344001100Z",
     "start_time": "2024-01-29T15:00:27.823366800Z"
    }
   },
   "id": "2f47841923840bc9"
  },
  {
   "cell_type": "code",
   "execution_count": 27,
   "outputs": [
    {
     "name": "stdout",
     "output_type": "stream",
     "text": [
      "[0.31571528 0.32221093 0.3137576  0.44668984]\n",
      "MSLE на Кросс-валидации: 0.35\n"
     ]
    }
   ],
   "source": [
    "\n",
    "x = data.drop('log_trip_duration', axis=1)\n",
    "y = data['log_trip_duration']\n",
    "\n",
    "model = LinearRegression()\n",
    "\n",
    "cross_val_errors = -cross_val_score(model, x, y, cv=selector, scoring='neg_mean_squared_error')\n",
    "print(cross_val_errors)\n",
    "\n",
    "cross_val_error = np.mean(cross_val_errors)\n",
    "\n",
    "print(f\"MSLE на Кросс-валидации: {round(cross_val_error, 3)}\")"
   ],
   "metadata": {
    "collapsed": false,
    "ExecuteTime": {
     "end_time": "2024-01-29T15:00:38.388901700Z",
     "start_time": "2024-01-29T15:00:28.345998900Z"
    }
   },
   "id": "794189f967439c5"
  },
  {
   "cell_type": "code",
   "execution_count": 1,
   "outputs": [],
   "source": [],
   "metadata": {
    "collapsed": false,
    "ExecuteTime": {
     "end_time": "2024-02-01T22:16:28.389884300Z",
     "start_time": "2024-02-01T22:16:28.385369300Z"
    }
   },
   "id": "d8d76f34db951503"
  },
  {
   "cell_type": "code",
   "execution_count": 1,
   "outputs": [
    {
     "name": "stdout",
     "output_type": "stream",
     "text": [
      "Категориальные метки: ['красный', 'зеленый', 'синий', 'красный', 'зеленый']\n",
      "Числовые метки: [1 0 2 1 0]\n"
     ]
    }
   ],
   "source": [
    "from sklearn.preprocessing import LabelEncoder\n",
    "\n",
    "# Создание экземпляра LabelEncoder\n",
    "label_encoder = LabelEncoder()\n",
    "\n",
    "# Пример категориальных данных\n",
    "categories = ['красный', 'зеленый', 'синий', 'красный', 'зеленый']\n",
    "\n",
    "# Преобразование категориальных меток в числовые значения\n",
    "numeric_labels = label_encoder.fit_transform(categories)\n",
    "\n",
    "print(\"Категориальные метки:\", categories)\n",
    "print(\"Числовые метки:\", numeric_labels)\n"
   ],
   "metadata": {
    "collapsed": false,
    "ExecuteTime": {
     "end_time": "2024-02-01T22:16:28.384354Z",
     "start_time": "2024-02-01T22:16:28.146142Z"
    }
   },
   "id": "b02bde7951bff70a"
  },
  {
   "cell_type": "code",
   "execution_count": null,
   "outputs": [],
   "source": [],
   "metadata": {
    "collapsed": false
   },
   "id": "73ab092c7c1c6ce9"
  }
 ],
 "metadata": {
  "kernelspec": {
   "display_name": "Python 3",
   "language": "python",
   "name": "python3"
  },
  "language_info": {
   "codemirror_mode": {
    "name": "ipython",
    "version": 3
   },
   "file_extension": ".py",
   "mimetype": "text/x-python",
   "name": "python",
   "nbconvert_exporter": "python",
   "pygments_lexer": "ipython3",
   "version": "3.7.3"
  }
 },
 "nbformat": 4,
 "nbformat_minor": 5
}
