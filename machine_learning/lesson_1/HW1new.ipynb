{
 "cells": [
  {
   "cell_type": "code",
   "execution_count": 1,
   "metadata": {
    "ExecuteTime": {
     "end_time": "2024-04-17T14:44:36.323490500Z",
     "start_time": "2024-04-17T14:44:36.104054800Z"
    }
   },
   "outputs": [
    {
     "ename": "ImportError",
     "evalue": "Unable to import required dependencies:\nnumpy: No module named 'numpy'",
     "output_type": "error",
     "traceback": [
      "\u001B[1;31m---------------------------------------------------------------------------\u001B[0m",
      "\u001B[1;31mImportError\u001B[0m                               Traceback (most recent call last)",
      "Cell \u001B[1;32mIn[1], line 1\u001B[0m\n\u001B[1;32m----> 1\u001B[0m \u001B[38;5;28;01mimport\u001B[39;00m \u001B[38;5;21;01mpandas\u001B[39;00m \u001B[38;5;28;01mas\u001B[39;00m \u001B[38;5;21;01mpd\u001B[39;00m\n\u001B[0;32m      2\u001B[0m \u001B[38;5;28;01mimport\u001B[39;00m \u001B[38;5;21;01mnumpy\u001B[39;00m \u001B[38;5;28;01mas\u001B[39;00m \u001B[38;5;21;01mnp\u001B[39;00m\n\u001B[0;32m      3\u001B[0m \u001B[38;5;28;01mimport\u001B[39;00m \u001B[38;5;21;01mmatplotlib\u001B[39;00m\u001B[38;5;21;01m.\u001B[39;00m\u001B[38;5;21;01mpyplot\u001B[39;00m \u001B[38;5;28;01mas\u001B[39;00m \u001B[38;5;21;01mplt\u001B[39;00m\n",
      "File \u001B[1;32m~\\AppData\\Roaming\\Python\\Python311\\site-packages\\pandas\\__init__.py:29\u001B[0m\n\u001B[0;32m     26\u001B[0m         _missing_dependencies\u001B[38;5;241m.\u001B[39mappend(\u001B[38;5;124mf\u001B[39m\u001B[38;5;124m\"\u001B[39m\u001B[38;5;132;01m{\u001B[39;00m_dependency\u001B[38;5;132;01m}\u001B[39;00m\u001B[38;5;124m: \u001B[39m\u001B[38;5;132;01m{\u001B[39;00m_e\u001B[38;5;132;01m}\u001B[39;00m\u001B[38;5;124m\"\u001B[39m)\n\u001B[0;32m     28\u001B[0m \u001B[38;5;28;01mif\u001B[39;00m _missing_dependencies:  \u001B[38;5;66;03m# pragma: no cover\u001B[39;00m\n\u001B[1;32m---> 29\u001B[0m     \u001B[38;5;28;01mraise\u001B[39;00m \u001B[38;5;167;01mImportError\u001B[39;00m(\n\u001B[0;32m     30\u001B[0m         \u001B[38;5;124m\"\u001B[39m\u001B[38;5;124mUnable to import required dependencies:\u001B[39m\u001B[38;5;130;01m\\n\u001B[39;00m\u001B[38;5;124m\"\u001B[39m \u001B[38;5;241m+\u001B[39m \u001B[38;5;124m\"\u001B[39m\u001B[38;5;130;01m\\n\u001B[39;00m\u001B[38;5;124m\"\u001B[39m\u001B[38;5;241m.\u001B[39mjoin(_missing_dependencies)\n\u001B[0;32m     31\u001B[0m     )\n\u001B[0;32m     32\u001B[0m \u001B[38;5;28;01mdel\u001B[39;00m _hard_dependencies, _dependency, _missing_dependencies\n\u001B[0;32m     34\u001B[0m \u001B[38;5;28;01mtry\u001B[39;00m:\n\u001B[0;32m     35\u001B[0m     \u001B[38;5;66;03m# numpy compat\u001B[39;00m\n",
      "\u001B[1;31mImportError\u001B[0m: Unable to import required dependencies:\nnumpy: No module named 'numpy'"
     ]
    }
   ],
   "source": [
    "import pandas as pd\n",
    "import numpy as np\n",
    "import matplotlib.pyplot as plt\n",
    "\n",
    "taxiDB = pd.read_csv('taxi_dataset.csv')\n"
   ],
   "id": "c5a304e9f819873b"
  },
  {
   "cell_type": "code",
   "execution_count": 13,
   "metadata": {
    "ExecuteTime": {
     "end_time": "2024-01-10T17:02:47.849545200Z",
     "start_time": "2024-01-10T17:02:47.846033100Z"
    }
   },
   "outputs": [
    {
     "data": {
      "text/plain": "          id  vendor_id     pickup_datetime    dropoff_datetime  \\\n0  id2875421          2 2016-03-14 17:24:55 2016-03-14 17:32:30   \n1  id2377394          1 2016-06-12 00:43:35 2016-06-12 00:54:38   \n2  id3858529          2 2016-01-19 11:35:24 2016-01-19 12:10:48   \n3  id3504673          2 2016-04-06 19:32:31 2016-04-06 19:39:40   \n4  id2181028          2 2016-03-26 13:30:55 2016-03-26 13:38:10   \n\n   passenger_count  pickup_longitude  pickup_latitude  dropoff_longitude  \\\n0                1        -73.982155        40.767937         -73.964630   \n1                1        -73.980415        40.738564         -73.999481   \n2                1        -73.979027        40.763939         -74.005333   \n3                1        -74.010040        40.719971         -74.012268   \n4                1        -73.973053        40.793209         -73.972923   \n\n   dropoff_latitude store_and_fwd_flag  trip_duration  \n0         40.765602                  N          455.0  \n1         40.731152                  N          663.0  \n2         40.710087                  N         2124.0  \n3         40.706718                  N          429.0  \n4         40.782520                  N          435.0  ",
      "text/html": "<div>\n<style scoped>\n    .dataframe tbody tr th:only-of-type {\n        vertical-align: middle;\n    }\n\n    .dataframe tbody tr th {\n        vertical-align: top;\n    }\n\n    .dataframe thead th {\n        text-align: right;\n    }\n</style>\n<table border=\"1\" class=\"dataframe\">\n  <thead>\n    <tr style=\"text-align: right;\">\n      <th></th>\n      <th>id</th>\n      <th>vendor_id</th>\n      <th>pickup_datetime</th>\n      <th>dropoff_datetime</th>\n      <th>passenger_count</th>\n      <th>pickup_longitude</th>\n      <th>pickup_latitude</th>\n      <th>dropoff_longitude</th>\n      <th>dropoff_latitude</th>\n      <th>store_and_fwd_flag</th>\n      <th>trip_duration</th>\n    </tr>\n  </thead>\n  <tbody>\n    <tr>\n      <th>0</th>\n      <td>id2875421</td>\n      <td>2</td>\n      <td>2016-03-14 17:24:55</td>\n      <td>2016-03-14 17:32:30</td>\n      <td>1</td>\n      <td>-73.982155</td>\n      <td>40.767937</td>\n      <td>-73.964630</td>\n      <td>40.765602</td>\n      <td>N</td>\n      <td>455.0</td>\n    </tr>\n    <tr>\n      <th>1</th>\n      <td>id2377394</td>\n      <td>1</td>\n      <td>2016-06-12 00:43:35</td>\n      <td>2016-06-12 00:54:38</td>\n      <td>1</td>\n      <td>-73.980415</td>\n      <td>40.738564</td>\n      <td>-73.999481</td>\n      <td>40.731152</td>\n      <td>N</td>\n      <td>663.0</td>\n    </tr>\n    <tr>\n      <th>2</th>\n      <td>id3858529</td>\n      <td>2</td>\n      <td>2016-01-19 11:35:24</td>\n      <td>2016-01-19 12:10:48</td>\n      <td>1</td>\n      <td>-73.979027</td>\n      <td>40.763939</td>\n      <td>-74.005333</td>\n      <td>40.710087</td>\n      <td>N</td>\n      <td>2124.0</td>\n    </tr>\n    <tr>\n      <th>3</th>\n      <td>id3504673</td>\n      <td>2</td>\n      <td>2016-04-06 19:32:31</td>\n      <td>2016-04-06 19:39:40</td>\n      <td>1</td>\n      <td>-74.010040</td>\n      <td>40.719971</td>\n      <td>-74.012268</td>\n      <td>40.706718</td>\n      <td>N</td>\n      <td>429.0</td>\n    </tr>\n    <tr>\n      <th>4</th>\n      <td>id2181028</td>\n      <td>2</td>\n      <td>2016-03-26 13:30:55</td>\n      <td>2016-03-26 13:38:10</td>\n      <td>1</td>\n      <td>-73.973053</td>\n      <td>40.793209</td>\n      <td>-73.972923</td>\n      <td>40.782520</td>\n      <td>N</td>\n      <td>435.0</td>\n    </tr>\n  </tbody>\n</table>\n</div>"
     },
     "execution_count": 13,
     "metadata": {},
     "output_type": "execute_result"
    }
   ],
   "source": [
    "taxiDB.head(5)"
   ],
   "id": "4e01feecbd5c53c7"
  },
  {
   "cell_type": "markdown",
   "metadata": {},
   "source": [
    "<dl>\n",
    "<dt> Описание колонок:\n",
    "<dd>id - ID поездки </dd>\n",
    "<dd>vendor_id - ID компании, осуществляющей перевозку </dd>\n",
    "<dd>pickup_datetime - Таймкод начала поездки</dd>\n",
    "<dd>dropoff_datetime - Таймкод конца поездки </dd>\n",
    "<dd>passenger_count - Количество пассажиров </dd>\n",
    "<dd>pickup_longitude - Долгота точки, в которой началась поездка </dd>\n",
    "<dd>pickup_latitude - Широта точки, в которой началась поездка </dd>\n",
    "<dd>dropoff_longitude - Долгота точки, в которой закончилась поездка </dd>\n",
    "<dd>dropoff_latitude - Широта точки, в которой закончилась поездка </dd>\n",
    "<dd>store_and_fwd_flag - Yes/No: Была ли информация сохранена в памяти транспортного средства из-за потери соединения с сервером </dd>\n",
    "</dl>\n",
    "\n",
    "**Наша целевая переменная - длительность поездки.**\n",
    "\n",
    "Зная тайм-коды времени начала и конца поездок, можем вычислить обозначенный таргет\n",
    "Договоримся, что производим вычисления в секундах.\n",
    "Советуем обратить внимание на  <a href=\"https://pandas.pydata.org/docs/reference/api/pandas.to_datetime.html\">данный способ</a> для перевода строки в datetime тип, с которым удобно работать при вычленении дней/часов...\n",
    "\n",
    "И <a href=\"https://pandas.pydata.org/docs/reference/api/pandas.Series.dt.total_seconds.html\"> этот </a>для перевода разницы datetime объектов в секунды\n",
    "\n",
    "Положите таргетную переменнул в столбик с названием **trip_duration**"
   ],
   "id": "94db139fd352b250"
  },
  {
   "cell_type": "code",
   "execution_count": 5,
   "outputs": [],
   "source": [
    "taxiDB['pickup_datetime'] = pd.to_datetime(taxiDB['pickup_datetime'])"
   ],
   "metadata": {
    "collapsed": false,
    "ExecuteTime": {
     "end_time": "2024-01-10T16:58:35.089585Z",
     "start_time": "2024-01-10T16:58:35.058083400Z"
    }
   },
   "id": "62d5124a916eb4ce"
  },
  {
   "cell_type": "code",
   "execution_count": 7,
   "outputs": [],
   "source": [
    "taxiDB['dropoff_datetime'] = pd.to_datetime(taxiDB['dropoff_datetime'])"
   ],
   "metadata": {
    "collapsed": false,
    "ExecuteTime": {
     "end_time": "2024-01-10T16:59:14.903072700Z",
     "start_time": "2024-01-10T16:59:14.894173500Z"
    }
   },
   "id": "50bcf30833d79aaa"
  },
  {
   "cell_type": "code",
   "execution_count": 6,
   "outputs": [
    {
     "data": {
      "text/plain": "dtype('<M8[ns]')"
     },
     "execution_count": 6,
     "metadata": {},
     "output_type": "execute_result"
    }
   ],
   "source": [
    "taxiDB['pickup_datetime'].dtype"
   ],
   "metadata": {
    "collapsed": false,
    "ExecuteTime": {
     "end_time": "2024-01-10T16:58:36.458094500Z",
     "start_time": "2024-01-10T16:58:36.455575800Z"
    }
   },
   "id": "3ca8abb9b77ee710"
  },
  {
   "cell_type": "code",
   "execution_count": 12,
   "metadata": {
    "ExecuteTime": {
     "end_time": "2024-01-10T17:02:41.733524500Z",
     "start_time": "2024-01-10T17:02:41.686287300Z"
    }
   },
   "outputs": [],
   "source": [
    "### Your code is here\n",
    "taxiDB['trip_duration'] = (taxiDB['dropoff_datetime'] - taxiDB['pickup_datetime']).dt.total_seconds()"
   ],
   "id": "cf6a1db0d63fb35e"
  },
  {
   "cell_type": "markdown",
   "metadata": {},
   "source": [
    "Предсказывая таргет для новых объектов в будущем, мы не будем заранее знать **dropoff_datetime**.\n",
    "\n",
    "Удалим колонку из датасета."
   ],
   "id": "f91e5cc8096cb0bd"
  },
  {
   "cell_type": "code",
   "execution_count": 14,
   "metadata": {
    "ExecuteTime": {
     "end_time": "2024-01-10T17:04:36.011553800Z",
     "start_time": "2024-01-10T17:04:35.916126400Z"
    }
   },
   "outputs": [],
   "source": [
    "### Your code is here\n",
    "taxiDB = taxiDB.drop('dropoff_datetime', axis=1)"
   ],
   "id": "5166bd1c9f295dac"
  },
  {
   "cell_type": "code",
   "execution_count": 15,
   "outputs": [
    {
     "data": {
      "text/plain": "          id  vendor_id     pickup_datetime  passenger_count  \\\n0  id2875421          2 2016-03-14 17:24:55                1   \n1  id2377394          1 2016-06-12 00:43:35                1   \n2  id3858529          2 2016-01-19 11:35:24                1   \n3  id3504673          2 2016-04-06 19:32:31                1   \n4  id2181028          2 2016-03-26 13:30:55                1   \n\n   pickup_longitude  pickup_latitude  dropoff_longitude  dropoff_latitude  \\\n0        -73.982155        40.767937         -73.964630         40.765602   \n1        -73.980415        40.738564         -73.999481         40.731152   \n2        -73.979027        40.763939         -74.005333         40.710087   \n3        -74.010040        40.719971         -74.012268         40.706718   \n4        -73.973053        40.793209         -73.972923         40.782520   \n\n  store_and_fwd_flag  trip_duration  \n0                  N          455.0  \n1                  N          663.0  \n2                  N         2124.0  \n3                  N          429.0  \n4                  N          435.0  ",
      "text/html": "<div>\n<style scoped>\n    .dataframe tbody tr th:only-of-type {\n        vertical-align: middle;\n    }\n\n    .dataframe tbody tr th {\n        vertical-align: top;\n    }\n\n    .dataframe thead th {\n        text-align: right;\n    }\n</style>\n<table border=\"1\" class=\"dataframe\">\n  <thead>\n    <tr style=\"text-align: right;\">\n      <th></th>\n      <th>id</th>\n      <th>vendor_id</th>\n      <th>pickup_datetime</th>\n      <th>passenger_count</th>\n      <th>pickup_longitude</th>\n      <th>pickup_latitude</th>\n      <th>dropoff_longitude</th>\n      <th>dropoff_latitude</th>\n      <th>store_and_fwd_flag</th>\n      <th>trip_duration</th>\n    </tr>\n  </thead>\n  <tbody>\n    <tr>\n      <th>0</th>\n      <td>id2875421</td>\n      <td>2</td>\n      <td>2016-03-14 17:24:55</td>\n      <td>1</td>\n      <td>-73.982155</td>\n      <td>40.767937</td>\n      <td>-73.964630</td>\n      <td>40.765602</td>\n      <td>N</td>\n      <td>455.0</td>\n    </tr>\n    <tr>\n      <th>1</th>\n      <td>id2377394</td>\n      <td>1</td>\n      <td>2016-06-12 00:43:35</td>\n      <td>1</td>\n      <td>-73.980415</td>\n      <td>40.738564</td>\n      <td>-73.999481</td>\n      <td>40.731152</td>\n      <td>N</td>\n      <td>663.0</td>\n    </tr>\n    <tr>\n      <th>2</th>\n      <td>id3858529</td>\n      <td>2</td>\n      <td>2016-01-19 11:35:24</td>\n      <td>1</td>\n      <td>-73.979027</td>\n      <td>40.763939</td>\n      <td>-74.005333</td>\n      <td>40.710087</td>\n      <td>N</td>\n      <td>2124.0</td>\n    </tr>\n    <tr>\n      <th>3</th>\n      <td>id3504673</td>\n      <td>2</td>\n      <td>2016-04-06 19:32:31</td>\n      <td>1</td>\n      <td>-74.010040</td>\n      <td>40.719971</td>\n      <td>-74.012268</td>\n      <td>40.706718</td>\n      <td>N</td>\n      <td>429.0</td>\n    </tr>\n    <tr>\n      <th>4</th>\n      <td>id2181028</td>\n      <td>2</td>\n      <td>2016-03-26 13:30:55</td>\n      <td>1</td>\n      <td>-73.973053</td>\n      <td>40.793209</td>\n      <td>-73.972923</td>\n      <td>40.782520</td>\n      <td>N</td>\n      <td>435.0</td>\n    </tr>\n  </tbody>\n</table>\n</div>"
     },
     "execution_count": 15,
     "metadata": {},
     "output_type": "execute_result"
    }
   ],
   "source": [
    "taxiDB.head(5)"
   ],
   "metadata": {
    "collapsed": false,
    "ExecuteTime": {
     "end_time": "2024-01-10T17:04:52.771755100Z",
     "start_time": "2024-01-10T17:04:52.760231700Z"
    }
   },
   "id": "1285ae4cda3375fb"
  },
  {
   "cell_type": "markdown",
   "metadata": {},
   "source": [
    "\n",
    "**В будущем будем строить модель. На каких признаках? Рассмотрим имеющиеся вещественные/бинарные и обсудим, какие простейшие признаки можно вытащить из остальных колонок.**\n",
    "\n",
    "Во-первых, имеем бинарный признак vendor_id, принимающий значения {1, 2}. Переведем его во множество {0, 1}, так как это просто привычнее."
   ],
   "id": "77267fe2ab01aa99"
  },
  {
   "cell_type": "code",
   "execution_count": 16,
   "metadata": {
    "ExecuteTime": {
     "end_time": "2024-01-10T17:05:21.798445500Z",
     "start_time": "2024-01-10T17:05:21.781235900Z"
    }
   },
   "outputs": [
    {
     "data": {
      "text/plain": "          id  vendor_id     pickup_datetime  passenger_count  \\\n0  id2875421          1 2016-03-14 17:24:55                1   \n1  id2377394          0 2016-06-12 00:43:35                1   \n2  id3858529          1 2016-01-19 11:35:24                1   \n3  id3504673          1 2016-04-06 19:32:31                1   \n4  id2181028          1 2016-03-26 13:30:55                1   \n\n   pickup_longitude  pickup_latitude  dropoff_longitude  dropoff_latitude  \\\n0        -73.982155        40.767937         -73.964630         40.765602   \n1        -73.980415        40.738564         -73.999481         40.731152   \n2        -73.979027        40.763939         -74.005333         40.710087   \n3        -74.010040        40.719971         -74.012268         40.706718   \n4        -73.973053        40.793209         -73.972923         40.782520   \n\n  store_and_fwd_flag  trip_duration  \n0                  N          455.0  \n1                  N          663.0  \n2                  N         2124.0  \n3                  N          429.0  \n4                  N          435.0  ",
      "text/html": "<div>\n<style scoped>\n    .dataframe tbody tr th:only-of-type {\n        vertical-align: middle;\n    }\n\n    .dataframe tbody tr th {\n        vertical-align: top;\n    }\n\n    .dataframe thead th {\n        text-align: right;\n    }\n</style>\n<table border=\"1\" class=\"dataframe\">\n  <thead>\n    <tr style=\"text-align: right;\">\n      <th></th>\n      <th>id</th>\n      <th>vendor_id</th>\n      <th>pickup_datetime</th>\n      <th>passenger_count</th>\n      <th>pickup_longitude</th>\n      <th>pickup_latitude</th>\n      <th>dropoff_longitude</th>\n      <th>dropoff_latitude</th>\n      <th>store_and_fwd_flag</th>\n      <th>trip_duration</th>\n    </tr>\n  </thead>\n  <tbody>\n    <tr>\n      <th>0</th>\n      <td>id2875421</td>\n      <td>1</td>\n      <td>2016-03-14 17:24:55</td>\n      <td>1</td>\n      <td>-73.982155</td>\n      <td>40.767937</td>\n      <td>-73.964630</td>\n      <td>40.765602</td>\n      <td>N</td>\n      <td>455.0</td>\n    </tr>\n    <tr>\n      <th>1</th>\n      <td>id2377394</td>\n      <td>0</td>\n      <td>2016-06-12 00:43:35</td>\n      <td>1</td>\n      <td>-73.980415</td>\n      <td>40.738564</td>\n      <td>-73.999481</td>\n      <td>40.731152</td>\n      <td>N</td>\n      <td>663.0</td>\n    </tr>\n    <tr>\n      <th>2</th>\n      <td>id3858529</td>\n      <td>1</td>\n      <td>2016-01-19 11:35:24</td>\n      <td>1</td>\n      <td>-73.979027</td>\n      <td>40.763939</td>\n      <td>-74.005333</td>\n      <td>40.710087</td>\n      <td>N</td>\n      <td>2124.0</td>\n    </tr>\n    <tr>\n      <th>3</th>\n      <td>id3504673</td>\n      <td>1</td>\n      <td>2016-04-06 19:32:31</td>\n      <td>1</td>\n      <td>-74.010040</td>\n      <td>40.719971</td>\n      <td>-74.012268</td>\n      <td>40.706718</td>\n      <td>N</td>\n      <td>429.0</td>\n    </tr>\n    <tr>\n      <th>4</th>\n      <td>id2181028</td>\n      <td>1</td>\n      <td>2016-03-26 13:30:55</td>\n      <td>1</td>\n      <td>-73.973053</td>\n      <td>40.793209</td>\n      <td>-73.972923</td>\n      <td>40.782520</td>\n      <td>N</td>\n      <td>435.0</td>\n    </tr>\n  </tbody>\n</table>\n</div>"
     },
     "execution_count": 16,
     "metadata": {},
     "output_type": "execute_result"
    }
   ],
   "source": [
    "taxiDB['vendor_id'] = taxiDB['vendor_id'] - 1\n",
    "taxiDB.head(10)"
   ],
   "id": "66b976bf6c002a46"
  },
  {
   "cell_type": "code",
   "execution_count": 17,
   "outputs": [
    {
     "data": {
      "text/plain": "          id  vendor_id     pickup_datetime  passenger_count  \\\n0  id2875421          1 2016-03-14 17:24:55                1   \n1  id2377394          0 2016-06-12 00:43:35                1   \n2  id3858529          1 2016-01-19 11:35:24                1   \n3  id3504673          1 2016-04-06 19:32:31                1   \n4  id2181028          1 2016-03-26 13:30:55                1   \n5  id0801584          1 2016-01-30 22:01:40                6   \n6  id1813257          0 2016-06-17 22:34:59                4   \n7  id1324603          1 2016-05-21 07:54:58                1   \n8  id1301050          0 2016-05-27 23:12:23                1   \n9  id0012891          1 2016-03-10 21:45:01                1   \n\n   pickup_longitude  pickup_latitude  dropoff_longitude  dropoff_latitude  \\\n0        -73.982155        40.767937         -73.964630         40.765602   \n1        -73.980415        40.738564         -73.999481         40.731152   \n2        -73.979027        40.763939         -74.005333         40.710087   \n3        -74.010040        40.719971         -74.012268         40.706718   \n4        -73.973053        40.793209         -73.972923         40.782520   \n5        -73.982857        40.742195         -73.992081         40.749184   \n6        -73.969017        40.757839         -73.957405         40.765896   \n7        -73.969276        40.797779         -73.922470         40.760559   \n8        -73.999481        40.738400         -73.985786         40.732815   \n9        -73.981049        40.744339         -73.973000         40.789989   \n\n  store_and_fwd_flag  trip_duration  \n0                  N          455.0  \n1                  N          663.0  \n2                  N         2124.0  \n3                  N          429.0  \n4                  N          435.0  \n5                  N          443.0  \n6                  N          341.0  \n7                  N         1551.0  \n8                  N          255.0  \n9                  N         1225.0  ",
      "text/html": "<div>\n<style scoped>\n    .dataframe tbody tr th:only-of-type {\n        vertical-align: middle;\n    }\n\n    .dataframe tbody tr th {\n        vertical-align: top;\n    }\n\n    .dataframe thead th {\n        text-align: right;\n    }\n</style>\n<table border=\"1\" class=\"dataframe\">\n  <thead>\n    <tr style=\"text-align: right;\">\n      <th></th>\n      <th>id</th>\n      <th>vendor_id</th>\n      <th>pickup_datetime</th>\n      <th>passenger_count</th>\n      <th>pickup_longitude</th>\n      <th>pickup_latitude</th>\n      <th>dropoff_longitude</th>\n      <th>dropoff_latitude</th>\n      <th>store_and_fwd_flag</th>\n      <th>trip_duration</th>\n    </tr>\n  </thead>\n  <tbody>\n    <tr>\n      <th>0</th>\n      <td>id2875421</td>\n      <td>1</td>\n      <td>2016-03-14 17:24:55</td>\n      <td>1</td>\n      <td>-73.982155</td>\n      <td>40.767937</td>\n      <td>-73.964630</td>\n      <td>40.765602</td>\n      <td>N</td>\n      <td>455.0</td>\n    </tr>\n    <tr>\n      <th>1</th>\n      <td>id2377394</td>\n      <td>0</td>\n      <td>2016-06-12 00:43:35</td>\n      <td>1</td>\n      <td>-73.980415</td>\n      <td>40.738564</td>\n      <td>-73.999481</td>\n      <td>40.731152</td>\n      <td>N</td>\n      <td>663.0</td>\n    </tr>\n    <tr>\n      <th>2</th>\n      <td>id3858529</td>\n      <td>1</td>\n      <td>2016-01-19 11:35:24</td>\n      <td>1</td>\n      <td>-73.979027</td>\n      <td>40.763939</td>\n      <td>-74.005333</td>\n      <td>40.710087</td>\n      <td>N</td>\n      <td>2124.0</td>\n    </tr>\n    <tr>\n      <th>3</th>\n      <td>id3504673</td>\n      <td>1</td>\n      <td>2016-04-06 19:32:31</td>\n      <td>1</td>\n      <td>-74.010040</td>\n      <td>40.719971</td>\n      <td>-74.012268</td>\n      <td>40.706718</td>\n      <td>N</td>\n      <td>429.0</td>\n    </tr>\n    <tr>\n      <th>4</th>\n      <td>id2181028</td>\n      <td>1</td>\n      <td>2016-03-26 13:30:55</td>\n      <td>1</td>\n      <td>-73.973053</td>\n      <td>40.793209</td>\n      <td>-73.972923</td>\n      <td>40.782520</td>\n      <td>N</td>\n      <td>435.0</td>\n    </tr>\n    <tr>\n      <th>5</th>\n      <td>id0801584</td>\n      <td>1</td>\n      <td>2016-01-30 22:01:40</td>\n      <td>6</td>\n      <td>-73.982857</td>\n      <td>40.742195</td>\n      <td>-73.992081</td>\n      <td>40.749184</td>\n      <td>N</td>\n      <td>443.0</td>\n    </tr>\n    <tr>\n      <th>6</th>\n      <td>id1813257</td>\n      <td>0</td>\n      <td>2016-06-17 22:34:59</td>\n      <td>4</td>\n      <td>-73.969017</td>\n      <td>40.757839</td>\n      <td>-73.957405</td>\n      <td>40.765896</td>\n      <td>N</td>\n      <td>341.0</td>\n    </tr>\n    <tr>\n      <th>7</th>\n      <td>id1324603</td>\n      <td>1</td>\n      <td>2016-05-21 07:54:58</td>\n      <td>1</td>\n      <td>-73.969276</td>\n      <td>40.797779</td>\n      <td>-73.922470</td>\n      <td>40.760559</td>\n      <td>N</td>\n      <td>1551.0</td>\n    </tr>\n    <tr>\n      <th>8</th>\n      <td>id1301050</td>\n      <td>0</td>\n      <td>2016-05-27 23:12:23</td>\n      <td>1</td>\n      <td>-73.999481</td>\n      <td>40.738400</td>\n      <td>-73.985786</td>\n      <td>40.732815</td>\n      <td>N</td>\n      <td>255.0</td>\n    </tr>\n    <tr>\n      <th>9</th>\n      <td>id0012891</td>\n      <td>1</td>\n      <td>2016-03-10 21:45:01</td>\n      <td>1</td>\n      <td>-73.981049</td>\n      <td>40.744339</td>\n      <td>-73.973000</td>\n      <td>40.789989</td>\n      <td>N</td>\n      <td>1225.0</td>\n    </tr>\n  </tbody>\n</table>\n</div>"
     },
     "execution_count": 17,
     "metadata": {},
     "output_type": "execute_result"
    }
   ],
   "source": [
    "taxiDB.head(10)"
   ],
   "metadata": {
    "collapsed": false,
    "ExecuteTime": {
     "end_time": "2024-01-10T17:06:08.042639100Z",
     "start_time": "2024-01-10T17:06:08.021119700Z"
    }
   },
   "id": "fa2cc949757243da"
  },
  {
   "cell_type": "markdown",
   "metadata": {},
   "source": [
    "Найдите еще один бинарный признак в данном датасете. Закодируйте и его тоже во множество {0, 1}."
   ],
   "id": "da4c2742719d8122"
  },
  {
   "cell_type": "code",
   "execution_count": 18,
   "metadata": {
    "ExecuteTime": {
     "end_time": "2024-01-10T17:10:31.842489Z",
     "start_time": "2024-01-10T17:10:31.550558900Z"
    }
   },
   "outputs": [],
   "source": [
    "### Your code is here\n",
    "taxiDB['store_and_fwd_flag'] = taxiDB['store_and_fwd_flag'].replace('Y', 1)\n",
    "taxiDB['store_and_fwd_flag'] = taxiDB['store_and_fwd_flag'].replace('N', 0)"
   ],
   "id": "3a79f4395535e867"
  },
  {
   "cell_type": "code",
   "execution_count": 19,
   "outputs": [
    {
     "data": {
      "text/plain": "          id  vendor_id     pickup_datetime  passenger_count  \\\n0  id2875421          1 2016-03-14 17:24:55                1   \n1  id2377394          0 2016-06-12 00:43:35                1   \n2  id3858529          1 2016-01-19 11:35:24                1   \n3  id3504673          1 2016-04-06 19:32:31                1   \n4  id2181028          1 2016-03-26 13:30:55                1   \n5  id0801584          1 2016-01-30 22:01:40                6   \n6  id1813257          0 2016-06-17 22:34:59                4   \n7  id1324603          1 2016-05-21 07:54:58                1   \n8  id1301050          0 2016-05-27 23:12:23                1   \n9  id0012891          1 2016-03-10 21:45:01                1   \n\n   pickup_longitude  pickup_latitude  dropoff_longitude  dropoff_latitude  \\\n0        -73.982155        40.767937         -73.964630         40.765602   \n1        -73.980415        40.738564         -73.999481         40.731152   \n2        -73.979027        40.763939         -74.005333         40.710087   \n3        -74.010040        40.719971         -74.012268         40.706718   \n4        -73.973053        40.793209         -73.972923         40.782520   \n5        -73.982857        40.742195         -73.992081         40.749184   \n6        -73.969017        40.757839         -73.957405         40.765896   \n7        -73.969276        40.797779         -73.922470         40.760559   \n8        -73.999481        40.738400         -73.985786         40.732815   \n9        -73.981049        40.744339         -73.973000         40.789989   \n\n   store_and_fwd_flag  trip_duration  \n0                   0          455.0  \n1                   0          663.0  \n2                   0         2124.0  \n3                   0          429.0  \n4                   0          435.0  \n5                   0          443.0  \n6                   0          341.0  \n7                   0         1551.0  \n8                   0          255.0  \n9                   0         1225.0  ",
      "text/html": "<div>\n<style scoped>\n    .dataframe tbody tr th:only-of-type {\n        vertical-align: middle;\n    }\n\n    .dataframe tbody tr th {\n        vertical-align: top;\n    }\n\n    .dataframe thead th {\n        text-align: right;\n    }\n</style>\n<table border=\"1\" class=\"dataframe\">\n  <thead>\n    <tr style=\"text-align: right;\">\n      <th></th>\n      <th>id</th>\n      <th>vendor_id</th>\n      <th>pickup_datetime</th>\n      <th>passenger_count</th>\n      <th>pickup_longitude</th>\n      <th>pickup_latitude</th>\n      <th>dropoff_longitude</th>\n      <th>dropoff_latitude</th>\n      <th>store_and_fwd_flag</th>\n      <th>trip_duration</th>\n    </tr>\n  </thead>\n  <tbody>\n    <tr>\n      <th>0</th>\n      <td>id2875421</td>\n      <td>1</td>\n      <td>2016-03-14 17:24:55</td>\n      <td>1</td>\n      <td>-73.982155</td>\n      <td>40.767937</td>\n      <td>-73.964630</td>\n      <td>40.765602</td>\n      <td>0</td>\n      <td>455.0</td>\n    </tr>\n    <tr>\n      <th>1</th>\n      <td>id2377394</td>\n      <td>0</td>\n      <td>2016-06-12 00:43:35</td>\n      <td>1</td>\n      <td>-73.980415</td>\n      <td>40.738564</td>\n      <td>-73.999481</td>\n      <td>40.731152</td>\n      <td>0</td>\n      <td>663.0</td>\n    </tr>\n    <tr>\n      <th>2</th>\n      <td>id3858529</td>\n      <td>1</td>\n      <td>2016-01-19 11:35:24</td>\n      <td>1</td>\n      <td>-73.979027</td>\n      <td>40.763939</td>\n      <td>-74.005333</td>\n      <td>40.710087</td>\n      <td>0</td>\n      <td>2124.0</td>\n    </tr>\n    <tr>\n      <th>3</th>\n      <td>id3504673</td>\n      <td>1</td>\n      <td>2016-04-06 19:32:31</td>\n      <td>1</td>\n      <td>-74.010040</td>\n      <td>40.719971</td>\n      <td>-74.012268</td>\n      <td>40.706718</td>\n      <td>0</td>\n      <td>429.0</td>\n    </tr>\n    <tr>\n      <th>4</th>\n      <td>id2181028</td>\n      <td>1</td>\n      <td>2016-03-26 13:30:55</td>\n      <td>1</td>\n      <td>-73.973053</td>\n      <td>40.793209</td>\n      <td>-73.972923</td>\n      <td>40.782520</td>\n      <td>0</td>\n      <td>435.0</td>\n    </tr>\n    <tr>\n      <th>5</th>\n      <td>id0801584</td>\n      <td>1</td>\n      <td>2016-01-30 22:01:40</td>\n      <td>6</td>\n      <td>-73.982857</td>\n      <td>40.742195</td>\n      <td>-73.992081</td>\n      <td>40.749184</td>\n      <td>0</td>\n      <td>443.0</td>\n    </tr>\n    <tr>\n      <th>6</th>\n      <td>id1813257</td>\n      <td>0</td>\n      <td>2016-06-17 22:34:59</td>\n      <td>4</td>\n      <td>-73.969017</td>\n      <td>40.757839</td>\n      <td>-73.957405</td>\n      <td>40.765896</td>\n      <td>0</td>\n      <td>341.0</td>\n    </tr>\n    <tr>\n      <th>7</th>\n      <td>id1324603</td>\n      <td>1</td>\n      <td>2016-05-21 07:54:58</td>\n      <td>1</td>\n      <td>-73.969276</td>\n      <td>40.797779</td>\n      <td>-73.922470</td>\n      <td>40.760559</td>\n      <td>0</td>\n      <td>1551.0</td>\n    </tr>\n    <tr>\n      <th>8</th>\n      <td>id1301050</td>\n      <td>0</td>\n      <td>2016-05-27 23:12:23</td>\n      <td>1</td>\n      <td>-73.999481</td>\n      <td>40.738400</td>\n      <td>-73.985786</td>\n      <td>40.732815</td>\n      <td>0</td>\n      <td>255.0</td>\n    </tr>\n    <tr>\n      <th>9</th>\n      <td>id0012891</td>\n      <td>1</td>\n      <td>2016-03-10 21:45:01</td>\n      <td>1</td>\n      <td>-73.981049</td>\n      <td>40.744339</td>\n      <td>-73.973000</td>\n      <td>40.789989</td>\n      <td>0</td>\n      <td>1225.0</td>\n    </tr>\n  </tbody>\n</table>\n</div>"
     },
     "execution_count": 19,
     "metadata": {},
     "output_type": "execute_result"
    }
   ],
   "source": [
    "taxiDB.head(10)"
   ],
   "metadata": {
    "collapsed": false,
    "ExecuteTime": {
     "end_time": "2024-01-10T17:10:39.129047500Z",
     "start_time": "2024-01-10T17:10:39.109091200Z"
    }
   },
   "id": "793d842385e503a5"
  },
  {
   "cell_type": "code",
   "execution_count": 21,
   "metadata": {
    "ExecuteTime": {
     "end_time": "2024-01-10T17:12:38.498546800Z",
     "start_time": "2024-01-10T17:12:38.480605700Z"
    }
   },
   "outputs": [],
   "source": [
    "###Сохраните первые 10 строк получившегося на этом этапе датафрейма в csv файл с разделителем ';'. Прикрепите в качестве ответа к заданию 6.\n",
    "taxiDB.head(10).to_csv('#6.csv', sep=';')"
   ],
   "id": "d2f63f3bb5ea787a"
  },
  {
   "cell_type": "markdown",
   "metadata": {},
   "source": [
    "Во-вторых, можем использовать долготу и широту точек старта/завершения поездки, чтобы примерно оценить расстояние между 2 точками.\n",
    "\n",
    "Сами по себе они, как самостоятельные вещественные признаки, вряд ли способны хорошо объяснять длительность поездки.\n",
    "\n",
    "Базовая идея состоит в том, чтобы посчитать разность долгот и широт соответственно, то есть:\n",
    "\n",
    "$$\n",
    "\\delta_{long} = \\text{dropoff_longitude} - \\text{pickup_longitude}\n",
    "$$\n",
    "\n",
    "$$\n",
    "\\delta_{lat} =  \\text{dropoff_latitude} - \\text{pickup_latitude}\n",
    "$$\n",
    "\n",
    "А потом вычислить географическое расстояние между 2 точками по теореме Пифагора:\n",
    "\n",
    "$$\n",
    "R = \\sqrt{\\delta^2_{long} + \\delta^2_{lat}}\n",
    "$$\n",
    "\n",
    "Мы реализуем данную задумку и вычислим такую вещественную колонку **R**, что, в целом, является хорошим тоном при работе с координатами точек.\n",
    "\n",
    "Только для начала нужно некоторым образом перевести долготу и широту в километры, обеспечив равенство их мер измерения. Потому что, вообще говоря, *градусная мера* широт и долгот имеет неодинаковую шкалу перевода в километры. Так, если пропустить данную деталь, расстояние **R** будет вычислено неверно, ведь катеты тогда будут иметь разную размерность.\n",
    "\n",
    "В целом, перевод из долгот и широт в расстояние поездки позволяет нам в будущем проверить зависимость **длительности поездки от километража**, и объяснить ее будет куда проще, чем аналогичную между таргетом и изначальными признаками\n",
    "\n",
    "<a href=\"https://www.datafix.com.au/BASHing/2018-11-07.html\"> Маленькая статья про перевод разницы градусов долгот/широт в километры</a>"
   ],
   "id": "f5253f2388d38a19"
  },
  {
   "cell_type": "markdown",
   "metadata": {},
   "source": [
    "**Начнем переводить каждую долготу в некоторое относительно километровое выражение**\n",
    "\n",
    "Соберем список из всех широт (как точек старта, так и конца)."
   ],
   "id": "4d4464925a4e1bcd"
  },
  {
   "cell_type": "code",
   "execution_count": 22,
   "metadata": {
    "ExecuteTime": {
     "end_time": "2024-01-10T17:15:41.910700600Z",
     "start_time": "2024-01-10T17:15:41.777065200Z"
    }
   },
   "outputs": [],
   "source": [
    "allLat  = list(taxiDB['pickup_latitude']) + list(taxiDB['dropoff_latitude'])"
   ],
   "id": "8c5f83dab3dd57f0"
  },
  {
   "cell_type": "markdown",
   "metadata": {},
   "source": [
    "Посчитаем медиану:\n",
    "\n",
    "Это некоторое \"Центральное значение\" в отсортированном массиве всех значений.\n",
    "\n",
    "Иными словами, такое число, меньше и больше которого примерно равное количество объектов."
   ],
   "id": "b0f17ec33fbf1878"
  },
  {
   "cell_type": "code",
   "execution_count": 23,
   "metadata": {
    "ExecuteTime": {
     "end_time": "2024-01-10T17:16:13.596686600Z",
     "start_time": "2024-01-10T17:16:13.595689200Z"
    }
   },
   "outputs": [],
   "source": [
    "medianLat  = sorted(allLat)[int(len(allLat)/2)]"
   ],
   "id": "a42ff04949e489cb"
  },
  {
   "cell_type": "markdown",
   "metadata": {},
   "source": [
    "Теперь, для из каждого значения широты вычтем медианное значение.\n",
    "\n",
    "Результат переведем в километры."
   ],
   "id": "608b17e76a4284eb"
  },
  {
   "cell_type": "code",
   "execution_count": 24,
   "metadata": {
    "ExecuteTime": {
     "end_time": "2024-01-10T17:16:43.541332600Z",
     "start_time": "2024-01-10T17:16:43.500903500Z"
    }
   },
   "outputs": [],
   "source": [
    "latMultiplier  = 111.32\n",
    "\n",
    "taxiDB['pickup_latitude']   = latMultiplier  * (taxiDB['pickup_latitude']   - medianLat)\n",
    "taxiDB['dropoff_latitude']   = latMultiplier  * (taxiDB['dropoff_latitude']  - medianLat)"
   ],
   "id": "a58b4e18a5a378fb"
  },
  {
   "cell_type": "code",
   "execution_count": 26,
   "metadata": {
    "ExecuteTime": {
     "end_time": "2024-01-10T17:17:33.432593800Z",
     "start_time": "2024-01-10T17:17:33.427080Z"
    }
   },
   "outputs": [
    {
     "data": {
      "text/plain": "          id  vendor_id     pickup_datetime  passenger_count  \\\n0  id2875421          1 2016-03-14 17:24:55                1   \n1  id2377394          0 2016-06-12 00:43:35                1   \n2  id3858529          1 2016-01-19 11:35:24                1   \n3  id3504673          1 2016-04-06 19:32:31                1   \n4  id2181028          1 2016-03-26 13:30:55                1   \n\n   pickup_longitude  pickup_latitude  dropoff_longitude  dropoff_latitude  \\\n0        -73.982155         1.516008         -73.964630          1.256121   \n1        -73.980415        -1.753813         -73.999481         -2.578912   \n2        -73.979027         1.070973         -74.005333         -4.923841   \n3        -74.010040        -3.823568         -74.012268         -5.298809   \n4        -73.973053         4.329328         -73.972923          3.139453   \n\n   store_and_fwd_flag  trip_duration  \n0                   0          455.0  \n1                   0          663.0  \n2                   0         2124.0  \n3                   0          429.0  \n4                   0          435.0  ",
      "text/html": "<div>\n<style scoped>\n    .dataframe tbody tr th:only-of-type {\n        vertical-align: middle;\n    }\n\n    .dataframe tbody tr th {\n        vertical-align: top;\n    }\n\n    .dataframe thead th {\n        text-align: right;\n    }\n</style>\n<table border=\"1\" class=\"dataframe\">\n  <thead>\n    <tr style=\"text-align: right;\">\n      <th></th>\n      <th>id</th>\n      <th>vendor_id</th>\n      <th>pickup_datetime</th>\n      <th>passenger_count</th>\n      <th>pickup_longitude</th>\n      <th>pickup_latitude</th>\n      <th>dropoff_longitude</th>\n      <th>dropoff_latitude</th>\n      <th>store_and_fwd_flag</th>\n      <th>trip_duration</th>\n    </tr>\n  </thead>\n  <tbody>\n    <tr>\n      <th>0</th>\n      <td>id2875421</td>\n      <td>1</td>\n      <td>2016-03-14 17:24:55</td>\n      <td>1</td>\n      <td>-73.982155</td>\n      <td>1.516008</td>\n      <td>-73.964630</td>\n      <td>1.256121</td>\n      <td>0</td>\n      <td>455.0</td>\n    </tr>\n    <tr>\n      <th>1</th>\n      <td>id2377394</td>\n      <td>0</td>\n      <td>2016-06-12 00:43:35</td>\n      <td>1</td>\n      <td>-73.980415</td>\n      <td>-1.753813</td>\n      <td>-73.999481</td>\n      <td>-2.578912</td>\n      <td>0</td>\n      <td>663.0</td>\n    </tr>\n    <tr>\n      <th>2</th>\n      <td>id3858529</td>\n      <td>1</td>\n      <td>2016-01-19 11:35:24</td>\n      <td>1</td>\n      <td>-73.979027</td>\n      <td>1.070973</td>\n      <td>-74.005333</td>\n      <td>-4.923841</td>\n      <td>0</td>\n      <td>2124.0</td>\n    </tr>\n    <tr>\n      <th>3</th>\n      <td>id3504673</td>\n      <td>1</td>\n      <td>2016-04-06 19:32:31</td>\n      <td>1</td>\n      <td>-74.010040</td>\n      <td>-3.823568</td>\n      <td>-74.012268</td>\n      <td>-5.298809</td>\n      <td>0</td>\n      <td>429.0</td>\n    </tr>\n    <tr>\n      <th>4</th>\n      <td>id2181028</td>\n      <td>1</td>\n      <td>2016-03-26 13:30:55</td>\n      <td>1</td>\n      <td>-73.973053</td>\n      <td>4.329328</td>\n      <td>-73.972923</td>\n      <td>3.139453</td>\n      <td>0</td>\n      <td>435.0</td>\n    </tr>\n  </tbody>\n</table>\n</div>"
     },
     "execution_count": 26,
     "metadata": {},
     "output_type": "execute_result"
    }
   ],
   "source": [
    "taxiDB.head()"
   ],
   "id": "45de2285f91b62c8"
  },
  {
   "cell_type": "markdown",
   "metadata": {},
   "source": [
    "Итого, для **latitude** колонок получили следующие выражения:\n",
    "\n",
    "*На сколько примерно километров севернее или южнее (в зависимости от знака) точка находится относительно средней широты*"
   ],
   "id": "181b8a3dee42a9bc"
  },
  {
   "cell_type": "code",
   "execution_count": 28,
   "metadata": {
    "ExecuteTime": {
     "end_time": "2024-01-10T17:20:43.848921200Z",
     "start_time": "2024-01-10T17:20:43.847927900Z"
    }
   },
   "outputs": [],
   "source": [
    "allLong = list(taxiDB['pickup_longitude']) + list(taxiDB['dropoff_longitude'])\n",
    "\n",
    "medianLong  = sorted(allLong)[int(len(allLong)/2)]\n",
    "\n",
    "longMultiplier = np.cos(medianLat*(np.pi/180.0)) * 111.32"
   ],
   "id": "b9504ae1d4d75738"
  },
  {
   "cell_type": "markdown",
   "metadata": {},
   "source": [
    "Используя полученную медиану и множитель, на который стоит корректировать все долготы, получите корректные **longitude** признаки по аналогии."
   ],
   "id": "f0f88bcdd5329732"
  },
  {
   "cell_type": "code",
   "execution_count": 29,
   "metadata": {
    "ExecuteTime": {
     "end_time": "2024-01-10T17:21:30.394490400Z",
     "start_time": "2024-01-10T17:21:30.342413400Z"
    }
   },
   "outputs": [],
   "source": [
    "### Your code is here\n",
    "taxiDB['pickup_longitude']   = longMultiplier  * (taxiDB['pickup_longitude']   - medianLong)\n",
    "taxiDB['dropoff_longitude']   = longMultiplier  * (taxiDB['dropoff_longitude']  - medianLong)"
   ],
   "id": "dfec1cd0dfb5cf00"
  },
  {
   "cell_type": "code",
   "execution_count": 30,
   "outputs": [
    {
     "data": {
      "text/plain": "          id  vendor_id     pickup_datetime  passenger_count  \\\n0  id2875421          1 2016-03-14 17:24:55                1   \n1  id2377394          0 2016-06-12 00:43:35                1   \n2  id3858529          1 2016-01-19 11:35:24                1   \n3  id3504673          1 2016-04-06 19:32:31                1   \n4  id2181028          1 2016-03-26 13:30:55                1   \n5  id0801584          1 2016-01-30 22:01:40                6   \n6  id1813257          0 2016-06-17 22:34:59                4   \n7  id1324603          1 2016-05-21 07:54:58                1   \n8  id1301050          0 2016-05-27 23:12:23                1   \n9  id0012891          1 2016-03-10 21:45:01                1   \n\n   pickup_longitude  pickup_latitude  dropoff_longitude  dropoff_latitude  \\\n0         -0.110015         1.516008           1.367786          1.256121   \n1          0.036672        -1.753813          -1.571088         -2.578912   \n2          0.153763         1.070973          -2.064547         -4.923841   \n3         -2.461500        -3.823568          -2.649362         -5.298809   \n4          0.657515         4.329328           0.668452          3.139453   \n5         -0.169204        -1.349544          -0.947028         -0.571582   \n6          0.997853         0.391954           1.977049          1.288819   \n7          0.975979         4.838061           4.923001          0.694731   \n8         -1.571088        -1.772073          -0.416255         -2.393764   \n9         -0.016727        -1.110890           0.662019          3.970922   \n\n   store_and_fwd_flag  trip_duration  \n0                   0          455.0  \n1                   0          663.0  \n2                   0         2124.0  \n3                   0          429.0  \n4                   0          435.0  \n5                   0          443.0  \n6                   0          341.0  \n7                   0         1551.0  \n8                   0          255.0  \n9                   0         1225.0  ",
      "text/html": "<div>\n<style scoped>\n    .dataframe tbody tr th:only-of-type {\n        vertical-align: middle;\n    }\n\n    .dataframe tbody tr th {\n        vertical-align: top;\n    }\n\n    .dataframe thead th {\n        text-align: right;\n    }\n</style>\n<table border=\"1\" class=\"dataframe\">\n  <thead>\n    <tr style=\"text-align: right;\">\n      <th></th>\n      <th>id</th>\n      <th>vendor_id</th>\n      <th>pickup_datetime</th>\n      <th>passenger_count</th>\n      <th>pickup_longitude</th>\n      <th>pickup_latitude</th>\n      <th>dropoff_longitude</th>\n      <th>dropoff_latitude</th>\n      <th>store_and_fwd_flag</th>\n      <th>trip_duration</th>\n    </tr>\n  </thead>\n  <tbody>\n    <tr>\n      <th>0</th>\n      <td>id2875421</td>\n      <td>1</td>\n      <td>2016-03-14 17:24:55</td>\n      <td>1</td>\n      <td>-0.110015</td>\n      <td>1.516008</td>\n      <td>1.367786</td>\n      <td>1.256121</td>\n      <td>0</td>\n      <td>455.0</td>\n    </tr>\n    <tr>\n      <th>1</th>\n      <td>id2377394</td>\n      <td>0</td>\n      <td>2016-06-12 00:43:35</td>\n      <td>1</td>\n      <td>0.036672</td>\n      <td>-1.753813</td>\n      <td>-1.571088</td>\n      <td>-2.578912</td>\n      <td>0</td>\n      <td>663.0</td>\n    </tr>\n    <tr>\n      <th>2</th>\n      <td>id3858529</td>\n      <td>1</td>\n      <td>2016-01-19 11:35:24</td>\n      <td>1</td>\n      <td>0.153763</td>\n      <td>1.070973</td>\n      <td>-2.064547</td>\n      <td>-4.923841</td>\n      <td>0</td>\n      <td>2124.0</td>\n    </tr>\n    <tr>\n      <th>3</th>\n      <td>id3504673</td>\n      <td>1</td>\n      <td>2016-04-06 19:32:31</td>\n      <td>1</td>\n      <td>-2.461500</td>\n      <td>-3.823568</td>\n      <td>-2.649362</td>\n      <td>-5.298809</td>\n      <td>0</td>\n      <td>429.0</td>\n    </tr>\n    <tr>\n      <th>4</th>\n      <td>id2181028</td>\n      <td>1</td>\n      <td>2016-03-26 13:30:55</td>\n      <td>1</td>\n      <td>0.657515</td>\n      <td>4.329328</td>\n      <td>0.668452</td>\n      <td>3.139453</td>\n      <td>0</td>\n      <td>435.0</td>\n    </tr>\n    <tr>\n      <th>5</th>\n      <td>id0801584</td>\n      <td>1</td>\n      <td>2016-01-30 22:01:40</td>\n      <td>6</td>\n      <td>-0.169204</td>\n      <td>-1.349544</td>\n      <td>-0.947028</td>\n      <td>-0.571582</td>\n      <td>0</td>\n      <td>443.0</td>\n    </tr>\n    <tr>\n      <th>6</th>\n      <td>id1813257</td>\n      <td>0</td>\n      <td>2016-06-17 22:34:59</td>\n      <td>4</td>\n      <td>0.997853</td>\n      <td>0.391954</td>\n      <td>1.977049</td>\n      <td>1.288819</td>\n      <td>0</td>\n      <td>341.0</td>\n    </tr>\n    <tr>\n      <th>7</th>\n      <td>id1324603</td>\n      <td>1</td>\n      <td>2016-05-21 07:54:58</td>\n      <td>1</td>\n      <td>0.975979</td>\n      <td>4.838061</td>\n      <td>4.923001</td>\n      <td>0.694731</td>\n      <td>0</td>\n      <td>1551.0</td>\n    </tr>\n    <tr>\n      <th>8</th>\n      <td>id1301050</td>\n      <td>0</td>\n      <td>2016-05-27 23:12:23</td>\n      <td>1</td>\n      <td>-1.571088</td>\n      <td>-1.772073</td>\n      <td>-0.416255</td>\n      <td>-2.393764</td>\n      <td>0</td>\n      <td>255.0</td>\n    </tr>\n    <tr>\n      <th>9</th>\n      <td>id0012891</td>\n      <td>1</td>\n      <td>2016-03-10 21:45:01</td>\n      <td>1</td>\n      <td>-0.016727</td>\n      <td>-1.110890</td>\n      <td>0.662019</td>\n      <td>3.970922</td>\n      <td>0</td>\n      <td>1225.0</td>\n    </tr>\n  </tbody>\n</table>\n</div>"
     },
     "execution_count": 30,
     "metadata": {},
     "output_type": "execute_result"
    }
   ],
   "source": [
    "taxiDB.head(10)"
   ],
   "metadata": {
    "collapsed": false,
    "ExecuteTime": {
     "end_time": "2024-01-10T17:21:47.307546600Z",
     "start_time": "2024-01-10T17:21:47.288027100Z"
    }
   },
   "id": "bba92e50b60904aa"
  },
  {
   "cell_type": "markdown",
   "metadata": {},
   "source": [
    "Почему мы вычисляли через медианы: они позволяют нам во время вычисления расстояния преобразовать изначальные longtitude/latitude колонки в \"отдаленности точек старта/конца поездок\" от медианных точек. Кажется, что это прикольно :) Есть подозрение, что медианная для поездок точка города - это, на практике, точка скопления вечерних пробок. Нам может быть вполне важно знать, насколько далеко от такого эпицентра ужаса мы начинаем и заканчиваем поездку (насколько севернее/южнее/...) и выделить поверх этой информации дополнительные признаки.<br>\n",
    "В домашнем задании это использоваться не будет, но это ещё один пример, как можно работать с признаками."
   ],
   "id": "5ec0206834249c78"
  },
  {
   "cell_type": "markdown",
   "metadata": {},
   "source": [
    "Наконец, вычислим географическое расстояние **distance_km**:\n",
    "$$\n",
    "\\delta_{long} = \\text{dropoff_longitude} - \\text{pickup_longitude}\n",
    "$$\n",
    "\n",
    "$$\n",
    "\\delta_{lat} =  \\text{dropoff_latitude} - \\text{pickup_latitude}\n",
    "$$\n",
    "\n",
    "\n",
    "$$\n",
    "R = \\sqrt{\\delta^2_{long} + \\delta^2_{lat}}\n",
    "$$\n"
   ],
   "id": "90f334d8c14cf5c5"
  },
  {
   "cell_type": "code",
   "execution_count": 31,
   "metadata": {
    "ExecuteTime": {
     "end_time": "2024-01-10T17:27:21.452506200Z",
     "start_time": "2024-01-10T17:27:21.404531900Z"
    }
   },
   "outputs": [],
   "source": [
    "### Your code is here\n",
    "taxiDB['distance_km'] = ((taxiDB['dropoff_longitude'] - taxiDB['pickup_longitude'])**2 +\n",
    "                         (taxiDB['dropoff_latitude'] - taxiDB['pickup_latitude'])**2)**0.5"
   ],
   "id": "cd90c6c3834e0574"
  },
  {
   "cell_type": "code",
   "execution_count": 32,
   "metadata": {
    "ExecuteTime": {
     "end_time": "2024-01-10T17:27:23.570947400Z",
     "start_time": "2024-01-10T17:27:23.561092Z"
    }
   },
   "outputs": [
    {
     "data": {
      "text/plain": "          id  vendor_id     pickup_datetime  passenger_count  \\\n0  id2875421          1 2016-03-14 17:24:55                1   \n1  id2377394          0 2016-06-12 00:43:35                1   \n2  id3858529          1 2016-01-19 11:35:24                1   \n3  id3504673          1 2016-04-06 19:32:31                1   \n4  id2181028          1 2016-03-26 13:30:55                1   \n\n   pickup_longitude  pickup_latitude  dropoff_longitude  dropoff_latitude  \\\n0         -0.110015         1.516008           1.367786          1.256121   \n1          0.036672        -1.753813          -1.571088         -2.578912   \n2          0.153763         1.070973          -2.064547         -4.923841   \n3         -2.461500        -3.823568          -2.649362         -5.298809   \n4          0.657515         4.329328           0.668452          3.139453   \n\n   store_and_fwd_flag  trip_duration  distance_km  \n0                   0          455.0     1.500479  \n1                   0          663.0     1.807119  \n2                   0         2124.0     6.392080  \n3                   0          429.0     1.487155  \n4                   0          435.0     1.189925  ",
      "text/html": "<div>\n<style scoped>\n    .dataframe tbody tr th:only-of-type {\n        vertical-align: middle;\n    }\n\n    .dataframe tbody tr th {\n        vertical-align: top;\n    }\n\n    .dataframe thead th {\n        text-align: right;\n    }\n</style>\n<table border=\"1\" class=\"dataframe\">\n  <thead>\n    <tr style=\"text-align: right;\">\n      <th></th>\n      <th>id</th>\n      <th>vendor_id</th>\n      <th>pickup_datetime</th>\n      <th>passenger_count</th>\n      <th>pickup_longitude</th>\n      <th>pickup_latitude</th>\n      <th>dropoff_longitude</th>\n      <th>dropoff_latitude</th>\n      <th>store_and_fwd_flag</th>\n      <th>trip_duration</th>\n      <th>distance_km</th>\n    </tr>\n  </thead>\n  <tbody>\n    <tr>\n      <th>0</th>\n      <td>id2875421</td>\n      <td>1</td>\n      <td>2016-03-14 17:24:55</td>\n      <td>1</td>\n      <td>-0.110015</td>\n      <td>1.516008</td>\n      <td>1.367786</td>\n      <td>1.256121</td>\n      <td>0</td>\n      <td>455.0</td>\n      <td>1.500479</td>\n    </tr>\n    <tr>\n      <th>1</th>\n      <td>id2377394</td>\n      <td>0</td>\n      <td>2016-06-12 00:43:35</td>\n      <td>1</td>\n      <td>0.036672</td>\n      <td>-1.753813</td>\n      <td>-1.571088</td>\n      <td>-2.578912</td>\n      <td>0</td>\n      <td>663.0</td>\n      <td>1.807119</td>\n    </tr>\n    <tr>\n      <th>2</th>\n      <td>id3858529</td>\n      <td>1</td>\n      <td>2016-01-19 11:35:24</td>\n      <td>1</td>\n      <td>0.153763</td>\n      <td>1.070973</td>\n      <td>-2.064547</td>\n      <td>-4.923841</td>\n      <td>0</td>\n      <td>2124.0</td>\n      <td>6.392080</td>\n    </tr>\n    <tr>\n      <th>3</th>\n      <td>id3504673</td>\n      <td>1</td>\n      <td>2016-04-06 19:32:31</td>\n      <td>1</td>\n      <td>-2.461500</td>\n      <td>-3.823568</td>\n      <td>-2.649362</td>\n      <td>-5.298809</td>\n      <td>0</td>\n      <td>429.0</td>\n      <td>1.487155</td>\n    </tr>\n    <tr>\n      <th>4</th>\n      <td>id2181028</td>\n      <td>1</td>\n      <td>2016-03-26 13:30:55</td>\n      <td>1</td>\n      <td>0.657515</td>\n      <td>4.329328</td>\n      <td>0.668452</td>\n      <td>3.139453</td>\n      <td>0</td>\n      <td>435.0</td>\n      <td>1.189925</td>\n    </tr>\n  </tbody>\n</table>\n</div>"
     },
     "execution_count": 32,
     "metadata": {},
     "output_type": "execute_result"
    }
   ],
   "source": [
    "taxiDB.head()"
   ],
   "id": "8ca252ae247146fe"
  },
  {
   "cell_type": "markdown",
   "metadata": {},
   "source": [
    "Уберем старые признаки!"
   ],
   "id": "631f48a16b344e2"
  },
  {
   "cell_type": "code",
   "execution_count": 33,
   "metadata": {
    "ExecuteTime": {
     "end_time": "2024-01-10T17:27:31.299592Z",
     "start_time": "2024-01-10T17:27:31.233130800Z"
    }
   },
   "outputs": [],
   "source": [
    "taxiDB = taxiDB.drop(['pickup_longitude', 'dropoff_longitude',\n",
    "                      'pickup_latitude', 'dropoff_latitude'], axis=1)"
   ],
   "id": "6db69b9133c3d7f0"
  },
  {
   "cell_type": "code",
   "execution_count": 34,
   "metadata": {
    "ExecuteTime": {
     "end_time": "2024-01-10T17:27:33.726437Z",
     "start_time": "2024-01-10T17:27:33.715924100Z"
    }
   },
   "outputs": [
    {
     "data": {
      "text/plain": "          id  vendor_id     pickup_datetime  passenger_count  \\\n0  id2875421          1 2016-03-14 17:24:55                1   \n1  id2377394          0 2016-06-12 00:43:35                1   \n2  id3858529          1 2016-01-19 11:35:24                1   \n3  id3504673          1 2016-04-06 19:32:31                1   \n4  id2181028          1 2016-03-26 13:30:55                1   \n\n   store_and_fwd_flag  trip_duration  distance_km  \n0                   0          455.0     1.500479  \n1                   0          663.0     1.807119  \n2                   0         2124.0     6.392080  \n3                   0          429.0     1.487155  \n4                   0          435.0     1.189925  ",
      "text/html": "<div>\n<style scoped>\n    .dataframe tbody tr th:only-of-type {\n        vertical-align: middle;\n    }\n\n    .dataframe tbody tr th {\n        vertical-align: top;\n    }\n\n    .dataframe thead th {\n        text-align: right;\n    }\n</style>\n<table border=\"1\" class=\"dataframe\">\n  <thead>\n    <tr style=\"text-align: right;\">\n      <th></th>\n      <th>id</th>\n      <th>vendor_id</th>\n      <th>pickup_datetime</th>\n      <th>passenger_count</th>\n      <th>store_and_fwd_flag</th>\n      <th>trip_duration</th>\n      <th>distance_km</th>\n    </tr>\n  </thead>\n  <tbody>\n    <tr>\n      <th>0</th>\n      <td>id2875421</td>\n      <td>1</td>\n      <td>2016-03-14 17:24:55</td>\n      <td>1</td>\n      <td>0</td>\n      <td>455.0</td>\n      <td>1.500479</td>\n    </tr>\n    <tr>\n      <th>1</th>\n      <td>id2377394</td>\n      <td>0</td>\n      <td>2016-06-12 00:43:35</td>\n      <td>1</td>\n      <td>0</td>\n      <td>663.0</td>\n      <td>1.807119</td>\n    </tr>\n    <tr>\n      <th>2</th>\n      <td>id3858529</td>\n      <td>1</td>\n      <td>2016-01-19 11:35:24</td>\n      <td>1</td>\n      <td>0</td>\n      <td>2124.0</td>\n      <td>6.392080</td>\n    </tr>\n    <tr>\n      <th>3</th>\n      <td>id3504673</td>\n      <td>1</td>\n      <td>2016-04-06 19:32:31</td>\n      <td>1</td>\n      <td>0</td>\n      <td>429.0</td>\n      <td>1.487155</td>\n    </tr>\n    <tr>\n      <th>4</th>\n      <td>id2181028</td>\n      <td>1</td>\n      <td>2016-03-26 13:30:55</td>\n      <td>1</td>\n      <td>0</td>\n      <td>435.0</td>\n      <td>1.189925</td>\n    </tr>\n  </tbody>\n</table>\n</div>"
     },
     "execution_count": 34,
     "metadata": {},
     "output_type": "execute_result"
    }
   ],
   "source": [
    "taxiDB.head()"
   ],
   "id": "a62fc7bb0aeb7c8c"
  },
  {
   "cell_type": "code",
   "execution_count": 35,
   "metadata": {
    "ExecuteTime": {
     "end_time": "2024-01-10T17:27:59.037164800Z",
     "start_time": "2024-01-10T17:27:59.007552600Z"
    }
   },
   "outputs": [],
   "source": [
    "### Cохраните первые 10 значений полученного промежуточного датафрейма в файл в формате csv с сепаратором ;. Отправьте полученный файл в форму ответа к заданию 7.\n",
    "taxiDB.head(10).to_csv('#7.csv', sep=';')"
   ],
   "id": "9c606d3e1aed06"
  },
  {
   "cell_type": "markdown",
   "metadata": {},
   "source": [
    "В-третьих, обратим внимание на колонку **passenger_count**.\n",
    "\n",
    "Какие значения она может принимать?"
   ],
   "id": "f1638b60e54ee035"
  },
  {
   "cell_type": "code",
   "execution_count": 37,
   "metadata": {
    "ExecuteTime": {
     "end_time": "2024-01-10T17:29:40.476444900Z",
     "start_time": "2024-01-10T17:29:40.457279400Z"
    }
   },
   "outputs": [
    {
     "data": {
      "text/plain": "array([1, 6, 4, 2, 3, 5, 0, 7, 9, 8], dtype=int64)"
     },
     "execution_count": 37,
     "metadata": {},
     "output_type": "execute_result"
    }
   ],
   "source": [
    "### Your code is here\n",
    "taxiDB['passenger_count'].unique()"
   ],
   "id": "d790fe7c8452f02b"
  },
  {
   "cell_type": "markdown",
   "metadata": {},
   "source": [
    "Какой это признак, на ваш взгляд: вещественный, категориальный, порядковый? \n",
    "\n",
    "С одной стороны, можно воспринимать его как обычный вещественный признак. Ведь само по себе количество пассажиров (без дополнительной обработки) - это некоторое число, которое может принимать большое количество различных значений.\n",
    "\n",
    "С другой стороны, мы с Вами наверняка знаем, что количество пассажиров от поездки к поездке ограничено. Вряд ли если к нам придут новые данные, мы увидим числа бОльшие, чем у нас в датасете. Тогда рассуждаем следующим образом: раз множество значений признака ограничено, то он категориальный (или, в данном случае, даже порядковый! Ведь у нас могут быть какие-то логичные предположения о том, что количество пассажиров может влиять на модель машины и, соответственно, скорость ее передвижения и скорость поездки!)\n",
    "\n",
    "Какой подход выбрать лучше заранее наверняка не узнаешь. Нужны эксперименты с данными и моделями. Тем не менее, я предлагаю Вам предположить, что данный признак является категориальным, и попробовать отточить навыки кодировки таких фичей!\n",
    "\n",
    "Предлагаю Вам реализовать прием с **Mean-target encoding'ом**, как в практическом занятии. Замените колонку **passenger_count** колонкой **category_encoded**."
   ],
   "id": "a0f0e8db47b1eeb2"
  },
  {
   "cell_type": "code",
   "execution_count": 38,
   "metadata": {
    "ExecuteTime": {
     "end_time": "2024-01-10T19:17:31.596213900Z",
     "start_time": "2024-01-10T19:17:31.539381400Z"
    }
   },
   "outputs": [],
   "source": [
    "### Your code is here\n",
    "taxiDB['category_encoded']=taxiDB['passenger_count'].map(taxiDB.groupby(['passenger_count'])['trip_duration'].mean())\n"
   ],
   "id": "b7db26d59e10e999"
  },
  {
   "cell_type": "code",
   "execution_count": 39,
   "outputs": [
    {
     "data": {
      "text/plain": "          id  vendor_id     pickup_datetime  passenger_count  \\\n0  id2875421          1 2016-03-14 17:24:55                1   \n1  id2377394          0 2016-06-12 00:43:35                1   \n2  id3858529          1 2016-01-19 11:35:24                1   \n3  id3504673          1 2016-04-06 19:32:31                1   \n4  id2181028          1 2016-03-26 13:30:55                1   \n5  id0801584          1 2016-01-30 22:01:40                6   \n6  id1813257          0 2016-06-17 22:34:59                4   \n7  id1324603          1 2016-05-21 07:54:58                1   \n8  id1301050          0 2016-05-27 23:12:23                1   \n9  id0012891          1 2016-03-10 21:45:01                1   \n\n   store_and_fwd_flag  trip_duration  distance_km  category_encoded  \n0                   0          455.0     1.500479        930.399753  \n1                   0          663.0     1.807119        930.399753  \n2                   0         2124.0     6.392080        930.399753  \n3                   0          429.0     1.487155        930.399753  \n4                   0          435.0     1.189925        930.399753  \n5                   0          443.0     1.100107       1061.355223  \n6                   0          341.0     1.327852       1053.529749  \n7                   0         1551.0     5.722427        930.399753  \n8                   0          255.0     1.311541        930.399753  \n9                   0         1225.0     5.126939        930.399753  ",
      "text/html": "<div>\n<style scoped>\n    .dataframe tbody tr th:only-of-type {\n        vertical-align: middle;\n    }\n\n    .dataframe tbody tr th {\n        vertical-align: top;\n    }\n\n    .dataframe thead th {\n        text-align: right;\n    }\n</style>\n<table border=\"1\" class=\"dataframe\">\n  <thead>\n    <tr style=\"text-align: right;\">\n      <th></th>\n      <th>id</th>\n      <th>vendor_id</th>\n      <th>pickup_datetime</th>\n      <th>passenger_count</th>\n      <th>store_and_fwd_flag</th>\n      <th>trip_duration</th>\n      <th>distance_km</th>\n      <th>category_encoded</th>\n    </tr>\n  </thead>\n  <tbody>\n    <tr>\n      <th>0</th>\n      <td>id2875421</td>\n      <td>1</td>\n      <td>2016-03-14 17:24:55</td>\n      <td>1</td>\n      <td>0</td>\n      <td>455.0</td>\n      <td>1.500479</td>\n      <td>930.399753</td>\n    </tr>\n    <tr>\n      <th>1</th>\n      <td>id2377394</td>\n      <td>0</td>\n      <td>2016-06-12 00:43:35</td>\n      <td>1</td>\n      <td>0</td>\n      <td>663.0</td>\n      <td>1.807119</td>\n      <td>930.399753</td>\n    </tr>\n    <tr>\n      <th>2</th>\n      <td>id3858529</td>\n      <td>1</td>\n      <td>2016-01-19 11:35:24</td>\n      <td>1</td>\n      <td>0</td>\n      <td>2124.0</td>\n      <td>6.392080</td>\n      <td>930.399753</td>\n    </tr>\n    <tr>\n      <th>3</th>\n      <td>id3504673</td>\n      <td>1</td>\n      <td>2016-04-06 19:32:31</td>\n      <td>1</td>\n      <td>0</td>\n      <td>429.0</td>\n      <td>1.487155</td>\n      <td>930.399753</td>\n    </tr>\n    <tr>\n      <th>4</th>\n      <td>id2181028</td>\n      <td>1</td>\n      <td>2016-03-26 13:30:55</td>\n      <td>1</td>\n      <td>0</td>\n      <td>435.0</td>\n      <td>1.189925</td>\n      <td>930.399753</td>\n    </tr>\n    <tr>\n      <th>5</th>\n      <td>id0801584</td>\n      <td>1</td>\n      <td>2016-01-30 22:01:40</td>\n      <td>6</td>\n      <td>0</td>\n      <td>443.0</td>\n      <td>1.100107</td>\n      <td>1061.355223</td>\n    </tr>\n    <tr>\n      <th>6</th>\n      <td>id1813257</td>\n      <td>0</td>\n      <td>2016-06-17 22:34:59</td>\n      <td>4</td>\n      <td>0</td>\n      <td>341.0</td>\n      <td>1.327852</td>\n      <td>1053.529749</td>\n    </tr>\n    <tr>\n      <th>7</th>\n      <td>id1324603</td>\n      <td>1</td>\n      <td>2016-05-21 07:54:58</td>\n      <td>1</td>\n      <td>0</td>\n      <td>1551.0</td>\n      <td>5.722427</td>\n      <td>930.399753</td>\n    </tr>\n    <tr>\n      <th>8</th>\n      <td>id1301050</td>\n      <td>0</td>\n      <td>2016-05-27 23:12:23</td>\n      <td>1</td>\n      <td>0</td>\n      <td>255.0</td>\n      <td>1.311541</td>\n      <td>930.399753</td>\n    </tr>\n    <tr>\n      <th>9</th>\n      <td>id0012891</td>\n      <td>1</td>\n      <td>2016-03-10 21:45:01</td>\n      <td>1</td>\n      <td>0</td>\n      <td>1225.0</td>\n      <td>5.126939</td>\n      <td>930.399753</td>\n    </tr>\n  </tbody>\n</table>\n</div>"
     },
     "execution_count": 39,
     "metadata": {},
     "output_type": "execute_result"
    }
   ],
   "source": [
    "taxiDB.head(10)"
   ],
   "metadata": {
    "collapsed": false,
    "ExecuteTime": {
     "end_time": "2024-01-10T19:17:32.739211200Z",
     "start_time": "2024-01-10T19:17:32.724584300Z"
    }
   },
   "id": "19c0e94f31bffa21"
  },
  {
   "cell_type": "code",
   "execution_count": 40,
   "outputs": [],
   "source": [
    "taxiDB = taxiDB.drop('passenger_count', axis=1)"
   ],
   "metadata": {
    "collapsed": false,
    "ExecuteTime": {
     "end_time": "2024-01-10T19:18:53.241733200Z",
     "start_time": "2024-01-10T19:18:53.130674100Z"
    }
   },
   "id": "ddc757064719dfde"
  },
  {
   "cell_type": "code",
   "execution_count": 41,
   "metadata": {
    "ExecuteTime": {
     "end_time": "2024-01-10T19:19:17.775669500Z",
     "start_time": "2024-01-10T19:19:17.750352600Z"
    }
   },
   "outputs": [],
   "source": [
    "###  Cохраните первые 10 значений полученного промежуточного датафрейма в файл в формате csv с сепаратором ';' Отправьте полученный файл в форму ответа задания 8.\n",
    "taxiDB.head(10).to_csv('#8.csv', sep=';')"
   ],
   "id": "8f21357767c2dfe5"
  },
  {
   "cell_type": "markdown",
   "metadata": {},
   "source": [
    "Кажется, мы достаточно близки с Вами к тому, чтобы получить в итоге табличку, полностью состояющую из чиселок и, казалось бы, осмысленных признаков!\n",
    "\n",
    "Остались две колонки: **id**, **pickup_datetime**\n",
    "\n",
    "**id** можно использовать как обычный идентификатор нашего объекта, поэтому поместите данную колонку в качестве индекса нашей таблички:"
   ],
   "id": "58cdad06d4d4bb9f"
  },
  {
   "cell_type": "code",
   "execution_count": 42,
   "metadata": {
    "ExecuteTime": {
     "end_time": "2024-01-10T19:34:51.741333800Z",
     "start_time": "2024-01-10T19:34:51.603951400Z"
    }
   },
   "outputs": [],
   "source": [
    "taxiDB = taxiDB.set_index('id')"
   ],
   "id": "1673a6c9ba9d5a75"
  },
  {
   "cell_type": "code",
   "execution_count": 43,
   "metadata": {
    "ExecuteTime": {
     "end_time": "2024-01-10T19:34:53.649591300Z",
     "start_time": "2024-01-10T19:34:53.636815500Z"
    }
   },
   "outputs": [
    {
     "data": {
      "text/plain": "           vendor_id     pickup_datetime  store_and_fwd_flag  trip_duration  \\\nid                                                                            \nid2875421          1 2016-03-14 17:24:55                   0          455.0   \nid2377394          0 2016-06-12 00:43:35                   0          663.0   \nid3858529          1 2016-01-19 11:35:24                   0         2124.0   \nid3504673          1 2016-04-06 19:32:31                   0          429.0   \nid2181028          1 2016-03-26 13:30:55                   0          435.0   \n\n           distance_km  category_encoded  \nid                                        \nid2875421     1.500479        930.399753  \nid2377394     1.807119        930.399753  \nid3858529     6.392080        930.399753  \nid3504673     1.487155        930.399753  \nid2181028     1.189925        930.399753  ",
      "text/html": "<div>\n<style scoped>\n    .dataframe tbody tr th:only-of-type {\n        vertical-align: middle;\n    }\n\n    .dataframe tbody tr th {\n        vertical-align: top;\n    }\n\n    .dataframe thead th {\n        text-align: right;\n    }\n</style>\n<table border=\"1\" class=\"dataframe\">\n  <thead>\n    <tr style=\"text-align: right;\">\n      <th></th>\n      <th>vendor_id</th>\n      <th>pickup_datetime</th>\n      <th>store_and_fwd_flag</th>\n      <th>trip_duration</th>\n      <th>distance_km</th>\n      <th>category_encoded</th>\n    </tr>\n    <tr>\n      <th>id</th>\n      <th></th>\n      <th></th>\n      <th></th>\n      <th></th>\n      <th></th>\n      <th></th>\n    </tr>\n  </thead>\n  <tbody>\n    <tr>\n      <th>id2875421</th>\n      <td>1</td>\n      <td>2016-03-14 17:24:55</td>\n      <td>0</td>\n      <td>455.0</td>\n      <td>1.500479</td>\n      <td>930.399753</td>\n    </tr>\n    <tr>\n      <th>id2377394</th>\n      <td>0</td>\n      <td>2016-06-12 00:43:35</td>\n      <td>0</td>\n      <td>663.0</td>\n      <td>1.807119</td>\n      <td>930.399753</td>\n    </tr>\n    <tr>\n      <th>id3858529</th>\n      <td>1</td>\n      <td>2016-01-19 11:35:24</td>\n      <td>0</td>\n      <td>2124.0</td>\n      <td>6.392080</td>\n      <td>930.399753</td>\n    </tr>\n    <tr>\n      <th>id3504673</th>\n      <td>1</td>\n      <td>2016-04-06 19:32:31</td>\n      <td>0</td>\n      <td>429.0</td>\n      <td>1.487155</td>\n      <td>930.399753</td>\n    </tr>\n    <tr>\n      <th>id2181028</th>\n      <td>1</td>\n      <td>2016-03-26 13:30:55</td>\n      <td>0</td>\n      <td>435.0</td>\n      <td>1.189925</td>\n      <td>930.399753</td>\n    </tr>\n  </tbody>\n</table>\n</div>"
     },
     "execution_count": 43,
     "metadata": {},
     "output_type": "execute_result"
    }
   ],
   "source": [
    "taxiDB.head()"
   ],
   "id": "1afacd819449919e"
  },
  {
   "cell_type": "code",
   "execution_count": null,
   "metadata": {},
   "outputs": [],
   "source": [
    "###Сохраните первые 10 000 значений полученного датафрейма в файл в формате csv с сепаратором ';' Отправьте полученный файл в форму задания 9."
   ],
   "id": "5805968e821557f4"
  },
  {
   "cell_type": "code",
   "execution_count": 45,
   "metadata": {
    "ExecuteTime": {
     "end_time": "2024-01-10T19:36:41.333337800Z",
     "start_time": "2024-01-10T19:36:41.277402800Z"
    }
   },
   "outputs": [],
   "source": [
    "taxiDB.head(10000).to_csv('#9.csv', sep=';')"
   ],
   "id": "8a4bff5c2d3998a1"
  },
  {
   "cell_type": "code",
   "execution_count": null,
   "outputs": [],
   "source": [],
   "metadata": {
    "collapsed": false
   },
   "id": "e016ec931a4289"
  }
 ],
 "metadata": {
  "kernelspec": {
   "display_name": "Python 3",
   "language": "python",
   "name": "python3"
  },
  "language_info": {
   "codemirror_mode": {
    "name": "ipython",
    "version": 3
   },
   "file_extension": ".py",
   "mimetype": "text/x-python",
   "name": "python",
   "nbconvert_exporter": "python",
   "pygments_lexer": "ipython3",
   "version": "3.7.3"
  }
 },
 "nbformat": 4,
 "nbformat_minor": 5
}
