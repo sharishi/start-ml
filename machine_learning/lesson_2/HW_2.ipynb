{
 "cells": [
  {
   "cell_type": "code",
   "execution_count": 1,
   "metadata": {
    "id": "81t4wEj-9sjI",
    "ExecuteTime": {
     "end_time": "2024-01-12T09:21:49.025822400Z",
     "start_time": "2024-01-12T09:21:48.632825500Z"
    }
   },
   "outputs": [],
   "source": [
    "import pandas as pd"
   ],
   "id": "764f6656940da9b8"
  },
  {
   "cell_type": "markdown",
   "metadata": {
    "id": "Eir77xQk9sjK"
   },
   "source": [
    "**Научимся считать метрики в pandas-табличках**\n",
    "\n",
    "Представим, что 2 добрых и очень-очень умных гнома прокрались к нам в данные, описывающие различные поездки в такси.\n",
    "Далее, для каждого объекта (и его признаков, соответственно), гномы построили модели предсказания того, какая должна была быть у данных заказов длительность исполнения. Прогнозы своих моделей они положили соответственно в колонки **prediction_1** и **prediction_2**"
   ],
   "id": "de8db493e71e7e1d"
  },
  {
   "cell_type": "code",
   "execution_count": 2,
   "metadata": {
    "id": "cF_CAFZ89sjL",
    "ExecuteTime": {
     "end_time": "2024-01-12T09:21:58.646274100Z",
     "start_time": "2024-01-12T09:21:56.096513Z"
    }
   },
   "outputs": [],
   "source": [
    "df = pd.read_csv('taxi_dataset_with_predictions.csv', index_col=0)"
   ],
   "id": "b51e5351e17fb1c9"
  },
  {
   "cell_type": "code",
   "execution_count": 3,
   "metadata": {
    "id": "UlT5Cex79sjN",
    "ExecuteTime": {
     "end_time": "2024-01-12T09:21:58.670058200Z",
     "start_time": "2024-01-12T09:21:58.648275800Z"
    }
   },
   "outputs": [
    {
     "data": {
      "text/plain": "           vendor_id      pickup_datetime  passenger_count  \\\nid                                                           \nid2875421          1  2016-03-14 17:24:55       930.399753   \nid2377394          0  2016-06-12 00:43:35       930.399753   \nid3858529          1  2016-01-19 11:35:24       930.399753   \nid3504673          1  2016-04-06 19:32:31       930.399753   \nid2181028          1  2016-03-26 13:30:55       930.399753   \n\n           store_and_fwd_flag  trip_duration  distance_km  prediction_1  \\\nid                                                                        \nid2875421                   0          455.0     1.500479    578.156451   \nid2377394                   0          663.0     1.807119    962.657188   \nid3858529                   0         2124.0     6.392080   2546.180515   \nid3504673                   0          429.0     1.487155    737.926214   \nid2181028                   0          435.0     1.189925    666.070794   \n\n           prediction_2  \nid                       \nid2875421    355.270710  \nid2377394    674.295781  \nid3858529   2422.132431  \nid3504673    795.992362  \nid2181028     -4.158492  ",
      "text/html": "<div>\n<style scoped>\n    .dataframe tbody tr th:only-of-type {\n        vertical-align: middle;\n    }\n\n    .dataframe tbody tr th {\n        vertical-align: top;\n    }\n\n    .dataframe thead th {\n        text-align: right;\n    }\n</style>\n<table border=\"1\" class=\"dataframe\">\n  <thead>\n    <tr style=\"text-align: right;\">\n      <th></th>\n      <th>vendor_id</th>\n      <th>pickup_datetime</th>\n      <th>passenger_count</th>\n      <th>store_and_fwd_flag</th>\n      <th>trip_duration</th>\n      <th>distance_km</th>\n      <th>prediction_1</th>\n      <th>prediction_2</th>\n    </tr>\n    <tr>\n      <th>id</th>\n      <th></th>\n      <th></th>\n      <th></th>\n      <th></th>\n      <th></th>\n      <th></th>\n      <th></th>\n      <th></th>\n    </tr>\n  </thead>\n  <tbody>\n    <tr>\n      <th>id2875421</th>\n      <td>1</td>\n      <td>2016-03-14 17:24:55</td>\n      <td>930.399753</td>\n      <td>0</td>\n      <td>455.0</td>\n      <td>1.500479</td>\n      <td>578.156451</td>\n      <td>355.270710</td>\n    </tr>\n    <tr>\n      <th>id2377394</th>\n      <td>0</td>\n      <td>2016-06-12 00:43:35</td>\n      <td>930.399753</td>\n      <td>0</td>\n      <td>663.0</td>\n      <td>1.807119</td>\n      <td>962.657188</td>\n      <td>674.295781</td>\n    </tr>\n    <tr>\n      <th>id3858529</th>\n      <td>1</td>\n      <td>2016-01-19 11:35:24</td>\n      <td>930.399753</td>\n      <td>0</td>\n      <td>2124.0</td>\n      <td>6.392080</td>\n      <td>2546.180515</td>\n      <td>2422.132431</td>\n    </tr>\n    <tr>\n      <th>id3504673</th>\n      <td>1</td>\n      <td>2016-04-06 19:32:31</td>\n      <td>930.399753</td>\n      <td>0</td>\n      <td>429.0</td>\n      <td>1.487155</td>\n      <td>737.926214</td>\n      <td>795.992362</td>\n    </tr>\n    <tr>\n      <th>id2181028</th>\n      <td>1</td>\n      <td>2016-03-26 13:30:55</td>\n      <td>930.399753</td>\n      <td>0</td>\n      <td>435.0</td>\n      <td>1.189925</td>\n      <td>666.070794</td>\n      <td>-4.158492</td>\n    </tr>\n  </tbody>\n</table>\n</div>"
     },
     "execution_count": 3,
     "metadata": {},
     "output_type": "execute_result"
    }
   ],
   "source": [
    "df.head()"
   ],
   "id": "547a73d90c83d830"
  },
  {
   "cell_type": "markdown",
   "metadata": {
    "id": "hJJOnoaw9sjO"
   },
   "source": [
    "Давайте попробуем оценить, насколько и вправду гномы оказались умными и осведомленными в области построения различных моделей машинного обучения, и найдем, насколько сильно их модели ошибаются на наших данных!"
   ],
   "id": "bd207928e7a3ef4e"
  },
  {
   "cell_type": "markdown",
   "metadata": {
    "id": "ZSeEOdpP9sjO"
   },
   "source": [
    "В начале посчитайте **MSE** модели. Для этого нужно посчитать квадратичное отклонение на каждом объекте, а потом просто усредниться! Полезно иметь формулу перед глазами.\n",
    "\n",
    "$$\n",
    "MSE = \\frac{1}{n} \\sum_i^n (a(x_i)-y_i)^2\n",
    "$$\n",
    "\n",
    "Положите результаты в переменные *error_1* и *error_2* соответственно."
   ],
   "id": "1f2c26171660adec"
  },
  {
   "cell_type": "code",
   "execution_count": 4,
   "metadata": {
    "id": "ozhTh4ls9sjQ",
    "ExecuteTime": {
     "end_time": "2024-01-12T09:22:00.790847Z",
     "start_time": "2024-01-12T09:22:00.750722Z"
    }
   },
   "outputs": [],
   "source": [
    "### Your code is here\n",
    "error_1=((df['prediction_1'] - df['trip_duration'])**2).mean()\n",
    "error_2=((df['prediction_2'] - df['trip_duration'])**2).mean()"
   ],
   "id": "a7b2ca8b21574066"
  },
  {
   "cell_type": "code",
   "execution_count": 5,
   "metadata": {
    "id": "_JbxQKWp9sjQ",
    "ExecuteTime": {
     "end_time": "2024-01-12T09:22:01.396360Z",
     "start_time": "2024-01-12T09:22:01.388351700Z"
    }
   },
   "outputs": [
    {
     "name": "stdout",
     "output_type": "stream",
     "text": [
      "MSE первой модели равно: 99994\n",
      "MSE второй модели равно: 124936\n"
     ]
    }
   ],
   "source": [
    "###Распечатайте значения MSE для обеих моделей. Используйте эти значения для ответа на задание шага 5.\n",
    "print(f\"MSE первой модели равно: {int(error_1)}\")\n",
    "print(f\"MSE второй модели равно: {int(error_2)}\")"
   ],
   "id": "cc0f7a5515e3af1d"
  },
  {
   "cell_type": "markdown",
   "metadata": {
    "id": "_AuLIFkJ9sjQ"
   },
   "source": [
    "Видно, что у MSE достаточно большой порядок. Как мы и говорили, глазам куда будет приятнее, если мы будем считать **RMSE**:\n",
    "\n",
    "$$\n",
    "RMSE = \\sqrt{MSE} = \\sqrt{\\frac{1}{n} \\sum_i^n (a(x_i)-y_i)^2}\n",
    "$$"
   ],
   "id": "89f76c0f7aae3f3e"
  },
  {
   "cell_type": "code",
   "execution_count": 6,
   "metadata": {
    "id": "2VsDSCtz9sjS",
    "ExecuteTime": {
     "end_time": "2024-01-12T09:22:03.900057300Z",
     "start_time": "2024-01-12T09:22:03.864938400Z"
    }
   },
   "outputs": [],
   "source": [
    "### Your code is here\n",
    "error_1=(((df['prediction_1'] - df['trip_duration'])**2).mean())**0.5\n",
    "error_2=(((df['prediction_2'] - df['trip_duration'])**2).mean())**0.5"
   ],
   "id": "b5ff4af8eb2bdb68"
  },
  {
   "cell_type": "code",
   "execution_count": 7,
   "metadata": {
    "id": "uefqnRqk9sjS",
    "ExecuteTime": {
     "end_time": "2024-01-12T09:22:04.765269Z",
     "start_time": "2024-01-12T09:22:04.748752700Z"
    }
   },
   "outputs": [
    {
     "name": "stdout",
     "output_type": "stream",
     "text": [
      "RMSE первой модели равно: 316\n",
      "RMSE второй модели равно: 353\n"
     ]
    }
   ],
   "source": [
    "###Распечатайте значения RMSE для обеих моделей. Используйте эти значения для ответа на задание шага 6.\n",
    "\n",
    "print(f\"RMSE первой модели равно: {int(error_1)}\")\n",
    "print(f\"RMSE второй модели равно: {int(error_2)}\")"
   ],
   "id": "161adb30151cb328"
  },
  {
   "cell_type": "markdown",
   "metadata": {
    "id": "_4jKIu679sjT"
   },
   "source": [
    "Что можете сказать про модели первого и второго гнома? Чья оказалась лучше с точки зрения **MSE**? Давайте теперь замерим значения средней абсолютной ошибки, то есть **MAE**:\n",
    "\n",
    "$$\n",
    "MAE = \\frac{1}{n} \\sum_i^n |a(x_i)-y_i|\n",
    "$$\n",
    "\n",
    "Рассчитайте MAE для обеих моделей."
   ],
   "id": "8e5ff92b51288820"
  },
  {
   "cell_type": "code",
   "execution_count": 8,
   "metadata": {
    "id": "Y8smKMFb9sjU",
    "ExecuteTime": {
     "end_time": "2024-01-12T09:22:08.658662900Z",
     "start_time": "2024-01-12T09:22:08.627274700Z"
    }
   },
   "outputs": [],
   "source": [
    "### Your code is here\n",
    "absolute_error_1=abs(df['prediction_1'] - df['trip_duration']).mean()\n",
    "absolute_error_2=abs(df['prediction_2'] - df['trip_duration']).mean()"
   ],
   "id": "c2cdfb4e65c45524"
  },
  {
   "cell_type": "code",
   "execution_count": 9,
   "metadata": {
    "id": "JVmfwcBR9sjU",
    "ExecuteTime": {
     "end_time": "2024-01-12T09:22:09.204515Z",
     "start_time": "2024-01-12T09:22:09.194995700Z"
    }
   },
   "outputs": [
    {
     "name": "stdout",
     "output_type": "stream",
     "text": [
      "MAE первой модели равно: 300\n",
      "MAE второй модели равно: 281\n"
     ]
    }
   ],
   "source": [
    "###Распечатайте значения MAE для обеих моделей. Используйте эти значения для ответа на задание шага 7.\n",
    "print(f\"MAE первой модели равно: {int(absolute_error_1)}\")\n",
    "print(f\"MAE второй модели равно: {int(absolute_error_2)}\")"
   ],
   "id": "71349732f1ce73e3"
  },
  {
   "cell_type": "markdown",
   "metadata": {
    "id": "4cT9-FyD9sjV"
   },
   "source": [
    "Если бы Вас попросили выбрать лучшую модель среди предложенных, на какой Вы бы остановились? Если брать за финальную метрику **MAE**, то поменяли бы Вы решение?\n",
    "\n",
    "Конечно! Мы наблюдаем ту самую ситуацию, когда, имея 2 разные модели с разными предсказаниями, финальный выбор однозначно сделать нельзя, например, сказав *\"Первая модель в среднем и в общем лучше второй!\"*. **Нет!** Все зависит от формы ошибки, которую мы выбираем. Иными словами, от вида той самой функции, которая наказывает наши модели и замеряет качество их прогнозов.\n",
    "\n",
    "Ситуация, когда **MAE** и **MSE**, выбирая между 2-х,  указывают на разные модели, знакома нам еще из лекции. \n",
    "\n",
    "Такое может происходить, когда в одной из моделей ошибка, в среднем, независимо от порядка чисел, чуть-чуть лучше, чем во второй. Но при этом если первая модель и ошибается, то куда суровее второй. \n",
    "\n",
    "Представьте: Петя и Миша играют в дартс. Петя в 9/10 случаев попадает в яблочко, но каждый 10-ый раз кидает дротик в потолок. Миша же, хоть и не так часто забрасывает в центр (всего 6/10), но при этом, оставшиеся 4 попытки реализует не совсем фатально: попадает всего-лишь немного дальше яблочка. \n",
    "\n",
    "В таком выдуманном сценарии Петя будет лучше с точки зрения **MAE**, а Миша - с точки зрения **MSE**, так как не допускает фатальных ошибок, хоть и в среднем набирает меньше очков. \n",
    "\n",
    "Давайте убедимся в том, что фатальных ошибок у второй модели больше. \n",
    "\n",
    "Посчитайте, в скольки случаях предсказания отклоняются от ответа более, чем на **500**, для первой и второй моделей!\n",
    "\n",
    "Назовите переменные *counter_1* и *counter_2*"
   ],
   "id": "744e36c628df0e56"
  },
  {
   "cell_type": "code",
   "execution_count": 10,
   "outputs": [
    {
     "data": {
      "text/plain": "           vendor_id      pickup_datetime  passenger_count  \\\nid                                                           \nid2875421          1  2016-03-14 17:24:55       930.399753   \nid2377394          0  2016-06-12 00:43:35       930.399753   \nid3858529          1  2016-01-19 11:35:24       930.399753   \nid3504673          1  2016-04-06 19:32:31       930.399753   \nid2181028          1  2016-03-26 13:30:55       930.399753   \n\n           store_and_fwd_flag  trip_duration  distance_km  prediction_1  \\\nid                                                                        \nid2875421                   0          455.0     1.500479    578.156451   \nid2377394                   0          663.0     1.807119    962.657188   \nid3858529                   0         2124.0     6.392080   2546.180515   \nid3504673                   0          429.0     1.487155    737.926214   \nid2181028                   0          435.0     1.189925    666.070794   \n\n           prediction_2  \nid                       \nid2875421    355.270710  \nid2377394    674.295781  \nid3858529   2422.132431  \nid3504673    795.992362  \nid2181028     -4.158492  ",
      "text/html": "<div>\n<style scoped>\n    .dataframe tbody tr th:only-of-type {\n        vertical-align: middle;\n    }\n\n    .dataframe tbody tr th {\n        vertical-align: top;\n    }\n\n    .dataframe thead th {\n        text-align: right;\n    }\n</style>\n<table border=\"1\" class=\"dataframe\">\n  <thead>\n    <tr style=\"text-align: right;\">\n      <th></th>\n      <th>vendor_id</th>\n      <th>pickup_datetime</th>\n      <th>passenger_count</th>\n      <th>store_and_fwd_flag</th>\n      <th>trip_duration</th>\n      <th>distance_km</th>\n      <th>prediction_1</th>\n      <th>prediction_2</th>\n    </tr>\n    <tr>\n      <th>id</th>\n      <th></th>\n      <th></th>\n      <th></th>\n      <th></th>\n      <th></th>\n      <th></th>\n      <th></th>\n      <th></th>\n    </tr>\n  </thead>\n  <tbody>\n    <tr>\n      <th>id2875421</th>\n      <td>1</td>\n      <td>2016-03-14 17:24:55</td>\n      <td>930.399753</td>\n      <td>0</td>\n      <td>455.0</td>\n      <td>1.500479</td>\n      <td>578.156451</td>\n      <td>355.270710</td>\n    </tr>\n    <tr>\n      <th>id2377394</th>\n      <td>0</td>\n      <td>2016-06-12 00:43:35</td>\n      <td>930.399753</td>\n      <td>0</td>\n      <td>663.0</td>\n      <td>1.807119</td>\n      <td>962.657188</td>\n      <td>674.295781</td>\n    </tr>\n    <tr>\n      <th>id3858529</th>\n      <td>1</td>\n      <td>2016-01-19 11:35:24</td>\n      <td>930.399753</td>\n      <td>0</td>\n      <td>2124.0</td>\n      <td>6.392080</td>\n      <td>2546.180515</td>\n      <td>2422.132431</td>\n    </tr>\n    <tr>\n      <th>id3504673</th>\n      <td>1</td>\n      <td>2016-04-06 19:32:31</td>\n      <td>930.399753</td>\n      <td>0</td>\n      <td>429.0</td>\n      <td>1.487155</td>\n      <td>737.926214</td>\n      <td>795.992362</td>\n    </tr>\n    <tr>\n      <th>id2181028</th>\n      <td>1</td>\n      <td>2016-03-26 13:30:55</td>\n      <td>930.399753</td>\n      <td>0</td>\n      <td>435.0</td>\n      <td>1.189925</td>\n      <td>666.070794</td>\n      <td>-4.158492</td>\n    </tr>\n  </tbody>\n</table>\n</div>"
     },
     "execution_count": 10,
     "metadata": {},
     "output_type": "execute_result"
    }
   ],
   "source": [
    "df.head()"
   ],
   "metadata": {
    "collapsed": false,
    "ExecuteTime": {
     "end_time": "2024-01-12T09:27:42.935827500Z",
     "start_time": "2024-01-12T09:27:42.917309500Z"
    }
   },
   "id": "8c587c93ae76e604"
  },
  {
   "cell_type": "code",
   "execution_count": 44,
   "metadata": {
    "id": "wOwMclmm9sjV",
    "ExecuteTime": {
     "end_time": "2024-01-12T20:52:43.295606100Z",
     "start_time": "2024-01-12T20:52:43.220674600Z"
    }
   },
   "outputs": [],
   "source": [
    "### Your code is here\n",
    "counter_1=df[abs(df['prediction_1'] - df['trip_duration']) > 500].shape[0]\n",
    "counter_2=df[abs(df['prediction_2'] - df['trip_duration']) > 500].shape[0]"
   ],
   "id": "33cca2dc4eeabf33"
  },
  {
   "cell_type": "code",
   "execution_count": 45,
   "outputs": [
    {
     "data": {
      "text/plain": "228789"
     },
     "execution_count": 45,
     "metadata": {},
     "output_type": "execute_result"
    }
   ],
   "source": [
    "counter_2"
   ],
   "metadata": {
    "collapsed": false,
    "ExecuteTime": {
     "end_time": "2024-01-12T20:52:44.114450500Z",
     "start_time": "2024-01-12T20:52:44.111936700Z"
    }
   },
   "id": "8c924261b45c5603"
  },
  {
   "cell_type": "code",
   "execution_count": 46,
   "metadata": {
    "id": "D9Q7WLOO9sjV",
    "ExecuteTime": {
     "end_time": "2024-01-12T20:52:44.809685700Z",
     "start_time": "2024-01-12T20:52:44.806674300Z"
    }
   },
   "outputs": [
    {
     "name": "stdout",
     "output_type": "stream",
     "text": [
      "Количество отклонений >= 500 от верного ответа для первой модели равно: 33061\n",
      "Количество отклонений >= 500 от верного ответа для второй модели равно: 228789\n"
     ]
    }
   ],
   "source": [
    "###Распечатайте значения для обеих моделей. Используйте эти значения для ответа на задание шага 8.\n",
    "print(f\"Количество отклонений >= 500 от верного ответа для первой модели равно: {counter_1}\")\n",
    "print(f\"Количество отклонений >= 500 от верного ответа для второй модели равно: {counter_2}\")"
   ],
   "id": "2089e0667579f3ca"
  },
  {
   "cell_type": "markdown",
   "metadata": {
    "id": "hn1-bXxK9sjV"
   },
   "source": [
    "**Несимметричные метрики**\n",
    "\n",
    "Зачастую, чтобы выбрать среди всего многообразия моделей, мы можем использовать несимметричные метрики. \n",
    "\n",
    "**MSE** и **MAE** относятся к симметричным. Они одинаково наказывают модель как за перепредсказание, так и за недопредсказание. Ошибки *+2* и *-2* переводятся **MSE** и **MAE** в одинаковую меру: **4** в первом случае и **2** во втором.\n",
    "\n",
    "В действительности же, можно придумать целый ряд задач, когда лучше выбирать несимметричную метрику.\n",
    "\n",
    "Представьте, что мы - дистрибьютор инсулина, и нам нужно построить модель, которая оптимизирует поставки. В таком случае кажется, что поставить лекарства на 2 единицы больше и на 2 единицы меньше - совершенно разные сценарии и разная интерпретация катастрофичности ошибки. \n",
    "\n",
    "В первом случае мы можем потерять немного прибыли, а во втором - лишить пациента жизненно важного лекарства. Поэтому хотелось бы научиться еще и по-разному оценивать *недо- и перепредсказания*. Для этого и используют несимметричные метрики! Одну из них предлагаю Вам посчитать ниже."
   ],
   "id": "411c8d7778430ed2"
  },
  {
   "cell_type": "markdown",
   "metadata": {
    "id": "q5y4RARv9sjW"
   },
   "source": [
    "Рассчитайте **RMSLE**. Придумайте, как проверить характер несимметричности данной метрики: за что она наказывает больше - за перепредсказания или за недопредсказания? Это нужно будет в тестовом теоретическом задании.\n",
    "\n",
    "$$\n",
    "\\text{RMSLE}(X, y, a) = \\sqrt{\\frac{1}{\\ell}\\sum_{i=1}^{\\ell} \\big(\\log{(y_i + 1)} - \\log{(a(x_i) + 1)}\\big)^2}\n",
    "$$\n",
    "\n",
    "Для взятия натурального логарифма используйте библиотеку **math**\n",
    "\n",
    "P.S. Очевидно, что для некоторых отрицательных предсказаний, формула не будет работать, так как логарифм от отрицательных значений взять нельзя. Поэтому давайте подкорректируем наши прогнозы: все отрицательные числа переведем в нули (лучше уж в нашей задаче предсказать *ноль секунд*, чем *минус 100 секунд*)\n",
    "\n",
    "Переменные с метриками назовите *rmsle_1*, *rmsle_2*. Округлите их до 3 знаков после точки."
   ],
   "id": "472fb01d9aaed852"
  },
  {
   "cell_type": "code",
   "execution_count": 47,
   "metadata": {
    "id": "Ze18m7x69sjW",
    "ExecuteTime": {
     "end_time": "2024-01-12T21:04:59.733258800Z",
     "start_time": "2024-01-12T21:04:59.267568400Z"
    }
   },
   "outputs": [],
   "source": [
    "### Замените все отрицательные предсказания на 0\n",
    "### Your code is here\n",
    "df['prediction_1'] = df['prediction_1'].apply(lambda x: 0 if x < 0 else x)\n",
    "df['prediction_2'] = df['prediction_2'].apply(lambda x: 0 if x < 0 else x)"
   ],
   "id": "82ddea5ba09071a7"
  },
  {
   "cell_type": "code",
   "execution_count": null,
   "outputs": [],
   "source": [
    "#np.sqrt(np.mean((np.log1p(y_true) - np.log1p(y_pred))**2))\n",
    "#df['rmsle_1'] = (1/len(df) * np.sum((np.log(df['trip_duration'] + 1) - np.log(df['prediction_1'] + 1))**2))**0.5\n",
    "#import math\n",
    "\n",
    "# Assuming df is a DataFrame with 'trip_duration' and 'prediction_1' columns\n",
    "#rmsle_1 = math.sqrt((1 / len(df)) * sum((math.log(x + 1) - math.log(y + 1))**2 for x, y in zip(df['trip_duration'], df['prediction_1'])))\n"
   ],
   "metadata": {
    "collapsed": false
   },
   "id": "1adaff887e204f4"
  },
  {
   "cell_type": "code",
   "execution_count": 56,
   "metadata": {
    "id": "14Z6JTog9sjX",
    "ExecuteTime": {
     "end_time": "2024-01-12T21:37:07.456193800Z",
     "start_time": "2024-01-12T21:37:05.843036Z"
    }
   },
   "outputs": [],
   "source": [
    "from math import log\n",
    "rmsle_1=(1/len(df)*sum((log(x + 1) - log(y + 1))**2 for x, y in zip(df['trip_duration'], df['prediction_1'])))**0.5\n",
    "rmsle_2=(1/len(df)*sum((log(x + 1) - log(y + 1))**2 for x, y in zip(df['trip_duration'], df['prediction_2'])))**0.5\n",
    "### Your code is here"
   ],
   "id": "3db5a2e00fb222f0"
  },
  {
   "cell_type": "code",
   "execution_count": 57,
   "metadata": {
    "id": "A_IA-u2d9sjX",
    "ExecuteTime": {
     "end_time": "2024-01-12T21:37:09.775310500Z",
     "start_time": "2024-01-12T21:37:09.770299400Z"
    }
   },
   "outputs": [
    {
     "name": "stdout",
     "output_type": "stream",
     "text": [
      "RMSLE первой модели равно: 0.553758177459037\n",
      "RMSLE второй модели равно: 1.5564340528341496\n"
     ]
    }
   ],
   "source": [
    "###Распечатайте значения для обеих моделей. Используйте эти значения для ответа на задание шага 9.\n",
    "print(f\"RMSLE первой модели равно: {rmsle_1}\")\n",
    "print(f\"RMSLE второй модели равно: {rmsle_2}\")"
   ],
   "id": "966e506881b713af"
  },
  {
   "cell_type": "markdown",
   "metadata": {
    "id": "AlimEbB_9sjX"
   },
   "source": [
    "Посчитайте, для какого количества объектов первая модель сделала перепредсказания и недопредсказания\n",
    "\n",
    "Аналогичный расчет проведите для первой модели и недопредсказания.\n",
    "\n",
    "P.S. оставьте колонку с предсказанием такой, какой она оказалась после замены отрицательных значений\n",
    "\n",
    "Счетчики перепредсказаний и недопредсказаний назовите *over_predicted_1* и *under_predicted_1*"
   ],
   "id": "3e3066bd7adbdad7"
  },
  {
   "cell_type": "code",
   "execution_count": 58,
   "outputs": [
    {
     "data": {
      "text/plain": "           vendor_id      pickup_datetime  passenger_count  \\\nid                                                           \nid2875421          1  2016-03-14 17:24:55       930.399753   \nid2377394          0  2016-06-12 00:43:35       930.399753   \nid3858529          1  2016-01-19 11:35:24       930.399753   \nid3504673          1  2016-04-06 19:32:31       930.399753   \nid2181028          1  2016-03-26 13:30:55       930.399753   \n\n           store_and_fwd_flag  trip_duration  distance_km  prediction_1  \\\nid                                                                        \nid2875421                   0          455.0     1.500479    578.156451   \nid2377394                   0          663.0     1.807119    962.657188   \nid3858529                   0         2124.0     6.392080   2546.180515   \nid3504673                   0          429.0     1.487155    737.926214   \nid2181028                   0          435.0     1.189925    666.070794   \n\n           prediction_2  prediction_diff  \nid                                        \nid2875421    355.270710       222.885740  \nid2377394    674.295781       288.361407  \nid3858529   2422.132431       124.048084  \nid3504673    795.992362        58.066149  \nid2181028      0.000000       670.229286  ",
      "text/html": "<div>\n<style scoped>\n    .dataframe tbody tr th:only-of-type {\n        vertical-align: middle;\n    }\n\n    .dataframe tbody tr th {\n        vertical-align: top;\n    }\n\n    .dataframe thead th {\n        text-align: right;\n    }\n</style>\n<table border=\"1\" class=\"dataframe\">\n  <thead>\n    <tr style=\"text-align: right;\">\n      <th></th>\n      <th>vendor_id</th>\n      <th>pickup_datetime</th>\n      <th>passenger_count</th>\n      <th>store_and_fwd_flag</th>\n      <th>trip_duration</th>\n      <th>distance_km</th>\n      <th>prediction_1</th>\n      <th>prediction_2</th>\n      <th>prediction_diff</th>\n    </tr>\n    <tr>\n      <th>id</th>\n      <th></th>\n      <th></th>\n      <th></th>\n      <th></th>\n      <th></th>\n      <th></th>\n      <th></th>\n      <th></th>\n      <th></th>\n    </tr>\n  </thead>\n  <tbody>\n    <tr>\n      <th>id2875421</th>\n      <td>1</td>\n      <td>2016-03-14 17:24:55</td>\n      <td>930.399753</td>\n      <td>0</td>\n      <td>455.0</td>\n      <td>1.500479</td>\n      <td>578.156451</td>\n      <td>355.270710</td>\n      <td>222.885740</td>\n    </tr>\n    <tr>\n      <th>id2377394</th>\n      <td>0</td>\n      <td>2016-06-12 00:43:35</td>\n      <td>930.399753</td>\n      <td>0</td>\n      <td>663.0</td>\n      <td>1.807119</td>\n      <td>962.657188</td>\n      <td>674.295781</td>\n      <td>288.361407</td>\n    </tr>\n    <tr>\n      <th>id3858529</th>\n      <td>1</td>\n      <td>2016-01-19 11:35:24</td>\n      <td>930.399753</td>\n      <td>0</td>\n      <td>2124.0</td>\n      <td>6.392080</td>\n      <td>2546.180515</td>\n      <td>2422.132431</td>\n      <td>124.048084</td>\n    </tr>\n    <tr>\n      <th>id3504673</th>\n      <td>1</td>\n      <td>2016-04-06 19:32:31</td>\n      <td>930.399753</td>\n      <td>0</td>\n      <td>429.0</td>\n      <td>1.487155</td>\n      <td>737.926214</td>\n      <td>795.992362</td>\n      <td>58.066149</td>\n    </tr>\n    <tr>\n      <th>id2181028</th>\n      <td>1</td>\n      <td>2016-03-26 13:30:55</td>\n      <td>930.399753</td>\n      <td>0</td>\n      <td>435.0</td>\n      <td>1.189925</td>\n      <td>666.070794</td>\n      <td>0.000000</td>\n      <td>670.229286</td>\n    </tr>\n  </tbody>\n</table>\n</div>"
     },
     "execution_count": 58,
     "metadata": {},
     "output_type": "execute_result"
    }
   ],
   "source": [
    "df.head()"
   ],
   "metadata": {
    "collapsed": false,
    "ExecuteTime": {
     "end_time": "2024-01-12T21:41:47.174783200Z",
     "start_time": "2024-01-12T21:41:47.165263700Z"
    }
   },
   "id": "f9c9747d107a3746"
  },
  {
   "cell_type": "code",
   "execution_count": 67,
   "metadata": {
    "id": "3JJUHCQU9sjY",
    "ExecuteTime": {
     "end_time": "2024-01-12T21:46:41.915699600Z",
     "start_time": "2024-01-12T21:46:41.729909300Z"
    }
   },
   "outputs": [],
   "source": [
    "### Your code is here\n",
    "over_predicted_1=df[df['prediction_1'] - df['trip_duration'] > 0].shape[0]\n",
    "under_predicted_1=df[df['prediction_1'] - df['trip_duration'] < 0].shape[0]"
   ],
   "id": "40148f7b45b8556b"
  },
  {
   "cell_type": "code",
   "execution_count": 68,
   "metadata": {
    "id": "2MwyPvvM9sjY",
    "ExecuteTime": {
     "end_time": "2024-01-12T21:46:42.632556500Z",
     "start_time": "2024-01-12T21:46:42.630555300Z"
    }
   },
   "outputs": [
    {
     "name": "stdout",
     "output_type": "stream",
     "text": [
      "Предсказания первой модели оказались больше действительных в 1456721 случаях\n",
      "Предсказания первой модели оказались меньше действительных в 1923 случаях\n"
     ]
    }
   ],
   "source": [
    "###Распечатайте значения для обеих моделей. Используйте эти значения для ответа на задание шага 10.\n",
    "print(f\"Предсказания первой модели оказались больше действительных в {over_predicted_1} случаях\")\n",
    "print(f\"Предсказания первой модели оказались меньше действительных в {under_predicted_1} случаях\")"
   ],
   "id": "a14d11646c006267"
  },
  {
   "cell_type": "markdown",
   "metadata": {
    "id": "YQ6Cds9a9sjY"
   },
   "source": [
    "Аналогично для второй модели\n",
    "\n",
    "\n",
    "Счетчики перепредсказаний и недопредсказаний назовите *over_predicted_2* и *under_predicted_2*"
   ],
   "id": "88dbfc593570c926"
  },
  {
   "cell_type": "code",
   "execution_count": 69,
   "metadata": {
    "id": "xphLYA3C9sjY",
    "ExecuteTime": {
     "end_time": "2024-01-12T21:47:42.139733900Z",
     "start_time": "2024-01-12T21:47:42.020332400Z"
    }
   },
   "outputs": [],
   "source": [
    "### Your code is here\n",
    "over_predicted_2=df[df['prediction_2'] - df['trip_duration'] > 0].shape[0]\n",
    "under_predicted_2=len(df)-over_predicted_2"
   ],
   "id": "77f0ba9c561c60ee"
  },
  {
   "cell_type": "code",
   "execution_count": 70,
   "metadata": {
    "id": "x8ee6qxn9sjZ",
    "ExecuteTime": {
     "end_time": "2024-01-12T21:47:42.721848100Z",
     "start_time": "2024-01-12T21:47:42.718337100Z"
    }
   },
   "outputs": [
    {
     "name": "stdout",
     "output_type": "stream",
     "text": [
      "Предсказания второй модели оказались больше действительных в 811778 случаях\n",
      "Предсказания второй модели оказались меньше действительных в 646866 случаях\n"
     ]
    }
   ],
   "source": [
    "###Распечатайте значения для обеих моделей. Используйте эти значения для ответа на задание шага 11.\n",
    "print(f\"Предсказания второй модели оказались больше действительных в {over_predicted_2} случаях\")\n",
    "print(f\"Предсказания второй модели оказались меньше действительных в {under_predicted_2} случаях\")"
   ],
   "id": "251e21557219f19"
  },
  {
   "cell_type": "markdown",
   "metadata": {
    "id": "QfTRmevE9sjZ"
   },
   "source": [
    "Сравните две модели заново. Согласуется ли полученный результат с подсчетом **RMSLE** ранее?"
   ],
   "id": "27b6387f506e031d"
  }
 ],
 "metadata": {
  "colab": {
   "collapsed_sections": [],
   "name": "HW_2.ipynb",
   "provenance": []
  },
  "kernelspec": {
   "display_name": "Python 3",
   "language": "python",
   "name": "python3"
  },
  "language_info": {
   "codemirror_mode": {
    "name": "ipython",
    "version": 3
   },
   "file_extension": ".py",
   "mimetype": "text/x-python",
   "name": "python",
   "nbconvert_exporter": "python",
   "pygments_lexer": "ipython3",
   "version": "3.7.3"
  }
 },
 "nbformat": 4,
 "nbformat_minor": 5
}
