{
 "cells": [
  {
   "cell_type": "markdown",
   "metadata": {},
   "source": [
    "## В этом домашнем задании вы сделаете первые шаги в мире линейной бинарной классификации!"
   ],
   "id": "dafb78bbeeb78e3f"
  },
  {
   "cell_type": "code",
   "execution_count": 1,
   "metadata": {
    "ExecuteTime": {
     "end_time": "2024-02-05T08:23:17.272988800Z",
     "start_time": "2024-02-05T08:23:16.370135100Z"
    }
   },
   "outputs": [],
   "source": [
    "import pandas as pd\n",
    "import numpy as np\n",
    "import warnings"
   ],
   "id": "e91c099c4f60a02"
  },
  {
   "cell_type": "markdown",
   "metadata": {},
   "source": [
    "#### Задание 1\n",
    "\n",
    "Мы будем работать с данными **Microsoft Malware Detection**\n",
    "\n",
    "Таргетом будет последний столбец `HasDetection`, который принимает значения $\\{0,\\, 1\\}$ в случае отсутствия или наличия вируса на компьютере соответственно. Признаками будут выступать всевозможные характеристики компьютера."
   ],
   "id": "2389728bfe0b61d1"
  },
  {
   "cell_type": "code",
   "execution_count": 2,
   "metadata": {
    "ExecuteTime": {
     "end_time": "2024-02-05T08:23:21.232208400Z",
     "start_time": "2024-02-05T08:23:19.125368800Z"
    }
   },
   "outputs": [
    {
     "name": "stderr",
     "output_type": "stream",
     "text": [
      "C:\\Temp\\ipykernel_28664\\40742158.py:1: DtypeWarning: Columns (28) have mixed types. Specify dtype option on import or set low_memory=False.\n",
      "  data = pd.read_csv('train.csv')\n"
     ]
    }
   ],
   "source": [
    "data = pd.read_csv('train.csv')"
   ],
   "id": "a8df161d64272ed0"
  },
  {
   "cell_type": "code",
   "execution_count": 3,
   "metadata": {
    "ExecuteTime": {
     "end_time": "2024-02-05T08:23:21.263090900Z",
     "start_time": "2024-02-05T08:23:21.233201700Z"
    }
   },
   "outputs": [
    {
     "data": {
      "text/plain": "                  MachineIdentifier   ProductName EngineVersion  \\\n0  0000028988387b115f69f31a3bf04f09  win8defender   1.1.15100.1   \n1  000007535c3f730efa9ea0b7ef1bd645  win8defender   1.1.14600.4   \n2  000007905a28d863f6d0d597892cd692  win8defender   1.1.15100.1   \n3  00000b11598a75ea8ba1beea8459149f  win8defender   1.1.15100.1   \n4  000014a5f00daa18e76b81417eeb99fc  win8defender   1.1.15100.1   \n\n        AppVersion  AvSigVersion  IsBeta  RtpStateBitfield  IsSxsPassiveMode  \\\n0  4.18.1807.18075  1.273.1735.0       0               7.0                 0   \n1     4.13.17134.1    1.263.48.0       0               7.0                 0   \n2  4.18.1807.18075  1.273.1341.0       0               7.0                 0   \n3  4.18.1807.18075  1.273.1527.0       0               7.0                 0   \n4  4.18.1807.18075  1.273.1379.0       0               7.0                 0   \n\n   DefaultBrowsersIdentifier  AVProductStatesIdentifier  ...  \\\n0                        NaN                    53447.0  ...   \n1                        NaN                    53447.0  ...   \n2                        NaN                    53447.0  ...   \n3                        NaN                    53447.0  ...   \n4                        NaN                    53447.0  ...   \n\n   Census_FirmwareVersionIdentifier  Census_IsSecureBootEnabled  \\\n0                           36144.0                           0   \n1                           57858.0                           0   \n2                           52682.0                           0   \n3                           20050.0                           0   \n4                           19844.0                           0   \n\n   Census_IsWIMBootEnabled  Census_IsVirtualDevice  Census_IsTouchEnabled  \\\n0                      NaN                     0.0                      0   \n1                      NaN                     0.0                      0   \n2                      NaN                     0.0                      0   \n3                      NaN                     0.0                      0   \n4                      0.0                     0.0                      0   \n\n   Census_IsPenCapable  Census_IsAlwaysOnAlwaysConnectedCapable  Wdft_IsGamer  \\\n0                    0                                      0.0           0.0   \n1                    0                                      0.0           0.0   \n2                    0                                      0.0           0.0   \n3                    0                                      0.0           0.0   \n4                    0                                      0.0           0.0   \n\n  Wdft_RegionIdentifier HasDetections  \n0                  10.0             0  \n1                   8.0             0  \n2                   3.0             0  \n3                   3.0             1  \n4                   1.0             1  \n\n[5 rows x 83 columns]",
      "text/html": "<div>\n<style scoped>\n    .dataframe tbody tr th:only-of-type {\n        vertical-align: middle;\n    }\n\n    .dataframe tbody tr th {\n        vertical-align: top;\n    }\n\n    .dataframe thead th {\n        text-align: right;\n    }\n</style>\n<table border=\"1\" class=\"dataframe\">\n  <thead>\n    <tr style=\"text-align: right;\">\n      <th></th>\n      <th>MachineIdentifier</th>\n      <th>ProductName</th>\n      <th>EngineVersion</th>\n      <th>AppVersion</th>\n      <th>AvSigVersion</th>\n      <th>IsBeta</th>\n      <th>RtpStateBitfield</th>\n      <th>IsSxsPassiveMode</th>\n      <th>DefaultBrowsersIdentifier</th>\n      <th>AVProductStatesIdentifier</th>\n      <th>...</th>\n      <th>Census_FirmwareVersionIdentifier</th>\n      <th>Census_IsSecureBootEnabled</th>\n      <th>Census_IsWIMBootEnabled</th>\n      <th>Census_IsVirtualDevice</th>\n      <th>Census_IsTouchEnabled</th>\n      <th>Census_IsPenCapable</th>\n      <th>Census_IsAlwaysOnAlwaysConnectedCapable</th>\n      <th>Wdft_IsGamer</th>\n      <th>Wdft_RegionIdentifier</th>\n      <th>HasDetections</th>\n    </tr>\n  </thead>\n  <tbody>\n    <tr>\n      <th>0</th>\n      <td>0000028988387b115f69f31a3bf04f09</td>\n      <td>win8defender</td>\n      <td>1.1.15100.1</td>\n      <td>4.18.1807.18075</td>\n      <td>1.273.1735.0</td>\n      <td>0</td>\n      <td>7.0</td>\n      <td>0</td>\n      <td>NaN</td>\n      <td>53447.0</td>\n      <td>...</td>\n      <td>36144.0</td>\n      <td>0</td>\n      <td>NaN</td>\n      <td>0.0</td>\n      <td>0</td>\n      <td>0</td>\n      <td>0.0</td>\n      <td>0.0</td>\n      <td>10.0</td>\n      <td>0</td>\n    </tr>\n    <tr>\n      <th>1</th>\n      <td>000007535c3f730efa9ea0b7ef1bd645</td>\n      <td>win8defender</td>\n      <td>1.1.14600.4</td>\n      <td>4.13.17134.1</td>\n      <td>1.263.48.0</td>\n      <td>0</td>\n      <td>7.0</td>\n      <td>0</td>\n      <td>NaN</td>\n      <td>53447.0</td>\n      <td>...</td>\n      <td>57858.0</td>\n      <td>0</td>\n      <td>NaN</td>\n      <td>0.0</td>\n      <td>0</td>\n      <td>0</td>\n      <td>0.0</td>\n      <td>0.0</td>\n      <td>8.0</td>\n      <td>0</td>\n    </tr>\n    <tr>\n      <th>2</th>\n      <td>000007905a28d863f6d0d597892cd692</td>\n      <td>win8defender</td>\n      <td>1.1.15100.1</td>\n      <td>4.18.1807.18075</td>\n      <td>1.273.1341.0</td>\n      <td>0</td>\n      <td>7.0</td>\n      <td>0</td>\n      <td>NaN</td>\n      <td>53447.0</td>\n      <td>...</td>\n      <td>52682.0</td>\n      <td>0</td>\n      <td>NaN</td>\n      <td>0.0</td>\n      <td>0</td>\n      <td>0</td>\n      <td>0.0</td>\n      <td>0.0</td>\n      <td>3.0</td>\n      <td>0</td>\n    </tr>\n    <tr>\n      <th>3</th>\n      <td>00000b11598a75ea8ba1beea8459149f</td>\n      <td>win8defender</td>\n      <td>1.1.15100.1</td>\n      <td>4.18.1807.18075</td>\n      <td>1.273.1527.0</td>\n      <td>0</td>\n      <td>7.0</td>\n      <td>0</td>\n      <td>NaN</td>\n      <td>53447.0</td>\n      <td>...</td>\n      <td>20050.0</td>\n      <td>0</td>\n      <td>NaN</td>\n      <td>0.0</td>\n      <td>0</td>\n      <td>0</td>\n      <td>0.0</td>\n      <td>0.0</td>\n      <td>3.0</td>\n      <td>1</td>\n    </tr>\n    <tr>\n      <th>4</th>\n      <td>000014a5f00daa18e76b81417eeb99fc</td>\n      <td>win8defender</td>\n      <td>1.1.15100.1</td>\n      <td>4.18.1807.18075</td>\n      <td>1.273.1379.0</td>\n      <td>0</td>\n      <td>7.0</td>\n      <td>0</td>\n      <td>NaN</td>\n      <td>53447.0</td>\n      <td>...</td>\n      <td>19844.0</td>\n      <td>0</td>\n      <td>0.0</td>\n      <td>0.0</td>\n      <td>0</td>\n      <td>0</td>\n      <td>0.0</td>\n      <td>0.0</td>\n      <td>1.0</td>\n      <td>1</td>\n    </tr>\n  </tbody>\n</table>\n<p>5 rows × 83 columns</p>\n</div>"
     },
     "execution_count": 3,
     "metadata": {},
     "output_type": "execute_result"
    }
   ],
   "source": [
    "data.head()"
   ],
   "id": "4c2eb77e23c6619d"
  },
  {
   "cell_type": "markdown",
   "metadata": {},
   "source": [
    "\n",
    "Удалите константные признаки и признаки `ProductName` `MachineIdentifier`\n"
   ],
   "id": "10bc92531bf754a4"
  },
  {
   "cell_type": "code",
   "execution_count": 4,
   "outputs": [],
   "source": [
    "# for col in data.columns:\n",
    "#     unique_values_count = len(data[col].unique())\n",
    "#     print(f\"Unique values in column '{col}': {unique_values_count}\")"
   ],
   "metadata": {
    "collapsed": false,
    "ExecuteTime": {
     "end_time": "2024-02-05T08:23:33.798343600Z",
     "start_time": "2024-02-05T08:23:33.793345800Z"
    }
   },
   "id": "5cdfd7697473a5c4"
  },
  {
   "cell_type": "code",
   "execution_count": 5,
   "outputs": [],
   "source": [
    "# unique_counts = data.nunique()\n",
    "# single_unique_columns = unique_counts[unique_counts == 1].index.tolist()\n",
    "# print(single_unique_columns)"
   ],
   "metadata": {
    "collapsed": false,
    "ExecuteTime": {
     "end_time": "2024-02-05T08:23:40.206292400Z",
     "start_time": "2024-02-05T08:23:40.191293800Z"
    }
   },
   "id": "24a4b8e57bda1565"
  },
  {
   "cell_type": "code",
   "execution_count": 6,
   "outputs": [
    {
     "data": {
      "text/plain": "                       MachineIdentifier   ProductName EngineVersion  \\\ncount                             200000        200000        200000   \nunique                            200000             2            46   \ntop     0000028988387b115f69f31a3bf04f09  win8defender   1.1.15200.1   \nfreq                                   1        197839         86523   \n\n             AppVersion  AvSigVersion   Platform Processor     OsVer  \\\ncount            200000        200000     200000    200000    200000   \nunique               84          5084          4         3        11   \ntop     4.18.1807.18075  1.273.1420.0  windows10       x64  10.0.0.0   \nfreq             115625          2275     193219    181693    193526   \n\n       OsPlatformSubRelease                                OsBuildLab  ...  \\\ncount                200000                                    199999  ...   \nunique                    9                                       410  ...   \ntop                     rs4  17134.1.amd64fre.rs4_release.180410-1804  ...   \nfreq                  87665                                     81812  ...   \n\n       Census_OSVersion Census_OSArchitecture Census_OSBranch  \\\ncount            200000                200000          200000   \nunique              270                     3              15   \ntop      10.0.17134.228                 amd64     rs4_release   \nfreq              31591                181706           89788   \n\n       Census_OSEdition Census_OSSkuName Census_OSInstallTypeName  \\\ncount            200000           200000                   200000   \nunique               20               18                        9   \ntop                Core             CORE               UUPUpgrade   \nfreq              77800            77801                    58521   \n\n       Census_OSWUAutoUpdateOptionsName Census_GenuineStateName  \\\ncount                            200000                  200000   \nunique                                6                       4   \ntop                            FullAuto              IS_GENUINE   \nfreq                              88430                  176738   \n\n       Census_ActivationChannel Census_FlightRing  \ncount                    200000            200000  \nunique                        6                 7  \ntop                      Retail            Retail  \nfreq                     105903            187323  \n\n[4 rows x 30 columns]",
      "text/html": "<div>\n<style scoped>\n    .dataframe tbody tr th:only-of-type {\n        vertical-align: middle;\n    }\n\n    .dataframe tbody tr th {\n        vertical-align: top;\n    }\n\n    .dataframe thead th {\n        text-align: right;\n    }\n</style>\n<table border=\"1\" class=\"dataframe\">\n  <thead>\n    <tr style=\"text-align: right;\">\n      <th></th>\n      <th>MachineIdentifier</th>\n      <th>ProductName</th>\n      <th>EngineVersion</th>\n      <th>AppVersion</th>\n      <th>AvSigVersion</th>\n      <th>Platform</th>\n      <th>Processor</th>\n      <th>OsVer</th>\n      <th>OsPlatformSubRelease</th>\n      <th>OsBuildLab</th>\n      <th>...</th>\n      <th>Census_OSVersion</th>\n      <th>Census_OSArchitecture</th>\n      <th>Census_OSBranch</th>\n      <th>Census_OSEdition</th>\n      <th>Census_OSSkuName</th>\n      <th>Census_OSInstallTypeName</th>\n      <th>Census_OSWUAutoUpdateOptionsName</th>\n      <th>Census_GenuineStateName</th>\n      <th>Census_ActivationChannel</th>\n      <th>Census_FlightRing</th>\n    </tr>\n  </thead>\n  <tbody>\n    <tr>\n      <th>count</th>\n      <td>200000</td>\n      <td>200000</td>\n      <td>200000</td>\n      <td>200000</td>\n      <td>200000</td>\n      <td>200000</td>\n      <td>200000</td>\n      <td>200000</td>\n      <td>200000</td>\n      <td>199999</td>\n      <td>...</td>\n      <td>200000</td>\n      <td>200000</td>\n      <td>200000</td>\n      <td>200000</td>\n      <td>200000</td>\n      <td>200000</td>\n      <td>200000</td>\n      <td>200000</td>\n      <td>200000</td>\n      <td>200000</td>\n    </tr>\n    <tr>\n      <th>unique</th>\n      <td>200000</td>\n      <td>2</td>\n      <td>46</td>\n      <td>84</td>\n      <td>5084</td>\n      <td>4</td>\n      <td>3</td>\n      <td>11</td>\n      <td>9</td>\n      <td>410</td>\n      <td>...</td>\n      <td>270</td>\n      <td>3</td>\n      <td>15</td>\n      <td>20</td>\n      <td>18</td>\n      <td>9</td>\n      <td>6</td>\n      <td>4</td>\n      <td>6</td>\n      <td>7</td>\n    </tr>\n    <tr>\n      <th>top</th>\n      <td>0000028988387b115f69f31a3bf04f09</td>\n      <td>win8defender</td>\n      <td>1.1.15200.1</td>\n      <td>4.18.1807.18075</td>\n      <td>1.273.1420.0</td>\n      <td>windows10</td>\n      <td>x64</td>\n      <td>10.0.0.0</td>\n      <td>rs4</td>\n      <td>17134.1.amd64fre.rs4_release.180410-1804</td>\n      <td>...</td>\n      <td>10.0.17134.228</td>\n      <td>amd64</td>\n      <td>rs4_release</td>\n      <td>Core</td>\n      <td>CORE</td>\n      <td>UUPUpgrade</td>\n      <td>FullAuto</td>\n      <td>IS_GENUINE</td>\n      <td>Retail</td>\n      <td>Retail</td>\n    </tr>\n    <tr>\n      <th>freq</th>\n      <td>1</td>\n      <td>197839</td>\n      <td>86523</td>\n      <td>115625</td>\n      <td>2275</td>\n      <td>193219</td>\n      <td>181693</td>\n      <td>193526</td>\n      <td>87665</td>\n      <td>81812</td>\n      <td>...</td>\n      <td>31591</td>\n      <td>181706</td>\n      <td>89788</td>\n      <td>77800</td>\n      <td>77801</td>\n      <td>58521</td>\n      <td>88430</td>\n      <td>176738</td>\n      <td>105903</td>\n      <td>187323</td>\n    </tr>\n  </tbody>\n</table>\n<p>4 rows × 30 columns</p>\n</div>"
     },
     "execution_count": 6,
     "metadata": {},
     "output_type": "execute_result"
    }
   ],
   "source": [
    "data.describe(include='object')"
   ],
   "metadata": {
    "collapsed": false,
    "ExecuteTime": {
     "end_time": "2024-02-05T08:23:42.978694600Z",
     "start_time": "2024-02-05T08:23:42.324686500Z"
    }
   },
   "id": "e583369234ca77fe"
  },
  {
   "cell_type": "code",
   "execution_count": 7,
   "metadata": {
    "ExecuteTime": {
     "end_time": "2024-02-05T08:23:44.505608100Z",
     "start_time": "2024-02-05T08:23:44.484610Z"
    }
   },
   "outputs": [],
   "source": [
    "# ### Your code is here\n",
    "# data = data.drop(['IsBeta', 'PuaMode', 'Census_IsWIMBootEnabled', 'ProductName', 'MachineIdentifier'], axis=1)"
   ],
   "id": "b055a04969706b59"
  },
  {
   "cell_type": "code",
   "execution_count": 8,
   "outputs": [
    {
     "data": {
      "text/plain": "['IsBeta', 'Census_IsWIMBootEnabled']"
     },
     "execution_count": 8,
     "metadata": {},
     "output_type": "execute_result"
    }
   ],
   "source": [
    "### Your code is here\n",
    "\n",
    "numeric_columns = data.loc[:, data.dtypes != object].columns\n",
    "categorical_columns = data.loc[:, data.dtypes == object].columns\n",
    "\n",
    "from sklearn.feature_selection import VarianceThreshold\n",
    "\n",
    "variance=VarianceThreshold()\n",
    "variance.fit(data[numeric_columns])\n",
    "constant_cols=[x for x in numeric_columns\n",
    "              if x not in variance.get_feature_names_out()]\n",
    "\n",
    "constant_cols\n",
    "#мы выбираем признаки с малой дисперсией, а значит они являются константными"
   ],
   "metadata": {
    "collapsed": false,
    "ExecuteTime": {
     "end_time": "2024-02-05T08:24:52.627214200Z",
     "start_time": "2024-02-05T08:24:51.043229400Z"
    }
   },
   "id": "bed44cd28aa9663f"
  },
  {
   "cell_type": "code",
   "execution_count": 9,
   "outputs": [
    {
     "data": {
      "text/plain": "                       MachineIdentifier   ProductName EngineVersion  \\\n0       0000028988387b115f69f31a3bf04f09  win8defender   1.1.15100.1   \n1       000007535c3f730efa9ea0b7ef1bd645  win8defender   1.1.14600.4   \n2       000007905a28d863f6d0d597892cd692  win8defender   1.1.15100.1   \n3       00000b11598a75ea8ba1beea8459149f  win8defender   1.1.15100.1   \n4       000014a5f00daa18e76b81417eeb99fc  win8defender   1.1.15100.1   \n...                                  ...           ...           ...   \n199995  05c15aa6487f9710169e37c749a10441  win8defender   1.1.15100.1   \n199996  05c15b7b1b0f9f19a3279eee6572b3cd  win8defender   1.1.15200.1   \n199997  05c15e17f59c0e298c06dea9ed3a3ab4  win8defender   1.1.15000.2   \n199998  05c15e1affb2558420062f2d994f90d1  win8defender   1.1.15100.1   \n199999  05c15f9f4d9c60d9f4e60033095d4792  win8defender   1.1.15200.1   \n\n             AppVersion  AvSigVersion  IsBeta  RtpStateBitfield  \\\n0       4.18.1807.18075  1.273.1735.0       0               7.0   \n1          4.13.17134.1    1.263.48.0       0               7.0   \n2       4.18.1807.18075  1.273.1341.0       0               7.0   \n3       4.18.1807.18075  1.273.1527.0       0               7.0   \n4       4.18.1807.18075  1.273.1379.0       0               7.0   \n...                 ...           ...     ...               ...   \n199995  4.18.1807.18075   1.273.894.0       0               0.0   \n199996  4.18.1807.18075  1.275.1234.0       0               7.0   \n199997  4.18.1806.18062  1.271.1198.0       0               7.0   \n199998   4.11.15063.447   1.273.438.0       0               7.0   \n199999  4.18.1807.18075   1.275.445.0       0               7.0   \n\n        IsSxsPassiveMode  DefaultBrowsersIdentifier  \\\n0                      0                        NaN   \n1                      0                        NaN   \n2                      0                        NaN   \n3                      0                        NaN   \n4                      0                        NaN   \n...                  ...                        ...   \n199995                 1                        NaN   \n199996                 0                        NaN   \n199997                 0                        NaN   \n199998                 0                        NaN   \n199999                 0                        NaN   \n\n        AVProductStatesIdentifier  ...  Census_FirmwareVersionIdentifier  \\\n0                         53447.0  ...                           36144.0   \n1                         53447.0  ...                           57858.0   \n2                         53447.0  ...                           52682.0   \n3                         53447.0  ...                           20050.0   \n4                         53447.0  ...                           19844.0   \n...                           ...  ...                               ...   \n199995                     3371.0  ...                           28487.0   \n199996                    53447.0  ...                           46942.0   \n199997                    62773.0  ...                           12463.0   \n199998                    49480.0  ...                           63437.0   \n199999                    53447.0  ...                           69901.0   \n\n        Census_IsSecureBootEnabled  Census_IsWIMBootEnabled  \\\n0                                0                      NaN   \n1                                0                      NaN   \n2                                0                      NaN   \n3                                0                      NaN   \n4                                0                      0.0   \n...                            ...                      ...   \n199995                           1                      0.0   \n199996                           0                      NaN   \n199997                           1                      NaN   \n199998                           1                      NaN   \n199999                           1                      NaN   \n\n        Census_IsVirtualDevice  Census_IsTouchEnabled  Census_IsPenCapable  \\\n0                          0.0                      0                    0   \n1                          0.0                      0                    0   \n2                          0.0                      0                    0   \n3                          0.0                      0                    0   \n4                          0.0                      0                    0   \n...                        ...                    ...                  ...   \n199995                     0.0                      0                    0   \n199996                     0.0                      0                    0   \n199997                     0.0                      0                    0   \n199998                     0.0                      0                    0   \n199999                     0.0                      0                    0   \n\n        Census_IsAlwaysOnAlwaysConnectedCapable  Wdft_IsGamer  \\\n0                                           0.0           0.0   \n1                                           0.0           0.0   \n2                                           0.0           0.0   \n3                                           0.0           0.0   \n4                                           0.0           0.0   \n...                                         ...           ...   \n199995                                      0.0           0.0   \n199996                                      1.0           0.0   \n199997                                      0.0           1.0   \n199998                                      1.0           0.0   \n199999                                      0.0           1.0   \n\n       Wdft_RegionIdentifier HasDetections  \n0                       10.0             0  \n1                        8.0             0  \n2                        3.0             0  \n3                        3.0             1  \n4                        1.0             1  \n...                      ...           ...  \n199995                   3.0             0  \n199996                  15.0             0  \n199997                  10.0             0  \n199998                   1.0             1  \n199999                  15.0             1  \n\n[200000 rows x 83 columns]",
      "text/html": "<div>\n<style scoped>\n    .dataframe tbody tr th:only-of-type {\n        vertical-align: middle;\n    }\n\n    .dataframe tbody tr th {\n        vertical-align: top;\n    }\n\n    .dataframe thead th {\n        text-align: right;\n    }\n</style>\n<table border=\"1\" class=\"dataframe\">\n  <thead>\n    <tr style=\"text-align: right;\">\n      <th></th>\n      <th>MachineIdentifier</th>\n      <th>ProductName</th>\n      <th>EngineVersion</th>\n      <th>AppVersion</th>\n      <th>AvSigVersion</th>\n      <th>IsBeta</th>\n      <th>RtpStateBitfield</th>\n      <th>IsSxsPassiveMode</th>\n      <th>DefaultBrowsersIdentifier</th>\n      <th>AVProductStatesIdentifier</th>\n      <th>...</th>\n      <th>Census_FirmwareVersionIdentifier</th>\n      <th>Census_IsSecureBootEnabled</th>\n      <th>Census_IsWIMBootEnabled</th>\n      <th>Census_IsVirtualDevice</th>\n      <th>Census_IsTouchEnabled</th>\n      <th>Census_IsPenCapable</th>\n      <th>Census_IsAlwaysOnAlwaysConnectedCapable</th>\n      <th>Wdft_IsGamer</th>\n      <th>Wdft_RegionIdentifier</th>\n      <th>HasDetections</th>\n    </tr>\n  </thead>\n  <tbody>\n    <tr>\n      <th>0</th>\n      <td>0000028988387b115f69f31a3bf04f09</td>\n      <td>win8defender</td>\n      <td>1.1.15100.1</td>\n      <td>4.18.1807.18075</td>\n      <td>1.273.1735.0</td>\n      <td>0</td>\n      <td>7.0</td>\n      <td>0</td>\n      <td>NaN</td>\n      <td>53447.0</td>\n      <td>...</td>\n      <td>36144.0</td>\n      <td>0</td>\n      <td>NaN</td>\n      <td>0.0</td>\n      <td>0</td>\n      <td>0</td>\n      <td>0.0</td>\n      <td>0.0</td>\n      <td>10.0</td>\n      <td>0</td>\n    </tr>\n    <tr>\n      <th>1</th>\n      <td>000007535c3f730efa9ea0b7ef1bd645</td>\n      <td>win8defender</td>\n      <td>1.1.14600.4</td>\n      <td>4.13.17134.1</td>\n      <td>1.263.48.0</td>\n      <td>0</td>\n      <td>7.0</td>\n      <td>0</td>\n      <td>NaN</td>\n      <td>53447.0</td>\n      <td>...</td>\n      <td>57858.0</td>\n      <td>0</td>\n      <td>NaN</td>\n      <td>0.0</td>\n      <td>0</td>\n      <td>0</td>\n      <td>0.0</td>\n      <td>0.0</td>\n      <td>8.0</td>\n      <td>0</td>\n    </tr>\n    <tr>\n      <th>2</th>\n      <td>000007905a28d863f6d0d597892cd692</td>\n      <td>win8defender</td>\n      <td>1.1.15100.1</td>\n      <td>4.18.1807.18075</td>\n      <td>1.273.1341.0</td>\n      <td>0</td>\n      <td>7.0</td>\n      <td>0</td>\n      <td>NaN</td>\n      <td>53447.0</td>\n      <td>...</td>\n      <td>52682.0</td>\n      <td>0</td>\n      <td>NaN</td>\n      <td>0.0</td>\n      <td>0</td>\n      <td>0</td>\n      <td>0.0</td>\n      <td>0.0</td>\n      <td>3.0</td>\n      <td>0</td>\n    </tr>\n    <tr>\n      <th>3</th>\n      <td>00000b11598a75ea8ba1beea8459149f</td>\n      <td>win8defender</td>\n      <td>1.1.15100.1</td>\n      <td>4.18.1807.18075</td>\n      <td>1.273.1527.0</td>\n      <td>0</td>\n      <td>7.0</td>\n      <td>0</td>\n      <td>NaN</td>\n      <td>53447.0</td>\n      <td>...</td>\n      <td>20050.0</td>\n      <td>0</td>\n      <td>NaN</td>\n      <td>0.0</td>\n      <td>0</td>\n      <td>0</td>\n      <td>0.0</td>\n      <td>0.0</td>\n      <td>3.0</td>\n      <td>1</td>\n    </tr>\n    <tr>\n      <th>4</th>\n      <td>000014a5f00daa18e76b81417eeb99fc</td>\n      <td>win8defender</td>\n      <td>1.1.15100.1</td>\n      <td>4.18.1807.18075</td>\n      <td>1.273.1379.0</td>\n      <td>0</td>\n      <td>7.0</td>\n      <td>0</td>\n      <td>NaN</td>\n      <td>53447.0</td>\n      <td>...</td>\n      <td>19844.0</td>\n      <td>0</td>\n      <td>0.0</td>\n      <td>0.0</td>\n      <td>0</td>\n      <td>0</td>\n      <td>0.0</td>\n      <td>0.0</td>\n      <td>1.0</td>\n      <td>1</td>\n    </tr>\n    <tr>\n      <th>...</th>\n      <td>...</td>\n      <td>...</td>\n      <td>...</td>\n      <td>...</td>\n      <td>...</td>\n      <td>...</td>\n      <td>...</td>\n      <td>...</td>\n      <td>...</td>\n      <td>...</td>\n      <td>...</td>\n      <td>...</td>\n      <td>...</td>\n      <td>...</td>\n      <td>...</td>\n      <td>...</td>\n      <td>...</td>\n      <td>...</td>\n      <td>...</td>\n      <td>...</td>\n      <td>...</td>\n    </tr>\n    <tr>\n      <th>199995</th>\n      <td>05c15aa6487f9710169e37c749a10441</td>\n      <td>win8defender</td>\n      <td>1.1.15100.1</td>\n      <td>4.18.1807.18075</td>\n      <td>1.273.894.0</td>\n      <td>0</td>\n      <td>0.0</td>\n      <td>1</td>\n      <td>NaN</td>\n      <td>3371.0</td>\n      <td>...</td>\n      <td>28487.0</td>\n      <td>1</td>\n      <td>0.0</td>\n      <td>0.0</td>\n      <td>0</td>\n      <td>0</td>\n      <td>0.0</td>\n      <td>0.0</td>\n      <td>3.0</td>\n      <td>0</td>\n    </tr>\n    <tr>\n      <th>199996</th>\n      <td>05c15b7b1b0f9f19a3279eee6572b3cd</td>\n      <td>win8defender</td>\n      <td>1.1.15200.1</td>\n      <td>4.18.1807.18075</td>\n      <td>1.275.1234.0</td>\n      <td>0</td>\n      <td>7.0</td>\n      <td>0</td>\n      <td>NaN</td>\n      <td>53447.0</td>\n      <td>...</td>\n      <td>46942.0</td>\n      <td>0</td>\n      <td>NaN</td>\n      <td>0.0</td>\n      <td>0</td>\n      <td>0</td>\n      <td>1.0</td>\n      <td>0.0</td>\n      <td>15.0</td>\n      <td>0</td>\n    </tr>\n    <tr>\n      <th>199997</th>\n      <td>05c15e17f59c0e298c06dea9ed3a3ab4</td>\n      <td>win8defender</td>\n      <td>1.1.15000.2</td>\n      <td>4.18.1806.18062</td>\n      <td>1.271.1198.0</td>\n      <td>0</td>\n      <td>7.0</td>\n      <td>0</td>\n      <td>NaN</td>\n      <td>62773.0</td>\n      <td>...</td>\n      <td>12463.0</td>\n      <td>1</td>\n      <td>NaN</td>\n      <td>0.0</td>\n      <td>0</td>\n      <td>0</td>\n      <td>0.0</td>\n      <td>1.0</td>\n      <td>10.0</td>\n      <td>0</td>\n    </tr>\n    <tr>\n      <th>199998</th>\n      <td>05c15e1affb2558420062f2d994f90d1</td>\n      <td>win8defender</td>\n      <td>1.1.15100.1</td>\n      <td>4.11.15063.447</td>\n      <td>1.273.438.0</td>\n      <td>0</td>\n      <td>7.0</td>\n      <td>0</td>\n      <td>NaN</td>\n      <td>49480.0</td>\n      <td>...</td>\n      <td>63437.0</td>\n      <td>1</td>\n      <td>NaN</td>\n      <td>0.0</td>\n      <td>0</td>\n      <td>0</td>\n      <td>1.0</td>\n      <td>0.0</td>\n      <td>1.0</td>\n      <td>1</td>\n    </tr>\n    <tr>\n      <th>199999</th>\n      <td>05c15f9f4d9c60d9f4e60033095d4792</td>\n      <td>win8defender</td>\n      <td>1.1.15200.1</td>\n      <td>4.18.1807.18075</td>\n      <td>1.275.445.0</td>\n      <td>0</td>\n      <td>7.0</td>\n      <td>0</td>\n      <td>NaN</td>\n      <td>53447.0</td>\n      <td>...</td>\n      <td>69901.0</td>\n      <td>1</td>\n      <td>NaN</td>\n      <td>0.0</td>\n      <td>0</td>\n      <td>0</td>\n      <td>0.0</td>\n      <td>1.0</td>\n      <td>15.0</td>\n      <td>1</td>\n    </tr>\n  </tbody>\n</table>\n<p>200000 rows × 83 columns</p>\n</div>"
     },
     "execution_count": 9,
     "metadata": {},
     "output_type": "execute_result"
    }
   ],
   "source": [
    "data"
   ],
   "metadata": {
    "collapsed": false,
    "ExecuteTime": {
     "end_time": "2024-02-05T08:24:53.661008500Z",
     "start_time": "2024-02-05T08:24:53.545631700Z"
    }
   },
   "id": "171b1d8fdae021bb"
  },
  {
   "cell_type": "code",
   "execution_count": 10,
   "outputs": [],
   "source": [
    "data = data.drop(['IsBeta', 'Census_IsWIMBootEnabled', 'ProductName', 'MachineIdentifier'], axis=1)\n",
    "numeric_columns = data.loc[:, data.dtypes != object].columns\n",
    "categorical_columns = data.loc[:, data.dtypes == object].columns"
   ],
   "metadata": {
    "collapsed": false,
    "ExecuteTime": {
     "end_time": "2024-02-05T08:25:14.145992900Z",
     "start_time": "2024-02-05T08:25:14.046399200Z"
    }
   },
   "id": "f5455008db646526"
  },
  {
   "cell_type": "markdown",
   "metadata": {},
   "source": [
    "Посмотрите на соотношение классов в таргете. Все ли хорошо?"
   ],
   "id": "b16c3c17e7b18d3a"
  },
  {
   "cell_type": "code",
   "execution_count": 11,
   "metadata": {
    "ExecuteTime": {
     "end_time": "2024-02-05T08:25:15.883095500Z",
     "start_time": "2024-02-05T08:25:15.857301100Z"
    }
   },
   "outputs": [
    {
     "name": "stdout",
     "output_type": "stream",
     "text": [
      "100060 - positive class,\n",
      "99940 - negative class\n"
     ]
    }
   ],
   "source": [
    "print(sum(data['HasDetections'] == 1), '- positive class,')\n",
    "print(sum(data['HasDetections'] == 0), '- negative class')"
   ],
   "id": "e55460ba273ab9c"
  },
  {
   "cell_type": "markdown",
   "metadata": {},
   "source": [
    "Ответьте на вопрос: почему с вашей точки зрения важно иметь представление о балансе классов в ваших данных?"
   ],
   "id": "480840ebc5ffbd60"
  },
  {
   "cell_type": "markdown",
   "metadata": {},
   "source": [
    "Избавьтесь от пропусков в данных! \n",
    "\n",
    "Новый для нас прием: признаки с более чем половиной пропусков следует удалить.\n",
    "\n",
    "Согласитесь, если в вашей колонке среди 100 объектов всего лишь у 2 есть какое-то непропущенное значение, странно все остальные заполнять средним от этих двух чисел. Такие \"редкие\" признаки лучше вообще опустить!\n",
    "\n",
    "\n",
    "В категориальных колонках заменим отсутствующую категорию просто некоторой новой и назовем ее `NaN`.\n",
    "\n",
    "А в числовых, ради разнообразия, заполним пропуски медианным значением."
   ],
   "id": "3d7508be244be9f8"
  },
  {
   "cell_type": "code",
   "execution_count": 12,
   "outputs": [],
   "source": [
    "#counted_data = data.count()"
   ],
   "metadata": {
    "collapsed": false,
    "ExecuteTime": {
     "end_time": "2024-02-05T08:16:50.132728700Z",
     "start_time": "2024-02-05T08:16:50.130732800Z"
    }
   },
   "id": "8bcbeb0f65d330c5"
  },
  {
   "cell_type": "code",
   "execution_count": 13,
   "outputs": [],
   "source": [
    "\n",
    "# is_na = data.isna().sum()"
   ],
   "metadata": {
    "collapsed": false,
    "ExecuteTime": {
     "end_time": "2024-02-05T08:16:50.158672100Z",
     "start_time": "2024-02-05T08:16:50.133729600Z"
    }
   },
   "id": "58aee767053a087e"
  },
  {
   "cell_type": "code",
   "execution_count": 14,
   "metadata": {
    "ExecuteTime": {
     "end_time": "2024-02-05T08:16:50.194670500Z",
     "start_time": "2024-02-05T08:16:50.143057800Z"
    }
   },
   "outputs": [],
   "source": [
    "### Your code is here\n",
    "# где то есть ошибка\n",
    "# is_na = data.isna().sum()\n",
    "# counted_data = data.count()\n",
    "# \n",
    "# for col in data.columns:\n",
    "#     if 2 * data[col].isnull().sum() > len(data[col]):\n",
    "#         data = data.drop(col, axis=1)\n",
    "#     elif col in categorical_columns:\n",
    "#         data[col].fillna('NaN', inplace=True)\n",
    "#     else:\n",
    "#         data[col].fillna(data[col].median(), inplace=True)     \n",
    "# len(data.columns)"
   ],
   "id": "aa8dac6f8d6c628c"
  },
  {
   "cell_type": "code",
   "execution_count": 12,
   "outputs": [
    {
     "data": {
      "text/plain": "(200000, 79)"
     },
     "execution_count": 12,
     "metadata": {},
     "output_type": "execute_result"
    }
   ],
   "source": [
    "data.shape"
   ],
   "metadata": {
    "collapsed": false,
    "ExecuteTime": {
     "end_time": "2024-02-05T08:25:35.425163900Z",
     "start_time": "2024-02-05T08:25:35.404648100Z"
    }
   },
   "id": "c34aade305de055"
  },
  {
   "cell_type": "code",
   "execution_count": 13,
   "outputs": [
    {
     "data": {
      "text/plain": "RtpStateBitfield                                     False\nIsSxsPassiveMode                                     False\nDefaultBrowsersIdentifier                             True\nAVProductStatesIdentifier                            False\nAVProductsInstalled                                  False\nAVProductsEnabled                                    False\nHasTpm                                               False\nCountryIdentifier                                    False\nCityIdentifier                                       False\nOrganizationIdentifier                               False\nGeoNameIdentifier                                    False\nLocaleEnglishNameIdentifier                          False\nOsBuild                                              False\nOsSuite                                              False\nIsProtected                                          False\nAutoSampleOptIn                                      False\nSMode                                                False\nIeVerIdentifier                                      False\nFirewall                                             False\nUacLuaenable                                         False\nCensus_OEMNameIdentifier                             False\nCensus_OEMModelIdentifier                            False\nCensus_ProcessorCoreCount                            False\nCensus_ProcessorManufacturerIdentifier               False\nCensus_ProcessorModelIdentifier                      False\nCensus_PrimaryDiskTotalCapacity                      False\nCensus_SystemVolumeTotalCapacity                     False\nCensus_HasOpticalDiskDrive                           False\nCensus_TotalPhysicalRAM                              False\nCensus_InternalPrimaryDiagonalDisplaySizeInInches    False\nCensus_InternalPrimaryDisplayResolutionHorizontal    False\nCensus_InternalPrimaryDisplayResolutionVertical      False\nCensus_InternalBatteryNumberOfCharges                False\nCensus_OSBuildNumber                                 False\nCensus_OSBuildRevision                               False\nCensus_OSInstallLanguageIdentifier                   False\nCensus_OSUILocaleIdentifier                          False\nCensus_IsPortableOperatingSystem                     False\nCensus_IsFlightingInternal                            True\nCensus_IsFlightsDisabled                             False\nCensus_ThresholdOptIn                                 True\nCensus_FirmwareManufacturerIdentifier                False\nCensus_FirmwareVersionIdentifier                     False\nCensus_IsSecureBootEnabled                           False\nCensus_IsVirtualDevice                               False\nCensus_IsTouchEnabled                                False\nCensus_IsPenCapable                                  False\nCensus_IsAlwaysOnAlwaysConnectedCapable              False\nWdft_IsGamer                                         False\nWdft_RegionIdentifier                                False\nHasDetections                                        False\ndtype: bool"
     },
     "execution_count": 13,
     "metadata": {},
     "output_type": "execute_result"
    }
   ],
   "source": [
    "data[numeric_columns].isna().sum() > data.shape[0]/2"
   ],
   "metadata": {
    "collapsed": false,
    "ExecuteTime": {
     "end_time": "2024-02-05T08:25:47.402853500Z",
     "start_time": "2024-02-05T08:25:47.342440300Z"
    }
   },
   "id": "d3b0ab4d1406eb29"
  },
  {
   "cell_type": "code",
   "execution_count": 14,
   "outputs": [],
   "source": [
    "data = data.drop(['DefaultBrowsersIdentifier', 'Census_IsFlightingInternal', 'Census_ThresholdOptIn'], axis=1)\n",
    "numeric_columns = data.loc[:, data.dtypes != object].columns"
   ],
   "metadata": {
    "collapsed": false,
    "ExecuteTime": {
     "end_time": "2024-02-05T08:26:01.587484700Z",
     "start_time": "2024-02-05T08:26:01.482459200Z"
    }
   },
   "id": "ede073b1c092a39"
  },
  {
   "cell_type": "code",
   "execution_count": 15,
   "outputs": [],
   "source": [
    "s = data[numeric_columns].isna().sum() \n",
    "s = s[s > 0]\n",
    "numeric_columns_nan = s.index.tolist()"
   ],
   "metadata": {
    "collapsed": false,
    "ExecuteTime": {
     "end_time": "2024-02-05T08:26:14.777815700Z",
     "start_time": "2024-02-05T08:26:14.725622400Z"
    }
   },
   "id": "3567ad01b40b127a"
  },
  {
   "cell_type": "code",
   "execution_count": 16,
   "outputs": [
    {
     "data": {
      "text/plain": "['RtpStateBitfield',\n 'AVProductStatesIdentifier',\n 'AVProductsInstalled',\n 'AVProductsEnabled',\n 'CityIdentifier',\n 'OrganizationIdentifier',\n 'GeoNameIdentifier',\n 'IsProtected',\n 'SMode',\n 'IeVerIdentifier',\n 'Firewall',\n 'UacLuaenable',\n 'Census_OEMNameIdentifier',\n 'Census_OEMModelIdentifier',\n 'Census_ProcessorCoreCount',\n 'Census_ProcessorManufacturerIdentifier',\n 'Census_ProcessorModelIdentifier',\n 'Census_PrimaryDiskTotalCapacity',\n 'Census_SystemVolumeTotalCapacity',\n 'Census_TotalPhysicalRAM',\n 'Census_InternalPrimaryDiagonalDisplaySizeInInches',\n 'Census_InternalPrimaryDisplayResolutionHorizontal',\n 'Census_InternalPrimaryDisplayResolutionVertical',\n 'Census_InternalBatteryNumberOfCharges',\n 'Census_OSInstallLanguageIdentifier',\n 'Census_IsFlightsDisabled',\n 'Census_FirmwareManufacturerIdentifier',\n 'Census_FirmwareVersionIdentifier',\n 'Census_IsVirtualDevice',\n 'Census_IsAlwaysOnAlwaysConnectedCapable',\n 'Wdft_IsGamer',\n 'Wdft_RegionIdentifier']"
     },
     "execution_count": 16,
     "metadata": {},
     "output_type": "execute_result"
    }
   ],
   "source": [
    "numeric_columns_nan"
   ],
   "metadata": {
    "collapsed": false,
    "ExecuteTime": {
     "end_time": "2024-02-05T08:26:16.499436100Z",
     "start_time": "2024-02-05T08:26:16.494921500Z"
    }
   },
   "id": "7c0407da20ca4fe4"
  },
  {
   "cell_type": "code",
   "execution_count": 17,
   "outputs": [],
   "source": [
    "for col in numeric_columns_nan:\n",
    "    median = data[col].median()\n",
    "    data[col] = data[col].fillna(median)"
   ],
   "metadata": {
    "collapsed": false,
    "ExecuteTime": {
     "end_time": "2024-02-05T08:26:31.556273300Z",
     "start_time": "2024-02-05T08:26:31.448400200Z"
    }
   },
   "id": "afaa8e45e06a9d04"
  },
  {
   "cell_type": "code",
   "execution_count": 18,
   "outputs": [
    {
     "data": {
      "text/plain": "RtpStateBitfield                                     0\nIsSxsPassiveMode                                     0\nAVProductStatesIdentifier                            0\nAVProductsInstalled                                  0\nAVProductsEnabled                                    0\nHasTpm                                               0\nCountryIdentifier                                    0\nCityIdentifier                                       0\nOrganizationIdentifier                               0\nGeoNameIdentifier                                    0\nLocaleEnglishNameIdentifier                          0\nOsBuild                                              0\nOsSuite                                              0\nIsProtected                                          0\nAutoSampleOptIn                                      0\nSMode                                                0\nIeVerIdentifier                                      0\nFirewall                                             0\nUacLuaenable                                         0\nCensus_OEMNameIdentifier                             0\nCensus_OEMModelIdentifier                            0\nCensus_ProcessorCoreCount                            0\nCensus_ProcessorManufacturerIdentifier               0\nCensus_ProcessorModelIdentifier                      0\nCensus_PrimaryDiskTotalCapacity                      0\nCensus_SystemVolumeTotalCapacity                     0\nCensus_HasOpticalDiskDrive                           0\nCensus_TotalPhysicalRAM                              0\nCensus_InternalPrimaryDiagonalDisplaySizeInInches    0\nCensus_InternalPrimaryDisplayResolutionHorizontal    0\nCensus_InternalPrimaryDisplayResolutionVertical      0\nCensus_InternalBatteryNumberOfCharges                0\nCensus_OSBuildNumber                                 0\nCensus_OSBuildRevision                               0\nCensus_OSInstallLanguageIdentifier                   0\nCensus_OSUILocaleIdentifier                          0\nCensus_IsPortableOperatingSystem                     0\nCensus_IsFlightsDisabled                             0\nCensus_FirmwareManufacturerIdentifier                0\nCensus_FirmwareVersionIdentifier                     0\nCensus_IsSecureBootEnabled                           0\nCensus_IsVirtualDevice                               0\nCensus_IsTouchEnabled                                0\nCensus_IsPenCapable                                  0\nCensus_IsAlwaysOnAlwaysConnectedCapable              0\nWdft_IsGamer                                         0\nWdft_RegionIdentifier                                0\nHasDetections                                        0\ndtype: int64"
     },
     "execution_count": 18,
     "metadata": {},
     "output_type": "execute_result"
    }
   ],
   "source": [
    "data[numeric_columns].isna().sum()"
   ],
   "metadata": {
    "collapsed": false,
    "ExecuteTime": {
     "end_time": "2024-02-05T08:26:42.154340200Z",
     "start_time": "2024-02-05T08:26:42.093382Z"
    }
   },
   "id": "81d2a54640291c74"
  },
  {
   "cell_type": "code",
   "execution_count": 19,
   "outputs": [
    {
     "data": {
      "text/plain": "EngineVersion                       False\nAppVersion                          False\nAvSigVersion                        False\nPlatform                            False\nProcessor                           False\nOsVer                               False\nOsPlatformSubRelease                False\nOsBuildLab                          False\nSkuEdition                          False\nPuaMode                              True\nSmartScreen                         False\nCensus_MDC2FormFactor               False\nCensus_DeviceFamily                 False\nCensus_ProcessorClass                True\nCensus_PrimaryDiskTypeName          False\nCensus_ChassisTypeName              False\nCensus_PowerPlatformRoleName        False\nCensus_InternalBatteryType           True\nCensus_OSVersion                    False\nCensus_OSArchitecture               False\nCensus_OSBranch                     False\nCensus_OSEdition                    False\nCensus_OSSkuName                    False\nCensus_OSInstallTypeName            False\nCensus_OSWUAutoUpdateOptionsName    False\nCensus_GenuineStateName             False\nCensus_ActivationChannel            False\nCensus_FlightRing                   False\ndtype: bool"
     },
     "execution_count": 19,
     "metadata": {},
     "output_type": "execute_result"
    }
   ],
   "source": [
    "data[categorical_columns].isna().sum() > data.shape[0]/2"
   ],
   "metadata": {
    "collapsed": false,
    "ExecuteTime": {
     "end_time": "2024-02-05T08:26:58.070313700Z",
     "start_time": "2024-02-05T08:26:58.060761100Z"
    }
   },
   "id": "8063f470b8e1e85b"
  },
  {
   "cell_type": "code",
   "execution_count": 20,
   "outputs": [],
   "source": [
    "data = data.drop(['PuaMode', 'Census_ProcessorClass', 'Census_InternalBatteryType'], axis=1)\n",
    "categorical_columns = data.loc[:, data.dtypes == object].columns"
   ],
   "metadata": {
    "collapsed": false,
    "ExecuteTime": {
     "end_time": "2024-02-05T08:27:13.795666700Z",
     "start_time": "2024-02-05T08:27:13.686715200Z"
    }
   },
   "id": "3a341dde1115d502"
  },
  {
   "cell_type": "code",
   "execution_count": 21,
   "outputs": [],
   "source": [
    "data[categorical_columns] = data[categorical_columns].fillna('NaN')"
   ],
   "metadata": {
    "collapsed": false,
    "ExecuteTime": {
     "end_time": "2024-02-05T08:27:28.714376200Z",
     "start_time": "2024-02-05T08:27:28.458067900Z"
    }
   },
   "id": "43b1e5dc4b6b2b20"
  },
  {
   "cell_type": "code",
   "execution_count": 22,
   "outputs": [
    {
     "data": {
      "text/plain": "EngineVersion                       0\nAppVersion                          0\nAvSigVersion                        0\nPlatform                            0\nProcessor                           0\nOsVer                               0\nOsPlatformSubRelease                0\nOsBuildLab                          0\nSkuEdition                          0\nSmartScreen                         0\nCensus_MDC2FormFactor               0\nCensus_DeviceFamily                 0\nCensus_PrimaryDiskTypeName          0\nCensus_ChassisTypeName              0\nCensus_PowerPlatformRoleName        0\nCensus_OSVersion                    0\nCensus_OSArchitecture               0\nCensus_OSBranch                     0\nCensus_OSEdition                    0\nCensus_OSSkuName                    0\nCensus_OSInstallTypeName            0\nCensus_OSWUAutoUpdateOptionsName    0\nCensus_GenuineStateName             0\nCensus_ActivationChannel            0\nCensus_FlightRing                   0\ndtype: int64"
     },
     "execution_count": 22,
     "metadata": {},
     "output_type": "execute_result"
    }
   ],
   "source": [
    "data[categorical_columns].isna().sum()"
   ],
   "metadata": {
    "collapsed": false,
    "ExecuteTime": {
     "end_time": "2024-02-05T08:27:42.647831500Z",
     "start_time": "2024-02-05T08:27:42.492668400Z"
    }
   },
   "id": "16b56af4a08f68e1"
  },
  {
   "cell_type": "code",
   "execution_count": 23,
   "outputs": [
    {
     "name": "stdout",
     "output_type": "stream",
     "text": [
      "100060 - positive class,\n",
      "99940 - negative class\n"
     ]
    }
   ],
   "source": [
    "print(sum(data['HasDetections'] == 1), '- positive class,')\n",
    "print(sum(data['HasDetections'] == 0), '- negative class')"
   ],
   "metadata": {
    "collapsed": false,
    "ExecuteTime": {
     "end_time": "2024-02-05T08:27:46.786215400Z",
     "start_time": "2024-02-05T08:27:46.761563900Z"
    }
   },
   "id": "c7486691f255d304"
  },
  {
   "cell_type": "code",
   "execution_count": 24,
   "outputs": [
    {
     "data": {
      "text/plain": "(200000, 73)"
     },
     "execution_count": 24,
     "metadata": {},
     "output_type": "execute_result"
    }
   ],
   "source": [
    "data.shape"
   ],
   "metadata": {
    "collapsed": false,
    "ExecuteTime": {
     "end_time": "2024-02-05T08:28:04.916978400Z",
     "start_time": "2024-02-05T08:28:04.896457900Z"
    }
   },
   "id": "2c028f43649bd874"
  },
  {
   "cell_type": "markdown",
   "metadata": {},
   "source": [
    "Создайте копию полученного датафрейма и положите ее в переменную data_2. Понадобится в следующих заданиях."
   ],
   "id": "9d3a6e5f56ffb492"
  },
  {
   "cell_type": "code",
   "execution_count": 25,
   "metadata": {
    "ExecuteTime": {
     "end_time": "2024-02-05T08:28:20.493796100Z",
     "start_time": "2024-02-05T08:28:20.347560100Z"
    }
   },
   "outputs": [],
   "source": [
    "data_2 = data.copy()"
   ],
   "id": "f29cbc8a1a4f372e"
  },
  {
   "cell_type": "code",
   "execution_count": 26,
   "outputs": [
    {
     "data": {
      "text/plain": "(200000, 73)"
     },
     "execution_count": 26,
     "metadata": {},
     "output_type": "execute_result"
    }
   ],
   "source": [
    "data_2.shape"
   ],
   "metadata": {
    "collapsed": false,
    "ExecuteTime": {
     "end_time": "2024-02-05T08:28:21.203356900Z",
     "start_time": "2024-02-05T08:28:21.192845500Z"
    }
   },
   "id": "17ae9be8375f372e"
  },
  {
   "cell_type": "markdown",
   "metadata": {},
   "source": [
    "Так же поработаем над всеми категориальными колонкам перед запуском непосредственно моделей.\n",
    "\n",
    "Провернем самый базовый и наглый метод - несмотря на количество уникальных значений в каждой категории, просто применим ко всей категориальной части датасета `OneHotEncoding`"
   ],
   "id": "b309d0704be44fd2"
  },
  {
   "cell_type": "code",
   "execution_count": 27,
   "metadata": {
    "ExecuteTime": {
     "end_time": "2024-02-05T08:29:41.089292600Z",
     "start_time": "2024-02-05T08:28:50.215602700Z"
    }
   },
   "outputs": [],
   "source": [
    "## Your code is here\n",
    "# for col in data.describe(include='object').columns:\n",
    "#     one_hot = pd.get_dummies(data[col], prefix=col, drop_first=True)\n",
    "#     data = pd.concat((data.drop(col, axis=1), one_hot), axis=1)\n",
    "\n",
    "for col in categorical_columns:\n",
    "    one_hot = pd.get_dummies(data[col], prefix=col, drop_first=True)\n",
    "    data = pd.concat((data.drop(col, axis=1), one_hot), axis=1)    "
   ],
   "id": "ae0cb821f6870c0d"
  },
  {
   "cell_type": "code",
   "execution_count": 28,
   "outputs": [
    {
     "data": {
      "text/plain": "(200000, 6114)"
     },
     "execution_count": 28,
     "metadata": {},
     "output_type": "execute_result"
    }
   ],
   "source": [
    "data.shape"
   ],
   "metadata": {
    "collapsed": false,
    "ExecuteTime": {
     "end_time": "2024-02-05T08:29:41.100476800Z",
     "start_time": "2024-02-05T08:29:41.093963300Z"
    }
   },
   "id": "5eb7d22f117e7f64"
  },
  {
   "cell_type": "code",
   "execution_count": 29,
   "outputs": [
    {
     "data": {
      "text/plain": "(200000, 73)"
     },
     "execution_count": 29,
     "metadata": {},
     "output_type": "execute_result"
    }
   ],
   "source": [
    "data_2.shape"
   ],
   "metadata": {
    "collapsed": false,
    "ExecuteTime": {
     "end_time": "2024-02-05T08:29:41.105480Z",
     "start_time": "2024-02-05T08:29:41.097479300Z"
    }
   },
   "id": "efebacf019ee3b79"
  },
  {
   "cell_type": "markdown",
   "metadata": {},
   "source": [
    "###  Разделим выборку на тренировочную и тестовую"
   ],
   "id": "a786104cbfab4626"
  },
  {
   "cell_type": "markdown",
   "metadata": {},
   "source": [
    "P.S. в задачах классификации, как и в задаче регрессии, можно использовать технологию Кросс-Валидации. Например, по одному из двух следующих сценариев:\n",
    "\n",
    "1) Отделить валидацию и тест, произвести подбор лучшей модели с помощью `K-Fold` на валидации, финально обучить выбранную модель на всей валидации и замерить качество на заранее отложенном финальном тесте!\n",
    "\n",
    "2) Всю выборку назвать валидационной и на ней применить `K-Fold` без финального замера.\n",
    "\n",
    "В этой домашней работе попросим Вас быть еще проще! :)\n",
    "Реализуем просто технологию отложенной выборки в пропорции 3:1"
   ],
   "id": "1f6b16494370d020"
  },
  {
   "cell_type": "code",
   "execution_count": 30,
   "metadata": {
    "ExecuteTime": {
     "end_time": "2024-02-05T08:30:05.075021600Z",
     "start_time": "2024-02-05T08:30:02.495285700Z"
    }
   },
   "outputs": [],
   "source": [
    "from sklearn.model_selection import train_test_split \n",
    "\n",
    "X = data.drop(columns=['HasDetections'])\n",
    "y = data['HasDetections']\n",
    "\n",
    "X_train, X_test, y_train, y_test = train_test_split(X, y,\n",
    "                                                    test_size=0.25,\n",
    "                                                    shuffle=True,\n",
    "                                                    random_state=1)"
   ],
   "id": "cf629e238b3b37f2"
  },
  {
   "cell_type": "markdown",
   "metadata": {},
   "source": [
    "\n",
    "Соберите `Pipeline`, реализовав в нем 2 шага: стандартизация данных через `StandardScaler` и обучение логистической регрессии с помощью `LogisticRegression`, положите результаты в переменную `pipe`, а в классе модели `LogisticRegression` укажите параметр `penalty='none'`"
   ],
   "id": "1b36676f474b7e54"
  },
  {
   "cell_type": "code",
   "execution_count": 31,
   "metadata": {
    "ExecuteTime": {
     "end_time": "2024-02-05T08:30:18.750415900Z",
     "start_time": "2024-02-05T08:30:18.724110900Z"
    }
   },
   "outputs": [],
   "source": [
    "from sklearn.preprocessing import StandardScaler\n",
    "from sklearn.linear_model import LogisticRegression\n",
    "from sklearn.pipeline import Pipeline\n",
    "\n",
    "### Your code is here\n",
    "\n",
    "pipe = Pipeline([('scaler', StandardScaler()),\n",
    "                ('LR', LogisticRegression(penalty='none'))])"
   ],
   "id": "7260ec9b77be083d"
  },
  {
   "cell_type": "markdown",
   "metadata": {},
   "source": [
    "Чтобы замерить качество работы такой модели на трейне и на тесте воспользуемся функцией `cross_validate`\n",
    "\n",
    "Вопрос: что передавать ей в параметр cv? Ведь мы уже разделили нашу выборку на трейн и тест (имеем всего 1 fold). Для этого можно просто передать список от кортежа, содержащего индексы тренировочных и тестовых объектов."
   ],
   "id": "140a5a8a21093fc5"
  },
  {
   "cell_type": "code",
   "execution_count": 31,
   "metadata": {
    "ExecuteTime": {
     "end_time": "2024-02-05T08:17:43.517024800Z",
     "start_time": "2024-02-05T08:17:43.511373400Z"
    }
   },
   "outputs": [],
   "source": [
    "# from sklearn.model_selection import cross_validate\n",
    "# import datetime\n",
    "# \n",
    "# custom_cv = [(X_train.index.to_list(), X_test.index.to_list())]\n",
    "# \n",
    "# begin_time = datetime.datetime.now()\n",
    "# \n",
    "# cv_result_pipe = cross_validate(pipe, X, y, scoring='accuracy',\n",
    "#                                 cv=custom_cv, return_train_score=True)\n",
    "# \n",
    "# \n",
    "# print(f\"Accuracy на трейне: {np.mean(cv_result_pipe['train_score']).round(3)}\")\n",
    "# print(f\"Accuracy на тесте: {np.mean(cv_result_pipe['test_score']).round(3)}\")\n",
    "# \n",
    "# print(f\"Время работы алгоритма: {datetime.datetime.now() - begin_time}\")"
   ],
   "id": "58451472dca2553c"
  },
  {
   "cell_type": "markdown",
   "metadata": {},
   "source": [
    "Что можете сказать про время работы алгоритма?\n",
    "\n",
    "Очевидно, оно достаточно большие. Уж тем более для линейных моделей.\n",
    "\n",
    "Такое как раз-таки происходит из-за того, что количество фичей, который мы передали нашей модели - гигантское! Классу требуется много времени и памяти, чтобы обработать датасет.\n",
    "\n",
    "Поэтому те колонки, в которых количество уникальных категорий превышает какое-то адекватное число, следует кодировать иначе, нежели с помощью технологии `One-Hot-Encoding`.\n",
    "\n",
    "Теперь вы верите, что более умные кодировки зачастую прям необходимы! Раньше мы этот факт не демонстрировали!\n",
    "\n",
    "Дело еще вот в чем: в классе `LogisticRegression`, как и, например, `Lasso`, есть параметр, ограничивающий максимальное количество итераций во время обучения модели. Так, если данных много и итераций тоже ожидается большое число, найденная разделяющая гиперплоскость может оказаться не самой лучшей, так как наш алгоритм (будь то градиентный спуск или любой иной) просто 'не доползет'. "
   ],
   "id": "911b7a0dffc07b18"
  },
  {
   "cell_type": "markdown",
   "metadata": {},
   "source": [
    "\n",
    "#### Задание 2"
   ],
   "id": "ed24b896a755d594"
  },
  {
   "cell_type": "markdown",
   "metadata": {},
   "source": [
    "Теперь попробуем другой метод кодирования категориальных колонок, а именно счётчики.\n",
    "Построем ту же модель и на том же разделении, просто заново иначе переобработаем датасет. \n",
    "\n",
    "Для тех категориальных признаков, у которых количество уникальных значений в колоночках больше 5, применим `MeanTargetEncoding`.\n",
    "\n",
    "Для остальных оставим любимый `OneHotEncoding` (как делали на практике и в предыдущем уроке)."
   ],
   "id": "4c70f95b052a0f7f"
  },
  {
   "cell_type": "code",
   "execution_count": 32,
   "outputs": [
    {
     "data": {
      "text/plain": "(200000, 6114)"
     },
     "execution_count": 32,
     "metadata": {},
     "output_type": "execute_result"
    }
   ],
   "source": [
    "data.shape"
   ],
   "metadata": {
    "collapsed": false,
    "ExecuteTime": {
     "end_time": "2024-02-05T08:17:43.529005400Z",
     "start_time": "2024-02-05T08:17:43.517024800Z"
    }
   },
   "id": "baf656b0fdd0a98e"
  },
  {
   "cell_type": "code",
   "execution_count": 33,
   "outputs": [
    {
     "data": {
      "text/plain": "(200000, 73)"
     },
     "execution_count": 33,
     "metadata": {},
     "output_type": "execute_result"
    }
   ],
   "source": [
    "data_2.shape"
   ],
   "metadata": {
    "collapsed": false,
    "ExecuteTime": {
     "end_time": "2024-02-05T08:17:43.569002900Z",
     "start_time": "2024-02-05T08:17:43.524588800Z"
    }
   },
   "id": "1fe961a02dd625dc"
  },
  {
   "cell_type": "code",
   "execution_count": 32,
   "metadata": {
    "ExecuteTime": {
     "end_time": "2024-02-05T08:30:49.786533100Z",
     "start_time": "2024-02-05T08:30:48.419652600Z"
    }
   },
   "outputs": [],
   "source": [
    "## Your code is here\n",
    "for col in categorical_columns:\n",
    "    if len(data_2[col].unique()) < 5:\n",
    "        one_hot = pd.get_dummies(data_2[col], prefix=col, drop_first=True)\n",
    "        data_2 = pd.concat((data_2.drop(col, axis=1), one_hot), axis=1)\n",
    "    else:\n",
    "        mean_target = data_2.groupby(col)['HasDetections'].mean()\n",
    "        data_2[col]=data_2[col].map(mean_target)"
   ],
   "id": "f9b5e0dc8feafeff"
  },
  {
   "cell_type": "code",
   "execution_count": 33,
   "metadata": {
    "ExecuteTime": {
     "end_time": "2024-02-05T08:31:06.324411500Z",
     "start_time": "2024-02-05T08:31:06.284032400Z"
    }
   },
   "outputs": [],
   "source": [
    "X_2 = data_2.drop(columns=['HasDetections'])\n",
    "y_2 = data_2['HasDetections']"
   ],
   "id": "e755a315bd4af215"
  },
  {
   "cell_type": "markdown",
   "metadata": {},
   "source": [
    "Опять обучим модель, пока что без изменений! Скажите, стало ли быстрее? А что с качеством?"
   ],
   "id": "74228a71c7420fae"
  },
  {
   "cell_type": "code",
   "execution_count": 35,
   "metadata": {
    "ExecuteTime": {
     "end_time": "2024-02-05T08:34:13.160407600Z",
     "start_time": "2024-02-05T08:34:07.924413900Z"
    }
   },
   "outputs": [
    {
     "name": "stderr",
     "output_type": "stream",
     "text": [
      "C:\\Users\\Vica\\anaconda3\\Lib\\site-packages\\sklearn\\linear_model\\_logistic.py:1182: FutureWarning: `penalty='none'`has been deprecated in 1.2 and will be removed in 1.4. To keep the past behaviour, set `penalty=None`.\n",
      "  warnings.warn(\n"
     ]
    },
    {
     "name": "stdout",
     "output_type": "stream",
     "text": [
      "Accuracy на трейне: 0.638\n",
      "Accuracy на тесте: 0.638\n",
      "Время работы алгоритма: 0:00:05.091989\n"
     ]
    }
   ],
   "source": [
    "### Your code is here\n",
    "\n",
    "X_train_2, X_test_2, y_train_2, y_test_2 = train_test_split(X_2, y_2,\n",
    "                                                    test_size=0.25,\n",
    "                                                    shuffle=True,\n",
    "                                                    random_state=1)\n",
    "from sklearn.model_selection import cross_validate\n",
    "import datetime\n",
    "\n",
    "custom_cv = [(X_train_2.index.to_list(), X_test_2.index.to_list())]\n",
    "\n",
    "begin_time = datetime.datetime.now()\n",
    "\n",
    "cv_result_pipe_2 = cross_validate(pipe, X_2, y_2, scoring='accuracy',\n",
    "                                cv=custom_cv, return_train_score=True)\n",
    "\n",
    "\n",
    "print(f\"Accuracy на трейне: {np.mean(cv_result_pipe_2['train_score']).round(3)}\")\n",
    "print(f\"Accuracy на тесте: {np.mean(cv_result_pipe_2['test_score']).round(3)}\")\n",
    "\n",
    "print(f\"Время работы алгоритма: {datetime.datetime.now() - begin_time}\")\n"
   ],
   "id": "5a885b6cf951dffc"
  },
  {
   "cell_type": "markdown",
   "metadata": {},
   "source": [
    "#### Задание 3: Регуляризация"
   ],
   "id": "6ec323831c39a47"
  },
  {
   "cell_type": "markdown",
   "metadata": {},
   "source": [
    "Как и в моделях регрессии, решая задачу классификации, можем штрафовать минимизируемый функционал за большие веса, добавив к нему L1 или L2 норму весов (все как раньше!).\n",
    "\n",
    "Для этого в изначальном классе `LogisticRegression` изменить параметр `penalty` на l1 или l2 соответственно. Выберите второй вариант! Можно воспользоваться методом `set_params` и применить его к `pipe`."
   ],
   "id": "7b82c5c93c654251"
  },
  {
   "cell_type": "code",
   "execution_count": 36,
   "metadata": {
    "ExecuteTime": {
     "end_time": "2024-02-05T08:39:37.668890Z",
     "start_time": "2024-02-05T08:39:37.657161300Z"
    }
   },
   "outputs": [
    {
     "data": {
      "text/plain": "Pipeline(steps=[('scaler', StandardScaler()), ('LR', LogisticRegression())])",
      "text/html": "<style>#sk-container-id-1 {color: black;}#sk-container-id-1 pre{padding: 0;}#sk-container-id-1 div.sk-toggleable {background-color: white;}#sk-container-id-1 label.sk-toggleable__label {cursor: pointer;display: block;width: 100%;margin-bottom: 0;padding: 0.3em;box-sizing: border-box;text-align: center;}#sk-container-id-1 label.sk-toggleable__label-arrow:before {content: \"▸\";float: left;margin-right: 0.25em;color: #696969;}#sk-container-id-1 label.sk-toggleable__label-arrow:hover:before {color: black;}#sk-container-id-1 div.sk-estimator:hover label.sk-toggleable__label-arrow:before {color: black;}#sk-container-id-1 div.sk-toggleable__content {max-height: 0;max-width: 0;overflow: hidden;text-align: left;background-color: #f0f8ff;}#sk-container-id-1 div.sk-toggleable__content pre {margin: 0.2em;color: black;border-radius: 0.25em;background-color: #f0f8ff;}#sk-container-id-1 input.sk-toggleable__control:checked~div.sk-toggleable__content {max-height: 200px;max-width: 100%;overflow: auto;}#sk-container-id-1 input.sk-toggleable__control:checked~label.sk-toggleable__label-arrow:before {content: \"▾\";}#sk-container-id-1 div.sk-estimator input.sk-toggleable__control:checked~label.sk-toggleable__label {background-color: #d4ebff;}#sk-container-id-1 div.sk-label input.sk-toggleable__control:checked~label.sk-toggleable__label {background-color: #d4ebff;}#sk-container-id-1 input.sk-hidden--visually {border: 0;clip: rect(1px 1px 1px 1px);clip: rect(1px, 1px, 1px, 1px);height: 1px;margin: -1px;overflow: hidden;padding: 0;position: absolute;width: 1px;}#sk-container-id-1 div.sk-estimator {font-family: monospace;background-color: #f0f8ff;border: 1px dotted black;border-radius: 0.25em;box-sizing: border-box;margin-bottom: 0.5em;}#sk-container-id-1 div.sk-estimator:hover {background-color: #d4ebff;}#sk-container-id-1 div.sk-parallel-item::after {content: \"\";width: 100%;border-bottom: 1px solid gray;flex-grow: 1;}#sk-container-id-1 div.sk-label:hover label.sk-toggleable__label {background-color: #d4ebff;}#sk-container-id-1 div.sk-serial::before {content: \"\";position: absolute;border-left: 1px solid gray;box-sizing: border-box;top: 0;bottom: 0;left: 50%;z-index: 0;}#sk-container-id-1 div.sk-serial {display: flex;flex-direction: column;align-items: center;background-color: white;padding-right: 0.2em;padding-left: 0.2em;position: relative;}#sk-container-id-1 div.sk-item {position: relative;z-index: 1;}#sk-container-id-1 div.sk-parallel {display: flex;align-items: stretch;justify-content: center;background-color: white;position: relative;}#sk-container-id-1 div.sk-item::before, #sk-container-id-1 div.sk-parallel-item::before {content: \"\";position: absolute;border-left: 1px solid gray;box-sizing: border-box;top: 0;bottom: 0;left: 50%;z-index: -1;}#sk-container-id-1 div.sk-parallel-item {display: flex;flex-direction: column;z-index: 1;position: relative;background-color: white;}#sk-container-id-1 div.sk-parallel-item:first-child::after {align-self: flex-end;width: 50%;}#sk-container-id-1 div.sk-parallel-item:last-child::after {align-self: flex-start;width: 50%;}#sk-container-id-1 div.sk-parallel-item:only-child::after {width: 0;}#sk-container-id-1 div.sk-dashed-wrapped {border: 1px dashed gray;margin: 0 0.4em 0.5em 0.4em;box-sizing: border-box;padding-bottom: 0.4em;background-color: white;}#sk-container-id-1 div.sk-label label {font-family: monospace;font-weight: bold;display: inline-block;line-height: 1.2em;}#sk-container-id-1 div.sk-label-container {text-align: center;}#sk-container-id-1 div.sk-container {/* jupyter's `normalize.less` sets `[hidden] { display: none; }` but bootstrap.min.css set `[hidden] { display: none !important; }` so we also need the `!important` here to be able to override the default hidden behavior on the sphinx rendered scikit-learn.org. See: https://github.com/scikit-learn/scikit-learn/issues/21755 */display: inline-block !important;position: relative;}#sk-container-id-1 div.sk-text-repr-fallback {display: none;}</style><div id=\"sk-container-id-1\" class=\"sk-top-container\"><div class=\"sk-text-repr-fallback\"><pre>Pipeline(steps=[(&#x27;scaler&#x27;, StandardScaler()), (&#x27;LR&#x27;, LogisticRegression())])</pre><b>In a Jupyter environment, please rerun this cell to show the HTML representation or trust the notebook. <br />On GitHub, the HTML representation is unable to render, please try loading this page with nbviewer.org.</b></div><div class=\"sk-container\" hidden><div class=\"sk-item sk-dashed-wrapped\"><div class=\"sk-label-container\"><div class=\"sk-label sk-toggleable\"><input class=\"sk-toggleable__control sk-hidden--visually\" id=\"sk-estimator-id-1\" type=\"checkbox\" ><label for=\"sk-estimator-id-1\" class=\"sk-toggleable__label sk-toggleable__label-arrow\">Pipeline</label><div class=\"sk-toggleable__content\"><pre>Pipeline(steps=[(&#x27;scaler&#x27;, StandardScaler()), (&#x27;LR&#x27;, LogisticRegression())])</pre></div></div></div><div class=\"sk-serial\"><div class=\"sk-item\"><div class=\"sk-estimator sk-toggleable\"><input class=\"sk-toggleable__control sk-hidden--visually\" id=\"sk-estimator-id-2\" type=\"checkbox\" ><label for=\"sk-estimator-id-2\" class=\"sk-toggleable__label sk-toggleable__label-arrow\">StandardScaler</label><div class=\"sk-toggleable__content\"><pre>StandardScaler()</pre></div></div></div><div class=\"sk-item\"><div class=\"sk-estimator sk-toggleable\"><input class=\"sk-toggleable__control sk-hidden--visually\" id=\"sk-estimator-id-3\" type=\"checkbox\" ><label for=\"sk-estimator-id-3\" class=\"sk-toggleable__label sk-toggleable__label-arrow\">LogisticRegression</label><div class=\"sk-toggleable__content\"><pre>LogisticRegression()</pre></div></div></div></div></div></div></div>"
     },
     "execution_count": 36,
     "metadata": {},
     "output_type": "execute_result"
    }
   ],
   "source": [
    "### Your code is here\n",
    "\n",
    "pipe.set_params(LR__penalty = 'l2')\n"
   ],
   "id": "9fa647199bb3da15"
  },
  {
   "cell_type": "markdown",
   "metadata": {},
   "source": [
    "Теперь наша модель будет строить логистическую регрессию с L2 регуляризатором! Помним, что у регуляризируемых моделей есть гиперпараметр, контролирующий силу регуляризации, который выбирается ДО запуска метода fit, то есть заранее, когда модель еще не обучена. \n",
    "\n",
    "Конечно же, выбор этого параметра влияет итоговые результаты. Хочется поперебирать различные параметры регуляризации и найти такой, при котором качество на тесте окажется лучшим! \n",
    "\n",
    "Сгенерируем массив гиперпараметра, которые планируем перебрать:"
   ],
   "id": "372c68a5dd8796da"
  },
  {
   "cell_type": "code",
   "execution_count": 37,
   "metadata": {
    "ExecuteTime": {
     "end_time": "2024-02-05T08:40:21.070890600Z",
     "start_time": "2024-02-05T08:40:21.054375600Z"
    }
   },
   "outputs": [
    {
     "data": {
      "text/plain": "array([1.000e-02, 1.020e+00, 2.030e+00, 3.040e+00, 4.050e+00, 5.060e+00,\n       6.070e+00, 7.080e+00, 8.090e+00, 9.100e+00, 1.011e+01, 1.112e+01,\n       1.213e+01, 1.314e+01, 1.415e+01, 1.516e+01, 1.617e+01, 1.718e+01,\n       1.819e+01, 1.920e+01, 2.021e+01, 2.122e+01, 2.223e+01, 2.324e+01,\n       2.425e+01, 2.526e+01, 2.627e+01, 2.728e+01, 2.829e+01, 2.930e+01,\n       3.031e+01, 3.132e+01, 3.233e+01, 3.334e+01, 3.435e+01, 3.536e+01,\n       3.637e+01, 3.738e+01, 3.839e+01, 3.940e+01, 4.041e+01, 4.142e+01,\n       4.243e+01, 4.344e+01, 4.445e+01, 4.546e+01, 4.647e+01, 4.748e+01,\n       4.849e+01, 4.950e+01, 5.051e+01, 5.152e+01, 5.253e+01, 5.354e+01,\n       5.455e+01, 5.556e+01, 5.657e+01, 5.758e+01, 5.859e+01, 5.960e+01,\n       6.061e+01, 6.162e+01, 6.263e+01, 6.364e+01, 6.465e+01, 6.566e+01,\n       6.667e+01, 6.768e+01, 6.869e+01, 6.970e+01, 7.071e+01, 7.172e+01,\n       7.273e+01, 7.374e+01, 7.475e+01, 7.576e+01, 7.677e+01, 7.778e+01,\n       7.879e+01, 7.980e+01, 8.081e+01, 8.182e+01, 8.283e+01, 8.384e+01,\n       8.485e+01, 8.586e+01, 8.687e+01, 8.788e+01, 8.889e+01, 8.990e+01,\n       9.091e+01, 9.192e+01, 9.293e+01, 9.394e+01, 9.495e+01, 9.596e+01,\n       9.697e+01, 9.798e+01, 9.899e+01, 1.000e+02])"
     },
     "execution_count": 37,
     "metadata": {},
     "output_type": "execute_result"
    }
   ],
   "source": [
    "alphas = np.linspace(0.01, 100, 100)\n",
    "alphas"
   ],
   "id": "64943bcfe5e8c6bd"
  },
  {
   "cell_type": "markdown",
   "metadata": {},
   "source": [
    "Чтобы отобрать среди данного массива гиперпараметров лучший, воспользуйтесь конструкцией `GridSearchCV` из `sklearn`"
   ],
   "id": "df1a03f896cc1ea7"
  },
  {
   "cell_type": "code",
   "execution_count": 44,
   "metadata": {
    "ExecuteTime": {
     "end_time": "2024-02-05T09:09:20.197077500Z",
     "start_time": "2024-02-05T09:02:07.329802800Z"
    }
   },
   "outputs": [
    {
     "data": {
      "text/plain": "GridSearchCV(cv=[([76034, 51652, 138222, 115575, 45249, 179692, 182698, 176974,\n                   110306, 46620, 175394, 76233, 50519, 22013, 78414, 53567,\n                   123438, 33583, 80847, 173139, 96573, 136658, 120025, 75269,\n                   157138, 40325, 34982, 27938, 163628, 63394, ...],\n                  [49673, 171551, 5506, 38370, 36930, 167783, 67487, 101486,\n                   131774, 48246, 147174, 72470, 20386, 6389, 171910, 105548,\n                   180639, 155152, 140357, 177097, 122...\n       6.667e+01, 6.768e+01, 6.869e+01, 6.970e+01, 7.071e+01, 7.172e+01,\n       7.273e+01, 7.374e+01, 7.475e+01, 7.576e+01, 7.677e+01, 7.778e+01,\n       7.879e+01, 7.980e+01, 8.081e+01, 8.182e+01, 8.283e+01, 8.384e+01,\n       8.485e+01, 8.586e+01, 8.687e+01, 8.788e+01, 8.889e+01, 8.990e+01,\n       9.091e+01, 9.192e+01, 9.293e+01, 9.394e+01, 9.495e+01, 9.596e+01,\n       9.697e+01, 9.798e+01, 9.899e+01, 1.000e+02])},\n             scoring='accuracy')",
      "text/html": "<style>#sk-container-id-2 {color: black;}#sk-container-id-2 pre{padding: 0;}#sk-container-id-2 div.sk-toggleable {background-color: white;}#sk-container-id-2 label.sk-toggleable__label {cursor: pointer;display: block;width: 100%;margin-bottom: 0;padding: 0.3em;box-sizing: border-box;text-align: center;}#sk-container-id-2 label.sk-toggleable__label-arrow:before {content: \"▸\";float: left;margin-right: 0.25em;color: #696969;}#sk-container-id-2 label.sk-toggleable__label-arrow:hover:before {color: black;}#sk-container-id-2 div.sk-estimator:hover label.sk-toggleable__label-arrow:before {color: black;}#sk-container-id-2 div.sk-toggleable__content {max-height: 0;max-width: 0;overflow: hidden;text-align: left;background-color: #f0f8ff;}#sk-container-id-2 div.sk-toggleable__content pre {margin: 0.2em;color: black;border-radius: 0.25em;background-color: #f0f8ff;}#sk-container-id-2 input.sk-toggleable__control:checked~div.sk-toggleable__content {max-height: 200px;max-width: 100%;overflow: auto;}#sk-container-id-2 input.sk-toggleable__control:checked~label.sk-toggleable__label-arrow:before {content: \"▾\";}#sk-container-id-2 div.sk-estimator input.sk-toggleable__control:checked~label.sk-toggleable__label {background-color: #d4ebff;}#sk-container-id-2 div.sk-label input.sk-toggleable__control:checked~label.sk-toggleable__label {background-color: #d4ebff;}#sk-container-id-2 input.sk-hidden--visually {border: 0;clip: rect(1px 1px 1px 1px);clip: rect(1px, 1px, 1px, 1px);height: 1px;margin: -1px;overflow: hidden;padding: 0;position: absolute;width: 1px;}#sk-container-id-2 div.sk-estimator {font-family: monospace;background-color: #f0f8ff;border: 1px dotted black;border-radius: 0.25em;box-sizing: border-box;margin-bottom: 0.5em;}#sk-container-id-2 div.sk-estimator:hover {background-color: #d4ebff;}#sk-container-id-2 div.sk-parallel-item::after {content: \"\";width: 100%;border-bottom: 1px solid gray;flex-grow: 1;}#sk-container-id-2 div.sk-label:hover label.sk-toggleable__label {background-color: #d4ebff;}#sk-container-id-2 div.sk-serial::before {content: \"\";position: absolute;border-left: 1px solid gray;box-sizing: border-box;top: 0;bottom: 0;left: 50%;z-index: 0;}#sk-container-id-2 div.sk-serial {display: flex;flex-direction: column;align-items: center;background-color: white;padding-right: 0.2em;padding-left: 0.2em;position: relative;}#sk-container-id-2 div.sk-item {position: relative;z-index: 1;}#sk-container-id-2 div.sk-parallel {display: flex;align-items: stretch;justify-content: center;background-color: white;position: relative;}#sk-container-id-2 div.sk-item::before, #sk-container-id-2 div.sk-parallel-item::before {content: \"\";position: absolute;border-left: 1px solid gray;box-sizing: border-box;top: 0;bottom: 0;left: 50%;z-index: -1;}#sk-container-id-2 div.sk-parallel-item {display: flex;flex-direction: column;z-index: 1;position: relative;background-color: white;}#sk-container-id-2 div.sk-parallel-item:first-child::after {align-self: flex-end;width: 50%;}#sk-container-id-2 div.sk-parallel-item:last-child::after {align-self: flex-start;width: 50%;}#sk-container-id-2 div.sk-parallel-item:only-child::after {width: 0;}#sk-container-id-2 div.sk-dashed-wrapped {border: 1px dashed gray;margin: 0 0.4em 0.5em 0.4em;box-sizing: border-box;padding-bottom: 0.4em;background-color: white;}#sk-container-id-2 div.sk-label label {font-family: monospace;font-weight: bold;display: inline-block;line-height: 1.2em;}#sk-container-id-2 div.sk-label-container {text-align: center;}#sk-container-id-2 div.sk-container {/* jupyter's `normalize.less` sets `[hidden] { display: none; }` but bootstrap.min.css set `[hidden] { display: none !important; }` so we also need the `!important` here to be able to override the default hidden behavior on the sphinx rendered scikit-learn.org. See: https://github.com/scikit-learn/scikit-learn/issues/21755 */display: inline-block !important;position: relative;}#sk-container-id-2 div.sk-text-repr-fallback {display: none;}</style><div id=\"sk-container-id-2\" class=\"sk-top-container\"><div class=\"sk-text-repr-fallback\"><pre>GridSearchCV(cv=[([76034, 51652, 138222, 115575, 45249, 179692, 182698, 176974,\n                   110306, 46620, 175394, 76233, 50519, 22013, 78414, 53567,\n                   123438, 33583, 80847, 173139, 96573, 136658, 120025, 75269,\n                   157138, 40325, 34982, 27938, 163628, 63394, ...],\n                  [49673, 171551, 5506, 38370, 36930, 167783, 67487, 101486,\n                   131774, 48246, 147174, 72470, 20386, 6389, 171910, 105548,\n                   180639, 155152, 140357, 177097, 122...\n       6.667e+01, 6.768e+01, 6.869e+01, 6.970e+01, 7.071e+01, 7.172e+01,\n       7.273e+01, 7.374e+01, 7.475e+01, 7.576e+01, 7.677e+01, 7.778e+01,\n       7.879e+01, 7.980e+01, 8.081e+01, 8.182e+01, 8.283e+01, 8.384e+01,\n       8.485e+01, 8.586e+01, 8.687e+01, 8.788e+01, 8.889e+01, 8.990e+01,\n       9.091e+01, 9.192e+01, 9.293e+01, 9.394e+01, 9.495e+01, 9.596e+01,\n       9.697e+01, 9.798e+01, 9.899e+01, 1.000e+02])},\n             scoring=&#x27;accuracy&#x27;)</pre><b>In a Jupyter environment, please rerun this cell to show the HTML representation or trust the notebook. <br />On GitHub, the HTML representation is unable to render, please try loading this page with nbviewer.org.</b></div><div class=\"sk-container\" hidden><div class=\"sk-item sk-dashed-wrapped\"><div class=\"sk-label-container\"><div class=\"sk-label sk-toggleable\"><input class=\"sk-toggleable__control sk-hidden--visually\" id=\"sk-estimator-id-4\" type=\"checkbox\" ><label for=\"sk-estimator-id-4\" class=\"sk-toggleable__label sk-toggleable__label-arrow\">GridSearchCV</label><div class=\"sk-toggleable__content\"><pre>GridSearchCV(cv=[([76034, 51652, 138222, 115575, 45249, 179692, 182698, 176974,\n                   110306, 46620, 175394, 76233, 50519, 22013, 78414, 53567,\n                   123438, 33583, 80847, 173139, 96573, 136658, 120025, 75269,\n                   157138, 40325, 34982, 27938, 163628, 63394, ...],\n                  [49673, 171551, 5506, 38370, 36930, 167783, 67487, 101486,\n                   131774, 48246, 147174, 72470, 20386, 6389, 171910, 105548,\n                   180639, 155152, 140357, 177097, 122...\n       6.667e+01, 6.768e+01, 6.869e+01, 6.970e+01, 7.071e+01, 7.172e+01,\n       7.273e+01, 7.374e+01, 7.475e+01, 7.576e+01, 7.677e+01, 7.778e+01,\n       7.879e+01, 7.980e+01, 8.081e+01, 8.182e+01, 8.283e+01, 8.384e+01,\n       8.485e+01, 8.586e+01, 8.687e+01, 8.788e+01, 8.889e+01, 8.990e+01,\n       9.091e+01, 9.192e+01, 9.293e+01, 9.394e+01, 9.495e+01, 9.596e+01,\n       9.697e+01, 9.798e+01, 9.899e+01, 1.000e+02])},\n             scoring=&#x27;accuracy&#x27;)</pre></div></div></div><div class=\"sk-parallel\"><div class=\"sk-parallel-item\"><div class=\"sk-item\"><div class=\"sk-label-container\"><div class=\"sk-label sk-toggleable\"><input class=\"sk-toggleable__control sk-hidden--visually\" id=\"sk-estimator-id-5\" type=\"checkbox\" ><label for=\"sk-estimator-id-5\" class=\"sk-toggleable__label sk-toggleable__label-arrow\">estimator: Pipeline</label><div class=\"sk-toggleable__content\"><pre>Pipeline(steps=[(&#x27;scaler&#x27;, StandardScaler()), (&#x27;LR&#x27;, LogisticRegression())])</pre></div></div></div><div class=\"sk-serial\"><div class=\"sk-item\"><div class=\"sk-serial\"><div class=\"sk-item\"><div class=\"sk-estimator sk-toggleable\"><input class=\"sk-toggleable__control sk-hidden--visually\" id=\"sk-estimator-id-6\" type=\"checkbox\" ><label for=\"sk-estimator-id-6\" class=\"sk-toggleable__label sk-toggleable__label-arrow\">StandardScaler</label><div class=\"sk-toggleable__content\"><pre>StandardScaler()</pre></div></div></div><div class=\"sk-item\"><div class=\"sk-estimator sk-toggleable\"><input class=\"sk-toggleable__control sk-hidden--visually\" id=\"sk-estimator-id-7\" type=\"checkbox\" ><label for=\"sk-estimator-id-7\" class=\"sk-toggleable__label sk-toggleable__label-arrow\">LogisticRegression</label><div class=\"sk-toggleable__content\"><pre>LogisticRegression()</pre></div></div></div></div></div></div></div></div></div></div></div></div>"
     },
     "execution_count": 44,
     "metadata": {},
     "output_type": "execute_result"
    }
   ],
   "source": [
    "from sklearn.model_selection import GridSearchCV\n",
    "\n",
    "custom_cv = [(X_train_2.index.to_list(), X_test_2.index.to_list())]\n",
    "\n",
    "param_grid ={\n",
    "     'LR__C': alphas\n",
    " }\n",
    "\n",
    "\n",
    "# ### Your code is here\n",
    "clf = GridSearchCV(pipe, param_grid, cv=custom_cv, scoring='accuracy')\n",
    "clf.fit(X_2, y_2)"
   ],
   "id": "746bebc69a20a5e2"
  },
  {
   "cell_type": "code",
   "execution_count": 45,
   "outputs": [
    {
     "data": {
      "text/plain": "{'LR__C': 0.01}"
     },
     "execution_count": 45,
     "metadata": {},
     "output_type": "execute_result"
    }
   ],
   "source": [
    "clf.best_params_"
   ],
   "metadata": {
    "collapsed": false,
    "ExecuteTime": {
     "end_time": "2024-02-05T09:09:20.201077Z",
     "start_time": "2024-02-05T09:09:20.198079900Z"
    }
   },
   "id": "36da37eabe62910d"
  },
  {
   "cell_type": "code",
   "execution_count": 46,
   "outputs": [
    {
     "data": {
      "text/plain": "0.63822"
     },
     "execution_count": 46,
     "metadata": {},
     "output_type": "execute_result"
    }
   ],
   "source": [
    "clf.best_score_"
   ],
   "metadata": {
    "collapsed": false,
    "ExecuteTime": {
     "end_time": "2024-02-05T09:09:20.212837700Z",
     "start_time": "2024-02-05T09:09:20.202078400Z"
    }
   },
   "id": "a512c2eeec0c60d3"
  },
  {
   "cell_type": "code",
   "execution_count": 47,
   "outputs": [
    {
     "data": {
      "text/plain": "0"
     },
     "execution_count": 47,
     "metadata": {},
     "output_type": "execute_result"
    }
   ],
   "source": [
    "clf.best_index_"
   ],
   "metadata": {
    "collapsed": false,
    "ExecuteTime": {
     "end_time": "2024-02-05T09:09:20.216834600Z",
     "start_time": "2024-02-05T09:09:20.208821Z"
    }
   },
   "id": "766f5031c55d2e69"
  },
  {
   "cell_type": "markdown",
   "metadata": {},
   "source": [
    "#### Задание 4: Бонус\n",
    "\n",
    "Как вы знаете, подбор признаков является одной из самых важных частей машинного обучения. Сейчас вы попробуете на основе имеющихся признаков сгенерировать новые. В качестве новых признаков будем использовать мономы 2 степени. Можно использовать регуляризацию различного рода, выбор энкодера тоже за вами. Ваша задача - добиться качества `0.65` на тестовой выборке"
   ],
   "id": "3fcfd82eaa1dcf52"
  },
  {
   "cell_type": "markdown",
   "source": [
    "degree=2: Указывает степень полинома. В данном случае, это 2, что означает, что мы генерируем полиномиальные признаки до второй степени. Например, если у нас есть признаки x1 и x2, то будут созданы признаки 1, x1, x2, x1^2, x1x2, x2^2.\n",
    "\n",
    "interaction_only=False: При установке в False, как в данном случае, будут созданы не только взаимодействия признаков, но и сами признаки в степенях до указанной степени (в данном случае, до второй степени).\n",
    "\n",
    "include_bias=False: Если установлен в False, не будет создан дополнительный столбец признака с константными значениями (bias/смещение). Обычно включается, когда используется линейная регрессия, но при генерации полиномиальных признаков его можно отключит"
   ],
   "metadata": {
    "collapsed": false
   },
   "id": "1a4b6c4f31fb1c31"
  },
  {
   "cell_type": "code",
   "execution_count": 48,
   "metadata": {
    "ExecuteTime": {
     "end_time": "2024-02-05T09:19:56.131807900Z",
     "start_time": "2024-02-05T09:19:51.045298500Z"
    }
   },
   "outputs": [],
   "source": [
    "### Your code is here\n",
    "from sklearn.preprocessing import PolynomialFeatures\n",
    "\n",
    "data_3 = data_2.copy()\n",
    "\n",
    "# numeric_columns - список числовых признаков, для которых нужно сгенерировать мономы второй степени\n",
    "\n",
    "poly = PolynomialFeatures(degree=2, interaction_only=False, include_bias=False)\n",
    "data_poly = poly.fit_transform(data[numeric_columns])\n",
    "\n",
    "# Создание DataFrame с новыми полиномиальными признаками\n",
    "poly_columns = poly.get_feature_names_out(numeric_columns)\n",
    "data_poly = pd.DataFrame(data_poly, columns=poly_columns)\n",
    "\n",
    "# Объединение новых полиномиальных признаков с исходным DataFrame\n",
    "data_3 = pd.concat([data_3, data_poly], axis=1)"
   ],
   "id": "d98bce4974badd74"
  },
  {
   "cell_type": "code",
   "execution_count": 50,
   "outputs": [
    {
     "data": {
      "text/plain": "   EngineVersion  AppVersion  AvSigVersion  RtpStateBitfield  \\\n0       0.552153    0.530941      0.587952               7.0   \n1       0.448751    0.528931      0.484434               7.0   \n2       0.552153    0.530941      0.557522               7.0   \n3       0.552153    0.530941      0.714442               7.0   \n4       0.552153    0.530941      0.541395               7.0   \n\n   IsSxsPassiveMode  AVProductStatesIdentifier  AVProductsInstalled  \\\n0                 0                    53447.0                  1.0   \n1                 0                    53447.0                  1.0   \n2                 0                    53447.0                  1.0   \n3                 0                    53447.0                  1.0   \n4                 0                    53447.0                  1.0   \n\n   AVProductsEnabled  HasTpm  CountryIdentifier  ...  \\\n0                1.0       1                 29  ...   \n1                1.0       1                 93  ...   \n2                1.0       1                 86  ...   \n3                1.0       1                 88  ...   \n4                1.0       1                 18  ...   \n\n   Census_IsAlwaysOnAlwaysConnectedCapable^2  \\\n0                                        0.0   \n1                                        0.0   \n2                                        0.0   \n3                                        0.0   \n4                                        0.0   \n\n   Census_IsAlwaysOnAlwaysConnectedCapable Wdft_IsGamer  \\\n0                                                0.0      \n1                                                0.0      \n2                                                0.0      \n3                                                0.0      \n4                                                0.0      \n\n   Census_IsAlwaysOnAlwaysConnectedCapable Wdft_RegionIdentifier  \\\n0                                                0.0               \n1                                                0.0               \n2                                                0.0               \n3                                                0.0               \n4                                                0.0               \n\n   Census_IsAlwaysOnAlwaysConnectedCapable HasDetections  Wdft_IsGamer^2  \\\n0                                                0.0                 0.0   \n1                                                0.0                 0.0   \n2                                                0.0                 0.0   \n3                                                0.0                 0.0   \n4                                                0.0                 0.0   \n\n   Wdft_IsGamer Wdft_RegionIdentifier  Wdft_IsGamer HasDetections  \\\n0                                 0.0                         0.0   \n1                                 0.0                         0.0   \n2                                 0.0                         0.0   \n3                                 0.0                         0.0   \n4                                 0.0                         0.0   \n\n   Wdft_RegionIdentifier^2  Wdft_RegionIdentifier HasDetections  \\\n0                    100.0                                  0.0   \n1                     64.0                                  0.0   \n2                      9.0                                  0.0   \n3                      9.0                                  3.0   \n4                      1.0                                  1.0   \n\n   HasDetections^2  \n0              0.0  \n1              0.0  \n2              0.0  \n3              1.0  \n4              1.0  \n\n[5 rows x 1303 columns]",
      "text/html": "<div>\n<style scoped>\n    .dataframe tbody tr th:only-of-type {\n        vertical-align: middle;\n    }\n\n    .dataframe tbody tr th {\n        vertical-align: top;\n    }\n\n    .dataframe thead th {\n        text-align: right;\n    }\n</style>\n<table border=\"1\" class=\"dataframe\">\n  <thead>\n    <tr style=\"text-align: right;\">\n      <th></th>\n      <th>EngineVersion</th>\n      <th>AppVersion</th>\n      <th>AvSigVersion</th>\n      <th>RtpStateBitfield</th>\n      <th>IsSxsPassiveMode</th>\n      <th>AVProductStatesIdentifier</th>\n      <th>AVProductsInstalled</th>\n      <th>AVProductsEnabled</th>\n      <th>HasTpm</th>\n      <th>CountryIdentifier</th>\n      <th>...</th>\n      <th>Census_IsAlwaysOnAlwaysConnectedCapable^2</th>\n      <th>Census_IsAlwaysOnAlwaysConnectedCapable Wdft_IsGamer</th>\n      <th>Census_IsAlwaysOnAlwaysConnectedCapable Wdft_RegionIdentifier</th>\n      <th>Census_IsAlwaysOnAlwaysConnectedCapable HasDetections</th>\n      <th>Wdft_IsGamer^2</th>\n      <th>Wdft_IsGamer Wdft_RegionIdentifier</th>\n      <th>Wdft_IsGamer HasDetections</th>\n      <th>Wdft_RegionIdentifier^2</th>\n      <th>Wdft_RegionIdentifier HasDetections</th>\n      <th>HasDetections^2</th>\n    </tr>\n  </thead>\n  <tbody>\n    <tr>\n      <th>0</th>\n      <td>0.552153</td>\n      <td>0.530941</td>\n      <td>0.587952</td>\n      <td>7.0</td>\n      <td>0</td>\n      <td>53447.0</td>\n      <td>1.0</td>\n      <td>1.0</td>\n      <td>1</td>\n      <td>29</td>\n      <td>...</td>\n      <td>0.0</td>\n      <td>0.0</td>\n      <td>0.0</td>\n      <td>0.0</td>\n      <td>0.0</td>\n      <td>0.0</td>\n      <td>0.0</td>\n      <td>100.0</td>\n      <td>0.0</td>\n      <td>0.0</td>\n    </tr>\n    <tr>\n      <th>1</th>\n      <td>0.448751</td>\n      <td>0.528931</td>\n      <td>0.484434</td>\n      <td>7.0</td>\n      <td>0</td>\n      <td>53447.0</td>\n      <td>1.0</td>\n      <td>1.0</td>\n      <td>1</td>\n      <td>93</td>\n      <td>...</td>\n      <td>0.0</td>\n      <td>0.0</td>\n      <td>0.0</td>\n      <td>0.0</td>\n      <td>0.0</td>\n      <td>0.0</td>\n      <td>0.0</td>\n      <td>64.0</td>\n      <td>0.0</td>\n      <td>0.0</td>\n    </tr>\n    <tr>\n      <th>2</th>\n      <td>0.552153</td>\n      <td>0.530941</td>\n      <td>0.557522</td>\n      <td>7.0</td>\n      <td>0</td>\n      <td>53447.0</td>\n      <td>1.0</td>\n      <td>1.0</td>\n      <td>1</td>\n      <td>86</td>\n      <td>...</td>\n      <td>0.0</td>\n      <td>0.0</td>\n      <td>0.0</td>\n      <td>0.0</td>\n      <td>0.0</td>\n      <td>0.0</td>\n      <td>0.0</td>\n      <td>9.0</td>\n      <td>0.0</td>\n      <td>0.0</td>\n    </tr>\n    <tr>\n      <th>3</th>\n      <td>0.552153</td>\n      <td>0.530941</td>\n      <td>0.714442</td>\n      <td>7.0</td>\n      <td>0</td>\n      <td>53447.0</td>\n      <td>1.0</td>\n      <td>1.0</td>\n      <td>1</td>\n      <td>88</td>\n      <td>...</td>\n      <td>0.0</td>\n      <td>0.0</td>\n      <td>0.0</td>\n      <td>0.0</td>\n      <td>0.0</td>\n      <td>0.0</td>\n      <td>0.0</td>\n      <td>9.0</td>\n      <td>3.0</td>\n      <td>1.0</td>\n    </tr>\n    <tr>\n      <th>4</th>\n      <td>0.552153</td>\n      <td>0.530941</td>\n      <td>0.541395</td>\n      <td>7.0</td>\n      <td>0</td>\n      <td>53447.0</td>\n      <td>1.0</td>\n      <td>1.0</td>\n      <td>1</td>\n      <td>18</td>\n      <td>...</td>\n      <td>0.0</td>\n      <td>0.0</td>\n      <td>0.0</td>\n      <td>0.0</td>\n      <td>0.0</td>\n      <td>0.0</td>\n      <td>0.0</td>\n      <td>1.0</td>\n      <td>1.0</td>\n      <td>1.0</td>\n    </tr>\n  </tbody>\n</table>\n<p>5 rows × 1303 columns</p>\n</div>"
     },
     "execution_count": 50,
     "metadata": {},
     "output_type": "execute_result"
    }
   ],
   "source": [
    "data_3.head()"
   ],
   "metadata": {
    "collapsed": false,
    "ExecuteTime": {
     "end_time": "2024-02-05T09:20:15.307197400Z",
     "start_time": "2024-02-05T09:20:15.285251600Z"
    }
   },
   "id": "a747634372a917c"
  },
  {
   "cell_type": "code",
   "execution_count": null,
   "outputs": [],
   "source": [],
   "metadata": {
    "collapsed": false
   },
   "id": "c0675bfe13d1dacf"
  }
 ],
 "metadata": {
  "kernelspec": {
   "display_name": "Python 3",
   "language": "python",
   "name": "python3"
  },
  "language_info": {
   "codemirror_mode": {
    "name": "ipython",
    "version": 3
   },
   "file_extension": ".py",
   "mimetype": "text/x-python",
   "name": "python",
   "nbconvert_exporter": "python",
   "pygments_lexer": "ipython3",
   "version": "3.7.3"
  }
 },
 "nbformat": 4,
 "nbformat_minor": 5
}
