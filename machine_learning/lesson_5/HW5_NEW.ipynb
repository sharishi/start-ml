{
 "cells": [
  {
   "cell_type": "markdown",
   "metadata": {},
   "source": [
    "К текущему моменту мы научились обучать простейшую линейную регрессию: причем научились пользоваться как готовыми методами из sklearn, так и реализовывать поиск решения оптимальных коэффициентов самостоятельно с помощью градиентного спуска.\n",
    "\n",
    "На последних занятиях мы узнали, что на практике часто приходится прибегать к некоторым хитростям, чтобы оценить, действительно ли модель отлично справляется со своей главной задачей - делать хорошие предсказания на новых данных в будущем, или, как еще говорят, в проде - после запуска.\n",
    "\n",
    "Для этого было введено понятие так называемой обобщающей способности модели. Оно помогает нам оценить, насколько наша модель подогналась под увиденные данные и насколько она окажется хороша на новых данных.\n",
    "\n",
    "Обобщающую способность мы научились оценивать с помощью метода Кросс-Валидации.\n",
    "\n"
   ],
   "id": "90b1a971edb94246"
  },
  {
   "cell_type": "markdown",
   "metadata": {},
   "source": [
    "Построим для старой задачи с предсказанием длительности поездки в такси 2 модели линейной регрессии. Для каждой из них замерим качество на кросс-валидации и на тесте, заранее его отложив.\n",
    "\n",
    "Считается, что если для K-Fold Кросс-Валидации брать большие значения K (то есть большое количество сплитов для разбиения тренировочной выборки на тренировку-валидацию), то оценка среднеквадратической ошибки будет получаться более справедливой. Так, например, когда K оказывается максимальным, а именно равным количеству объектов в выборке (каждый раз в валидации у нас 1 новый объект), то такой метод Кросс-Валидации еще называют LeaveOneOut.\n",
    "\n",
    "Главная причина, почему мало где его используют, состоит в дороговизне такого метода. Например, в данной задаче в TAXI_train.csv лежит почти 1,2 млн. объектов. Тогда, чтобы замерить качество на LeaveOneOut валидации, нам пришлось бы обучить 1,2 млн. различных версий одной модели, что, конечно, не вписыватеся в рамки адекватного времени и прочих ресурсов.\n",
    "\n",
    "Поэтому выберем компромиссное значение в виде 20 фолдов для K-Fold Кросс-Валидации.\n",
    "\n",
    "Внимание! Для каждой из 2 моделей очевидно было бы справедливым замерять качество на тех же самых объектах, поэтому сплиты лучше зафиксировать сразу.\n",
    "\n",
    "P.S. Оптимизировать будем MSLE метрику. И сравнивать модели тоже будем по ней будем. Как из домашнего задания про метрики, только без корня! :)\n",
    "\n",
    "$$\\text{MSLE}(X, y, a) = \\frac{1}{\\ell}\\sum_{i=1}^{\\ell} \\big(\\log{(y_i + 1)} - \\log{(a(x_i) + 1)}\\big)^2$$\n"
   ],
   "id": "446786c5ff89db21"
  },
  {
   "cell_type": "markdown",
   "metadata": {},
   "source": [
    "### Модель №1 Для начала посчитаем ошибку на Кросс-Валидации и Тесте для нашей самой базовой модели до вычленения каких-либо признаков, а просто взяв все вещественные колонки."
   ],
   "id": "767ae81886f04b5f"
  },
  {
   "cell_type": "code",
   "execution_count": 1,
   "metadata": {
    "ExecuteTime": {
     "end_time": "2024-01-21T13:13:00.844489100Z",
     "start_time": "2024-01-21T13:13:00.433168700Z"
    }
   },
   "outputs": [],
   "source": [
    "import pandas as pd"
   ],
   "id": "893e57db80efa78a"
  },
  {
   "cell_type": "code",
   "execution_count": 2,
   "metadata": {
    "ExecuteTime": {
     "end_time": "2024-01-21T13:14:54.862083200Z",
     "start_time": "2024-01-21T13:14:52.043266600Z"
    }
   },
   "outputs": [],
   "source": [
    "initial_data = pd.read_csv('initial_data.csv', index_col='id')\n",
    "\n",
    "initial_cols = ['vendor_id', 'passenger_count', 'pickup_longitude',\n",
    "                'pickup_latitude', 'dropoff_longitude', 'dropoff_latitude',\n",
    "                'trip_duration']\n",
    "\n",
    "initial_data = initial_data[initial_cols]"
   ],
   "id": "76c302bab05f45f9"
  },
  {
   "cell_type": "markdown",
   "metadata": {},
   "source": [
    "### ТрюК!"
   ],
   "id": "b2957623ccb48873"
  },
  {
   "cell_type": "code",
   "execution_count": 6,
   "metadata": {
    "ExecuteTime": {
     "end_time": "2024-01-21T13:21:32.004169Z",
     "start_time": "2024-01-21T13:21:31.919650Z"
    }
   },
   "outputs": [],
   "source": [
    "### Замерять будем MSLE. Можно показать, что для оптимизации MSLE,\n",
    "### Достаточно логарифмировать таргетную переменную, \n",
    "### а потом оптимизировать привычные MSE\n",
    "import numpy as np\n",
    "\n",
    "initial_data = initial_data.assign(log_trip_duration=np.log1p(initial_data['trip_duration']))\n",
    "initial_data = initial_data.drop('trip_duration', axis=1)"
   ],
   "id": "8bd091c1fafd991"
  },
  {
   "cell_type": "markdown",
   "metadata": {},
   "source": [
    "### Объяснение:\n",
    "\n",
    "Пусть имеем модель $a(x)$, обученную на MSE от $y$:\n",
    "$$\n",
    "\\text{MSE}(X, y, a) = \\frac{1}{\\ell}\\sum_{i=1}^{\\ell} \\big(y_i - a(x_i)\\big)^2 \\rightarrow min\n",
    "$$\n",
    "\n",
    "Также представим модель $a^*(x)$, обученную на MSE от $\\log{(y + 1)}$:\n",
    "$$\n",
    "\\text{MSE}(X, \\log{(y+1)}, a^*) = \\frac{1}{\\ell}\\sum_{i=1}^{\\ell} \\big(\\log{(y_i + 1)} - a^*(x_i)\\big)^2 \\rightarrow min\n",
    "$$\n",
    "\n",
    "Так как вторая модель старается аппроксимироваться ответы в виде $a^*(x) \\approx \\log{(y+1)}$, то для того, чтобы получить изначальные таргеты, необходимо выходы $a^*(x)$ проэкспоненцировать в виде следующего отношения: $a(x) = e^{a^*(x)} - 1$, то есть $a^*(x) = \\log{(a(x) + 1)}$, где $a^*(x)$ дает логарифмические выходы, а $a(x)$ - изначальные. Подставим данное соотношение в MSE выше, получим:\n",
    "\n",
    "$$\n",
    "\\text{MSE}(X, \\log{(y+1)}, \\log{(a(x) + 1)}) = \\frac{1}{\\ell}\\sum_{i=1}^{\\ell} \\big(\\log{(y_i + 1)} - \\log{(a(x_i) + 1)}\\big)^2 \\rightarrow min\n",
    "$$\n",
    "\n",
    "А это в точности MSLE от $y$:\n",
    "\n",
    "$$\n",
    "\\text{MSLE}(X, y, a) = \\frac{1}{\\ell}\\sum_{i=1}^{\\ell} \\big(\\log{(y_i + 1)} - \\log{(a(x_i) + 1)}\\big)^2 \\rightarrow min\n",
    "$$"
   ],
   "id": "105592e205faeca3"
  },
  {
   "cell_type": "code",
   "execution_count": 7,
   "outputs": [
    {
     "data": {
      "text/plain": "           vendor_id  passenger_count  pickup_longitude  pickup_latitude  \\\nid                                                                         \nid2875421          2                1        -73.982155        40.767937   \nid2377394          1                1        -73.980415        40.738564   \nid3858529          2                1        -73.979027        40.763939   \nid3504673          2                1        -74.010040        40.719971   \nid2181028          2                1        -73.973053        40.793209   \n...              ...              ...               ...              ...   \nid2376096          2                4        -73.982201        40.745522   \nid1049543          1                1        -74.000946        40.747379   \nid2304944          2                1        -73.959129        40.768799   \nid2714485          1                1        -73.982079        40.749062   \nid1209952          1                1        -73.979538        40.781750   \n\n           dropoff_longitude  dropoff_latitude  log_trip_duration  \nid                                                                 \nid2875421         -73.964630         40.765602           6.122493  \nid2377394         -73.999481         40.731152           6.498282  \nid3858529         -74.005333         40.710087           7.661527  \nid3504673         -74.012268         40.706718           6.063785  \nid2181028         -73.972923         40.782520           6.077642  \n...                      ...               ...                ...  \nid2376096         -73.994911         40.740170           6.658011  \nid1049543         -73.970184         40.796547           6.486161  \nid2304944         -74.004433         40.707371           6.639876  \nid2714485         -73.974632         40.757107           5.924256  \nid1209952         -73.972809         40.790585           5.293305  \n\n[1458644 rows x 7 columns]",
      "text/html": "<div>\n<style scoped>\n    .dataframe tbody tr th:only-of-type {\n        vertical-align: middle;\n    }\n\n    .dataframe tbody tr th {\n        vertical-align: top;\n    }\n\n    .dataframe thead th {\n        text-align: right;\n    }\n</style>\n<table border=\"1\" class=\"dataframe\">\n  <thead>\n    <tr style=\"text-align: right;\">\n      <th></th>\n      <th>vendor_id</th>\n      <th>passenger_count</th>\n      <th>pickup_longitude</th>\n      <th>pickup_latitude</th>\n      <th>dropoff_longitude</th>\n      <th>dropoff_latitude</th>\n      <th>log_trip_duration</th>\n    </tr>\n    <tr>\n      <th>id</th>\n      <th></th>\n      <th></th>\n      <th></th>\n      <th></th>\n      <th></th>\n      <th></th>\n      <th></th>\n    </tr>\n  </thead>\n  <tbody>\n    <tr>\n      <th>id2875421</th>\n      <td>2</td>\n      <td>1</td>\n      <td>-73.982155</td>\n      <td>40.767937</td>\n      <td>-73.964630</td>\n      <td>40.765602</td>\n      <td>6.122493</td>\n    </tr>\n    <tr>\n      <th>id2377394</th>\n      <td>1</td>\n      <td>1</td>\n      <td>-73.980415</td>\n      <td>40.738564</td>\n      <td>-73.999481</td>\n      <td>40.731152</td>\n      <td>6.498282</td>\n    </tr>\n    <tr>\n      <th>id3858529</th>\n      <td>2</td>\n      <td>1</td>\n      <td>-73.979027</td>\n      <td>40.763939</td>\n      <td>-74.005333</td>\n      <td>40.710087</td>\n      <td>7.661527</td>\n    </tr>\n    <tr>\n      <th>id3504673</th>\n      <td>2</td>\n      <td>1</td>\n      <td>-74.010040</td>\n      <td>40.719971</td>\n      <td>-74.012268</td>\n      <td>40.706718</td>\n      <td>6.063785</td>\n    </tr>\n    <tr>\n      <th>id2181028</th>\n      <td>2</td>\n      <td>1</td>\n      <td>-73.973053</td>\n      <td>40.793209</td>\n      <td>-73.972923</td>\n      <td>40.782520</td>\n      <td>6.077642</td>\n    </tr>\n    <tr>\n      <th>...</th>\n      <td>...</td>\n      <td>...</td>\n      <td>...</td>\n      <td>...</td>\n      <td>...</td>\n      <td>...</td>\n      <td>...</td>\n    </tr>\n    <tr>\n      <th>id2376096</th>\n      <td>2</td>\n      <td>4</td>\n      <td>-73.982201</td>\n      <td>40.745522</td>\n      <td>-73.994911</td>\n      <td>40.740170</td>\n      <td>6.658011</td>\n    </tr>\n    <tr>\n      <th>id1049543</th>\n      <td>1</td>\n      <td>1</td>\n      <td>-74.000946</td>\n      <td>40.747379</td>\n      <td>-73.970184</td>\n      <td>40.796547</td>\n      <td>6.486161</td>\n    </tr>\n    <tr>\n      <th>id2304944</th>\n      <td>2</td>\n      <td>1</td>\n      <td>-73.959129</td>\n      <td>40.768799</td>\n      <td>-74.004433</td>\n      <td>40.707371</td>\n      <td>6.639876</td>\n    </tr>\n    <tr>\n      <th>id2714485</th>\n      <td>1</td>\n      <td>1</td>\n      <td>-73.982079</td>\n      <td>40.749062</td>\n      <td>-73.974632</td>\n      <td>40.757107</td>\n      <td>5.924256</td>\n    </tr>\n    <tr>\n      <th>id1209952</th>\n      <td>1</td>\n      <td>1</td>\n      <td>-73.979538</td>\n      <td>40.781750</td>\n      <td>-73.972809</td>\n      <td>40.790585</td>\n      <td>5.293305</td>\n    </tr>\n  </tbody>\n</table>\n<p>1458644 rows × 7 columns</p>\n</div>"
     },
     "execution_count": 7,
     "metadata": {},
     "output_type": "execute_result"
    }
   ],
   "source": [
    "initial_data"
   ],
   "metadata": {
    "collapsed": false,
    "ExecuteTime": {
     "end_time": "2024-01-21T13:21:34.669070100Z",
     "start_time": "2024-01-21T13:21:34.655026600Z"
    }
   },
   "id": "19bb4b0cc0c3ef92"
  },
  {
   "cell_type": "code",
   "execution_count": 8,
   "metadata": {
    "ExecuteTime": {
     "end_time": "2024-01-21T13:21:36.973447100Z",
     "start_time": "2024-01-21T13:21:36.317672600Z"
    }
   },
   "outputs": [],
   "source": [
    "### Выделим test\n",
    "\n",
    "from sklearn.model_selection import train_test_split\n",
    "\n",
    "X = initial_data.drop('log_trip_duration', axis=1)\n",
    "y = initial_data['log_trip_duration']\n",
    "\n",
    "X_train, X_test, y_train, y_test = train_test_split(X, y, \n",
    "                                                    test_size=0.2, \n",
    "                                                    random_state=42)"
   ],
   "id": "1901abd23fc1d5b6"
  },
  {
   "cell_type": "code",
   "execution_count": 9,
   "metadata": {
    "ExecuteTime": {
     "end_time": "2024-01-21T13:21:51.848035900Z",
     "start_time": "2024-01-21T13:21:51.845511600Z"
    }
   },
   "outputs": [],
   "source": [
    "### Применим K-Fold на оставшуюяся валидационную часть X_train, y_train\n",
    "\n",
    "from sklearn.model_selection import KFold\n",
    "\n",
    "splitter = KFold(n_splits=20, shuffle=True, random_state=33)"
   ],
   "id": "9aed933e0e554762"
  },
  {
   "cell_type": "code",
   "execution_count": 10,
   "outputs": [
    {
     "data": {
      "text/plain": "((1166915, 6), (291729, 6))"
     },
     "execution_count": 10,
     "metadata": {},
     "output_type": "execute_result"
    }
   ],
   "source": [
    "X_train.shape, X_test.shape"
   ],
   "metadata": {
    "collapsed": false,
    "ExecuteTime": {
     "end_time": "2024-01-21T13:25:24.061871800Z",
     "start_time": "2024-01-21T13:25:24.044376400Z"
    }
   },
   "id": "3c15a271c5295aec"
  },
  {
   "cell_type": "code",
   "execution_count": 40,
   "metadata": {
    "ExecuteTime": {
     "end_time": "2024-01-21T14:14:00.970515400Z",
     "start_time": "2024-01-21T14:13:55.533111900Z"
    }
   },
   "outputs": [],
   "source": [
    "### Замерьте качество на кросс-валидации!\n",
    "### Your code is here\n",
    "from sklearn.linear_model import LinearRegression\n",
    "\n",
    "losses_test = []\n",
    "\n",
    "for train_index, test_index in splitter.split(X_train.values):\n",
    "    X_train_fold, X_test_fold = X_train.values[train_index], X_train.values[test_index]\n",
    "    y_train_fold, y_test_fold = y_train.values[train_index], y_train.values[test_index]\n",
    "    \n",
    "    model = LinearRegression()\n",
    "    model.fit(X_train_fold, y_train_fold)\n",
    "    \n",
    "    losses_test.append(np.mean((model.predict(X_test_fold) - y_test_fold)**2))\n",
    "    "
   ],
   "id": "84866b0ec03023d1"
  },
  {
   "cell_type": "code",
   "execution_count": 44,
   "metadata": {
    "ExecuteTime": {
     "end_time": "2024-01-21T14:15:38.320760900Z",
     "start_time": "2024-01-21T14:15:38.102482400Z"
    }
   },
   "outputs": [
    {
     "data": {
      "text/plain": "0.606"
     },
     "execution_count": 44,
     "metadata": {},
     "output_type": "execute_result"
    }
   ],
   "source": [
    "### Теперь построим модель на всей тренировочной выборке\n",
    "### и замерим качество на тесте!\n",
    "### Your code is here\n",
    "model = LinearRegression()\n",
    "model.fit(X_train, y_train)\n",
    "round(np.mean((model.predict(X_test) - y_test)**2),3)"
   ],
   "id": "a54c3981b01f401a"
  },
  {
   "cell_type": "code",
   "execution_count": 45,
   "outputs": [
    {
     "data": {
      "text/plain": "0.613"
     },
     "execution_count": 45,
     "metadata": {},
     "output_type": "execute_result"
    }
   ],
   "source": [
    "round(np.mean(losses_test),3)"
   ],
   "metadata": {
    "collapsed": false,
    "ExecuteTime": {
     "end_time": "2024-01-21T14:15:53.772566400Z",
     "start_time": "2024-01-21T14:15:53.764457600Z"
    }
   },
   "id": "bcedb8d8d2e35205"
  },
  {
   "cell_type": "code",
   "execution_count": 46,
   "metadata": {
    "ExecuteTime": {
     "end_time": "2024-01-21T14:22:27.367654100Z",
     "start_time": "2024-01-21T14:22:27.363135500Z"
    }
   },
   "outputs": [],
   "source": [
    "### Укажите в ответе на задание 4 среднее качество моделей на валидационных выборках\n",
    "### и качество модели, обученной на полной тренировочной выборке, на тестовой выборке.\n",
    "### В качестве разделителя используйте точку, ответ округлите до тысячных."
   ],
   "id": "edade4d8162bb50a"
  },
  {
   "cell_type": "markdown",
   "metadata": {},
   "source": [
    "### Модель №2. Проделаем все то же самое, только для модели с более осознанными признаками, которые удалось получить ранее"
   ],
   "id": "47ccb49a6b25d4b9"
  },
  {
   "cell_type": "code",
   "execution_count": 53,
   "metadata": {
    "ExecuteTime": {
     "end_time": "2024-01-21T14:30:39.732506900Z",
     "start_time": "2024-01-21T14:30:38.217195700Z"
    }
   },
   "outputs": [],
   "source": [
    "processed_data = pd.read_csv('processed_data.csv', index_col='id')"
   ],
   "id": "ab7d1ac702014857"
  },
  {
   "cell_type": "code",
   "execution_count": 54,
   "metadata": {
    "ExecuteTime": {
     "end_time": "2024-01-21T14:30:40.261248100Z",
     "start_time": "2024-01-21T14:30:40.250539600Z"
    }
   },
   "outputs": [
    {
     "data": {
      "text/plain": "           vendor_id  passenger_count  store_and_fwd_flag  trip_duration  \\\nid                                                                         \nid2875421          1       930.399753                   0          455.0   \nid2377394          0       930.399753                   0          663.0   \nid3858529          1       930.399753                   0         2124.0   \nid3504673          1       930.399753                   0          429.0   \nid2181028          1       930.399753                   0          435.0   \n\n           distance_km  \nid                      \nid2875421     1.500479  \nid2377394     1.807119  \nid3858529     6.392080  \nid3504673     1.487155  \nid2181028     1.189925  ",
      "text/html": "<div>\n<style scoped>\n    .dataframe tbody tr th:only-of-type {\n        vertical-align: middle;\n    }\n\n    .dataframe tbody tr th {\n        vertical-align: top;\n    }\n\n    .dataframe thead th {\n        text-align: right;\n    }\n</style>\n<table border=\"1\" class=\"dataframe\">\n  <thead>\n    <tr style=\"text-align: right;\">\n      <th></th>\n      <th>vendor_id</th>\n      <th>passenger_count</th>\n      <th>store_and_fwd_flag</th>\n      <th>trip_duration</th>\n      <th>distance_km</th>\n    </tr>\n    <tr>\n      <th>id</th>\n      <th></th>\n      <th></th>\n      <th></th>\n      <th></th>\n      <th></th>\n    </tr>\n  </thead>\n  <tbody>\n    <tr>\n      <th>id2875421</th>\n      <td>1</td>\n      <td>930.399753</td>\n      <td>0</td>\n      <td>455.0</td>\n      <td>1.500479</td>\n    </tr>\n    <tr>\n      <th>id2377394</th>\n      <td>0</td>\n      <td>930.399753</td>\n      <td>0</td>\n      <td>663.0</td>\n      <td>1.807119</td>\n    </tr>\n    <tr>\n      <th>id3858529</th>\n      <td>1</td>\n      <td>930.399753</td>\n      <td>0</td>\n      <td>2124.0</td>\n      <td>6.392080</td>\n    </tr>\n    <tr>\n      <th>id3504673</th>\n      <td>1</td>\n      <td>930.399753</td>\n      <td>0</td>\n      <td>429.0</td>\n      <td>1.487155</td>\n    </tr>\n    <tr>\n      <th>id2181028</th>\n      <td>1</td>\n      <td>930.399753</td>\n      <td>0</td>\n      <td>435.0</td>\n      <td>1.189925</td>\n    </tr>\n  </tbody>\n</table>\n</div>"
     },
     "execution_count": 54,
     "metadata": {},
     "output_type": "execute_result"
    }
   ],
   "source": [
    "processed_data.head()"
   ],
   "id": "a6eba54e38fee3a5"
  },
  {
   "cell_type": "code",
   "execution_count": 55,
   "metadata": {
    "ExecuteTime": {
     "end_time": "2024-01-21T14:30:41.164654200Z",
     "start_time": "2024-01-21T14:30:41.096196Z"
    }
   },
   "outputs": [],
   "source": [
    "### Замерять будем MSLE. Можно показать, что для оптимизации MSLE,\n",
    "### Достаточно логарифмировать таргетную переменную, \n",
    "### а потом оптимизировать привычные MSE\n",
    "import numpy as np\n",
    "\n",
    "processed_data = processed_data.assign(log_trip_duration=np.log1p(processed_data['trip_duration']))\n",
    "processed_data = processed_data.drop('trip_duration', axis=1)"
   ],
   "id": "d12b937feba937eb"
  },
  {
   "cell_type": "code",
   "execution_count": 56,
   "metadata": {
    "ExecuteTime": {
     "end_time": "2024-01-21T14:30:42.819247Z",
     "start_time": "2024-01-21T14:30:42.774313100Z"
    }
   },
   "outputs": [],
   "source": [
    "X_2 = processed_data.drop('log_trip_duration', axis=1)\n",
    "y_2 = processed_data['log_trip_duration']"
   ],
   "id": "12b6662b3d882653"
  },
  {
   "cell_type": "code",
   "execution_count": 57,
   "metadata": {
    "ExecuteTime": {
     "end_time": "2024-01-21T14:30:45.804584200Z",
     "start_time": "2024-01-21T14:30:44.590962500Z"
    }
   },
   "outputs": [],
   "source": [
    "### Важно! Когда сравниваем модели по их качеству\n",
    "### на валидации и на тесте, не шаффлим данные заново!\n",
    "\n",
    "test_indexes = X_test.index\n",
    "train_indexes = X_train.index\n",
    "\n",
    "X_train_2 = X_2[X_2.index.isin(train_indexes)]\n",
    "y_train_2 = y_2[y_2.index.isin(train_indexes)]\n",
    "\n",
    "X_test_2 = X_2[X_2.index.isin(test_indexes)]\n",
    "y_test_2 = y_2[y_2.index.isin(test_indexes)]"
   ],
   "id": "9127c50921048afe"
  },
  {
   "cell_type": "code",
   "execution_count": 62,
   "metadata": {
    "ExecuteTime": {
     "end_time": "2024-01-21T14:34:15.360466600Z",
     "start_time": "2024-01-21T14:34:11.739902Z"
    }
   },
   "outputs": [],
   "source": [
    "### Замерьте качество на кросс-валидации!\n",
    "### Your code is here\n",
    "splitter = KFold(n_splits=20, shuffle=False)\n",
    "\n",
    "losses_test = []\n",
    "\n",
    "for train_index, test_index in splitter.split(X_train_2):\n",
    "    X_train, X_test = X_train_2.values[train_index], X_train_2.values[test_index]\n",
    "    y_train, y_test = y_train_2.values[train_index], y_train_2.values[test_index]\n",
    "    \n",
    "    model = LinearRegression()\n",
    "    model.fit(X_train, y_train)\n",
    "    \n",
    "    losses_test.append(np.mean((model.predict(X_test) - y_test)**2))"
   ],
   "id": "dc78fef0a0c3f50"
  },
  {
   "cell_type": "code",
   "execution_count": 63,
   "outputs": [
    {
     "data": {
      "text/plain": "0.432"
     },
     "execution_count": 63,
     "metadata": {},
     "output_type": "execute_result"
    }
   ],
   "source": [
    "round(np.mean(losses_test),3)"
   ],
   "metadata": {
    "collapsed": false,
    "ExecuteTime": {
     "end_time": "2024-01-21T14:34:15.959674Z",
     "start_time": "2024-01-21T14:34:15.956776300Z"
    }
   },
   "id": "724708ce945e8961"
  },
  {
   "cell_type": "code",
   "execution_count": 64,
   "metadata": {
    "ExecuteTime": {
     "end_time": "2024-01-21T14:34:16.957948800Z",
     "start_time": "2024-01-21T14:34:16.813662800Z"
    }
   },
   "outputs": [
    {
     "data": {
      "text/plain": "0.407"
     },
     "execution_count": 64,
     "metadata": {},
     "output_type": "execute_result"
    }
   ],
   "source": [
    "### Теперь построим модель и замерим качество на тесте!\n",
    "### Your code is here\n",
    "model = LinearRegression()\n",
    "model.fit(X_train_2, y_train_2)\n",
    "round(np.mean((model.predict(X_test_2) - y_test_2)**2),3)"
   ],
   "id": "e7d544d2ec116ca2"
  },
  {
   "cell_type": "code",
   "execution_count": null,
   "metadata": {},
   "outputs": [],
   "source": [
    "### Укажите в ответе на задание 5 среднее качество моделей на валидационных выборках\n",
    "### и качество модели, обученной на полной тренировочной выборке, на тестовой выборке.\n",
    "### В качестве разделителя используйте точку, ответ округлите до тысячных."
   ],
   "id": "bc64d6a4f1391281"
  },
  {
   "cell_type": "markdown",
   "metadata": {},
   "source": [
    "### Какую модель среди двух стоило бы выбрать? Помогла ли нам базовая обработка признаков с первых уроков? "
   ],
   "id": "d38b04991b49d565"
  }
 ],
 "metadata": {
  "kernelspec": {
   "display_name": "Python 3",
   "language": "python",
   "name": "python3"
  },
  "language_info": {
   "codemirror_mode": {
    "name": "ipython",
    "version": 3
   },
   "file_extension": ".py",
   "mimetype": "text/x-python",
   "name": "python",
   "nbconvert_exporter": "python",
   "pygments_lexer": "ipython3",
   "version": "3.7.3"
  }
 },
 "nbformat": 4,
 "nbformat_minor": 5
}
