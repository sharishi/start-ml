{
 "cells": [
  {
   "cell_type": "code",
   "execution_count": 1,
   "outputs": [],
   "source": [
    "import warnings\n",
    "\n",
    "import matplotlib.pyplot as plt\n",
    "import numpy as np\n",
    "import torch\n",
    "import torch.nn as nn\n",
    "import torchvision.transforms as T\n",
    "from IPython.display import clear_output\n",
    "from PIL import Image\n",
    "from matplotlib import cm\n",
    "from time import perf_counter\n",
    "from torch.utils.data import DataLoader\n",
    "from torchvision.datasets import CIFAR10\n",
    "from tqdm import tqdm\n",
    "from torch.optim import Adam\n",
    "from torch.optim.lr_scheduler import StepLR\n",
    "from torchvision import datasets, transforms\n",
    "\n",
    "warnings.filterwarnings('ignore')"
   ],
   "metadata": {
    "collapsed": false,
    "ExecuteTime": {
     "end_time": "2024-04-08T09:11:42.299079300Z",
     "start_time": "2024-04-08T09:11:38.051749400Z"
    }
   },
   "id": "858a36036ab2f76b"
  },
  {
   "cell_type": "code",
   "execution_count": 2,
   "outputs": [],
   "source": [
    "# def create_simple_conv_cifar() -> nn.Sequential:\n",
    "#     model = nn.Sequential(\n",
    "#             nn.Conv2d(in_channels=3, out_channels=32, kernel_size=3, padding=1),  # 32 x 32 x 32\n",
    "#             nn.BatchNorm2d(32),\n",
    "#             nn.ReLU(),\n",
    "# \n",
    "#             nn.Conv2d(in_channels=32, out_channels=32, kernel_size=3, padding=1),  # 32 x 32 x 32\n",
    "#             nn.BatchNorm2d(32),\n",
    "#             nn.ReLU(),\n",
    "# \n",
    "#             nn.MaxPool2d(2),  # 16 x 16 x 32\n",
    "#             nn.Dropout2d(p=0.2),\n",
    "# \n",
    "#             nn.Conv2d(in_channels=32, out_channels=64, kernel_size=3, padding=1),  # 16 x 16 x 64\n",
    "#             nn.BatchNorm2d(64),\n",
    "#             nn.ReLU(),\n",
    "# \n",
    "#             nn.Conv2d(in_channels=64, out_channels=64, kernel_size=3, padding=1),  # 16 x 16 x 64\n",
    "#             nn.BatchNorm2d(64),\n",
    "#             nn.ReLU(),\n",
    "# \n",
    "#             nn.MaxPool2d(2),  # 8 x 8 x 32\n",
    "#             nn.Dropout2d(p=0.2),\n",
    "# \n",
    "#             nn.Conv2d(in_channels=64, out_channels=128, kernel_size=3, padding=1),  # 8 x 8 x 128\n",
    "#             nn.BatchNorm2d(128),\n",
    "#             nn.ReLU(),\n",
    "# \n",
    "#             nn.Conv2d(in_channels=128, out_channels=128, kernel_size=3, padding=1),  # 8 x 8 x 128\n",
    "#             nn.BatchNorm2d(128),\n",
    "#             nn.ReLU(),\n",
    "# \n",
    "#             nn.MaxPool2d(2),  # 4 x 4 x 128\n",
    "#             nn.Dropout2d(p=0.2),\n",
    "# \n",
    "#             nn.Flatten(),\n",
    "# \n",
    "#             nn.Linear(4 * 4 * 128, 512),\n",
    "#             nn.BatchNorm1d(512),\n",
    "#             nn.Dropout(p=0.3),\n",
    "#             nn.ReLU(),\n",
    "#             nn.Linear(512, 10)\n",
    "#         )\n",
    "#     return model"
   ],
   "metadata": {
    "collapsed": false,
    "ExecuteTime": {
     "end_time": "2024-04-08T09:11:42.903895200Z",
     "start_time": "2024-04-08T09:11:42.892885700Z"
    }
   },
   "id": "8a003bf7d2e79827"
  },
  {
   "cell_type": "code",
   "execution_count": 3,
   "outputs": [],
   "source": [
    "from torchvision import datasets, transforms\n",
    "from torch.utils.data import DataLoader\n",
    "from tqdm import tqdm\n",
    "\n",
    "import torch.nn.functional as F\n",
    "from torchvision.datasets import CIFAR10\n",
    "from torchvision.transforms import ToTensor\n",
    "from torch.optim import Adam\n",
    "from torch import nn\n",
    "import torch\n",
    "\n",
    "\n",
    "def train(model, device, train_loader, optimizer, epoch):\n",
    "    model.train()\n",
    "    for batch_idx, (data, target) in enumerate(train_loader):\n",
    "        data, target = data.to(device), target.to(device)\n",
    "        optimizer.zero_grad()\n",
    "        output = model(data)\n",
    "        loss = F.cross_entropy(output, target)\n",
    "        loss.backward()\n",
    "        optimizer.step()\n",
    "\n",
    "def test(model, device, test_loader):\n",
    "    model.eval()\n",
    "    correct = 0\n",
    "    with torch.no_grad():\n",
    "        for data, target in test_loader:\n",
    "            data, target = data.to(device), target.to(device)\n",
    "            output = model(data)\n",
    "            pred = output.argmax(dim=1, keepdim=True)\n",
    "            correct += pred.eq(target.view_as(pred)).sum().item()\n",
    "    return correct / len(test_loader.dataset)\n",
    "\n",
    "@torch.inference_mode()\n",
    "def predict(model: nn.Module, loader: DataLoader, device: torch.device):\n",
    "    model.eval()\n",
    "    prediction = torch.empty(0, device=device)\n",
    "    with torch.no_grad():\n",
    "        for x, y in loader:\n",
    "            x, y = x.to(device), y.to(device)\n",
    "\n",
    "            output = model(x)\n",
    "            pred = torch.argmax(output, dim=1)\n",
    "            prediction = torch.cat((prediction, pred))\n",
    "    return prediction\n",
    "\n",
    "\n",
    "@torch.inference_mode()\n",
    "def predict_tta(model: nn.Module, loader: DataLoader, device: torch.device, iterations: int = 2):\n",
    "    model.eval()\n",
    "    preds = []\n",
    "    for i in range(iterations):\n",
    "        prediction = []\n",
    "        for x, y in loader:\n",
    "            x,y = x.to(device), y.to(device)\n",
    "            output = model(x)\n",
    "            prediction.append(output)\n",
    "        preds.append(torch.cat(prediction))\n",
    "    preds = torch.stack(preds).mean(dim=0)\n",
    "    preds = torch.argmax(preds, dim=1)  \n"
   ],
   "metadata": {
    "collapsed": false,
    "ExecuteTime": {
     "end_time": "2024-04-08T09:11:43.661409200Z",
     "start_time": "2024-04-08T09:11:43.655401700Z"
    }
   },
   "id": "ea8bebeca941c3b8"
  },
  {
   "cell_type": "code",
   "execution_count": 4,
   "id": "initial_id",
   "metadata": {
    "collapsed": true,
    "ExecuteTime": {
     "end_time": "2024-04-08T09:11:44.700135400Z",
     "start_time": "2024-04-08T09:11:44.690128900Z"
    }
   },
   "outputs": [],
   "source": [
    "from torchvision.datasets import CIFAR10\n",
    "from torchvision import transforms as T\n",
    "\n",
    "def get_augmentations(train: bool = True) -> T.Compose:\n",
    "    \n",
    "    means = (0.49139968, 0.48215841, 0.44653091)\n",
    "    stds = (0.24703223, 0.24348513, 0.26158784)\n",
    "\n",
    "    \n",
    "    if train:\n",
    "        return T.Compose(\n",
    "            [\n",
    "                T.RandomResizedCrop(size=32, scale=(0.8, 1.1)),\n",
    "                T.RandomHorizontalFlip(p=0.5),\n",
    "                T.RandomAdjustSharpness(sharpness_factor=2),\n",
    "                T.ToTensor(),\n",
    "                T.Normalize(mean=means, std=stds)\n",
    "            ]\n",
    "        )\n",
    "    else:\n",
    "        return T.Compose(\n",
    "            [\n",
    "                T.ToTensor(),\n",
    "                T.Normalize(mean=means, std=stds)\n",
    "            ]\n",
    "        )\n"
   ]
  },
  {
   "cell_type": "code",
   "execution_count": 5,
   "outputs": [],
   "source": [
    "import torch.nn as nn\n",
    "import torch.nn.functional as F\n",
    "\n",
    "def create_modified3_conv_cifar():\n",
    "    class Net(nn.Module):\n",
    "        def __init__(self):\n",
    "            super(Net, self).__init__()\n",
    "            self.conv1 = nn.Conv2d(3, 128, 5, padding=2)\n",
    "            self.conv2 = nn.Conv2d(128, 128, 5, padding=2)\n",
    "            self.conv3 = nn.Conv2d(128, 256, 3, padding=1)\n",
    "            self.conv4 = nn.Conv2d(256, 256, 3, padding=1)\n",
    "            self.pool = nn.MaxPool2d(2, 2)\n",
    "            self.bn_conv1 = nn.BatchNorm2d(128)\n",
    "            self.bn_conv2 = nn.BatchNorm2d(128)\n",
    "            self.bn_conv3 = nn.BatchNorm2d(256)\n",
    "            self.bn_conv4 = nn.BatchNorm2d(256)\n",
    "            self.bn_dense1 = nn.BatchNorm1d(1024)\n",
    "            self.bn_dense2 = nn.BatchNorm1d(512)\n",
    "            self.dropout_conv = nn.Dropout2d(p=0.25)\n",
    "            self.dropout = nn.Dropout(p=0.5)\n",
    "            self.fc1 = nn.Linear(256 * 8 * 8, 1024)\n",
    "            self.fc2 = nn.Linear(1024, 512)\n",
    "            self.fc3 = nn.Linear(512, 10)\n",
    "\n",
    "        def conv_layers(self, x):\n",
    "            out = F.relu(self.bn_conv1(self.conv1(x)))\n",
    "            out = F.relu(self.bn_conv2(self.conv2(out)))\n",
    "            out = self.pool(out)\n",
    "            out = self.dropout_conv(out)\n",
    "            out = F.relu(self.bn_conv3(self.conv3(out)))\n",
    "            out = F.relu(self.bn_conv4(self.conv4(out)))\n",
    "            out = self.pool(out)\n",
    "            out = self.dropout_conv(out)\n",
    "            return out\n",
    "\n",
    "        def dense_layers(self, x):\n",
    "            out = F.relu(self.bn_dense1(self.fc1(x)))\n",
    "            out = self.dropout(out)\n",
    "            out = F.relu(self.bn_dense2(self.fc2(out)))\n",
    "            out = self.dropout(out)\n",
    "            out = self.fc3(out)\n",
    "            return out\n",
    "\n",
    "        def forward(self, x):\n",
    "            out = self.conv_layers(x)\n",
    "            out = out.view(-1, 256 * 8 * 8)\n",
    "            out = self.dense_layers(out)\n",
    "            return out\n",
    "\n",
    "    return Net()"
   ],
   "metadata": {
    "collapsed": false,
    "ExecuteTime": {
     "end_time": "2024-04-08T09:11:45.693112Z",
     "start_time": "2024-04-08T09:11:45.685104900Z"
    }
   },
   "id": "1ea9175c3f605c5"
  },
  {
   "cell_type": "code",
   "execution_count": 6,
   "outputs": [],
   "source": [
    "# def train(model) -> float:\n",
    "#     model.train()\n",
    "# \n",
    "#     train_loss = 0\n",
    "#     total = 0\n",
    "#     correct = 0\n",
    "# \n",
    "#     for x, y in tqdm(train_loader, desc='Train'):\n",
    "#         x, y = x.to(device), y.to(device)\n",
    "# \n",
    "#         optimizer.zero_grad()\n",
    "# \n",
    "#         output = model(x)\n",
    "# \n",
    "#         loss = loss_fn(output, y)\n",
    "# \n",
    "#         train_loss += loss.item()\n",
    "# \n",
    "#         loss.backward()\n",
    "# \n",
    "#         optimizer.step()\n",
    "#         \n",
    "#         _, y_pred = torch.max(output, 1)\n",
    "#         total += y.size(0)\n",
    "#         correct += (y_pred == y).sum().item()\n",
    "# \n",
    "#     train_loss /= len(train_loader)\n",
    "#     accuracy = correct / total\n",
    "# \n",
    "#     return train_loss, accuracy"
   ],
   "metadata": {
    "collapsed": false,
    "ExecuteTime": {
     "end_time": "2024-04-08T09:11:46.516490600Z",
     "start_time": "2024-04-08T09:11:46.504483600Z"
    }
   },
   "id": "2a8e501ae819958c"
  },
  {
   "cell_type": "code",
   "execution_count": 7,
   "outputs": [],
   "source": [
    "# @torch.inference_mode()\n",
    "# def evaluate(model, loader) -> tuple[float, float]:\n",
    "#     model.eval()\n",
    "# \n",
    "#     total_loss = 0\n",
    "#     total = 0\n",
    "#     correct = 0\n",
    "# \n",
    "#     for x, y in tqdm(loader, desc='Evaluation'):\n",
    "#         x, y = x.to(device), y.to(device)\n",
    "# \n",
    "#         output = model(x)\n",
    "# \n",
    "#         loss = loss_fn(output, y)\n",
    "# \n",
    "#         total_loss += loss.item()\n",
    "# \n",
    "#         _, y_pred = torch.max(output, 1)\n",
    "#         total += y.size(0)\n",
    "#         correct += (y_pred == y).sum().item()\n",
    "# \n",
    "#     total_loss /= len(loader)\n",
    "#     accuracy = correct / total\n",
    "# \n",
    "#     return total_loss, accuracy"
   ],
   "metadata": {
    "collapsed": false,
    "ExecuteTime": {
     "end_time": "2024-04-08T09:11:46.924876400Z",
     "start_time": "2024-04-08T09:11:46.913865100Z"
    }
   },
   "id": "96671f8d1a056c8a"
  },
  {
   "cell_type": "code",
   "execution_count": 8,
   "outputs": [],
   "source": [
    "# def plot_stats(\n",
    "#     train_loss: list[float],\n",
    "#     valid_loss: list[float],\n",
    "#     train_accuracy: list[float],\n",
    "#     valid_accuracy: list[float],\n",
    "#     title: str\n",
    "# ):\n",
    "#     plt.figure(figsize=(16, 8))\n",
    "# \n",
    "#     plt.title(title + ' loss')\n",
    "# \n",
    "#     plt.plot(train_loss, label='Train loss')\n",
    "#     plt.plot(valid_loss, label='Valid loss')\n",
    "#     plt.legend()\n",
    "#     plt.grid()\n",
    "# \n",
    "#     plt.show()\n",
    "# \n",
    "#     plt.figure(figsize=(16, 8))\n",
    "# \n",
    "#     plt.title(title + ' accuracy')\n",
    "#     \n",
    "#     plt.plot(train_accuracy, label='Train accuracy')\n",
    "#     plt.plot(valid_accuracy, label='Valid accuracy')\n",
    "#     plt.legend()\n",
    "#     plt.grid()\n",
    "# \n",
    "#     plt.show()"
   ],
   "metadata": {
    "collapsed": false,
    "ExecuteTime": {
     "end_time": "2024-04-08T09:11:47.282285200Z",
     "start_time": "2024-04-08T09:11:47.249275100Z"
    }
   },
   "id": "3aba8110272e868e"
  },
  {
   "cell_type": "code",
   "execution_count": 9,
   "outputs": [],
   "source": [
    "# @torch.inference_mode()\n",
    "# def predict(model: nn.Module, loader: DataLoader, device: torch.device):\n",
    "#     model.eval()\n",
    "#     preds = []\n",
    "#     for x, y in loader:\n",
    "#         x, y = x.to(device), y.to(device)\n",
    "#         output = model(x)\n",
    "#         preds.append(output)\n",
    "#     return torch.cat(preds)"
   ],
   "metadata": {
    "collapsed": false,
    "ExecuteTime": {
     "end_time": "2024-04-08T09:11:47.598316500Z",
     "start_time": "2024-04-08T09:11:47.589302800Z"
    }
   },
   "id": "f1206d8446678d22"
  },
  {
   "cell_type": "code",
   "execution_count": 10,
   "outputs": [],
   "source": [
    "@torch.inference_mode()\n",
    "def predict_tta(model: nn.Module, loader: DataLoader, device: torch.device, iterations: int = 2):\n",
    "    model.eval()\n",
    "    preds = []\n",
    "    for i in range(iterations):\n",
    "        prediction = []\n",
    "        with torch.no_grad():\n",
    "            for x,y in loader:\n",
    "                x, y = x.to(device), y.to(device)\n",
    "                pred = model(x)\n",
    "                prediction.append(pred)\n",
    "            preds.append(torch.cat(prediction))\n",
    "    preds = torch.stack(preds).mean(dim=0)\n",
    "    preds = torch.argmax(preds, dim=1)\n",
    "\n",
    "    return preds\n"
   ],
   "metadata": {
    "collapsed": false,
    "ExecuteTime": {
     "end_time": "2024-04-08T09:11:49.464733500Z",
     "start_time": "2024-04-08T09:11:49.455721Z"
    }
   },
   "id": "34f51d8135c1f923"
  },
  {
   "cell_type": "code",
   "execution_count": 11,
   "outputs": [],
   "source": [
    "# def whole_train_valid_cycle(model, num_epochs, title):\n",
    "#     train_loss_history, valid_loss_history = [], []\n",
    "#     train_accuracy_history, valid_accuracy_history = [], []\n",
    "# \n",
    "#     for epoch in range(num_epochs):\n",
    "#         train_loss, train_accuracy = train(model)\n",
    "#         valid_loss, valid_accuracy = evaluate(model, test_loader)\n",
    "# \n",
    "#         train_loss_history.append(train_loss)\n",
    "#         valid_loss_history.append(valid_loss)\n",
    "# \n",
    "#         train_accuracy_history.append(train_accuracy)\n",
    "#         valid_accuracy_history.append(valid_accuracy)\n",
    "# \n",
    "#         clear_output()\n",
    "# \n",
    "#         plot_stats(\n",
    "#             train_loss_history, valid_loss_history,\n",
    "#             train_accuracy_history, valid_accuracy_history,\n",
    "#             title\n",
    "#         )"
   ],
   "metadata": {
    "collapsed": false,
    "ExecuteTime": {
     "end_time": "2024-04-08T09:11:50.347864600Z",
     "start_time": "2024-04-08T09:11:50.336855Z"
    }
   },
   "id": "bc9ece825fe0a418"
  },
  {
   "cell_type": "code",
   "execution_count": 12,
   "outputs": [],
   "source": [
    "# device = torch.device('cuda' if torch.cuda.is_available() else 'cpu')\n",
    "# model = create_simple_conv_cifar().to(device)\n",
    "# optimizer = Adam(model.parameters(), lr=1e-3)\n",
    "# scheduler = StepLR(optimizer, step_size=25)\n",
    "# loss_fn = nn.CrossEntropyLoss()\n",
    "# \n",
    "# whole_train_valid_cycle(model, 15,'15_ep')\n",
    "# \n"
   ],
   "metadata": {
    "collapsed": false,
    "ExecuteTime": {
     "end_time": "2024-04-08T09:11:50.911180100Z",
     "start_time": "2024-04-08T09:11:50.909169800Z"
    }
   },
   "id": "3f48ec4f556f22cd"
  },
  {
   "cell_type": "code",
   "execution_count": 13,
   "outputs": [],
   "source": [
    "# preds = predict(model=model, loader=test_loader, device=device)\n",
    "# preds_tta = predict_tta(model=model, loader=test_loader, device=device)\n",
    "# \n",
    "# torch.save(preds, 'ex_10_preds')\n",
    "# torch.save(preds_tta, 'ex_10_preds_tta')\n",
    "# torch.save(model.state_dict(), 'ex_10_params')"
   ],
   "metadata": {
    "collapsed": false,
    "ExecuteTime": {
     "end_time": "2024-04-08T09:11:51.843460700Z",
     "start_time": "2024-04-08T09:11:51.841447800Z"
    }
   },
   "id": "8cced35b05223f00"
  },
  {
   "cell_type": "code",
   "execution_count": null,
   "outputs": [
    {
     "name": "stdout",
     "output_type": "stream",
     "text": [
      "Epoch: 1, Accuracy: 0.627\n",
      "Epoch: 2, Accuracy: 0.6922\n"
     ]
    }
   ],
   "source": [
    "device = torch.device('cuda' if torch.cuda.is_available() else 'cpu')\n",
    "model = create_modified3_conv_cifar().to(device)\n",
    "optimizer = Adam(model.parameters())\n",
    "\n",
    "transform = transforms.Compose([transforms.ToTensor()])\n",
    "train_set = datasets.CIFAR10(root='data', train=True, transform=get_augmentations(train=True))\n",
    "test_set = datasets.CIFAR10(root='data', train=False, transform=get_augmentations(train=False))\n",
    "train_loader = DataLoader(train_set, batch_size=64, shuffle=True)\n",
    "test_loader = DataLoader(test_set, batch_size=1000, shuffle=False)\n",
    "\n",
    "for epoch in range(1, 300):\n",
    "    train(model, device, train_loader, optimizer, epoch)\n",
    "    accuracy = test(model, device, test_loader)\n",
    "    print(f'Epoch: {epoch}, Accuracy: {accuracy}')\n",
    "    if accuracy >= 0.902:\n",
    "        break\n",
    "\n",
    "predictions = predict_tta(model, test_loader, device)\n",
    "torch.save(predictions, 'predictions2.pt')"
   ],
   "metadata": {
    "collapsed": false,
    "ExecuteTime": {
     "start_time": "2024-04-08T09:11:53.966004900Z"
    }
   },
   "id": "2702f15f34d49073"
  },
  {
   "cell_type": "code",
   "execution_count": null,
   "outputs": [],
   "source": [],
   "metadata": {
    "collapsed": false
   },
   "id": "b4d076bee5aa1cce"
  }
 ],
 "metadata": {
  "kernelspec": {
   "display_name": "Python 3",
   "language": "python",
   "name": "python3"
  },
  "language_info": {
   "codemirror_mode": {
    "name": "ipython",
    "version": 2
   },
   "file_extension": ".py",
   "mimetype": "text/x-python",
   "name": "python",
   "nbconvert_exporter": "python",
   "pygments_lexer": "ipython2",
   "version": "2.7.6"
  }
 },
 "nbformat": 4,
 "nbformat_minor": 5
}
