{
 "cells": [
  {
   "cell_type": "code",
   "execution_count": 1,
   "outputs": [],
   "source": [
    "import pandas as pd\n",
    "from scipy.stats import binom_test"
   ],
   "metadata": {
    "collapsed": false,
    "ExecuteTime": {
     "end_time": "2024-06-10T12:56:52.584877200Z",
     "start_time": "2024-06-10T12:56:52.580881900Z"
    }
   },
   "id": "2a1df2a703bee767"
  },
  {
   "cell_type": "code",
   "execution_count": 2,
   "outputs": [],
   "source": [
    "likes = pd.read_csv('likes.csv')\n",
    "views = pd.read_csv('views.csv')"
   ],
   "metadata": {
    "collapsed": false,
    "ExecuteTime": {
     "end_time": "2024-06-10T12:56:53.155979900Z",
     "start_time": "2024-06-10T12:56:52.588878300Z"
    }
   },
   "id": "581186e56256090"
  },
  {
   "cell_type": "markdown",
   "source": [
    "Начнём с проверки разбиения групп.\n",
    "\n",
    "Во-первых, у нас нет таблички соответствия пользователь-группа, так как мы на самом деле определяли группу пользователя прямо перед подготовкой рекомендаций.\n",
    "\n",
    "Может показаться, что это гарантирует нам однозначное соответствие групп для пользователей, но давайте это проверим. В реальности бывают лаги системы (например, если мы запрашиваем группу пользователя, то не всегда можем получить ответ) и это свойство не выполняется. Проверьте, нет ли у нас пользователей, которые попали в обе группы. Если их совсем немного, удалите их из обеих выборок (если бы было много, то надо было разбираться, что пошло не так).\n",
    "\n",
    "Теперь, когда мы знаем про однозначное соответствие, сделайте табличку пользователь-группа. Проверьте, что группы получаются одинакового размера по пользователям. Для этого можно посчитать долю каждой группы, а ещё можно применить критерий для долей (биномиальный тест), чтобы проверить соответствие этой доли ожидаемым 0.5."
   ],
   "metadata": {
    "collapsed": false
   },
   "id": "59317d77ed830e82"
  },
  {
   "cell_type": "code",
   "execution_count": 3,
   "outputs": [
    {
     "data": {
      "text/plain": "        user_id  post_id   timestamp\n0        128381     4704  1654030804\n1        146885     1399  1654030816\n2         50948     2315  1654030828\n3         14661      673  1654030831\n4         37703     1588  1654030833\n...         ...      ...         ...\n230171    31851     5964  1655243535\n230172    51512     1498  1655243537\n230173    34017     5009  1655243573\n230174    13267     1787  1655243692\n230175    67302     7255  1655243736\n\n[230176 rows x 3 columns]",
      "text/html": "<div>\n<style scoped>\n    .dataframe tbody tr th:only-of-type {\n        vertical-align: middle;\n    }\n\n    .dataframe tbody tr th {\n        vertical-align: top;\n    }\n\n    .dataframe thead th {\n        text-align: right;\n    }\n</style>\n<table border=\"1\" class=\"dataframe\">\n  <thead>\n    <tr style=\"text-align: right;\">\n      <th></th>\n      <th>user_id</th>\n      <th>post_id</th>\n      <th>timestamp</th>\n    </tr>\n  </thead>\n  <tbody>\n    <tr>\n      <th>0</th>\n      <td>128381</td>\n      <td>4704</td>\n      <td>1654030804</td>\n    </tr>\n    <tr>\n      <th>1</th>\n      <td>146885</td>\n      <td>1399</td>\n      <td>1654030816</td>\n    </tr>\n    <tr>\n      <th>2</th>\n      <td>50948</td>\n      <td>2315</td>\n      <td>1654030828</td>\n    </tr>\n    <tr>\n      <th>3</th>\n      <td>14661</td>\n      <td>673</td>\n      <td>1654030831</td>\n    </tr>\n    <tr>\n      <th>4</th>\n      <td>37703</td>\n      <td>1588</td>\n      <td>1654030833</td>\n    </tr>\n    <tr>\n      <th>...</th>\n      <td>...</td>\n      <td>...</td>\n      <td>...</td>\n    </tr>\n    <tr>\n      <th>230171</th>\n      <td>31851</td>\n      <td>5964</td>\n      <td>1655243535</td>\n    </tr>\n    <tr>\n      <th>230172</th>\n      <td>51512</td>\n      <td>1498</td>\n      <td>1655243537</td>\n    </tr>\n    <tr>\n      <th>230173</th>\n      <td>34017</td>\n      <td>5009</td>\n      <td>1655243573</td>\n    </tr>\n    <tr>\n      <th>230174</th>\n      <td>13267</td>\n      <td>1787</td>\n      <td>1655243692</td>\n    </tr>\n    <tr>\n      <th>230175</th>\n      <td>67302</td>\n      <td>7255</td>\n      <td>1655243736</td>\n    </tr>\n  </tbody>\n</table>\n<p>230176 rows × 3 columns</p>\n</div>"
     },
     "execution_count": 3,
     "metadata": {},
     "output_type": "execute_result"
    }
   ],
   "source": [
    "likes"
   ],
   "metadata": {
    "collapsed": false,
    "ExecuteTime": {
     "end_time": "2024-06-10T12:56:53.181247Z",
     "start_time": "2024-06-10T12:56:53.150984100Z"
    }
   },
   "id": "363f773b69ad94e9"
  },
  {
   "cell_type": "code",
   "execution_count": 4,
   "outputs": [
    {
     "data": {
      "text/plain": "        user_id exp_group             recommendations   timestamp\n0        128381   control  [3644 4529 4704 5294 4808]  1654030803\n1        146885      test  [1399 1076  797 7015 5942]  1654030811\n2         50948      test  [2315 3037 1861 6567 4093]  1654030825\n3         37703      test  [2842 1949  162 1588 6794]  1654030826\n4         14661      test  [2395 5881 5648 3417  673]  1654030829\n...         ...       ...                         ...         ...\n193290   158267      test  [1733 6834 4380 1915 1627]  1655240340\n193291    63527   control  [2454  191 3873 6404 1588]  1655240347\n193292    52169      test  [1368 1709 1616  798 5305]  1655240354\n193293   142402      test  [5895 6984 1978 6548 6106]  1655240373\n193294    72259   control  [6117 1255 6567 3587 3811]  1655240388\n\n[193295 rows x 4 columns]",
      "text/html": "<div>\n<style scoped>\n    .dataframe tbody tr th:only-of-type {\n        vertical-align: middle;\n    }\n\n    .dataframe tbody tr th {\n        vertical-align: top;\n    }\n\n    .dataframe thead th {\n        text-align: right;\n    }\n</style>\n<table border=\"1\" class=\"dataframe\">\n  <thead>\n    <tr style=\"text-align: right;\">\n      <th></th>\n      <th>user_id</th>\n      <th>exp_group</th>\n      <th>recommendations</th>\n      <th>timestamp</th>\n    </tr>\n  </thead>\n  <tbody>\n    <tr>\n      <th>0</th>\n      <td>128381</td>\n      <td>control</td>\n      <td>[3644 4529 4704 5294 4808]</td>\n      <td>1654030803</td>\n    </tr>\n    <tr>\n      <th>1</th>\n      <td>146885</td>\n      <td>test</td>\n      <td>[1399 1076  797 7015 5942]</td>\n      <td>1654030811</td>\n    </tr>\n    <tr>\n      <th>2</th>\n      <td>50948</td>\n      <td>test</td>\n      <td>[2315 3037 1861 6567 4093]</td>\n      <td>1654030825</td>\n    </tr>\n    <tr>\n      <th>3</th>\n      <td>37703</td>\n      <td>test</td>\n      <td>[2842 1949  162 1588 6794]</td>\n      <td>1654030826</td>\n    </tr>\n    <tr>\n      <th>4</th>\n      <td>14661</td>\n      <td>test</td>\n      <td>[2395 5881 5648 3417  673]</td>\n      <td>1654030829</td>\n    </tr>\n    <tr>\n      <th>...</th>\n      <td>...</td>\n      <td>...</td>\n      <td>...</td>\n      <td>...</td>\n    </tr>\n    <tr>\n      <th>193290</th>\n      <td>158267</td>\n      <td>test</td>\n      <td>[1733 6834 4380 1915 1627]</td>\n      <td>1655240340</td>\n    </tr>\n    <tr>\n      <th>193291</th>\n      <td>63527</td>\n      <td>control</td>\n      <td>[2454  191 3873 6404 1588]</td>\n      <td>1655240347</td>\n    </tr>\n    <tr>\n      <th>193292</th>\n      <td>52169</td>\n      <td>test</td>\n      <td>[1368 1709 1616  798 5305]</td>\n      <td>1655240354</td>\n    </tr>\n    <tr>\n      <th>193293</th>\n      <td>142402</td>\n      <td>test</td>\n      <td>[5895 6984 1978 6548 6106]</td>\n      <td>1655240373</td>\n    </tr>\n    <tr>\n      <th>193294</th>\n      <td>72259</td>\n      <td>control</td>\n      <td>[6117 1255 6567 3587 3811]</td>\n      <td>1655240388</td>\n    </tr>\n  </tbody>\n</table>\n<p>193295 rows × 4 columns</p>\n</div>"
     },
     "execution_count": 4,
     "metadata": {},
     "output_type": "execute_result"
    }
   ],
   "source": [
    "views"
   ],
   "metadata": {
    "collapsed": false,
    "ExecuteTime": {
     "end_time": "2024-06-10T12:56:54.311822700Z",
     "start_time": "2024-06-10T12:56:53.172249400Z"
    }
   },
   "id": "3fa4342171dc9069"
  },
  {
   "cell_type": "code",
   "execution_count": 5,
   "outputs": [
    {
     "data": {
      "text/plain": "exp_group\ntest       96917\ncontrol    96378\nName: count, dtype: int64"
     },
     "execution_count": 5,
     "metadata": {},
     "output_type": "execute_result"
    }
   ],
   "source": [
    "views['exp_group'].value_counts()"
   ],
   "metadata": {
    "collapsed": false,
    "ExecuteTime": {
     "end_time": "2024-06-10T12:56:56.231834300Z",
     "start_time": "2024-06-10T12:56:54.226822800Z"
    }
   },
   "id": "2de9782c3b88cfc6"
  },
  {
   "cell_type": "code",
   "execution_count": 6,
   "outputs": [],
   "source": [
    "# 1. Посчитаем количество уникальных значений групп для каждого пользователя\n",
    "user_group_counts = views.groupby('user_id')['exp_group'].nunique()"
   ],
   "metadata": {
    "collapsed": false,
    "ExecuteTime": {
     "end_time": "2024-06-10T12:56:56.362254900Z",
     "start_time": "2024-06-10T12:56:56.151834800Z"
    }
   },
   "id": "e28a1ec6129031c6"
  },
  {
   "cell_type": "code",
   "execution_count": 7,
   "outputs": [
    {
     "data": {
      "text/plain": "user_id\n200       1\n201       1\n202       1\n212       1\n213       1\n         ..\n168538    1\n168541    1\n168544    1\n168545    1\n168552    1\nName: exp_group, Length: 65013, dtype: int64"
     },
     "execution_count": 7,
     "metadata": {},
     "output_type": "execute_result"
    }
   ],
   "source": [
    "user_group_counts"
   ],
   "metadata": {
    "collapsed": false,
    "ExecuteTime": {
     "end_time": "2024-06-10T12:56:56.392259900Z",
     "start_time": "2024-06-10T12:56:56.313314200Z"
    }
   },
   "id": "717703a6ab083c84"
  },
  {
   "cell_type": "code",
   "execution_count": 8,
   "outputs": [
    {
     "name": "stdout",
     "output_type": "stream",
     "text": [
      "Index([25623, 55788, 142283, 148670], dtype='int64', name='user_id')\n"
     ]
    }
   ],
   "source": [
    "invalid_users = user_group_counts[user_group_counts > 1].index\n",
    "print(invalid_users)\n"
   ],
   "metadata": {
    "collapsed": false,
    "ExecuteTime": {
     "end_time": "2024-06-10T12:56:56.614845200Z",
     "start_time": "2024-06-10T12:56:56.330257300Z"
    }
   },
   "id": "9891ec371f943aaf"
  },
  {
   "cell_type": "code",
   "execution_count": 9,
   "outputs": [
    {
     "data": {
      "text/plain": "        user_id exp_group             recommendations   timestamp\n0        128381   control  [3644 4529 4704 5294 4808]  1654030803\n1        146885      test  [1399 1076  797 7015 5942]  1654030811\n2         50948      test  [2315 3037 1861 6567 4093]  1654030825\n3         37703      test  [2842 1949  162 1588 6794]  1654030826\n4         14661      test  [2395 5881 5648 3417  673]  1654030829\n...         ...       ...                         ...         ...\n193290   158267      test  [1733 6834 4380 1915 1627]  1655240340\n193291    63527   control  [2454  191 3873 6404 1588]  1655240347\n193292    52169      test  [1368 1709 1616  798 5305]  1655240354\n193293   142402      test  [5895 6984 1978 6548 6106]  1655240373\n193294    72259   control  [6117 1255 6567 3587 3811]  1655240388\n\n[193268 rows x 4 columns]",
      "text/html": "<div>\n<style scoped>\n    .dataframe tbody tr th:only-of-type {\n        vertical-align: middle;\n    }\n\n    .dataframe tbody tr th {\n        vertical-align: top;\n    }\n\n    .dataframe thead th {\n        text-align: right;\n    }\n</style>\n<table border=\"1\" class=\"dataframe\">\n  <thead>\n    <tr style=\"text-align: right;\">\n      <th></th>\n      <th>user_id</th>\n      <th>exp_group</th>\n      <th>recommendations</th>\n      <th>timestamp</th>\n    </tr>\n  </thead>\n  <tbody>\n    <tr>\n      <th>0</th>\n      <td>128381</td>\n      <td>control</td>\n      <td>[3644 4529 4704 5294 4808]</td>\n      <td>1654030803</td>\n    </tr>\n    <tr>\n      <th>1</th>\n      <td>146885</td>\n      <td>test</td>\n      <td>[1399 1076  797 7015 5942]</td>\n      <td>1654030811</td>\n    </tr>\n    <tr>\n      <th>2</th>\n      <td>50948</td>\n      <td>test</td>\n      <td>[2315 3037 1861 6567 4093]</td>\n      <td>1654030825</td>\n    </tr>\n    <tr>\n      <th>3</th>\n      <td>37703</td>\n      <td>test</td>\n      <td>[2842 1949  162 1588 6794]</td>\n      <td>1654030826</td>\n    </tr>\n    <tr>\n      <th>4</th>\n      <td>14661</td>\n      <td>test</td>\n      <td>[2395 5881 5648 3417  673]</td>\n      <td>1654030829</td>\n    </tr>\n    <tr>\n      <th>...</th>\n      <td>...</td>\n      <td>...</td>\n      <td>...</td>\n      <td>...</td>\n    </tr>\n    <tr>\n      <th>193290</th>\n      <td>158267</td>\n      <td>test</td>\n      <td>[1733 6834 4380 1915 1627]</td>\n      <td>1655240340</td>\n    </tr>\n    <tr>\n      <th>193291</th>\n      <td>63527</td>\n      <td>control</td>\n      <td>[2454  191 3873 6404 1588]</td>\n      <td>1655240347</td>\n    </tr>\n    <tr>\n      <th>193292</th>\n      <td>52169</td>\n      <td>test</td>\n      <td>[1368 1709 1616  798 5305]</td>\n      <td>1655240354</td>\n    </tr>\n    <tr>\n      <th>193293</th>\n      <td>142402</td>\n      <td>test</td>\n      <td>[5895 6984 1978 6548 6106]</td>\n      <td>1655240373</td>\n    </tr>\n    <tr>\n      <th>193294</th>\n      <td>72259</td>\n      <td>control</td>\n      <td>[6117 1255 6567 3587 3811]</td>\n      <td>1655240388</td>\n    </tr>\n  </tbody>\n</table>\n<p>193268 rows × 4 columns</p>\n</div>"
     },
     "execution_count": 9,
     "metadata": {},
     "output_type": "execute_result"
    }
   ],
   "source": [
    "clean_data = views[~views['user_id'].isin(invalid_users)]\n",
    "\n",
    "clean_data"
   ],
   "metadata": {
    "collapsed": false,
    "ExecuteTime": {
     "end_time": "2024-06-10T12:56:56.824028Z",
     "start_time": "2024-06-10T12:56:56.617845Z"
    }
   },
   "id": "3561691b213fd31c"
  },
  {
   "cell_type": "code",
   "execution_count": 10,
   "outputs": [
    {
     "name": "stdout",
     "output_type": "stream",
     "text": [
      "Количество пользователей в каждой группе:\n",
      "exp_group\n",
      "test       96898\n",
      "control    96370\n",
      "Name: count, dtype: int64\n",
      "\n",
      "P-значение биномиального теста: 0.23062291448605188\n"
     ]
    },
    {
     "name": "stderr",
     "output_type": "stream",
     "text": [
      "C:\\Temp\\ipykernel_4304\\1856752004.py:10: DeprecationWarning: 'binom_test' is deprecated in favour of 'binomtest' from version 1.7.0 and will be removed in Scipy 1.12.0.\n",
      "  p_value = binom_test([group_control_count, group_test_count], p=0.5)\n"
     ]
    }
   ],
   "source": [
    "group_counts = clean_data['exp_group'].value_counts()\n",
    "print(\"Количество пользователей в каждой группе:\")\n",
    "print(group_counts)\n",
    "\n",
    "total_users = len(clean_data)\n",
    "group_control_count = group_counts.get('control', 0)\n",
    "group_test_count = group_counts.get('test', 0)\n",
    "\n",
    "# Биномиальный тест\n",
    "p_value = binom_test([group_control_count, group_test_count], p=0.5)\n",
    "print(\"\\nP-значение биномиального теста:\", p_value)"
   ],
   "metadata": {
    "collapsed": false,
    "ExecuteTime": {
     "end_time": "2024-06-10T12:57:02.147859900Z",
     "start_time": "2024-06-10T12:56:56.825029800Z"
    }
   },
   "id": "51d0c0e5b8e15811"
  },
  {
   "cell_type": "markdown",
   "source": [
    "Теперь давайте попробуем оценить, а улучшаются ли наши метрики в тестовой группе.\n",
    "\n",
    "Наши данные о показах и кликах хранятся в разных табличках и просто так их не получается сджойнить. Давайте оставим это на потом, а пока попробуем оценить более простыми метриками. Подумайте, какие метрики можно было бы посчитать без джойна показов и кликов.\n",
    "\n",
    "Соберите табличку, в которой будут пользователи, попавшие в наш эксперимент (то есть те, для которых мы строили хотя бы одну рекомендацию). Посчитайте, кто из них сколько лайков сделал. Наверняка будут пользователи, которые не сделали ни один лайк.\n",
    "\n",
    "Посчитайте долю пользователей, которая сделала хотя бы один лайк за время эксперимента без разбивки на группы."
   ],
   "metadata": {
    "collapsed": false
   },
   "id": "809dcc62bfdda39d"
  },
  {
   "cell_type": "code",
   "execution_count": 11,
   "outputs": [],
   "source": [
    "experiment_users = views[['user_id']].drop_duplicates()"
   ],
   "metadata": {
    "collapsed": false,
    "ExecuteTime": {
     "end_time": "2024-06-10T12:57:03.260595600Z",
     "start_time": "2024-06-10T12:56:58.215478800Z"
    }
   },
   "id": "4cc6315dce750a9c"
  },
  {
   "cell_type": "code",
   "execution_count": 12,
   "outputs": [],
   "source": [
    "user_likes = likes.groupby('user_id').size().reset_index(name='likes_count')"
   ],
   "metadata": {
    "collapsed": false,
    "ExecuteTime": {
     "end_time": "2024-06-10T12:57:03.575903600Z",
     "start_time": "2024-06-10T12:57:03.169597400Z"
    }
   },
   "id": "d4e4f1e0e562ddc1"
  },
  {
   "cell_type": "code",
   "execution_count": 13,
   "outputs": [],
   "source": [
    "overall_likes = pd.merge(experiment_users, user_likes, on='user_id', how='left').fillna(0)"
   ],
   "metadata": {
    "collapsed": false,
    "ExecuteTime": {
     "end_time": "2024-06-10T12:57:03.615984500Z",
     "start_time": "2024-06-10T12:57:03.562907500Z"
    }
   },
   "id": "af83aa802a74b522"
  },
  {
   "cell_type": "code",
   "execution_count": 14,
   "outputs": [],
   "source": [
    "overall_likes['liked'] = overall_likes['likes_count'] > 0"
   ],
   "metadata": {
    "collapsed": false,
    "ExecuteTime": {
     "end_time": "2024-06-10T12:57:03.616988Z",
     "start_time": "2024-06-10T12:57:03.604630600Z"
    }
   },
   "id": "475260de71bc6882"
  },
  {
   "cell_type": "code",
   "execution_count": 15,
   "outputs": [
    {
     "data": {
      "text/plain": "       user_id  likes_count  liked\n0       128381          7.0   True\n1       146885          4.0   True\n2        50948          5.0   True\n3        37703          6.0   True\n4        14661         11.0   True\n...        ...          ...    ...\n65008    80500          1.0   True\n65009   149686          1.0   True\n65010     3615          1.0   True\n65011   119630          1.0   True\n65012   142402          1.0   True\n\n[65013 rows x 3 columns]",
      "text/html": "<div>\n<style scoped>\n    .dataframe tbody tr th:only-of-type {\n        vertical-align: middle;\n    }\n\n    .dataframe tbody tr th {\n        vertical-align: top;\n    }\n\n    .dataframe thead th {\n        text-align: right;\n    }\n</style>\n<table border=\"1\" class=\"dataframe\">\n  <thead>\n    <tr style=\"text-align: right;\">\n      <th></th>\n      <th>user_id</th>\n      <th>likes_count</th>\n      <th>liked</th>\n    </tr>\n  </thead>\n  <tbody>\n    <tr>\n      <th>0</th>\n      <td>128381</td>\n      <td>7.0</td>\n      <td>True</td>\n    </tr>\n    <tr>\n      <th>1</th>\n      <td>146885</td>\n      <td>4.0</td>\n      <td>True</td>\n    </tr>\n    <tr>\n      <th>2</th>\n      <td>50948</td>\n      <td>5.0</td>\n      <td>True</td>\n    </tr>\n    <tr>\n      <th>3</th>\n      <td>37703</td>\n      <td>6.0</td>\n      <td>True</td>\n    </tr>\n    <tr>\n      <th>4</th>\n      <td>14661</td>\n      <td>11.0</td>\n      <td>True</td>\n    </tr>\n    <tr>\n      <th>...</th>\n      <td>...</td>\n      <td>...</td>\n      <td>...</td>\n    </tr>\n    <tr>\n      <th>65008</th>\n      <td>80500</td>\n      <td>1.0</td>\n      <td>True</td>\n    </tr>\n    <tr>\n      <th>65009</th>\n      <td>149686</td>\n      <td>1.0</td>\n      <td>True</td>\n    </tr>\n    <tr>\n      <th>65010</th>\n      <td>3615</td>\n      <td>1.0</td>\n      <td>True</td>\n    </tr>\n    <tr>\n      <th>65011</th>\n      <td>119630</td>\n      <td>1.0</td>\n      <td>True</td>\n    </tr>\n    <tr>\n      <th>65012</th>\n      <td>142402</td>\n      <td>1.0</td>\n      <td>True</td>\n    </tr>\n  </tbody>\n</table>\n<p>65013 rows × 3 columns</p>\n</div>"
     },
     "execution_count": 15,
     "metadata": {},
     "output_type": "execute_result"
    }
   ],
   "source": [
    "overall_likes"
   ],
   "metadata": {
    "collapsed": false,
    "ExecuteTime": {
     "end_time": "2024-06-10T12:57:03.670048800Z",
     "start_time": "2024-06-10T12:57:03.610990100Z"
    }
   },
   "id": "54ef5eb081ff75b3"
  },
  {
   "cell_type": "code",
   "execution_count": 16,
   "outputs": [
    {
     "name": "stdout",
     "output_type": "stream",
     "text": [
      "Доля пользователей, сделавших хотя бы один лайк: 89.48%\n"
     ]
    }
   ],
   "source": [
    "like_ratio = overall_likes['liked'].mean()\n",
    "\n",
    "print(f\"Доля пользователей, сделавших хотя бы один лайк: {like_ratio:.2%}\")"
   ],
   "metadata": {
    "collapsed": false,
    "ExecuteTime": {
     "end_time": "2024-06-10T12:57:03.695068300Z",
     "start_time": "2024-06-10T12:57:03.653167900Z"
    }
   },
   "id": "9131c6fcd42cd8de"
  },
  {
   "cell_type": "code",
   "execution_count": 17,
   "outputs": [
    {
     "data": {
      "text/plain": "<Figure size 1000x600 with 1 Axes>",
      "image/png": "[encoded data removed]"
     },
     "metadata": {},
     "output_type": "display_data"
    }
   ],
   "source": [
    "import matplotlib.pyplot as plt\n",
    "\n",
    "# Создание гистограммы распределения лайков\n",
    "plt.figure(figsize=(10, 6))\n",
    "plt.hist(overall_likes['likes_count'], bins=10, color='skyblue', edgecolor='black', alpha=0.7)\n",
    "plt.xlabel('Number of Likes')\n",
    "plt.ylabel('Frequency')\n",
    "plt.title('Distribution of Likes')\n",
    "plt.grid(True)\n",
    "plt.show()"
   ],
   "metadata": {
    "collapsed": false,
    "ExecuteTime": {
     "end_time": "2024-06-10T12:57:04.103009500Z",
     "start_time": "2024-06-10T12:57:03.678066200Z"
    }
   },
   "id": "cac558c77ddf8acb"
  },
  {
   "cell_type": "code",
   "execution_count": 18,
   "outputs": [
    {
     "name": "stdout",
     "output_type": "stream",
     "text": [
      "Статистика U: 6571322172.5\n",
      "p-значение: 0.0013802992391678576\n",
      "Различия в числе лайков на пользователя между группами статистически значимы\n"
     ]
    }
   ],
   "source": [
    "from scipy.stats import mannwhitneyu\n",
    "\n",
    "statistic, p_value = mannwhitneyu(likes[likes['user_id'].isin(views[views['exp_group'] == 'control']['user_id'])]['user_id'],\n",
    "                                   likes[likes['user_id'].isin(views[views['exp_group'] == 'test']['user_id'])]['user_id'])\n",
    "\n",
    "print(\"Статистика U:\", statistic)\n",
    "print(\"p-значение:\", p_value)\n",
    "\n",
    "alpha = 0.05\n",
    "if p_value < alpha:\n",
    "    print(\"Различия в числе лайков на пользователя между группами статистически значимы\")\n",
    "else:\n",
    "    print(\"Нет статистически значимых различий в числе лайков на пользователя между группами\")"
   ],
   "metadata": {
    "collapsed": false,
    "ExecuteTime": {
     "end_time": "2024-06-10T12:57:08.844697Z",
     "start_time": "2024-06-10T12:57:08.389623600Z"
    }
   },
   "id": "ba163dd20701d1c2"
  },
  {
   "cell_type": "code",
   "execution_count": 19,
   "outputs": [
    {
     "name": "stdout",
     "output_type": "stream",
     "text": [
      "Статистика U: 518488011.0\n",
      "p-значение: 2.9682285363509693e-05\n",
      "Различия в доле пользователей хотя бы с одним лайком между группами статистически значимы\n"
     ]
    }
   ],
   "source": [
    "from scipy.stats import mannwhitneyu\n",
    "\n",
    "# Выполним тест Манна-Уитни\n",
    "statistic, p_value = mannwhitneyu(overall_likes[overall_likes['user_id'].isin(views[views['exp_group'] == 'control']['user_id'])]['likes_count'],\n",
    "                                   overall_likes[overall_likes['user_id'].isin(views[views['exp_group'] == 'test']['user_id'])]['likes_count'])\n",
    "\n",
    "# Выведем результаты\n",
    "print(\"Статистика U:\", statistic)\n",
    "print(\"p-значение:\", p_value)\n",
    "\n",
    "alpha = 0.05\n",
    "if p_value < alpha:\n",
    "    print(\"Различия в доле пользователей хотя бы с одним лайком между группами статистически значимы\")\n",
    "else:\n",
    "    print(\"Нет статистически значимых различий в доле пользователей хотя бы с одним лайком\")"
   ],
   "metadata": {
    "collapsed": false,
    "ExecuteTime": {
     "end_time": "2024-06-10T12:57:09.751556400Z",
     "start_time": "2024-06-10T12:57:09.582274Z"
    }
   },
   "id": "6fd20438b0c9e822"
  },
  {
   "cell_type": "markdown",
   "source": [
    "А теперь давайте сделаем самое сложное — посчитаем hitrate (или долю рекомендаций, в которые пользователи кликнули). Для этого мы хотим собрать в одной табличке информацию о показанных постах и соответствующих кликах.\n",
    "\n",
    "У нас нет айдишника, по которому мы можем сджойнить, но есть два других способа сделать это:\n",
    "\n",
    "По каждому пользователю отсортировать в обратном по времени порядке все лайки и показы рекомендаций (удобнее прямо в одном списке). Далее в цикле пробежаться по этому списку. Если мы встречаем лайк, то запоминаем его (лайков может быть несколько подряд, надо сохранить все). Если мы встречаем показ рекомендаций, то сохраняем его вместе с уже сохранёнными лайками (так как эти лайки следуют за этим показом рекомендаций в \"обычном направлении времени\"), при этом список сохранёных лайков очищаем (мы уже приписали эти лайки другим показам). Тем самым мы соединим все показы рекомендаций со всеми лайками после них. Нужно только ещё следить за тем, что может быть лайк, который случился через большое время после показа рекомендаций — скорее всего, мы потеряли другой показ рекомендаций, поэтому такой лайк не надо учитывать.\n",
    "Сделать join по пользователям всех лайков и всех показов рекомендаций (то есть у нас появятся пары всех показов и всех лайков одного и того же пользователя, но не все эти пары реальны). Далее отфильтровать те ситуации, где лайк предшествовал показу рекомендаций (то есть относился на самом деле к другому показу) или был слишком поздно (тоже относится к другому показу).\n",
    "Оба эти способа не идеальные и довольно муторные. В pandas проще сделать второй из них. Попробуйте сделать его. В качестве проверки \"лайк произошёл слишком поздно после рекомендации\" возьмите отсечку 1 час (только лучше сначала просто помечать такие показы, как \"отсутствие лайка\", потому что если совсем удалять, то можно потерять показ). Добавьте также фильтрацию на то, что в рекомендациях был пост, на который пользователь лайкнул (иначе это точно был другой показ). В самом конце проведите уникализацию всех этих пар в строки показ-лайки (количество лайков может быть нулевым).\n",
    "\n",
    "На каждом этапе фильтрации следите за размерами таблиц, это поможет вам убедиться, что происходит что-то корректное. Не забудьте учесть тот факт, что могут быть показы рекомендаций без лайков (либо через тип join, либо добавить эти строки в конце). В итоге число строк должно быть похожим на то, которые было сначала в табличке с показами.\n",
    "\n",
    "Посчитайте долю показов, в которых был хотя бы один лайк."
   ],
   "metadata": {
    "collapsed": false
   },
   "id": "e43d5a031099c4e0"
  },
  {
   "cell_type": "markdown",
   "source": [
    "Сделать join по пользователям всех лайков и всех показов рекомендаций (то есть у нас появятся пары всех показов и всех лайков одного и того же пользователя, но не все эти пары реальны). Далее отфильтровать те ситуации, где лайк предшествовал показу рекомендаций (то есть относился на самом деле к другому показу) или был слишком поздно (тоже относится к другому показу).\n",
    "Оба эти способа не идеальные и довольно муторные. В pandas проще сделать второй из них. Попробуйте сделать его. В качестве проверки \"лайк произошёл слишком поздно после рекомендации\" возьмите отсечку 1 час (только лучше сначала просто помечать такие показы, как \"отсутствие лайка\", потому что если совсем удалять, то можно потерять показ). Добавьте также фильтрацию на то, что в рекомендациях был пост, на который пользователь лайкнул (иначе это точно был другой показ). В самом конце проведите уникализацию всех этих пар в строки показ-лайки (количество лайков может быть нулевым).\n",
    "\n",
    "На каждом этапе фильтрации следите за размерами таблиц, это поможет вам убедиться, что происходит что-то корректное. Не забудьте учесть тот факт, что могут быть показы рекомендаций без лайков (либо через тип join, либо добавить эти строки в конце). В итоге число строк должно быть похожим на то, которые было сначала в табличке с показами.\n",
    "\n",
    "Посчитайте долю показов, в которых был хотя бы один лайк."
   ],
   "metadata": {
    "collapsed": false
   },
   "id": "cb2e8b752f9380fb"
  },
  {
   "cell_type": "code",
   "execution_count": 20,
   "outputs": [],
   "source": [
    "merged_data = pd.merge(views, likes, on='user_id', how='left')"
   ],
   "metadata": {
    "collapsed": false,
    "ExecuteTime": {
     "end_time": "2024-06-10T12:57:13.989260900Z",
     "start_time": "2024-06-10T12:57:13.736267500Z"
    }
   },
   "id": "3438b95abb16695d"
  },
  {
   "cell_type": "code",
   "execution_count": 21,
   "outputs": [
    {
     "data": {
      "text/plain": "         user_id exp_group             recommendations  timestamp_x  post_id  \\\n0         128381   control  [3644 4529 4704 5294 4808]   1654030803   4704.0   \n1         128381   control  [3644 4529 4704 5294 4808]   1654030803   5294.0   \n2         128381   control  [3644 4529 4704 5294 4808]   1654030803   3608.0   \n3         128381   control  [3644 4529 4704 5294 4808]   1654030803   2542.0   \n4         128381   control  [3644 4529 4704 5294 4808]   1654030803   4165.0   \n...          ...       ...                         ...          ...      ...   \n1017168    52169      test  [1368 1709 1616  798 5305]   1655240354   1709.0   \n1017169   142402      test  [5895 6984 1978 6548 6106]   1655240373   6548.0   \n1017170    72259   control  [6117 1255 6567 3587 3811]   1655240388   1712.0   \n1017171    72259   control  [6117 1255 6567 3587 3811]   1655240388   5070.0   \n1017172    72259   control  [6117 1255 6567 3587 3811]   1655240388   4711.0   \n\n          timestamp_y  \n0        1.654031e+09  \n1        1.654031e+09  \n2        1.655049e+09  \n3        1.655049e+09  \n4        1.655053e+09  \n...               ...  \n1017168  1.655240e+09  \n1017169  1.655240e+09  \n1017170  1.654305e+09  \n1017171  1.654309e+09  \n1017172  1.654949e+09  \n\n[1017173 rows x 6 columns]",
      "text/html": "<div>\n<style scoped>\n    .dataframe tbody tr th:only-of-type {\n        vertical-align: middle;\n    }\n\n    .dataframe tbody tr th {\n        vertical-align: top;\n    }\n\n    .dataframe thead th {\n        text-align: right;\n    }\n</style>\n<table border=\"1\" class=\"dataframe\">\n  <thead>\n    <tr style=\"text-align: right;\">\n      <th></th>\n      <th>user_id</th>\n      <th>exp_group</th>\n      <th>recommendations</th>\n      <th>timestamp_x</th>\n      <th>post_id</th>\n      <th>timestamp_y</th>\n    </tr>\n  </thead>\n  <tbody>\n    <tr>\n      <th>0</th>\n      <td>128381</td>\n      <td>control</td>\n      <td>[3644 4529 4704 5294 4808]</td>\n      <td>1654030803</td>\n      <td>4704.0</td>\n      <td>1.654031e+09</td>\n    </tr>\n    <tr>\n      <th>1</th>\n      <td>128381</td>\n      <td>control</td>\n      <td>[3644 4529 4704 5294 4808]</td>\n      <td>1654030803</td>\n      <td>5294.0</td>\n      <td>1.654031e+09</td>\n    </tr>\n    <tr>\n      <th>2</th>\n      <td>128381</td>\n      <td>control</td>\n      <td>[3644 4529 4704 5294 4808]</td>\n      <td>1654030803</td>\n      <td>3608.0</td>\n      <td>1.655049e+09</td>\n    </tr>\n    <tr>\n      <th>3</th>\n      <td>128381</td>\n      <td>control</td>\n      <td>[3644 4529 4704 5294 4808]</td>\n      <td>1654030803</td>\n      <td>2542.0</td>\n      <td>1.655049e+09</td>\n    </tr>\n    <tr>\n      <th>4</th>\n      <td>128381</td>\n      <td>control</td>\n      <td>[3644 4529 4704 5294 4808]</td>\n      <td>1654030803</td>\n      <td>4165.0</td>\n      <td>1.655053e+09</td>\n    </tr>\n    <tr>\n      <th>...</th>\n      <td>...</td>\n      <td>...</td>\n      <td>...</td>\n      <td>...</td>\n      <td>...</td>\n      <td>...</td>\n    </tr>\n    <tr>\n      <th>1017168</th>\n      <td>52169</td>\n      <td>test</td>\n      <td>[1368 1709 1616  798 5305]</td>\n      <td>1655240354</td>\n      <td>1709.0</td>\n      <td>1.655240e+09</td>\n    </tr>\n    <tr>\n      <th>1017169</th>\n      <td>142402</td>\n      <td>test</td>\n      <td>[5895 6984 1978 6548 6106]</td>\n      <td>1655240373</td>\n      <td>6548.0</td>\n      <td>1.655240e+09</td>\n    </tr>\n    <tr>\n      <th>1017170</th>\n      <td>72259</td>\n      <td>control</td>\n      <td>[6117 1255 6567 3587 3811]</td>\n      <td>1655240388</td>\n      <td>1712.0</td>\n      <td>1.654305e+09</td>\n    </tr>\n    <tr>\n      <th>1017171</th>\n      <td>72259</td>\n      <td>control</td>\n      <td>[6117 1255 6567 3587 3811]</td>\n      <td>1655240388</td>\n      <td>5070.0</td>\n      <td>1.654309e+09</td>\n    </tr>\n    <tr>\n      <th>1017172</th>\n      <td>72259</td>\n      <td>control</td>\n      <td>[6117 1255 6567 3587 3811]</td>\n      <td>1655240388</td>\n      <td>4711.0</td>\n      <td>1.654949e+09</td>\n    </tr>\n  </tbody>\n</table>\n<p>1017173 rows × 6 columns</p>\n</div>"
     },
     "execution_count": 21,
     "metadata": {},
     "output_type": "execute_result"
    }
   ],
   "source": [
    "merged_data"
   ],
   "metadata": {
    "collapsed": false,
    "ExecuteTime": {
     "end_time": "2024-06-10T12:57:14.936861300Z",
     "start_time": "2024-06-10T12:57:14.897281700Z"
    }
   },
   "id": "22e641211adea485"
  },
  {
   "cell_type": "code",
   "execution_count": 88,
   "outputs": [],
   "source": [
    "merged_data['recommendations'] = merged_data['recommendations'].str.split()"
   ],
   "metadata": {
    "collapsed": false,
    "ExecuteTime": {
     "end_time": "2024-06-10T12:44:25.280540700Z",
     "start_time": "2024-06-10T12:44:23.063175Z"
    }
   },
   "id": "63f2d1ad3a9e8a06"
  },
  {
   "cell_type": "code",
   "execution_count": null,
   "outputs": [],
   "source": [
    "merged_data['post_id_y'].fillna(0, inplace=True)  # Заполним пропуски в post_id_y нулями\n",
    "merged_data['interaction_time'] = merged_data['timestamp_y'] - merged_data['timestamp_x']\n",
    "merged_data['is_later_like'] = (merged_data['interaction_time'] > 3600) | (merged_data['interaction_time'].isna())\n",
    "merged_data['is_later_view'] = merged_data['interaction_time'] < 0\n",
    "merged_data['is_not_recommended'] = merged_data.apply(lambda row: int(row['post_id_x']) not in row['recommendations'], axis=1)"
   ],
   "metadata": {
    "collapsed": false
   },
   "id": "8996ae788b7972ba"
  },
  {
   "cell_type": "code",
   "execution_count": null,
   "outputs": [],
   "source": [
    "def count_likes(row):\n",
    "    if row['is_not_recommended'] or row['is_later_like'] or row['is_later_view']:\n",
    "        return 0\n",
    "    post_id = int(row['post_id_x'])\n",
    "    user_id = row['user_id']\n",
    "    return sum(1 for like_post_id in row['recommendations'] if like_post_id == post_id and (user_id, post_id, row['timestamp_x']) in zip(likes['user_id'], likes['post_id'], likes['timestamp']))\n",
    "\n",
    "merged_data['hitrate'] = merged_data.apply(count_likes, axis=1)\n"
   ],
   "metadata": {
    "collapsed": false
   },
   "id": "7d8a989a4c830260"
  },
  {
   "cell_type": "code",
   "execution_count": null,
   "outputs": [],
   "source": [
    "total_views = merged_data.shape[0]\n",
    "views_with_likes = merged_data[merged_data['hitrate'] > 0].shape[0]\n",
    "like_frequency = views_with_likes / total_views\n",
    "\n",
    "print(\"Относительная частота лайкания:\", like_frequency)"
   ],
   "metadata": {
    "collapsed": false
   },
   "id": "e4a1cb74bb60e60d"
  },
  {
   "cell_type": "markdown",
   "source": [
    "А теперь давайте оценим различие между группами и значимость. z-критерий для долей мы здесь не можем применять, так как у нас в каждой выборке один и тот же пользователь может встречаться несколько раз. Давайте применим бакетный подход (то есть перейдём к бакетам и по ним оценим значимость), чтобы посчитать групповой hitrate (или CTR) — доля hitrate по группе/бакету. Используйте 100 бакетов. Уровень значимости останется тем же на уровне 0.05.\n",
    "\n",
    "Какой вывод мы можем сделать?"
   ],
   "metadata": {
    "collapsed": false
   },
   "id": "ffb7193022fc71c"
  },
  {
   "cell_type": "code",
   "execution_count": 28,
   "outputs": [
    {
     "name": "stdout",
     "output_type": "stream",
     "text": [
      "Нет статистически значимых различий между бакетами (группами).\n"
     ]
    }
   ],
   "source": [
    "import numpy as np\n",
    "from scipy.stats import chi2_contingency\n",
    "\n",
    "# Разделение данных на бакеты\n",
    "n_buckets = 100\n",
    "merged_data['bucket'] = pd.qcut(merged_data['timestamp_x'], n_buckets, labels=False)\n",
    "\n",
    "# Вычисление hitrate для каждого бакета\n",
    "def calculate_hitrate(group):\n",
    "    return (group['post_id'].notnull()).mean()  # hitrate: доля случаев, когда был хотя бы один лайк\n",
    "\n",
    "bucket_hitrates = merged_data.groupby('bucket').apply(calculate_hitrate)\n",
    "\n",
    "# Проверка наличия статистически значимых различий между бакетами\n",
    "chi2, p_val, *_ = chi2_contingency(np.array([bucket_hitrates.values, np.ones(len(bucket_hitrates))]).T)  # Используем звездочку для игнорирования оставшихся значений\n",
    "\n",
    "alpha = 0.05\n",
    "\n",
    "if p_val < alpha:\n",
    "    print(\"Существуют статистически значимые различия между бакетами (группами).\")\n",
    "else:\n",
    "    print(\"Нет статистически значимых различий между бакетами (группами).\")\n"
   ],
   "metadata": {
    "collapsed": false,
    "ExecuteTime": {
     "end_time": "2024-06-10T13:00:05.613705800Z",
     "start_time": "2024-06-10T13:00:05.388369400Z"
    }
   },
   "id": "4ecede04d0cc5c50"
  },
  {
   "cell_type": "code",
   "execution_count": null,
   "outputs": [],
   "source": [],
   "metadata": {
    "collapsed": false
   },
   "id": "391928625fd4bbb7"
  }
 ],
 "metadata": {
  "kernelspec": {
   "display_name": "Python 3",
   "language": "python",
   "name": "python3"
  },
  "language_info": {
   "codemirror_mode": {
    "name": "ipython",
    "version": 2
   },
   "file_extension": ".py",
   "mimetype": "text/x-python",
   "name": "python",
   "nbconvert_exporter": "python",
   "pygments_lexer": "ipython2",
   "version": "2.7.6"
  }
 },
 "nbformat": 4,
 "nbformat_minor": 5
}
