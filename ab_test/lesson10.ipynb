{
 "cells": [
  {
   "cell_type": "code",
   "execution_count": 10,
   "outputs": [],
   "source": [
    "import hashlib\n",
    "\n",
    "import pandas as pd\n",
    "import numpy as np\n",
    "import seaborn as sns\n",
    "import matplotlib as plt"
   ],
   "metadata": {
    "collapsed": false,
    "ExecuteTime": {
     "end_time": "2024-05-23T14:01:46.421647500Z",
     "start_time": "2024-05-23T14:01:46.402130100Z"
    }
   },
   "id": "b314d4941d8e2681"
  },
  {
   "cell_type": "markdown",
   "source": [
    "Попробуем применить CUPED на практике на синтетических данных (на реальных, конечно, эффект будет не таким большим)."
   ],
   "metadata": {
    "collapsed": false
   },
   "id": "88ba777fa3cc5c7b"
  },
  {
   "cell_type": "markdown",
   "source": [
    "В нём мы генерируем нашу метрику «трат» для 2-х групп пользователей так, что исходная привычка распределена логнормально, а в наших периодах до и во время эксперимента с некоторым нормальным отклонением от привычки каждого пользователя. При этом в тестовом периоде люди тратят больше."
   ],
   "metadata": {
    "collapsed": false
   },
   "id": "43804ed99c288e42"
  },
  {
   "cell_type": "code",
   "execution_count": 2,
   "id": "initial_id",
   "metadata": {
    "collapsed": true,
    "ExecuteTime": {
     "end_time": "2024-05-23T13:52:15.011220900Z",
     "start_time": "2024-05-23T13:52:14.993983100Z"
    }
   },
   "outputs": [],
   "source": [
    "users_num = 10000\n",
    "\n",
    "df = pd.DataFrame()\n",
    "df['user'] = range(users_num)\n",
    "df['group'] = np.random.rand(users_num) < 0.5\n",
    "\n",
    "df['user_mean'] = np.random.lognormal(mean=np.log(1000), sigma=0.5, size=users_num)\n",
    "df['cost_before'] = np.abs(\n",
    "    df['user_mean'] + np.random.normal(0, 100, size=users_num)\n",
    ")\n",
    "df['cost'] = np.abs(\n",
    "    df['user_mean'] + np.random.normal(50, 100, size=users_num)\n",
    ")"
   ]
  },
  {
   "cell_type": "code",
   "execution_count": 3,
   "outputs": [
    {
     "data": {
      "text/plain": "0.9739419276579006"
     },
     "execution_count": 3,
     "metadata": {},
     "output_type": "execute_result"
    }
   ],
   "source": [
    "theta = np.cov(df['cost'], df['cost_before'])[0,1]/np.var(df['cost_before'])\n",
    "theta"
   ],
   "metadata": {
    "collapsed": false,
    "ExecuteTime": {
     "end_time": "2024-05-23T13:53:08.884728400Z",
     "start_time": "2024-05-23T13:53:08.845022300Z"
    }
   },
   "id": "9c6c992bdabc32d1"
  },
  {
   "cell_type": "code",
   "execution_count": 5,
   "outputs": [],
   "source": [
    "df['cost_cuped'] = df['cost'] - theta * (df['cost_before'] - \n",
    "                                         np.mean(df['cost_before']))"
   ],
   "metadata": {
    "collapsed": false,
    "ExecuteTime": {
     "end_time": "2024-05-23T13:54:37.950909Z",
     "start_time": "2024-05-23T13:54:37.924882Z"
    }
   },
   "id": "b9ceb1ef83a3e09b"
  },
  {
   "cell_type": "code",
   "execution_count": 6,
   "outputs": [
    {
     "data": {
      "text/plain": "(377887.1927112566, 358130.7369912245)"
     },
     "execution_count": 6,
     "metadata": {},
     "output_type": "execute_result"
    }
   ],
   "source": [
    "np.var(df[df.group == 0].cost), np.var(df[df.group == 1].cost)"
   ],
   "metadata": {
    "collapsed": false,
    "ExecuteTime": {
     "end_time": "2024-05-23T13:55:11.343208100Z",
     "start_time": "2024-05-23T13:55:11.309414300Z"
    }
   },
   "id": "b23a7425f916e00f"
  },
  {
   "cell_type": "code",
   "execution_count": 7,
   "outputs": [
    {
     "data": {
      "text/plain": "(19618.529198135737, 20159.90145180918)"
     },
     "execution_count": 7,
     "metadata": {},
     "output_type": "execute_result"
    }
   ],
   "source": [
    "np.var(df[df.group == 0].cost_cuped), np.var(df[df.group == 1].cost_cuped)"
   ],
   "metadata": {
    "collapsed": false,
    "ExecuteTime": {
     "end_time": "2024-05-23T13:55:30.296784400Z",
     "start_time": "2024-05-23T13:55:30.265115700Z"
    }
   },
   "id": "fdc9f6c60f84fdb0"
  },
  {
   "cell_type": "markdown",
   "source": [
    "Давайте практиковаться в бакетном тестировании, а заодно проверим, как будет различаться дисперсия CTR в бакете, если считать её двумя способами."
   ],
   "metadata": {
    "collapsed": false
   },
   "id": "4c1b525f43e1f8cb"
  },
  {
   "cell_type": "markdown",
   "source": [
    "Сделайте переход к бакетам (возьмём 100 штук), с помощью md5 хэша с солью, применённой к айдишнику пользователя (от соли результат сильно различаться не будет, но можете взять 'my_salt').\n",
    "\n",
    "Далее посчитайте два вида CTR: групповой (на основе количества кликов и просмотров в бакете) и обычный средний CTR пользователей в бакете (это нужно, чтобы мы сравнивали выборки одинаковых длин). Посчитайте среднеквадратичное отклонение этих CTR и сравните по одной из групп значения между этими способами."
   ],
   "metadata": {
    "collapsed": false
   },
   "id": "1cdbb69856f1bb83"
  },
  {
   "cell_type": "code",
   "execution_count": 8,
   "outputs": [],
   "source": [
    "np.random.seed(6)\n",
    "\n",
    "users_num = 10000\n",
    "mean_user_ctr = 0.2\n",
    "beta = 20\n",
    "alpha = mean_user_ctr * beta / (1 - mean_user_ctr)\n",
    "\n",
    "df = pd.DataFrame()\n",
    "df['user'] = range(users_num)\n",
    "df['group'] = np.random.rand(users_num) < 0.5\n",
    "\n",
    "df['base_user_ctr'] = np.random.beta(alpha, beta, size=users_num)\n",
    "df['views'] = np.random.lognormal(mean=1, sigma=1, size=users_num).astype(int) + 1\n",
    "df['clicks'] = np.random.binomial(df['views'], df['base_user_ctr'])"
   ],
   "metadata": {
    "collapsed": false,
    "ExecuteTime": {
     "end_time": "2024-05-23T13:57:48.190277800Z",
     "start_time": "2024-05-23T13:57:48.151671200Z"
    }
   },
   "id": "35fe1bbaac1deabe"
  },
  {
   "cell_type": "code",
   "execution_count": 11,
   "outputs": [
    {
     "ename": "AttributeError",
     "evalue": "module 'matplotlib' has no attribute 'show'",
     "output_type": "error",
     "traceback": [
      "\u001B[1;31m---------------------------------------------------------------------------\u001B[0m",
      "\u001B[1;31mAttributeError\u001B[0m                            Traceback (most recent call last)",
      "Cell \u001B[1;32mIn[11], line 4\u001B[0m\n\u001B[0;32m      1\u001B[0m df[\u001B[38;5;124m'\u001B[39m\u001B[38;5;124mbucket\u001B[39m\u001B[38;5;124m'\u001B[39m] \u001B[38;5;241m=\u001B[39m df[\u001B[38;5;124m'\u001B[39m\u001B[38;5;124muser\u001B[39m\u001B[38;5;124m'\u001B[39m]\u001B[38;5;241m.\u001B[39mapply(\u001B[38;5;28;01mlambda\u001B[39;00m x: \u001B[38;5;28mint\u001B[39m(hashlib\u001B[38;5;241m.\u001B[39mmd5((\u001B[38;5;28mstr\u001B[39m(x) \u001B[38;5;241m+\u001B[39m \u001B[38;5;124m'\u001B[39m\u001B[38;5;124mmy_salt\u001B[39m\u001B[38;5;124m'\u001B[39m)\u001B[38;5;241m.\u001B[39mencode())\u001B[38;5;241m.\u001B[39mhexdigest(),\u001B[38;5;241m16\u001B[39m)\u001B[38;5;241m%\u001B[39m\u001B[38;5;241m100\u001B[39m)\n\u001B[0;32m      3\u001B[0m sns\u001B[38;5;241m.\u001B[39mhistplot(df\u001B[38;5;241m.\u001B[39mbucket)\n\u001B[1;32m----> 4\u001B[0m \u001B[43mplt\u001B[49m\u001B[38;5;241;43m.\u001B[39;49m\u001B[43mshow\u001B[49m()\n",
      "File \u001B[1;32m~\\AppData\\Roaming\\Python\\Python311\\site-packages\\matplotlib\\_api\\__init__.py:217\u001B[0m, in \u001B[0;36mcaching_module_getattr.<locals>.__getattr__\u001B[1;34m(name)\u001B[0m\n\u001B[0;32m    215\u001B[0m \u001B[38;5;28;01mif\u001B[39;00m name \u001B[38;5;129;01min\u001B[39;00m props:\n\u001B[0;32m    216\u001B[0m     \u001B[38;5;28;01mreturn\u001B[39;00m props[name]\u001B[38;5;241m.\u001B[39m\u001B[38;5;21m__get__\u001B[39m(instance)\n\u001B[1;32m--> 217\u001B[0m \u001B[38;5;28;01mraise\u001B[39;00m \u001B[38;5;167;01mAttributeError\u001B[39;00m(\n\u001B[0;32m    218\u001B[0m     \u001B[38;5;124mf\u001B[39m\u001B[38;5;124m\"\u001B[39m\u001B[38;5;124mmodule \u001B[39m\u001B[38;5;132;01m{\u001B[39;00m\u001B[38;5;28mcls\u001B[39m\u001B[38;5;241m.\u001B[39m\u001B[38;5;18m__module__\u001B[39m\u001B[38;5;132;01m!r}\u001B[39;00m\u001B[38;5;124m has no attribute \u001B[39m\u001B[38;5;132;01m{\u001B[39;00mname\u001B[38;5;132;01m!r}\u001B[39;00m\u001B[38;5;124m\"\u001B[39m)\n",
      "\u001B[1;31mAttributeError\u001B[0m: module 'matplotlib' has no attribute 'show'"
     ]
    },
    {
     "data": {
      "text/plain": "<Figure size 640x480 with 1 Axes>",
      "image/png": "[encoded data removed]"
     },
     "metadata": {},
     "output_type": "display_data"
    }
   ],
   "source": [
    "df['bucket'] = df['user'].apply(lambda x: int(hashlib.md5((str(x) + 'my_salt').encode()).hexdigest(),16)%100)\n",
    "\n",
    "sns.histplot(df.bucket)\n",
    "plt.show()"
   ],
   "metadata": {
    "collapsed": false,
    "ExecuteTime": {
     "end_time": "2024-05-23T14:01:51.822030400Z",
     "start_time": "2024-05-23T14:01:51.182929500Z"
    }
   },
   "id": "e17c82026d1ddda"
  },
  {
   "cell_type": "code",
   "execution_count": 14,
   "outputs": [
    {
     "name": "stdout",
     "output_type": "stream",
     "text": [
      "Среднеквадратическое отклонение группового CTR: 0.027089697870797593\n",
      "Среднеквадратическое отклонение среднего по пользователям CTR: 0.03398919968394813\n"
     ]
    }
   ],
   "source": [
    "# Выбираем одну из групп для анализа\n",
    "group_df = df[df['group'] == 0]\n",
    "\n",
    "# Шаг 3: Рассчёт группового и среднего по пользователям CTR\n",
    "buckets = group_df['bucket'].unique()\n",
    "group_ctr = []\n",
    "mean_user_ctr = []\n",
    "\n",
    "for bucket in buckets:\n",
    "    bucket_df = group_df[group_df['bucket'] == bucket]\n",
    "    \n",
    "    total_clicks = bucket_df['clicks'].sum()\n",
    "    total_views = bucket_df['views'].sum()\n",
    "    \n",
    "    group_ctr.append(total_clicks / total_views)\n",
    "    mean_user_ctr.append((bucket_df['clicks'] / bucket_df['views']).mean())\n",
    "\n",
    "group_ctr = np.array(group_ctr)\n",
    "mean_user_ctr = np.array(mean_user_ctr)\n",
    "\n",
    "# Шаг 4: Сравнение среднеквадратичного отклонения\n",
    "std_group_ctr = np.std(group_ctr)\n",
    "std_mean_user_ctr = np.std(mean_user_ctr)\n",
    "\n",
    "print(\"Среднеквадратическое отклонение группового CTR:\", std_group_ctr)\n",
    "print(\"Среднеквадратическое отклонение среднего по пользователям CTR:\", std_mean_user_ctr)"
   ],
   "metadata": {
    "collapsed": false,
    "ExecuteTime": {
     "end_time": "2024-05-23T14:05:00.270813Z",
     "start_time": "2024-05-23T14:05:00.232061300Z"
    }
   },
   "id": "c2d7aa7768bcb937"
  },
  {
   "cell_type": "code",
   "execution_count": null,
   "outputs": [],
   "source": [],
   "metadata": {
    "collapsed": false
   },
   "id": "1c8604de4ada714d"
  }
 ],
 "metadata": {
  "kernelspec": {
   "display_name": "Python 3",
   "language": "python",
   "name": "python3"
  },
  "language_info": {
   "codemirror_mode": {
    "name": "ipython",
    "version": 2
   },
   "file_extension": ".py",
   "mimetype": "text/x-python",
   "name": "python",
   "nbconvert_exporter": "python",
   "pygments_lexer": "ipython2",
   "version": "2.7.6"
  }
 },
 "nbformat": 4,
 "nbformat_minor": 5
}
