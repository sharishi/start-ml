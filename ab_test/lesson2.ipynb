{
 "cells": [
  {
   "cell_type": "code",
   "execution_count": 37,
   "id": "initial_id",
   "metadata": {
    "collapsed": true,
    "ExecuteTime": {
     "end_time": "2024-04-29T09:29:13.205746800Z",
     "start_time": "2024-04-29T09:29:13.188740900Z"
    }
   },
   "outputs": [],
   "source": [
    "from scipy.stats import binom, norm, t, bootstrap\n",
    "import numpy as np"
   ]
  },
  {
   "cell_type": "markdown",
   "source": [
    "Теперь представим, что мы обзвонили 1000 клиентов и хотим проверить, с какой вероятностью 100 и меньше пользователей согласятся продлить нашу подписку."
   ],
   "metadata": {
    "collapsed": false
   },
   "id": "cde31448a82fc82a"
  },
  {
   "cell_type": "code",
   "execution_count": 15,
   "outputs": [
    {
     "name": "stdout",
     "output_type": "stream",
     "text": [
      "Вероятность того, что 100 или меньше пользователей согласятся продлить подписку: 0.00%\n"
     ]
    }
   ],
   "source": [
    "total_clients = 1000\n",
    "p_success = 0.3\n",
    "max_successes = 100\n",
    "probability = binom.cdf(max_successes, total_clients, p_success)\n",
    "print(\"Вероятность того, что 100 или меньше пользователей согласятся продлить подписку: {:.2%}\".format(probability))"
   ],
   "metadata": {
    "collapsed": false,
    "ExecuteTime": {
     "end_time": "2024-04-29T08:39:39.218444300Z",
     "start_time": "2024-04-29T08:39:39.213448800Z"
    }
   },
   "id": "a610c16ce5798cd"
  },
  {
   "cell_type": "code",
   "execution_count": 18,
   "outputs": [],
   "source": [
    "nnn = norm.ppf(max_successes, total_clients, p_success)"
   ],
   "metadata": {
    "collapsed": false,
    "ExecuteTime": {
     "end_time": "2024-04-29T08:42:49.401933900Z",
     "start_time": "2024-04-29T08:42:49.384926100Z"
    }
   },
   "id": "bd8da51fb92efb1"
  },
  {
   "cell_type": "code",
   "execution_count": 19,
   "outputs": [
    {
     "data": {
      "text/plain": "nan"
     },
     "execution_count": 19,
     "metadata": {},
     "output_type": "execute_result"
    }
   ],
   "source": [
    "nnn"
   ],
   "metadata": {
    "collapsed": false,
    "ExecuteTime": {
     "end_time": "2024-04-29T08:42:53.183418600Z",
     "start_time": "2024-04-29T08:42:53.173903Z"
    }
   },
   "id": "953126d0a643644b"
  },
  {
   "cell_type": "markdown",
   "source": [
    "Правило 2-х сигм возникло из-за того, что для 95%-го доверительного интервала (уровня значимости 0.05) выходит, что квантили стандартного нормального распределения близки к 2.\n",
    "\n",
    "Давайте проверим, а какому доверительному интервалу соответствовало бы правило 3-х сигм?\n",
    "\n",
    "Для вычисления квантилей для распределений из модуля scipy.stats можно использовать метод ppf, а для функций распределения (обратной к квантили) — cdf."
   ],
   "metadata": {
    "collapsed": false
   },
   "id": "7672bc1c09549b88"
  },
  {
   "cell_type": "code",
   "execution_count": 22,
   "outputs": [
    {
     "name": "stdout",
     "output_type": "stream",
     "text": [
      "Доверительный интервал для правила 3-х сигм: 0.9973002039367398\n"
     ]
    }
   ],
   "source": [
    "p_three_sigma = 1 - norm.cdf(3, loc=0, scale=1)\n",
    "\n",
    "confidence_interval_three_sigma = 1 - 2 * p_three_sigma\n",
    "\n",
    "print(\"Доверительный интервал для правила 3-х сигм:\", confidence_interval_three_sigma)"
   ],
   "metadata": {
    "collapsed": false,
    "ExecuteTime": {
     "end_time": "2024-04-29T08:46:14.521827600Z",
     "start_time": "2024-04-29T08:46:14.513821900Z"
    }
   },
   "id": "3e51f10d5b5358d8"
  },
  {
   "cell_type": "code",
   "execution_count": 25,
   "outputs": [
    {
     "data": {
      "text/plain": "2.0638985616280205"
     },
     "execution_count": 25,
     "metadata": {},
     "output_type": "execute_result"
    }
   ],
   "source": [
    "q = 1 - 0.05 / 2\n",
    "df = 24\n",
    "t.ppf(q, df)"
   ],
   "metadata": {
    "collapsed": false,
    "ExecuteTime": {
     "end_time": "2024-04-29T08:58:02.236571700Z",
     "start_time": "2024-04-29T08:58:02.220850800Z"
    }
   },
   "id": "20ceda36e927544a"
  },
  {
   "cell_type": "markdown",
   "source": [
    "Предположим, что у нас есть 25 магазинов. Средняя выручка в день составляет 170 тысяч рублей, а оценённое по этой выборке среднеквадратичное отклонение составляет 12 тысяч рублей. Оцените 95%-й доверительный интервал средней выручки магазинов.\n",
    "\n",
    "Для выполнения задания вам могут быть полезны функции для распределений из модуля scipy.stats.\n",
    "\n",
    "Среди вариантов ответа выбирайте наиболее близкий вариант ответа."
   ],
   "metadata": {
    "collapsed": false
   },
   "id": "ec87b1b21cab5d9f"
  },
  {
   "cell_type": "code",
   "execution_count": 26,
   "outputs": [
    {
     "name": "stdout",
     "output_type": "stream",
     "text": [
      "95%-й доверительный интервал для средней выручки магазинов: (165046.64, 174953.36) рублей\n"
     ]
    }
   ],
   "source": [
    "n = 25 \n",
    "mean = 170000  \n",
    "std_dev = 12000  \n",
    "\n",
    "df = n - 1\n",
    "\n",
    "\n",
    "q = 1 - 0.05 / 2\n",
    "t_value = t.ppf(q, df)\n",
    "\n",
    "standard_error = std_dev / (n ** 0.5)\n",
    "\n",
    "margin_of_error = t_value * standard_error\n",
    "lower_bound = mean - margin_of_error\n",
    "upper_bound = mean + margin_of_error\n",
    "\n",
    "print(\"95%-й доверительный интервал для средней выручки магазинов: ({:.2f}, {:.2f}) рублей\".format(lower_bound, upper_bound))"
   ],
   "metadata": {
    "collapsed": false,
    "ExecuteTime": {
     "end_time": "2024-04-29T08:59:40.145868100Z",
     "start_time": "2024-04-29T08:59:40.137855100Z"
    }
   },
   "id": "258c68732e946dcd"
  },
  {
   "cell_type": "markdown",
   "source": [
    "Давайте ещё попрактикуемся в построении доверительного интервала. В качестве выборки будем брать синтетические данные — сгенерируйте 1000 чисел из распределения Пуассона с параметром 50. Вам будет полезен модуль random в библиотеке numpy.\n",
    "\n",
    "Посчитайте 95-й доверительный интервал среднего на основе центральной предельной теоремы. Какая ширина интервала у вас получилась? Среди вариантов ответа выбирайте ближайший к вашему."
   ],
   "metadata": {
    "collapsed": false
   },
   "id": "f915fde78a7964bf"
  },
  {
   "cell_type": "code",
   "execution_count": 32,
   "outputs": [],
   "source": [
    "lam = 50\n",
    "size = 1000 \n",
    "poisson_arr = np.random.poisson(lam, size)"
   ],
   "metadata": {
    "collapsed": false,
    "ExecuteTime": {
     "end_time": "2024-04-29T09:07:18.274921900Z",
     "start_time": "2024-04-29T09:07:18.268924Z"
    }
   },
   "id": "197cde2201f3d9c0"
  },
  {
   "cell_type": "code",
   "execution_count": 35,
   "outputs": [
    {
     "name": "stdout",
     "output_type": "stream",
     "text": [
      "95%-й доверительный интервал для средней выручки магазинов: (49.71, 50.59) рублей\n"
     ]
    }
   ],
   "source": [
    "mean = np.mean(poisson_arr) \n",
    "std_dev = np.std(poisson_arr)\n",
    "\n",
    "df = size - 1\n",
    "\n",
    "q = 1 - 0.05 / 2\n",
    "t_value = t.ppf(q, df)\n",
    "\n",
    "standard_error = std_dev / (size ** 0.5)\n",
    "\n",
    "margin_of_error = t_value * standard_error\n",
    "lower_bound = mean - margin_of_error\n",
    "upper_bound = mean + margin_of_error\n",
    "\n",
    "print(\"95%-й доверительный интервал для средней выручки магазинов: ({:.2f}, {:.2f}) рублей\".format(lower_bound, upper_bound))"
   ],
   "metadata": {
    "collapsed": false,
    "ExecuteTime": {
     "end_time": "2024-04-29T09:09:06.097572100Z",
     "start_time": "2024-04-29T09:09:06.085566500Z"
    }
   },
   "id": "739f6e527a150f1d"
  },
  {
   "cell_type": "code",
   "execution_count": 36,
   "outputs": [
    {
     "name": "stdout",
     "output_type": "stream",
     "text": [
      "Доверительный интервал среднего (95%): (49.349712762678834, 50.25228723732117)\n",
      "Ширина интервала: 0.9025744746423356\n"
     ]
    }
   ],
   "source": [
    "import numpy as np\n",
    "\n",
    "np.random.seed(42)  \n",
    "mu = 50  \n",
    "n = 1000 \n",
    "\n",
    "sample = np.random.poisson(mu, n)\n",
    "\n",
    "sample_mean = np.mean(sample)\n",
    "sample_std = np.std(sample, ddof=1) \n",
    "\n",
    "confidence_level = 0.95\n",
    "z_score = 1.96 \n",
    "margin_of_error = z_score * (sample_std / np.sqrt(n))\n",
    "confidence_interval = (sample_mean - margin_of_error, sample_mean + margin_of_error)\n",
    "\n",
    "interval_width = confidence_interval[1] - confidence_interval[0]\n",
    "\n",
    "print(\"Доверительный интервал среднего (95%):\", confidence_interval)\n",
    "print(\"Ширина интервала:\", interval_width)"
   ],
   "metadata": {
    "collapsed": false,
    "ExecuteTime": {
     "end_time": "2024-04-29T09:09:48.428350300Z",
     "start_time": "2024-04-29T09:09:48.417920300Z"
    }
   },
   "id": "38c8386a66a13ed5"
  },
  {
   "cell_type": "markdown",
   "source": [
    "Воспользуемся тем же набором данных (синтетическим из распределения Пуассона).\n",
    "\n",
    "Постройте 95-й доверительный интервал на среднеквадратичное отклонение с помощью бутстрэпа. Рекомендуется попробовать сделать это вручную (генерировать бутстрапированные выборки в цикле, сохранять нужную статистику, вычислять квантили вычисленного ряда статистик) и с помощью соответствующей функции из модуля stats библиотеки scipy. Внимание, у функции bootstrap есть параметр method, который определяет, как будут вычисляться границы доверительного интервала. В нашем случае это был percentile.\n",
    "\n",
    "На какой интервал больше всего похож ваш?"
   ],
   "metadata": {
    "collapsed": false
   },
   "id": "c9a7b3f107190913"
  },
  {
   "cell_type": "code",
   "execution_count": 43,
   "outputs": [
    {
     "ename": "ValueError",
     "evalue": "each sample in `data` must contain two or more observations along `axis`.",
     "output_type": "error",
     "traceback": [
      "\u001B[1;31m---------------------------------------------------------------------------\u001B[0m",
      "\u001B[1;31mValueError\u001B[0m                                Traceback (most recent call last)",
      "Cell \u001B[1;32mIn[43], line 1\u001B[0m\n\u001B[1;32m----> 1\u001B[0m conf_interval \u001B[38;5;241m=\u001B[39m \u001B[43mbootstrap\u001B[49m\u001B[43m(\u001B[49m\u001B[43mpoisson_arr\u001B[49m\u001B[43m,\u001B[49m\u001B[43m \u001B[49m\u001B[43mstatistic\u001B[49m\u001B[38;5;241;43m=\u001B[39;49m\u001B[43mnp\u001B[49m\u001B[38;5;241;43m.\u001B[39;49m\u001B[43mstd\u001B[49m\u001B[43m,\u001B[49m\u001B[43m \u001B[49m\u001B[43mconfidence_level\u001B[49m\u001B[38;5;241;43m=\u001B[39;49m\u001B[38;5;241;43m0.95\u001B[39;49m\u001B[43m,\u001B[49m\u001B[43m \u001B[49m\u001B[43mn_resamples\u001B[49m\u001B[38;5;241;43m=\u001B[39;49m\u001B[38;5;241;43m100\u001B[39;49m\u001B[43m,\u001B[49m\u001B[43m \u001B[49m\u001B[43mmethod\u001B[49m\u001B[38;5;241;43m=\u001B[39;49m\u001B[38;5;124;43m\"\u001B[39;49m\u001B[38;5;124;43mpercentile\u001B[39;49m\u001B[38;5;124;43m\"\u001B[39;49m\u001B[43m)\u001B[49m\n\u001B[0;32m      3\u001B[0m \u001B[38;5;28mprint\u001B[39m(\u001B[38;5;124m\"\u001B[39m\u001B[38;5;124m95\u001B[39m\u001B[38;5;124m%\u001B[39m\u001B[38;5;124m-й доверительный интервал для среднеквадратичного отклонения (с использованием функции bootstrap):\u001B[39m\u001B[38;5;124m\"\u001B[39m, conf_interval)\n",
      "File \u001B[1;32mC:\\Program Files\\Python311\\Lib\\site-packages\\scipy\\stats\\_resampling.py:608\u001B[0m, in \u001B[0;36mbootstrap\u001B[1;34m(data, statistic, n_resamples, batch, vectorized, paired, axis, confidence_level, alternative, method, bootstrap_result, random_state)\u001B[0m\n\u001B[0;32m    283\u001B[0m \u001B[38;5;250m\u001B[39m\u001B[38;5;124mr\u001B[39m\u001B[38;5;124;03m\"\"\"\u001B[39;00m\n\u001B[0;32m    284\u001B[0m \u001B[38;5;124;03mCompute a two-sided bootstrap confidence interval of a statistic.\u001B[39;00m\n\u001B[0;32m    285\u001B[0m \n\u001B[1;32m   (...)\u001B[0m\n\u001B[0;32m    605\u001B[0m \n\u001B[0;32m    606\u001B[0m \u001B[38;5;124;03m\"\"\"\u001B[39;00m\n\u001B[0;32m    607\u001B[0m \u001B[38;5;66;03m# Input validation\u001B[39;00m\n\u001B[1;32m--> 608\u001B[0m args \u001B[38;5;241m=\u001B[39m \u001B[43m_bootstrap_iv\u001B[49m\u001B[43m(\u001B[49m\u001B[43mdata\u001B[49m\u001B[43m,\u001B[49m\u001B[43m \u001B[49m\u001B[43mstatistic\u001B[49m\u001B[43m,\u001B[49m\u001B[43m \u001B[49m\u001B[43mvectorized\u001B[49m\u001B[43m,\u001B[49m\u001B[43m \u001B[49m\u001B[43mpaired\u001B[49m\u001B[43m,\u001B[49m\u001B[43m \u001B[49m\u001B[43maxis\u001B[49m\u001B[43m,\u001B[49m\n\u001B[0;32m    609\u001B[0m \u001B[43m                     \u001B[49m\u001B[43mconfidence_level\u001B[49m\u001B[43m,\u001B[49m\u001B[43m \u001B[49m\u001B[43malternative\u001B[49m\u001B[43m,\u001B[49m\u001B[43m \u001B[49m\u001B[43mn_resamples\u001B[49m\u001B[43m,\u001B[49m\u001B[43m \u001B[49m\u001B[43mbatch\u001B[49m\u001B[43m,\u001B[49m\n\u001B[0;32m    610\u001B[0m \u001B[43m                     \u001B[49m\u001B[43mmethod\u001B[49m\u001B[43m,\u001B[49m\u001B[43m \u001B[49m\u001B[43mbootstrap_result\u001B[49m\u001B[43m,\u001B[49m\u001B[43m \u001B[49m\u001B[43mrandom_state\u001B[49m\u001B[43m)\u001B[49m\n\u001B[0;32m    611\u001B[0m (data, statistic, vectorized, paired, axis, confidence_level,\n\u001B[0;32m    612\u001B[0m  alternative, n_resamples, batch, method, bootstrap_result,\n\u001B[0;32m    613\u001B[0m  random_state) \u001B[38;5;241m=\u001B[39m args\n\u001B[0;32m    615\u001B[0m theta_hat_b \u001B[38;5;241m=\u001B[39m ([] \u001B[38;5;28;01mif\u001B[39;00m bootstrap_result \u001B[38;5;129;01mis\u001B[39;00m \u001B[38;5;28;01mNone\u001B[39;00m\n\u001B[0;32m    616\u001B[0m                \u001B[38;5;28;01melse\u001B[39;00m [bootstrap_result\u001B[38;5;241m.\u001B[39mbootstrap_distribution])\n",
      "File \u001B[1;32mC:\\Program Files\\Python311\\Lib\\site-packages\\scipy\\stats\\_resampling.py:190\u001B[0m, in \u001B[0;36m_bootstrap_iv\u001B[1;34m(data, statistic, vectorized, paired, axis, confidence_level, alternative, n_resamples, batch, method, bootstrap_result, random_state)\u001B[0m\n\u001B[0;32m    188\u001B[0m sample \u001B[38;5;241m=\u001B[39m np\u001B[38;5;241m.\u001B[39matleast_1d(sample)\n\u001B[0;32m    189\u001B[0m \u001B[38;5;28;01mif\u001B[39;00m sample\u001B[38;5;241m.\u001B[39mshape[axis_int] \u001B[38;5;241m<\u001B[39m\u001B[38;5;241m=\u001B[39m \u001B[38;5;241m1\u001B[39m:\n\u001B[1;32m--> 190\u001B[0m     \u001B[38;5;28;01mraise\u001B[39;00m \u001B[38;5;167;01mValueError\u001B[39;00m(\u001B[38;5;124m\"\u001B[39m\u001B[38;5;124meach sample in `data` must contain two or more \u001B[39m\u001B[38;5;124m\"\u001B[39m\n\u001B[0;32m    191\u001B[0m                      \u001B[38;5;124m\"\u001B[39m\u001B[38;5;124mobservations along `axis`.\u001B[39m\u001B[38;5;124m\"\u001B[39m)\n\u001B[0;32m    192\u001B[0m sample \u001B[38;5;241m=\u001B[39m np\u001B[38;5;241m.\u001B[39mmoveaxis(sample, axis_int, \u001B[38;5;241m-\u001B[39m\u001B[38;5;241m1\u001B[39m)\n\u001B[0;32m    193\u001B[0m data_iv\u001B[38;5;241m.\u001B[39mappend(sample)\n",
      "\u001B[1;31mValueError\u001B[0m: each sample in `data` must contain two or more observations along `axis`."
     ]
    }
   ],
   "source": [
    "conf_interval = bootstrap(poisson_arr, statistic=np.std, confidence_level=0.95, n_resamples=100, method=\"percentile\")\n",
    "\n",
    "print(\"95%-й доверительный интервал для среднеквадратичного отклонения (с использованием функции bootstrap):\", conf_interval)"
   ],
   "metadata": {
    "collapsed": false,
    "ExecuteTime": {
     "end_time": "2024-04-29T09:34:52.068951300Z",
     "start_time": "2024-04-29T09:34:52.039904900Z"
    }
   },
   "id": "b329fa7697ba0572"
  },
  {
   "cell_type": "code",
   "execution_count": 47,
   "outputs": [
    {
     "name": "stdout",
     "output_type": "stream",
     "text": [
      "95%-й доверительный интервал для среднеквадратичного отклонения: (6.754745314721535, 7.388556339990258)\n"
     ]
    }
   ],
   "source": [
    "import numpy as np\n",
    "\n",
    "def bootstrap_std(data, n_resamples=1000):\n",
    "    stds = []\n",
    "    n = len(data)\n",
    "    for _ in range(n_resamples):\n",
    "        resample = np.random.choice(data, size=n, replace=True)\n",
    "        stds.append(np.std(resample, ddof=1)) \n",
    "    return np.array(stds)\n",
    "\n",
    "poisson_arr = np.random.poisson(50, size=1000)\n",
    "\n",
    "bootstrap_stds = bootstrap_std(poisson_arr)\n",
    "\n",
    "lower_bound = np.percentile(bootstrap_stds, 2.5)\n",
    "upper_bound = np.percentile(bootstrap_stds, 97.5)\n",
    "\n",
    "print(\"95%-й доверительный интервал для среднеквадратичного отклонения:\", (lower_bound, upper_bound))\n"
   ],
   "metadata": {
    "collapsed": false,
    "ExecuteTime": {
     "end_time": "2024-04-29T09:36:25.281694100Z",
     "start_time": "2024-04-29T09:36:25.239981600Z"
    }
   },
   "id": "884c37ab3ee256c7"
  },
  {
   "cell_type": "markdown",
   "source": [
    "А теперь давайте воспользуемся доверительными интервалами, чтобы сделать более точные выводы о метриках модели.\n",
    "\n",
    "Для начала давайте скачаем данные:\n",
    "\n",
    "from sklearn.datasets import fetch_california_housing\n",
    "\n",
    "X, y = fetch_california_housing(return_X_y=True, as_frame=True)\n",
    "\n",
    "\n",
    "Это задача предсказания средней цены в области на дом. Давайте оценим 95-процентный доверительный интервал на MSE Ridge-регрессии для этой выборки. Будем использовать бутстрэп для этого.\n",
    "\n",
    "Для этого в цикле будем генерировать бутстрэп-выборки для обучения модели (то есть брать объекты из выборки с возвращением). В качестве тестовых объектов будем брать оставшиеся объекты. Каждый раз будем обучать модель и оценивать качество.\n",
    "\n",
    "Реализуйте такой код для 95-процентного доверительного интервала на MSE.\n",
    "\n",
    "Используйте 1000 итераций генераций выборки и обучения модели. Данные не обрабатывайте. Полезными методами будут np.random.choice для генерации индексов бутстрэп-выборок (не забудьте про «генерацию с возвращением»), np.setdiff1d для получения остатка выборки.\n",
    "\n",
    "На какой интервал больше всего похож ваш результат?"
   ],
   "metadata": {
    "collapsed": false
   },
   "id": "aac9576c0be6afa8"
  },
  {
   "cell_type": "code",
   "execution_count": 50,
   "outputs": [],
   "source": [
    "from sklearn.datasets import fetch_california_housing\n",
    "\n",
    "X, y = fetch_california_housing(return_X_y=True, as_frame=True)"
   ],
   "metadata": {
    "collapsed": false,
    "ExecuteTime": {
     "end_time": "2024-04-29T09:37:53.547401300Z",
     "start_time": "2024-04-29T09:37:50.576764Z"
    }
   },
   "id": "4def2c2d10c49a1"
  },
  {
   "cell_type": "code",
   "execution_count": 51,
   "outputs": [
    {
     "data": {
      "text/plain": "       MedInc  HouseAge  AveRooms  AveBedrms  Population  AveOccup  Latitude  \\\n0      8.3252      41.0  6.984127   1.023810       322.0  2.555556     37.88   \n1      8.3014      21.0  6.238137   0.971880      2401.0  2.109842     37.86   \n2      7.2574      52.0  8.288136   1.073446       496.0  2.802260     37.85   \n3      5.6431      52.0  5.817352   1.073059       558.0  2.547945     37.85   \n4      3.8462      52.0  6.281853   1.081081       565.0  2.181467     37.85   \n...       ...       ...       ...        ...         ...       ...       ...   \n20635  1.5603      25.0  5.045455   1.133333       845.0  2.560606     39.48   \n20636  2.5568      18.0  6.114035   1.315789       356.0  3.122807     39.49   \n20637  1.7000      17.0  5.205543   1.120092      1007.0  2.325635     39.43   \n20638  1.8672      18.0  5.329513   1.171920       741.0  2.123209     39.43   \n20639  2.3886      16.0  5.254717   1.162264      1387.0  2.616981     39.37   \n\n       Longitude  \n0        -122.23  \n1        -122.22  \n2        -122.24  \n3        -122.25  \n4        -122.25  \n...          ...  \n20635    -121.09  \n20636    -121.21  \n20637    -121.22  \n20638    -121.32  \n20639    -121.24  \n\n[20640 rows x 8 columns]",
      "text/html": "<div>\n<style scoped>\n    .dataframe tbody tr th:only-of-type {\n        vertical-align: middle;\n    }\n\n    .dataframe tbody tr th {\n        vertical-align: top;\n    }\n\n    .dataframe thead th {\n        text-align: right;\n    }\n</style>\n<table border=\"1\" class=\"dataframe\">\n  <thead>\n    <tr style=\"text-align: right;\">\n      <th></th>\n      <th>MedInc</th>\n      <th>HouseAge</th>\n      <th>AveRooms</th>\n      <th>AveBedrms</th>\n      <th>Population</th>\n      <th>AveOccup</th>\n      <th>Latitude</th>\n      <th>Longitude</th>\n    </tr>\n  </thead>\n  <tbody>\n    <tr>\n      <th>0</th>\n      <td>8.3252</td>\n      <td>41.0</td>\n      <td>6.984127</td>\n      <td>1.023810</td>\n      <td>322.0</td>\n      <td>2.555556</td>\n      <td>37.88</td>\n      <td>-122.23</td>\n    </tr>\n    <tr>\n      <th>1</th>\n      <td>8.3014</td>\n      <td>21.0</td>\n      <td>6.238137</td>\n      <td>0.971880</td>\n      <td>2401.0</td>\n      <td>2.109842</td>\n      <td>37.86</td>\n      <td>-122.22</td>\n    </tr>\n    <tr>\n      <th>2</th>\n      <td>7.2574</td>\n      <td>52.0</td>\n      <td>8.288136</td>\n      <td>1.073446</td>\n      <td>496.0</td>\n      <td>2.802260</td>\n      <td>37.85</td>\n      <td>-122.24</td>\n    </tr>\n    <tr>\n      <th>3</th>\n      <td>5.6431</td>\n      <td>52.0</td>\n      <td>5.817352</td>\n      <td>1.073059</td>\n      <td>558.0</td>\n      <td>2.547945</td>\n      <td>37.85</td>\n      <td>-122.25</td>\n    </tr>\n    <tr>\n      <th>4</th>\n      <td>3.8462</td>\n      <td>52.0</td>\n      <td>6.281853</td>\n      <td>1.081081</td>\n      <td>565.0</td>\n      <td>2.181467</td>\n      <td>37.85</td>\n      <td>-122.25</td>\n    </tr>\n    <tr>\n      <th>...</th>\n      <td>...</td>\n      <td>...</td>\n      <td>...</td>\n      <td>...</td>\n      <td>...</td>\n      <td>...</td>\n      <td>...</td>\n      <td>...</td>\n    </tr>\n    <tr>\n      <th>20635</th>\n      <td>1.5603</td>\n      <td>25.0</td>\n      <td>5.045455</td>\n      <td>1.133333</td>\n      <td>845.0</td>\n      <td>2.560606</td>\n      <td>39.48</td>\n      <td>-121.09</td>\n    </tr>\n    <tr>\n      <th>20636</th>\n      <td>2.5568</td>\n      <td>18.0</td>\n      <td>6.114035</td>\n      <td>1.315789</td>\n      <td>356.0</td>\n      <td>3.122807</td>\n      <td>39.49</td>\n      <td>-121.21</td>\n    </tr>\n    <tr>\n      <th>20637</th>\n      <td>1.7000</td>\n      <td>17.0</td>\n      <td>5.205543</td>\n      <td>1.120092</td>\n      <td>1007.0</td>\n      <td>2.325635</td>\n      <td>39.43</td>\n      <td>-121.22</td>\n    </tr>\n    <tr>\n      <th>20638</th>\n      <td>1.8672</td>\n      <td>18.0</td>\n      <td>5.329513</td>\n      <td>1.171920</td>\n      <td>741.0</td>\n      <td>2.123209</td>\n      <td>39.43</td>\n      <td>-121.32</td>\n    </tr>\n    <tr>\n      <th>20639</th>\n      <td>2.3886</td>\n      <td>16.0</td>\n      <td>5.254717</td>\n      <td>1.162264</td>\n      <td>1387.0</td>\n      <td>2.616981</td>\n      <td>39.37</td>\n      <td>-121.24</td>\n    </tr>\n  </tbody>\n</table>\n<p>20640 rows × 8 columns</p>\n</div>"
     },
     "execution_count": 51,
     "metadata": {},
     "output_type": "execute_result"
    }
   ],
   "source": [
    "X"
   ],
   "metadata": {
    "collapsed": false,
    "ExecuteTime": {
     "end_time": "2024-04-29T09:56:29.190129800Z",
     "start_time": "2024-04-29T09:56:29.167623800Z"
    }
   },
   "id": "190c97ecf75a77bd"
  },
  {
   "cell_type": "code",
   "execution_count": 52,
   "outputs": [],
   "source": [
    "from sklearn.linear_model import Ridge\n",
    "from sklearn.metrics import mean_squared_error"
   ],
   "metadata": {
    "collapsed": false,
    "ExecuteTime": {
     "end_time": "2024-04-29T09:59:29.520762Z",
     "start_time": "2024-04-29T09:59:29.089163900Z"
    }
   },
   "id": "ad1c92dd377cb04c"
  },
  {
   "cell_type": "code",
   "execution_count": 53,
   "outputs": [
    {
     "data": {
      "text/plain": "array([0.50520108, 1.06745406])"
     },
     "execution_count": 53,
     "metadata": {},
     "output_type": "execute_result"
    }
   ],
   "source": [
    "total_MSE = []\n",
    "for i in range(1000):\n",
    "    train_index = np.random.choice(X.index, size=int(len(X)), replace=True)\n",
    "    test_index = np.setdiff1d(X.index,X.iloc[train_index].index)\n",
    "    \n",
    "    \n",
    "    X_train = X.iloc[train_index]\n",
    "    y_train = y.iloc[train_index]\n",
    "    X_test = X.iloc[test_index]\n",
    "    y_test = y.iloc[test_index]\n",
    "\n",
    "    \n",
    "    model = Ridge()\n",
    "    model.fit(X_train,y_train)\n",
    "    \n",
    "    total_MSE.append(mean_squared_error(y_test, model.predict(X_test)))\n",
    "\n",
    "\n",
    "np.quantile(total_MSE, [0.025, 0.975])"
   ],
   "metadata": {
    "collapsed": false,
    "ExecuteTime": {
     "end_time": "2024-04-29T10:00:26.103507300Z",
     "start_time": "2024-04-29T10:00:19.838686400Z"
    }
   },
   "id": "42482e51e2261f1"
  },
  {
   "cell_type": "markdown",
   "source": [
    "Давайте оценим, насколько хорошие интервалы у нас получается строить.\n",
    "\n",
    "Напишите функцию, которая генерирует случайную выборку из нормального распределения (давайте возьмём среднее значение, равное 3, среднеквадратичное отклонение, равное 4, а в выборке будет 1000 объектов).\n",
    "\n",
    "Возьмите из предыдущих заданий код для построения соответствующего 95-процентного доверительного интервала для среднего на основе центральной предельной теоремы.\n",
    "\n",
    "Повторите процедуру генерации выборки, построения доверительного интервала 1000 раз. Каждый раз проверяйте, действительно ли доверительный интервал покрыл ваше истинное среднее значение. \n",
    "\n",
    "Посчитайте долю случаев, когда интервал покрыл истинное значение. Ближе к какому значению вы получили ответ?"
   ],
   "metadata": {
    "collapsed": false
   },
   "id": "678112f6a446f0d2"
  },
  {
   "cell_type": "code",
   "execution_count": 63,
   "outputs": [
    {
     "name": "stdout",
     "output_type": "stream",
     "text": [
      "Доля случаев, когда доверительный интервал покрыл истинное среднее значение: 0.946\n"
     ]
    }
   ],
   "source": [
    "import numpy as np\n",
    "from scipy.stats import norm\n",
    "\n",
    "def generate_sample(mean, std, size):\n",
    "    return np.random.normal(mean, std, size)\n",
    "\n",
    "def confidence_interval(sample, alpha=0.05):\n",
    "    n = len(sample)\n",
    "    sample_mean = np.mean(sample)\n",
    "    sample_std = np.std(sample, ddof=1)\n",
    "    z_score = norm.ppf(1 - alpha / 2)\n",
    "    margin_of_error = z_score * (sample_std / np.sqrt(n))\n",
    "    lower_bound = sample_mean - margin_of_error\n",
    "    upper_bound = sample_mean + margin_of_error\n",
    "    return lower_bound, upper_bound\n",
    "\n",
    "true_mean = 3\n",
    "std_dev = 4\n",
    "sample_size = 1000\n",
    "alpha = 0.05\n",
    "num_trials = 1000\n",
    "\n",
    "covered_count = 0\n",
    "for _ in range(num_trials):\n",
    "    sample = generate_sample(true_mean, std_dev, sample_size)\n",
    "    lower_bound, upper_bound = confidence_interval(sample, alpha)\n",
    "    \n",
    "    if lower_bound <= true_mean <= upper_bound:\n",
    "        covered_count += 1\n",
    "\n",
    "coverage_probability = covered_count / num_trials\n",
    "print(\"Доля случаев, когда доверительный интервал покрыл истинное среднее значение:\", coverage_probability)\n"
   ],
   "metadata": {
    "collapsed": false,
    "ExecuteTime": {
     "end_time": "2024-04-29T10:13:20.965163400Z",
     "start_time": "2024-04-29T10:13:20.840247400Z"
    }
   },
   "id": "7337338c08057673"
  },
  {
   "cell_type": "code",
   "execution_count": null,
   "outputs": [],
   "source": [],
   "metadata": {
    "collapsed": false
   },
   "id": "832011c7d9a05236"
  }
 ],
 "metadata": {
  "kernelspec": {
   "display_name": "Python 3",
   "language": "python",
   "name": "python3"
  },
  "language_info": {
   "codemirror_mode": {
    "name": "ipython",
    "version": 2
   },
   "file_extension": ".py",
   "mimetype": "text/x-python",
   "name": "python",
   "nbconvert_exporter": "python",
   "pygments_lexer": "ipython2",
   "version": "2.7.6"
  }
 },
 "nbformat": 4,
 "nbformat_minor": 5
}
