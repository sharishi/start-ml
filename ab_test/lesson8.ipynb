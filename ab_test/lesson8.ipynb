{
 "cells": [
  {
   "cell_type": "code",
   "execution_count": 5,
   "outputs": [],
   "source": [
    "import numpy as np\n",
    "from scipy import stats"
   ],
   "metadata": {
    "collapsed": false,
    "ExecuteTime": {
     "end_time": "2024-05-20T10:15:34.532512900Z",
     "start_time": "2024-05-20T10:15:34.530504600Z"
    }
   },
   "id": "22f432bcf3ac3d82"
  },
  {
   "cell_type": "markdown",
   "source": [
    "Одно из условий применимости t-критерия Стьюдента — нормальность исходных данных (хотя на деле тест всё же устойчив к отклонениям).\n",
    "\n",
    "Но давайте проверим, сломается ли что-то, если мы будем подавать в t-критерий Стьюдента данные не из нормального распределения.\n",
    "\n",
    "Представим, что мы хотим сравнить скрипты, по которым обзваниваем наших клиентов с предложением о новой услуге. В результате клиенты либо соглашаются, либо нет. Хотим оценить, лучше ли новый скрипт, чем старый.\n",
    "\n",
    "Для этого реализуйте функцию, которая будет генерировать две выборки одного размера из распределения Бернулли (пусть количество клиентов в группе равно 1000, а вероятность для генерации равна 0.2), оценивать с помощью t-критерия Стьюдента p-value для гипотезы о равенстве средних.\n",
    "\n",
    "С помощью этой функции просимулируйте 1000-10000 раз A/A тест и посмотрите на распределение p-value. Также можно оценить долю ложноположительных ошибок. Можете ли вы сказать, что из-за неправильного применения t-критерия Стьюдента сломалась процедура A/B тестирования?"
   ],
   "metadata": {
    "collapsed": false
   },
   "id": "dd037c965c230209"
  },
  {
   "cell_type": "code",
   "execution_count": 6,
   "id": "initial_id",
   "metadata": {
    "collapsed": true,
    "ExecuteTime": {
     "end_time": "2024-05-20T10:15:35.058825600Z",
     "start_time": "2024-05-20T10:15:35.048813900Z"
    }
   },
   "outputs": [],
   "source": [
    "def generate_and_test(n=1000, p=0.2):\n",
    "    # Генерация двух выборок из распределения Бернулли\n",
    "    group1 = np.random.binomial(1, p, n)\n",
    "    group2 = np.random.binomial(1, p, n)\n",
    "    \n",
    "    t_stat, p_value = stats.ttest_ind(group1, group2)\n",
    "    \n",
    "    return p_value"
   ]
  },
  {
   "cell_type": "code",
   "execution_count": 12,
   "outputs": [],
   "source": [
    "def simulate_test(num=10000):\n",
    "    p_values = [generate_and_test() for i in range(num)]\n",
    "    return np.array(p_values)"
   ],
   "metadata": {
    "collapsed": false,
    "ExecuteTime": {
     "end_time": "2024-05-20T10:16:57.126237600Z",
     "start_time": "2024-05-20T10:16:57.104231100Z"
    }
   },
   "id": "9ab295c0776cf4b5"
  },
  {
   "cell_type": "code",
   "execution_count": 13,
   "outputs": [],
   "source": [
    "def count(values):\n",
    "    return np.sum(values < 0.05)/len(values)"
   ],
   "metadata": {
    "collapsed": false,
    "ExecuteTime": {
     "end_time": "2024-05-20T10:16:57.564778500Z",
     "start_time": "2024-05-20T10:16:57.555769900Z"
    }
   },
   "id": "c813cb0a0f1e7a88"
  },
  {
   "cell_type": "code",
   "execution_count": 14,
   "outputs": [
    {
     "name": "stdout",
     "output_type": "stream",
     "text": [
      "Распределение p-value:\n",
      "[0.66071562 0.91247163 0.55191843 ... 0.62236045 0.739334   0.08735467]\n",
      "Доля ложноположительных ошибок (alpha=0.05): 0.0499\n"
     ]
    }
   ],
   "source": [
    "p_values = simulate_test()\n",
    "print(\"Распределение p-value:\")\n",
    "print(p_values)\n",
    "\n",
    "false_positive_rate = count(p_values)\n",
    "print(f\"Доля ложноположительных ошибок (alpha=0.05): {false_positive_rate:.4f}\")"
   ],
   "metadata": {
    "collapsed": false,
    "ExecuteTime": {
     "end_time": "2024-05-20T10:17:02.095200200Z",
     "start_time": "2024-05-20T10:16:57.951814600Z"
    }
   },
   "id": "25ccb090730dd1cf"
  },
  {
   "cell_type": "markdown",
   "source": [
    "Оцените минимальный размер выборки по формуле из лекции, если мы хотим иметь ошибку первого рода, равную 5%, мощность 90%, дисперсия нашей метрики равна 10, а эффект, который мы хотели бы детектировать, равен 0.5.\n",
    "\n",
    "При использовании формулы вы заметите, что для вычисления вам уже нужно знать размер выборки (как число степеней свободы распределения Стьюдента), однако от этого значения не зависит порядок вычисленного числа, поэтому можете попробовать подставить разные значения (в том числе ближе к тому, которое вы в итоге будете получать). Величину какого порядка вы получили? Заметим, что это размер одной из групп при условии, что группы в нашем эксперименте одинакового размера."
   ],
   "metadata": {
    "collapsed": false
   },
   "id": "35e3ecdf96e4ca36"
  },
  {
   "cell_type": "code",
   "execution_count": 18,
   "outputs": [
    {
     "name": "stdout",
     "output_type": "stream",
     "text": [
      "Минимальный размер выборки: 841\n"
     ]
    }
   ],
   "source": [
    "import scipy.stats as stats\n",
    "import math\n",
    "\n",
    "def calculate_sample_size(alpha=0.05, power=0.90, sigma_squared=10, delta=0.5):\n",
    "    z_alpha = stats.norm.ppf(1 - alpha / 2)\n",
    "    z_beta = stats.norm.ppf(power)\n",
    "    \n",
    "    n = ((z_alpha + z_beta)**2 * 2 * sigma_squared) / delta**2\n",
    "    \n",
    "    return math.ceil(n) \n",
    "\n",
    "\n",
    "sample_size = calculate_sample_size()\n",
    "\n",
    "print(f\"Минимальный размер выборки: {sample_size}\")\n"
   ],
   "metadata": {
    "collapsed": false,
    "ExecuteTime": {
     "end_time": "2024-05-20T10:21:43.830350500Z",
     "start_time": "2024-05-20T10:21:43.820822500Z"
    }
   },
   "id": "4b6600823b98b77a"
  },
  {
   "cell_type": "markdown",
   "source": [
    "А теперь давайте попробуем оценить мощность с помощью симуляций, похожих на A/A эксперименты.\n",
    "\n",
    "Предположим, что мы оцениваем, сколько времени пользователи проводят при изучении нашего рекламного предложения (сколько времени проходит от открытия до закрытия веб-страницы). До запуска эксперимента мы бы хотели понимать, какую мощность нам стоит ожидать, если мы будем запускать эксперимент на неделю.\n",
    "\n",
    "Для этого аналогично процедуре проверки системы экспериментирования в A/A экспериментах реализуйте функцию, где будете генерировать две выборки из нормального распределения (предполагаем, что время распределено нормально со средним в контрольной группе 200 секунд и среднеквадратичным отклонением 30) одинакового размера (у нас 1000 пользователей в неделю, мы разбиваем их на 2 группы).\n",
    "\n",
    "Повторите процедуру «эксперимента» 1000-10000 раз, оцените, в каком проценте случаев мы будем детектировать изменение в метрике, если в тестовой группе среднее будет равно 205 секунд. Это и будет мощностью в нашем эксперименте. В качестве статистического критерия используйте t-критерий Стьюдента, альтернатива двусторонняя, уровень значимости 0.05."
   ],
   "metadata": {
    "collapsed": false
   },
   "id": "f421c54f50255950"
  },
  {
   "cell_type": "code",
   "execution_count": 33,
   "outputs": [],
   "source": [
    "def generate(mean=200,mean_t = 205, std=30, n=500):\n",
    "    group1 = np.random.normal(mean, std, n)\n",
    "    group2 = np.random.normal(mean_t, std, n)\n",
    "    \n",
    "    t_stat, p_value = stats.ttest_ind(group1, group2)\n",
    "    \n",
    "    return p_value < 0.05"
   ],
   "metadata": {
    "collapsed": false,
    "ExecuteTime": {
     "end_time": "2024-05-20T10:35:54.110945500Z",
     "start_time": "2024-05-20T10:35:54.105946500Z"
    }
   },
   "id": "7e035963a283153e"
  },
  {
   "cell_type": "code",
   "execution_count": 34,
   "outputs": [],
   "source": [
    "def simulate_power(num_simulations=10000):\n",
    "    results = [generate() for _ in range(num_simulations)]\n",
    "    power = np.mean(results) \n",
    "    return power"
   ],
   "metadata": {
    "collapsed": false,
    "ExecuteTime": {
     "end_time": "2024-05-20T10:35:54.569868500Z",
     "start_time": "2024-05-20T10:35:54.539859200Z"
    }
   },
   "id": "3c674bc6251c94a1"
  },
  {
   "cell_type": "code",
   "execution_count": 35,
   "outputs": [
    {
     "name": "stdout",
     "output_type": "stream",
     "text": [
      "оценка мощности:\n",
      "0.7564\n"
     ]
    }
   ],
   "source": [
    "power = simulate_power()\n",
    "print(\"оценка мощности:\")\n",
    "print(power)"
   ],
   "metadata": {
    "collapsed": false,
    "ExecuteTime": {
     "end_time": "2024-05-20T10:35:59.037663600Z",
     "start_time": "2024-05-20T10:35:54.936062500Z"
    }
   },
   "id": "1aabe6a064b6ca69"
  },
  {
   "cell_type": "code",
   "execution_count": 32,
   "outputs": [
    {
     "name": "stdout",
     "output_type": "stream",
     "text": [
      "Оцененная мощность эксперимента: 0.7408\n"
     ]
    }
   ],
   "source": [
    "import numpy as np\n",
    "from scipy import stats\n",
    "\n",
    "# Параметры\n",
    "mu_control = 200  # Среднее время в контрольной группе\n",
    "mu_test = 205     # Среднее время в тестовой группе\n",
    "sigma = 30        # Среднеквадратическое отклонение\n",
    "n_users = 1000    # Количество пользователей в неделю\n",
    "n_iterations = 10000  # Количество итераций для симуляции\n",
    "alpha = 0.05      # Уровень значимости\n",
    "\n",
    "# Функция для проведения одного эксперимента\n",
    "def run_experiment():\n",
    "    control_group = np.random.normal(mu_control, sigma, n_users // 2)\n",
    "    test_group = np.random.normal(mu_test, sigma, n_users // 2)\n",
    "    \n",
    "    # t-критерий Стьюдента\n",
    "    t_stat, p_value = stats.ttest_ind(control_group, test_group)\n",
    "    \n",
    "    # Проверяем, является ли p-value меньше уровня значимости\n",
    "    return p_value < alpha\n",
    "\n",
    "# Проводим эксперименты\n",
    "results = [run_experiment() for _ in range(n_iterations)]\n",
    "\n",
    "# Оцениваем мощность\n",
    "power = np.mean(results)\n",
    "print(f'Оцененная мощность эксперимента: {power:.4f}')\n"
   ],
   "metadata": {
    "collapsed": false,
    "ExecuteTime": {
     "end_time": "2024-05-20T10:33:57.994848800Z",
     "start_time": "2024-05-20T10:33:53.906410700Z"
    }
   },
   "id": "8bd71324350a5d1"
  },
  {
   "cell_type": "code",
   "execution_count": null,
   "outputs": [],
   "source": [],
   "metadata": {
    "collapsed": false
   },
   "id": "74e87e2fffc17dcf"
  }
 ],
 "metadata": {
  "kernelspec": {
   "display_name": "Python 3",
   "language": "python",
   "name": "python3"
  },
  "language_info": {
   "codemirror_mode": {
    "name": "ipython",
    "version": 2
   },
   "file_extension": ".py",
   "mimetype": "text/x-python",
   "name": "python",
   "nbconvert_exporter": "python",
   "pygments_lexer": "ipython2",
   "version": "2.7.6"
  }
 },
 "nbformat": 4,
 "nbformat_minor": 5
}
