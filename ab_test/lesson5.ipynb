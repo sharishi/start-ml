{
 "cells": [
  {
   "cell_type": "code",
   "execution_count": 1,
   "id": "initial_id",
   "metadata": {
    "collapsed": true,
    "ExecuteTime": {
     "end_time": "2024-05-02T11:41:03.165144800Z",
     "start_time": "2024-05-02T11:41:02.827820500Z"
    }
   },
   "outputs": [],
   "source": [
    "from sklearn.datasets import fetch_california_housing\n",
    "from sklearn.model_selection import cross_val_predict\n",
    "from sklearn.model_selection import KFold\n",
    "from sklearn.preprocessing import StandardScaler\n",
    "\n",
    "data = fetch_california_housing(as_frame=True, return_X_y=True)\n",
    "df, target = data[0], data[1] \n",
    "df = StandardScaler().fit_transform(df)\n",
    "\n",
    "cv = KFold(n_splits=4, shuffle=True, random_state=6)"
   ]
  },
  {
   "cell_type": "code",
   "execution_count": 2,
   "outputs": [
    {
     "name": "stdout",
     "output_type": "stream",
     "text": [
      "RMSE для Ridge с alpha=1: 0.7283772378148317\n",
      "RMSE для Ridge с alpha=10: 0.7283219021033459\n"
     ]
    }
   ],
   "source": [
    "from sklearn.linear_model import Ridge\n",
    "from sklearn.metrics import mean_squared_error\n",
    "\n",
    "ridge1 = Ridge(alpha=1)\n",
    "predictions1 = cross_val_predict(ridge1, df, target, cv=cv)\n",
    "\n",
    "ridge10 = Ridge(alpha=10)\n",
    "predictions10 = cross_val_predict(ridge10, df, target, cv=cv)\n",
    "\n",
    "mse1 = mean_squared_error(target, predictions1, squared=False)\n",
    "mse10 = mean_squared_error(target, predictions10, squared=False)\n",
    "\n",
    "print(\"RMSE для Ridge с alpha=1:\", mse1)\n",
    "print(\"RMSE для Ridge с alpha=10:\", mse10)"
   ],
   "metadata": {
    "collapsed": false,
    "ExecuteTime": {
     "end_time": "2024-05-02T11:43:12.982533500Z",
     "start_time": "2024-05-02T11:43:12.756296800Z"
    }
   },
   "id": "6757ae635650240a"
  },
  {
   "cell_type": "code",
   "execution_count": 8,
   "outputs": [
    {
     "name": "stdout",
     "output_type": "stream",
     "text": [
      "hi\n",
      "p-value для сравнения медиан: 0\n",
      "Различие медиан статистически значимо.\n"
     ]
    }
   ],
   "source": [
    "import numpy as np\n",
    "\n",
    "def sign_test(x, y):\n",
    "    n = int(x)\n",
    "    signs = np.sign(x - y)\n",
    "    n_plus = np.sum(signs > 0)\n",
    "    n_minus = np.sum(signs < 0)\n",
    "    print('hi')\n",
    "    \n",
    "    p_value = 2 * min(min(n_plus, n_minus), 0.5*n)\n",
    "    return p_value\n",
    "\n",
    "p_value = sign_test(mse1, mse10)\n",
    "print(\"p-value для сравнения медиан:\", p_value)\n",
    "\n",
    "if p_value < 0.05:\n",
    "    print(\"Различие медиан статистически значимо.\")\n",
    "else:\n",
    "    print(\"Нет статистически значимого различия медиан.\")\n"
   ],
   "metadata": {
    "collapsed": false,
    "ExecuteTime": {
     "end_time": "2024-05-02T11:46:28.274999900Z",
     "start_time": "2024-05-02T11:46:28.264484700Z"
    }
   },
   "id": "7dd7aa2d59eff178"
  },
  {
   "cell_type": "markdown",
   "source": [
    "Некоторые непараметрические статистические критерии делают переход к рангам.\n",
    "\n",
    "Посчитайте ранги для элементов следующей выборки. Ранги равных по значениям элементов считайте так же, как мы это делали на уроке.\n",
    "\n",
    "[7, 1, 5, 1, 3, 2, 5]"
   ],
   "metadata": {
    "collapsed": false
   },
   "id": "72e88f044d3497dc"
  },
  {
   "cell_type": "code",
   "execution_count": 9,
   "outputs": [
    {
     "data": {
      "text/plain": "array([7. , 1.5, 5.5, 1.5, 4. , 3. , 5.5])"
     },
     "execution_count": 9,
     "metadata": {},
     "output_type": "execute_result"
    }
   ],
   "source": [
    "import scipy.stats\n",
    "scipy.stats.rankdata([7, 1, 5, 1, 3, 2, 5], method='average')"
   ],
   "metadata": {
    "collapsed": false,
    "ExecuteTime": {
     "end_time": "2024-05-02T15:06:57.807618300Z",
     "start_time": "2024-05-02T15:06:57.803638800Z"
    }
   },
   "id": "79e17fd806c52f92"
  },
  {
   "cell_type": "markdown",
   "source": [
    "В критерии Манна-Уитни-Уилкоксона распределение статистики табличное. Статистикой выступает сумма рангов первой выборки в объединённой выборке.\n",
    "\n",
    "Представим, что у нас две выборки: первая размера 2, а вторая размера 3. Все значения в выборках различаются.\n",
    "\n",
    "Постройте соответствующее этому случаю табличное распределение и ответьте на вопрос, с какой вероятностью мы могли встретить значения статистики 7 и более среди всех возможных значений статистики при верности нулевой гипотезы о том, что распределения не различаются.\n",
    "\n",
    "Это задание удобнее делать на листочке без написания кода."
   ],
   "metadata": {
    "collapsed": false
   },
   "id": "4b77eda79dac9a39"
  },
  {
   "cell_type": "code",
   "execution_count": null,
   "outputs": [],
   "source": [
    "#решение: 0.4"
   ],
   "metadata": {
    "collapsed": false
   },
   "id": "d446032c925608b3"
  },
  {
   "cell_type": "markdown",
   "source": [
    "В прошлом уроке мы сравнивали средние доходы (MedInc) между районами, где дома моложе 30 лет (включительно) и старше 30 лет (HouseAge). Однако тогда мы заметили, что случайная величина распределена не нормально.\n",
    "\n",
    "Давайте воспользуемся непараметрическими статистическими критериями, которые не делают предположений на вид распределения.\n",
    "\n",
    "Примените критерий Манна-Уитни-Уилкоксона к выборке и сравните, различаются ли распределения между выборками. Какой вывод вы можете сделать? Альтернатива двусторонняя."
   ],
   "metadata": {
    "collapsed": false
   },
   "id": "c0cf589312d0543d"
  },
  {
   "cell_type": "code",
   "execution_count": 10,
   "outputs": [],
   "source": [
    "from sklearn.datasets import fetch_california_housing\n",
    "\n",
    "data = fetch_california_housing(as_frame=True, return_X_y=True)\n",
    "df, target = data[0], data[1] "
   ],
   "metadata": {
    "collapsed": false,
    "ExecuteTime": {
     "end_time": "2024-05-02T15:32:02.747187800Z",
     "start_time": "2024-05-02T15:32:02.715765900Z"
    }
   },
   "id": "e84736ccac87d35b"
  },
  {
   "cell_type": "code",
   "execution_count": 11,
   "outputs": [],
   "source": [
    "import pandas as pd\n",
    "\n",
    "df_wt = pd.concat([df, target], axis=1)\n",
    "income_district_1 = df_wt[df_wt[\"HouseAge\"] <= 30]\n",
    "income_district_2 = df_wt[df_wt[\"HouseAge\"] > 30]"
   ],
   "metadata": {
    "collapsed": false,
    "ExecuteTime": {
     "end_time": "2024-05-02T15:33:56.180490400Z",
     "start_time": "2024-05-02T15:33:56.152821900Z"
    }
   },
   "id": "8ff33ecdff2b8860"
  },
  {
   "cell_type": "code",
   "execution_count": 16,
   "outputs": [
    {
     "name": "stdout",
     "output_type": "stream",
     "text": [
      "Статистика критерия: [59254034.5        0.  64370004.5 60117703.  68340137.  52169558.\n",
      " 52772225.5 58601548.5 49651963.5]\n",
      "p-value: [5.34519869e-050 0.00000000e+000 6.63212500e-159 5.15048228e-064\n",
      " 2.20078456e-286 8.22820824e-002 7.45171789e-001 1.38430158e-040\n",
      " 2.18979809e-014]\n"
     ]
    }
   ],
   "source": [
    "import numpy as np\n",
    "from scipy.stats import mannwhitneyu\n",
    "\n",
    "statistic, p_value = mannwhitneyu(income_district_1, income_district_2, alternative='two-sided')\n",
    "\n",
    "\n",
    "print(\"Статистика критерия:\", statistic)\n",
    "print(\"p-value:\", p_value)"
   ],
   "metadata": {
    "collapsed": false,
    "ExecuteTime": {
     "end_time": "2024-05-02T15:47:56.984008500Z",
     "start_time": "2024-05-02T15:47:56.885132200Z"
    }
   },
   "id": "29690e1f08b2cb14"
  },
  {
   "cell_type": "markdown",
   "source": [
    "Представим, что мы хотели бы зафиксировать ошибку первого рода при применении статистического критерия на уровне 1%. У нас есть 12 экспериментальных моделей, среди которых мы хотим найти те, которые будут отличаться от текущей в лучшую сторону.\n",
    "\n",
    "Какая ошибка первого рода «хотя бы одна из моделей случайно покажется лучше контрольной» у нас будет на самом деле? Результаты всех моделей независимы друг от друга."
   ],
   "metadata": {
    "collapsed": false
   },
   "id": "69349e6788d20b24"
  },
  {
   "cell_type": "code",
   "execution_count": null,
   "outputs": [],
   "source": [
    "#решение:11.4%"
   ],
   "metadata": {
    "collapsed": false
   },
   "id": "622377335a16b64f"
  }
 ],
 "metadata": {
  "kernelspec": {
   "display_name": "Python 3",
   "language": "python",
   "name": "python3"
  },
  "language_info": {
   "codemirror_mode": {
    "name": "ipython",
    "version": 2
   },
   "file_extension": ".py",
   "mimetype": "text/x-python",
   "name": "python",
   "nbconvert_exporter": "python",
   "pygments_lexer": "ipython2",
   "version": "2.7.6"
  }
 },
 "nbformat": 4,
 "nbformat_minor": 5
}
